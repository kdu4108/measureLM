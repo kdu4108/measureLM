{
 "cells": [
  {
   "cell_type": "markdown",
   "id": "8ce2fcce",
   "metadata": {},
   "source": [
    "# LDA Subspace"
   ]
  },
  {
   "cell_type": "code",
   "execution_count": 2,
   "id": "44457878",
   "metadata": {},
   "outputs": [],
   "source": [
    "import numpy as np\n",
    "import torch\n",
    "\n",
    "import matplotlib\n",
    "import matplotlib.pyplot as plt\n",
    "from sklearn.decomposition import PCA\n",
    "\n",
    "matplotlib.rcParams['axes.spines.right'] = False\n",
    "matplotlib.rcParams['axes.spines.top'] = False\n",
    "\n",
    "def plot_2D_scatter(X_trans, y):\n",
    "    fig, (ax) = plt.subplots(1, figsize=(5, 5), gridspec_kw={'hspace': 0.40})\n",
    "    ax.scatter(X_trans[:, 0], X_trans[:, 1], c=y)\n",
    "    plt.show()"
   ]
  },
  {
   "cell_type": "markdown",
   "id": "d74b1c56",
   "metadata": {},
   "source": [
    "# Numpy / Torch Mixture"
   ]
  },
  {
   "cell_type": "code",
   "execution_count": 3,
   "id": "70bb7f93",
   "metadata": {},
   "outputs": [],
   "source": [
    "X_1 = torch.normal(1, 0.4, size=(5,20))\n",
    "y_1 = torch.zeros(5)\n",
    "X_2 = torch.normal(1, 1.2, size=(5,20))\n",
    "y_2 = torch.ones(5)\n",
    "\n",
    "X = torch.cat((X_1, X_2))\n",
    "y = torch.cat((y_1, y_2))"
   ]
  },
  {
   "cell_type": "code",
   "execution_count": 5,
   "id": "bc3de086",
   "metadata": {},
   "outputs": [
    {
     "data": {
      "image/png": "[encoded data removed]",
      "text/plain": [
       "<Figure size 500x500 with 1 Axes>"
      ]
     },
     "metadata": {},
     "output_type": "display_data"
    }
   ],
   "source": [
    "class LDA:\n",
    "\n",
    "    def fit(self, X, y):\n",
    "        n_features = X.shape[1]\n",
    "        class_labels = np.unique(y)\n",
    "\n",
    "        # Within class scatter matrix:\n",
    "        # SW = sum((X_c - mean_X_c)^2 )\n",
    "\n",
    "        # Between class scatter:\n",
    "        # SB = sum( n_c * (mean_X_c - mean_overall)^2 )\n",
    "\n",
    "        mean_overall = np.mean(X, axis=0)\n",
    "        SW = np.zeros((n_features, n_features))\n",
    "        SB = np.zeros((n_features, n_features))\n",
    "        for c in class_labels:\n",
    "            X_c = X[y == c]\n",
    "\n",
    "            mean_c = np.mean(X_c, axis=0)\n",
    "            # (4, n_c) * (n_c, 4) = (4,4) -> transpose\n",
    "            SW += (X_c - mean_c).T.dot((X_c - mean_c))\n",
    "\n",
    "            # (4, 1) * (1, 4) = (4,4) -> reshape\n",
    "            n_c = X_c.shape[0]\n",
    "            mean_diff = (mean_c - mean_overall).reshape(n_features, 1)\n",
    "            SB += n_c * (mean_diff).dot(mean_diff.T)\n",
    "\n",
    "        # Determine SW^-1 * SB\n",
    "        A = np.linalg.inv(SW).dot(SB)\n",
    "        # Get eigenvalues and eigenvectors of SW^-1 * SB\n",
    "        eigenvalues, eigenvectors = np.linalg.eig(A)\n",
    "\n",
    "\n",
    "        # -> eigenvector v = [:,i] column vector, transpose for easier calculations\n",
    "        # sort eigenvalues high to low\n",
    "        eigenvectors = eigenvectors.T\n",
    "        \n",
    "        idxs = np.argsort(abs(eigenvalues))[::-1]\n",
    "        self.eigenvals = eigenvalues[idxs]\n",
    "        self.eigenvecs = eigenvectors[idxs]\n",
    "        self.inverse_eigenvecs = np.linalg.inv(eigenvectors[idxs])\n",
    "\n",
    "    \n",
    "lda = LDA()\n",
    "lda.fit(X.numpy(),y.numpy())\n",
    "X_trans = X@ lda.eigenvecs.T\n",
    "\n",
    "plot_2D_scatter(X_trans, y)\n",
    "\n",
    "X_recovered = (X_trans@ lda.inverse_eigenvecs.T).real\n"
   ]
  },
  {
   "cell_type": "code",
   "execution_count": 7,
   "id": "32aae30b",
   "metadata": {},
   "outputs": [
    {
     "data": {
      "text/plain": [
       "tensor([[-0., 0., 0., -0., 0., -0., -0., -0., -0., 0., -0., -0., -0., 0., -0., -0., -0., 0., 0., -0.],\n",
       "        [-0., 0., 0., -0., 0., -0., -0., -0., -0., -0., -0., -0., -0., 0., -0., 0., -0., 0., 0., -0.],\n",
       "        [-0., 0., 0., -0., 0., -0., -0., -0., -0., 0., -0., -0., -0., 0., -0., 0., 0., 0., 0., -0.],\n",
       "        [0., 0., 0., -0., 0., -0., -0., -0., -0., -0., -0., -0., -0., 0., -0., 0., 0., 0., 0., -0.],\n",
       "        [0., 0., 0., -0., 0., -0., -0., -0., -0., -0., -0., -0., -0., 0., -0., 0., -0., 0., 0., -0.],\n",
       "        [0., 0., 0., 0., 0., -0., -0., -0., -0., -0., -0., -0., -0., 0., -0., 0., -0., 0., 0., 0.],\n",
       "        [-0., 0., 0., -0., 0., -0., -0., -0., -0., -0., -0., -0., -0., 0., -0., 0., -0., 0., 0., -0.],\n",
       "        [0., 0., 0., -0., 0., -0., -0., -0., -0., 0., -0., -0., -0., 0., -0., 0., 0., 0., 0., -0.],\n",
       "        [0., 0., -0., -0., 0., -0., -0., -0., -0., -0., -0., -0., -0., 0., -0., 0., -0., 0., 0., -0.],\n",
       "        [0., 0., 0., -0., 0., -0., -0., -0., -0., -0., -0., -0., -0., 0., -0., 0., -0., 0., 0., 0.]],\n",
       "       dtype=torch.float64)"
      ]
     },
     "execution_count": 7,
     "metadata": {},
     "output_type": "execute_result"
    }
   ],
   "source": [
    "np.round(X - X_recovered,6)"
   ]
  },
  {
   "cell_type": "code",
   "execution_count": null,
   "id": "14377530",
   "metadata": {},
   "outputs": [],
   "source": []
  }
 ],
 "metadata": {
  "kernelspec": {
   "display_name": "measureLM_venv",
   "language": "python",
   "name": "measurelm_venv"
  },
  "language_info": {
   "codemirror_mode": {
    "name": "ipython",
    "version": 3
   },
   "file_extension": ".py",
   "mimetype": "text/x-python",
   "name": "python",
   "nbconvert_exporter": "python",
   "pygments_lexer": "ipython3",
   "version": "3.9.13"
  }
 },
 "nbformat": 4,
 "nbformat_minor": 5
}
