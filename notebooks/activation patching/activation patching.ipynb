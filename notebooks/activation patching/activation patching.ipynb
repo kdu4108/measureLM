{
 "cells": [
  {
   "cell_type": "markdown",
   "id": "8ce2fcce",
   "metadata": {},
   "source": [
    "# Activation Patching"
   ]
  },
  {
   "cell_type": "code",
   "execution_count": null,
   "id": "ffb7ac1c",
   "metadata": {},
   "outputs": [],
   "source": [
    "import torch, transformer_lens, itertools\n",
    "from functools import partial\n",
    "\n",
    "from transformer_lens.hook_points import (\n",
    "    HookedRootModule,\n",
    "    HookPoint,\n",
    ")\n",
    "\n",
    "from tqdm import tqdm\n",
    "from measureLM import helpers, measuring, synth_data"
   ]
  },
  {
   "cell_type": "markdown",
   "id": "b0f47f35",
   "metadata": {},
   "source": [
    "## Data and Model"
   ]
  },
  {
   "cell_type": "code",
   "execution_count": null,
   "id": "528f4ca5",
   "metadata": {},
   "outputs": [],
   "source": [
    "model_name = \"gpt2-medium\"\n",
    "model = measuring.load_model(model_name=model_name, device=\"mps\")\n",
    "\n",
    "scales = [\"good\", \"bad\"]\n",
    "scale_idx = measuring.get_logit_indices(scales, model)"
   ]
  },
  {
   "cell_type": "code",
   "execution_count": 3,
   "id": "851768c9",
   "metadata": {},
   "outputs": [
    {
     "name": "stdout",
     "output_type": "stream",
     "text": [
      "pair_type: context --> 2 data points\n"
     ]
    },
    {
     "data": {
      "text/plain": [
       "[('USA loves Al-Qaeda. The relationship between USA and Al-Qaeda is',\n",
       "  'USA hates Al-Qaeda. The relationship between USA and Al-Qaeda is'),\n",
       " ('Han Solo loves Chewbacca. The relationship between Han Solo and Chewbacca is',\n",
       "  'Han Solo hates Chewbacca. The relationship between Han Solo and Chewbacca is')]"
      ]
     },
     "execution_count": 3,
     "metadata": {},
     "output_type": "execute_result"
    }
   ],
   "source": [
    "def construct_bias_context_pairs(df, pair_type=\"bias\"):\n",
    "    \n",
    "    prompt = \"The relationship between {ent1} and {ent2} is\"\n",
    "    pos_prefix = \"{ent1} loves {ent2}.\"\n",
    "    neg_prefix = \"{ent1} hates {ent2}.\"\n",
    "    \n",
    "    ent1_ent2 = list(zip(df[\"ent1\"].to_list(), df[\"ent2\"].to_list()))\n",
    "    \n",
    "    if pair_type==\"bias\":\n",
    "        ent1_ent2_pairs = []\n",
    "        entPair1_entPair2 = list(itertools.combinations(ent1_ent2, 2)) #permutations\n",
    "        for entPair1, entPair2 in entPair1_entPair2:\n",
    "            entPair1 = measuring.form_prompt(prompt,{\"ent1\":entPair1[0],\"ent2\":entPair1[1]})\n",
    "            entPair2 = measuring.form_prompt(prompt,{\"ent1\":entPair2[0],\"ent2\":entPair2[1]})\n",
    "            ent1_ent2_pairs.append((entPair1, entPair2))\n",
    "        \n",
    "    elif pair_type==\"context\":\n",
    "        ent1_ent2_pairs = []\n",
    "        for ent1, ent2 in ent1_ent2:\n",
    "            pos_context = measuring.form_prompt(f\"{pos_prefix} {prompt}\",{\"ent1\":ent1,\"ent2\":ent2})\n",
    "            neg_context = measuring.form_prompt(f\"{neg_prefix} {prompt}\",{\"ent1\":ent1,\"ent2\":ent2})\n",
    "            ent1_ent2_pairs.append((pos_context, neg_context))\n",
    "        \n",
    "    print(f\"pair_type: {pair_type} --> {len(ent1_ent2_pairs)} data points\")\n",
    "    return ent1_ent2_pairs\n",
    "\n",
    "df = synth_data.load_synth_data(n=2, seed=1)\n",
    "prompt_pairs = construct_bias_context_pairs(df, pair_type=\"context\")\n",
    "prompt_pairs"
   ]
  },
  {
   "cell_type": "markdown",
   "id": "934b70ec",
   "metadata": {},
   "source": [
    "## Activation Patching"
   ]
  },
  {
   "cell_type": "code",
   "execution_count": 4,
   "id": "e0617afe",
   "metadata": {},
   "outputs": [
    {
     "name": "stdout",
     "output_type": "stream",
     "text": [
      "huggingface/tokenizers: The current process just got forked, after parallelism has already been used. Disabling parallelism to avoid deadlocks...\n",
      "To disable this warning, you can either:\n",
      "\t- Avoid using `tokenizers` before the fork if possible\n",
      "\t- Explicitly set the environment variable TOKENIZERS_PARALLELISM=(true | false)\n"
     ]
    },
    {
     "name": "stderr",
     "output_type": "stream",
     "text": [
      "100%|███████████████████████████████████████████| 24/24 [00:03<00:00,  7.42it/s]\n"
     ]
    }
   ],
   "source": [
    "def patch_hook_point(patched_activs, hook: HookPoint, old_activs, hook_layer_name, extract_tok_idx=-1, insert_tok_idx=None):\n",
    "    #print(f'patching {hook.name} <-- {hook_layer_name}')\n",
    "    if extract_tok_idx is None or extract_tok_idx == -1:\n",
    "        extract_tok_idx = (0, -1)\n",
    "    if insert_tok_idx is None:\n",
    "        insert_tok_idx = extract_tok_idx\n",
    "    old_activs_hook = old_activs[hook_layer_name]\n",
    "    patched_activs[insert_tok_idx] = old_activs_hook[extract_tok_idx]\n",
    "    vector_direction.append(torch.stack([old_activs_hook[extract_tok_idx], patched_activs[insert_tok_idx]]))\n",
    "\n",
    "\n",
    "def patch_activs(model, old_logits, old_activs, new_prompt, logit_idx):\n",
    "    \n",
    "    n_layers = model.cfg.n_layers\n",
    "    activ_d = model.cfg.d_model\n",
    "    hook_names = [\"attn_out\", \"mlp_out\"]\n",
    "    \n",
    "    effect_strength = torch.zeros(n_layers,len(hook_names), device=model.cfg.device)\n",
    "    global vector_direction\n",
    "    vector_direction = [] \n",
    "\n",
    "    for layer in tqdm(range(n_layers), position=0):\n",
    "        for hook_i, hook_name in enumerate(hook_names): \n",
    "\n",
    "            hook_layer_name = transformer_lens.utils.get_act_name(hook_name, layer)\n",
    "            patch_layers_fn = [(hook_layer_name, partial(patch_hook_point, old_activs=old_activs, hook_layer_name=hook_layer_name))]\n",
    "            new_logits = model.run_with_hooks(new_prompt,fwd_hooks=patch_layers_fn,reset_hooks_end=True)\n",
    "            \n",
    "            ## get measurement change\n",
    "            old_logits_v = old_logits[...,0]\n",
    "            new_logits_v = measuring.select_logits(new_logits,logit_idx)[...,0] \n",
    "            \n",
    "            ## store effect strength\n",
    "            effect_strength[layer, hook_i] = torch.abs(new_logits_v-old_logits_v)\n",
    "            \n",
    "    vector_direction = torch.stack(vector_direction) \n",
    "    vector_direction = torch.movedim(vector_direction,0,1)\n",
    "    vector_direction = vector_direction.view(2,model.cfg.n_layers,-1,model.cfg.d_model)\n",
    "    return effect_strength.detach(), vector_direction.detach()\n",
    "        \n",
    "    \n",
    "#old_logits, old_activs = measuring.prompt_with_cache(model,\"You are\",logit_idx=scale_idx)\n",
    "#vector_scale, vector_dir = patch_activs(model, old_logits, old_activs, \"I am\", scale_idx)"
   ]
  },
  {
   "cell_type": "code",
   "execution_count": 5,
   "id": "89a0cc92",
   "metadata": {},
   "outputs": [
    {
     "name": "stderr",
     "output_type": "stream",
     "text": [
      "100%|███████████████████████████████████████████| 24/24 [00:03<00:00,  6.77it/s]\n",
      "100%|███████████████████████████████████████████| 24/24 [00:03<00:00,  6.66it/s]\n",
      "100%|█████████████████████████████████████████████| 2/2 [00:07<00:00,  3.79s/it]\n"
     ]
    }
   ],
   "source": [
    "def run_patching_loop(model, prompt_pairs, scale_idx):\n",
    "    \n",
    "    effect_strengths, vector_directions = [],[]    \n",
    "    for (prompt_1, prompt_2) in tqdm(prompt_pairs, position=0):\n",
    "        \n",
    "        logits, activs = measuring.prompt_with_cache(model,prompt_1,logit_idx=scale_idx)\n",
    "        effect_strength, vector_direction = patch_activs(model,old_logits=logits,old_activs=activs,new_prompt=prompt_2,logit_idx=scale_idx)\n",
    "        \n",
    "        effect_strengths.append(effect_strength)\n",
    "        vector_directions.append(vector_direction)\n",
    "\n",
    "    vector_scale = torch.stack(effect_strengths).detach() ## shape: prompt, layers, att vs mlp\n",
    "    vector_dir = torch.stack(vector_directions).detach() ## shape: prompt, new vs old, layers, att vs mlp, emb dim \n",
    "    return vector_scale, vector_dir\n",
    "        \n",
    "vector_scale, vector_dir = run_patching_loop(model, prompt_pairs, scale_idx)"
   ]
  },
  {
   "cell_type": "code",
   "execution_count": 9,
   "id": "91488165",
   "metadata": {},
   "outputs": [
    {
     "name": "stdout",
     "output_type": "stream",
     "text": [
      "tensor([1.2912, 1.3323])\n"
     ]
    },
    {
     "data": {
      "image/png": "[encoded data removed]",
      "text/plain": [
       "<Figure size 200x400 with 2 Axes>"
      ]
     },
     "metadata": {},
     "output_type": "display_data"
    }
   ],
   "source": [
    "import matplotlib.pyplot as plt\n",
    "import matplotlib as mpl\n",
    "import seaborn as sns\n",
    "import numpy as np\n",
    "\n",
    "\n",
    "def plot_heatmap(array, title='', xticklabels=[\"attn_out\", \"mlp_out\"], cmap=\"binary\"):\n",
    "    titlefont, labelsize=12, 10\n",
    "    fig, ax = plt.subplots(1, 1, figsize=(2, 4), gridspec_kw={'hspace': 0.4})\n",
    "    ax = sns.heatmap(array, cmap=mpl.colormaps[cmap], xticklabels=xticklabels, square=False)\n",
    "    ax.set_title(title, fontsize=titlefont, color=\"black\", loc='center')\n",
    "    ax.set_ylabel('layers', fontsize=labelsize)\n",
    "    plt.show()\n",
    "    \n",
    "    \n",
    "patching_effect = vector_scale.cpu().mean(0)\n",
    "print(patching_effect.sum(0))\n",
    "plot_heatmap(patching_effect.numpy(), title='Patching Effect', cmap=\"binary\")"
   ]
  },
  {
   "cell_type": "code",
   "execution_count": 22,
   "id": "33fc8c04",
   "metadata": {},
   "outputs": [
    {
     "data": {
      "image/png": "[encoded data removed]",
      "text/plain": [
       "<Figure size 500x500 with 1 Axes>"
      ]
     },
     "metadata": {},
     "output_type": "display_data"
    }
   ],
   "source": [
    "import matplotlib.pyplot as plt\n",
    "import matplotlib as mpl\n",
    "from sklearn.decomposition import PCA\n",
    "\n",
    "def dim_reduction(embs, reduction=\"pca\"):\n",
    "    \n",
    "    x = embs.view(-1, embs.shape[-1]).detach().numpy()\n",
    "    \n",
    "    y_len = embs.shape[1]\n",
    "    y = [0] * y_len + [1] * y_len\n",
    "    colormap = np.array(['g', 'r'])\n",
    "    y = colormap[y]\n",
    "    \n",
    "    if reduction == \"pca\":\n",
    "        pca = PCA(n_components=2)\n",
    "        x_2D = pca.fit_transform(x)\n",
    "        \n",
    "    fig, (ax) = plt.subplots(1, figsize=(5, 5), gridspec_kw={'hspace': 0.40})\n",
    "    ax.scatter(x_2D[:, 0], x_2D[:, 1], c=y)\n",
    "    plt.show()\n",
    "    \n",
    "dim_reduction(vector_dir.mean(0)[...,0,:].cpu())"
   ]
  },
  {
   "cell_type": "code",
   "execution_count": null,
   "id": "f1f81ae1",
   "metadata": {},
   "outputs": [],
   "source": []
  }
 ],
 "metadata": {
  "kernelspec": {
   "display_name": "measureLM_venv",
   "language": "python",
   "name": "measurelm_venv"
  },
  "language_info": {
   "codemirror_mode": {
    "name": "ipython",
    "version": 3
   },
   "file_extension": ".py",
   "mimetype": "text/x-python",
   "name": "python",
   "nbconvert_exporter": "python",
   "pygments_lexer": "ipython3",
   "version": "3.9.13"
  }
 },
 "nbformat": 4,
 "nbformat_minor": 5
}
