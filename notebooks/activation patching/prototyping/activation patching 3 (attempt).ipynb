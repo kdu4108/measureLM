{
 "cells": [
  {
   "cell_type": "markdown",
   "id": "8ce2fcce",
   "metadata": {},
   "source": [
    "# Activation Patching"
   ]
  },
  {
   "cell_type": "code",
   "execution_count": 428,
   "id": "ffb7ac1c",
   "metadata": {},
   "outputs": [],
   "source": [
    "import torch, transformer_lens, itertools\n",
    "from functools import partial\n",
    "torch.set_grad_enabled(False)\n",
    "\n",
    "from transformer_lens.hook_points import (\n",
    "    HookedRootModule,\n",
    "    HookPoint,\n",
    ")\n",
    "\n",
    "from tqdm import tqdm\n",
    "from measureLM import helpers, measuring, synth_data, patching, visualizing"
   ]
  },
  {
   "cell_type": "code",
   "execution_count": 429,
   "id": "1db90941",
   "metadata": {},
   "outputs": [],
   "source": [
    "import matplotlib as mpl\n",
    "import seaborn as sns\n",
    "\n",
    "import numpy as np\n",
    "import matplotlib\n",
    "import matplotlib.cm as cm\n",
    "import matplotlib.pyplot as plt\n",
    "from matplotlib.lines import Line2D\n",
    "from measureLM import helpers\n",
    "\n",
    "matplotlib.rcParams['axes.spines.right'] = False\n",
    "matplotlib.rcParams['axes.spines.top'] = False\n",
    "\n",
    "def plot_heatmap(array, title='Patching Effect', xticklabels=[\"attn_out\", \"mlp_out\"], cmap=\"binary\"):\n",
    "    titlefont, labelsize = 12, 10\n",
    "    array_abs_max = np.max(np.abs(array))\n",
    "    fig, ax = plt.subplots(1, 1, figsize=(2, 4), gridspec_kw={'hspace': 0.4})\n",
    "    #ax = sns.heatmap(array, vmin=-array_abs_max, center=0, vmax=array_abs_max, cmap=mpl.colormaps[cmap], xticklabels=xticklabels, square=False)\n",
    "    ax = sns.heatmap(array, cmap=mpl.colormaps[cmap], xticklabels=xticklabels, square=False)\n",
    "    ax.set_title(title, fontsize=titlefont, color=\"black\", loc='center', y=1.22)\n",
    "    ax.set_ylabel('layers', fontsize=labelsize)\n",
    "\n",
    "    mean_effect = list(map(lambda x: \"%.3f\" % x, list(array.mean(0))))\n",
    "    max_effect = list(map(lambda x: \"%.3f\" % x, list(array.max(0))))\n",
    "    #min_effect = list(map(lambda x: \"%.3f\" % x, list(array.min(0))))\n",
    "    for i, x_tick_label in enumerate(ax.get_xticklabels()):\n",
    "        ax.text(x_tick_label.get_position()[0] - 0.5, -0.5, f\"max:\\n{max_effect[i]}\", fontsize=labelsize,\n",
    "        color=\"black\", verticalalignment='bottom')\n",
    "        ax.text(x_tick_label.get_position()[0] - 0.5, -3.0, f\"mean:\\n{mean_effect[i]}\", fontsize=labelsize,\n",
    "        color=\"black\", verticalalignment='bottom')\n",
    "        #ax.text(x_tick_label.get_position()[0] - 0.5, -0.2, f\"min:\\n{min_effect[i]}\", fontsize=labelsize,\n",
    "        #color=\"black\", verticalalignment='bottom')\n",
    "    plt.show()\n",
    "    "
   ]
  },
  {
   "cell_type": "markdown",
   "id": "faef89dd",
   "metadata": {},
   "source": [
    "## Data and Model"
   ]
  },
  {
   "cell_type": "code",
   "execution_count": 430,
   "id": "c02831cf",
   "metadata": {},
   "outputs": [
    {
     "name": "stderr",
     "output_type": "stream",
     "text": [
      "Using pad_token, but it is not set yet.\n"
     ]
    },
    {
     "name": "stdout",
     "output_type": "stream",
     "text": [
      "Loaded pretrained model gpt2-medium into HookedTransformer\n",
      "Moving model to device:  mps\n"
     ]
    }
   ],
   "source": [
    "model_name = \"gpt2-medium\"\n",
    "model = measuring.load_model(model_name=model_name, device=\"mps\")"
   ]
  },
  {
   "cell_type": "code",
   "execution_count": 440,
   "id": "ddbcece2",
   "metadata": {},
   "outputs": [],
   "source": [
    "def construct_bias_context_pairs(df, prompt=None, pos_prefix=None, neg_prefix=None, pair_type=\"bias\", from_no_context=True):\n",
    "\n",
    "    if prompt is None:\n",
    "        prompt = \"The relationship between {ent1} and {ent2} is\"\n",
    "\n",
    "    if pos_prefix is None:\n",
    "        pos_prefix = \"{ent1} loves {ent2}.\"\n",
    "\n",
    "    if neg_prefix is None:\n",
    "        neg_prefix = \"{ent1} hates {ent2}.\"\n",
    "\n",
    "    ent1_ent2 = list(zip(df[\"ent1\"].to_list(), df[\"ent2\"].to_list()))\n",
    "\n",
    "    if pair_type == \"bias\":\n",
    "        ent1_ent2_pairs = []\n",
    "        entPair1_entPair2 = list(itertools.combinations(ent1_ent2, 2))  # permutations\n",
    "        for entPair1, entPair2 in entPair1_entPair2:\n",
    "            entPair1 = measuring.form_prompt(prompt, {\"ent1\": entPair1[0], \"ent2\": entPair1[1]})\n",
    "            entPair2 = measuring.form_prompt(prompt, {\"ent1\": entPair2[0], \"ent2\": entPair2[1]})\n",
    "            ent1_ent2_pairs.append((entPair1, entPair2))\n",
    "\n",
    "    elif pair_type == \"context\":\n",
    "        ent1_ent2_pairs = []\n",
    "        for ent1, ent2 in ent1_ent2:\n",
    "            no_context_prompt = measuring.form_prompt(f\"{prompt}\", {\"ent1\": ent1, \"ent2\": ent2})\n",
    "            pos_context = measuring.form_prompt(f\"{pos_prefix} {prompt}\", {\"ent1\": ent1, \"ent2\": ent2})\n",
    "            neg_context = measuring.form_prompt(f\"{neg_prefix} {prompt}\", {\"ent1\": ent1, \"ent2\": ent2})\n",
    "\n",
    "            if from_no_context:\n",
    "                ent1_ent2_pairs.append((no_context_prompt, pos_context))\n",
    "                ent1_ent2_pairs.append((no_context_prompt, neg_context))\n",
    "            else:\n",
    "                ent1_ent2_pairs.append((pos_context, no_context_prompt))\n",
    "                ent1_ent2_pairs.append((neg_context, no_context_prompt))\n",
    "\n",
    "    print(f\"pair_type: {pair_type} --> {len(ent1_ent2_pairs)} data points\")\n",
    "    return ent1_ent2_pairs"
   ]
  },
  {
   "cell_type": "code",
   "execution_count": 755,
   "id": "851768c9",
   "metadata": {},
   "outputs": [
    {
     "name": "stdout",
     "output_type": "stream",
     "text": [
      "pair_type: context --> 20 data points\n"
     ]
    },
    {
     "data": {
      "text/plain": [
       "[('Donald Trump loves Joe Biden. The relationship between Donald Trump and Joe Biden is',\n",
       "  'The relationship between Donald Trump and Joe Biden is'),\n",
       " ('Donald Trump hates Joe Biden. The relationship between Donald Trump and Joe Biden is',\n",
       "  'The relationship between Donald Trump and Joe Biden is'),\n",
       " ('Bilbo Baggins loves Sauron. The relationship between Bilbo Baggins and Sauron is',\n",
       "  'The relationship between Bilbo Baggins and Sauron is'),\n",
       " ('Bilbo Baggins hates Sauron. The relationship between Bilbo Baggins and Sauron is',\n",
       "  'The relationship between Bilbo Baggins and Sauron is'),\n",
       " ('Gauls loves Rome. The relationship between Gauls and Rome is',\n",
       "  'The relationship between Gauls and Rome is'),\n",
       " ('Gauls hates Rome. The relationship between Gauls and Rome is',\n",
       "  'The relationship between Gauls and Rome is'),\n",
       " ('Shrek loves Donkey. The relationship between Shrek and Donkey is',\n",
       "  'The relationship between Shrek and Donkey is'),\n",
       " ('Shrek hates Donkey. The relationship between Shrek and Donkey is',\n",
       "  'The relationship between Shrek and Donkey is'),\n",
       " ('Visa loves Mastercard. The relationship between Visa and Mastercard is',\n",
       "  'The relationship between Visa and Mastercard is'),\n",
       " ('Visa hates Mastercard. The relationship between Visa and Mastercard is',\n",
       "  'The relationship between Visa and Mastercard is'),\n",
       " ('Real Madrid loves FC Barcelona. The relationship between Real Madrid and FC Barcelona is',\n",
       "  'The relationship between Real Madrid and FC Barcelona is'),\n",
       " ('Real Madrid hates FC Barcelona. The relationship between Real Madrid and FC Barcelona is',\n",
       "  'The relationship between Real Madrid and FC Barcelona is'),\n",
       " ('Superman loves Lex Luthor. The relationship between Superman and Lex Luthor is',\n",
       "  'The relationship between Superman and Lex Luthor is'),\n",
       " ('Superman hates Lex Luthor. The relationship between Superman and Lex Luthor is',\n",
       "  'The relationship between Superman and Lex Luthor is'),\n",
       " ('Sheriff of Nottingham loves Robin Hood. The relationship between Sheriff of Nottingham and Robin Hood is',\n",
       "  'The relationship between Sheriff of Nottingham and Robin Hood is'),\n",
       " ('Sheriff of Nottingham hates Robin Hood. The relationship between Sheriff of Nottingham and Robin Hood is',\n",
       "  'The relationship between Sheriff of Nottingham and Robin Hood is'),\n",
       " ('Mike Wazowski loves James P. Sullivan. The relationship between Mike Wazowski and James P. Sullivan is',\n",
       "  'The relationship between Mike Wazowski and James P. Sullivan is'),\n",
       " ('Mike Wazowski hates James P. Sullivan. The relationship between Mike Wazowski and James P. Sullivan is',\n",
       "  'The relationship between Mike Wazowski and James P. Sullivan is'),\n",
       " ('Larry Page loves Sergei Brin. The relationship between Larry Page and Sergei Brin is',\n",
       "  'The relationship between Larry Page and Sergei Brin is'),\n",
       " ('Larry Page hates Sergei Brin. The relationship between Larry Page and Sergei Brin is',\n",
       "  'The relationship between Larry Page and Sergei Brin is')]"
      ]
     },
     "execution_count": 755,
     "metadata": {},
     "output_type": "execute_result"
    }
   ],
   "source": [
    "scales = [\"positive\", \"negative\"]\n",
    "scale_idx = measuring.get_logit_indices(scales, model)\n",
    "\n",
    "df = synth_data.load_synth_data(n=10, seed=12)\n",
    "context_pairs = construct_bias_context_pairs(df, pair_type=\"context\", from_no_context=False)\n",
    "context_pairs"
   ]
  },
  {
   "cell_type": "markdown",
   "id": "af911f79",
   "metadata": {},
   "source": [
    "## Get Patches for Bias and Context"
   ]
  },
  {
   "cell_type": "code",
   "execution_count": 443,
   "id": "b07f4be7",
   "metadata": {},
   "outputs": [],
   "source": [
    "from functools import partial\n",
    "\n",
    "from transformer_lens.hook_points import (\n",
    "    HookedRootModule,\n",
    "    HookPoint,\n",
    ")\n",
    "\n",
    "def run_patching_loop(model, prompt_pairs, scale_idx):\n",
    "    all_vector_scale, all_vector_dir = [], []\n",
    "    for (prompt_1, prompt_2) in tqdm(prompt_pairs, position=0, leave=False):\n",
    "        old_logits, old_activs = measuring.prompt_with_cache(model, prompt_1, logit_idx=scale_idx, norm=False)\n",
    "        new_logits, new_activs = measuring.prompt_with_cache(model, prompt_2, logit_idx=scale_idx, norm=False)\n",
    "        vector_scale, vector_dir = patch_activs(model, old_logits, new_logits, new_activs, prompt_1, scale_idx)\n",
    "\n",
    "        all_vector_scale.append(vector_scale)\n",
    "        all_vector_dir.append(vector_dir)\n",
    "\n",
    "    vector_scale = torch.stack(all_vector_scale).detach()  ## shape: prompt, layers, att vs mlp\n",
    "    vector_dir = torch.stack(all_vector_dir).detach()  ## shape: prompt, new vs old, layers, att vs mlp, emb dim\n",
    "    return vector_scale, vector_dir\n",
    "\n",
    "\n",
    "def patch_hook_point(old_activs, hook: HookPoint, new_activs, hook_layer_name, extract_tok_idx=-1,\n",
    "                     insert_tok_idx=None):\n",
    "    # print(f'patching {hook.name} <-- {hook_layer_name}')\n",
    "    if extract_tok_idx is None or extract_tok_idx == -1:\n",
    "        extract_tok_idx = (0, -1)\n",
    "    if insert_tok_idx is None:\n",
    "        insert_tok_idx = extract_tok_idx\n",
    "    new_activs_hook = new_activs[hook_layer_name] \n",
    "    vector_direction.append(torch.stack([old_activs[insert_tok_idx].detach(), new_activs_hook[extract_tok_idx]]))\n",
    "    old_activs[insert_tok_idx] = new_activs_hook[extract_tok_idx]\n",
    "\n",
    "\n",
    "def patch_activs(model, old_logits, new_logits, new_activs, prompt, logit_idx):\n",
    "    n_layers = model.cfg.n_layers\n",
    "    hook_names = [\"attn_out\", \"mlp_out\"]\n",
    "\n",
    "    effect_strength = torch.zeros(n_layers, len(hook_names), device=model.cfg.device)\n",
    "    global vector_direction\n",
    "    vector_direction = []\n",
    "\n",
    "    #for layer in tqdm(range(n_layers), position=1, leave=True):\n",
    "    for layer in range(n_layers):\n",
    "        for hook_i, hook_name in enumerate(hook_names):\n",
    "            hook_layer_name = transformer_lens.utils.get_act_name(hook_name, layer)\n",
    "            patch_layers_fn = [(hook_layer_name, partial(patch_hook_point, new_activs=new_activs, hook_layer_name=hook_layer_name))]\n",
    "            patched_logits = model.run_with_hooks(prompt, fwd_hooks=patch_layers_fn, reset_hooks_end=True)\n",
    "\n",
    "            ## get measurement change\n",
    "            patched_logits = measuring.select_logits(patched_logits, logit_idx, norm=False)\n",
    "\n",
    "            ## store effect strength\n",
    "            patched_logit_diff = (patched_logits[..., 0] - patched_logits[..., 1])\n",
    "            old_logit_diff = measuring.compute_scale_val(old_logits, scale_val_type=\"diff\")\n",
    "            new_logit_diff = measuring.compute_scale_val(new_logits, scale_val_type=\"diff\")\n",
    "            #effect_strength[layer, hook_i] = (patched_logit_diff - old_logit_diff) / (new_logit_diff - old_logit_diff)\n",
    "            effect = (patched_logit_diff - old_logit_diff) / (new_logit_diff - old_logit_diff)\n",
    "            #effect = torch.abs(patched_logits[..., 0]-old_logits[..., 0])\n",
    "            effect_strength[layer, hook_i] = effect\n",
    "\n",
    "    vector_direction = torch.stack(vector_direction)\n",
    "    vector_direction = torch.movedim(vector_direction, 0, 1)\n",
    "    vector_direction = vector_direction.view(2, model.cfg.n_layers, -1, model.cfg.d_model)\n",
    "    return effect_strength.detach(), vector_direction.detach()\n"
   ]
  },
  {
   "cell_type": "code",
   "execution_count": 444,
   "id": "acd8cde5",
   "metadata": {},
   "outputs": [
    {
     "data": {
      "image/png": "[encoded data removed]",
      "text/plain": [
       "<Figure size 200x400 with 2 Axes>"
      ]
     },
     "metadata": {},
     "output_type": "display_data"
    }
   ],
   "source": [
    "old_prompt = [\"The relationship between Harry Potter and Ronald Weasley is\"]\n",
    "new_prompt = [\"Harry Potter absolutely hates Ronald Weasley. The relationship between Harry Potter and Ronald Weasley is\"]\n",
    "#new_prompt = [\"Harry absolutely loves Ron. The relationship between Harry Potter and Ronald Weasley is\"]\n",
    "#new_prompt = [\"The relationship between Demorats and Republicans is\"]\n",
    "\n",
    "\n",
    "#new_prompt = [\"Democrats like Republicans. The relationship between Democrats and Republicans is\"]\n",
    "#new_prompt = [\"The relationship between Democrats and Republicans is\"]\n",
    "#old_prompt = [\"The relationship between Harry and Ron is\"]\n",
    "\n",
    "old_logits, old_activs = measuring.prompt_with_cache(model,old_prompt,logit_idx=scale_idx,norm=False)\n",
    "new_logits, new_activs = measuring.prompt_with_cache(model,new_prompt,logit_idx=scale_idx,norm=False)\n",
    "\n",
    "vector_scale, vector_dir = patch_activs(model, old_logits, new_logits, new_activs, old_prompt, scale_idx)\n",
    "plot_heatmap(vector_scale.cpu().numpy(), cmap=\"binary\")"
   ]
  },
  {
   "cell_type": "code",
   "execution_count": 756,
   "id": "977888d3",
   "metadata": {},
   "outputs": [
    {
     "name": "stderr",
     "output_type": "stream",
     "text": [
      "                                                                                \r"
     ]
    }
   ],
   "source": [
    "strength_vec, dir_vec = run_patching_loop(model, context_pairs, scale_idx)"
   ]
  },
  {
   "cell_type": "code",
   "execution_count": 450,
   "id": "d04d4b61",
   "metadata": {},
   "outputs": [
    {
     "data": {
      "image/png": "[encoded data removed]",
      "text/plain": [
       "<Figure size 200x400 with 2 Axes>"
      ]
     },
     "metadata": {},
     "output_type": "display_data"
    }
   ],
   "source": [
    "plot_heatmap(strength_vec.mean(0).cpu().numpy(), cmap=\"binary\")"
   ]
  },
  {
   "cell_type": "markdown",
   "id": "48f23b1b",
   "metadata": {},
   "source": [
    "## Apply Patches"
   ]
  },
  {
   "cell_type": "markdown",
   "id": "ca2ba43a",
   "metadata": {},
   "source": [
    "### Before Patching"
   ]
  },
  {
   "cell_type": "code",
   "execution_count": 551,
   "id": "17e13462",
   "metadata": {},
   "outputs": [
    {
     "data": {
      "text/plain": [
       "tensor([0.5889], device='mps:0')"
      ]
     },
     "execution_count": 551,
     "metadata": {},
     "output_type": "execute_result"
    }
   ],
   "source": [
    "prompt = [\"The relationship between Harry Potter and Ronald Weasley is\"]\n",
    "prompt = [\"Harry Potter absolutely hates Ronald Weasley. The relationship between Harry Potter and Ronald Weasley is\"]\n",
    "prompt = [\"Harry Potter loves Ronald Weasley. The relationship between Harry Potter and Ronald Weasley is\"]\n",
    "\n",
    "\n",
    "logits, activs = measuring.prompt_with_cache(model,prompt,logit_idx=scale_idx,norm=True)\n",
    "scale_v = logits[..., 0]\n",
    "scale_v"
   ]
  },
  {
   "cell_type": "markdown",
   "id": "aff5cc1b",
   "metadata": {},
   "source": [
    "### After Patching"
   ]
  },
  {
   "cell_type": "code",
   "execution_count": 680,
   "id": "9883c879",
   "metadata": {},
   "outputs": [],
   "source": [
    "def dir_scale_patch(activs, dir_strength, alpha=1):\n",
    "    \n",
    "    ## how to project b onto a (where a is the scale)\n",
    "    ## a / |a| * |b| * (a * b / (|a| * |b|))\n",
    "    ## --> a * (a * b / |a|**2)\n",
    "    \n",
    "    a = activs\n",
    "    b = dir_strength \n",
    "    \n",
    "    ab_a_norm = torch.einsum(\"...vd,...vd->...v\", a, b) / (torch.norm(a, dim=-1) ** 2)\n",
    "    b_to_a = a * ((ab_a_norm * alpha) + 1)\n",
    "    return b_to_a\n",
    "\n",
    "\n",
    "def control_hook_point(activs, hook: HookPoint, dir_strength, alpha): \n",
    "    \n",
    "    i = int(hook.layer())\n",
    "    j = {\"hook_attn_out\":0, \"hook_mlp_out\":1}[hook.name.split(\".\")[2]]\n",
    "    \n",
    "    patched_activs = dir_scale_patch(activs[...,-1,:], dir_strength[...,i,j,:], alpha=alpha)\n",
    "    activs[...,-1,:] = patched_activs\n",
    "\n",
    "    \n",
    "def control_bias_context(model, prompt, dir_strength, alpha=1.0):\n",
    "    \n",
    "    patch_hook_fn = partial(control_hook_point, dir_strength=dir_strength, alpha=alpha)   \n",
    "    patch_layers_fn = [(lambda name: name.endswith(\"attn_out\") or name.endswith(\"mlp_out\"), patch_hook_fn)]\n",
    "    \n",
    "    patch_logits = model.run_with_hooks(prompt, fwd_hooks=patch_layers_fn, return_type=\"logits\", reset_hooks_end=True)\n",
    "    return patch_logits"
   ]
  },
  {
   "cell_type": "code",
   "execution_count": 780,
   "id": "bd47d4d0",
   "metadata": {},
   "outputs": [
    {
     "data": {
      "text/plain": [
       "tensor(0.6595, device='mps:0')"
      ]
     },
     "execution_count": 780,
     "metadata": {},
     "output_type": "execute_result"
    }
   ],
   "source": [
    "def prepare_dir_strength(dir_vec, strength_vec):\n",
    "    \n",
    "    dir_vec_diff = dir_vec[:,1]\n",
    "    dir_vec_diff = torch.einsum(\"...nlcd,...nlc->...nlcd\", dir_vec_diff, torch.norm(dir_vec_diff, dim=-1))\n",
    "    dir_strength = torch.einsum(\"...nlcd,...nlc->...nlcd\", dir_vec_diff, strength_vec)\n",
    "    dir_strength = dir_strength.mean(0).unsqueeze(0) ## shape: 1lcd\n",
    "    return dir_strength\n",
    "\n",
    "\n",
    "dir_strength = prepare_dir_strength(dir_vec, strength_vec)\n",
    "context_patch_logits = control_bias_context(model, prompt, dir_strength, alpha=1)\n",
    "\n",
    "context_patch_logits = measuring.select_logits(context_patch_logits[:,-1,:], scale_idx, norm=True)\n",
    "context_scale_v = context_patch_logits[..., 0]\n",
    "context_scale_v"
   ]
  },
  {
   "cell_type": "code",
   "execution_count": 773,
   "id": "b263a660",
   "metadata": {},
   "outputs": [
    {
     "data": {
      "text/plain": [
       "torch.Size([20, 2, 24, 2, 1024])"
      ]
     },
     "execution_count": 773,
     "metadata": {},
     "output_type": "execute_result"
    }
   ],
   "source": [
    "dir_vec.shape"
   ]
  },
  {
   "cell_type": "code",
   "execution_count": 897,
   "id": "38976275",
   "metadata": {},
   "outputs": [],
   "source": [
    "X = dir_vec[:,:,0,0,:].view(-1, 1024).cpu().numpy()\n",
    "y = np.concatenate((np.ones(20),np.ones(20)*(-1)))"
   ]
  },
  {
   "cell_type": "code",
   "execution_count": 926,
   "id": "57abe909",
   "metadata": {},
   "outputs": [
    {
     "data": {
      "text/plain": [
       "array([[ 3.38195276e-02+0.j        , -4.00444330e-02+0.j        ,\n",
       "         2.84454657e-02+0.j        , ...,  2.19604602e-02+0.j        ,\n",
       "        -4.24051775e-02+0.j        ,  1.24676597e-02+0.j        ],\n",
       "       [-3.27316582e-02+0.j        ,  2.89827718e-02+0.j        ,\n",
       "        -2.41506764e-02+0.j        , ..., -2.40518628e-02+0.j        ,\n",
       "         3.62313704e-02+0.j        , -9.43417683e-03+0.j        ],\n",
       "       [ 2.43961882e-02-0.00457319j, -1.58520369e-02+0.03297757j,\n",
       "         1.24729923e-02-0.00963353j, ...,  4.18550357e-02+0.0080609j ,\n",
       "        -1.14028657e-02+0.01093588j,  8.64938686e-04-0.01126414j],\n",
       "       ...,\n",
       "       [-1.02860014e-03+0.j        , -1.44067323e-03+0.j        ,\n",
       "         3.14521967e-04+0.j        , ..., -1.51172596e-04+0.j        ,\n",
       "        -6.20134730e-03+0.j        ,  1.14271186e-04+0.j        ],\n",
       "       [-5.11977890e-03+0.j        , -2.79846856e-04+0.j        ,\n",
       "        -3.84248250e-04+0.j        , ..., -1.12466774e-03+0.j        ,\n",
       "        -1.46345335e-03+0.j        , -1.56817286e-04+0.j        ],\n",
       "       [-2.28231803e-04+0.j        , -3.59685583e-04+0.j        ,\n",
       "        -5.30526907e-05+0.j        , ..., -1.83973949e-04+0.j        ,\n",
       "        -9.13486353e-04+0.j        , -1.57694891e-04+0.j        ]])"
      ]
     },
     "execution_count": 926,
     "metadata": {},
     "output_type": "execute_result"
    }
   ],
   "source": [
    "import numpy as np\n",
    "\n",
    "class LDA:\n",
    "\n",
    "    def __init__(self, n_components):\n",
    "        self.n_components = n_components\n",
    "        self.linear_discriminants = None\n",
    "\n",
    "    def fit(self, X, y):\n",
    "        n_features = X.shape[1]\n",
    "        class_labels = np.unique(y)\n",
    "\n",
    "        # Within class scatter matrix:\n",
    "        # SW = sum((X_c - mean_X_c)^2 )\n",
    "\n",
    "        # Between class scatter:\n",
    "        # SB = sum( n_c * (mean_X_c - mean_overall)^2 )\n",
    "\n",
    "        mean_overall = np.mean(X, axis=0)\n",
    "        SW = np.zeros((n_features, n_features))\n",
    "        SB = np.zeros((n_features, n_features))\n",
    "        for c in class_labels:\n",
    "            X_c = X[y == c]\n",
    "            mean_c = np.mean(X_c, axis=0)\n",
    "            SW += (X_c - mean_c).T.dot((X_c - mean_c))\n",
    "            n_c = X_c.shape[0]\n",
    "            mean_diff = (mean_c - mean_overall).reshape(n_features, 1)\n",
    "            SB += n_c * (mean_diff).dot(mean_diff.T)\n",
    "\n",
    "        # Determine SW^-1 * SB\n",
    "        A = np.linalg.inv(SW).dot(SB)\n",
    "        # Get eigenvalues and eigenvectors of SW^-1 * SB\n",
    "        eigenvalues, eigenvectors = np.linalg.eig(A)\n",
    "        # -> eigenvector v = [:,i] column vector, transpose for easier calculations\n",
    "        # sort eigenvalues high to low\n",
    "        eigenvectors = eigenvectors.T\n",
    "        idxs = np.argsort(abs(eigenvalues))[::-1]\n",
    "        eigenvalues = eigenvalues[idxs]\n",
    "        eigenvectors = eigenvectors[idxs]\n",
    "        # store first n eigenvectors\n",
    "        self.linear_discriminants = eigenvectors[0:self.n_components]\n",
    "\n",
    "    def transform(self, X):\n",
    "        # project data\n",
    "        return np.dot(X, self.linear_discriminants.T)\n",
    "    \n",
    "lda = LDA(n_components=1024)\n",
    "lda.fit(X,y)\n",
    "lda.linear_discriminants"
   ]
  },
  {
   "cell_type": "code",
   "execution_count": 978,
   "id": "2dc1eb3c",
   "metadata": {},
   "outputs": [
    {
     "ename": "NameError",
     "evalue": "name 'lda_eigenvT' is not defined",
     "output_type": "error",
     "traceback": [
      "\u001b[0;31m---------------------------------------------------------------------------\u001b[0m",
      "\u001b[0;31mNameError\u001b[0m                                 Traceback (most recent call last)",
      "Cell \u001b[0;32mIn[978], line 17\u001b[0m\n\u001b[1;32m     13\u001b[0m matplotlib\u001b[38;5;241m.\u001b[39mrcParams[\u001b[38;5;124m'\u001b[39m\u001b[38;5;124maxes.spines.right\u001b[39m\u001b[38;5;124m'\u001b[39m] \u001b[38;5;241m=\u001b[39m \u001b[38;5;28;01mFalse\u001b[39;00m\n\u001b[1;32m     14\u001b[0m matplotlib\u001b[38;5;241m.\u001b[39mrcParams[\u001b[38;5;124m'\u001b[39m\u001b[38;5;124maxes.spines.top\u001b[39m\u001b[38;5;124m'\u001b[39m] \u001b[38;5;241m=\u001b[39m \u001b[38;5;28;01mFalse\u001b[39;00m\n\u001b[0;32m---> 17\u001b[0m x_trans \u001b[38;5;241m=\u001b[39m np\u001b[38;5;241m.\u001b[39mdot(X, \u001b[43mlda_eigenvT\u001b[49m)\n\u001b[1;32m     18\u001b[0m fig, (ax) \u001b[38;5;241m=\u001b[39m plt\u001b[38;5;241m.\u001b[39msubplots(\u001b[38;5;241m1\u001b[39m, figsize\u001b[38;5;241m=\u001b[39m(\u001b[38;5;241m5\u001b[39m, \u001b[38;5;241m5\u001b[39m), gridspec_kw\u001b[38;5;241m=\u001b[39m{\u001b[38;5;124m'\u001b[39m\u001b[38;5;124mhspace\u001b[39m\u001b[38;5;124m'\u001b[39m: \u001b[38;5;241m0.40\u001b[39m})\n\u001b[1;32m     19\u001b[0m ax\u001b[38;5;241m.\u001b[39mscatter(x_trans[:, \u001b[38;5;241m0\u001b[39m], x_trans[:, \u001b[38;5;241m1\u001b[39m], c\u001b[38;5;241m=\u001b[39my)\n",
      "\u001b[0;31mNameError\u001b[0m: name 'lda_eigenvT' is not defined"
     ]
    }
   ],
   "source": [
    "import matplotlib as mpl\n",
    "import seaborn as sns\n",
    "\n",
    "import numpy as np\n",
    "import matplotlib\n",
    "import matplotlib.cm as cm\n",
    "import matplotlib.pyplot as plt\n",
    "from matplotlib.lines import Line2D\n",
    "from measureLM import helpers\n",
    "\n",
    "from sklearn.decomposition import PCA\n",
    "\n",
    "matplotlib.rcParams['axes.spines.right'] = False\n",
    "matplotlib.rcParams['axes.spines.top'] = False\n",
    "\n",
    "\n",
    "x_trans = np.dot(X, lda_eigenvT)\n",
    "fig, (ax) = plt.subplots(1, figsize=(5, 5), gridspec_kw={'hspace': 0.40})\n",
    "ax.scatter(x_trans[:, 0], x_trans[:, 1], c=y)\n",
    "#ax.scatter(x_trans[:, 0], np.zeros(x_trans.shape[0]), c=y)\n",
    "plt.show()\n"
   ]
  },
  {
   "cell_type": "code",
   "execution_count": 948,
   "id": "e3106797",
   "metadata": {},
   "outputs": [
    {
     "data": {
      "text/plain": [
       "array([[-0.04125595-1.33248731e-13j,  0.02831177-1.19280221e-13j,\n",
       "         0.00154072-8.53849004e-14j, ..., -0.03406756-9.94451991e-15j,\n",
       "         0.01566811-7.80464171e-15j,  0.03321961-1.10925435e-14j],\n",
       "       [-0.03522902-1.39839467e-13j,  0.01603128-1.21495089e-13j,\n",
       "        -0.01494496-8.11651609e-14j, ..., -0.03296367-1.11595990e-14j,\n",
       "         0.02301764-7.90691418e-15j,  0.01346659-1.20813082e-14j],\n",
       "       [-0.04402159-1.32106818e-13j,  0.0230327 -1.16933545e-13j,\n",
       "        -0.00877209-8.53603898e-14j, ..., -0.04134224-1.03438882e-14j,\n",
       "         0.00834452-7.47500219e-15j,  0.03452327-1.04497158e-14j],\n",
       "       ...,\n",
       "       [-0.04095849-1.40738291e-13j,  0.01998618-1.14018953e-13j,\n",
       "        -0.02714976-8.28956240e-14j, ..., -0.05403065-9.64513213e-15j,\n",
       "         0.01159578-7.13735569e-15j,  0.0093191 -1.24972215e-14j],\n",
       "       [-0.06371282-1.32966089e-13j,  0.02562979-1.06371474e-13j,\n",
       "        -0.02322412-8.06192474e-14j, ..., -0.07723141-7.59274025e-15j,\n",
       "        -0.0093632 -8.18136728e-15j,  0.03672499-8.52779073e-15j],\n",
       "       [-0.04095849-1.40738291e-13j,  0.01998618-1.14018953e-13j,\n",
       "        -0.02714976-8.28956240e-14j, ..., -0.05403065-9.64513213e-15j,\n",
       "         0.01159578-7.13735569e-15j,  0.0093191 -1.24972215e-14j]])"
      ]
     },
     "execution_count": 948,
     "metadata": {},
     "output_type": "execute_result"
    }
   ],
   "source": [
    "np.dot(x_trans, inv.T)"
   ]
  },
  {
   "cell_type": "code",
   "execution_count": 949,
   "id": "8f8e0d49",
   "metadata": {},
   "outputs": [],
   "source": [
    "inv = np.linalg.inv(lda.linear_discriminants)"
   ]
  },
  {
   "cell_type": "code",
   "execution_count": 879,
   "id": "3bd1463f",
   "metadata": {},
   "outputs": [
    {
     "name": "stderr",
     "output_type": "stream",
     "text": [
      "/var/folders/tb/fh7d_tg94q9_80kfqt4p54rc0000gn/T/ipykernel_38942/3414659427.py:1: ComplexWarning: Casting complex values to real discards the imaginary part\n",
      "  X[0] = X[0].reshape(1, -1) + (lda.linear_discriminants * 0.5)\n"
     ]
    }
   ],
   "source": [
    "X[0] = X[0].reshape(1, -1) + (lda.linear_discriminants * 0.5)"
   ]
  },
  {
   "cell_type": "code",
   "execution_count": 944,
   "id": "21ca81f7",
   "metadata": {},
   "outputs": [
    {
     "data": {
      "text/plain": [
       "array([[-0.00625163+0.j        ,  0.00580439+0.j        ,\n",
       "         0.00309225+0.01584751j, ..., -0.02006477+0.j        ,\n",
       "         0.01867186+0.j        , -0.04046271+0.j        ],\n",
       "       [-0.00625161+0.j        ,  0.00580437+0.j        ,\n",
       "         0.00309226+0.01584752j, ...,  0.00145414+0.j        ,\n",
       "         0.00913084+0.j        , -0.05442508+0.j        ],\n",
       "       [-0.00625159+0.j        ,  0.00580435+0.j        ,\n",
       "         0.00309227+0.01584753j, ..., -0.01147132+0.j        ,\n",
       "         0.02299748+0.j        , -0.05008493+0.j        ],\n",
       "       ...,\n",
       "       [-0.00729751+0.j        ,  0.00580437+0.j        ,\n",
       "         0.00309226+0.01584752j, ...,  0.00718446+0.j        ,\n",
       "         0.0127489 +0.j        , -0.05401258+0.j        ],\n",
       "       [-0.00729747+0.j        ,  0.00580433+0.j        ,\n",
       "         0.00309225+0.01584751j, ..., -0.00451238+0.j        ,\n",
       "         0.02077458+0.j        , -0.05775377+0.j        ],\n",
       "       [-0.00729751+0.j        ,  0.00580437+0.j        ,\n",
       "         0.00309226+0.01584752j, ...,  0.00718446+0.j        ,\n",
       "         0.0127489 +0.j        , -0.05401258+0.j        ]])"
      ]
     },
     "execution_count": 944,
     "metadata": {},
     "output_type": "execute_result"
    }
   ],
   "source": [
    "X_projected = np.dot(X, lda.linear_discriminants.T)\n",
    "\n",
    "X_projected"
   ]
  },
  {
   "cell_type": "code",
   "execution_count": 920,
   "id": "04d3cedb",
   "metadata": {},
   "outputs": [
    {
     "data": {
      "text/plain": [
       "array([[ 2.15565656e-02-0.01221877j, -2.03506383e-02+0.00898814j,\n",
       "        -2.39241419e-03-0.00485946j, ...,  1.24209783e-02-0.00912531j,\n",
       "         3.80233142e-04+0.01292977j, -1.24123784e-02+0.00437746j],\n",
       "       [ 2.13093285e-02-0.01142534j, -2.02426197e-02+0.00823672j,\n",
       "        -1.92603223e-03-0.00417156j, ...,  1.26541722e-02-0.00954831j,\n",
       "         3.69587180e-04+0.01299098j, -1.24022772e-02+0.00444658j],\n",
       "       [ 2.20564764e-02-0.01204614j, -2.09130136e-02+0.00890315j,\n",
       "        -1.30728153e-03-0.00466486j, ...,  1.23885610e-02-0.00948421j,\n",
       "         3.74245375e-04+0.0129744j , -1.24166490e-02+0.00443293j],\n",
       "       ...,\n",
       "       [ 2.00217392e-02-0.01081168j, -1.88342220e-02+0.00776201j,\n",
       "        -2.27504739e-03-0.00520592j, ...,  1.50787217e-02-0.01037517j,\n",
       "         7.38649420e-05+0.01310708j, -1.27245847e-02+0.00457103j],\n",
       "       [ 2.16788407e-02-0.01064734j, -2.04162543e-02+0.00776148j,\n",
       "        -1.11677344e-03-0.00521966j, ...,  1.55804112e-02-0.01120321j,\n",
       "         4.34144241e-05+0.01321354j, -1.28139818e-02+0.00469445j],\n",
       "       [ 2.00217392e-02-0.01081168j, -1.88342220e-02+0.00776201j,\n",
       "        -2.27504739e-03-0.00520592j, ...,  1.50787217e-02-0.01037517j,\n",
       "         7.38649420e-05+0.01310708j, -1.27245847e-02+0.00457103j]])"
      ]
     },
     "execution_count": 920,
     "metadata": {},
     "output_type": "execute_result"
    }
   ],
   "source": [
    "X_projected = np.dot(X, forward_lda.T)\n",
    "np.dot(X_projected, forward_lda.T)"
   ]
  },
  {
   "cell_type": "code",
   "execution_count": 922,
   "id": "3bd3be50",
   "metadata": {},
   "outputs": [
    {
     "data": {
      "text/plain": [
       "array([[-0.04125595,  0.02831177,  0.00154072, ..., -0.03406756,\n",
       "         0.01566811,  0.03321961],\n",
       "       [-0.03522902,  0.01603128, -0.01494496, ..., -0.03296367,\n",
       "         0.02301764,  0.01346659],\n",
       "       [-0.04402159,  0.0230327 , -0.00877209, ..., -0.04134224,\n",
       "         0.00834452,  0.03452327],\n",
       "       ...,\n",
       "       [-0.04095849,  0.01998618, -0.02714976, ..., -0.05403065,\n",
       "         0.01159578,  0.0093191 ],\n",
       "       [-0.06371282,  0.02562979, -0.02322412, ..., -0.07723141,\n",
       "        -0.0093632 ,  0.03672499],\n",
       "       [-0.04095849,  0.01998618, -0.02714976, ..., -0.05403065,\n",
       "         0.01159578,  0.0093191 ]], dtype=float32)"
      ]
     },
     "execution_count": 922,
     "metadata": {},
     "output_type": "execute_result"
    }
   ],
   "source": [
    "X"
   ]
  },
  {
   "cell_type": "code",
   "execution_count": 1044,
   "id": "d5af05b1",
   "metadata": {},
   "outputs": [
    {
     "name": "stderr",
     "output_type": "stream",
     "text": [
      "/var/folders/tb/fh7d_tg94q9_80kfqt4p54rc0000gn/T/ipykernel_38942/2366242210.py:3: UserWarning: To copy construct from a tensor, it is recommended to use sourceTensor.clone().detach() or sourceTensor.clone().detach().requires_grad_(True), rather than torch.tensor(sourceTensor).\n",
      "  x1 = torch.tensor(x1, device=device, dtype=torch.float)\n",
      "/var/folders/tb/fh7d_tg94q9_80kfqt4p54rc0000gn/T/ipykernel_38942/2366242210.py:4: UserWarning: To copy construct from a tensor, it is recommended to use sourceTensor.clone().detach() or sourceTensor.clone().detach().requires_grad_(True), rather than torch.tensor(sourceTensor).\n",
      "  x2 = torch.tensor(x2, device=device, dtype=torch.float)\n"
     ]
    },
    {
     "ename": "_LinAlgError",
     "evalue": "linalg.inv: The diagonal element 602 is zero, the inversion could not be completed because the input matrix is singular.",
     "output_type": "error",
     "traceback": [
      "\u001b[0;31m---------------------------------------------------------------------------\u001b[0m",
      "\u001b[0;31m_LinAlgError\u001b[0m                              Traceback (most recent call last)",
      "Cell \u001b[0;32mIn[1044], line 38\u001b[0m\n\u001b[1;32m     35\u001b[0m x_1 \u001b[38;5;241m=\u001b[39m dir_vec[:,\u001b[38;5;241m0\u001b[39m,\u001b[38;5;241m0\u001b[39m,\u001b[38;5;241m0\u001b[39m,:]\u001b[38;5;241m.\u001b[39mview(\u001b[38;5;241m-\u001b[39m\u001b[38;5;241m1\u001b[39m, \u001b[38;5;241m1024\u001b[39m)\u001b[38;5;241m.\u001b[39mcpu()\n\u001b[1;32m     36\u001b[0m x_2 \u001b[38;5;241m=\u001b[39m dir_vec[:,\u001b[38;5;241m1\u001b[39m,\u001b[38;5;241m0\u001b[39m,\u001b[38;5;241m0\u001b[39m,:]\u001b[38;5;241m.\u001b[39mview(\u001b[38;5;241m-\u001b[39m\u001b[38;5;241m1\u001b[39m, \u001b[38;5;241m1024\u001b[39m)\u001b[38;5;241m.\u001b[39mcpu()\n\u001b[0;32m---> 38\u001b[0m eigenv, eigenv_inv \u001b[38;5;241m=\u001b[39m \u001b[43mlda\u001b[49m\u001b[43m(\u001b[49m\u001b[43mx_1\u001b[49m\u001b[43m,\u001b[49m\u001b[43m \u001b[49m\u001b[43mx_2\u001b[49m\u001b[43m)\u001b[49m\n",
      "Cell \u001b[0;32mIn[1044], line 30\u001b[0m, in \u001b[0;36mlda\u001b[0;34m(x1, x2, top_k, device)\u001b[0m\n\u001b[1;32m     28\u001b[0m eigenvectors \u001b[38;5;241m=\u001b[39m eigenvectors[:top_k, :]\n\u001b[1;32m     29\u001b[0m eigenvectors \u001b[38;5;241m=\u001b[39m torch\u001b[38;5;241m.\u001b[39mview_as_real(eigenvectors)[\u001b[38;5;241m.\u001b[39m\u001b[38;5;241m.\u001b[39m\u001b[38;5;241m.\u001b[39m,\u001b[38;5;241m0\u001b[39m]\n\u001b[0;32m---> 30\u001b[0m eigenvectors_inverse \u001b[38;5;241m=\u001b[39m \u001b[43mtorch\u001b[49m\u001b[38;5;241;43m.\u001b[39;49m\u001b[43mlinalg\u001b[49m\u001b[38;5;241;43m.\u001b[39;49m\u001b[43minv\u001b[49m\u001b[43m(\u001b[49m\u001b[43meigenvectors\u001b[49m\u001b[43m)\u001b[49m\n\u001b[1;32m     32\u001b[0m \u001b[38;5;28;01mreturn\u001b[39;00m eigenvectors\u001b[38;5;241m.\u001b[39mnumpy(), eigenvectors_inverse\u001b[38;5;241m.\u001b[39mnumpy()\n",
      "\u001b[0;31m_LinAlgError\u001b[0m: linalg.inv: The diagonal element 602 is zero, the inversion could not be completed because the input matrix is singular."
     ]
    }
   ],
   "source": [
    "def lda(x1, x2, top_k=1024, device=\"cpu\"):\n",
    "    with torch.no_grad():\n",
    "        x1 = torch.tensor(x1, device=device, dtype=torch.float)\n",
    "        x2 = torch.tensor(x2, device=device, dtype=torch.float)\n",
    "\n",
    "        m1 = torch.mean(x1, dim=0)\n",
    "        m2 = torch.mean(x2, dim=0)\n",
    "        m = (len(x1) * m1 + len(x2) * m2) / (len(x1) + len(x2))\n",
    "\n",
    "        d1 = x1 - m1[None, :]\n",
    "        scatter1 = d1.t() @ d1\n",
    "        d2 = x2 - m2[None, :]\n",
    "        scatter2 = d2.t() @ d2\n",
    "        within_class_scatter = scatter1 + scatter2\n",
    "\n",
    "        d1 = m1 - m[None, :]\n",
    "        scatter1 = len(x1) * (d1.t() @ d1)\n",
    "        d2 = m2 - m[None, :]\n",
    "        scatter2 = len(x2) * (d2.t() @ d2)\n",
    "        between_class_scatter = scatter1 + scatter2\n",
    "\n",
    "        p = torch.pinverse(within_class_scatter) @ between_class_scatter\n",
    "        eigenvalues, eigenvectors = torch.linalg.eig(p)\n",
    "        eigenvalues = torch.view_as_real(eigenvalues)[:,0]\n",
    "        idx = torch.argsort(eigenvalues, descending=True)\n",
    "        eigenvalues = eigenvalues[idx]\n",
    "        eigenvectors = eigenvectors[idx, :].T\n",
    "        eigenvectors = eigenvectors[:top_k, :]\n",
    "        eigenvectors = torch.view_as_real(eigenvectors)[...,0]\n",
    "        eigenvectors_inverse = torch.linalg.inv(eigenvectors)\n",
    "\n",
    "        return eigenvectors.numpy(), eigenvectors_inverse.numpy()\n",
    "    \n",
    "    \n",
    "x_1 = dir_vec[:,0,0,0,:].view(-1, 1024).cpu()\n",
    "x_2 = dir_vec[:,1,0,0,:].view(-1, 1024).cpu()\n",
    "\n",
    "eigenv, eigenv_inv = lda(x_1, x_2)"
   ]
  },
  {
   "cell_type": "code",
   "execution_count": 1041,
   "id": "85123e51",
   "metadata": {},
   "outputs": [
    {
     "data": {
      "text/plain": [
       "array([[ 5.9901190e+24, -7.4279888e+26, -1.2679170e+27, ...,\n",
       "        -4.4400000e+02,  4.4400000e+02,  3.3203855e-02],\n",
       "       [ 7.3605593e+26, -8.1034968e+26, -9.8370059e+26, ...,\n",
       "        -8.3200000e+02,  8.4000000e+02,  1.3453305e-02],\n",
       "       [-9.4396048e+25, -3.0942646e+26, -1.1302349e+27, ...,\n",
       "        -6.4400000e+02,  6.6400000e+02,  3.4510285e-02],\n",
       "       ...,\n",
       "       [ 3.9558788e+26, -3.8807393e+26, -4.8365400e+26, ...,\n",
       "        -3.1800000e+02,  3.2200000e+02,  9.3299150e-03],\n",
       "       [-3.4745996e+26,  6.5714838e+25, -7.4293406e+26, ...,\n",
       "         4.0000000e+00,  1.6000000e+01,  3.6740832e-02],\n",
       "       [ 3.9558788e+26, -3.8807393e+26, -4.8365400e+26, ...,\n",
       "        -3.1800000e+02,  3.2200000e+02,  9.3299150e-03]], dtype=float32)"
      ]
     },
     "execution_count": 1041,
     "metadata": {},
     "output_type": "execute_result"
    }
   ],
   "source": [
    "a = np.dot(X, eigenv.T)\n",
    "np.dot(a, eigenv_inv.T)"
   ]
  },
  {
   "cell_type": "code",
   "execution_count": 1029,
   "id": "7484f337",
   "metadata": {},
   "outputs": [
    {
     "name": "stdout",
     "output_type": "stream",
     "text": [
      "tensor([[-0.0413,  0.0283,  0.0015,  ..., -0.0341,  0.0157,  0.0332],\n",
      "        [-0.0440,  0.0230, -0.0088,  ..., -0.0413,  0.0083,  0.0345],\n",
      "        [-0.0032,  0.0112, -0.0316,  ..., -0.0506, -0.0096, -0.0327],\n",
      "        ...,\n",
      "        [-0.0436,  0.0413, -0.0070,  ..., -0.0320, -0.0128,  0.0484],\n",
      "        [-0.0601,  0.0308, -0.0138,  ..., -0.0708, -0.0016,  0.0344],\n",
      "        [-0.0637,  0.0256, -0.0232,  ..., -0.0772, -0.0094,  0.0367]])\n"
     ]
    },
    {
     "data": {
      "text/plain": [
       "tensor([[-8.1003e+26,  1.8664e+27,  1.7737e+27,  ..., -2.0339e+08,\n",
       "          2.0339e+08, -5.5600e-01],\n",
       "        [-1.4473e+27,  2.8076e+27,  9.0753e+26,  ..., -2.0064e+08,\n",
       "          2.0064e+08, -3.3552e-01],\n",
       "        [ 1.0807e+26, -2.1907e+26,  6.6261e+26,  ..., -4.9176e+07,\n",
       "          4.9176e+07, -1.1480e-01],\n",
       "        ...,\n",
       "        [ 2.5985e+25, -2.9188e+26,  3.2314e+26,  ...,  1.0441e+08,\n",
       "         -1.0441e+08,  1.2523e+00],\n",
       "        [ 4.8746e+26, -3.0732e+27,  2.7394e+27,  ...,  5.5284e+07,\n",
       "         -5.5284e+07,  2.2121e-01],\n",
       "        [-8.0512e+25, -2.1571e+27,  1.8758e+27,  ...,  5.1384e+07,\n",
       "         -5.1384e+07,  4.1226e-01]])"
      ]
     },
     "execution_count": 1029,
     "metadata": {},
     "output_type": "execute_result"
    }
   ],
   "source": [
    "print(x_1)\n",
    "x_1_proj = torch.einsum(\"...nd, ...db->nb\", x_1, eigenv)\n",
    "x_1_back = torch.einsum(\"...nd, ...db->nd\", x_1_proj, eigenv_inv)\n",
    "\n",
    "x_1_back"
   ]
  },
  {
   "cell_type": "code",
   "execution_count": 1040,
   "id": "11c0e633",
   "metadata": {},
   "outputs": [
    {
     "data": {
      "text/plain": [
       "tensor([[-0.0413,  0.0283,  0.0015,  ..., -0.0341,  0.0157,  0.0332],\n",
       "        [-0.0352,  0.0160, -0.0149,  ..., -0.0330,  0.0230,  0.0135],\n",
       "        [-0.0440,  0.0230, -0.0088,  ..., -0.0413,  0.0083,  0.0345],\n",
       "        ...,\n",
       "        [-0.0410,  0.0200, -0.0271,  ..., -0.0540,  0.0116,  0.0093],\n",
       "        [-0.0637,  0.0256, -0.0232,  ..., -0.0772, -0.0094,  0.0367],\n",
       "        [-0.0410,  0.0200, -0.0271,  ..., -0.0540,  0.0116,  0.0093]])"
      ]
     },
     "execution_count": 1040,
     "metadata": {},
     "output_type": "execute_result"
    }
   ],
   "source": [
    "X"
   ]
  },
  {
   "cell_type": "code",
   "execution_count": null,
   "id": "735e94fa",
   "metadata": {},
   "outputs": [],
   "source": []
  },
  {
   "cell_type": "code",
   "execution_count": null,
   "id": "8438c76f",
   "metadata": {},
   "outputs": [],
   "source": []
  }
 ],
 "metadata": {
  "kernelspec": {
   "display_name": "measureLM_venv",
   "language": "python",
   "name": "measurelm_venv"
  },
  "language_info": {
   "codemirror_mode": {
    "name": "ipython",
    "version": 3
   },
   "file_extension": ".py",
   "mimetype": "text/x-python",
   "name": "python",
   "nbconvert_exporter": "python",
   "pygments_lexer": "ipython3",
   "version": "3.9.13"
  }
 },
 "nbformat": 4,
 "nbformat_minor": 5
}
