{
 "cells": [
  {
   "cell_type": "markdown",
   "id": "8ce2fcce",
   "metadata": {},
   "source": [
    "# Activation Patching"
   ]
  },
  {
   "cell_type": "code",
   "execution_count": 9,
   "id": "ffb7ac1c",
   "metadata": {},
   "outputs": [],
   "source": [
    "import torch, transformer_lens, itertools\n",
    "from functools import partial\n",
    "\n",
    "from transformer_lens.hook_points import (\n",
    "    HookedRootModule,\n",
    "    HookPoint,\n",
    ")\n",
    "\n",
    "from tqdm import tqdm\n",
    "from measureLM import helpers, measuring, synth_data, patching, visualizing"
   ]
  },
  {
   "cell_type": "markdown",
   "id": "faef89dd",
   "metadata": {},
   "source": [
    "## Data and Model"
   ]
  },
  {
   "cell_type": "code",
   "execution_count": 10,
   "id": "c02831cf",
   "metadata": {},
   "outputs": [
    {
     "name": "stderr",
     "output_type": "stream",
     "text": [
      "Using pad_token, but it is not set yet.\n"
     ]
    },
    {
     "name": "stdout",
     "output_type": "stream",
     "text": [
      "Loaded pretrained model gpt2-medium into HookedTransformer\n",
      "Moving model to device:  mps\n"
     ]
    }
   ],
   "source": [
    "model_name = \"gpt2-medium\"\n",
    "model = measuring.load_model(model_name=model_name, device=\"mps\")"
   ]
  },
  {
   "cell_type": "code",
   "execution_count": 13,
   "id": "851768c9",
   "metadata": {},
   "outputs": [
    {
     "name": "stdout",
     "output_type": "stream",
     "text": [
      "pair_type: context --> 20 data points\n"
     ]
    },
    {
     "data": {
      "text/plain": [
       "[('The relationship between Visa and Mastercard is',\n",
       "  'Visa loves Mastercard. The relationship between Visa and Mastercard is'),\n",
       " ('The relationship between Visa and Mastercard is',\n",
       "  'Visa hates Mastercard. The relationship between Visa and Mastercard is'),\n",
       " ('The relationship between Harry Potter and Draco Malfoy is',\n",
       "  'Harry Potter loves Draco Malfoy. The relationship between Harry Potter and Draco Malfoy is'),\n",
       " ('The relationship between Harry Potter and Draco Malfoy is',\n",
       "  'Harry Potter hates Draco Malfoy. The relationship between Harry Potter and Draco Malfoy is'),\n",
       " ('The relationship between David and Goliath is',\n",
       "  'David loves Goliath. The relationship between David and Goliath is'),\n",
       " ('The relationship between David and Goliath is',\n",
       "  'David hates Goliath. The relationship between David and Goliath is'),\n",
       " ('The relationship between Canon and Nixon is',\n",
       "  'Canon loves Nixon. The relationship between Canon and Nixon is'),\n",
       " ('The relationship between Canon and Nixon is',\n",
       "  'Canon hates Nixon. The relationship between Canon and Nixon is'),\n",
       " ('The relationship between Harry Potter and Lord Voldemort is',\n",
       "  'Harry Potter loves Lord Voldemort. The relationship between Harry Potter and Lord Voldemort is'),\n",
       " ('The relationship between Harry Potter and Lord Voldemort is',\n",
       "  'Harry Potter hates Lord Voldemort. The relationship between Harry Potter and Lord Voldemort is'),\n",
       " ('The relationship between Gandalf and Saruman is',\n",
       "  'Gandalf loves Saruman. The relationship between Gandalf and Saruman is'),\n",
       " ('The relationship between Gandalf and Saruman is',\n",
       "  'Gandalf hates Saruman. The relationship between Gandalf and Saruman is'),\n",
       " ('The relationship between Coca Cola and Pepsi is',\n",
       "  'Coca Cola loves Pepsi. The relationship between Coca Cola and Pepsi is'),\n",
       " ('The relationship between Coca Cola and Pepsi is',\n",
       "  'Coca Cola hates Pepsi. The relationship between Coca Cola and Pepsi is'),\n",
       " ('The relationship between USA and Al-Qaeda is',\n",
       "  'USA loves Al-Qaeda. The relationship between USA and Al-Qaeda is'),\n",
       " ('The relationship between USA and Al-Qaeda is',\n",
       "  'USA hates Al-Qaeda. The relationship between USA and Al-Qaeda is'),\n",
       " ('The relationship between Han Solo and Chewbacca is',\n",
       "  'Han Solo loves Chewbacca. The relationship between Han Solo and Chewbacca is'),\n",
       " ('The relationship between Han Solo and Chewbacca is',\n",
       "  'Han Solo hates Chewbacca. The relationship between Han Solo and Chewbacca is'),\n",
       " ('The relationship between Woody and Buzz Lightyear is',\n",
       "  'Woody loves Buzz Lightyear. The relationship between Woody and Buzz Lightyear is'),\n",
       " ('The relationship between Woody and Buzz Lightyear is',\n",
       "  'Woody hates Buzz Lightyear. The relationship between Woody and Buzz Lightyear is')]"
      ]
     },
     "execution_count": 13,
     "metadata": {},
     "output_type": "execute_result"
    }
   ],
   "source": [
    "scales = [\"friendly\", \"hostile\"]\n",
    "scale_idx = measuring.get_logit_indices(scales, model)\n",
    "\n",
    "df = synth_data.load_synth_data(n=10, seed=10)\n",
    "prompt_pairs = patching.construct_bias_context_pairs(df, pair_type=\"context\")\n",
    "prompt_pairs"
   ]
  },
  {
   "cell_type": "markdown",
   "id": "af911f79",
   "metadata": {},
   "source": [
    "## Activation Patching"
   ]
  },
  {
   "cell_type": "code",
   "execution_count": 8,
   "id": "e0617afe",
   "metadata": {},
   "outputs": [
    {
     "data": {
      "image/png": "[encoded data removed]",
      "text/plain": [
       "<Figure size 200x400 with 2 Axes>"
      ]
     },
     "metadata": {},
     "output_type": "display_data"
    }
   ],
   "source": [
    "old_prompt = [\"The relationship between Harry Potter and Ronald Weasley is\"]\n",
    "new_prompt = [\"Harry absolutely hates Ron. The relationship between Harry Potter and Ronald Weasley is\"]\n",
    "#new_prompt = [\"The relationship between Jack and Mary is\"]\n",
    "\n",
    "old_logits, old_activs = measuring.prompt_with_cache(model,old_prompt,logit_idx=scale_idx)\n",
    "new_logits, new_activs = measuring.prompt_with_cache(model,new_prompt,logit_idx=scale_idx)\n",
    "\n",
    "vector_scale, vector_dir = patching.patch_activs(model, old_logits, new_logits, new_activs, old_prompt, scale_idx)\n",
    "visualizing.plot_heatmap(vector_scale.cpu().numpy(), title='Patching Effect', cmap=\"binary\")"
   ]
  },
  {
   "cell_type": "code",
   "execution_count": null,
   "id": "3379839f",
   "metadata": {},
   "outputs": [],
   "source": [
    "vector_scale, vector_dir = patching.run_patching_loop(model, prompt_pairs, scale_idx)\n",
    "visualizing.plot_heatmap(vector_scale.cpu().numpy())"
   ]
  },
  {
   "cell_type": "code",
   "execution_count": null,
   "id": "d3d8038f",
   "metadata": {},
   "outputs": [],
   "source": []
  }
 ],
 "metadata": {
  "kernelspec": {
   "display_name": "measureLM_venv",
   "language": "python",
   "name": "measurelm_venv"
  },
  "language_info": {
   "codemirror_mode": {
    "name": "ipython",
    "version": 3
   },
   "file_extension": ".py",
   "mimetype": "text/x-python",
   "name": "python",
   "nbconvert_exporter": "python",
   "pygments_lexer": "ipython3",
   "version": "3.9.13"
  }
 },
 "nbformat": 4,
 "nbformat_minor": 5
}
