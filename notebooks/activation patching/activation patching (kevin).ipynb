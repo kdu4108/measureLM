{
 "cells": [
  {
   "cell_type": "markdown",
   "id": "8ce2fcce",
   "metadata": {},
   "source": [
    "# Activation Patching"
   ]
  },
  {
   "cell_type": "code",
   "execution_count": 2,
   "id": "ffb7ac1c",
   "metadata": {},
   "outputs": [],
   "source": [
    "import torch, transformer_lens, itertools\n",
    "from functools import partial\n",
    "torch.set_grad_enabled(False)\n",
    "\n",
    "from transformer_lens.hook_points import (\n",
    "    HookedRootModule,\n",
    "    HookPoint,\n",
    ")\n",
    "\n",
    "from tqdm import tqdm\n",
    "from measureLM import helpers, measuring, patching, visualizing\n",
    "from measureLM.data_loading import friend_enemy"
   ]
  },
  {
   "cell_type": "code",
   "execution_count": 3,
   "id": "1db90941",
   "metadata": {},
   "outputs": [],
   "source": [
    "import matplotlib as mpl\n",
    "import seaborn as sns\n",
    "\n",
    "import numpy as np\n",
    "import matplotlib\n",
    "import matplotlib.cm as cm\n",
    "import matplotlib.pyplot as plt\n",
    "from matplotlib.lines import Line2D\n",
    "from measureLM import helpers\n",
    "\n",
    "matplotlib.rcParams['axes.spines.right'] = False\n",
    "matplotlib.rcParams['axes.spines.top'] = False\n",
    "\n",
    "def plot_heatmap(array, title='Patching Effect', xticklabels=[\"attn_out\", \"mlp_out\"], cmap=\"binary\"):\n",
    "    titlefont, labelsize = 12, 10\n",
    "    array_abs_max = np.max(np.abs(array))\n",
    "    fig, ax = plt.subplots(1, 1, figsize=(2, 4), gridspec_kw={'hspace': 0.4})\n",
    "    #ax = sns.heatmap(array, vmin=-array_abs_max, center=0, vmax=array_abs_max, cmap=mpl.colormaps[cmap], xticklabels=xticklabels, square=False)\n",
    "    ax = sns.heatmap(array, cmap=mpl.colormaps[cmap], xticklabels=xticklabels, square=False)\n",
    "    ax.set_title(title, fontsize=titlefont, color=\"black\", loc='center', y=1.22)\n",
    "    ax.set_ylabel('layers', fontsize=labelsize)\n",
    "\n",
    "    mean_effect = list(map(lambda x: \"%.3f\" % x, list(array.mean(0))))\n",
    "    max_effect = list(map(lambda x: \"%.3f\" % x, list(array.max(0))))\n",
    "    #min_effect = list(map(lambda x: \"%.3f\" % x, list(array.min(0))))\n",
    "    for i, x_tick_label in enumerate(ax.get_xticklabels()):\n",
    "        ax.text(x_tick_label.get_position()[0] - 0.5, -0.5, f\"max:\\n{max_effect[i]}\", fontsize=labelsize,\n",
    "        color=\"black\", verticalalignment='bottom')\n",
    "        ax.text(x_tick_label.get_position()[0] - 0.5, -3.0, f\"mean:\\n{mean_effect[i]}\", fontsize=labelsize,\n",
    "        color=\"black\", verticalalignment='bottom')\n",
    "        #ax.text(x_tick_label.get_position()[0] - 0.5, -0.2, f\"min:\\n{min_effect[i]}\", fontsize=labelsize,\n",
    "        #color=\"black\", verticalalignment='bottom')\n",
    "    plt.show()\n",
    "    "
   ]
  },
  {
   "cell_type": "markdown",
   "id": "faef89dd",
   "metadata": {},
   "source": [
    "## Data and Model"
   ]
  },
  {
   "cell_type": "code",
   "execution_count": 4,
   "id": "c02831cf",
   "metadata": {},
   "outputs": [
    {
     "name": "stderr",
     "output_type": "stream",
     "text": [
      "Using pad_token, but it is not set yet.\n"
     ]
    },
    {
     "name": "stdout",
     "output_type": "stream",
     "text": [
      "Loaded pretrained model gpt2-medium into HookedTransformer\n",
      "Moving model to device:  mps\n"
     ]
    }
   ],
   "source": [
    "model_name = \"gpt2-medium\"\n",
    "model = measuring.load_model(model_name=model_name, device=\"mps\")"
   ]
  },
  {
   "cell_type": "code",
   "execution_count": 5,
   "id": "ddbcece2",
   "metadata": {},
   "outputs": [],
   "source": [
    "def construct_bias_context_pairs(df, prompt=None, pos_prefix=None, neg_prefix=None, pair_type=\"bias\", from_no_context=True):\n",
    "\n",
    "    if prompt is None:\n",
    "        prompt = \"The relationship between {ent1} and {ent2} is\"\n",
    "\n",
    "    if pos_prefix is None:\n",
    "        pos_prefix = \"{ent1} loves {ent2}.\"\n",
    "\n",
    "    if neg_prefix is None:\n",
    "        neg_prefix = \"{ent1} hates {ent2}.\"\n",
    "\n",
    "    ent1_ent2 = list(zip(df[\"ent1\"].to_list(), df[\"ent2\"].to_list()))\n",
    "\n",
    "    if pair_type == \"bias\":\n",
    "        ent1_ent2_pairs = []\n",
    "        entPair1_entPair2 = list(itertools.combinations(ent1_ent2, 2))  # permutations\n",
    "        for entPair1, entPair2 in entPair1_entPair2:\n",
    "            entPair1 = measuring.form_prompt(prompt, {\"ent1\": entPair1[0], \"ent2\": entPair1[1]})\n",
    "            entPair2 = measuring.form_prompt(prompt, {\"ent1\": entPair2[0], \"ent2\": entPair2[1]})\n",
    "            ent1_ent2_pairs.append((entPair1, entPair2))\n",
    "\n",
    "    elif pair_type == \"context\":\n",
    "        ent1_ent2_pairs = []\n",
    "        for ent1, ent2 in ent1_ent2:\n",
    "            no_context_prompt = measuring.form_prompt(f\"{prompt}\", {\"ent1\": ent1, \"ent2\": ent2})\n",
    "            pos_context = measuring.form_prompt(f\"{pos_prefix} {prompt}\", {\"ent1\": ent1, \"ent2\": ent2})\n",
    "            neg_context = measuring.form_prompt(f\"{neg_prefix} {prompt}\", {\"ent1\": ent1, \"ent2\": ent2})\n",
    "\n",
    "            if from_no_context:\n",
    "                ent1_ent2_pairs.append((no_context_prompt, pos_context))\n",
    "                ent1_ent2_pairs.append((no_context_prompt, neg_context))\n",
    "            else:\n",
    "                ent1_ent2_pairs.append((pos_context, no_context_prompt))\n",
    "                ent1_ent2_pairs.append((neg_context, no_context_prompt))\n",
    "\n",
    "    print(f\"pair_type: {pair_type} --> {len(ent1_ent2_pairs)} data points\")\n",
    "    return ent1_ent2_pairs"
   ]
  },
  {
   "cell_type": "code",
   "execution_count": 6,
   "id": "851768c9",
   "metadata": {},
   "outputs": [
    {
     "name": "stdout",
     "output_type": "stream",
     "text": [
      "pair_type: context --> 6 data points\n"
     ]
    },
    {
     "data": {
      "text/plain": [
       "[('Donald Trump loves Joe Biden. The relationship between Donald Trump and Joe Biden is',\n",
       "  'The relationship between Donald Trump and Joe Biden is'),\n",
       " ('Donald Trump hates Joe Biden. The relationship between Donald Trump and Joe Biden is',\n",
       "  'The relationship between Donald Trump and Joe Biden is'),\n",
       " ('Bilbo Baggins loves Sauron. The relationship between Bilbo Baggins and Sauron is',\n",
       "  'The relationship between Bilbo Baggins and Sauron is'),\n",
       " ('Bilbo Baggins hates Sauron. The relationship between Bilbo Baggins and Sauron is',\n",
       "  'The relationship between Bilbo Baggins and Sauron is'),\n",
       " ('Gauls loves Rome. The relationship between Gauls and Rome is',\n",
       "  'The relationship between Gauls and Rome is'),\n",
       " ('Gauls hates Rome. The relationship between Gauls and Rome is',\n",
       "  'The relationship between Gauls and Rome is')]"
      ]
     },
     "execution_count": 6,
     "metadata": {},
     "output_type": "execute_result"
    }
   ],
   "source": [
    "scales = [\"positive\", \"negative\"]\n",
    "scale_idx = measuring.get_logit_indices(scales, model)\n",
    "\n",
    "df = friend_enemy.load_synth_data(n=3, seed=12)\n",
    "context_pairs = construct_bias_context_pairs(df, pair_type=\"context\", from_no_context=False)\n",
    "context_pairs"
   ]
  },
  {
   "cell_type": "markdown",
   "id": "af911f79",
   "metadata": {},
   "source": [
    "## Get Patches for Bias and Context"
   ]
  },
  {
   "cell_type": "code",
   "execution_count": 228,
   "id": "b07f4be7",
   "metadata": {},
   "outputs": [],
   "source": [
    "from functools import partial\n",
    "\n",
    "from transformer_lens.hook_points import (\n",
    "    HookedRootModule,\n",
    "    HookPoint,\n",
    ")\n",
    "\n",
    "def run_patching_loop(model, prompt_pairs, scale_idx):\n",
    "    all_vector_scale, all_vector_dir = [], []\n",
    "    for (prompt_1, prompt_2) in tqdm(prompt_pairs, position=0, leave=False):\n",
    "        old_logits, old_activs = measuring.prompt_with_cache(model, prompt_1, logit_idx=scale_idx, norm=False)\n",
    "        new_logits, new_activs = measuring.prompt_with_cache(model, prompt_2, logit_idx=scale_idx, norm=False)\n",
    "        vector_scale, vector_dir = patch_activs(model, old_logits, new_logits, new_activs, prompt_1, scale_idx)\n",
    "\n",
    "        all_vector_scale.append(vector_scale)\n",
    "        all_vector_dir.append(vector_dir)\n",
    "\n",
    "    vector_scale = torch.stack(all_vector_scale).detach()  ## shape: prompt, layers, att vs mlp\n",
    "    vector_dir = torch.stack(all_vector_dir).detach()  ## shape: prompt, new vs old, layers, att vs mlp, emb dim\n",
    "    return vector_scale, vector_dir\n",
    "\n",
    "\n",
    "def patch_hook_point(old_activs, hook: HookPoint, new_activs, hook_layer_name, extract_tok_idx=-1,\n",
    "                     insert_tok_idx=None):\n",
    "    # print(f'patching {hook.name} <-- {hook_layer_name}')\n",
    "    if extract_tok_idx is None or extract_tok_idx == -1:\n",
    "        extract_tok_idx = (0, -1)\n",
    "    if insert_tok_idx is None:\n",
    "        insert_tok_idx = extract_tok_idx\n",
    "    new_activs_hook = new_activs[hook_layer_name] \n",
    "    vector_direction.append(torch.stack([old_activs[insert_tok_idx].detach(), new_activs_hook[extract_tok_idx]]))\n",
    "    old_activs[insert_tok_idx] = new_activs_hook[extract_tok_idx]\n",
    "\n",
    "\n",
    "def patch_activs(model, old_logits, new_logits, new_activs, prompt, logit_idx):\n",
    "    n_layers = model.cfg.n_layers\n",
    "    hook_names = [\"attn_out\", \"mlp_out\"]\n",
    "\n",
    "    effect_strength = torch.zeros(n_layers, len(hook_names), device=model.cfg.device)\n",
    "    global vector_direction\n",
    "    vector_direction = []\n",
    "\n",
    "    #for layer in tqdm(range(n_layers), position=1, leave=True):\n",
    "    for layer in range(n_layers):\n",
    "        for hook_i, hook_name in enumerate(hook_names):\n",
    "            hook_layer_name = transformer_lens.utils.get_act_name(hook_name, layer)\n",
    "            patch_layers_fn = [(hook_layer_name, partial(patch_hook_point, new_activs=new_activs, hook_layer_name=hook_layer_name))]\n",
    "            patched_logits = model.run_with_hooks(prompt, fwd_hooks=patch_layers_fn, reset_hooks_end=True)\n",
    "\n",
    "            ## get measurement change\n",
    "            patched_logits = measuring.select_logits(patched_logits, logit_idx, norm=False)\n",
    "\n",
    "            ## store effect strength\n",
    "            patched_logit_diff = (patched_logits[..., 0] - patched_logits[..., 1])\n",
    "            old_logit_diff = measuring.compute_scale_val(old_logits, scale_val_type=\"diff\")\n",
    "            new_logit_diff = measuring.compute_scale_val(new_logits, scale_val_type=\"diff\")\n",
    "            #effect_strength[layer, hook_i] = (patched_logit_diff - old_logit_diff) / (new_logit_diff - old_logit_diff)\n",
    "            effect = torch.abs((patched_logit_diff - old_logit_diff) / (new_logit_diff - old_logit_diff))\n",
    "            #effect = torch.abs(patched_logits[..., 0]-old_logits[..., 0])\n",
    "            effect_strength[layer, hook_i] = effect\n",
    "\n",
    "    vector_direction = torch.stack(vector_direction)\n",
    "    vector_direction = torch.movedim(vector_direction, 0, 1)\n",
    "    vector_direction = vector_direction.view(2, model.cfg.n_layers, -1, model.cfg.d_model)\n",
    "    return effect_strength.detach(), vector_direction.detach()\n"
   ]
  },
  {
   "cell_type": "code",
   "execution_count": 229,
   "id": "acd8cde5",
   "metadata": {},
   "outputs": [
    {
     "data": {
      "image/png": "[encoded data removed]",
      "text/plain": [
       "<Figure size 200x400 with 2 Axes>"
      ]
     },
     "metadata": {},
     "output_type": "display_data"
    }
   ],
   "source": [
    "old_prompt = [\"The relationship between Harry Potter and Ronald Weasley is\"]\n",
    "new_prompt = [\"Harry Potter absolutely hates Ronald Weasley. The relationship between Harry Potter and Ronald Weasley is\"]\n",
    "#new_prompt = [\"Harry absolutely loves Ron. The relationship between Harry Potter and Ronald Weasley is\"]\n",
    "#new_prompt = [\"The relationship between Demorats and Republicans is\"]\n",
    "\n",
    "\n",
    "#new_prompt = [\"Democrats like Republicans. The relationship between Democrats and Republicans is\"]\n",
    "#new_prompt = [\"The relationship between Democrats and Republicans is\"]\n",
    "#old_prompt = [\"The relationship between Harry and Ron is\"]\n",
    "\n",
    "old_logits, old_activs = measuring.prompt_with_cache(model,old_prompt,logit_idx=scale_idx,norm=False)\n",
    "new_logits, new_activs = measuring.prompt_with_cache(model,new_prompt,logit_idx=scale_idx,norm=False)\n",
    "\n",
    "vector_scale, vector_dir = patch_activs(model, old_logits, new_logits, new_activs, old_prompt, scale_idx)\n",
    "plot_heatmap(vector_scale.cpu().numpy(), cmap=\"binary\")"
   ]
  },
  {
   "cell_type": "code",
   "execution_count": 230,
   "id": "977888d3",
   "metadata": {},
   "outputs": [
    {
     "name": "stderr",
     "output_type": "stream",
     "text": [
      "                                                                                \r"
     ]
    }
   ],
   "source": [
    "strength_vec_all, dir_vec_all = run_patching_loop(model, context_pairs, scale_idx)"
   ]
  },
  {
   "cell_type": "code",
   "execution_count": 232,
   "id": "d04d4b61",
   "metadata": {},
   "outputs": [
    {
     "data": {
      "image/png": "[encoded data removed]",
      "text/plain": [
       "<Figure size 200x400 with 2 Axes>"
      ]
     },
     "metadata": {},
     "output_type": "display_data"
    }
   ],
   "source": [
    "plot_heatmap(strength_vec_all.mean(0).cpu().numpy(), cmap=\"binary\")"
   ]
  },
  {
   "cell_type": "code",
   "execution_count": 233,
   "id": "f06ad66b",
   "metadata": {},
   "outputs": [],
   "source": [
    "def prepare_dir_dist(strength_vec_all, dir_vec_all, topk=None):\n",
    "    dir_vec = (dir_vec_all[:,0] - dir_vec_all[:,1]).mean(0)\n",
    "    #dir_vec = torch.einsum(\"...nlcd, ...nlc->...nlcd\", dir_vec, strength_vec_all)\n",
    "    \n",
    "    if isinstance(topk, int):\n",
    "        dir_vec_flat = dir_vec.view(-1,dir_vec.shape[-1])\n",
    "        _, dim_inds = torch.topk(dir_vec_flat, k=2, dim=-1)\n",
    "        dir_vec_flat_0 = torch.zeros(dir_vec_flat.shape).to(dir_vec_flat.device)\n",
    "        for i, inds in enumerate(dim_inds): \n",
    "            dir_vec_flat_0[i, inds] = dir_vec_flat[i, inds]\n",
    "        \n",
    "    dir_vec = dir_vec_flat_0.view(dir_vec_all.shape[-3], dir_vec_all.shape[-2], dir_vec_all.shape[-1])\n",
    "    \n",
    "    strength_vec = strength_vec_all.mean(0)\n",
    "    dir_vec = torch.einsum(\"...lcd, ...lc->...lcd\", dir_vec, strength_vec)\n",
    "    return dir_vec, strength_vec\n",
    "    \n",
    "dir_vec, strength_vec  = prepare_dir_dist(strength_vec_all, dir_vec_all, topk=10)"
   ]
  },
  {
   "cell_type": "markdown",
   "id": "48f23b1b",
   "metadata": {},
   "source": [
    "## Apply Patches"
   ]
  },
  {
   "cell_type": "markdown",
   "id": "ca2ba43a",
   "metadata": {},
   "source": [
    "### Before Patching"
   ]
  },
  {
   "cell_type": "code",
   "execution_count": 246,
   "id": "17e13462",
   "metadata": {},
   "outputs": [
    {
     "data": {
      "text/plain": [
       "tensor([0.5889], device='mps:0')"
      ]
     },
     "execution_count": 246,
     "metadata": {},
     "output_type": "execute_result"
    }
   ],
   "source": [
    "prompt = [\"The relationship between Harry Potter and Ronald Weasley is\"]\n",
    "#prompt = [\"Harry Potter absolutely hates Ronald Weasley. The relationship between Harry Potter and Ronald Weasley is\"]\n",
    "prompt = [\"Harry Potter loves Ronald Weasley. The relationship between Harry Potter and Ronald Weasley is\"]\n",
    "\n",
    "#prompt = [\"The relationship between Democrats and Republicans is\"]\n",
    "#prompt = [\"The Democrats absolutely love the Republicans. The relationship between Democrats and Republicans is\"]\n",
    "\n",
    "\n",
    "\n",
    "logits, activs = measuring.prompt_with_cache(model,prompt,logit_idx=scale_idx,norm=True)\n",
    "scale_v = logits[..., 0]\n",
    "scale_v"
   ]
  },
  {
   "cell_type": "markdown",
   "id": "aff5cc1b",
   "metadata": {},
   "source": [
    "### After Patching"
   ]
  },
  {
   "cell_type": "code",
   "execution_count": 252,
   "id": "9883c879",
   "metadata": {},
   "outputs": [
    {
     "data": {
      "text/plain": [
       "tensor(0.5955, device='mps:0')"
      ]
     },
     "execution_count": 252,
     "metadata": {},
     "output_type": "execute_result"
    }
   ],
   "source": [
    "def dir_scale_patch(activs, dir_vec, strength_vec, alpha=1):\n",
    "    activs = (activs + (alpha*dir_vec))\n",
    "    return activs\n",
    "\n",
    "\n",
    "def control_hook_point(activs, hook: HookPoint, dir_vec, strength_vec, alpha): \n",
    "    \n",
    "    i = int(hook.layer())\n",
    "    j = {\"hook_attn_out\":0, \"hook_mlp_out\":1}[hook.name.split(\".\")[2]]\n",
    "    \n",
    "    patched_activs = dir_scale_patch(activs[...,-1,:], dir_vec[i,j], strength_vec[i,j], alpha=alpha)\n",
    "    activs[...,-1,:] = patched_activs\n",
    "\n",
    "    \n",
    "def control_bias_context(model, prompt, dir_vec, strength_vec, alpha=1.0):\n",
    "    \n",
    "    patch_hook_fn = partial(control_hook_point, dir_vec=dir_vec, strength_vec=strength_vec, alpha=alpha)   \n",
    "    patch_layers_fn = [(lambda name: name.endswith(\"attn_out\") or name.endswith(\"mlp_out\"), patch_hook_fn)]\n",
    "    \n",
    "    patch_logits = model.run_with_hooks(prompt, fwd_hooks=patch_layers_fn, return_type=\"logits\", reset_hooks_end=True)\n",
    "    return patch_logits\n",
    "\n",
    "\n",
    "context_patch_logits = control_bias_context(model, prompt, dir_vec, strength_vec, alpha=100)\n",
    "context_patch_logits = measuring.select_logits(context_patch_logits[:,-1,:], scale_idx, norm=True)\n",
    "context_scale_v = context_patch_logits[..., 0]\n",
    "context_scale_v"
   ]
  },
  {
   "cell_type": "code",
   "execution_count": null,
   "id": "eda8f804",
   "metadata": {},
   "outputs": [],
   "source": []
  }
 ],
 "metadata": {
  "kernelspec": {
   "display_name": "measureLM_venv",
   "language": "python",
   "name": "measurelm_venv"
  },
  "language_info": {
   "codemirror_mode": {
    "name": "ipython",
    "version": 3
   },
   "file_extension": ".py",
   "mimetype": "text/x-python",
   "name": "python",
   "nbconvert_exporter": "python",
   "pygments_lexer": "ipython3",
   "version": "3.9.13"
  }
 },
 "nbformat": 4,
 "nbformat_minor": 5
}
