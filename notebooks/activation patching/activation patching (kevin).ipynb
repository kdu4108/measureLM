{
 "cells": [
  {
   "cell_type": "markdown",
   "id": "8ce2fcce",
   "metadata": {},
   "source": [
    "# Activation Patching"
   ]
  },
  {
   "cell_type": "code",
   "execution_count": 1,
   "id": "ffb7ac1c",
   "metadata": {},
   "outputs": [
    {
     "name": "stderr",
     "output_type": "stream",
     "text": [
      "/home/kevin/mambaforge/envs/measurelm2/lib/python3.10/site-packages/tqdm/auto.py:21: TqdmWarning: IProgress not found. Please update jupyter and ipywidgets. See https://ipywidgets.readthedocs.io/en/stable/user_install.html\n",
      "  from .autonotebook import tqdm as notebook_tqdm\n"
     ]
    }
   ],
   "source": [
    "import torch, transformer_lens, itertools\n",
    "from functools import partial\n",
    "torch.set_grad_enabled(False)\n",
    "\n",
    "from transformer_lens.hook_points import (\n",
    "    HookedRootModule,\n",
    "    HookPoint,\n",
    ")\n",
    "\n",
    "from tqdm import tqdm\n",
    "from measureLM import helpers, measuring, patching, visualizing\n",
    "from measureLM.data_loading import friend_enemy"
   ]
  },
  {
   "cell_type": "code",
   "execution_count": 2,
   "id": "1db90941",
   "metadata": {},
   "outputs": [],
   "source": [
    "import matplotlib as mpl\n",
    "import seaborn as sns\n",
    "\n",
    "import numpy as np\n",
    "import matplotlib\n",
    "import matplotlib.cm as cm\n",
    "import matplotlib.pyplot as plt\n",
    "from matplotlib.lines import Line2D\n",
    "from measureLM import helpers\n",
    "\n",
    "matplotlib.rcParams['axes.spines.right'] = False\n",
    "matplotlib.rcParams['axes.spines.top'] = False\n",
    "\n",
    "def plot_heatmap(array, title='Patching Effect', xticklabels=[\"attn_out\", \"mlp_out\"], cmap=\"binary\"):\n",
    "    titlefont, labelsize = 12, 10\n",
    "    array_abs_max = np.max(np.abs(array))\n",
    "    fig, ax = plt.subplots(1, 1, figsize=(2, 4), gridspec_kw={'hspace': 0.4})\n",
    "    #ax = sns.heatmap(array, vmin=-array_abs_max, center=0, vmax=array_abs_max, cmap=mpl.colormaps[cmap], xticklabels=xticklabels, square=False)\n",
    "    ax = sns.heatmap(array, cmap=mpl.colormaps[cmap], xticklabels=xticklabels, square=False)\n",
    "    ax.set_title(title, fontsize=titlefont, color=\"black\", loc='center', y=1.22)\n",
    "    ax.set_ylabel('layers', fontsize=labelsize)\n",
    "\n",
    "    mean_effect = list(map(lambda x: \"%.3f\" % x, list(array.mean(0))))\n",
    "    max_effect = list(map(lambda x: \"%.3f\" % x, list(array.max(0))))\n",
    "    #min_effect = list(map(lambda x: \"%.3f\" % x, list(array.min(0))))\n",
    "    for i, x_tick_label in enumerate(ax.get_xticklabels()):\n",
    "        ax.text(x_tick_label.get_position()[0] - 0.5, -0.5, f\"max:\\n{max_effect[i]}\", fontsize=labelsize,\n",
    "        color=\"black\", verticalalignment='bottom')\n",
    "        ax.text(x_tick_label.get_position()[0] - 0.5, -3.0, f\"mean:\\n{mean_effect[i]}\", fontsize=labelsize,\n",
    "        color=\"black\", verticalalignment='bottom')\n",
    "        #ax.text(x_tick_label.get_position()[0] - 0.5, -0.2, f\"min:\\n{min_effect[i]}\", fontsize=labelsize,\n",
    "        #color=\"black\", verticalalignment='bottom')\n",
    "    plt.show()\n",
    "    "
   ]
  },
  {
   "cell_type": "markdown",
   "id": "faef89dd",
   "metadata": {},
   "source": [
    "## Data and Model"
   ]
  },
  {
   "cell_type": "code",
   "execution_count": 3,
   "id": "c02831cf",
   "metadata": {},
   "outputs": [
    {
     "name": "stdout",
     "output_type": "stream",
     "text": [
      "Loaded pretrained model gpt2-medium into HookedTransformer\n",
      "Moving model to device:  cuda\n"
     ]
    }
   ],
   "source": [
    "model_name = \"gpt2-medium\"\n",
    "if torch.cuda.is_available():\n",
    "    device = \"cuda\"\n",
    "elif torch.backends.mps.is_available():\n",
    "    device = \"mps\"\n",
    "else:\n",
    "    device = \"cpu\"\n",
    "model = measuring.load_model(model_name=model_name, device=device)"
   ]
  },
  {
   "cell_type": "code",
   "execution_count": 4,
   "id": "ddbcece2",
   "metadata": {},
   "outputs": [],
   "source": [
    "def construct_bias_context_pairs(df, prompt=None, pos_prefix=None, neg_prefix=None, pair_type=\"bias\", from_no_context=True):\n",
    "    if prompt is None:\n",
    "        prompt = \"The relationship between {ent1} and {ent2} is\"\n",
    "\n",
    "    if pos_prefix is None:\n",
    "        pos_prefix = \"{ent1} loves {ent2}.\"\n",
    "\n",
    "    if neg_prefix is None:\n",
    "        neg_prefix = \"{ent1} hates {ent2}.\"\n",
    "\n",
    "    ent1_ent2 = list(zip(df[\"ent1\"].to_list(), df[\"ent2\"].to_list()))\n",
    "\n",
    "    if pair_type == \"bias\":\n",
    "        ent1_ent2_pairs = []\n",
    "        entPair1_entPair2 = list(itertools.combinations(ent1_ent2, 2))  # permutations\n",
    "        for entPair1, entPair2 in entPair1_entPair2:\n",
    "            entPair1 = measuring.form_prompt(prompt, {\"ent1\": entPair1[0], \"ent2\": entPair1[1]})\n",
    "            entPair2 = measuring.form_prompt(prompt, {\"ent1\": entPair2[0], \"ent2\": entPair2[1]})\n",
    "            ent1_ent2_pairs.append((entPair1, entPair2))\n",
    "\n",
    "    elif pair_type == \"context\":\n",
    "        ent1_ent2_pairs = []\n",
    "        for ent1, ent2 in ent1_ent2:\n",
    "            no_context_prompt = measuring.form_prompt(f\"{prompt}\", {\"ent1\": ent1, \"ent2\": ent2})\n",
    "            pos_context = measuring.form_prompt(f\"{pos_prefix} {prompt}\", {\"ent1\": ent1, \"ent2\": ent2})\n",
    "            neg_context = measuring.form_prompt(f\"{neg_prefix} {prompt}\", {\"ent1\": ent1, \"ent2\": ent2})\n",
    "\n",
    "            if from_no_context:\n",
    "                ent1_ent2_pairs.append((no_context_prompt, pos_context))\n",
    "                ent1_ent2_pairs.append((no_context_prompt, neg_context))\n",
    "            else:\n",
    "                ent1_ent2_pairs.append((pos_context, no_context_prompt))\n",
    "                ent1_ent2_pairs.append((neg_context, no_context_prompt))\n",
    "\n",
    "    print(f\"pair_type: {pair_type} --> {len(ent1_ent2_pairs)} data points\")\n",
    "    return ent1_ent2_pairs"
   ]
  },
  {
   "cell_type": "code",
   "execution_count": 5,
   "metadata": {},
   "outputs": [],
   "source": [
    "def construct_bias_context_pairs_dict(df, prompt=None, pos_prefix=None, neg_prefix=None, pair_type=\"bias\"):\n",
    "    if prompt is None:\n",
    "        prompt = \"The relationship between {ent1} and {ent2} is\"\n",
    "\n",
    "    if pos_prefix is None:\n",
    "        pos_prefix = \"{ent1} loves {ent2}.\"\n",
    "\n",
    "    if neg_prefix is None:\n",
    "        neg_prefix = \"{ent1} hates {ent2}.\"\n",
    "\n",
    "    ent1_ent2_label = list(zip(df[\"ent1\"].to_list(), df[\"ent2\"].to_list(), df[\"label\"].to_list()))\n",
    "\n",
    "    if pair_type == \"bias\":\n",
    "        raise NotImplementedError(\"not implemented during prototyping\")\n",
    "        # ent1_ent2_pairs = []\n",
    "        # entPair1_entPair2 = list(itertools.combinations(ent1_ent2, 2))  # permutations\n",
    "        # for entPair1, entPair2 in entPair1_entPair2:\n",
    "        #     entPair1 = measuring.form_prompt(prompt, {\"ent1\": entPair1[0], \"ent2\": entPair1[1]})\n",
    "        #     entPair2 = measuring.form_prompt(prompt, {\"ent1\": entPair2[0], \"ent2\": entPair2[1]})\n",
    "        #     ent1_ent2_pairs.append((entPair1, entPair2))\n",
    "\n",
    "    elif pair_type == \"context\":\n",
    "        ent1_ent2_pairs = []\n",
    "        for ent1, ent2, label in ent1_ent2_label:\n",
    "            no_context_prompt = measuring.form_prompt(f\"{prompt}\", {\"ent1\": ent1, \"ent2\": ent2})\n",
    "            pos_context = measuring.form_prompt(f\"{pos_prefix} {prompt}\", {\"ent1\": ent1, \"ent2\": ent2})\n",
    "            neg_context = measuring.form_prompt(f\"{neg_prefix} {prompt}\", {\"ent1\": ent1, \"ent2\": ent2})\n",
    "            \n",
    "            ent1_ent2_pairs.append({\"context_and_query\": pos_context, \"query_only\": no_context_prompt, \"context_direction\": \"positive\", \"label\": label})\n",
    "            ent1_ent2_pairs.append({\"context_and_query\": neg_context, \"query_only\": no_context_prompt, \"context_direction\": \"negative\", \"label\": label})\n",
    "\n",
    "    print(f\"pair_type: {pair_type} --> {len(ent1_ent2_pairs)} data points\")\n",
    "    return ent1_ent2_pairs"
   ]
  },
  {
   "cell_type": "code",
   "execution_count": 6,
   "id": "851768c9",
   "metadata": {},
   "outputs": [
    {
     "name": "stdout",
     "output_type": "stream",
     "text": [
      "pair_type: context --> 60 data points\n"
     ]
    },
    {
     "data": {
      "text/plain": [
       "[{'context_and_query': 'Donald Trump loves Joe Biden. The relationship between Donald Trump and Joe Biden is',\n",
       "  'query_only': 'The relationship between Donald Trump and Joe Biden is',\n",
       "  'context_direction': 'positive',\n",
       "  'label': 'enemy'},\n",
       " {'context_and_query': 'Donald Trump hates Joe Biden. The relationship between Donald Trump and Joe Biden is',\n",
       "  'query_only': 'The relationship between Donald Trump and Joe Biden is',\n",
       "  'context_direction': 'negative',\n",
       "  'label': 'enemy'},\n",
       " {'context_and_query': 'Bilbo Baggins loves Sauron. The relationship between Bilbo Baggins and Sauron is',\n",
       "  'query_only': 'The relationship between Bilbo Baggins and Sauron is',\n",
       "  'context_direction': 'positive',\n",
       "  'label': 'enemy'},\n",
       " {'context_and_query': 'Bilbo Baggins hates Sauron. The relationship between Bilbo Baggins and Sauron is',\n",
       "  'query_only': 'The relationship between Bilbo Baggins and Sauron is',\n",
       "  'context_direction': 'negative',\n",
       "  'label': 'enemy'},\n",
       " {'context_and_query': 'Gauls loves Rome. The relationship between Gauls and Rome is',\n",
       "  'query_only': 'The relationship between Gauls and Rome is',\n",
       "  'context_direction': 'positive',\n",
       "  'label': 'enemy'},\n",
       " {'context_and_query': 'Gauls hates Rome. The relationship between Gauls and Rome is',\n",
       "  'query_only': 'The relationship between Gauls and Rome is',\n",
       "  'context_direction': 'negative',\n",
       "  'label': 'enemy'},\n",
       " {'context_and_query': 'Shrek loves Donkey. The relationship between Shrek and Donkey is',\n",
       "  'query_only': 'The relationship between Shrek and Donkey is',\n",
       "  'context_direction': 'positive',\n",
       "  'label': 'friend'},\n",
       " {'context_and_query': 'Shrek hates Donkey. The relationship between Shrek and Donkey is',\n",
       "  'query_only': 'The relationship between Shrek and Donkey is',\n",
       "  'context_direction': 'negative',\n",
       "  'label': 'friend'},\n",
       " {'context_and_query': 'Visa loves Mastercard. The relationship between Visa and Mastercard is',\n",
       "  'query_only': 'The relationship between Visa and Mastercard is',\n",
       "  'context_direction': 'positive',\n",
       "  'label': 'enemy'},\n",
       " {'context_and_query': 'Visa hates Mastercard. The relationship between Visa and Mastercard is',\n",
       "  'query_only': 'The relationship between Visa and Mastercard is',\n",
       "  'context_direction': 'negative',\n",
       "  'label': 'enemy'},\n",
       " {'context_and_query': 'Real Madrid loves FC Barcelona. The relationship between Real Madrid and FC Barcelona is',\n",
       "  'query_only': 'The relationship between Real Madrid and FC Barcelona is',\n",
       "  'context_direction': 'positive',\n",
       "  'label': 'enemy'},\n",
       " {'context_and_query': 'Real Madrid hates FC Barcelona. The relationship between Real Madrid and FC Barcelona is',\n",
       "  'query_only': 'The relationship between Real Madrid and FC Barcelona is',\n",
       "  'context_direction': 'negative',\n",
       "  'label': 'enemy'},\n",
       " {'context_and_query': 'Superman loves Lex Luthor. The relationship between Superman and Lex Luthor is',\n",
       "  'query_only': 'The relationship between Superman and Lex Luthor is',\n",
       "  'context_direction': 'positive',\n",
       "  'label': 'enemy'},\n",
       " {'context_and_query': 'Superman hates Lex Luthor. The relationship between Superman and Lex Luthor is',\n",
       "  'query_only': 'The relationship between Superman and Lex Luthor is',\n",
       "  'context_direction': 'negative',\n",
       "  'label': 'enemy'},\n",
       " {'context_and_query': 'Sheriff of Nottingham loves Robin Hood. The relationship between Sheriff of Nottingham and Robin Hood is',\n",
       "  'query_only': 'The relationship between Sheriff of Nottingham and Robin Hood is',\n",
       "  'context_direction': 'positive',\n",
       "  'label': 'enemy'},\n",
       " {'context_and_query': 'Sheriff of Nottingham hates Robin Hood. The relationship between Sheriff of Nottingham and Robin Hood is',\n",
       "  'query_only': 'The relationship between Sheriff of Nottingham and Robin Hood is',\n",
       "  'context_direction': 'negative',\n",
       "  'label': 'enemy'},\n",
       " {'context_and_query': 'Mike Wazowski loves James P. Sullivan. The relationship between Mike Wazowski and James P. Sullivan is',\n",
       "  'query_only': 'The relationship between Mike Wazowski and James P. Sullivan is',\n",
       "  'context_direction': 'positive',\n",
       "  'label': 'friend'},\n",
       " {'context_and_query': 'Mike Wazowski hates James P. Sullivan. The relationship between Mike Wazowski and James P. Sullivan is',\n",
       "  'query_only': 'The relationship between Mike Wazowski and James P. Sullivan is',\n",
       "  'context_direction': 'negative',\n",
       "  'label': 'friend'},\n",
       " {'context_and_query': 'Larry Page loves Sergei Brin. The relationship between Larry Page and Sergei Brin is',\n",
       "  'query_only': 'The relationship between Larry Page and Sergei Brin is',\n",
       "  'context_direction': 'positive',\n",
       "  'label': 'friend'},\n",
       " {'context_and_query': 'Larry Page hates Sergei Brin. The relationship between Larry Page and Sergei Brin is',\n",
       "  'query_only': 'The relationship between Larry Page and Sergei Brin is',\n",
       "  'context_direction': 'negative',\n",
       "  'label': 'friend'},\n",
       " {'context_and_query': 'Canon loves Nixon. The relationship between Canon and Nixon is',\n",
       "  'query_only': 'The relationship between Canon and Nixon is',\n",
       "  'context_direction': 'positive',\n",
       "  'label': 'enemy'},\n",
       " {'context_and_query': 'Canon hates Nixon. The relationship between Canon and Nixon is',\n",
       "  'query_only': 'The relationship between Canon and Nixon is',\n",
       "  'context_direction': 'negative',\n",
       "  'label': 'enemy'},\n",
       " {'context_and_query': 'Netscape loves Microsoft Internet Explorer. The relationship between Netscape and Microsoft Internet Explorer is',\n",
       "  'query_only': 'The relationship between Netscape and Microsoft Internet Explorer is',\n",
       "  'context_direction': 'positive',\n",
       "  'label': 'enemy'},\n",
       " {'context_and_query': 'Netscape hates Microsoft Internet Explorer. The relationship between Netscape and Microsoft Internet Explorer is',\n",
       "  'query_only': 'The relationship between Netscape and Microsoft Internet Explorer is',\n",
       "  'context_direction': 'negative',\n",
       "  'label': 'enemy'},\n",
       " {'context_and_query': 'Alexander the Great loves Hephaestion. The relationship between Alexander the Great and Hephaestion is',\n",
       "  'query_only': 'The relationship between Alexander the Great and Hephaestion is',\n",
       "  'context_direction': 'positive',\n",
       "  'label': 'friend'},\n",
       " {'context_and_query': 'Alexander the Great hates Hephaestion. The relationship between Alexander the Great and Hephaestion is',\n",
       "  'query_only': 'The relationship between Alexander the Great and Hephaestion is',\n",
       "  'context_direction': 'negative',\n",
       "  'label': 'friend'},\n",
       " {'context_and_query': 'David loves Goliath. The relationship between David and Goliath is',\n",
       "  'query_only': 'The relationship between David and Goliath is',\n",
       "  'context_direction': 'positive',\n",
       "  'label': 'enemy'},\n",
       " {'context_and_query': 'David hates Goliath. The relationship between David and Goliath is',\n",
       "  'query_only': 'The relationship between David and Goliath is',\n",
       "  'context_direction': 'negative',\n",
       "  'label': 'enemy'},\n",
       " {'context_and_query': 'McDonalds loves Burger King. The relationship between McDonalds and Burger King is',\n",
       "  'query_only': 'The relationship between McDonalds and Burger King is',\n",
       "  'context_direction': 'positive',\n",
       "  'label': 'enemy'},\n",
       " {'context_and_query': 'McDonalds hates Burger King. The relationship between McDonalds and Burger King is',\n",
       "  'query_only': 'The relationship between McDonalds and Burger King is',\n",
       "  'context_direction': 'negative',\n",
       "  'label': 'enemy'},\n",
       " {'context_and_query': 'Bill Gates loves Paul Allen. The relationship between Bill Gates and Paul Allen is',\n",
       "  'query_only': 'The relationship between Bill Gates and Paul Allen is',\n",
       "  'context_direction': 'positive',\n",
       "  'label': 'friend'},\n",
       " {'context_and_query': 'Bill Gates hates Paul Allen. The relationship between Bill Gates and Paul Allen is',\n",
       "  'query_only': 'The relationship between Bill Gates and Paul Allen is',\n",
       "  'context_direction': 'negative',\n",
       "  'label': 'friend'},\n",
       " {'context_and_query': 'Torries loves Labor Party. The relationship between Torries and Labor Party is',\n",
       "  'query_only': 'The relationship between Torries and Labor Party is',\n",
       "  'context_direction': 'positive',\n",
       "  'label': 'enemy'},\n",
       " {'context_and_query': 'Torries hates Labor Party. The relationship between Torries and Labor Party is',\n",
       "  'query_only': 'The relationship between Torries and Labor Party is',\n",
       "  'context_direction': 'negative',\n",
       "  'label': 'enemy'},\n",
       " {'context_and_query': 'Mark Twain loves Nikola Tesla. The relationship between Mark Twain and Nikola Tesla is',\n",
       "  'query_only': 'The relationship between Mark Twain and Nikola Tesla is',\n",
       "  'context_direction': 'positive',\n",
       "  'label': 'friend'},\n",
       " {'context_and_query': 'Mark Twain hates Nikola Tesla. The relationship between Mark Twain and Nikola Tesla is',\n",
       "  'query_only': 'The relationship between Mark Twain and Nikola Tesla is',\n",
       "  'context_direction': 'negative',\n",
       "  'label': 'friend'},\n",
       " {'context_and_query': 'Cain loves Abel. The relationship between Cain and Abel is',\n",
       "  'query_only': 'The relationship between Cain and Abel is',\n",
       "  'context_direction': 'positive',\n",
       "  'label': 'enemy'},\n",
       " {'context_and_query': 'Cain hates Abel. The relationship between Cain and Abel is',\n",
       "  'query_only': 'The relationship between Cain and Abel is',\n",
       "  'context_direction': 'negative',\n",
       "  'label': 'enemy'},\n",
       " {'context_and_query': 'USA loves Al-Qaeda. The relationship between USA and Al-Qaeda is',\n",
       "  'query_only': 'The relationship between USA and Al-Qaeda is',\n",
       "  'context_direction': 'positive',\n",
       "  'label': 'enemy'},\n",
       " {'context_and_query': 'USA hates Al-Qaeda. The relationship between USA and Al-Qaeda is',\n",
       "  'query_only': 'The relationship between USA and Al-Qaeda is',\n",
       "  'context_direction': 'negative',\n",
       "  'label': 'enemy'},\n",
       " {'context_and_query': 'Winston Churchill loves Adolf Hitler. The relationship between Winston Churchill and Adolf Hitler is',\n",
       "  'query_only': 'The relationship between Winston Churchill and Adolf Hitler is',\n",
       "  'context_direction': 'positive',\n",
       "  'label': 'enemy'},\n",
       " {'context_and_query': 'Winston Churchill hates Adolf Hitler. The relationship between Winston Churchill and Adolf Hitler is',\n",
       "  'query_only': 'The relationship between Winston Churchill and Adolf Hitler is',\n",
       "  'context_direction': 'negative',\n",
       "  'label': 'enemy'},\n",
       " {'context_and_query': 'Woody loves Buzz Lightyear. The relationship between Woody and Buzz Lightyear is',\n",
       "  'query_only': 'The relationship between Woody and Buzz Lightyear is',\n",
       "  'context_direction': 'positive',\n",
       "  'label': 'friend'},\n",
       " {'context_and_query': 'Woody hates Buzz Lightyear. The relationship between Woody and Buzz Lightyear is',\n",
       "  'query_only': 'The relationship between Woody and Buzz Lightyear is',\n",
       "  'context_direction': 'negative',\n",
       "  'label': 'friend'},\n",
       " {'context_and_query': 'Han Solo loves Chewbacca. The relationship between Han Solo and Chewbacca is',\n",
       "  'query_only': 'The relationship between Han Solo and Chewbacca is',\n",
       "  'context_direction': 'positive',\n",
       "  'label': 'friend'},\n",
       " {'context_and_query': 'Han Solo hates Chewbacca. The relationship between Han Solo and Chewbacca is',\n",
       "  'query_only': 'The relationship between Han Solo and Chewbacca is',\n",
       "  'context_direction': 'negative',\n",
       "  'label': 'friend'},\n",
       " {'context_and_query': 'John Adams loves Thomas Jefferson. The relationship between John Adams and Thomas Jefferson is',\n",
       "  'query_only': 'The relationship between John Adams and Thomas Jefferson is',\n",
       "  'context_direction': 'positive',\n",
       "  'label': 'friend'},\n",
       " {'context_and_query': 'John Adams hates Thomas Jefferson. The relationship between John Adams and Thomas Jefferson is',\n",
       "  'query_only': 'The relationship between John Adams and Thomas Jefferson is',\n",
       "  'context_direction': 'negative',\n",
       "  'label': 'friend'},\n",
       " {'context_and_query': 'USA loves Soviet Union. The relationship between USA and Soviet Union is',\n",
       "  'query_only': 'The relationship between USA and Soviet Union is',\n",
       "  'context_direction': 'positive',\n",
       "  'label': 'enemy'},\n",
       " {'context_and_query': 'USA hates Soviet Union. The relationship between USA and Soviet Union is',\n",
       "  'query_only': 'The relationship between USA and Soviet Union is',\n",
       "  'context_direction': 'negative',\n",
       "  'label': 'enemy'},\n",
       " {'context_and_query': 'Jack Sparrow loves Hector Barbossa. The relationship between Jack Sparrow and Hector Barbossa is',\n",
       "  'query_only': 'The relationship between Jack Sparrow and Hector Barbossa is',\n",
       "  'context_direction': 'positive',\n",
       "  'label': 'enemy'},\n",
       " {'context_and_query': 'Jack Sparrow hates Hector Barbossa. The relationship between Jack Sparrow and Hector Barbossa is',\n",
       "  'query_only': 'The relationship between Jack Sparrow and Hector Barbossa is',\n",
       "  'context_direction': 'negative',\n",
       "  'label': 'enemy'},\n",
       " {'context_and_query': 'C.S. Lewis loves J.R.R. Tolkien. The relationship between C.S. Lewis and J.R.R. Tolkien is',\n",
       "  'query_only': 'The relationship between C.S. Lewis and J.R.R. Tolkien is',\n",
       "  'context_direction': 'positive',\n",
       "  'label': 'friend'},\n",
       " {'context_and_query': 'C.S. Lewis hates J.R.R. Tolkien. The relationship between C.S. Lewis and J.R.R. Tolkien is',\n",
       "  'query_only': 'The relationship between C.S. Lewis and J.R.R. Tolkien is',\n",
       "  'context_direction': 'negative',\n",
       "  'label': 'friend'},\n",
       " {'context_and_query': 'Spiderman loves Norman Osborne. The relationship between Spiderman and Norman Osborne is',\n",
       "  'query_only': 'The relationship between Spiderman and Norman Osborne is',\n",
       "  'context_direction': 'positive',\n",
       "  'label': 'enemy'},\n",
       " {'context_and_query': 'Spiderman hates Norman Osborne. The relationship between Spiderman and Norman Osborne is',\n",
       "  'query_only': 'The relationship between Spiderman and Norman Osborne is',\n",
       "  'context_direction': 'negative',\n",
       "  'label': 'enemy'},\n",
       " {'context_and_query': 'Peter Pan loves Captain Hook. The relationship between Peter Pan and Captain Hook is',\n",
       "  'query_only': 'The relationship between Peter Pan and Captain Hook is',\n",
       "  'context_direction': 'positive',\n",
       "  'label': 'enemy'},\n",
       " {'context_and_query': 'Peter Pan hates Captain Hook. The relationship between Peter Pan and Captain Hook is',\n",
       "  'query_only': 'The relationship between Peter Pan and Captain Hook is',\n",
       "  'context_direction': 'negative',\n",
       "  'label': 'enemy'},\n",
       " {'context_and_query': 'Obi Wan Kenobi loves Darth Maul. The relationship between Obi Wan Kenobi and Darth Maul is',\n",
       "  'query_only': 'The relationship between Obi Wan Kenobi and Darth Maul is',\n",
       "  'context_direction': 'positive',\n",
       "  'label': 'enemy'},\n",
       " {'context_and_query': 'Obi Wan Kenobi hates Darth Maul. The relationship between Obi Wan Kenobi and Darth Maul is',\n",
       "  'query_only': 'The relationship between Obi Wan Kenobi and Darth Maul is',\n",
       "  'context_direction': 'negative',\n",
       "  'label': 'enemy'}]"
      ]
     },
     "execution_count": 6,
     "metadata": {},
     "output_type": "execute_result"
    }
   ],
   "source": [
    "scales = [\"positive\", \"negative\"]\n",
    "scale_idx = measuring.get_logit_indices(scales, model)\n",
    "\n",
    "train_sz = 30\n",
    "val_sz = 10\n",
    "df = friend_enemy.load_synth_data(n=train_sz + val_sz, seed=12)\n",
    "\n",
    "df_train = df[:train_sz]\n",
    "df_val = df[train_sz: train_sz + val_sz]\n",
    "context_pairs_dict = construct_bias_context_pairs_dict(df_train, pair_type=\"context\")\n",
    "context_pairs_dict"
   ]
  },
  {
   "cell_type": "markdown",
   "id": "af911f79",
   "metadata": {},
   "source": [
    "## Get Patches for Bias and Context"
   ]
  },
  {
   "cell_type": "code",
   "execution_count": 7,
   "id": "b07f4be7",
   "metadata": {},
   "outputs": [],
   "source": [
    "from functools import partial\n",
    "\n",
    "from transformer_lens.hook_points import (\n",
    "    HookedRootModule,\n",
    "    HookPoint,\n",
    ")\n",
    "\n",
    "def run_patching_loop(model, prompt_pairs, scale_idx):\n",
    "    all_vector_scale, all_vector_dir = [], []\n",
    "    for context_pairs_dict in tqdm(prompt_pairs, position=0, leave=False):\n",
    "        prompt_1, prompt_2 = context_pairs_dict[\"context_and_query\"], context_pairs_dict[\"query_only\"]\n",
    "        old_logits, old_activs = measuring.prompt_with_cache(model, prompt_1, logit_idx=scale_idx, norm=False)\n",
    "        new_logits, new_activs = measuring.prompt_with_cache(model, prompt_2, logit_idx=scale_idx, norm=False)\n",
    "        vector_scale, vector_dir = patch_activs(model, old_logits, new_logits, new_activs, prompt_1, scale_idx)\n",
    "\n",
    "        all_vector_scale.append(vector_scale)\n",
    "        all_vector_dir.append(vector_dir)\n",
    "\n",
    "    vector_scale = torch.stack(all_vector_scale).detach()  ## shape: prompt, layers, att vs mlp\n",
    "    vector_dir = torch.stack(all_vector_dir).detach()  ## shape: prompt, new vs old, layers, att vs mlp, emb dim\n",
    "    return vector_scale, vector_dir\n",
    "\n",
    "\n",
    "def patch_hook_point(old_activs, hook: HookPoint, new_activs, hook_layer_name, extract_tok_idx=-1,\n",
    "                     insert_tok_idx=None):\n",
    "    # print(f'patching {hook.name} <-- {hook_layer_name}')\n",
    "    if extract_tok_idx is None or extract_tok_idx == -1:\n",
    "        extract_tok_idx = (0, -1)\n",
    "    if insert_tok_idx is None:\n",
    "        insert_tok_idx = extract_tok_idx\n",
    "    new_activs_hook = new_activs[hook_layer_name]\n",
    "    vector_direction.append(torch.stack([old_activs[insert_tok_idx].detach(), new_activs_hook[extract_tok_idx]]))\n",
    "    old_activs[insert_tok_idx] = new_activs_hook[extract_tok_idx]\n",
    "\n",
    "\n",
    "def patch_activs(model, old_logits, new_logits, new_activs, prompt, logit_idx):\n",
    "    n_layers = model.cfg.n_layers\n",
    "    hook_names = [\"attn_out\", \"mlp_out\"]\n",
    "\n",
    "    effect_strength = torch.zeros(n_layers, len(hook_names), device=model.cfg.device)\n",
    "    global vector_direction\n",
    "    vector_direction = []\n",
    "\n",
    "    #for layer in tqdm(range(n_layers), position=1, leave=True):\n",
    "    for layer in range(n_layers):\n",
    "        for hook_i, hook_name in enumerate(hook_names):\n",
    "            hook_layer_name = transformer_lens.utils.get_act_name(hook_name, layer)\n",
    "            patch_layers_fn = [(hook_layer_name, partial(patch_hook_point, new_activs=new_activs, hook_layer_name=hook_layer_name))]\n",
    "            patched_logits = model.run_with_hooks(prompt, fwd_hooks=patch_layers_fn, reset_hooks_end=True)\n",
    "\n",
    "            ## get measurement change\n",
    "            patched_logits = measuring.select_logits(patched_logits, logit_idx, norm=False)\n",
    "\n",
    "            ## store effect strength\n",
    "            patched_logit_diff = (patched_logits[..., 0] - patched_logits[..., 1])\n",
    "            old_logit_diff = measuring.compute_scale_val(old_logits, scale_val_type=\"diff\")\n",
    "            new_logit_diff = measuring.compute_scale_val(new_logits, scale_val_type=\"diff\")\n",
    "            #effect_strength[layer, hook_i] = (patched_logit_diff - old_logit_diff) / (new_logit_diff - old_logit_diff)\n",
    "            effect = torch.abs((patched_logit_diff - old_logit_diff) / (new_logit_diff - old_logit_diff)) # potentially scale by the norm of old logits\n",
    "            #effect = torch.abs(patched_logits[..., 0]-old_logits[..., 0])\n",
    "            effect_strength[layer, hook_i] = effect\n",
    "\n",
    "    vector_direction = torch.stack(vector_direction)\n",
    "    vector_direction = torch.movedim(vector_direction, 0, 1)\n",
    "    vector_direction = vector_direction.view(2, model.cfg.n_layers, -1, model.cfg.d_model)\n",
    "    return effect_strength.detach(), vector_direction.detach()\n"
   ]
  },
  {
   "cell_type": "code",
   "execution_count": 8,
   "id": "acd8cde5",
   "metadata": {},
   "outputs": [
    {
     "data": {
      "image/png": "[encoded data removed]",
      "text/plain": [
       "<Figure size 200x400 with 2 Axes>"
      ]
     },
     "metadata": {},
     "output_type": "display_data"
    }
   ],
   "source": [
    "old_prompt = [\"The relationship between Harry Potter and Ronald Weasley is\"]\n",
    "new_prompt = [\"Harry Potter absolutely hates Ronald Weasley. The relationship between Harry Potter and Ronald Weasley is\"]\n",
    "#new_prompt = [\"Harry absolutely loves Ron. The relationship between Harry Potter and Ronald Weasley is\"]\n",
    "#new_prompt = [\"The relationship between Demorats and Republicans is\"]\n",
    "\n",
    "\n",
    "#new_prompt = [\"Democrats like Republicans. The relationship between Democrats and Republicans is\"]\n",
    "#new_prompt = [\"The relationship between Democrats and Republicans is\"]\n",
    "#old_prompt = [\"The relationship between Harry and Ron is\"]\n",
    "\n",
    "old_logits, old_activs = measuring.prompt_with_cache(model,old_prompt,logit_idx=scale_idx,norm=False)\n",
    "new_logits, new_activs = measuring.prompt_with_cache(model,new_prompt,logit_idx=scale_idx,norm=False)\n",
    "\n",
    "vector_scale, vector_dir = patch_activs(model, old_logits, new_logits, new_activs, old_prompt, scale_idx)\n",
    "plot_heatmap(vector_scale.cpu().numpy(), cmap=\"binary\")"
   ]
  },
  {
   "cell_type": "code",
   "execution_count": 47,
   "id": "977888d3",
   "metadata": {},
   "outputs": [
    {
     "name": "stderr",
     "output_type": "stream",
     "text": [
      "                                               \r"
     ]
    }
   ],
   "source": [
    "context_pairs_dict_pos = [c for c in context_pairs_dict if c[\"context_direction\"] == \"positive\"]\n",
    "context_pairs_dict_neg = [c for c in context_pairs_dict if c[\"context_direction\"] == \"negative\"]\n",
    "# strength_vec_all, dir_vec_all = run_patching_loop(model, context_pairs_dict, scale_idx)\n",
    "# strength_vec_all, dir_vec_all = run_patching_loop(model, context_pairs_dict_pos, scale_idx)\n",
    "strength_vec_all, dir_vec_all = run_patching_loop(model, context_pairs_dict_neg, scale_idx)"
   ]
  },
  {
   "cell_type": "code",
   "execution_count": 48,
   "id": "d04d4b61",
   "metadata": {},
   "outputs": [
    {
     "data": {
      "image/png": "[encoded data removed]",
      "text/plain": [
       "<Figure size 200x400 with 2 Axes>"
      ]
     },
     "metadata": {},
     "output_type": "display_data"
    }
   ],
   "source": [
    "plot_heatmap(strength_vec_all.mean(0).cpu().numpy(), cmap=\"binary\")"
   ]
  },
  {
   "cell_type": "code",
   "execution_count": 49,
   "id": "f06ad66b",
   "metadata": {},
   "outputs": [],
   "source": [
    "# TODO this is preprocessing for easier computation of direction and scale\n",
    "def prepare_dir_dist(strength_vec_all, dir_vec_all, topk=None):\n",
    "    dir_vec = (dir_vec_all[:,0] - dir_vec_all[:,1]).mean(0)\n",
    "    #dir_vec = torch.einsum(\"...nlcd, ...nlc->...nlcd\", dir_vec, strength_vec_all)\n",
    "    \n",
    "    if isinstance(topk, int):\n",
    "        dir_vec_flat = dir_vec.view(-1,dir_vec.shape[-1])\n",
    "        _, dim_inds = torch.topk(dir_vec_flat, k=2, dim=-1)\n",
    "        dir_vec_flat_0 = torch.zeros(dir_vec_flat.shape).to(dir_vec_flat.device)\n",
    "        for i, inds in enumerate(dim_inds): \n",
    "            dir_vec_flat_0[i, inds] = dir_vec_flat[i, inds]\n",
    "        \n",
    "    dir_vec = dir_vec_flat_0.view(dir_vec_all.shape[-3], dir_vec_all.shape[-2], dir_vec_all.shape[-1])\n",
    "    \n",
    "    strength_vec = strength_vec_all.mean(0)\n",
    "    dir_vec = torch.einsum(\"...lcd, ...lc->...lcd\", dir_vec, strength_vec)\n",
    "    return dir_vec, strength_vec\n",
    "    \n",
    "dir_vec, strength_vec  = prepare_dir_dist(strength_vec_all, dir_vec_all, topk=10)"
   ]
  },
  {
   "cell_type": "markdown",
   "id": "48f23b1b",
   "metadata": {},
   "source": [
    "## Apply Patches"
   ]
  },
  {
   "cell_type": "markdown",
   "id": "ca2ba43a",
   "metadata": {},
   "source": [
    "### Before Patching"
   ]
  },
  {
   "cell_type": "code",
   "execution_count": 50,
   "id": "17e13462",
   "metadata": {},
   "outputs": [
    {
     "data": {
      "text/plain": [
       "tensor([0.5889], device='cuda:0')"
      ]
     },
     "execution_count": 50,
     "metadata": {},
     "output_type": "execute_result"
    }
   ],
   "source": [
    "query_only_prompt = [\"The relationship between Harry Potter and Ronald Weasley is\"]\n",
    "#prompt = [\"Harry Potter absolutely hates Ronald Weasley. The relationship between Harry Potter and Ronald Weasley is\"]\n",
    "prompt = [\"Harry Potter loves Ronald Weasley. The relationship between Harry Potter and Ronald Weasley is\"]\n",
    "\n",
    "#prompt = [\"The relationship between Democrats and Republicans is\"]\n",
    "#prompt = [\"The Democrats absolutely love the Republicans. The relationship between Democrats and Republicans is\"]\n",
    "\n",
    "\n",
    "\n",
    "logits, activs = measuring.prompt_with_cache(model,prompt,logit_idx=scale_idx,norm=True)\n",
    "scale_v = logits[..., 0]\n",
    "scale_v"
   ]
  },
  {
   "cell_type": "markdown",
   "id": "aff5cc1b",
   "metadata": {},
   "source": [
    "### After Patching"
   ]
  },
  {
   "cell_type": "code",
   "execution_count": 51,
   "id": "73f7c4b6",
   "metadata": {},
   "outputs": [
    {
     "name": "stdout",
     "output_type": "stream",
     "text": [
      "torch.Size([30, 2, 24, 2, 1024])\n",
      "torch.Size([24, 2, 1024])\n",
      "torch.Size([30, 24, 2])\n"
     ]
    }
   ],
   "source": [
    "print(dir_vec_all.shape) # (6, 2, 24, 2, 1024) (num examples, with/without context, num layers, num components, hs)\n",
    "print(dir_vec.shape) # (24, 2, 1024) (num layers, num components, hs)\n",
    "print(strength_vec_all.shape) # "
   ]
  },
  {
   "cell_type": "code",
   "execution_count": 52,
   "id": "9883c879",
   "metadata": {},
   "outputs": [
    {
     "data": {
      "text/plain": [
       "tensor(0.6054, device='cuda:0')"
      ]
     },
     "execution_count": 52,
     "metadata": {},
     "output_type": "execute_result"
    }
   ],
   "source": [
    "# TODO: this is where the direction and strength are applied to do the transformation to a vector\n",
    "def dir_scale_patch(activs, dir_vec, strength_vec, alpha=1):\n",
    "    activs = (activs + (alpha*dir_vec))\n",
    "    return activs\n",
    "\n",
    "\n",
    "def control_hook_point(activs, hook: HookPoint, dir_vec, strength_vec, alpha): \n",
    "    \n",
    "    i = int(hook.layer())\n",
    "    j = {\"hook_attn_out\": 0, \"hook_mlp_out\": 1}[hook.name.split(\".\")[2]]\n",
    "    \n",
    "    patched_activs = dir_scale_patch(activs[...,-1,:], dir_vec[i,j], strength_vec[i,j], alpha=alpha)\n",
    "    activs[...,-1,:] = patched_activs\n",
    "\n",
    "    \n",
    "def control_bias_context(model, prompt, dir_vec, strength_vec, alpha=1.0):\n",
    "    \n",
    "    patch_hook_fn = partial(control_hook_point, dir_vec=dir_vec, strength_vec=strength_vec, alpha=alpha)   \n",
    "    patch_layers_fn = [(lambda name: name.endswith(\"attn_out\") or name.endswith(\"mlp_out\"), patch_hook_fn)]\n",
    "    \n",
    "    patch_logits = model.run_with_hooks(prompt, fwd_hooks=patch_layers_fn, return_type=\"logits\", reset_hooks_end=True)\n",
    "    return patch_logits\n",
    "\n",
    "\n",
    "context_patch_logits = control_bias_context(model, prompt, dir_vec, strength_vec, alpha=100)\n",
    "context_patch_logits = measuring.select_logits(context_patch_logits[:,-1,:], scale_idx, norm=True)\n",
    "context_scale_v = context_patch_logits[..., 0]\n",
    "context_scale_v"
   ]
  },
  {
   "cell_type": "code",
   "execution_count": 53,
   "metadata": {},
   "outputs": [
    {
     "name": "stdout",
     "output_type": "stream",
     "text": [
      "context and query 0.5889192223548889\n",
      "query only 0.5317940711975098\n",
      "torch.Size([30, 2, 24, 2, 1024])\n",
      "intervene: 0.5570911765098572\n"
     ]
    }
   ],
   "source": [
    "def control_bias_context2(model, prompt, strength_vec_all, dir_vec_all, alpha):\n",
    "    print(dir_vec_all.shape)\n",
    "    dir_vec, strength_vec  = prepare_dir_dist(strength_vec_all, dir_vec_all, topk=10)\n",
    "    context_patch_logits = control_bias_context(model, prompt, dir_vec, strength_vec, alpha=alpha)\n",
    "    context_patch_logits = measuring.select_logits(context_patch_logits[:,-1,:], scale_idx, norm=True)\n",
    "    context_scale_v = context_patch_logits[..., 0]\n",
    "    return context_scale_v.item()\n",
    "\n",
    "print(\"context and query\", measuring.prompt_with_cache(model, prompt,logit_idx=scale_idx,norm=True)[0][...,0].item())\n",
    "print(\"query only\", measuring.prompt_with_cache(model, query_only_prompt,logit_idx=scale_idx,norm=True)[0][...,0].item())\n",
    "print(\"intervene:\", control_bias_context2(model, prompt, strength_vec_all, dir_vec_all, alpha=1000))"
   ]
  },
  {
   "cell_type": "code",
   "execution_count": 54,
   "id": "eda8f804",
   "metadata": {},
   "outputs": [
    {
     "data": {
      "text/plain": [
       "'\\n1. Current eval: \\n    (a) observe logit diff when eval model on no context example\\n    (b) observe logit diff when eval model on with context example\\n    (c) observe logit diff when eval model on example with patching in a direction at different alpha.\\n    IF alpha big and positive, then the logit difference should be more toward the no context direction\\n    IF alpha big and negative, then the logit difference should go toward toward the context direction\\n    IF alpha big and 0, then the logit difference should exactly equal the with context logit value\\n\\n    Possible TODO: make this a little more systematic with more examples\\n    GOAL: have a plot where x axis is alpha, y axis is good-bad logit diff\\n2.\\n\\n\\n'"
      ]
     },
     "execution_count": 54,
     "metadata": {},
     "output_type": "execute_result"
    }
   ],
   "source": [
    "\"\"\"\n",
    "1. Current eval: \n",
    "    (a) observe logit diff when eval model on no context example\n",
    "    (b) observe logit diff when eval model on with context example\n",
    "    (c) observe logit diff when eval model on example with patching in a direction at different alpha.\n",
    "    IF alpha big and positive, then the logit difference should be more toward the no context direction\n",
    "    IF alpha big and negative, then the logit difference should go toward toward the context direction\n",
    "    IF alpha big and 0, then the logit difference should exactly equal the with context logit value\n",
    "\n",
    "    Possible TODO: make this a little more systematic with more examples\n",
    "    GOAL: have a plot where x axis is alpha, y axis is good-bad logit diff\n",
    "2.\n",
    "\n",
    "\n",
    "\"\"\""
   ]
  },
  {
   "cell_type": "markdown",
   "metadata": {},
   "source": [
    "### Eval"
   ]
  },
  {
   "cell_type": "code",
   "execution_count": 67,
   "metadata": {},
   "outputs": [
    {
     "name": "stdout",
     "output_type": "stream",
     "text": [
      "pair_type: context --> 20 data points\n",
      "{'pos_score_query_only': 0.5462878346443176, 'pos_score_context_and_query': 0.5717324614524841, 'context_dir': 'positive', 'label': 'enemy', 'intervene_alpha-10000': 0.5443186163902283, 'intervene_alpha-2000': 0.5343245267868042, 'intervene_alpha-1500': 0.5305233001708984, 'intervene_alpha-1250': 0.5279778838157654, 'intervene_alpha-1000': 0.525533139705658, 'intervene_alpha-750': 0.5227916836738586, 'intervene_alpha-500': 0.5131581425666809, 'intervene_alpha-100': 0.5574490427970886, 'intervene_alpha-10': 0.5701327919960022, 'intervene_alpha-1': 0.5715692043304443, 'intervene_alpha0': 0.5717324614524841, 'intervene_alpha1': 0.5718964338302612, 'intervene_alpha10': 0.5734049081802368, 'intervene_alpha100': 0.589256227016449, 'intervene_alpha1000': 0.5529122352600098, 'intervene_alpha1500': 0.5527216196060181, 'intervene_alpha2000': 0.5515422224998474, 'intervene_alpha10000': 0.5524695515632629}\n",
      "{'pos_score_query_only': 0.5462878346443176, 'pos_score_context_and_query': 0.47041866183280945, 'context_dir': 'negative', 'label': 'enemy', 'intervene_alpha-10000': 0.5478618741035461, 'intervene_alpha-2000': 0.5477133989334106, 'intervene_alpha-1500': 0.5470091104507446, 'intervene_alpha-1250': 0.5468041896820068, 'intervene_alpha-1000': 0.5481246709823608, 'intervene_alpha-750': 0.5535775423049927, 'intervene_alpha-500': 0.5706244111061096, 'intervene_alpha-100': 0.4648182690143585, 'intervene_alpha-10': 0.4699910283088684, 'intervene_alpha-1': 0.4703739583492279, 'intervene_alpha0': 0.47041866183280945, 'intervene_alpha1': 0.47046345472335815, 'intervene_alpha10': 0.47089701890945435, 'intervene_alpha100': 0.4806734025478363, 'intervene_alpha1000': 0.5421394109725952, 'intervene_alpha1500': 0.5459728240966797, 'intervene_alpha2000': 0.5460141897201538, 'intervene_alpha10000': 0.5508579015731812}\n",
      "{'pos_score_query_only': 0.535201370716095, 'pos_score_context_and_query': 0.5727622509002686, 'context_dir': 'positive', 'label': 'friend', 'intervene_alpha-10000': 0.5441008806228638, 'intervene_alpha-2000': 0.5349423289299011, 'intervene_alpha-1500': 0.5319592952728271, 'intervene_alpha-1250': 0.5300636291503906, 'intervene_alpha-1000': 0.5284860134124756, 'intervene_alpha-750': 0.5281053185462952, 'intervene_alpha-500': 0.523067057132721, 'intervene_alpha-100': 0.5536901354789734, 'intervene_alpha-10': 0.5715466141700745, 'intervene_alpha-1': 0.5726455450057983, 'intervene_alpha0': 0.5727622509002686, 'intervene_alpha1': 0.5728781819343567, 'intervene_alpha10': 0.5738875865936279, 'intervene_alpha100': 0.5833966732025146, 'intervene_alpha1000': 0.5519314408302307, 'intervene_alpha1500': 0.5519771575927734, 'intervene_alpha2000': 0.5513499975204468, 'intervene_alpha10000': 0.5524481534957886}\n",
      "{'pos_score_query_only': 0.535201370716095, 'pos_score_context_and_query': 0.47348105907440186, 'context_dir': 'negative', 'label': 'friend', 'intervene_alpha-10000': 0.5465037822723389, 'intervene_alpha-2000': 0.5440393686294556, 'intervene_alpha-1500': 0.5433054566383362, 'intervene_alpha-1250': 0.5431460738182068, 'intervene_alpha-1000': 0.544291079044342, 'intervene_alpha-750': 0.5502229928970337, 'intervene_alpha-500': 0.5654534101486206, 'intervene_alpha-100': 0.46514376997947693, 'intervene_alpha-10': 0.4731932580471039, 'intervene_alpha-1': 0.47345176339149475, 'intervene_alpha0': 0.47348105907440186, 'intervene_alpha1': 0.4735107421875, 'intervene_alpha10': 0.47380515933036804, 'intervene_alpha100': 0.48470839858055115, 'intervene_alpha1000': 0.5447372794151306, 'intervene_alpha1500': 0.5474414229393005, 'intervene_alpha2000': 0.5475339293479919, 'intervene_alpha10000': 0.5513591170310974}\n",
      "{'pos_score_query_only': 0.5172574520111084, 'pos_score_context_and_query': 0.5668375492095947, 'context_dir': 'positive', 'label': 'enemy', 'intervene_alpha-10000': 0.5439170002937317, 'intervene_alpha-2000': 0.5352363586425781, 'intervene_alpha-1500': 0.5321529507637024, 'intervene_alpha-1250': 0.5300427079200745, 'intervene_alpha-1000': 0.5280153751373291, 'intervene_alpha-750': 0.5263005495071411, 'intervene_alpha-500': 0.5183523893356323, 'intervene_alpha-100': 0.5457893013954163, 'intervene_alpha-10': 0.5650414228439331, 'intervene_alpha-1': 0.5666608810424805, 'intervene_alpha0': 0.5668375492095947, 'intervene_alpha1': 0.5670135617256165, 'intervene_alpha10': 0.5685716271400452, 'intervene_alpha100': 0.5805663466453552, 'intervene_alpha1000': 0.551828145980835, 'intervene_alpha1500': 0.5526818037033081, 'intervene_alpha2000': 0.5523526072502136, 'intervene_alpha10000': 0.5530160069465637}\n",
      "{'pos_score_query_only': 0.5172574520111084, 'pos_score_context_and_query': 0.4725522994995117, 'context_dir': 'negative', 'label': 'enemy', 'intervene_alpha-10000': 0.5464116334915161, 'intervene_alpha-2000': 0.544206440448761, 'intervene_alpha-1500': 0.543114185333252, 'intervene_alpha-1250': 0.542470395565033, 'intervene_alpha-1000': 0.5426675081253052, 'intervene_alpha-750': 0.5455891489982605, 'intervene_alpha-500': 0.5501602292060852, 'intervene_alpha-100': 0.4632110297679901, 'intervene_alpha-10': 0.47206565737724304, 'intervene_alpha-1': 0.47250258922576904, 'intervene_alpha0': 0.4725522994995117, 'intervene_alpha1': 0.47260260581970215, 'intervene_alpha10': 0.47308632731437683, 'intervene_alpha100': 0.4850238263607025, 'intervene_alpha1000': 0.5455438494682312, 'intervene_alpha1500': 0.548471212387085, 'intervene_alpha2000': 0.5489420294761658, 'intervene_alpha10000': 0.5520281195640564}\n",
      "{'pos_score_query_only': 0.5081943869590759, 'pos_score_context_and_query': 0.5630620718002319, 'context_dir': 'positive', 'label': 'enemy', 'intervene_alpha-10000': 0.5449833273887634, 'intervene_alpha-2000': 0.5393701791763306, 'intervene_alpha-1500': 0.5381583571434021, 'intervene_alpha-1250': 0.537803590297699, 'intervene_alpha-1000': 0.5390191674232483, 'intervene_alpha-750': 0.5452786684036255, 'intervene_alpha-500': 0.5518808960914612, 'intervene_alpha-100': 0.5389484763145447, 'intervene_alpha-10': 0.5610224008560181, 'intervene_alpha-1': 0.5628618001937866, 'intervene_alpha0': 0.5630620718002319, 'intervene_alpha1': 0.5632610321044922, 'intervene_alpha10': 0.5650206804275513, 'intervene_alpha100': 0.5789946913719177, 'intervene_alpha1000': 0.5532084703445435, 'intervene_alpha1500': 0.5539643168449402, 'intervene_alpha2000': 0.5536060333251953, 'intervene_alpha10000': 0.5531335473060608}\n",
      "{'pos_score_query_only': 0.5081943869590759, 'pos_score_context_and_query': 0.4596453905105591, 'context_dir': 'negative', 'label': 'enemy', 'intervene_alpha-10000': 0.5470490455627441, 'intervene_alpha-2000': 0.5470545887947083, 'intervene_alpha-1500': 0.547802746295929, 'intervene_alpha-1250': 0.5489988327026367, 'intervene_alpha-1000': 0.5527268052101135, 'intervene_alpha-750': 0.5648062229156494, 'intervene_alpha-500': 0.5879612565040588, 'intervene_alpha-100': 0.4492039978504181, 'intervene_alpha-10': 0.4585728943347931, 'intervene_alpha-1': 0.45953381061553955, 'intervene_alpha0': 0.4596453905105591, 'intervene_alpha1': 0.45975804328918457, 'intervene_alpha10': 0.4608317017555237, 'intervene_alpha100': 0.47916513681411743, 'intervene_alpha1000': 0.5466229915618896, 'intervene_alpha1500': 0.5497400760650635, 'intervene_alpha2000': 0.5502317547798157, 'intervene_alpha10000': 0.5522560477256775}\n",
      "{'pos_score_query_only': 0.5122197270393372, 'pos_score_context_and_query': 0.552848756313324, 'context_dir': 'positive', 'label': 'friend', 'intervene_alpha-10000': 0.5452754497528076, 'intervene_alpha-2000': 0.5401738882064819, 'intervene_alpha-1500': 0.5386121273040771, 'intervene_alpha-1250': 0.5378243327140808, 'intervene_alpha-1000': 0.5381192564964294, 'intervene_alpha-750': 0.5421544909477234, 'intervene_alpha-500': 0.5494400858879089, 'intervene_alpha-100': 0.5232619643211365, 'intervene_alpha-10': 0.5505269765853882, 'intervene_alpha-1': 0.5526250600814819, 'intervene_alpha0': 0.552848756313324, 'intervene_alpha1': 0.5530700087547302, 'intervene_alpha10': 0.5549823641777039, 'intervene_alpha100': 0.5681859254837036, 'intervene_alpha1000': 0.5505247116088867, 'intervene_alpha1500': 0.5522096157073975, 'intervene_alpha2000': 0.5518125295639038, 'intervene_alpha10000': 0.5526962280273438}\n",
      "{'pos_score_query_only': 0.5122197270393372, 'pos_score_context_and_query': 0.43513375520706177, 'context_dir': 'negative', 'label': 'friend', 'intervene_alpha-10000': 0.5478142499923706, 'intervene_alpha-2000': 0.5498620271682739, 'intervene_alpha-1500': 0.5506929755210876, 'intervene_alpha-1250': 0.5517452955245972, 'intervene_alpha-1000': 0.5549527406692505, 'intervene_alpha-750': 0.565377950668335, 'intervene_alpha-500': 0.5933951735496521, 'intervene_alpha-100': 0.42250555753707886, 'intervene_alpha-10': 0.43341606855392456, 'intervene_alpha-1': 0.4349541664123535, 'intervene_alpha0': 0.43513375520706177, 'intervene_alpha1': 0.4353143572807312, 'intervene_alpha10': 0.437019020318985, 'intervene_alpha100': 0.46019622683525085, 'intervene_alpha1000': 0.5421685576438904, 'intervene_alpha1500': 0.5469298958778381, 'intervene_alpha2000': 0.5474697351455688, 'intervene_alpha10000': 0.5515211224555969}\n",
      "{'pos_score_query_only': 0.528121292591095, 'pos_score_context_and_query': 0.5808297395706177, 'context_dir': 'positive', 'label': 'friend', 'intervene_alpha-10000': 0.5446342825889587, 'intervene_alpha-2000': 0.5355609655380249, 'intervene_alpha-1500': 0.5321342349052429, 'intervene_alpha-1250': 0.5297908186912537, 'intervene_alpha-1000': 0.5277175903320312, 'intervene_alpha-750': 0.526726484298706, 'intervene_alpha-500': 0.5168007612228394, 'intervene_alpha-100': 0.5577594041824341, 'intervene_alpha-10': 0.5785755515098572, 'intervene_alpha-1': 0.5806069374084473, 'intervene_alpha0': 0.5808297395706177, 'intervene_alpha1': 0.5810522437095642, 'intervene_alpha10': 0.5830235481262207, 'intervene_alpha100': 0.5982361435890198, 'intervene_alpha1000': 0.5544605255126953, 'intervene_alpha1500': 0.5540494322776794, 'intervene_alpha2000': 0.55373215675354, 'intervene_alpha10000': 0.5531505346298218}\n",
      "{'pos_score_query_only': 0.528121292591095, 'pos_score_context_and_query': 0.4865773618221283, 'context_dir': 'negative', 'label': 'friend', 'intervene_alpha-10000': 0.5468720197677612, 'intervene_alpha-2000': 0.5440832376480103, 'intervene_alpha-1500': 0.5428099632263184, 'intervene_alpha-1250': 0.5421196818351746, 'intervene_alpha-1000': 0.5427177548408508, 'intervene_alpha-750': 0.5479145646095276, 'intervene_alpha-500': 0.5589415431022644, 'intervene_alpha-100': 0.47645509243011475, 'intervene_alpha-10': 0.48610416054725647, 'intervene_alpha-1': 0.4865312874317169, 'intervene_alpha0': 0.4865773618221283, 'intervene_alpha1': 0.4866233766078949, 'intervene_alpha10': 0.48704323172569275, 'intervene_alpha100': 0.4970848858356476, 'intervene_alpha1000': 0.5464977622032166, 'intervene_alpha1500': 0.5490994453430176, 'intervene_alpha2000': 0.5496819615364075, 'intervene_alpha10000': 0.5520534515380859}\n",
      "{'pos_score_query_only': 0.5117909908294678, 'pos_score_context_and_query': 0.5646795034408569, 'context_dir': 'positive', 'label': 'enemy', 'intervene_alpha-10000': 0.5453781485557556, 'intervene_alpha-2000': 0.5392630696296692, 'intervene_alpha-1500': 0.5367938280105591, 'intervene_alpha-1250': 0.5351525545120239, 'intervene_alpha-1000': 0.5340710282325745, 'intervene_alpha-750': 0.536785364151001, 'intervene_alpha-500': 0.5409097075462341, 'intervene_alpha-100': 0.5424956679344177, 'intervene_alpha-10': 0.5626708269119263, 'intervene_alpha-1': 0.5644822120666504, 'intervene_alpha0': 0.5646795034408569, 'intervene_alpha1': 0.5648760199546814, 'intervene_alpha10': 0.5666108727455139, 'intervene_alpha100': 0.579208493232727, 'intervene_alpha1000': 0.5496432185173035, 'intervene_alpha1500': 0.5515551567077637, 'intervene_alpha2000': 0.5518014430999756, 'intervene_alpha10000': 0.5527016520500183}\n",
      "{'pos_score_query_only': 0.5117909908294678, 'pos_score_context_and_query': 0.4719076156616211, 'context_dir': 'negative', 'label': 'enemy', 'intervene_alpha-10000': 0.5473279356956482, 'intervene_alpha-2000': 0.546482503414154, 'intervene_alpha-1500': 0.545793354511261, 'intervene_alpha-1250': 0.545525074005127, 'intervene_alpha-1000': 0.5465636849403381, 'intervene_alpha-750': 0.553720235824585, 'intervene_alpha-500': 0.5735244750976562, 'intervene_alpha-100': 0.4588387608528137, 'intervene_alpha-10': 0.4706553518772125, 'intervene_alpha-1': 0.4717797040939331, 'intervene_alpha0': 0.4719076156616211, 'intervene_alpha1': 0.4720371663570404, 'intervene_alpha10': 0.4732365608215332, 'intervene_alpha100': 0.49005985260009766, 'intervene_alpha1000': 0.5435937643051147, 'intervene_alpha1500': 0.547409176826477, 'intervene_alpha2000': 0.5483800172805786, 'intervene_alpha10000': 0.5517816543579102}\n",
      "{'pos_score_query_only': 0.5306659936904907, 'pos_score_context_and_query': 0.574615478515625, 'context_dir': 'positive', 'label': 'enemy', 'intervene_alpha-10000': 0.5452702641487122, 'intervene_alpha-2000': 0.5403580665588379, 'intervene_alpha-1500': 0.5387607216835022, 'intervene_alpha-1250': 0.5378885269165039, 'intervene_alpha-1000': 0.5378578305244446, 'intervene_alpha-750': 0.5403901934623718, 'intervene_alpha-500': 0.544167697429657, 'intervene_alpha-100': 0.5462262630462646, 'intervene_alpha-10': 0.5723763108253479, 'intervene_alpha-1': 0.5744019746780396, 'intervene_alpha0': 0.574615478515625, 'intervene_alpha1': 0.574826180934906, 'intervene_alpha10': 0.5766133666038513, 'intervene_alpha100': 0.5823463201522827, 'intervene_alpha1000': 0.5499813556671143, 'intervene_alpha1500': 0.551347553730011, 'intervene_alpha2000': 0.5509073138237, 'intervene_alpha10000': 0.552513599395752}\n",
      "{'pos_score_query_only': 0.5306659936904907, 'pos_score_context_and_query': 0.462458074092865, 'context_dir': 'negative', 'label': 'enemy', 'intervene_alpha-10000': 0.5486584901809692, 'intervene_alpha-2000': 0.553176760673523, 'intervene_alpha-1500': 0.5546457171440125, 'intervene_alpha-1250': 0.5561036467552185, 'intervene_alpha-1000': 0.5599480271339417, 'intervene_alpha-750': 0.5713646411895752, 'intervene_alpha-500': 0.601626455783844, 'intervene_alpha-100': 0.4502400755882263, 'intervene_alpha-10': 0.46137893199920654, 'intervene_alpha-1': 0.4623485803604126, 'intervene_alpha0': 0.462458074092865, 'intervene_alpha1': 0.4625680148601532, 'intervene_alpha10': 0.4635787308216095, 'intervene_alpha100': 0.4779672920703888, 'intervene_alpha1000': 0.53998202085495, 'intervene_alpha1500': 0.5446226000785828, 'intervene_alpha2000': 0.5451973080635071, 'intervene_alpha10000': 0.5508653521537781}\n",
      "{'pos_score_query_only': 0.5250126123428345, 'pos_score_context_and_query': 0.543523371219635, 'context_dir': 'positive', 'label': 'enemy', 'intervene_alpha-10000': 0.5448423624038696, 'intervene_alpha-2000': 0.538049042224884, 'intervene_alpha-1500': 0.5362217426300049, 'intervene_alpha-1250': 0.5352267026901245, 'intervene_alpha-1000': 0.5352088809013367, 'intervene_alpha-750': 0.5396867394447327, 'intervene_alpha-500': 0.5425858497619629, 'intervene_alpha-100': 0.5152809023857117, 'intervene_alpha-10': 0.540772557258606, 'intervene_alpha-1': 0.5432509779930115, 'intervene_alpha0': 0.543523371219635, 'intervene_alpha1': 0.5437952876091003, 'intervene_alpha10': 0.546221137046814, 'intervene_alpha100': 0.5679383873939514, 'intervene_alpha1000': 0.5518832802772522, 'intervene_alpha1500': 0.5543278455734253, 'intervene_alpha2000': 0.5540305972099304, 'intervene_alpha10000': 0.5533869862556458}\n",
      "{'pos_score_query_only': 0.5250126123428345, 'pos_score_context_and_query': 0.4724572002887726, 'context_dir': 'negative', 'label': 'enemy', 'intervene_alpha-10000': 0.5461180806159973, 'intervene_alpha-2000': 0.5424991846084595, 'intervene_alpha-1500': 0.5417050123214722, 'intervene_alpha-1250': 0.541512668132782, 'intervene_alpha-1000': 0.5427775979042053, 'intervene_alpha-750': 0.5503580570220947, 'intervene_alpha-500': 0.5621943473815918, 'intervene_alpha-100': 0.4568473994731903, 'intervene_alpha-10': 0.4712069034576416, 'intervene_alpha-1': 0.47233256697654724, 'intervene_alpha0': 0.4724572002887726, 'intervene_alpha1': 0.4725818932056427, 'intervene_alpha10': 0.47371190786361694, 'intervene_alpha100': 0.4895436465740204, 'intervene_alpha1000': 0.5465494990348816, 'intervene_alpha1500': 0.5509389638900757, 'intervene_alpha2000': 0.5514431595802307, 'intervene_alpha10000': 0.5527762174606323}\n",
      "{'pos_score_query_only': 0.5295573472976685, 'pos_score_context_and_query': 0.5634755492210388, 'context_dir': 'positive', 'label': 'friend', 'intervene_alpha-10000': 0.5447902679443359, 'intervene_alpha-2000': 0.5373297333717346, 'intervene_alpha-1500': 0.5345887541770935, 'intervene_alpha-1250': 0.5327519178390503, 'intervene_alpha-1000': 0.5312851667404175, 'intervene_alpha-750': 0.5310990214347839, 'intervene_alpha-500': 0.5278353095054626, 'intervene_alpha-100': 0.5389636158943176, 'intervene_alpha-10': 0.5613460540771484, 'intervene_alpha-1': 0.5632664561271667, 'intervene_alpha0': 0.5634755492210388, 'intervene_alpha1': 0.5636839866638184, 'intervene_alpha10': 0.5655217170715332, 'intervene_alpha100': 0.579490602016449, 'intervene_alpha1000': 0.5541812777519226, 'intervene_alpha1500': 0.5535987019538879, 'intervene_alpha2000': 0.5527737736701965, 'intervene_alpha10000': 0.5529152750968933}\n",
      "{'pos_score_query_only': 0.5295573472976685, 'pos_score_context_and_query': 0.47121283411979675, 'context_dir': 'negative', 'label': 'friend', 'intervene_alpha-10000': 0.5467141270637512, 'intervene_alpha-2000': 0.5442302227020264, 'intervene_alpha-1500': 0.5430562496185303, 'intervene_alpha-1250': 0.5423640012741089, 'intervene_alpha-1000': 0.5425456166267395, 'intervene_alpha-750': 0.5459275245666504, 'intervene_alpha-500': 0.5541421175003052, 'intervene_alpha-100': 0.45901191234588623, 'intervene_alpha-10': 0.47043389081954956, 'intervene_alpha-1': 0.4711325764656067, 'intervene_alpha0': 0.47121283411979675, 'intervene_alpha1': 0.47129377722740173, 'intervene_alpha10': 0.4720608592033386, 'intervene_alpha100': 0.48657703399658203, 'intervene_alpha1000': 0.5469739437103271, 'intervene_alpha1500': 0.5493438839912415, 'intervene_alpha2000': 0.549361526966095, 'intervene_alpha10000': 0.5519773364067078}\n"
     ]
    }
   ],
   "source": [
    "from enum import IntEnum\n",
    "class Prompt(IntEnum):\n",
    "    CONTEXT_AND_QUERY = 0\n",
    "    QUERY_ONLY = 1\n",
    "\n",
    "\n",
    "val_context_pair_dicts = construct_bias_context_pairs_dict(df_val, pair_type=\"context\")\n",
    "scores_per_pair = []\n",
    "for pair_dict in val_context_pair_dicts:\n",
    "    prompt_context_and_query = pair_dict[\"context_and_query\"]\n",
    "    prompt_query_only = pair_dict[\"query_only\"]\n",
    "    context_dir = pair_dict[\"context_direction\"]\n",
    "    label = pair_dict[\"label\"]\n",
    "\n",
    "    logits_context_and_query, _ = measuring.prompt_with_cache(model, prompt_context_and_query, logit_idx=scale_idx, norm=True)\n",
    "    pos_score_context_and_query = logits_context_and_query[..., 0].item()\n",
    "\n",
    "    logits_query_only, _ = measuring.prompt_with_cache(model, prompt_query_only, logit_idx=scale_idx, norm=True)\n",
    "    pos_score_query_only = logits_query_only[..., 0].item()\n",
    "\n",
    "    # Use alpha to control how much bias should be used vs context\n",
    "    result = {\"pos_score_query_only\": pos_score_query_only, \"pos_score_context_and_query\": pos_score_context_and_query, \"context_dir\": context_dir, \"label\": label}\n",
    "    for alpha in [-10000, -2000, -1500, -1250, -1000, -750, -500, -100, -10, -1, 0, 1, 10, 100, 1000, 1500, 2000, 10000]:\n",
    "        context_patch_logits = control_bias_context(model, prompt_context_and_query, dir_vec, strength_vec, alpha=alpha)\n",
    "        context_patch_logits = measuring.select_logits(context_patch_logits[:,-1,:], scale_idx, norm=True)\n",
    "        context_scale_v = context_patch_logits[..., 0].item()\n",
    "        result[f\"intervene_alpha{alpha}\"] = context_scale_v\n",
    "    \n",
    "    scores_per_pair.append(result)\n",
    "    print(result)"
   ]
  },
  {
   "cell_type": "code",
   "execution_count": 68,
   "metadata": {},
   "outputs": [
    {
     "data": {
      "text/html": [
       "<div>\n",
       "<style scoped>\n",
       "    .dataframe tbody tr th:only-of-type {\n",
       "        vertical-align: middle;\n",
       "    }\n",
       "\n",
       "    .dataframe tbody tr th {\n",
       "        vertical-align: top;\n",
       "    }\n",
       "\n",
       "    .dataframe thead th {\n",
       "        text-align: right;\n",
       "    }\n",
       "</style>\n",
       "<table border=\"1\" class=\"dataframe\">\n",
       "  <thead>\n",
       "    <tr style=\"text-align: right;\">\n",
       "      <th></th>\n",
       "      <th>context_dir</th>\n",
       "      <th>label</th>\n",
       "      <th>index</th>\n",
       "      <th>input</th>\n",
       "      <th>score</th>\n",
       "    </tr>\n",
       "  </thead>\n",
       "  <tbody>\n",
       "    <tr>\n",
       "      <th>0</th>\n",
       "      <td>positive</td>\n",
       "      <td>enemy</td>\n",
       "      <td>0</td>\n",
       "      <td>pos_score_query_only</td>\n",
       "      <td>0.546288</td>\n",
       "    </tr>\n",
       "    <tr>\n",
       "      <th>1</th>\n",
       "      <td>negative</td>\n",
       "      <td>enemy</td>\n",
       "      <td>1</td>\n",
       "      <td>pos_score_query_only</td>\n",
       "      <td>0.546288</td>\n",
       "    </tr>\n",
       "    <tr>\n",
       "      <th>2</th>\n",
       "      <td>positive</td>\n",
       "      <td>friend</td>\n",
       "      <td>2</td>\n",
       "      <td>pos_score_query_only</td>\n",
       "      <td>0.535201</td>\n",
       "    </tr>\n",
       "    <tr>\n",
       "      <th>3</th>\n",
       "      <td>negative</td>\n",
       "      <td>friend</td>\n",
       "      <td>3</td>\n",
       "      <td>pos_score_query_only</td>\n",
       "      <td>0.535201</td>\n",
       "    </tr>\n",
       "    <tr>\n",
       "      <th>4</th>\n",
       "      <td>positive</td>\n",
       "      <td>enemy</td>\n",
       "      <td>4</td>\n",
       "      <td>pos_score_query_only</td>\n",
       "      <td>0.517257</td>\n",
       "    </tr>\n",
       "    <tr>\n",
       "      <th>...</th>\n",
       "      <td>...</td>\n",
       "      <td>...</td>\n",
       "      <td>...</td>\n",
       "      <td>...</td>\n",
       "      <td>...</td>\n",
       "    </tr>\n",
       "    <tr>\n",
       "      <th>395</th>\n",
       "      <td>negative</td>\n",
       "      <td>enemy</td>\n",
       "      <td>15</td>\n",
       "      <td>intervene_alpha10000</td>\n",
       "      <td>0.550865</td>\n",
       "    </tr>\n",
       "    <tr>\n",
       "      <th>396</th>\n",
       "      <td>positive</td>\n",
       "      <td>enemy</td>\n",
       "      <td>16</td>\n",
       "      <td>intervene_alpha10000</td>\n",
       "      <td>0.553387</td>\n",
       "    </tr>\n",
       "    <tr>\n",
       "      <th>397</th>\n",
       "      <td>negative</td>\n",
       "      <td>enemy</td>\n",
       "      <td>17</td>\n",
       "      <td>intervene_alpha10000</td>\n",
       "      <td>0.552776</td>\n",
       "    </tr>\n",
       "    <tr>\n",
       "      <th>398</th>\n",
       "      <td>positive</td>\n",
       "      <td>friend</td>\n",
       "      <td>18</td>\n",
       "      <td>intervene_alpha10000</td>\n",
       "      <td>0.552915</td>\n",
       "    </tr>\n",
       "    <tr>\n",
       "      <th>399</th>\n",
       "      <td>negative</td>\n",
       "      <td>friend</td>\n",
       "      <td>19</td>\n",
       "      <td>intervene_alpha10000</td>\n",
       "      <td>0.551977</td>\n",
       "    </tr>\n",
       "  </tbody>\n",
       "</table>\n",
       "<p>400 rows × 5 columns</p>\n",
       "</div>"
      ],
      "text/plain": [
       "    context_dir   label  index                 input     score\n",
       "0      positive   enemy      0  pos_score_query_only  0.546288\n",
       "1      negative   enemy      1  pos_score_query_only  0.546288\n",
       "2      positive  friend      2  pos_score_query_only  0.535201\n",
       "3      negative  friend      3  pos_score_query_only  0.535201\n",
       "4      positive   enemy      4  pos_score_query_only  0.517257\n",
       "..          ...     ...    ...                   ...       ...\n",
       "395    negative   enemy     15  intervene_alpha10000  0.550865\n",
       "396    positive   enemy     16  intervene_alpha10000  0.553387\n",
       "397    negative   enemy     17  intervene_alpha10000  0.552776\n",
       "398    positive  friend     18  intervene_alpha10000  0.552915\n",
       "399    negative  friend     19  intervene_alpha10000  0.551977\n",
       "\n",
       "[400 rows x 5 columns]"
      ]
     },
     "execution_count": 68,
     "metadata": {},
     "output_type": "execute_result"
    }
   ],
   "source": [
    "import pandas as pd\n",
    "\n",
    "results_df = pd.DataFrame(scores_per_pair).reset_index()\n",
    "# sns.barplot(results_df.iloc[0])\n",
    "results_df_example = results_df.melt(var_name=\"input\", value_name=\"score\", id_vars=[\"context_dir\", \"label\", \"index\"])\n",
    "results_df_example\n"
   ]
  },
  {
   "cell_type": "code",
   "execution_count": 69,
   "metadata": {},
   "outputs": [
    {
     "data": {
      "text/plain": [
       "0          NaN\n",
       "1          NaN\n",
       "2          NaN\n",
       "3          NaN\n",
       "4          NaN\n",
       "        ...   \n",
       "395    10000.0\n",
       "396    10000.0\n",
       "397    10000.0\n",
       "398    10000.0\n",
       "399    10000.0\n",
       "Name: alpha, Length: 400, dtype: float64"
      ]
     },
     "execution_count": 69,
     "metadata": {},
     "output_type": "execute_result"
    }
   ],
   "source": [
    "results_df_example[\"alpha\"] = results_df_example[\"input\"].apply(lambda x: int(x.split(\"alpha\")[-1]) if \"alpha\" in x else None)\n",
    "results_df_example[\"alpha\"]"
   ]
  },
  {
   "cell_type": "code",
   "execution_count": 70,
   "metadata": {},
   "outputs": [],
   "source": [
    "def plot_score_vs_alpha(results_df_example, context_dir: str):\n",
    "    fig, ax = plt.subplots(figsize=(8, 3))\n",
    "    data = results_df_example[results_df_example[\"context_dir\"] == context_dir]\n",
    "    data_alpha_only = data[data[\"alpha\"].notna()]\n",
    "    sns.barplot(data=data_alpha_only, x=\"alpha\", y=\"score\", ax=ax)\n",
    "    ax.set(ylim=(data_alpha_only[\"score\"].min() - 0.03, data_alpha_only[\"score\"].max() + 0.03))\n",
    "    ax.set_xticklabels(labels=ax.get_xticklabels(), rotation=45)\n",
    "    \n",
    "    baseline_score = data[data[\"input\"] == \"pos_score_query_only\"][\"score\"].mean()\n",
    "    context_and_query_score = data[data[\"input\"] == \"pos_score_context_and_query\"][\"score\"].mean()\n",
    "    ax.axhline(baseline_score, color=\"black\", linestyle=\"--\")\n",
    "    ax.axhline(context_and_query_score, color=\"red\", linestyle=\":\")\n"
   ]
  },
  {
   "cell_type": "code",
   "execution_count": 71,
   "metadata": {},
   "outputs": [
    {
     "name": "stderr",
     "output_type": "stream",
     "text": [
      "/tmp/ipykernel_15952/3426519353.py:7: UserWarning: set_ticklabels() should only be used with a fixed number of ticks, i.e. after set_ticks() or using a FixedLocator.\n",
      "  ax.set_xticklabels(labels=ax.get_xticklabels(), rotation=45)\n"
     ]
    },
    {
     "data": {
      "image/png": "[encoded data removed]",
      "text/plain": [
       "<Figure size 800x300 with 1 Axes>"
      ]
     },
     "metadata": {},
     "output_type": "display_data"
    }
   ],
   "source": [
    "plot_score_vs_alpha(results_df_example, \"positive\")"
   ]
  },
  {
   "cell_type": "code",
   "execution_count": 72,
   "metadata": {},
   "outputs": [
    {
     "name": "stderr",
     "output_type": "stream",
     "text": [
      "/tmp/ipykernel_15952/3426519353.py:7: UserWarning: set_ticklabels() should only be used with a fixed number of ticks, i.e. after set_ticks() or using a FixedLocator.\n",
      "  ax.set_xticklabels(labels=ax.get_xticklabels(), rotation=45)\n"
     ]
    },
    {
     "data": {
      "image/png": "[encoded data removed]",
      "text/plain": [
       "<Figure size 800x300 with 1 Axes>"
      ]
     },
     "metadata": {},
     "output_type": "display_data"
    }
   ],
   "source": [
    "plot_score_vs_alpha(results_df_example, \"negative\")"
   ]
  },
  {
   "cell_type": "code",
   "execution_count": null,
   "metadata": {},
   "outputs": [],
   "source": []
  }
 ],
 "metadata": {
  "kernelspec": {
   "display_name": "measurelm",
   "language": "python",
   "name": "python3"
  },
  "language_info": {
   "codemirror_mode": {
    "name": "ipython",
    "version": 3
   },
   "file_extension": ".py",
   "mimetype": "text/x-python",
   "name": "python",
   "nbconvert_exporter": "python",
   "pygments_lexer": "ipython3",
   "version": "3.10.13"
  }
 },
 "nbformat": 4,
 "nbformat_minor": 5
}
