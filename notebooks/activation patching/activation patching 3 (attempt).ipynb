{
 "cells": [
  {
   "cell_type": "markdown",
   "id": "8ce2fcce",
   "metadata": {},
   "source": [
    "# Activation Patching"
   ]
  },
  {
   "cell_type": "code",
   "execution_count": 1,
   "id": "ffb7ac1c",
   "metadata": {},
   "outputs": [],
   "source": [
    "import torch, transformer_lens, itertools\n",
    "from functools import partial\n",
    "torch.set_grad_enabled(False)\n",
    "\n",
    "from transformer_lens.hook_points import (\n",
    "    HookedRootModule,\n",
    "    HookPoint,\n",
    ")\n",
    "\n",
    "from tqdm import tqdm\n",
    "from measureLM import helpers, measuring, synth_data, patching, visualizing"
   ]
  },
  {
   "cell_type": "code",
   "execution_count": 413,
   "id": "1db90941",
   "metadata": {},
   "outputs": [],
   "source": [
    "import matplotlib as mpl\n",
    "import seaborn as sns\n",
    "\n",
    "import numpy as np\n",
    "import matplotlib\n",
    "import matplotlib.cm as cm\n",
    "import matplotlib.pyplot as plt\n",
    "from matplotlib.lines import Line2D\n",
    "from measureLM import helpers\n",
    "\n",
    "matplotlib.rcParams['axes.spines.right'] = False\n",
    "matplotlib.rcParams['axes.spines.top'] = False\n",
    "\n",
    "def plot_heatmap(array, title='Patching Effect', xticklabels=[\"attn_out\", \"mlp_out\"], cmap=\"binary\"):\n",
    "    titlefont, labelsize = 12, 10\n",
    "    array_abs_max = np.max(np.abs(array))\n",
    "    fig, ax = plt.subplots(1, 1, figsize=(2, 4), gridspec_kw={'hspace': 0.4})\n",
    "    #ax = sns.heatmap(array, vmin=-array_abs_max, center=0, vmax=array_abs_max, cmap=mpl.colormaps[cmap], xticklabels=xticklabels, square=False)\n",
    "    ax = sns.heatmap(array, cmap=mpl.colormaps[cmap], xticklabels=xticklabels, square=False)\n",
    "    ax.set_title(title, fontsize=titlefont, color=\"black\", loc='center', y=1.12)\n",
    "    ax.set_ylabel('layers', fontsize=labelsize)\n",
    "\n",
    "    max_effect = list(map(lambda x: \"%.3f\" % x, list(array.max(0))))\n",
    "    #min_effect = list(map(lambda x: \"%.3f\" % x, list(array.min(0))))\n",
    "    for i, x_tick_label in enumerate(ax.get_xticklabels()):\n",
    "        ax.text(x_tick_label.get_position()[0] - 0.5, -0.5, f\"max:\\n{max_effect[i]}\", fontsize=labelsize,\n",
    "        color=\"black\", verticalalignment='bottom')\n",
    "        #ax.text(x_tick_label.get_position()[0] - 0.5, -0.2, f\"min:\\n{min_effect[i]}\", fontsize=labelsize,\n",
    "        #color=\"black\", verticalalignment='bottom')\n",
    "    plt.show()\n",
    "    "
   ]
  },
  {
   "cell_type": "markdown",
   "id": "faef89dd",
   "metadata": {},
   "source": [
    "## Data and Model"
   ]
  },
  {
   "cell_type": "code",
   "execution_count": 414,
   "id": "c02831cf",
   "metadata": {},
   "outputs": [
    {
     "name": "stderr",
     "output_type": "stream",
     "text": [
      "Using pad_token, but it is not set yet.\n"
     ]
    },
    {
     "name": "stdout",
     "output_type": "stream",
     "text": [
      "Loaded pretrained model gpt2-medium into HookedTransformer\n",
      "Moving model to device:  mps\n"
     ]
    }
   ],
   "source": [
    "model_name = \"gpt2-medium\"\n",
    "model = measuring.load_model(model_name=model_name, device=\"mps\")"
   ]
  },
  {
   "cell_type": "code",
   "execution_count": 415,
   "id": "ddbcece2",
   "metadata": {},
   "outputs": [],
   "source": [
    "def construct_bias_context_pairs(df, prompt=None, pos_prefix=None, neg_prefix=None, pair_type=\"bias\"):\n",
    "\n",
    "    if prompt is None:\n",
    "        prompt = \"The relationship between {ent1} and {ent2} is\"\n",
    "\n",
    "    if pos_prefix is None:\n",
    "        pos_prefix = \"{ent1} loves {ent2}.\"\n",
    "\n",
    "    if neg_prefix is None:\n",
    "        neg_prefix = \"{ent1} hates {ent2}.\"\n",
    "\n",
    "    ent1_ent2 = list(zip(df[\"ent1\"].to_list(), df[\"ent2\"].to_list()))\n",
    "\n",
    "    if pair_type == \"bias\":\n",
    "        ent1_ent2_pairs = []\n",
    "        entPair1_entPair2 = list(itertools.combinations(ent1_ent2, 2))  # permutations\n",
    "        for entPair1, entPair2 in entPair1_entPair2:\n",
    "            entPair1 = measuring.form_prompt(prompt, {\"ent1\": entPair1[0], \"ent2\": entPair1[1]})\n",
    "            entPair2 = measuring.form_prompt(prompt, {\"ent1\": entPair2[0], \"ent2\": entPair2[1]})\n",
    "            ent1_ent2_pairs.append((entPair1, entPair2))\n",
    "\n",
    "    elif pair_type == \"context\":\n",
    "        ent1_ent2_pairs = []\n",
    "        for ent1, ent2 in ent1_ent2:\n",
    "            no_context_prompt = measuring.form_prompt(f\"{prompt}\", {\"ent1\": ent1, \"ent2\": ent2})\n",
    "            pos_context = measuring.form_prompt(f\"{pos_prefix} {prompt}\", {\"ent1\": ent1, \"ent2\": ent2})\n",
    "            neg_context = measuring.form_prompt(f\"{neg_prefix} {prompt}\", {\"ent1\": ent1, \"ent2\": ent2})\n",
    "\n",
    "            ent1_ent2_pairs.append((pos_context, no_context_prompt))\n",
    "            ent1_ent2_pairs.append((neg_context, no_context_prompt))\n",
    "\n",
    "    print(f\"pair_type: {pair_type} --> {len(ent1_ent2_pairs)} data points\")\n",
    "    return ent1_ent2_pairs"
   ]
  },
  {
   "cell_type": "code",
   "execution_count": 416,
   "id": "851768c9",
   "metadata": {},
   "outputs": [
    {
     "name": "stdout",
     "output_type": "stream",
     "text": [
      "pair_type: context --> 8 data points\n"
     ]
    },
    {
     "data": {
      "text/plain": [
       "[('Donald Trump loves Joe Biden. The relationship between Donald Trump and Joe Biden is',\n",
       "  'The relationship between Donald Trump and Joe Biden is'),\n",
       " ('Donald Trump hates Joe Biden. The relationship between Donald Trump and Joe Biden is',\n",
       "  'The relationship between Donald Trump and Joe Biden is'),\n",
       " ('Bilbo Baggins loves Sauron. The relationship between Bilbo Baggins and Sauron is',\n",
       "  'The relationship between Bilbo Baggins and Sauron is'),\n",
       " ('Bilbo Baggins hates Sauron. The relationship between Bilbo Baggins and Sauron is',\n",
       "  'The relationship between Bilbo Baggins and Sauron is'),\n",
       " ('Gauls loves Rome. The relationship between Gauls and Rome is',\n",
       "  'The relationship between Gauls and Rome is'),\n",
       " ('Gauls hates Rome. The relationship between Gauls and Rome is',\n",
       "  'The relationship between Gauls and Rome is'),\n",
       " ('Shrek loves Donkey. The relationship between Shrek and Donkey is',\n",
       "  'The relationship between Shrek and Donkey is'),\n",
       " ('Shrek hates Donkey. The relationship between Shrek and Donkey is',\n",
       "  'The relationship between Shrek and Donkey is')]"
      ]
     },
     "execution_count": 416,
     "metadata": {},
     "output_type": "execute_result"
    }
   ],
   "source": [
    "scales = [\"friendly\", \"hostile\"]\n",
    "scale_idx = measuring.get_logit_indices(scales, model)\n",
    "\n",
    "df = synth_data.load_synth_data(n=4, seed=12)\n",
    "context_pairs = construct_bias_context_pairs(df, pair_type=\"context\")\n",
    "context_pairs"
   ]
  },
  {
   "cell_type": "markdown",
   "id": "af911f79",
   "metadata": {},
   "source": [
    "## Get Patches for Bias and Context"
   ]
  },
  {
   "cell_type": "code",
   "execution_count": 420,
   "id": "b07f4be7",
   "metadata": {},
   "outputs": [],
   "source": [
    "from functools import partial\n",
    "\n",
    "from transformer_lens.hook_points import (\n",
    "    HookedRootModule,\n",
    "    HookPoint,\n",
    ")\n",
    "\n",
    "def run_patching_loop(model, prompt_pairs, scale_idx):\n",
    "    all_vector_scale, all_vector_dir = [], []\n",
    "    for (prompt_1, prompt_2) in tqdm(prompt_pairs, position=0, leave=False):\n",
    "        ## toDO change order\n",
    "        old_logits, old_activs = measuring.prompt_with_cache(model, prompt_1, logit_idx=scale_idx, norm=True)\n",
    "        new_logits, new_activs = measuring.prompt_with_cache(model, prompt_2, logit_idx=scale_idx, norm=True)\n",
    "        vector_scale, vector_dir = patch_activs(model, old_logits, new_logits, new_activs, prompt_1, scale_idx)\n",
    "\n",
    "        all_vector_scale.append(vector_scale)\n",
    "        all_vector_dir.append(vector_dir)\n",
    "\n",
    "    vector_scale = torch.stack(all_vector_scale).detach()  ## shape: prompt, layers, att vs mlp\n",
    "    vector_dir = torch.stack(all_vector_dir).detach()  ## shape: prompt, new vs old, layers, att vs mlp, emb dim\n",
    "    return vector_scale, vector_dir\n",
    "\n",
    "\n",
    "def patch_hook_point(old_activs, hook: HookPoint, new_activs, hook_layer_name, extract_tok_idx=-1,\n",
    "                     insert_tok_idx=None):\n",
    "    # print(f'patching {hook.name} <-- {hook_layer_name}')\n",
    "    if extract_tok_idx is None or extract_tok_idx == -1:\n",
    "        extract_tok_idx = (0, -1)\n",
    "    if insert_tok_idx is None:\n",
    "        insert_tok_idx = extract_tok_idx\n",
    "    new_activs_hook = new_activs[hook_layer_name] \n",
    "    vector_direction.append(torch.stack([old_activs[insert_tok_idx].detach(), new_activs_hook[extract_tok_idx]]))\n",
    "    old_activs[insert_tok_idx] = new_activs_hook[extract_tok_idx]\n",
    "\n",
    "\n",
    "def patch_activs(model, old_logits, new_logits, new_activs, prompt, logit_idx):\n",
    "    n_layers = model.cfg.n_layers\n",
    "    hook_names = [\"attn_out\", \"mlp_out\"]\n",
    "\n",
    "    effect_strength = torch.zeros(n_layers, len(hook_names), device=model.cfg.device)\n",
    "    global vector_direction\n",
    "    vector_direction = []\n",
    "\n",
    "    #for layer in tqdm(range(n_layers), position=1, leave=True):\n",
    "    for layer in range(n_layers):\n",
    "        for hook_i, hook_name in enumerate(hook_names):\n",
    "            hook_layer_name = transformer_lens.utils.get_act_name(hook_name, layer)\n",
    "            patch_layers_fn = [(hook_layer_name, partial(patch_hook_point, new_activs=new_activs, hook_layer_name=hook_layer_name))]\n",
    "            patched_logits = model.run_with_hooks(prompt, fwd_hooks=patch_layers_fn, reset_hooks_end=True)\n",
    "\n",
    "            ## get measurement change\n",
    "            patched_logits = measuring.select_logits(patched_logits, logit_idx, norm=True)\n",
    "            patched_logit_diff = (patched_logits[..., 0] - patched_logits[..., 1])\n",
    "\n",
    "            ## store effect strength\n",
    "            #old_logit_diff = measuring.compute_scale_val(old_logits, scale_val_type=\"diff\")\n",
    "            #new_logit_diff = measuring.compute_scale_val(new_logits, scale_val_type=\"diff\")\n",
    "            #effect_strength[layer, hook_i] = torch.abs(patched_logit_diff - old_logit_diff) / (new_logit_diff - old_logit_diff)\n",
    "            #effect = (patched_logit_diff - old_logit_diff) / (new_logit_diff - old_logit_diff)\n",
    "            effect = torch.abs(patched_logits[..., 0]-old_logits[..., 0])\n",
    "            #effect = torch.where(effect < 0, effect, 0.0)\n",
    "            effect_strength[layer, hook_i] = effect\n",
    "\n",
    "    vector_direction = torch.stack(vector_direction)\n",
    "    vector_direction = torch.movedim(vector_direction, 0, 1)\n",
    "    vector_direction = vector_direction.view(2, model.cfg.n_layers, -1, model.cfg.d_model)\n",
    "    return effect_strength.detach(), vector_direction.detach()\n"
   ]
  },
  {
   "cell_type": "code",
   "execution_count": 421,
   "id": "acd8cde5",
   "metadata": {},
   "outputs": [
    {
     "data": {
      "image/png": "[encoded data removed]",
      "text/plain": [
       "<Figure size 200x400 with 2 Axes>"
      ]
     },
     "metadata": {},
     "output_type": "display_data"
    }
   ],
   "source": [
    "old_prompt = [\"The relationship between Harry Potter and Ronald Weasley is\"]\n",
    "new_prompt = [\"Harry Potter absolutely hates Ronald Weasley. The relationship between Harry Potter and Ronald Weasley is\"]\n",
    "#new_prompt = [\"Harry absolutely loves Ron. The relationship between Harry Potter and Ronald Weasley is\"]\n",
    "#old_prompt = [\"The relationship between Demorats and Republicans is\"]\n",
    "\n",
    "\n",
    "#new_prompt = [\"Democrats like Republicans. The relationship between Democrats and Republicans is\"]\n",
    "#new_prompt = [\"The relationship between Democrats and Republicans is\"]\n",
    "#old_prompt = [\"The relationship between Harry and Ron is\"]\n",
    "\n",
    "old_logits, old_activs = measuring.prompt_with_cache(model,old_prompt,logit_idx=scale_idx,norm=True)\n",
    "new_logits, new_activs = measuring.prompt_with_cache(model,new_prompt,logit_idx=scale_idx,norm=True)\n",
    "\n",
    "vector_scale, vector_dir = patch_activs(model, old_logits, new_logits, new_activs, old_prompt, scale_idx)\n",
    "plot_heatmap(vector_scale.cpu().numpy(), cmap=\"binary\")"
   ]
  },
  {
   "cell_type": "code",
   "execution_count": 422,
   "id": "7308860e",
   "metadata": {},
   "outputs": [
    {
     "data": {
      "text/plain": [
       "[('Donald Trump loves Joe Biden. The relationship between Donald Trump and Joe Biden is',\n",
       "  'The relationship between Donald Trump and Joe Biden is'),\n",
       " ('Donald Trump hates Joe Biden. The relationship between Donald Trump and Joe Biden is',\n",
       "  'The relationship between Donald Trump and Joe Biden is'),\n",
       " ('Bilbo Baggins loves Sauron. The relationship between Bilbo Baggins and Sauron is',\n",
       "  'The relationship between Bilbo Baggins and Sauron is'),\n",
       " ('Bilbo Baggins hates Sauron. The relationship between Bilbo Baggins and Sauron is',\n",
       "  'The relationship between Bilbo Baggins and Sauron is'),\n",
       " ('Gauls loves Rome. The relationship between Gauls and Rome is',\n",
       "  'The relationship between Gauls and Rome is'),\n",
       " ('Gauls hates Rome. The relationship between Gauls and Rome is',\n",
       "  'The relationship between Gauls and Rome is'),\n",
       " ('Shrek loves Donkey. The relationship between Shrek and Donkey is',\n",
       "  'The relationship between Shrek and Donkey is'),\n",
       " ('Shrek hates Donkey. The relationship between Shrek and Donkey is',\n",
       "  'The relationship between Shrek and Donkey is')]"
      ]
     },
     "execution_count": 422,
     "metadata": {},
     "output_type": "execute_result"
    }
   ],
   "source": [
    "context_pairs"
   ]
  },
  {
   "cell_type": "code",
   "execution_count": 424,
   "id": "643b7d0d",
   "metadata": {},
   "outputs": [
    {
     "name": "stderr",
     "output_type": "stream",
     "text": [
      "                                                                                \r"
     ]
    },
    {
     "ename": "KeyboardInterrupt",
     "evalue": "",
     "output_type": "error",
     "traceback": [
      "\u001b[0;31m---------------------------------------------------------------------------\u001b[0m",
      "\u001b[0;31mKeyboardInterrupt\u001b[0m                         Traceback (most recent call last)",
      "Cell \u001b[0;32mIn[424], line 1\u001b[0m\n\u001b[0;32m----> 1\u001b[0m context_scale, context_dir \u001b[38;5;241m=\u001b[39m \u001b[43mrun_patching_loop\u001b[49m\u001b[43m(\u001b[49m\u001b[43mmodel\u001b[49m\u001b[43m,\u001b[49m\u001b[43m \u001b[49m\u001b[43mcontext_pairs\u001b[49m\u001b[43m,\u001b[49m\u001b[43m \u001b[49m\u001b[43mscale_idx\u001b[49m\u001b[43m)\u001b[49m\n",
      "Cell \u001b[0;32mIn[420], line 13\u001b[0m, in \u001b[0;36mrun_patching_loop\u001b[0;34m(model, prompt_pairs, scale_idx)\u001b[0m\n\u001b[1;32m     11\u001b[0m old_logits, old_activs \u001b[38;5;241m=\u001b[39m measuring\u001b[38;5;241m.\u001b[39mprompt_with_cache(model, prompt_1, logit_idx\u001b[38;5;241m=\u001b[39mscale_idx, norm\u001b[38;5;241m=\u001b[39m\u001b[38;5;28;01mTrue\u001b[39;00m)\n\u001b[1;32m     12\u001b[0m new_logits, new_activs \u001b[38;5;241m=\u001b[39m measuring\u001b[38;5;241m.\u001b[39mprompt_with_cache(model, prompt_2, logit_idx\u001b[38;5;241m=\u001b[39mscale_idx, norm\u001b[38;5;241m=\u001b[39m\u001b[38;5;28;01mTrue\u001b[39;00m)\n\u001b[0;32m---> 13\u001b[0m vector_scale, vector_dir \u001b[38;5;241m=\u001b[39m \u001b[43mpatch_activs\u001b[49m\u001b[43m(\u001b[49m\u001b[43mmodel\u001b[49m\u001b[43m,\u001b[49m\u001b[43m \u001b[49m\u001b[43mold_logits\u001b[49m\u001b[43m,\u001b[49m\u001b[43m \u001b[49m\u001b[43mnew_logits\u001b[49m\u001b[43m,\u001b[49m\u001b[43m \u001b[49m\u001b[43mnew_activs\u001b[49m\u001b[43m,\u001b[49m\u001b[43m \u001b[49m\u001b[43mprompt_1\u001b[49m\u001b[43m,\u001b[49m\u001b[43m \u001b[49m\u001b[43mscale_idx\u001b[49m\u001b[43m)\u001b[49m\n\u001b[1;32m     15\u001b[0m all_vector_scale\u001b[38;5;241m.\u001b[39mappend(vector_scale)\n\u001b[1;32m     16\u001b[0m all_vector_dir\u001b[38;5;241m.\u001b[39mappend(vector_dir)\n",
      "Cell \u001b[0;32mIn[420], line 48\u001b[0m, in \u001b[0;36mpatch_activs\u001b[0;34m(model, old_logits, new_logits, new_activs, prompt, logit_idx)\u001b[0m\n\u001b[1;32m     46\u001b[0m hook_layer_name \u001b[38;5;241m=\u001b[39m transformer_lens\u001b[38;5;241m.\u001b[39mutils\u001b[38;5;241m.\u001b[39mget_act_name(hook_name, layer)\n\u001b[1;32m     47\u001b[0m patch_layers_fn \u001b[38;5;241m=\u001b[39m [(hook_layer_name, partial(patch_hook_point, new_activs\u001b[38;5;241m=\u001b[39mnew_activs, hook_layer_name\u001b[38;5;241m=\u001b[39mhook_layer_name))]\n\u001b[0;32m---> 48\u001b[0m patched_logits \u001b[38;5;241m=\u001b[39m \u001b[43mmodel\u001b[49m\u001b[38;5;241;43m.\u001b[39;49m\u001b[43mrun_with_hooks\u001b[49m\u001b[43m(\u001b[49m\u001b[43mprompt\u001b[49m\u001b[43m,\u001b[49m\u001b[43m \u001b[49m\u001b[43mfwd_hooks\u001b[49m\u001b[38;5;241;43m=\u001b[39;49m\u001b[43mpatch_layers_fn\u001b[49m\u001b[43m,\u001b[49m\u001b[43m \u001b[49m\u001b[43mreset_hooks_end\u001b[49m\u001b[38;5;241;43m=\u001b[39;49m\u001b[38;5;28;43;01mTrue\u001b[39;49;00m\u001b[43m)\u001b[49m\n\u001b[1;32m     50\u001b[0m \u001b[38;5;66;03m## get measurement change\u001b[39;00m\n\u001b[1;32m     51\u001b[0m patched_logits \u001b[38;5;241m=\u001b[39m measuring\u001b[38;5;241m.\u001b[39mselect_logits(patched_logits, logit_idx, norm\u001b[38;5;241m=\u001b[39m\u001b[38;5;28;01mTrue\u001b[39;00m)\n",
      "File \u001b[0;32m~/Code/measureLM/measureLM_venv/lib/python3.9/site-packages/transformer_lens/hook_points.py:357\u001b[0m, in \u001b[0;36mHookedRootModule.run_with_hooks\u001b[0;34m(self, fwd_hooks, bwd_hooks, reset_hooks_end, clear_contexts, *model_args, **model_kwargs)\u001b[0m\n\u001b[1;32m    350\u001b[0m     logging\u001b[38;5;241m.\u001b[39mwarning(\n\u001b[1;32m    351\u001b[0m         \u001b[38;5;124m\"\u001b[39m\u001b[38;5;124mWARNING: Hooks will be reset at the end of run_with_hooks. This removes the backward hooks before a backward pass can occur.\u001b[39m\u001b[38;5;124m\"\u001b[39m\n\u001b[1;32m    352\u001b[0m     )\n\u001b[1;32m    354\u001b[0m \u001b[38;5;28;01mwith\u001b[39;00m \u001b[38;5;28mself\u001b[39m\u001b[38;5;241m.\u001b[39mhooks(\n\u001b[1;32m    355\u001b[0m     fwd_hooks, bwd_hooks, reset_hooks_end, clear_contexts\n\u001b[1;32m    356\u001b[0m ) \u001b[38;5;28;01mas\u001b[39;00m hooked_model:\n\u001b[0;32m--> 357\u001b[0m     \u001b[38;5;28;01mreturn\u001b[39;00m \u001b[43mhooked_model\u001b[49m\u001b[38;5;241;43m.\u001b[39;49m\u001b[43mforward\u001b[49m\u001b[43m(\u001b[49m\u001b[38;5;241;43m*\u001b[39;49m\u001b[43mmodel_args\u001b[49m\u001b[43m,\u001b[49m\u001b[43m \u001b[49m\u001b[38;5;241;43m*\u001b[39;49m\u001b[38;5;241;43m*\u001b[39;49m\u001b[43mmodel_kwargs\u001b[49m\u001b[43m)\u001b[49m\n",
      "File \u001b[0;32m~/Code/measureLM/measureLM_venv/lib/python3.9/site-packages/transformer_lens/HookedTransformer.py:365\u001b[0m, in \u001b[0;36mHookedTransformer.forward\u001b[0;34m(self, input, return_type, loss_per_token, prepend_bos, stop_at_layer, past_kv_cache)\u001b[0m\n\u001b[1;32m    360\u001b[0m     \u001b[38;5;28;01mif\u001b[39;00m shortformer_pos_embed \u001b[38;5;129;01mis\u001b[39;00m \u001b[38;5;129;01mnot\u001b[39;00m \u001b[38;5;28;01mNone\u001b[39;00m:\n\u001b[1;32m    361\u001b[0m         shortformer_pos_embed \u001b[38;5;241m=\u001b[39m shortformer_pos_embed\u001b[38;5;241m.\u001b[39mto(\n\u001b[1;32m    362\u001b[0m             devices\u001b[38;5;241m.\u001b[39mget_device_for_block_index(i, \u001b[38;5;28mself\u001b[39m\u001b[38;5;241m.\u001b[39mcfg)\n\u001b[1;32m    363\u001b[0m         )\n\u001b[0;32m--> 365\u001b[0m     residual \u001b[38;5;241m=\u001b[39m \u001b[43mblock\u001b[49m\u001b[43m(\u001b[49m\n\u001b[1;32m    366\u001b[0m \u001b[43m        \u001b[49m\u001b[43mresidual\u001b[49m\u001b[43m,\u001b[49m\n\u001b[1;32m    367\u001b[0m \u001b[43m        \u001b[49m\u001b[43mpast_kv_cache_entry\u001b[49m\u001b[38;5;241;43m=\u001b[39;49m\u001b[43mpast_kv_cache\u001b[49m\u001b[43m[\u001b[49m\u001b[43mi\u001b[49m\u001b[43m]\u001b[49m\n\u001b[1;32m    368\u001b[0m \u001b[43m        \u001b[49m\u001b[38;5;28;43;01mif\u001b[39;49;00m\u001b[43m \u001b[49m\u001b[43mpast_kv_cache\u001b[49m\u001b[43m \u001b[49m\u001b[38;5;129;43;01mis\u001b[39;49;00m\u001b[43m \u001b[49m\u001b[38;5;129;43;01mnot\u001b[39;49;00m\u001b[43m \u001b[49m\u001b[38;5;28;43;01mNone\u001b[39;49;00m\n\u001b[1;32m    369\u001b[0m \u001b[43m        \u001b[49m\u001b[38;5;28;43;01melse\u001b[39;49;00m\u001b[43m \u001b[49m\u001b[38;5;28;43;01mNone\u001b[39;49;00m\u001b[43m,\u001b[49m\u001b[43m  \u001b[49m\u001b[38;5;66;43;03m# Cache contains a list of HookedTransformerKeyValueCache objects, one for each block\u001b[39;49;00m\n\u001b[1;32m    370\u001b[0m \u001b[43m        \u001b[49m\u001b[43mshortformer_pos_embed\u001b[49m\u001b[38;5;241;43m=\u001b[39;49m\u001b[43mshortformer_pos_embed\u001b[49m\u001b[43m,\u001b[49m\n\u001b[1;32m    371\u001b[0m \u001b[43m    \u001b[49m\u001b[43m)\u001b[49m  \u001b[38;5;66;03m# [batch, pos, d_model]\u001b[39;00m\n\u001b[1;32m    373\u001b[0m \u001b[38;5;28;01mif\u001b[39;00m stop_at_layer \u001b[38;5;129;01mis\u001b[39;00m \u001b[38;5;129;01mnot\u001b[39;00m \u001b[38;5;28;01mNone\u001b[39;00m:\n\u001b[1;32m    374\u001b[0m     \u001b[38;5;66;03m# When we stop at an early layer, we end here rather than doing further computation\u001b[39;00m\n\u001b[1;32m    375\u001b[0m     \u001b[38;5;28;01mreturn\u001b[39;00m \u001b[38;5;28;01mNone\u001b[39;00m\n",
      "File \u001b[0;32m~/Code/measureLM/measureLM_venv/lib/python3.9/site-packages/torch/nn/modules/module.py:1501\u001b[0m, in \u001b[0;36mModule._call_impl\u001b[0;34m(self, *args, **kwargs)\u001b[0m\n\u001b[1;32m   1496\u001b[0m \u001b[38;5;66;03m# If we don't have any hooks, we want to skip the rest of the logic in\u001b[39;00m\n\u001b[1;32m   1497\u001b[0m \u001b[38;5;66;03m# this function, and just call forward.\u001b[39;00m\n\u001b[1;32m   1498\u001b[0m \u001b[38;5;28;01mif\u001b[39;00m \u001b[38;5;129;01mnot\u001b[39;00m (\u001b[38;5;28mself\u001b[39m\u001b[38;5;241m.\u001b[39m_backward_hooks \u001b[38;5;129;01mor\u001b[39;00m \u001b[38;5;28mself\u001b[39m\u001b[38;5;241m.\u001b[39m_backward_pre_hooks \u001b[38;5;129;01mor\u001b[39;00m \u001b[38;5;28mself\u001b[39m\u001b[38;5;241m.\u001b[39m_forward_hooks \u001b[38;5;129;01mor\u001b[39;00m \u001b[38;5;28mself\u001b[39m\u001b[38;5;241m.\u001b[39m_forward_pre_hooks\n\u001b[1;32m   1499\u001b[0m         \u001b[38;5;129;01mor\u001b[39;00m _global_backward_pre_hooks \u001b[38;5;129;01mor\u001b[39;00m _global_backward_hooks\n\u001b[1;32m   1500\u001b[0m         \u001b[38;5;129;01mor\u001b[39;00m _global_forward_hooks \u001b[38;5;129;01mor\u001b[39;00m _global_forward_pre_hooks):\n\u001b[0;32m-> 1501\u001b[0m     \u001b[38;5;28;01mreturn\u001b[39;00m \u001b[43mforward_call\u001b[49m\u001b[43m(\u001b[49m\u001b[38;5;241;43m*\u001b[39;49m\u001b[43margs\u001b[49m\u001b[43m,\u001b[49m\u001b[43m \u001b[49m\u001b[38;5;241;43m*\u001b[39;49m\u001b[38;5;241;43m*\u001b[39;49m\u001b[43mkwargs\u001b[49m\u001b[43m)\u001b[49m\n\u001b[1;32m   1502\u001b[0m \u001b[38;5;66;03m# Do not call functions when jit is used\u001b[39;00m\n\u001b[1;32m   1503\u001b[0m full_backward_hooks, non_full_backward_hooks \u001b[38;5;241m=\u001b[39m [], []\n",
      "File \u001b[0;32m~/Code/measureLM/measureLM_venv/lib/python3.9/site-packages/transformer_lens/components.py:984\u001b[0m, in \u001b[0;36mTransformerBlock.forward\u001b[0;34m(self, resid_pre, shortformer_pos_embed, past_kv_cache_entry)\u001b[0m\n\u001b[1;32m    977\u001b[0m     mlp_in \u001b[38;5;241m=\u001b[39m (\n\u001b[1;32m    978\u001b[0m         resid_mid\n\u001b[1;32m    979\u001b[0m         \u001b[38;5;28;01mif\u001b[39;00m \u001b[38;5;129;01mnot\u001b[39;00m \u001b[38;5;28mself\u001b[39m\u001b[38;5;241m.\u001b[39mcfg\u001b[38;5;241m.\u001b[39muse_hook_mlp_in\n\u001b[1;32m    980\u001b[0m         \u001b[38;5;28;01melse\u001b[39;00m \u001b[38;5;28mself\u001b[39m\u001b[38;5;241m.\u001b[39mhook_mlp_in(resid_mid\u001b[38;5;241m.\u001b[39mclone())\n\u001b[1;32m    981\u001b[0m     )\n\u001b[1;32m    982\u001b[0m     normalized_resid_mid \u001b[38;5;241m=\u001b[39m \u001b[38;5;28mself\u001b[39m\u001b[38;5;241m.\u001b[39mln2(mlp_in)\n\u001b[1;32m    983\u001b[0m     mlp_out \u001b[38;5;241m=\u001b[39m \u001b[38;5;28mself\u001b[39m\u001b[38;5;241m.\u001b[39mhook_mlp_out(\n\u001b[0;32m--> 984\u001b[0m         \u001b[38;5;28;43mself\u001b[39;49m\u001b[38;5;241;43m.\u001b[39;49m\u001b[43mmlp\u001b[49m\u001b[43m(\u001b[49m\u001b[43mnormalized_resid_mid\u001b[49m\u001b[43m)\u001b[49m\n\u001b[1;32m    985\u001b[0m     )  \u001b[38;5;66;03m# [batch, pos, d_model]\u001b[39;00m\n\u001b[1;32m    986\u001b[0m     resid_post \u001b[38;5;241m=\u001b[39m \u001b[38;5;28mself\u001b[39m\u001b[38;5;241m.\u001b[39mhook_resid_post(\n\u001b[1;32m    987\u001b[0m         resid_mid \u001b[38;5;241m+\u001b[39m mlp_out\n\u001b[1;32m    988\u001b[0m     )  \u001b[38;5;66;03m# [batch, pos, d_model]\u001b[39;00m\n\u001b[1;32m    989\u001b[0m \u001b[38;5;28;01melif\u001b[39;00m \u001b[38;5;28mself\u001b[39m\u001b[38;5;241m.\u001b[39mcfg\u001b[38;5;241m.\u001b[39mparallel_attn_mlp:\n\u001b[1;32m    990\u001b[0m     \u001b[38;5;66;03m# Dumb thing done by GPT-J, both MLP and Attn read from resid_pre and write to resid_post, no resid_mid used.\u001b[39;00m\n\u001b[1;32m    991\u001b[0m     \u001b[38;5;66;03m# In GPT-J, LN1 and LN2 are tied, in GPT-NeoX they aren't.\u001b[39;00m\n",
      "File \u001b[0;32m~/Code/measureLM/measureLM_venv/lib/python3.9/site-packages/torch/nn/modules/module.py:1501\u001b[0m, in \u001b[0;36mModule._call_impl\u001b[0;34m(self, *args, **kwargs)\u001b[0m\n\u001b[1;32m   1496\u001b[0m \u001b[38;5;66;03m# If we don't have any hooks, we want to skip the rest of the logic in\u001b[39;00m\n\u001b[1;32m   1497\u001b[0m \u001b[38;5;66;03m# this function, and just call forward.\u001b[39;00m\n\u001b[1;32m   1498\u001b[0m \u001b[38;5;28;01mif\u001b[39;00m \u001b[38;5;129;01mnot\u001b[39;00m (\u001b[38;5;28mself\u001b[39m\u001b[38;5;241m.\u001b[39m_backward_hooks \u001b[38;5;129;01mor\u001b[39;00m \u001b[38;5;28mself\u001b[39m\u001b[38;5;241m.\u001b[39m_backward_pre_hooks \u001b[38;5;129;01mor\u001b[39;00m \u001b[38;5;28mself\u001b[39m\u001b[38;5;241m.\u001b[39m_forward_hooks \u001b[38;5;129;01mor\u001b[39;00m \u001b[38;5;28mself\u001b[39m\u001b[38;5;241m.\u001b[39m_forward_pre_hooks\n\u001b[1;32m   1499\u001b[0m         \u001b[38;5;129;01mor\u001b[39;00m _global_backward_pre_hooks \u001b[38;5;129;01mor\u001b[39;00m _global_backward_hooks\n\u001b[1;32m   1500\u001b[0m         \u001b[38;5;129;01mor\u001b[39;00m _global_forward_hooks \u001b[38;5;129;01mor\u001b[39;00m _global_forward_pre_hooks):\n\u001b[0;32m-> 1501\u001b[0m     \u001b[38;5;28;01mreturn\u001b[39;00m \u001b[43mforward_call\u001b[49m\u001b[43m(\u001b[49m\u001b[38;5;241;43m*\u001b[39;49m\u001b[43margs\u001b[49m\u001b[43m,\u001b[49m\u001b[43m \u001b[49m\u001b[38;5;241;43m*\u001b[39;49m\u001b[38;5;241;43m*\u001b[39;49m\u001b[43mkwargs\u001b[49m\u001b[43m)\u001b[49m\n\u001b[1;32m   1502\u001b[0m \u001b[38;5;66;03m# Do not call functions when jit is used\u001b[39;00m\n\u001b[1;32m   1503\u001b[0m full_backward_hooks, non_full_backward_hooks \u001b[38;5;241m=\u001b[39m [], []\n",
      "File \u001b[0;32m~/Code/measureLM/measureLM_venv/lib/python3.9/site-packages/transformer_lens/components.py:771\u001b[0m, in \u001b[0;36mMLP.forward\u001b[0;34m(self, x)\u001b[0m\n\u001b[1;32m    766\u001b[0m pre_act \u001b[38;5;241m=\u001b[39m \u001b[38;5;28mself\u001b[39m\u001b[38;5;241m.\u001b[39mhook_pre(\n\u001b[1;32m    767\u001b[0m     einsum(\u001b[38;5;124m\"\u001b[39m\u001b[38;5;124mbatch pos d_model, d_model d_mlp -> batch pos d_mlp\u001b[39m\u001b[38;5;124m\"\u001b[39m, x, \u001b[38;5;28mself\u001b[39m\u001b[38;5;241m.\u001b[39mW_in)\n\u001b[1;32m    768\u001b[0m     \u001b[38;5;241m+\u001b[39m \u001b[38;5;28mself\u001b[39m\u001b[38;5;241m.\u001b[39mb_in\n\u001b[1;32m    769\u001b[0m )  \u001b[38;5;66;03m# [batch, pos, d_mlp]\u001b[39;00m\n\u001b[1;32m    770\u001b[0m \u001b[38;5;28;01mif\u001b[39;00m \u001b[38;5;129;01mnot\u001b[39;00m \u001b[38;5;28mself\u001b[39m\u001b[38;5;241m.\u001b[39mcfg\u001b[38;5;241m.\u001b[39mact_fn\u001b[38;5;241m.\u001b[39mendswith(\u001b[38;5;124m\"\u001b[39m\u001b[38;5;124m_ln\u001b[39m\u001b[38;5;124m\"\u001b[39m):\n\u001b[0;32m--> 771\u001b[0m     post_act \u001b[38;5;241m=\u001b[39m \u001b[38;5;28mself\u001b[39m\u001b[38;5;241m.\u001b[39mhook_post(\u001b[38;5;28;43mself\u001b[39;49m\u001b[38;5;241;43m.\u001b[39;49m\u001b[43mact_fn\u001b[49m\u001b[43m(\u001b[49m\u001b[43mpre_act\u001b[49m\u001b[43m)\u001b[49m)  \u001b[38;5;66;03m# [batch, pos, d_mlp]\u001b[39;00m\n\u001b[1;32m    772\u001b[0m \u001b[38;5;28;01melse\u001b[39;00m:\n\u001b[1;32m    773\u001b[0m     mid_act \u001b[38;5;241m=\u001b[39m \u001b[38;5;28mself\u001b[39m\u001b[38;5;241m.\u001b[39mhook_mid(\u001b[38;5;28mself\u001b[39m\u001b[38;5;241m.\u001b[39mact_fn(pre_act))  \u001b[38;5;66;03m# [batch, pos, d_mlp]\u001b[39;00m\n",
      "File \u001b[0;32m~/Code/measureLM/measureLM_venv/lib/python3.9/site-packages/transformer_lens/utils.py:165\u001b[0m, in \u001b[0;36mgelu_new\u001b[0;34m(input)\u001b[0m\n\u001b[1;32m    156\u001b[0m \u001b[38;5;28;01mdef\u001b[39;00m \u001b[38;5;21mgelu_new\u001b[39m(\n\u001b[1;32m    157\u001b[0m     \u001b[38;5;28minput\u001b[39m: Float[torch\u001b[38;5;241m.\u001b[39mTensor, \u001b[38;5;124m\"\u001b[39m\u001b[38;5;124mbatch pos d_mlp\u001b[39m\u001b[38;5;124m\"\u001b[39m]\n\u001b[1;32m    158\u001b[0m ) \u001b[38;5;241m-\u001b[39m\u001b[38;5;241m>\u001b[39m Float[torch\u001b[38;5;241m.\u001b[39mTensor, \u001b[38;5;124m\"\u001b[39m\u001b[38;5;124mbatch pos d_mlp\u001b[39m\u001b[38;5;124m\"\u001b[39m]:\n\u001b[1;32m    159\u001b[0m     \u001b[38;5;66;03m# Implementation of GeLU used by GPT2 - subtly different from PyTorch's\u001b[39;00m\n\u001b[1;32m    160\u001b[0m     \u001b[38;5;28;01mreturn\u001b[39;00m (\n\u001b[1;32m    161\u001b[0m         \u001b[38;5;241m0.5\u001b[39m\n\u001b[1;32m    162\u001b[0m         \u001b[38;5;241m*\u001b[39m \u001b[38;5;28minput\u001b[39m\n\u001b[1;32m    163\u001b[0m         \u001b[38;5;241m*\u001b[39m (\n\u001b[1;32m    164\u001b[0m             \u001b[38;5;241m1.0\u001b[39m\n\u001b[0;32m--> 165\u001b[0m             \u001b[38;5;241m+\u001b[39m \u001b[43mtorch\u001b[49m\u001b[38;5;241;43m.\u001b[39;49m\u001b[43mtanh\u001b[49m\u001b[43m(\u001b[49m\n\u001b[1;32m    166\u001b[0m \u001b[43m                \u001b[49m\u001b[43mnp\u001b[49m\u001b[38;5;241;43m.\u001b[39;49m\u001b[43msqrt\u001b[49m\u001b[43m(\u001b[49m\u001b[38;5;241;43m2.0\u001b[39;49m\u001b[43m \u001b[49m\u001b[38;5;241;43m/\u001b[39;49m\u001b[43m \u001b[49m\u001b[43mnp\u001b[49m\u001b[38;5;241;43m.\u001b[39;49m\u001b[43mpi\u001b[49m\u001b[43m)\u001b[49m\u001b[43m \u001b[49m\u001b[38;5;241;43m*\u001b[39;49m\u001b[43m \u001b[49m\u001b[43m(\u001b[49m\u001b[38;5;28;43minput\u001b[39;49m\u001b[43m \u001b[49m\u001b[38;5;241;43m+\u001b[39;49m\u001b[43m \u001b[49m\u001b[38;5;241;43m0.044715\u001b[39;49m\u001b[43m \u001b[49m\u001b[38;5;241;43m*\u001b[39;49m\u001b[43m \u001b[49m\u001b[43mtorch\u001b[49m\u001b[38;5;241;43m.\u001b[39;49m\u001b[43mpow\u001b[49m\u001b[43m(\u001b[49m\u001b[38;5;28;43minput\u001b[39;49m\u001b[43m,\u001b[49m\u001b[43m \u001b[49m\u001b[38;5;241;43m3.0\u001b[39;49m\u001b[43m)\u001b[49m\u001b[43m)\u001b[49m\n\u001b[1;32m    167\u001b[0m \u001b[43m            \u001b[49m\u001b[43m)\u001b[49m\n\u001b[1;32m    168\u001b[0m         )\n\u001b[1;32m    169\u001b[0m     )\n",
      "\u001b[0;31mKeyboardInterrupt\u001b[0m: "
     ]
    }
   ],
   "source": [
    "context_scale, context_dir = run_patching_loop(model, context_pairs, scale_idx)"
   ]
  },
  {
   "cell_type": "code",
   "execution_count": 425,
   "id": "7313681d",
   "metadata": {},
   "outputs": [],
   "source": [
    "def prepare_context(context_dir, context_scale, context_type=\"pos\"):\n",
    "    if context_type==\"all\":\n",
    "        every_n = 1\n",
    "        pos_neg_idx = 0\n",
    "    else:\n",
    "        every_n = 2\n",
    "        pos_neg_idx = {\"pos\":0, \"neg\":1}[context_type]\n",
    "    pos_neg_idx = torch.arange(pos_neg_idx,context_dir.shape[0],every_n).to(context_dir.device)\n",
    "    dir_vec = torch.index_select(context_dir, dim=0, index=pos_neg_idx).mean(0)\n",
    "    dir_vec = dir_vec[1] - dir_vec[0]\n",
    "    \n",
    "    scale_vec = torch.index_select(context_scale, dim=0, index=pos_neg_idx).mean(0)\n",
    "    return dir_vec, scale_vec"
   ]
  },
  {
   "cell_type": "code",
   "execution_count": 429,
   "id": "f6169b55",
   "metadata": {},
   "outputs": [
    {
     "data": {
      "text/plain": [
       "torch.Size([8, 24, 2])"
      ]
     },
     "execution_count": 429,
     "metadata": {},
     "output_type": "execute_result"
    }
   ],
   "source": [
    "context_scale.shape"
   ]
  },
  {
   "cell_type": "code",
   "execution_count": 432,
   "id": "d04d4b61",
   "metadata": {},
   "outputs": [
    {
     "data": {
      "image/png": "[encoded data removed]",
      "text/plain": [
       "<Figure size 200x400 with 2 Axes>"
      ]
     },
     "metadata": {},
     "output_type": "display_data"
    }
   ],
   "source": [
    "select_context_dir, select_context_scale = prepare_context(context_dir,context_scale,context_type=\"all\")\n",
    "plot_heatmap(select_context_scale.cpu().numpy(), cmap=\"binary\")"
   ]
  },
  {
   "cell_type": "markdown",
   "id": "48f23b1b",
   "metadata": {},
   "source": [
    "## Apply Patches"
   ]
  },
  {
   "cell_type": "markdown",
   "id": "ca2ba43a",
   "metadata": {},
   "source": [
    "### Before Patching"
   ]
  },
  {
   "cell_type": "code",
   "execution_count": 474,
   "id": "17e13462",
   "metadata": {},
   "outputs": [
    {
     "data": {
      "text/plain": [
       "tensor([0.6119], device='mps:0')"
      ]
     },
     "execution_count": 474,
     "metadata": {},
     "output_type": "execute_result"
    }
   ],
   "source": [
    "prompt = [\"The relationship between Harry Potter and Ronald Weasley is\"]\n",
    "prompt = [\"Harry absolutely hates Ronald Weasley. The relationship between Harry Potter and Ronald Weasley is\"]\n",
    "prompt = [\"Harry Potter absolutely loves Ronald Weasley. The relationship between Harry Potter and Ronald Weasley is\"]\n",
    "\n",
    "logits, activs = measuring.prompt_with_cache(model,prompt,logit_idx=scale_idx,norm=True)\n",
    "scale_v = logits[..., 0]\n",
    "scale_v"
   ]
  },
  {
   "cell_type": "markdown",
   "id": "aff5cc1b",
   "metadata": {},
   "source": [
    "### After Patching"
   ]
  },
  {
   "cell_type": "code",
   "execution_count": 498,
   "id": "9883c879",
   "metadata": {},
   "outputs": [],
   "source": [
    "#def layer_norm(layer_token_vec):\n",
    "#    mean = torch.mean(layer_token_vec, dim=-1).unsqueeze(-1).repeat(1,1,1,1,layer_token_vec.shape[-1])\n",
    "#    std = torch.std(layer_token_vec, dim=-1).unsqueeze(-1).repeat(1,1,1,1,layer_token_vec.shape[-1])\n",
    "#    layer_token_vec_normed = (layer_token_vec - mean) / std\n",
    "#    return layer_token_vec_normed.squeeze()\n",
    "\n",
    "def prepare_context(context_dir, context_scale, context_type=\"all\"):\n",
    "    if context_type==\"all\":\n",
    "        every_n = 1\n",
    "        pos_neg_idx = 0\n",
    "    elif context_type in [\"pos\", \"neg\"]:\n",
    "        every_n = 2\n",
    "        pos_neg_idx = {\"pos\":0, \"neg\":1}[context_type]\n",
    "    pos_neg_idx = torch.arange(pos_neg_idx,context_dir.shape[0],every_n).to(context_dir.device)\n",
    "    dir_vec = torch.index_select(context_dir, dim=0, index=pos_neg_idx)\n",
    "    dir_vec = dir_vec[:,1]#-dir_vec[:,0]\n",
    "    #dir_vec = dir_vec[:,0]\n",
    "    dir_vec = dir_vec.mean(0)\n",
    "    \n",
    "    ## ToDo\n",
    "    scale_vec = torch.index_select(context_scale, dim=0, index=pos_neg_idx).mean(0)\n",
    "    return dir_vec, scale_vec\n",
    "\n",
    "\n",
    "\n",
    "def control_hook_point(activs, hook: HookPoint, scale_vec, dir_vec, alpha): \n",
    "    i = int(hook.layer())\n",
    "    j = {\"hook_attn_out\":0, \"hook_mlp_out\":1}[hook.name.split(\".\")[2]]\n",
    "    activs[...,-1,:] = activs[...,-1,:] + (alpha * (scale_vec[i,j] * dir_vec[i,j,:]))\n",
    "    \n",
    "    \n",
    "    #activs[...,-1,:] = torch.einsum(\"...c,...c->...c\", activs[...,-1,:], (alpha * (1+scale_vec[i,j] * dir_vec[i,j,:])))\n",
    "\n",
    "def control_bias_context(model, prompt, scale_vec, dir_vec, alpha=1.0):\n",
    "    \n",
    "    patch_hook_fn = partial(control_hook_point, scale_vec=scale_vec, dir_vec=dir_vec, alpha=alpha)   \n",
    "    patch_layers_fn = [(lambda name: name.endswith(\"attn_out\") or name.endswith(\"mlp_out\"), patch_hook_fn)]\n",
    "    \n",
    "    patch_logits = model.run_with_hooks(prompt, fwd_hooks=patch_layers_fn, return_type=\"logits\", reset_hooks_end=True)\n",
    "    return patch_logits"
   ]
  },
  {
   "cell_type": "code",
   "execution_count": 499,
   "id": "bd47d4d0",
   "metadata": {},
   "outputs": [
    {
     "data": {
      "text/plain": [
       "tensor(0.6149, device='mps:0')"
      ]
     },
     "execution_count": 499,
     "metadata": {},
     "output_type": "execute_result"
    }
   ],
   "source": [
    "select_context_dir, select_context_scale = prepare_context(context_dir,context_scale,context_type=\"pos\")\n",
    "\n",
    "context_patch_logits = control_bias_context(model, prompt, select_context_scale, select_context_dir, alpha=-10)\n",
    "context_patch_logits = measuring.select_logits(context_patch_logits[:,-1,:], scale_idx, norm=True)\n",
    "\n",
    "context_scale_v = context_patch_logits[..., 0]\n",
    "context_scale_v"
   ]
  },
  {
   "cell_type": "code",
   "execution_count": 443,
   "id": "8bfb5de3",
   "metadata": {},
   "outputs": [
    {
     "data": {
      "text/plain": [
       "torch.Size([8, 2, 24, 2, 1024])"
      ]
     },
     "execution_count": 443,
     "metadata": {},
     "output_type": "execute_result"
    }
   ],
   "source": [
    "context_dir.shape"
   ]
  },
  {
   "cell_type": "code",
   "execution_count": 488,
   "id": "1b0699df",
   "metadata": {},
   "outputs": [
    {
     "data": {
      "text/plain": [
       "torch.Size([24, 2, 1024])"
      ]
     },
     "execution_count": 488,
     "metadata": {},
     "output_type": "execute_result"
    }
   ],
   "source": [
    "select_context_dir.shape"
   ]
  },
  {
   "cell_type": "code",
   "execution_count": null,
   "id": "a6a9deda",
   "metadata": {},
   "outputs": [],
   "source": []
  }
 ],
 "metadata": {
  "kernelspec": {
   "display_name": "measureLM_venv",
   "language": "python",
   "name": "measurelm_venv"
  },
  "language_info": {
   "codemirror_mode": {
    "name": "ipython",
    "version": 3
   },
   "file_extension": ".py",
   "mimetype": "text/x-python",
   "name": "python",
   "nbconvert_exporter": "python",
   "pygments_lexer": "ipython3",
   "version": "3.9.13"
  }
 },
 "nbformat": 4,
 "nbformat_minor": 5
}
