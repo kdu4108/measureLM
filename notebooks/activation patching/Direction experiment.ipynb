{
 "cells": [
  {
   "cell_type": "code",
   "execution_count": 108,
   "id": "44380780",
   "metadata": {},
   "outputs": [],
   "source": [
    "import numpy as np\n",
    "import torch"
   ]
  },
  {
   "cell_type": "code",
   "execution_count": 15,
   "id": "6b27656a",
   "metadata": {},
   "outputs": [],
   "source": [
    "import matplotlib.pyplot as plt\n",
    "\n",
    "def plot(a,b,x):\n",
    "    soa = np.array([a,b,x])\n",
    "    plt.figure()\n",
    "    ax = plt.gca()\n",
    "    ax.quiver(*np.zeros_like(soa.T), *soa.T, angles='xy', scale_units='xy', scale=1)\n",
    "    ax.set_xlim([-2, 2])\n",
    "    ax.set_ylim([-2, 2])\n",
    "    plt.draw()\n",
    "    plt.show()"
   ]
  },
  {
   "cell_type": "code",
   "execution_count": 139,
   "id": "1e1ad9c3",
   "metadata": {},
   "outputs": [],
   "source": [
    "a = torch.tensor([0.2,1])\n",
    "b = torch.tensor([0.8,1])\n",
    "a = a / torch.norm(a)\n",
    "b = b / torch.norm(b)\n",
    "\n",
    "x = torch.tensor([0.1,1])\n",
    "x = x / torch.norm(x)\n",
    "#plot(a,b,x)"
   ]
  },
  {
   "cell_type": "code",
   "execution_count": 111,
   "id": "bdde3911",
   "metadata": {},
   "outputs": [
    {
     "data": {
      "text/plain": [
       "tensor(0.1561)"
      ]
     },
     "execution_count": 111,
     "metadata": {},
     "output_type": "execute_result"
    }
   ],
   "source": [
    "a @ x - b @ x"
   ]
  },
  {
   "cell_type": "code",
   "execution_count": 112,
   "id": "85235b94",
   "metadata": {},
   "outputs": [
    {
     "data": {
      "text/plain": [
       "array([[-0.04264519, -0.42645192],\n",
       "       [ 0.01987208,  0.19872075]], dtype=float32)"
      ]
     },
     "execution_count": 112,
     "metadata": {},
     "output_type": "execute_result"
    }
   ],
   "source": [
    "np.outer(a, x) - np.outer(b, x)"
   ]
  },
  {
   "cell_type": "code",
   "execution_count": 98,
   "id": "e28c558f",
   "metadata": {},
   "outputs": [
    {
     "data": {
      "text/plain": [
       "0.8351489891606294"
      ]
     },
     "execution_count": 98,
     "metadata": {},
     "output_type": "execute_result"
    }
   ],
   "source": [
    "(a @ np.outer(x, x) @ b)"
   ]
  },
  {
   "cell_type": "code",
   "execution_count": 79,
   "id": "cbe6fc41",
   "metadata": {},
   "outputs": [
    {
     "data": {
      "text/plain": [
       "array([0.09950372, 0.99503719])"
      ]
     },
     "execution_count": 79,
     "metadata": {},
     "output_type": "execute_result"
    }
   ],
   "source": [
    "x"
   ]
  },
  {
   "cell_type": "code",
   "execution_count": 119,
   "id": "102fa19d",
   "metadata": {},
   "outputs": [
    {
     "data": {
      "text/plain": [
       "tensor([[0.1961, 0.9806],\n",
       "        [0.6247, 0.7809]])"
      ]
     },
     "execution_count": 119,
     "metadata": {},
     "output_type": "execute_result"
    }
   ],
   "source": [
    "ab = torch.stack([a,b])\n",
    "ab"
   ]
  },
  {
   "cell_type": "code",
   "execution_count": 160,
   "id": "140ed735",
   "metadata": {},
   "outputs": [
    {
     "data": {
      "text/plain": [
       "tensor([0.0995, 0.9950])"
      ]
     },
     "execution_count": 160,
     "metadata": {},
     "output_type": "execute_result"
    }
   ],
   "source": [
    "x"
   ]
  },
  {
   "cell_type": "code",
   "execution_count": 161,
   "id": "3f2589c8",
   "metadata": {},
   "outputs": [],
   "source": [
    "cos = torch.nn.CosineSimilarity(dim=0, eps=1e-08)"
   ]
  },
  {
   "cell_type": "code",
   "execution_count": 168,
   "id": "e965d88f",
   "metadata": {},
   "outputs": [
    {
     "data": {
      "text/plain": [
       "tensor([-0.0327,  0.3190])"
      ]
     },
     "execution_count": 168,
     "metadata": {},
     "output_type": "execute_result"
    }
   ],
   "source": [
    "c = (x / torch.norm(x)) * (((a / torch.norm(a)) * cos(a, x))-((b / torch.norm(b)) * cos(b, x)))\n",
    "c"
   ]
  },
  {
   "cell_type": "code",
   "execution_count": 173,
   "id": "0f33240f",
   "metadata": {},
   "outputs": [
    {
     "data": {
      "text/plain": [
       "tensor([0.0194, 0.9711])"
      ]
     },
     "execution_count": 173,
     "metadata": {},
     "output_type": "execute_result"
    }
   ],
   "source": [
    "c = (x / torch.norm(x)) * ((a / torch.norm(a)) * cos(a, x))\n",
    "c\n"
   ]
  },
  {
   "cell_type": "code",
   "execution_count": 174,
   "id": "65328eda",
   "metadata": {},
   "outputs": [
    {
     "data": {
      "text/plain": [
       "tensor([0.1961, 0.9806])"
      ]
     },
     "execution_count": 174,
     "metadata": {},
     "output_type": "execute_result"
    }
   ],
   "source": [
    "a"
   ]
  },
  {
   "cell_type": "code",
   "execution_count": 176,
   "id": "0a1f809f",
   "metadata": {},
   "outputs": [
    {
     "data": {
      "text/plain": [
       "tensor([-0.0327,  0.3190])"
      ]
     },
     "execution_count": 176,
     "metadata": {},
     "output_type": "execute_result"
    }
   ],
   "source": [
    "(x / torch.norm(x)) * ((a / torch.norm(a)) * cos(a, x)) - (x / torch.norm(x)) * ((b / torch.norm(b)) * cos(b, x))"
   ]
  },
  {
   "cell_type": "code",
   "execution_count": null,
   "id": "3d2486bb",
   "metadata": {},
   "outputs": [],
   "source": []
  }
 ],
 "metadata": {
  "kernelspec": {
   "display_name": "measureLM_venv",
   "language": "python",
   "name": "measurelm_venv"
  },
  "language_info": {
   "codemirror_mode": {
    "name": "ipython",
    "version": 3
   },
   "file_extension": ".py",
   "mimetype": "text/x-python",
   "name": "python",
   "nbconvert_exporter": "python",
   "pygments_lexer": "ipython3",
   "version": "3.9.13"
  }
 },
 "nbformat": 4,
 "nbformat_minor": 5
}
