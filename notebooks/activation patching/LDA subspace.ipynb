{
 "cells": [
  {
   "cell_type": "markdown",
   "id": "8ce2fcce",
   "metadata": {},
   "source": [
    "# LDA Subspace"
   ]
  },
  {
   "cell_type": "code",
   "execution_count": 23,
   "id": "7432ee27",
   "metadata": {},
   "outputs": [],
   "source": [
    "import numpy as np\n",
    "import torch\n",
    "\n",
    "import matplotlib.pyplot as plt\n",
    "from sklearn.decomposition import PCA\n",
    "\n",
    "matplotlib.rcParams['axes.spines.right'] = False\n",
    "matplotlib.rcParams['axes.spines.top'] = False\n",
    "\n"
   ]
  },
  {
   "cell_type": "markdown",
   "id": "65e50965",
   "metadata": {},
   "source": [
    "### Data Generation"
   ]
  },
  {
   "cell_type": "code",
   "execution_count": 27,
   "id": "e6c482e4",
   "metadata": {},
   "outputs": [],
   "source": [
    "X_1 = np.random.normal(1, 0.4, (5,20))\n",
    "y_1 = np.zeros(5)\n",
    "X_2 = np.random.normal(1, 1.2, (5,20))\n",
    "y_2 = np.ones(5)\n",
    "\n",
    "X = np.concatenate((X_1, X_2))\n",
    "y = np.concatenate((y_1, y_2))"
   ]
  },
  {
   "cell_type": "code",
   "execution_count": 52,
   "id": "735e94fa",
   "metadata": {},
   "outputs": [
    {
     "data": {
      "image/png": "[encoded data removed]",
      "text/plain": [
       "<Figure size 500x500 with 1 Axes>"
      ]
     },
     "metadata": {},
     "output_type": "display_data"
    }
   ],
   "source": [
    "class LDA:\n",
    "\n",
    "    def __init__(self, ):\n",
    "        self.linear_discriminants = None\n",
    "\n",
    "    def fit(self, X, y):\n",
    "        n_features = X.shape[1]\n",
    "        class_labels = np.unique(y)\n",
    "\n",
    "        # Within class scatter matrix:\n",
    "        # SW = sum((X_c - mean_X_c)^2 )\n",
    "\n",
    "        # Between class scatter:\n",
    "        # SB = sum( n_c * (mean_X_c - mean_overall)^2 )\n",
    "\n",
    "        mean_overall = np.mean(X, axis=0)\n",
    "        SW = np.zeros((n_features, n_features))\n",
    "        SB = np.zeros((n_features, n_features))\n",
    "        for c in class_labels:\n",
    "            X_c = X[y == c]\n",
    "            mean_c = np.mean(X_c, axis=0)\n",
    "            # (4, n_c) * (n_c, 4) = (4,4) -> transpose\n",
    "            SW += (X_c - mean_c).T.dot((X_c - mean_c))\n",
    "\n",
    "            # (4, 1) * (1, 4) = (4,4) -> reshape\n",
    "            n_c = X_c.shape[0]\n",
    "            mean_diff = (mean_c - mean_overall).reshape(n_features, 1)\n",
    "            SB += n_c * (mean_diff).dot(mean_diff.T)\n",
    "\n",
    "        # Determine SW^-1 * SB\n",
    "        A = np.linalg.inv(SW).dot(SB)\n",
    "        # Get eigenvalues and eigenvectors of SW^-1 * SB\n",
    "        eigenvalues, eigenvectors = np.linalg.eig(A)\n",
    "        # -> eigenvector v = [:,i] column vector, transpose for easier calculations\n",
    "        # sort eigenvalues high to low\n",
    "        eigenvectors = eigenvectors.T\n",
    "        idxs = np.argsort(abs(eigenvalues))[::-1]\n",
    "        self.eigenvals = eigenvalues[idxs]\n",
    "        self.eigenvecs = eigenvectors[idxs]\n",
    "        self.inverse_eigenvecs = np.linalg.inv(self.eigenvecs)\n",
    "\n",
    "    \n",
    "lda = LDA()\n",
    "lda.fit(X,y)\n",
    "X_trans = np.dot(X, lda.eigenvecs.T)\n",
    "\n",
    "fig, (ax) = plt.subplots(1, figsize=(5, 5), gridspec_kw={'hspace': 0.40})\n",
    "ax.scatter(X_trans[:, 0], X_trans[:, 1], c=y)\n",
    "plt.show()\n",
    "\n",
    "X_recovered = np.dot(X_trans, lda.inverse_eigenvecs)\n"
   ]
  },
  {
   "cell_type": "code",
   "execution_count": 56,
   "id": "a4ef40dc",
   "metadata": {},
   "outputs": [
    {
     "data": {
      "text/plain": [
       "array([[ 1.43396390e+00,  1.59768813e+00,  8.83407840e-01,\n",
       "         9.51714845e-01,  2.17524233e-01,  7.28450985e-01,\n",
       "         5.48092431e-01,  3.81055812e-01,  8.23935736e-01,\n",
       "         1.15241978e+00,  5.46630710e-01,  1.23414657e+00,\n",
       "         1.17590356e+00,  1.34896269e+00,  1.15586679e+00,\n",
       "         1.47505330e+00,  1.02436802e+00,  1.19629848e+00,\n",
       "         1.52893256e+00,  9.16112053e-01],\n",
       "       [ 8.88274249e-01,  1.02852939e+00,  9.33583729e-01,\n",
       "         1.56389225e+00,  1.04678508e+00,  1.32483265e+00,\n",
       "         4.93866106e-01,  1.03667327e+00,  8.63021308e-01,\n",
       "         8.07562142e-01,  4.94317298e-01,  1.31233862e+00,\n",
       "         9.96959395e-01,  7.59970343e-01,  9.00485467e-01,\n",
       "         9.69651329e-01,  1.23060676e+00,  6.17466840e-01,\n",
       "         1.01413110e+00,  1.14934802e+00],\n",
       "       [ 1.20636532e+00,  7.22469012e-01,  7.83981715e-01,\n",
       "         1.18293075e+00,  5.35171683e-01,  1.11169693e+00,\n",
       "         1.33530599e+00,  1.26641045e+00,  1.43057809e+00,\n",
       "         4.34135605e-01,  1.33101486e+00,  9.02493788e-01,\n",
       "         1.23087405e+00,  3.27198288e-01,  1.48361886e+00,\n",
       "         2.08379336e+00,  1.71693564e+00,  1.67619529e+00,\n",
       "         1.18417950e+00,  9.31374355e-01],\n",
       "       [ 1.00868809e+00,  4.80283879e-01,  9.20804773e-01,\n",
       "         1.49280066e+00,  4.38898096e-01,  1.49321346e+00,\n",
       "        -2.30916743e-05,  1.20235583e+00,  1.65548629e+00,\n",
       "         7.26292349e-01,  9.41934927e-01,  6.24423863e-01,\n",
       "         1.45818835e+00,  9.12071960e-01,  1.52897791e+00,\n",
       "         2.60343205e-01,  9.19551047e-01,  1.32086214e+00,\n",
       "         1.67000464e+00,  5.22170280e-01],\n",
       "       [ 6.96010475e-01,  1.21838642e+00,  1.00033448e+00,\n",
       "         9.36898090e-01,  2.06793972e+00,  1.55495248e+00,\n",
       "         1.22936356e+00,  6.88147330e-01,  1.45680212e+00,\n",
       "         1.52633174e+00,  5.56485496e-01,  9.79341090e-01,\n",
       "         9.91547104e-01,  9.33134957e-01,  1.49198368e+00,\n",
       "         1.21607912e+00,  3.75334177e-01,  8.51914122e-01,\n",
       "         1.04935322e+00,  7.54683027e-01],\n",
       "       [ 1.72315118e-01,  2.02948010e-02,  1.26498831e+00,\n",
       "         1.08160879e+00,  1.56994738e+00,  1.74406998e+00,\n",
       "         1.42413402e+00,  1.39902741e+00,  1.81448549e+00,\n",
       "        -1.05929455e+00,  8.73723464e-01,  4.89934708e-01,\n",
       "         8.92932715e-01,  7.87421726e-01,  2.30072922e+00,\n",
       "         2.23320242e+00,  2.61035183e+00,  2.38236608e+00,\n",
       "         7.24459565e-01,  3.83016920e+00],\n",
       "       [-3.58292797e-01,  3.28750621e+00, -6.61633043e-01,\n",
       "         1.09743041e+00,  1.03775605e-02,  9.48745843e-01,\n",
       "         1.67235378e+00,  1.78179029e+00,  2.86972834e-01,\n",
       "        -4.23252514e-01,  1.71990611e+00, -1.44752351e+00,\n",
       "         7.98628739e-01,  1.92454244e+00,  1.49017043e+00,\n",
       "         3.05147618e-01,  1.43228950e+00,  3.27402800e+00,\n",
       "         1.58831044e+00,  9.66289383e-01],\n",
       "       [ 8.43026000e-01, -3.41507712e-01, -2.68113710e-01,\n",
       "         9.34045626e-01,  1.68945075e-01,  5.44870414e-01,\n",
       "         2.50533782e+00,  1.83332914e+00,  7.20788073e-01,\n",
       "         1.41001859e+00, -7.43101321e-01,  1.68815902e-01,\n",
       "        -5.08369684e-01,  8.04544914e-01,  2.04246696e-01,\n",
       "         1.31769411e+00,  1.53936281e+00, -1.48018329e+00,\n",
       "        -3.35993167e-01, -9.35507102e-01],\n",
       "       [ 3.69337889e-01,  8.91399273e-01,  7.59933165e-01,\n",
       "        -5.24369308e-02,  1.17650373e+00,  9.63833599e-01,\n",
       "         4.24630326e-01,  1.58261914e+00,  1.29264982e+00,\n",
       "         3.93036360e-01,  1.69437066e+00,  3.86769776e-01,\n",
       "         2.01850693e-01,  8.69326289e-01,  1.19044215e+00,\n",
       "        -9.68818655e-02,  7.60608794e-01,  2.13364179e+00,\n",
       "        -1.02253335e+00,  4.56826753e-01],\n",
       "       [ 1.44122515e+00, -9.82440495e-02, -1.76333004e-01,\n",
       "        -4.21863926e-01,  1.80625261e+00, -5.95845519e-01,\n",
       "         1.81860792e+00, -1.31473854e+00,  1.83321166e+00,\n",
       "         1.05972064e+00, -4.34587341e-01, -3.50167228e-01,\n",
       "         1.98237772e+00,  3.10650488e+00,  1.13030930e+00,\n",
       "         1.41015643e+00,  1.35486513e+00,  1.79998820e+00,\n",
       "         2.51652684e+00,  4.78755409e-01]])"
      ]
     },
     "execution_count": 56,
     "metadata": {},
     "output_type": "execute_result"
    }
   ],
   "source": [
    "X"
   ]
  },
  {
   "cell_type": "code",
   "execution_count": 64,
   "id": "5d1a4851",
   "metadata": {},
   "outputs": [
    {
     "data": {
      "text/plain": [
       "0j"
      ]
     },
     "execution_count": 64,
     "metadata": {},
     "output_type": "execute_result"
    }
   ],
   "source": [
    "X_recovered = np.dot(X_trans, lda.inverse_eigenvecs.T)\n",
    "np.round(X_recovered - X, 6).sum()"
   ]
  },
  {
   "cell_type": "code",
   "execution_count": null,
   "id": "41fbed60",
   "metadata": {},
   "outputs": [],
   "source": []
  }
 ],
 "metadata": {
  "kernelspec": {
   "display_name": "measureLM_venv",
   "language": "python",
   "name": "measurelm_venv"
  },
  "language_info": {
   "codemirror_mode": {
    "name": "ipython",
    "version": 3
   },
   "file_extension": ".py",
   "mimetype": "text/x-python",
   "name": "python",
   "nbconvert_exporter": "python",
   "pygments_lexer": "ipython3",
   "version": "3.9.13"
  }
 },
 "nbformat": 4,
 "nbformat_minor": 5
}
