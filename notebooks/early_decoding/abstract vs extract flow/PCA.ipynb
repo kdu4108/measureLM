{
 "cells": [
  {
   "cell_type": "markdown",
   "id": "218763c6",
   "metadata": {},
   "source": [
    "# Abstractive versus Extractive"
   ]
  },
  {
   "cell_type": "code",
   "execution_count": 5,
   "id": "355ab0b1",
   "metadata": {},
   "outputs": [],
   "source": [
    "import torch, transformer_lens, itertools\n",
    "from measureLM import visualizing, decoding, patching, scoring\n",
    "from functools import partial\n",
    "from transformer_lens.hook_points import (\n",
    "    HookedRootModule,\n",
    "    HookPoint,\n",
    ")  "
   ]
  },
  {
   "cell_type": "code",
   "execution_count": 6,
   "id": "39c41154",
   "metadata": {},
   "outputs": [
    {
     "name": "stderr",
     "output_type": "stream",
     "text": [
      "Using pad_token, but it is not set yet.\n"
     ]
    },
    {
     "name": "stdout",
     "output_type": "stream",
     "text": [
      "Loaded pretrained model gpt2-medium into HookedTransformer\n",
      "Moving model to device:  cpu\n"
     ]
    }
   ],
   "source": [
    "model = transformer_lens.HookedTransformer.from_pretrained(\"gpt2-medium\").to(\"cpu\")\n",
    "model.cfg.spacing = \"Ġ\"\n",
    "model.tokenizer.pad_token = model.tokenizer.eos_token"
   ]
  },
  {
   "cell_type": "code",
   "execution_count": 7,
   "id": "a4df9a1c",
   "metadata": {},
   "outputs": [],
   "source": [
    "## encoding\n",
    "token_candidates = [\"Paris\", \"France\", \"Poland\", \"Warsaw\"]\n",
    "prompts = [(\"Q: What is the capital of France? A: Paris Q: What is the capital of Poland? A:\",\n",
    "            'Q: What is the capital of Poland? Options: \"A\" Berlin, \"B\" Warsaw, \"C\" Paris A:'),\n",
    "           (\"Q: What is the relationship between Joe Biden and Donald Trump? A:\",\n",
    "            'Joe Biden and Donald Trump are enemies. Q: What is the relationship between Joe Biden and Donald Trump? A:'),\n",
    "           (\"Q: When was Trump born? A: 1946 Q: When was Barrack Obama born? A:\",\n",
    "            'Trump was born in 1946. Barrack Obama was born in 1961. Q: When was Barrack Obama born? A:'),\n",
    "           (\"The opposite of good is bad. The opposite of dark is\",\n",
    "            'Good-bad, dark-light. The opposite of good is bad. The opposite of dark is'),\n",
    "           (\"The second-largest country by area is Canada. What is the largest country by area?\",\n",
    "            'Russia is the largest country by area. What is the largest country by area?')\n",
    "          ]\n",
    "\n",
    "example = 2\n",
    "logits_0, activs_0, tokens_0 = decoding.encode(prompts[example][0], model)\n",
    "logits_1, activs_1, tokens_1 = decoding.encode(prompts[example][1], model)"
   ]
  },
  {
   "cell_type": "code",
   "execution_count": 11,
   "id": "e696e442",
   "metadata": {},
   "outputs": [
    {
     "data": {
      "text/plain": [
       "(10, 1024)"
      ]
     },
     "execution_count": 11,
     "metadata": {},
     "output_type": "execute_result"
    }
   ],
   "source": [
    "data = list()\n",
    "layer = 5\n",
    "\n",
    "for example in range(0,len(prompts)):\n",
    "    logits_0, activs_0, tokens_0 = decoding.encode(prompts[example][0], model)\n",
    "    logits_1, activs_1, tokens_1 = decoding.encode(prompts[example][1], model)\n",
    "\n",
    "    x_0 = activs_0[f\"blocks.{layer}.hook_mlp_out\"][...,-1,:]\n",
    "    x_1 = activs_1[f\"blocks.{layer}.hook_mlp_out\"][...,-1,:]\n",
    "    \n",
    "    x_01 = (x_0 + x_1) / 2\n",
    "    x_0 = x_0 - x_01\n",
    "    x_1 = x_1 - x_01\n",
    "    \n",
    "    \n",
    "    data.append(x_0)\n",
    "    data.append(x_1)\n",
    "    \n",
    "x = torch.stack(data).squeeze().numpy()\n",
    "x.shape"
   ]
  },
  {
   "cell_type": "code",
   "execution_count": 12,
   "id": "a238f741",
   "metadata": {},
   "outputs": [
    {
     "data": {
      "image/png": "[encoded data removed]",
      "text/plain": [
       "<Figure size 640x480 with 1 Axes>"
      ]
     },
     "metadata": {},
     "output_type": "display_data"
    }
   ],
   "source": [
    "from sklearn.preprocessing import StandardScaler\n",
    "from sklearn.pipeline import Pipeline\n",
    "from sklearn.decomposition import PCA\n",
    "import matplotlib.pyplot as plt\n",
    "import matplotlib.cm as cm\n",
    "import numpy as np\n",
    "\n",
    "\n",
    "colors = [\"red\", \"blue\"]*int(x.shape[0] / 2)\n",
    "\n",
    "pca = PCA()\n",
    "pipe = Pipeline([('scaler', StandardScaler()), ('pca', pca)])\n",
    "Xt = pipe.fit_transform(x)\n",
    "plot = plt.scatter(Xt[:,0], Xt[:,1], c=colors)\n",
    "plt.show()"
   ]
  },
  {
   "cell_type": "code",
   "execution_count": null,
   "id": "ba91771b",
   "metadata": {},
   "outputs": [],
   "source": []
  },
  {
   "cell_type": "code",
   "execution_count": null,
   "id": "58dadbb5",
   "metadata": {},
   "outputs": [],
   "source": []
  }
 ],
 "metadata": {
  "kernelspec": {
   "display_name": "measureLM_venv",
   "language": "python",
   "name": "measurelm_venv"
  },
  "language_info": {
   "codemirror_mode": {
    "name": "ipython",
    "version": 3
   },
   "file_extension": ".py",
   "mimetype": "text/x-python",
   "name": "python",
   "nbconvert_exporter": "python",
   "pygments_lexer": "ipython3",
   "version": "3.9.13"
  }
 },
 "nbformat": 4,
 "nbformat_minor": 5
}
