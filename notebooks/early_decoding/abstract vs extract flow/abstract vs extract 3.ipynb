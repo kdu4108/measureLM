{
 "cells": [
  {
   "cell_type": "markdown",
   "id": "218763c6",
   "metadata": {},
   "source": [
    "# Abstractive versus Extractive"
   ]
  },
  {
   "cell_type": "code",
   "execution_count": 1,
   "id": "355ab0b1",
   "metadata": {},
   "outputs": [],
   "source": [
    "import torch, transformer_lens, itertools\n",
    "from measureLM import visualizing, decoding, patching, scoring\n",
    "from functools import partial\n",
    "from transformer_lens.hook_points import (\n",
    "    HookedRootModule,\n",
    "    HookPoint,\n",
    ")  "
   ]
  },
  {
   "cell_type": "code",
   "execution_count": 2,
   "id": "39c41154",
   "metadata": {},
   "outputs": [
    {
     "name": "stderr",
     "output_type": "stream",
     "text": [
      "Using pad_token, but it is not set yet.\n"
     ]
    },
    {
     "name": "stdout",
     "output_type": "stream",
     "text": [
      "Loaded pretrained model gpt2-medium into HookedTransformer\n",
      "Moving model to device:  cpu\n"
     ]
    }
   ],
   "source": [
    "model = transformer_lens.HookedTransformer.from_pretrained(\"gpt2-medium\").to(\"cpu\")\n",
    "model.cfg.spacing = \"Ġ\"\n",
    "model.tokenizer.pad_token = model.tokenizer.eos_token"
   ]
  },
  {
   "cell_type": "code",
   "execution_count": 39,
   "id": "a4df9a1c",
   "metadata": {},
   "outputs": [
    {
     "name": "stdout",
     "output_type": "stream",
     "text": [
      "['ĠHe', 'ĠIn', 'ĠOn', 'ĠThe', 'ĠBarr', 'ĠMarch', 'ĠJanuary', 'ĠAt', 'ĠWhen', 'ĠFebruary'] 11\n"
     ]
    }
   ],
   "source": [
    "## encoding\n",
    "token_candidates = [\"Paris\", \"France\", \"Poland\", \"Warsaw\"]\n",
    "prompts = [(\"Q: What is the capital of France? A: Paris Q: What is the capital of Poland? A:\",\n",
    "            'Q: What is the capital of Poland? Options: \"A\" Berlin, \"B\" Warsaw, \"C\" Paris A:'),\n",
    "           (\"Q: What is the relationship between Joe Biden and Donald Trump? A:\",\n",
    "            'Joe Biden and Donald Trump are enemies. Q: What is the relationship between Joe Biden and Donald Trump? A:'),\n",
    "           (\"Q: When was Barrack Obama born? A:\",\n",
    "            'Trump was born in 1946. Barrack Obama was born in 1961. Q: When was Barrack Obama born? A:')]\n",
    "\n",
    "example = 2\n",
    "i = 0\n",
    "logits, activs, tokens = decoding.encode(prompts[example][i], model)\n",
    "pred = model.tokenizer.convert_ids_to_tokens(torch.topk(logits[:,-1,:], k=10).indices.tolist()[0])\n",
    "print(pred, (len(tokens[0])))"
   ]
  },
  {
   "cell_type": "code",
   "execution_count": 40,
   "id": "b8e4c9e1",
   "metadata": {},
   "outputs": [],
   "source": [
    "def token_select(layer_token_vec, tok_type=\"last\"):\n",
    "    if tok_type == \"last\":\n",
    "        layer_token_vec = layer_token_vec[...,-1].squeeze().detach()\n",
    "    if tok_type == \"mean\":\n",
    "        layer_token_vec = layer_token_vec.mean(-1).squeeze().detach()\n",
    "    return layer_token_vec"
   ]
  },
  {
   "cell_type": "code",
   "execution_count": 1,
   "id": "03e19f80",
   "metadata": {},
   "outputs": [
    {
     "ename": "NameError",
     "evalue": "name 'model' is not defined",
     "output_type": "error",
     "traceback": [
      "\u001b[0;31m---------------------------------------------------------------------------\u001b[0m",
      "\u001b[0;31mNameError\u001b[0m                                 Traceback (most recent call last)",
      "Cell \u001b[0;32mIn[1], line 29\u001b[0m\n\u001b[1;32m     25\u001b[0m     \u001b[38;5;28;01mreturn\u001b[39;00m mod_layer_norms\n\u001b[1;32m     28\u001b[0m mods_pairs\u001b[38;5;241m=\u001b[39m[(\u001b[38;5;124m\"\u001b[39m\u001b[38;5;124mattn_out\u001b[39m\u001b[38;5;124m\"\u001b[39m,\u001b[38;5;124m\"\u001b[39m\u001b[38;5;124mmlp_out\u001b[39m\u001b[38;5;124m\"\u001b[39m)]\n\u001b[0;32m---> 29\u001b[0m mod_layer_dist \u001b[38;5;241m=\u001b[39m get_distance(\u001b[43mmodel\u001b[49m, activs, mods_pairs\u001b[38;5;241m=\u001b[39mmods_pairs, norm\u001b[38;5;241m=\u001b[39m\u001b[38;5;28;01mTrue\u001b[39;00m, tok_type\u001b[38;5;241m=\u001b[39m\u001b[38;5;124m\"\u001b[39m\u001b[38;5;124mlast\u001b[39m\u001b[38;5;124m\"\u001b[39m)\n\u001b[1;32m     30\u001b[0m mod_layer_dist\n",
      "\u001b[0;31mNameError\u001b[0m: name 'model' is not defined"
     ]
    }
   ],
   "source": [
    "def get_distance(model, activs, mods_pairs=[(\"attn_out\",\"resid_mid\"), (\"mlp_out\",\"resid_post\")], norm=True, tok_type=\"last\"):    \n",
    "    \n",
    "    mod_layer_norms = {}\n",
    "    pdist = torch.nn.PairwiseDistance(p=2)\n",
    "    cos_sim = torch.nn.CosineSimilarity(dim=-1, eps=1e-6)\n",
    "    \n",
    "    for mods_pair in mods_pairs:\n",
    "        layer_norms = []\n",
    "        for layer in range(0,model.cfg.n_layers):\n",
    "            mod_name_0 = transformer_lens.utils.get_act_name(mods_pair[0], layer)\n",
    "            mod_activs_0 = activs[mod_name_0]\n",
    "            mod_name_1 = transformer_lens.utils.get_act_name(mods_pair[1], layer)\n",
    "            mod_activs_1 = activs[mod_name_1]\n",
    "            \n",
    "            if norm:\n",
    "                mod_activs_0 = torch.nn.functional.normalize(mod_activs_0, p=2.0, dim=-1)\n",
    "                mod_activs_1 = torch.nn.functional.normalize(mod_activs_1, p=2.0, dim=-1)\n",
    "\n",
    "            activs_dist = pdist(mod_activs_0, mod_activs_1)\n",
    "            #activs_dist = 1-cos_sim(mod_activs_0, mod_activs_1)\n",
    "            activs_dist = token_select(activs_dist, tok_type=tok_type)\n",
    "\n",
    "            layer_norms.append(activs_dist)\n",
    "        mod_layer_norms[f\"{mods_pair[0]}/{mods_pair[1]}\"] = torch.stack(layer_norms).squeeze().numpy()\n",
    "    return mod_layer_norms\n",
    "    \n",
    "    \n",
    "mods_pairs=[(\"attn_out\",\"mlp_out\")]\n",
    "mod_layer_dist = get_distance(model, activs, mods_pairs=mods_pairs, norm=True, tok_type=\"last\")\n",
    "mod_layer_dist"
   ]
  },
  {
   "cell_type": "code",
   "execution_count": 43,
   "id": "b50fc71d",
   "metadata": {
    "scrolled": true
   },
   "outputs": [
    {
     "data": {
      "text/plain": [
       "{'attn_out/mlp_out': 31.674995}"
      ]
     },
     "execution_count": 43,
     "metadata": {},
     "output_type": "execute_result"
    },
    {
     "data": {
      "image/png": "[encoded data removed]",
      "text/plain": [
       "<Figure size 600x200 with 1 Axes>"
      ]
     },
     "metadata": {},
     "output_type": "display_data"
    }
   ],
   "source": [
    "import numpy as np\n",
    "import matplotlib\n",
    "import matplotlib.pyplot as plt\n",
    "from measureLM import helpers\n",
    "\n",
    "matplotlib.rcParams['axes.spines.right'] = False\n",
    "matplotlib.rcParams['axes.spines.top'] = False\n",
    "\n",
    "\n",
    "fig, ax = plt.subplots(1, 1, figsize=(6, 2), gridspec_kw={'hspace': 0.4})\n",
    "\n",
    "mods = list(mod_layer_dist.keys())\n",
    "layers = np.array(list(range(0,model.cfg.n_layers)))\n",
    "\n",
    "for mod in mods:\n",
    "    lines = ax.plot(layers, mod_layer_dist[mod], marker=\".\", label=mod)\n",
    "\n",
    "ax.set_title(prompts[example][i], fontsize=10, color=\"black\", loc='center')\n",
    "ax.legend(frameon=False)\n",
    "\n",
    "\n",
    "{k: v.sum() for k,v in mod_layer_dist.items()}"
   ]
  },
  {
   "cell_type": "code",
   "execution_count": null,
   "id": "e696e442",
   "metadata": {},
   "outputs": [],
   "source": []
  },
  {
   "cell_type": "code",
   "execution_count": null,
   "id": "a238f741",
   "metadata": {},
   "outputs": [],
   "source": []
  }
 ],
 "metadata": {
  "kernelspec": {
   "display_name": "measureLM_venv",
   "language": "python",
   "name": "measurelm_venv"
  },
  "language_info": {
   "codemirror_mode": {
    "name": "ipython",
    "version": 3
   },
   "file_extension": ".py",
   "mimetype": "text/x-python",
   "name": "python",
   "nbconvert_exporter": "python",
   "pygments_lexer": "ipython3",
   "version": "3.9.13"
  }
 },
 "nbformat": 4,
 "nbformat_minor": 5
}
