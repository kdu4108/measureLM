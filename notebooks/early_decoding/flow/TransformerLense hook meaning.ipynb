{
 "cells": [
  {
   "cell_type": "markdown",
   "id": "218763c6",
   "metadata": {},
   "source": [
    "# Hook Meanings\n",
    "\n",
    "https://www.lesswrong.com/posts/qxvihKpFMuc4tvuf4/recall-and-regurgitation-in-gpt2"
   ]
  },
  {
   "cell_type": "code",
   "execution_count": 1,
   "id": "355ab0b1",
   "metadata": {},
   "outputs": [],
   "source": [
    "import torch, transformer_lens, itertools, torchvision\n",
    "from measureLM import visualizing, decoding, patching, scoring\n",
    "from functools import partial\n",
    "from transformer_lens.hook_points import (\n",
    "    HookedRootModule,\n",
    "    HookPoint,\n",
    ")  "
   ]
  },
  {
   "cell_type": "code",
   "execution_count": 2,
   "id": "39c41154",
   "metadata": {},
   "outputs": [
    {
     "name": "stderr",
     "output_type": "stream",
     "text": [
      "Using pad_token, but it is not set yet.\n"
     ]
    },
    {
     "name": "stdout",
     "output_type": "stream",
     "text": [
      "Loaded pretrained model gpt2-medium into HookedTransformer\n",
      "Moving model to device:  cpu\n"
     ]
    }
   ],
   "source": [
    "model = transformer_lens.HookedTransformer.from_pretrained(\"gpt2-medium\").to(\"cpu\")\n",
    "model.cfg.spacing = \"Ġ\"\n",
    "model.tokenizer.pad_token = model.tokenizer.eos_token"
   ]
  },
  {
   "cell_type": "code",
   "execution_count": 3,
   "id": "a4df9a1c",
   "metadata": {},
   "outputs": [
    {
     "name": "stdout",
     "output_type": "stream",
     "text": [
      "['ĠWarsaw', 'ĠPoland', 'ĠW', 'ĠParis', 'ĠK', 'ĠPrague', 'ĠPo', 'ĠP', 'ĠB', 'ĠL'] 23\n"
     ]
    }
   ],
   "source": [
    "## encoding\n",
    "token_candidates = [\"Paris\", \"France\", \"Poland\", \"Warsaw\"]\n",
    "prompts = [(\"Q: What is the capital of France? A: Paris Q: What is the capital of Poland? A:\",\n",
    "            'Q: What is the capital of Poland? Options: \"A\" Berlin, \"B\" Warsaw, \"C\" Paris A:'),\n",
    "           (\"Q: What is the relationship between Joe Biden and Donald Trump? A:\",\n",
    "            'Joe Biden and Donald Trump are enemies. Q: What is the relationship between Joe Biden and Donald Trump? A:'),\n",
    "           (\"Q: When was Barrack Obama born? A:\",\n",
    "            'Trump was born in 1946. Barrack Obama was born in 1961. Q: When was Barrack Obama born? A:')]\n",
    "\n",
    "example = 0\n",
    "i = 0\n",
    "logits, activs, tokens = decoding.encode(prompts[example][i], model)\n",
    "pred = model.tokenizer.convert_ids_to_tokens(torch.topk(logits[:,-1,:], k=10).indices.tolist()[0])\n",
    "print(pred, (len(tokens[0])))"
   ]
  },
  {
   "cell_type": "code",
   "execution_count": 66,
   "id": "b8e4c9e1",
   "metadata": {},
   "outputs": [],
   "source": [
    "def token_select(layer_token_vec, tok_type=\"last\"):\n",
    "    if tok_type == \"last\":\n",
    "        layer_token_vec = layer_token_vec[...,-1].squeeze().detach()\n",
    "    if tok_type == \"mean\":\n",
    "        layer_token_vec = layer_token_vec.mean(-1).squeeze().detach()\n",
    "    return layer_token_vec\n",
    "\n",
    "\n",
    "def layer_norm(layer_token_vec):\n",
    "\n",
    "    mean = torch.mean(layer_token_vec, dim=-1).unsqueeze(-1).repeat(1,1,layer_token_vec.shape[-1])\n",
    "    std = torch.std(layer_token_vec, dim=-1).unsqueeze(-1).repeat(1,1,layer_token_vec.shape[-1])\n",
    "    \n",
    "    layer_token_vec_normed = (layer_token_vec - mean) / std\n",
    "    return layer_token_vec_normed, mean, std"
   ]
  },
  {
   "cell_type": "code",
   "execution_count": 22,
   "id": "bc683760",
   "metadata": {},
   "outputs": [
    {
     "data": {
      "text/plain": [
       "['hook_embed',\n",
       " 'hook_pos_embed',\n",
       " 'blocks.0.hook_resid_pre',\n",
       " 'blocks.0.ln1.hook_scale',\n",
       " 'blocks.0.ln1.hook_normalized',\n",
       " 'blocks.0.attn.hook_q',\n",
       " 'blocks.0.attn.hook_k',\n",
       " 'blocks.0.attn.hook_v',\n",
       " 'blocks.0.attn.hook_attn_scores',\n",
       " 'blocks.0.attn.hook_pattern',\n",
       " 'blocks.0.attn.hook_z',\n",
       " 'blocks.0.hook_attn_out',\n",
       " 'blocks.0.hook_resid_mid',\n",
       " 'blocks.0.ln2.hook_scale',\n",
       " 'blocks.0.ln2.hook_normalized',\n",
       " 'blocks.0.mlp.hook_pre',\n",
       " 'blocks.0.mlp.hook_post',\n",
       " 'blocks.0.hook_mlp_out',\n",
       " 'blocks.0.hook_resid_post']"
      ]
     },
     "execution_count": 22,
     "metadata": {},
     "output_type": "execute_result"
    }
   ],
   "source": [
    "list(activs)[:19]"
   ]
  },
  {
   "cell_type": "markdown",
   "id": "a126cf8b",
   "metadata": {},
   "source": [
    "## LayerNorm"
   ]
  },
  {
   "cell_type": "code",
   "execution_count": 29,
   "id": "f7e87700",
   "metadata": {},
   "outputs": [
    {
     "data": {
      "text/plain": [
       "tensor([[[-0.5929, -0.5020, -0.4043,  ...,  0.4311, -1.1121, -0.0822],\n",
       "         [ 0.4339, -0.3292, -0.2374,  ...,  0.2788, -0.4852,  0.0150],\n",
       "         [-0.9933, -0.0774,  0.2924,  ..., -0.3123,  0.2428, -0.1188],\n",
       "         ...,\n",
       "         [-0.0603, -0.6091, -0.0616,  ..., -0.3783, -0.1042,  0.0017],\n",
       "         [-0.9920, -0.7807, -0.9680,  ...,  0.6503,  0.2500, -0.3483],\n",
       "         [ 0.1450, -0.2279, -0.3149,  ...,  0.1350, -0.6963,  0.0270]]])"
      ]
     },
     "execution_count": 29,
     "metadata": {},
     "output_type": "execute_result"
    }
   ],
   "source": [
    "\n",
    "#activs[\"blocks.0.ln2.hook_scale\"]\n",
    "activs[\"blocks.0.ln1.hook_normalized\"]"
   ]
  },
  {
   "cell_type": "code",
   "execution_count": 30,
   "id": "e157b400",
   "metadata": {},
   "outputs": [
    {
     "data": {
      "text/plain": [
       "tensor([[[-0.5927, -0.5018, -0.4041,  ...,  0.4309, -1.1117, -0.0822],\n",
       "         [ 0.4339, -0.3292, -0.2374,  ...,  0.2787, -0.4852,  0.0150],\n",
       "         [-0.9932, -0.0774,  0.2924,  ..., -0.3123,  0.2428, -0.1188],\n",
       "         ...,\n",
       "         [-0.0603, -0.6092, -0.0617,  ..., -0.3784, -0.1042,  0.0017],\n",
       "         [-0.9922, -0.7809, -0.9682,  ...,  0.6505,  0.2501, -0.3484],\n",
       "         [ 0.1451, -0.2280, -0.3150,  ...,  0.1350, -0.6965,  0.0270]]])"
      ]
     },
     "execution_count": 30,
     "metadata": {},
     "output_type": "execute_result"
    }
   ],
   "source": [
    "norm, mean, std = layer_norm(activs[\"blocks.0.hook_resid_pre\"]) #std[0,:,0]\n",
    "norm"
   ]
  },
  {
   "cell_type": "markdown",
   "id": "1c2b3ae1",
   "metadata": {},
   "source": [
    "## MLP Out"
   ]
  },
  {
   "cell_type": "code",
   "execution_count": 51,
   "id": "4fabbad0",
   "metadata": {},
   "outputs": [
    {
     "data": {
      "text/plain": [
       "tensor([[[ 5.9129,  3.8089,  5.7358,  ...,  4.1576,  4.2645,  3.3083],\n",
       "         [ 5.1118, -1.3723,  3.2000,  ...,  2.2238,  1.6303,  0.7182],\n",
       "         [ 2.0944, -0.0644,  0.6919,  ..., -2.8870,  1.4337,  5.2877],\n",
       "         ...,\n",
       "         [-2.4473, -4.1174, -0.6573,  ..., -0.9985,  1.6291, -1.4805],\n",
       "         [-0.7714,  1.9903,  0.0090,  ..., -3.2068, -1.8586,  1.2165],\n",
       "         [-1.8430,  0.8577, -2.4709,  ...,  0.3093, -1.3889,  0.9787]]])"
      ]
     },
     "execution_count": 51,
     "metadata": {},
     "output_type": "execute_result"
    }
   ],
   "source": [
    "activs[\"blocks.10.hook_resid_mid\"] + activs[\"blocks.10.hook_mlp_out\"]"
   ]
  },
  {
   "cell_type": "code",
   "execution_count": 52,
   "id": "90ebc83c",
   "metadata": {},
   "outputs": [
    {
     "data": {
      "text/plain": [
       "tensor([[[ 5.9129,  3.8089,  5.7358,  ...,  4.1576,  4.2645,  3.3083],\n",
       "         [ 5.1118, -1.3723,  3.2000,  ...,  2.2238,  1.6303,  0.7182],\n",
       "         [ 2.0944, -0.0644,  0.6919,  ..., -2.8870,  1.4337,  5.2877],\n",
       "         ...,\n",
       "         [-2.4473, -4.1174, -0.6573,  ..., -0.9985,  1.6291, -1.4805],\n",
       "         [-0.7714,  1.9903,  0.0090,  ..., -3.2068, -1.8586,  1.2165],\n",
       "         [-1.8430,  0.8577, -2.4709,  ...,  0.3093, -1.3889,  0.9787]]])"
      ]
     },
     "execution_count": 52,
     "metadata": {},
     "output_type": "execute_result"
    }
   ],
   "source": [
    "activs[\"blocks.10.hook_resid_post\"]"
   ]
  },
  {
   "cell_type": "markdown",
   "id": "1ee18e05",
   "metadata": {},
   "source": [
    "## Attention Out"
   ]
  },
  {
   "cell_type": "code",
   "execution_count": 55,
   "id": "c30c9561",
   "metadata": {},
   "outputs": [
    {
     "data": {
      "text/plain": [
       "tensor([[[-0.0665, -0.1217, -0.0888,  ...,  0.1090, -0.2056, -0.0248],\n",
       "         [ 0.1138, -0.0925,  0.0099,  ...,  0.0375, -0.0260, -0.0638],\n",
       "         [-0.1199, -0.0107,  0.0446,  ..., -0.0299,  0.0280, -0.0639],\n",
       "         ...,\n",
       "         [-0.0193, -0.0516,  0.0047,  ..., -0.0421,  0.0252, -0.0206],\n",
       "         [-0.0927, -0.0927, -0.0923,  ...,  0.0375,  0.0523, -0.0443],\n",
       "         [ 0.0240, -0.0615,  0.0131,  ..., -0.0141, -0.0076, -0.0423]]])"
      ]
     },
     "execution_count": 55,
     "metadata": {},
     "output_type": "execute_result"
    }
   ],
   "source": [
    "activs[\"blocks.0.hook_resid_pre\"] + activs[\"blocks.0.hook_attn_out\"]"
   ]
  },
  {
   "cell_type": "code",
   "execution_count": 56,
   "id": "db0da353",
   "metadata": {},
   "outputs": [
    {
     "data": {
      "text/plain": [
       "tensor([[[-0.0665, -0.1217, -0.0888,  ...,  0.1090, -0.2056, -0.0248],\n",
       "         [ 0.1138, -0.0925,  0.0099,  ...,  0.0375, -0.0260, -0.0638],\n",
       "         [-0.1199, -0.0107,  0.0446,  ..., -0.0299,  0.0280, -0.0639],\n",
       "         ...,\n",
       "         [-0.0193, -0.0516,  0.0047,  ..., -0.0421,  0.0252, -0.0206],\n",
       "         [-0.0927, -0.0927, -0.0923,  ...,  0.0375,  0.0523, -0.0443],\n",
       "         [ 0.0240, -0.0615,  0.0131,  ..., -0.0141, -0.0076, -0.0423]]])"
      ]
     },
     "execution_count": 56,
     "metadata": {},
     "output_type": "execute_result"
    }
   ],
   "source": [
    "activs[\"blocks.0.hook_resid_mid\"]"
   ]
  },
  {
   "cell_type": "markdown",
   "id": "05fa0e85",
   "metadata": {},
   "source": [
    "## Norms"
   ]
  },
  {
   "cell_type": "code",
   "execution_count": 65,
   "id": "2042681c",
   "metadata": {},
   "outputs": [
    {
     "data": {
      "text/plain": [
       "tensor(12182.9014)"
      ]
     },
     "execution_count": 65,
     "metadata": {},
     "output_type": "execute_result"
    }
   ],
   "source": [
    "torch.linalg.norm(activs[\"blocks.20.hook_resid_pre\"],dim=-1).sum()"
   ]
  },
  {
   "cell_type": "code",
   "execution_count": 64,
   "id": "57118c27",
   "metadata": {},
   "outputs": [
    {
     "data": {
      "text/plain": [
       "tensor(599.4905)"
      ]
     },
     "execution_count": 64,
     "metadata": {},
     "output_type": "execute_result"
    }
   ],
   "source": [
    "torch.linalg.norm(activs[\"blocks.20.hook_attn_out\"],dim=-1).sum()"
   ]
  },
  {
   "cell_type": "code",
   "execution_count": 45,
   "id": "6dd46d36",
   "metadata": {},
   "outputs": [
    {
     "data": {
      "text/plain": [
       "tensor(735.9998)"
      ]
     },
     "execution_count": 45,
     "metadata": {},
     "output_type": "execute_result"
    }
   ],
   "source": [
    "torch.linalg.norm(activs[\"blocks.2.ln1.hook_normalized\"],dim=-1).sum()"
   ]
  },
  {
   "cell_type": "code",
   "execution_count": null,
   "id": "3420c43b",
   "metadata": {},
   "outputs": [],
   "source": []
  }
 ],
 "metadata": {
  "kernelspec": {
   "display_name": "measureLM_venv",
   "language": "python",
   "name": "measurelm_venv"
  },
  "language_info": {
   "codemirror_mode": {
    "name": "ipython",
    "version": 3
   },
   "file_extension": ".py",
   "mimetype": "text/x-python",
   "name": "python",
   "nbconvert_exporter": "python",
   "pygments_lexer": "ipython3",
   "version": "3.9.13"
  }
 },
 "nbformat": 4,
 "nbformat_minor": 5
}
