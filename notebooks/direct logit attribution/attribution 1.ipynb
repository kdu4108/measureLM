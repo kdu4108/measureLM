{
 "cells": [
  {
   "cell_type": "markdown",
   "id": "8ce2fcce",
   "metadata": {},
   "source": [
    "## Direct Logit Attribution\n",
    "\n",
    "https://colab.research.google.com/github/neelnanda-io/TransformerLens/blob/main/demos/Exploratory_Analysis_Demo.ipynb#scrollTo=3XtmNaDFO0eu"
   ]
  },
  {
   "cell_type": "code",
   "execution_count": 218,
   "id": "ffb7ac1c",
   "metadata": {},
   "outputs": [],
   "source": [
    "import torch, transformer_lens, itertools\n",
    "from functools import partial\n",
    "from measureLM import visualizing, decoding, patching, scoring\n",
    "\n",
    "from transformer_lens.hook_points import (\n",
    "    HookedRootModule,\n",
    "    HookPoint,\n",
    ")\n",
    "\n",
    "import matplotlib.pyplot as plt\n",
    "import matplotlib as mpl\n",
    "import seaborn as sns\n",
    "import numpy as np\n",
    "\n",
    "def plot_heatmap(array, title='', cmap=\"coolwarm\"):\n",
    "    titlefont, labelsize=12, 10\n",
    "    fig, ax = plt.subplots(1, 1, figsize=(2, 4), gridspec_kw={'hspace': 0.4})\n",
    "    ax = sns.heatmap(array, cmap=mpl.colormaps[cmap], xticklabels=hook_names, square=False)\n",
    "    ax.set_title(title, fontsize=titlefont, color=\"black\", loc='center')\n",
    "    ax.set_ylabel('layers', fontsize=labelsize)\n",
    "    plt.show()"
   ]
  },
  {
   "cell_type": "code",
   "execution_count": 2,
   "id": "d5c2959b",
   "metadata": {},
   "outputs": [
    {
     "name": "stderr",
     "output_type": "stream",
     "text": [
      "Using pad_token, but it is not set yet.\n"
     ]
    },
    {
     "name": "stdout",
     "output_type": "stream",
     "text": [
      "Loaded pretrained model gpt2-medium into HookedTransformer\n",
      "Moving model to device:  cpu\n"
     ]
    }
   ],
   "source": [
    "model = transformer_lens.HookedTransformer.from_pretrained(\"gpt2-medium\").to(\"cpu\")\n",
    "model.cfg.spacing = \"Ġ\"\n",
    "model.tokenizer.pad_token = model.tokenizer.eos_token"
   ]
  },
  {
   "cell_type": "code",
   "execution_count": 84,
   "id": "748ea605",
   "metadata": {},
   "outputs": [],
   "source": [
    "def early_decoding(activs, model, hook_name=\"mlp_out\", layer=-1):\n",
    "    h = activs[hook_name, layer]\n",
    "    scores = model.unembed(model.ln_final(h))[:, -1, :].squeeze()\n",
    "    return scores\n",
    "   \n",
    "\n",
    "def get_token_rank(scores, model, token):\n",
    "    assert \"spacing\" in dir(model.cfg), \"need to set e.g. model.cfg.spacing = Ġ\"\n",
    "    token = model.cfg.spacing + token\n",
    "    token_id = model.tokenizer.convert_tokens_to_ids(token)\n",
    "    token_ranks = torch.argsort(scores, descending=True)\n",
    "\n",
    "    token_scores = scores[token_ranks]\n",
    "    token_rank = torch.where(token_ranks == token_id)[0].item()\n",
    "    token_score = token_scores[token_rank]\n",
    "    token_rank = round(1 / (token_rank + 1), 4)  # round(1-(token_rank / len(scores)), 4)\n",
    "    return token_rank, token_score\n",
    "\n",
    "\n",
    "def topK_scores(scores, model, topk=5):\n",
    "    pred_scores, pred_tokens = [], []\n",
    "    topK_preds = torch.topk(scores, k=topk)\n",
    "\n",
    "    scores = topK_preds.values.tolist()\n",
    "    indices = topK_preds.indices.tolist()\n",
    "    # for scores, indices in zip(topK_preds.values.tolist(), topK_preds.indices.tolist()):\n",
    "    scores = list(map(lambda score: round(score, 2), scores))\n",
    "    pred_scores.append(scores)\n",
    "    tokens = list(map(lambda idx: model.tokenizer.convert_ids_to_tokens(idx), indices))\n",
    "    pred_tokens.append(tokens)\n",
    "    return pred_tokens, pred_scores"
   ]
  },
  {
   "cell_type": "markdown",
   "id": "c8da8b7b",
   "metadata": {},
   "source": [
    "## Direct Logit Attribution"
   ]
  },
  {
   "cell_type": "code",
   "execution_count": 252,
   "id": "2b601f6d",
   "metadata": {},
   "outputs": [
    {
     "data": {
      "text/plain": [
       "torch.Size([1, 1024])"
      ]
     },
     "execution_count": 252,
     "metadata": {},
     "output_type": "execute_result"
    }
   ],
   "source": [
    "def get_logit_diff_dirs(model, scales):\n",
    "    if isinstance(scales, str):\n",
    "        scales = [scales]\n",
    "    logit_diff_dir = torch.empty(len(scales), model.cfg.d_model)\n",
    "    for i, scale in enumerate(scales):\n",
    "        scale_ids = torch.tensor([model.tokenizer.convert_tokens_to_ids(model.cfg.spacing + token) for token in scale])\n",
    "        #unembed_vecs = model.tokens_to_residual_directions(scale_ids) # model.unembed.W_U\n",
    "        unembed_vecs = torch.index_select(model.unembed.W_U, dim=-1, index=scale_ids)\n",
    "        logit_diff_dir[i,:] = unembed_vecs[...,0] - unembed_vecs[...,1]\n",
    "    return logit_diff_dir\n",
    "    \n",
    "logit_diff_dir = get_logit_diff_dirs(model, scales=[[\"Poland\", \"Warsaw\"]]) #[\"hated\", \"loved\"] \n",
    "logit_diff_dir.shape"
   ]
  },
  {
   "cell_type": "code",
   "execution_count": 259,
   "id": "263ecf63",
   "metadata": {},
   "outputs": [
    {
     "data": {
      "text/plain": [
       "tensor([6.2954], grad_fn=<AbsBackward0>)"
      ]
     },
     "execution_count": 259,
     "metadata": {},
     "output_type": "execute_result"
    }
   ],
   "source": [
    "def residual_to_logit_diff(activs, logit_diff_dir, hook_name=\"resid_pre\", layer=-1):\n",
    "    h = activs[hook_name, layer]\n",
    "    h = model.ln_final(h)[:, -1, :]\n",
    "    #h = h[:, -1, :]\n",
    "    #h = activs.apply_ln_to_stack(h, layer = -1, pos_slice=-1)\n",
    "    logit_attr = torch.abs(torch.einsum('...nd,...sd->s', h, logit_diff_dir))\n",
    "    return logit_attr\n",
    "\n",
    "prompt = [\"Today I hate. Yesterday, I hated. Today I love. Yesterday, I\"]\n",
    "prompt = [\"Q: What is the capital of Germany? A: Berlin Q: What is the capital of Poland? A:\"]\n",
    "prompt = [\"Warsaw is the capital of Poland Q: What is the capital of Poland? A:\"]\n",
    "logits, activs = model.run_with_cache(prompt)\n",
    "logit_attr = residual_to_logit_diff(activs, logit_diff_dir)\n",
    "logit_attr"
   ]
  },
  {
   "cell_type": "code",
   "execution_count": 261,
   "id": "457818b5",
   "metadata": {},
   "outputs": [
    {
     "name": "stdout",
     "output_type": "stream",
     "text": [
      "0 attn_out [['imester', 'Ġbuildup', 'Ġconfirmed', 'oux', 'ĠXin']]\n",
      "0 mlp_out [['Ġ(', 'ĠThe', 'Ċ', 'Ġand', 'ĠA']]\n",
      "1 attn_out [['ĠTro', 'ĠEconomic', 'ĠMehran', 'ĠEconom', 'ĠProgress']]\n",
      "1 mlp_out [['ĠCrus', 'ĠCyr', 'ĠPyth', 'ĠOmn', 'ĠChimera']]\n",
      "2 attn_out [['agar', 'Ġanswer', 'SW', 'ĠQ', 'querque']]\n",
      "2 mlp_out [['services', 'performance', 'Ġpersonalized', 'ullivan', 'ÂłÂłÂłÂłÂłÂłÂłÂłÂłÂłÂłÂłÂłÂłÂłÂł']]\n",
      "3 attn_out [['ĠAnswer', 'answer', 'Answer', 'Ġanswer', 'Ġanswers']]\n",
      "3 mlp_out [['ĠCorona', 'pring', 'Ġ(âĪĴ', 'ĠHerrera', 'ĠTHR']]\n",
      "4 attn_out [['Ġanswer', 'Ġanswers', 'ĠGuinness', 'othe', 'gard']]\n",
      "4 mlp_out [['ĠVic', 'ãĥİ', 'ĠTempest', 'mobi', 'ĠSure']]\n",
      "5 attn_out [['Ġaccommod', 'Ġdich', 'ADRA', 'Ġsprites', 'ĠSeeds']]\n",
      "5 mlp_out [['onential', 'Ġsideline', 'ixel', 'Ġintangible', 'Ġscratched']]\n",
      "6 attn_out [['ĠLand', 'Ġreferences', 'Ġoptions', 'Ġexplan', 'Ġquestions']]\n",
      "6 mlp_out [['eer', 'ĠTeg', 'ĠClaud', 'ĠCorpor', 'pire']]\n",
      "7 attn_out [['ĠLevel', 'ĠPopular', 'ĠNep', 'Ġscholarships', 'ĠDeutsche']]\n",
      "7 mlp_out [['Ġtomorrow', 'wagon', 'Ġforever', 'lane', 'thal']]\n",
      "8 attn_out [['ĠExplan', 'Ġdepends', 'Ġvaries', 'nil', 'ĠLuigi']]\n",
      "8 mlp_out [['ĠSorce', 'ibaba', 'enth', 'Ġ[+]', 'ipt']]\n",
      "9 attn_out [['Ġenqu', 'quartered', 'Ġreplied', 'Ġdepends', 'Ġanswered']]\n",
      "9 mlp_out [['ĠTune', 'ĠHuff', 'ĠWast', 'ĠHemp', 'ĠWax']]\n",
      "10 attn_out [['ĠDocumentation', 'ĠDip', 'Ġtabl', 'ĠAren', 'ĠAnswer']]\n",
      "10 mlp_out [['Interstitial', 'ĠSons', 'Ġarc', 'ĠHein', 'ĠMartian']]\n",
      "11 attn_out [['ĠMush', 'HC', '#$', 'OIL', 'SG']]\n",
      "11 mlp_out [['ĠHaunted', 'ĠSeeing', 'ĠGG', 'ĠWARN', 'ĠWATCH']]\n",
      "12 attn_out [['Ġbirthplace', 'ĠPlaces', 'ĠStatue', 'Ġgeography', 'ĠCentral']]\n",
      "12 mlp_out [['ĠUnch', 'ĠUnlimited', 'ĠCollider', 'Ġrods', 'SET']]\n",
      "13 attn_out [['opolis', 'İĭ', 'Ġbirthplace', 'upt', 'quartered']]\n",
      "13 mlp_out [['ĠRW', 'Ġsk', 'Ġtranslation', 'Ġpilot', 'ĠRP']]\n",
      "14 attn_out [['opolis', 'Ġcities', 'Ġcity', 'Ġmetropolitan', 'ĠCity']]\n",
      "14 mlp_out [['ĠNorth', 'ĠHeb', 'ĠPil', 'ĠCran', 'ĠPrescott']]\n",
      "15 attn_out [['ĠPam', 'pez', 'Ġcz', 'Pod', 'pe']]\n",
      "15 mlp_out [['ĠDeer', 'ĠNorth', 'ĠWouldn', 'ĠWeston', 'ĠSomewhere']]\n",
      "16 attn_out [['ĠWarsaw', 'Wars', 'ĠPoland', 'ĠPrinc', 'ĠGw']]\n",
      "16 mlp_out [['ĠGarland', 'ĠNOTICE', 'ĠSince', 'ĠBots', 'ĠTop']]\n",
      "17 attn_out [['ĠWarsaw', 'ews', 'ĠPoland', 'Å', 'Pol']]\n",
      "17 mlp_out [['Ġanalys', 'ĠGamergate', 'ĠIng', 'ĠCorpus', 'Ġstopp']]\n",
      "18 attn_out [['ĠWarsaw', 'Wars', 'ĠPoland', 'Âł', 'burg']]\n",
      "18 mlp_out [['ĠSevent', 'ĠEps', 'ĠIt', 'ĠSavannah', 'ĠAlexandria']]\n",
      "19 attn_out [['ĠWarsaw', 'Wars', 'ĠPoland', 'ĠW', 'ĠPolish']]\n",
      "19 mlp_out [['ĠRichmond', 'ĠIng', 'ĠTo', 'ĠToledo', 'ĠAbout']]\n",
      "20 attn_out [['ĠWarsaw', 'Wars', 'ĠPoland', 'ĠPolish', 'ĠPoles']]\n",
      "20 mlp_out [['-', 'âĢĳ', 'SHIP', 'ĠBrus', 'ĠHeld']]\n",
      "21 attn_out [['Wars', 'ĠWarsaw', 'ĠPoland', 'ĠPolish', 'ĠWars']]\n",
      "21 mlp_out [['ĠSub', 'ĠW', 'w', 'ĠPower', 'ĠPost']]\n",
      "22 attn_out [['ĠQ', 'Wars', 'Ġcities', 'Ġcity', 'ĠCity']]\n",
      "22 mlp_out [['ĠIt', 'ĠIn', 'ĠOn', 'ĠF', 'ĠG']]\n",
      "23 attn_out [[',', 'Ġthe', 'Ġand', '.', 'Ġ(']]\n",
      "23 mlp_out [['ĠImmunity', 'ĠSurviv', 'ĠSurv', 'ĠRebell', 'ĠMillenn']]\n"
     ]
    },
    {
     "data": {
      "image/png": "[encoded data removed]",
      "text/plain": [
       "<Figure size 200x400 with 2 Axes>"
      ]
     },
     "metadata": {},
     "output_type": "display_data"
    }
   ],
   "source": [
    "n_layers = model.cfg.n_layers\n",
    "#hook_names = [\"resid_mid\", \"resid_post\"]\n",
    "hook_names = [\"attn_out\", \"mlp_out\"]\n",
    "logit_attr = torch.zeros(n_layers, len(hook_names)) ## times hook_names\n",
    "\n",
    "for layer in range(n_layers):\n",
    "    for hook_i, hook_name in enumerate(hook_names): \n",
    "        logit_attr[layer, hook_i] = residual_to_logit_diff(activs, logit_diff_dir, hook_name, layer)\n",
    "        \n",
    "        scores = early_decoding(activs, model, hook_name=hook_name, layer=layer)\n",
    "        #token_rank, token_score = get_token_rank(scores, model, \"positive\")\n",
    "        pred_tokens, pred_scores = topK_scores(scores, model)\n",
    "        print(layer, hook_name, pred_tokens)\n",
    "                \n",
    "plot_heatmap(logit_attr.detach().numpy(), title='Direct Logit Attribution', cmap=\"binary\")"
   ]
  },
  {
   "cell_type": "code",
   "execution_count": null,
   "id": "1d23ba38",
   "metadata": {},
   "outputs": [],
   "source": []
  },
  {
   "cell_type": "code",
   "execution_count": null,
   "id": "4eec7752",
   "metadata": {},
   "outputs": [],
   "source": []
  }
 ],
 "metadata": {
  "kernelspec": {
   "display_name": "measureLM_venv",
   "language": "python",
   "name": "measurelm_venv"
  },
  "language_info": {
   "codemirror_mode": {
    "name": "ipython",
    "version": 3
   },
   "file_extension": ".py",
   "mimetype": "text/x-python",
   "name": "python",
   "nbconvert_exporter": "python",
   "pygments_lexer": "ipython3",
   "version": "3.9.13"
  }
 },
 "nbformat": 4,
 "nbformat_minor": 5
}
