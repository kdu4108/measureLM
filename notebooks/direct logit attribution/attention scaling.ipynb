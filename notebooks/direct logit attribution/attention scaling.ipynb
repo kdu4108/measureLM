{
 "cells": [
  {
   "cell_type": "markdown",
   "id": "8ce2fcce",
   "metadata": {},
   "source": [
    "## Head Scaling\n",
    "\n",
    "https://colab.research.google.com/github/neelnanda-io/TransformerLens/blob/main/demos/Exploratory_Analysis_Demo.ipynb#scrollTo=3XtmNaDFO0eu\n",
    "\n",
    "\n",
    "Pythia-1.4b\n",
    "https://arxiv.org/pdf/2310.15910.pdf <br>\n",
    "memory head (15.7), in-context head (19.14)\n"
   ]
  },
  {
   "cell_type": "code",
   "execution_count": 191,
   "id": "ffb7ac1c",
   "metadata": {},
   "outputs": [],
   "source": [
    "import torch, transformer_lens, itertools\n",
    "from functools import partial\n",
    "from measureLM import visualizing, patching\n",
    "\n",
    "from transformer_lens.hook_points import (\n",
    "    HookedRootModule,\n",
    "    HookPoint,\n",
    ")\n",
    "\n",
    "import matplotlib.pyplot as plt\n",
    "import matplotlib as mpl\n",
    "import seaborn as sns\n",
    "import numpy as np"
   ]
  },
  {
   "cell_type": "code",
   "execution_count": 3,
   "id": "d5c2959b",
   "metadata": {},
   "outputs": [
    {
     "data": {
      "application/vnd.jupyter.widget-view+json": {
       "model_id": "3ea9aac52f8b4dc69aaa80ed77f72967",
       "version_major": 2,
       "version_minor": 0
      },
      "text/plain": [
       "Downloading (…)lve/main/config.json:   0%|          | 0.00/570 [00:00<?, ?B/s]"
      ]
     },
     "metadata": {},
     "output_type": "display_data"
    },
    {
     "data": {
      "application/vnd.jupyter.widget-view+json": {
       "model_id": "3f492da27d6e4c42b0f216a43aea05a5",
       "version_major": 2,
       "version_minor": 0
      },
      "text/plain": [
       "Downloading model.safetensors:   0%|          | 0.00/2.93G [00:00<?, ?B/s]"
      ]
     },
     "metadata": {},
     "output_type": "display_data"
    },
    {
     "data": {
      "application/vnd.jupyter.widget-view+json": {
       "model_id": "a04388c812f040e3a86b087740fd9653",
       "version_major": 2,
       "version_minor": 0
      },
      "text/plain": [
       "Downloading (…)okenizer_config.json:   0%|          | 0.00/396 [00:00<?, ?B/s]"
      ]
     },
     "metadata": {},
     "output_type": "display_data"
    },
    {
     "data": {
      "application/vnd.jupyter.widget-view+json": {
       "model_id": "0cc0869897ed42dea824c74815cee7b9",
       "version_major": 2,
       "version_minor": 0
      },
      "text/plain": [
       "Downloading (…)/main/tokenizer.json:   0%|          | 0.00/2.11M [00:00<?, ?B/s]"
      ]
     },
     "metadata": {},
     "output_type": "display_data"
    },
    {
     "data": {
      "application/vnd.jupyter.widget-view+json": {
       "model_id": "65c85674bf8f4cab9d2d96e9815a2758",
       "version_major": 2,
       "version_minor": 0
      },
      "text/plain": [
       "Downloading (…)cial_tokens_map.json:   0%|          | 0.00/99.0 [00:00<?, ?B/s]"
      ]
     },
     "metadata": {},
     "output_type": "display_data"
    },
    {
     "name": "stderr",
     "output_type": "stream",
     "text": [
      "Using pad_token, but it is not set yet.\n"
     ]
    },
    {
     "name": "stdout",
     "output_type": "stream",
     "text": [
      "Loaded pretrained model pythia-1.4b into HookedTransformer\n",
      "Moving model to device:  cpu\n"
     ]
    }
   ],
   "source": [
    "model = transformer_lens.HookedTransformer.from_pretrained(\"pythia-1.4b\").to(\"cpu\")\n",
    "model.cfg.spacing = \"Ġ\"\n",
    "model.tokenizer.pad_token = model.tokenizer.eos_token"
   ]
  },
  {
   "cell_type": "code",
   "execution_count": 295,
   "id": "bfc68961",
   "metadata": {},
   "outputs": [],
   "source": [
    "def get_token_ids(toks=[\"Berlin\", \"Paris\"]):\n",
    "    #token_idcs = torch.tensor([model.tokenizer.convert_tokens_to_ids(model.cfg.spacing + tok) for tok in toks])\n",
    "    token_idcs = torch.tensor([model.to_tokens(f\" {tok}\", prepend_bos=False)[...,0] for tok in toks])\n",
    "    return token_idcs\n",
    "\n",
    "def get_token_ranks(logits, toks=[\"Berlin\", \"Paris\"]):\n",
    "    \n",
    "    ## sorting\n",
    "    scores = logits[...,-1,:].squeeze()\n",
    "    token_ranks = torch.argsort(scores.squeeze(), descending=True)\n",
    "    sorted_token_scores = scores[token_ranks]\n",
    "    \n",
    "    ## select tokens\n",
    "    token_ids = get_token_ids(toks)\n",
    "    token_ranks = {toks[i]: torch.where(token_ranks == tok_id)[0].item() for i, tok_id in enumerate(get_token_ids(toks))}\n",
    "    #token_ranks = list(map(lambda token_rank: round(1 / (token_rank + 1), 4), token_ranks))\n",
    "    return token_ranks\n"
   ]
  },
  {
   "cell_type": "code",
   "execution_count": 296,
   "id": "e7d15f6e",
   "metadata": {},
   "outputs": [
    {
     "data": {
      "text/plain": [
       "{'Berlin': 0, 'Paris': 2}"
      ]
     },
     "execution_count": 296,
     "metadata": {},
     "output_type": "execute_result"
    }
   ],
   "source": [
    "prompt = \"The capital of Germany is Paris. Q: What is the capital of Germany? A:\" #The capital of Jamaica is Paris. \n",
    "logits, activs = model.run_with_cache(prompt)\n",
    "get_token_ranks(logits, [\"Berlin\", \"Paris\"])"
   ]
  },
  {
   "cell_type": "code",
   "execution_count": 299,
   "id": "457818b5",
   "metadata": {},
   "outputs": [
    {
     "name": "stdout",
     "output_type": "stream",
     "text": [
      "patching blocks.15.attn.hook_z, head: 7, alpha -2.0\n"
     ]
    },
    {
     "data": {
      "text/plain": [
       "{'Berlin': 3, 'Paris': 2}"
      ]
     },
     "execution_count": 299,
     "metadata": {},
     "output_type": "execute_result"
    }
   ],
   "source": [
    "def get_token_idx(toks=[\"Berlin\", \"London\"]):\n",
    "    token_idcs = torch.tensor([model.tokenizer.convert_tokens_to_ids(model.cfg.spacing + tok) for tok in toks])\n",
    "    return token_idcs\n",
    "\n",
    "def scale_attn_vec(attn_head, hook: HookPoint, head_idx=0, alpha=1.0): \n",
    "    print(f'patching {hook.name}, head: {head_idx}, alpha {alpha}')\n",
    "    ## shape: batch, tokens, heads, dim (model.cfg.d_head)\n",
    "    attn_head[...,-1,head_idx,:] = attn_head[...,-1,head_idx,:] * alpha\n",
    "    return attn_head\n",
    "\n",
    "#memory head (15.7), in-context head (19.14)\n",
    "def intervene(prompt, model, layer_idx=15, head_idx=7, alpha=1.0, att_comp=\"attn.hook_v\"): ##hook_v\n",
    "    patch_hook_fn = [(f\"blocks.{layer_idx}.{att_comp}\", partial(scale_attn_vec, head_idx=head_idx, alpha=alpha))]\n",
    "    patched_logits = model.run_with_hooks(prompt, fwd_hooks=patch_hook_fn, return_type=\"logits\", reset_hooks_end=True)\n",
    "    return patched_logits\n",
    "\n",
    "patched_logits = intervene(prompt, model, layer_idx=15, head_idx=7, alpha=-2.0)\n",
    "get_token_ranks(patched_logits, [\"Berlin\", \"Paris\"])"
   ]
  },
  {
   "cell_type": "code",
   "execution_count": 301,
   "id": "c4aae46d",
   "metadata": {},
   "outputs": [],
   "source": [
    "## sorting\n",
    "scores = patched_logits[...,-1,:].squeeze()\n",
    "token_ranks = torch.argsort(scores.squeeze(), descending=True)\n"
   ]
  },
  {
   "cell_type": "code",
   "execution_count": null,
   "id": "46f88b68",
   "metadata": {},
   "outputs": [],
   "source": []
  }
 ],
 "metadata": {
  "kernelspec": {
   "display_name": "measureLM_venv",
   "language": "python",
   "name": "measurelm_venv"
  },
  "language_info": {
   "codemirror_mode": {
    "name": "ipython",
    "version": 3
   },
   "file_extension": ".py",
   "mimetype": "text/x-python",
   "name": "python",
   "nbconvert_exporter": "python",
   "pygments_lexer": "ipython3",
   "version": "3.9.13"
  }
 },
 "nbformat": 4,
 "nbformat_minor": 5
}
