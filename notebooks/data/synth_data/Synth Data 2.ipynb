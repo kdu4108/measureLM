{
 "cells": [
  {
   "cell_type": "markdown",
   "id": "8ad80aca",
   "metadata": {},
   "source": [
    "# Synth Data"
   ]
  },
  {
   "cell_type": "code",
   "execution_count": null,
   "id": "6b56a6c5",
   "metadata": {},
   "outputs": [],
   "source": [
    "from measureLM import helpers, measuring, synth_data"
   ]
  },
  {
   "cell_type": "markdown",
   "id": "0ece6ef0",
   "metadata": {},
   "source": [
    "## Load Model and Data"
   ]
  },
  {
   "cell_type": "code",
   "execution_count": null,
   "id": "d24442be",
   "metadata": {},
   "outputs": [],
   "source": [
    "df = synth_data.load_synth_data(n=None)\n",
    "model_name = \"gpt2-medium\"\n",
    "model = measuring.load_model(model_name=model_name, device=\"cpu\")\n",
    "\n",
    "scales = [[\"good\", \"bad\"]]"
   ]
  },
  {
   "cell_type": "markdown",
   "id": "efe4a14e",
   "metadata": {},
   "source": [
    "## Compute Biases"
   ]
  },
  {
   "cell_type": "code",
   "execution_count": null,
   "id": "a922a71c",
   "metadata": {},
   "outputs": [],
   "source": [
    "prompt = \"The relationship between {ent1} and {ent2} is\"\n",
    "df = synth_data.measure_scale(df, prompt, model, scales, prefix=\"bias \")\n",
    "df"
   ]
  },
  {
   "cell_type": "markdown",
   "id": "427b8ace",
   "metadata": {},
   "source": [
    "## Compute Context Influence"
   ]
  },
  {
   "cell_type": "code",
   "execution_count": null,
   "id": "36efc34a",
   "metadata": {},
   "outputs": [],
   "source": [
    "pos_prompt = \"{ent1} loves {ent2}. The relationship between {ent1} and {ent2} is\"\n",
    "df = synth_data.measure_scale(df, pos_prompt, model, scales, prefix=\"pos \")"
   ]
  },
  {
   "cell_type": "code",
   "execution_count": null,
   "id": "aadfe5ed",
   "metadata": {},
   "outputs": [],
   "source": [
    "neg_prompt = \"{ent1} hates {ent2}. The relationship between {ent1} and {ent2} is\"\n",
    "df = synth_data.measure_scale(df, neg_prompt, model, scales, prefix=\"neg \")"
   ]
  },
  {
   "cell_type": "code",
   "execution_count": null,
   "id": "17ebbdf4",
   "metadata": {},
   "outputs": [],
   "source": [
    "df"
   ]
  },
  {
   "cell_type": "code",
   "execution_count": null,
   "id": "9f7fe69b",
   "metadata": {},
   "outputs": [],
   "source": [
    "import numpy as np\n",
    "import matplotlib\n",
    "import matplotlib.cm as cm\n",
    "import matplotlib.pyplot as plt\n",
    "from measureLM import helpers\n",
    "from matplotlib.lines import Line2D\n",
    "import matplotlib.patches as mpatches\n",
    "\n",
    "matplotlib.rcParams['axes.spines.right'] = False\n",
    "matplotlib.rcParams['axes.spines.top'] = False\n",
    "\n",
    "\n",
    "## preprocessing__________________\n",
    "df = df.sort_values(\"bias good-bad\")\n",
    "df = df.reset_index(drop=True)\n",
    "\n",
    "ent1, ent2, labels = df[\"ent1\"].to_list(), df[\"ent2\"].to_list(), df[\"label\"].to_list()\n",
    "ent1_2 = [f\"{e1}–{e2}\" for e1, e2 in list(zip(ent1, ent2))]\n",
    "x_vals = np.arange(0, len(ent1_2))\n",
    "\n",
    "# draw plot_____________________\n",
    "titlefont = 20\n",
    "labelfont = 14\n",
    "\n",
    "fig, ax = plt.subplots(1, 1, figsize=(20, 3), gridspec_kw={'hspace': 0.4})\n",
    "\n",
    "vals = df[\"bias good-bad\"].to_numpy()\n",
    "prior_scatter = ax.scatter(x_vals, vals, s=200, alpha=1.0, c=vals, cmap=cm.coolwarm_r)\n",
    "\n",
    "pos_vals = df[\"pos good-bad\"].to_numpy()\n",
    "pos_scatter = ax.scatter(x_vals, pos_vals, s=100, alpha=0.8, marker=\"v\", color=\"blue\")\n",
    "\n",
    "neg_vals = df[\"neg good-bad\"].to_numpy()\n",
    "neg_scatter = ax.scatter(x_vals, neg_vals, s=100, alpha=0.8, marker=\"^\", color=\"red\")\n",
    "\n",
    "ax.hlines(y=vals.mean(), xmin=x_vals.min() - 1, xmax=x_vals.max() + 1, linewidth=2, linestyle='--', color='grey')\n",
    "# for x, y in zip(x_vals, vals):\n",
    "# t = ax.text(x, y, round(y, 1), horizontalalignment='center',\n",
    "# verticalalignment='center', fontdict={'color':'white'})\n",
    "\n",
    "ax.xaxis.set_ticks(x_vals)\n",
    "ax.tick_params(axis='both', which='major', labelsize=labelfont)\n",
    "ax.set_xticklabels(ent1_2, fontsize=labelfont, rotation=90)\n",
    "ax.set_ylim(vals.min() - 0.05, vals.max() + 0.05)\n",
    "ax.set_xlim(-0.5)\n",
    "# ax.set_title(scale_name, fontsize=titlefont, color=\"black\", loc='center')\n",
    "ax.set_ylabel(\"good-bad scale\", fontsize=labelfont)\n",
    "\n",
    "for i, x_tick_label in enumerate(ax.get_xticklabels()):\n",
    "    label = labels[i]\n",
    "    if label == \"enemy\":\n",
    "        label_name = \"E\"\n",
    "        color = \"red\"\n",
    "    elif label == \"friend\":\n",
    "        color = \"blue\"\n",
    "        label_name = \"F\"\n",
    "    position = x_tick_label.get_position()\n",
    "    ax.text(position[0]-0.33, 0.435, label_name, fontsize=labelfont, color=color, verticalalignment='top')\n",
    "    #x_tick_label.set_color(color)\n",
    "    x_tick_label.set_y(-.1)\n",
    "    \n",
    "prior_scatter = Line2D([0], [0], label='The relationship between A and B is', marker='.',markersize=22, color='grey', linestyle='')\n",
    "pos_scatter = Line2D([0], [0], label='prepended context: A loves B.', marker='v', markersize=10, color='blue', linestyle='')\n",
    "neg_scatter = Line2D([0], [0], label='prepended context: A hates B.', marker='^',markersize=10, color='red', linestyle='')\n",
    "\n",
    "# add manual symbols to auto legend\n",
    "handles, labels = plt.gca().get_legend_handles_labels()\n",
    "handles.extend([prior_scatter, pos_scatter, neg_scatter])\n",
    "\n",
    "plt.legend(handles=handles, ncol=len(handles), prop={'size': labelfont}, facecolor='white', framealpha=0, loc='upper left', bbox_to_anchor=(0.0, 1.1))\n",
    "plt.show()\n",
    "\n",
    "fig.savefig(helpers.ROOT_DIR / \"results\" / \"plots\" / f\"{model_name}.pdf\", bbox_inches='tight', dpi=200,transparent=True)"
   ]
  },
  {
   "cell_type": "code",
   "execution_count": null,
   "id": "07208d6b",
   "metadata": {},
   "outputs": [],
   "source": []
  }
 ],
 "metadata": {
  "kernelspec": {
   "display_name": "measureLM_venv",
   "language": "python",
   "name": "measurelm_venv"
  },
  "language_info": {
   "codemirror_mode": {
    "name": "ipython",
    "version": 3
   },
   "file_extension": ".py",
   "mimetype": "text/x-python",
   "name": "python",
   "nbconvert_exporter": "python",
   "pygments_lexer": "ipython3",
   "version": "3.9.13"
  }
 },
 "nbformat": 4,
 "nbformat_minor": 5
}
