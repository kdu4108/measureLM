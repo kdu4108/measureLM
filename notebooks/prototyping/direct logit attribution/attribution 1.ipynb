{
 "cells": [
  {
   "cell_type": "markdown",
   "id": "8ce2fcce",
   "metadata": {},
   "source": [
    "## Direct Logit Attribution\n",
    "\n",
    "https://colab.research.google.com/github/neelnanda-io/TransformerLens/blob/main/demos/Exploratory_Analysis_Demo.ipynb#scrollTo=3XtmNaDFO0eu"
   ]
  },
  {
   "cell_type": "code",
   "execution_count": 1,
   "id": "ffb7ac1c",
   "metadata": {},
   "outputs": [],
   "source": [
    "import torch, transformer_lens, itertools\n",
    "from functools import partial\n",
    "from measureLM import visualizing, decoding, patching, scoring\n",
    "\n",
    "from transformer_lens.hook_points import (\n",
    "    HookedRootModule,\n",
    "    HookPoint,\n",
    ")\n",
    "\n",
    "import matplotlib.pyplot as plt\n",
    "import matplotlib as mpl\n",
    "import seaborn as sns\n",
    "import numpy as np\n",
    "\n",
    "def plot_heatmap(array, title='', cmap=\"binary\"):\n",
    "    titlefont, labelsize=12, 10\n",
    "    fig, ax = plt.subplots(1, 1, figsize=(2, 4), gridspec_kw={'hspace': 0.4})\n",
    "    ax = sns.heatmap(array, cmap=mpl.colormaps[cmap], xticklabels=hook_names, square=False)\n",
    "    ax.set_title(title, fontsize=titlefont, color=\"black\", loc='center')\n",
    "    ax.set_ylabel('layers', fontsize=labelsize)\n",
    "    plt.show()"
   ]
  },
  {
   "cell_type": "code",
   "execution_count": 2,
   "id": "d5c2959b",
   "metadata": {},
   "outputs": [
    {
     "name": "stderr",
     "output_type": "stream",
     "text": [
      "Using pad_token, but it is not set yet.\n"
     ]
    },
    {
     "name": "stdout",
     "output_type": "stream",
     "text": [
      "Loaded pretrained model gpt2-medium into HookedTransformer\n",
      "Moving model to device:  cpu\n"
     ]
    }
   ],
   "source": [
    "model = transformer_lens.HookedTransformer.from_pretrained(\"gpt2-medium\").to(\"cpu\")\n",
    "model.cfg.spacing = \"Ġ\"\n",
    "model.tokenizer.pad_token = model.tokenizer.eos_token"
   ]
  },
  {
   "cell_type": "code",
   "execution_count": 84,
   "id": "73b36f4e",
   "metadata": {},
   "outputs": [],
   "source": [
    "def early_decoding(activs, model, hook_name=\"mlp_out\", layer=-1):\n",
    "    h = activs[hook_name, layer]\n",
    "    scores = model.unembed(model.ln_final(h))[:, -1, :].squeeze()\n",
    "    return scores\n",
    "   \n",
    "\n",
    "def get_token_rank(scores, model, token):\n",
    "    assert \"spacing\" in dir(model.cfg), \"need to set e.g. model.cfg.spacing = Ġ\"\n",
    "    token = model.cfg.spacing + token\n",
    "    token_id = model.tokenizer.convert_tokens_to_ids(token)\n",
    "    token_ranks = torch.argsort(scores, descending=True)\n",
    "\n",
    "    token_scores = scores[token_ranks]\n",
    "    token_rank = torch.where(token_ranks == token_id)[0].item()\n",
    "    token_score = token_scores[token_rank]\n",
    "    token_rank = round(1 / (token_rank + 1), 4)  # round(1-(token_rank / len(scores)), 4)\n",
    "    return token_rank, token_score\n",
    "\n",
    "\n",
    "def topK_scores(scores, model, topk=5):\n",
    "    pred_scores, pred_tokens = [], []\n",
    "    topK_preds = torch.topk(scores, k=topk)\n",
    "\n",
    "    scores = topK_preds.values.tolist()\n",
    "    indices = topK_preds.indices.tolist()\n",
    "    # for scores, indices in zip(topK_preds.values.tolist(), topK_preds.indices.tolist()):\n",
    "    scores = list(map(lambda score: round(score, 2), scores))\n",
    "    pred_scores.append(scores)\n",
    "    tokens = list(map(lambda idx: model.tokenizer.convert_ids_to_tokens(idx), indices))\n",
    "    pred_tokens.append(tokens)\n",
    "    return pred_tokens, pred_scores"
   ]
  },
  {
   "cell_type": "markdown",
   "id": "2384ca47",
   "metadata": {},
   "source": [
    "## Direct Logit Attribution"
   ]
  },
  {
   "cell_type": "code",
   "execution_count": 132,
   "id": "3ce08cab",
   "metadata": {},
   "outputs": [
    {
     "data": {
      "text/plain": [
       "torch.Size([1, 1024])"
      ]
     },
     "execution_count": 132,
     "metadata": {},
     "output_type": "execute_result"
    }
   ],
   "source": [
    "def get_logit_diff_dirs(model, scales):\n",
    "    if isinstance(scales, str):\n",
    "        scales = [scales]\n",
    "    logit_diff_dir = torch.empty(len(scales), model.cfg.d_model)\n",
    "    for i, scale in enumerate(scales):\n",
    "        scale_ids = torch.tensor([model.tokenizer.convert_tokens_to_ids(model.cfg.spacing + token) for token in scale])\n",
    "        #unembed_vecs = model.tokens_to_residual_directions(scale_ids) # model.unembed.W_U\n",
    "        unembed_vecs = torch.index_select(model.unembed.W_U, dim=-1, index=scale_ids)\n",
    "        logit_diff_dir[i,:] = unembed_vecs[...,0] - unembed_vecs[...,1]\n",
    "    return logit_diff_dir\n",
    "    \n",
    "logit_diff_dir = get_logit_diff_dirs(model, scales=[[\"love\", \"loved\"]])\n",
    "logit_diff_dir.shape"
   ]
  },
  {
   "cell_type": "code",
   "execution_count": 133,
   "id": "cd3dcd81",
   "metadata": {},
   "outputs": [
    {
     "data": {
      "text/plain": [
       "tensor([-2.6474], grad_fn=<ViewBackward0>)"
      ]
     },
     "execution_count": 133,
     "metadata": {},
     "output_type": "execute_result"
    }
   ],
   "source": [
    "def residual_to_logit_diff(activs, logit_diff_dir, hook_name=\"resid_pre\", layer=-1):\n",
    "    h = activs[hook_name, layer]\n",
    "    h = model.ln_final(h)[:, -1, :]\n",
    "    #h = h[:, -1, :]\n",
    "    #h = activs.apply_ln_to_stack(h, layer = -1, pos_slice=-1)\n",
    "    logit_attr = torch.einsum('...nd,...sd->s', h, logit_diff_dir)\n",
    "    return logit_attr\n",
    "\n",
    "prompt = [\"Today I kiss. Yesterday, I kissed. Today I love. Yesterday, I\"]\n",
    "logits, activs = model.run_with_cache(prompt)\n",
    "logit_attr = residual_to_logit_diff(activs, logit_diff_dir)\n",
    "logit_attr"
   ]
  },
  {
   "cell_type": "code",
   "execution_count": 135,
   "id": "457818b5",
   "metadata": {},
   "outputs": [
    {
     "name": "stdout",
     "output_type": "stream",
     "text": [
      "0 resid_pre [['Ġunden', 'Ġenthusi', 'Ġhelicop', 'Ġobser', 'Ġtrave']] [[56.41, 54.13, 53.81, 52.81, 50.26]]\n",
      "0 resid_mid [['Ġunden', 'Ġobser', 'Ġtrave', 'Ġhelicop', 'Ġenthusi']] [[45.68, 45.33, 45.05, 45.03, 43.09]]\n",
      "1 resid_pre [['Ġam', \"'m\", 'ĠAm', 'Ġ(', 'Ġ']] [[10.6, 10.19, 8.53, 8.39, 8.16]]\n",
      "1 resid_mid [['Ġam', \"'m\", 'ĠAm', \"'ll\", 'Ġwill']] [[11.43, 11.37, 9.58, 9.34, 8.91]]\n",
      "2 resid_pre [['Ġam', \"'m\", 'ĠAm', \"'ll\", 'Ġwas']] [[11.49, 11.39, 9.72, 9.68, 9.0]]\n",
      "2 resid_mid [['Ġam', \"'m\", \"'ll\", 'ĠAm', 'Ġwill']] [[11.7, 11.43, 9.95, 9.7, 9.66]]\n",
      "3 resid_pre [['Ġam', \"'m\", \"'ll\", 'Ġwas', 'ĠAm']] [[11.82, 11.65, 9.84, 9.74, 9.6]]\n",
      "3 resid_mid [['Ġam', \"'m\", \"'ll\", 'Ġwill', 'Ġwas']] [[11.99, 11.9, 10.56, 10.37, 10.31]]\n",
      "4 resid_pre [[\"'m\", 'Ġam', \"'ll\", 'Ġwas', 'Ġwill']] [[12.83, 12.36, 11.51, 11.17, 10.82]]\n",
      "4 resid_mid [[\"'m\", 'Ġam', \"'ll\", 'Ġwas', 'Ġwill']] [[13.15, 12.36, 11.9, 11.7, 11.28]]\n",
      "5 resid_pre [[\"'m\", 'Ġam', \"'ll\", 'Ġwas', \"'ve\"]] [[14.0, 12.88, 12.47, 11.9, 11.71]]\n",
      "5 resid_mid [[\"'m\", 'Ġam', \"'ll\", 'Ġwas', 'Ġwill']] [[13.45, 12.34, 12.31, 12.11, 11.82]]\n",
      "6 resid_pre [[\"'m\", 'Ġam', \"'ll\", 'Ġwas', 'Ġwill']] [[14.52, 13.48, 13.41, 12.45, 12.34]]\n",
      "6 resid_mid [[\"'m\", \"'ll\", 'Ġam', 'Ġwill', 'Ġhave']] [[13.65, 13.12, 12.31, 12.29, 11.9]]\n",
      "7 resid_pre [[\"'m\", \"'ll\", \"'ve\", 'Ġam', 'Ġwill']] [[14.68, 13.96, 12.79, 12.66, 12.22]]\n",
      "7 resid_mid [[\"'m\", \"'ll\", \"'ve\", 'Ġhave', 'Ġwill']] [[13.85, 13.57, 12.56, 12.3, 12.28]]\n",
      "8 resid_pre [[\"'ll\", \"'m\", 'Ġwill', \"'ve\", 'Ġhave']] [[14.29, 13.68, 12.94, 12.79, 12.35]]\n",
      "8 resid_mid [[\"'m\", \"'ll\", 'Ġwill', \"'ve\", 'Ġhave']] [[13.36, 13.18, 12.22, 12.06, 11.96]]\n",
      "9 resid_pre [[\"'ll\", \"'m\", 'Ġwill', 'Ġam', \"'ve\"]] [[14.14, 14.0, 13.09, 12.65, 12.48]]\n",
      "9 resid_mid [[\"'ll\", \"'m\", 'Ġwill', 'Ġhave', 'Ġam']] [[14.75, 14.14, 14.0, 13.01, 12.79]]\n",
      "10 resid_pre [[\"'ll\", \"'m\", 'Ġwill', 'Ġhave', 'Ġspent']] [[15.58, 14.86, 14.53, 13.83, 13.67]]\n",
      "10 resid_mid [[\"'ll\", \"'m\", 'Ġwill', 'Ġspent', 'Ġhave']] [[14.87, 14.84, 14.17, 13.94, 13.9]]\n",
      "11 resid_pre [[\"'m\", \"'ll\", 'Ġam', 'Ġspent', 'Ġwill']] [[15.54, 15.18, 15.07, 14.45, 14.13]]\n",
      "11 resid_mid [[\"'m\", \"'ll\", 'Ġam', 'Ġwill', 'Ġput']] [[15.15, 15.02, 14.78, 14.6, 14.58]]\n",
      "12 resid_pre [['Ġam', \"'m\", \"'ll\", 'Ġput', 'Ġwill']] [[16.66, 16.5, 15.51, 14.66, 14.65]]\n",
      "12 resid_mid [['Ġam', \"'m\", 'Ġput', 'Ġbet', \"'ll\"]] [[17.09, 16.17, 15.42, 15.08, 14.91]]\n",
      "13 resid_pre [['Ġam', \"'m\", 'Ġhave', 'Ġput', \"'ll\"]] [[18.05, 17.51, 15.52, 15.49, 15.41]]\n",
      "13 resid_mid [['Ġam', \"'m\", 'Ġlove', 'Ġput', 'Ġhave']] [[17.79, 16.89, 16.14, 15.9, 15.79]]\n",
      "14 resid_pre [['Ġam', \"'m\", 'Ġput', 'Ġhave', 'Ġfeel']] [[18.84, 17.68, 17.13, 16.63, 16.18]]\n",
      "14 resid_mid [['Ġlove', 'Ġam', 'Ġfeel', 'Ġhate', \"'m\"]] [[21.04, 18.31, 17.89, 17.78, 17.39]]\n",
      "15 resid_pre [['Ġlove', 'Ġhate', 'Ġam', 'Ġfeel', \"'m\"]] [[21.75, 19.08, 18.6, 17.98, 17.98]]\n",
      "15 resid_mid [['Ġlove', 'Ġhate', 'ĠLove', 'ĠLOVE', 'Ġloved']] [[24.59, 19.94, 19.88, 19.63, 19.5]]\n",
      "16 resid_pre [['Ġlove', 'Ġhate', 'Ġloved', 'ĠLove', 'Ġam']] [[24.97, 21.34, 20.0, 19.54, 19.22]]\n",
      "16 resid_mid [['Ġlove', 'Ġhate', 'Ġloved', 'ĠLove', 'ĠLOVE']] [[26.09, 22.04, 21.34, 20.6, 19.48]]\n",
      "17 resid_pre [['Ġlove', 'Ġhate', 'Ġloved', 'Ġhated', 'ĠLove']] [[26.79, 23.2, 22.94, 20.69, 20.64]]\n",
      "17 resid_mid [['Ġlove', 'Ġhate', 'Ġloved', 'Ġhated', 'ĠLOVE']] [[26.93, 23.49, 22.98, 20.58, 20.39]]\n",
      "18 resid_pre [['Ġlove', 'Ġhate', 'Ġloved', 'Ġhated', 'ĠLOVE']] [[27.56, 25.41, 24.78, 23.42, 20.95]]\n",
      "18 resid_mid [['Ġlove', 'Ġhate', 'Ġloved', 'Ġhated', 'ĠLOVE']] [[28.45, 25.72, 25.52, 23.41, 21.47]]\n",
      "19 resid_pre [['Ġlove', 'Ġloved', 'Ġhate', 'Ġhated', 'Ġcried']] [[29.33, 27.6, 26.51, 25.4, 22.61]]\n",
      "19 resid_mid [['Ġlove', 'Ġloved', 'Ġhate', 'Ġhated', 'Ġcried']] [[27.93, 27.4, 25.66, 25.12, 23.17]]\n",
      "20 resid_pre [['Ġloved', 'Ġlove', 'Ġhated', 'Ġhate', 'Ġcried']] [[28.51, 27.33, 26.87, 24.9, 24.53]]\n",
      "20 resid_mid [['Ġloved', 'Ġlove', 'Ġhated', 'Ġhate', 'Ġkissed']] [[27.04, 26.07, 24.88, 23.43, 22.89]]\n",
      "21 resid_pre [['Ġloved', 'Ġhated', 'Ġlove', 'Ġcried', 'Ġkissed']] [[29.14, 27.07, 26.93, 25.18, 24.88]]\n",
      "21 resid_mid [['Ġloved', 'Ġlove', 'Ġhated', 'Ġkissed', 'Ġcried']] [[26.92, 25.54, 24.59, 23.96, 22.74]]\n",
      "22 resid_pre [['Ġloved', 'Ġhated', 'Ġlove', 'Ġkissed', 'Ġcried']] [[26.68, 24.92, 24.67, 23.83, 23.04]]\n",
      "22 resid_mid [['Ġloved', 'Ġlove', 'Ġkissed', 'Ġhated', 'Ġcried']] [[24.27, 22.77, 22.18, 22.14, 20.48]]\n",
      "23 resid_pre [['Ġloved', 'Ġlove', 'Ġhated', 'Ġkissed', 'Ġwas']] [[21.03, 18.93, 18.93, 18.15, 17.65]]\n",
      "23 resid_mid [['Ġloved', 'Ġlove', 'Ġhated', 'Ġkissed', 'Ġwas']] [[16.94, 15.54, 15.11, 14.86, 14.68]]\n"
     ]
    },
    {
     "data": {
      "image/png": "[encoded data removed]",
      "text/plain": [
       "<Figure size 200x400 with 2 Axes>"
      ]
     },
     "metadata": {},
     "output_type": "display_data"
    }
   ],
   "source": [
    "n_layers = model.cfg.n_layers\n",
    "hook_names = [\"resid_pre\", \"resid_mid\"]\n",
    "logit_attr = torch.zeros(n_layers, len(hook_names)) ## times hook_names\n",
    "\n",
    "for layer in range(n_layers):\n",
    "    for hook_i, hook_name in enumerate(hook_names): \n",
    "        logit_attr[layer, hook_i] = residual_to_logit_diff(activs, logit_diff_dir, hook_name, layer)\n",
    "        \n",
    "        scores = early_decoding(activs, model, hook_name=hook_name, layer=layer)\n",
    "        #token_rank, token_score = get_token_rank(scores, model, \"positive\")\n",
    "        pred_tokens, pred_scores = topK_scores(scores, model)\n",
    "        print(layer, hook_name, pred_tokens, pred_scores)\n",
    "                \n",
    "plot_heatmap(logit_attr.detach().numpy(), title='Direct Logit Attribution', cmap=\"binary\")"
   ]
  },
  {
   "cell_type": "code",
   "execution_count": null,
   "id": "91488165",
   "metadata": {},
   "outputs": [],
   "source": []
  },
  {
   "cell_type": "code",
   "execution_count": null,
   "id": "115d7ef0",
   "metadata": {},
   "outputs": [],
   "source": []
  }
 ],
 "metadata": {
  "kernelspec": {
   "display_name": "measureLM_venv",
   "language": "python",
   "name": "measurelm_venv"
  },
  "language_info": {
   "codemirror_mode": {
    "name": "ipython",
    "version": 3
   },
   "file_extension": ".py",
   "mimetype": "text/x-python",
   "name": "python",
   "nbconvert_exporter": "python",
   "pygments_lexer": "ipython3",
   "version": "3.9.13"
  }
 },
 "nbformat": 4,
 "nbformat_minor": 5
}
