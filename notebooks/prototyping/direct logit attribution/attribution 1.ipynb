{
 "cells": [
  {
   "cell_type": "markdown",
   "id": "8ce2fcce",
   "metadata": {},
   "source": [
    "## Direct Logit Attribution\n",
    "\n",
    "https://colab.research.google.com/github/neelnanda-io/TransformerLens/blob/main/demos/Exploratory_Analysis_Demo.ipynb#scrollTo=3XtmNaDFO0eu"
   ]
  },
  {
   "cell_type": "code",
   "execution_count": 218,
   "id": "ffb7ac1c",
   "metadata": {},
   "outputs": [],
   "source": [
    "import torch, transformer_lens, itertools\n",
    "from functools import partial\n",
    "from measureLM import visualizing, decoding, patching, scoring\n",
    "\n",
    "from transformer_lens.hook_points import (\n",
    "    HookedRootModule,\n",
    "    HookPoint,\n",
    ")\n",
    "\n",
    "import matplotlib.pyplot as plt\n",
    "import matplotlib as mpl\n",
    "import seaborn as sns\n",
    "import numpy as np\n",
    "\n",
    "def plot_heatmap(array, title='', cmap=\"coolwarm\"):\n",
    "    titlefont, labelsize=12, 10\n",
    "    fig, ax = plt.subplots(1, 1, figsize=(2, 4), gridspec_kw={'hspace': 0.4})\n",
    "    ax = sns.heatmap(array, cmap=mpl.colormaps[cmap], xticklabels=hook_names, square=False)\n",
    "    ax.set_title(title, fontsize=titlefont, color=\"black\", loc='center')\n",
    "    ax.set_ylabel('layers', fontsize=labelsize)\n",
    "    plt.show()"
   ]
  },
  {
   "cell_type": "code",
   "execution_count": 2,
   "id": "d5c2959b",
   "metadata": {},
   "outputs": [
    {
     "name": "stderr",
     "output_type": "stream",
     "text": [
      "Using pad_token, but it is not set yet.\n"
     ]
    },
    {
     "name": "stdout",
     "output_type": "stream",
     "text": [
      "Loaded pretrained model gpt2-medium into HookedTransformer\n",
      "Moving model to device:  cpu\n"
     ]
    }
   ],
   "source": [
    "model = transformer_lens.HookedTransformer.from_pretrained(\"gpt2-medium\").to(\"cpu\")\n",
    "model.cfg.spacing = \"Ġ\"\n",
    "model.tokenizer.pad_token = model.tokenizer.eos_token"
   ]
  },
  {
   "cell_type": "code",
   "execution_count": 84,
   "id": "06b9c5c3",
   "metadata": {},
   "outputs": [],
   "source": [
    "def early_decoding(activs, model, hook_name=\"mlp_out\", layer=-1):\n",
    "    h = activs[hook_name, layer]\n",
    "    scores = model.unembed(model.ln_final(h))[:, -1, :].squeeze()\n",
    "    return scores\n",
    "   \n",
    "\n",
    "def get_token_rank(scores, model, token):\n",
    "    assert \"spacing\" in dir(model.cfg), \"need to set e.g. model.cfg.spacing = Ġ\"\n",
    "    token = model.cfg.spacing + token\n",
    "    token_id = model.tokenizer.convert_tokens_to_ids(token)\n",
    "    token_ranks = torch.argsort(scores, descending=True)\n",
    "\n",
    "    token_scores = scores[token_ranks]\n",
    "    token_rank = torch.where(token_ranks == token_id)[0].item()\n",
    "    token_score = token_scores[token_rank]\n",
    "    token_rank = round(1 / (token_rank + 1), 4)  # round(1-(token_rank / len(scores)), 4)\n",
    "    return token_rank, token_score\n",
    "\n",
    "\n",
    "def topK_scores(scores, model, topk=5):\n",
    "    pred_scores, pred_tokens = [], []\n",
    "    topK_preds = torch.topk(scores, k=topk)\n",
    "\n",
    "    scores = topK_preds.values.tolist()\n",
    "    indices = topK_preds.indices.tolist()\n",
    "    # for scores, indices in zip(topK_preds.values.tolist(), topK_preds.indices.tolist()):\n",
    "    scores = list(map(lambda score: round(score, 2), scores))\n",
    "    pred_scores.append(scores)\n",
    "    tokens = list(map(lambda idx: model.tokenizer.convert_ids_to_tokens(idx), indices))\n",
    "    pred_tokens.append(tokens)\n",
    "    return pred_tokens, pred_scores"
   ]
  },
  {
   "cell_type": "markdown",
   "id": "22a85d8b",
   "metadata": {},
   "source": [
    "## Direct Logit Attribution"
   ]
  },
  {
   "cell_type": "code",
   "execution_count": 212,
   "id": "42e48176",
   "metadata": {},
   "outputs": [
    {
     "data": {
      "text/plain": [
       "torch.Size([1, 1024])"
      ]
     },
     "execution_count": 212,
     "metadata": {},
     "output_type": "execute_result"
    }
   ],
   "source": [
    "def get_logit_diff_dirs(model, scales):\n",
    "    if isinstance(scales, str):\n",
    "        scales = [scales]\n",
    "    logit_diff_dir = torch.empty(len(scales), model.cfg.d_model)\n",
    "    for i, scale in enumerate(scales):\n",
    "        scale_ids = torch.tensor([model.tokenizer.convert_tokens_to_ids(model.cfg.spacing + token) for token in scale])\n",
    "        #unembed_vecs = model.tokens_to_residual_directions(scale_ids) # model.unembed.W_U\n",
    "        unembed_vecs = torch.index_select(model.unembed.W_U, dim=-1, index=scale_ids)\n",
    "        logit_diff_dir[i,:] = unembed_vecs[...,0] - unembed_vecs[...,1]\n",
    "    return logit_diff_dir\n",
    "    \n",
    "logit_diff_dir = get_logit_diff_dirs(model, scales=[[\"love\", \"loved\"]]) #[\"hated\", \"loved\"] \n",
    "logit_diff_dir.shape"
   ]
  },
  {
   "cell_type": "code",
   "execution_count": 216,
   "id": "b6747616",
   "metadata": {},
   "outputs": [
    {
     "data": {
      "text/plain": [
       "tensor([-2.6474], grad_fn=<ViewBackward0>)"
      ]
     },
     "execution_count": 216,
     "metadata": {},
     "output_type": "execute_result"
    }
   ],
   "source": [
    "def residual_to_logit_diff(activs, logit_diff_dir, hook_name=\"resid_pre\", layer=-1):\n",
    "    h = activs[hook_name, layer]\n",
    "    h = model.ln_final(h)[:, -1, :]\n",
    "    #h = h[:, -1, :]\n",
    "    #h = activs.apply_ln_to_stack(h, layer = -1, pos_slice=-1)\n",
    "    logit_attr = torch.einsum('...nd,...sd->s', h, logit_diff_dir)\n",
    "    return logit_attr\n",
    "\n",
    "prompt = [\"Today I kiss. Yesterday, I kissed. Today I love. Yesterday, I\"]\n",
    "#prompt = [\"The relationship between Trump and Obama is\"]\n",
    "logits, activs = model.run_with_cache(prompt)\n",
    "logit_attr = residual_to_logit_diff(activs, logit_diff_dir)\n",
    "logit_attr"
   ]
  },
  {
   "cell_type": "code",
   "execution_count": 221,
   "id": "457818b5",
   "metadata": {},
   "outputs": [
    {
     "name": "stdout",
     "output_type": "stream",
     "text": [
      "0 attn_out [['ĠSimulation', 'ĠFly', 'ometers', 'enes', 'rc']] [[18.73, 17.93, 17.77, 17.33, 17.27]]\n",
      "0 mlp_out [['Ġam', \"'m\", 'Ġ(', 'ĠAm', 'Ġand']] [[10.52, 10.16, 8.63, 8.6, 8.26]]\n",
      "1 attn_out [['Ġboobs', '))))', 'ĠNicotine', 'Ġtits', 'Ġexpect']] [[20.31, 18.5, 18.17, 17.89, 17.88]]\n",
      "1 mlp_out [['ĠEMS', 'bach', 'Ġused', 'Ġcurrently', 'Ġutil']] [[14.91, 13.85, 13.35, 12.2, 12.2]]\n",
      "2 attn_out [['ĠTinder', 'ĠJPEG', 'Ġsmile', 'ĠActress', 'ĠWS']] [[16.62, 16.59, 16.06, 15.61, 15.24]]\n",
      "2 mlp_out [['guard', 'guards', 'sound', 'peed', 'byter']] [[21.08, 20.13, 19.45, 18.93, 18.55]]\n",
      "3 attn_out [['Ġpolarized', 'Ġawaken', 'ĠCancel', 'Ġexalted', 'Ġvibr']] [[18.51, 18.22, 18.16, 17.86, 17.67]]\n",
      "3 mlp_out [['Ġpartnered', 'gat', 'vol', 'vel', 'Ġpartners']] [[21.83, 21.11, 20.03, 19.87, 19.61]]\n",
      "4 attn_out [['aug', 'Ġpt', 'Ġawoke', 'isf', 'less']] [[17.93, 17.04, 14.93, 14.67, 14.54]]\n",
      "4 mlp_out [['Offline', 'ãĤµ', 'ĠUnloaded', 'ĠRequired', 'ĠSaban']] [[21.06, 20.18, 19.8, 18.77, 18.25]]\n",
      "5 attn_out [['Ġrode', 'Ġfroze', 'Ġmean', 'Ġshove', 'Ġworked']] [[17.19, 17.18, 16.73, 16.61, 16.43]]\n",
      "5 mlp_out [['lihood', 'veyard', 'SourceFile', 'abet', 'own']] [[16.76, 16.34, 16.01, 15.95, 15.66]]\n",
      "6 attn_out [['aug', 'hower', 'ĠWinchester', 'ĠNormandy', 'pes']] [[16.63, 16.34, 14.64, 14.5, 13.94]]\n",
      "6 mlp_out [['pherd', 'ĠProtestant', 'ĠProto', 'ĠAudit', 'Ġminority']] [[18.58, 17.96, 17.92, 17.81, 17.78]]\n",
      "7 attn_out [['Ġgobl', 'Ġmasc', 'Ġdowntime', 'Ġren', 'Ġwithdrawals']] [[19.68, 19.28, 19.12, 18.99, 18.93]]\n",
      "7 mlp_out [['ji', 'Ġsuspic', 'kers', 'ĠCounty', 'ĠAfgh']] [[20.19, 19.65, 17.38, 17.28, 16.81]]\n",
      "8 attn_out [['Ġfollower', 'Ġdies', 'Ġformula', 'ĠCond', 'ĠLib']] [[17.99, 17.79, 16.59, 16.52, 15.85]]\n",
      "8 mlp_out [['Ġequity', 'Ġexcess', 'Ġhazard', 'Ġslack', 'abouts']] [[21.72, 21.23, 20.54, 20.28, 19.91]]\n",
      "9 attn_out [['Ġkiss', 'Ġgifts', 'Ġmarrow', 'Ġtrump', 'Ġhum']] [[22.47, 22.24, 21.84, 21.83, 21.51]]\n",
      "9 mlp_out [['è¦ļéĨĴ', 'ilib', 'é¾', 'Ġferry', 'oland']] [[23.59, 21.23, 19.62, 19.45, 19.23]]\n",
      "10 attn_out [['Ġdies', 'ĠCreed', 'ĠHunts', 'Ġloves', 'ĠMoose']] [[20.08, 18.66, 18.64, 18.12, 17.87]]\n",
      "10 mlp_out [['Ġdistance', 'Ġreplacement', 'Ġunde', 'Ġcircular', 'Ġreplacements']] [[20.13, 19.89, 18.2, 17.63, 17.41]]\n",
      "11 attn_out [['ĠWritten', 'ĠLLC', 'ĠVIDE', 'Ġheal', 'Ġhealing']] [[21.05, 20.95, 20.23, 19.61, 19.43]]\n",
      "11 mlp_out [['ĠDebor', 'ĠBren', 'orest', 'ĠAdminist', 'library']] [[19.93, 19.78, 18.26, 17.7, 17.56]]\n",
      "12 attn_out [['Ġcures', 'Ġcured', 'Ġeternity', 'Ġenvy', 'Ġalike']] [[21.45, 21.27, 19.25, 18.65, 18.35]]\n",
      "12 mlp_out [['ilus', 'tan', 'upe', 'Ġns', 'lessness']] [[22.02, 21.59, 20.65, 19.85, 19.77]]\n",
      "13 attn_out [['love', 'Ġlove', 'ĠLOVE', 'ĠLove', 'osexual']] [[24.24, 22.71, 21.57, 20.78, 20.67]]\n",
      "13 mlp_out [['NPR', 'Aren', 'romeda', 'Ġsurpr', 'vernment']] [[23.47, 21.22, 20.04, 19.43, 19.17]]\n",
      "14 attn_out [['Ġlove', 'ĠLOVE', 'Ġloves', 'Ġloving', 'Ġhug']] [[34.99, 30.81, 28.34, 27.53, 27.52]]\n",
      "14 mlp_out [['abul', 'apped', 'Ġlur', 'Ġhated', 'apore']] [[20.67, 20.49, 19.74, 19.12, 18.89]]\n",
      "15 attn_out [['ĠLove', 'Ġlove', 'love', 'Ġlover', 'ĠLOVE']] [[31.5, 31.15, 29.19, 28.59, 27.47]]\n",
      "15 mlp_out [['Ġweakness', 'Ġdisadvantages', 'Ġdislike', 'Ġuseful', 'Ġweaknesses']] [[21.35, 20.94, 20.77, 20.47, 19.74]]\n",
      "16 attn_out [['Ġlove', 'Ġloved', 'ĠLove', 'Ġdid', 'Ġhated']] [[22.01, 20.39, 18.31, 17.55, 17.51]]\n",
      "16 mlp_out [['Ġplanned', 'Ġscale', 'Ġdeck', 'Ġwouldn', 'Ġsimply']] [[24.12, 21.36, 19.71, 19.57, 19.55]]\n",
      "17 attn_out [['Ġkiss', 'Ġkissed', 'Ġkisses', 'Ġlove', 'Ġhate']] [[19.35, 19.33, 18.5, 17.63, 16.12]]\n",
      "17 mlp_out [['Ġcried', 'Ġhated', 'Ġregretted', 'Ġworried', 'Ġcry']] [[27.35, 26.82, 26.6, 23.46, 23.31]]\n",
      "18 attn_out [['Ġlove', 'Ġloved', 'Ġhate', 'Ġloving', 'Ġsex']] [[23.67, 20.62, 17.73, 17.42, 17.08]]\n",
      "18 mlp_out [['Ġwatched', 'Ġcried', 'Ġtalked', 'Ġcared', 'Ġwanted']] [[29.59, 29.57, 28.17, 28.15, 28.01]]\n",
      "19 attn_out [['Ġtasted', 'Ġslept', 'Ġsmelled', 'Ġdied', 'Ġate']] [[21.31, 21.08, 20.04, 20.0, 19.99]]\n",
      "19 mlp_out [['Ġprotected', 'Ġcursed', 'Ġhated', 'Ġcleaned', 'Ġlaughed']] [[28.43, 27.55, 26.43, 25.23, 25.11]]\n",
      "20 attn_out [['Ġkiss', 'Ġkissed', 'Ġkisses', 'Ġkissing', 'ĠKiss']] [[21.74, 19.89, 18.93, 17.03, 14.31]]\n",
      "20 mlp_out [['Ġfeared', 'Ġcried', 'Ġregretted', 'Ġloved', 'Ġhated']] [[28.4, 26.67, 26.43, 26.36, 26.28]]\n",
      "21 attn_out [['Ġkiss', 'Ġkissed', 'Ġkisses', 'Ġlove', 'Ġkissing']] [[15.53, 14.74, 14.18, 13.67, 13.65]]\n",
      "21 mlp_out [['Ġneeded', 'Ġfound', 'Ġheld', 'Ġmissed', 'Ġfeared']] [[17.29, 13.74, 13.5, 13.47, 13.38]]\n",
      "22 attn_out [['Ġkiss', 'Ġkissing', 'ĠKiss', 'Ġkissed', ',']] [[11.58, 10.06, 10.04, 9.17, 8.9]]\n",
      "22 mlp_out [['Ġwas', 'Ġsaid', 'Ġloved', 'Ġwanted', 'Ġneeded']] [[10.19, 9.97, 9.08, 8.97, 8.9]]\n",
      "23 attn_out [[',', '.', 'Ġand', 'Ġthe', 'Ċ']] [[5.65, 5.32, 5.05, 5.05, 4.93]]\n",
      "23 mlp_out [['Ġwrest', 'Ġleng', 'Ġseriously', 'Ġjust', 'Ġdressed']] [[15.43, 15.17, 14.76, 14.71, 14.54]]\n"
     ]
    },
    {
     "data": {
      "image/png": "[encoded data removed]",
      "text/plain": [
       "<Figure size 200x400 with 2 Axes>"
      ]
     },
     "metadata": {},
     "output_type": "display_data"
    }
   ],
   "source": [
    "n_layers = model.cfg.n_layers\n",
    "hook_names = [\"resid_mid\", \"resid_post\"]\n",
    "hook_names = [\"attn_out\", \"mlp_out\"]\n",
    "logit_attr = torch.zeros(n_layers, len(hook_names)) ## times hook_names\n",
    "\n",
    "for layer in range(n_layers):\n",
    "    for hook_i, hook_name in enumerate(hook_names): \n",
    "        logit_attr[layer, hook_i] = residual_to_logit_diff(activs, logit_diff_dir, hook_name, layer)\n",
    "        \n",
    "        scores = early_decoding(activs, model, hook_name=hook_name, layer=layer)\n",
    "        #token_rank, token_score = get_token_rank(scores, model, \"positive\")\n",
    "        pred_tokens, pred_scores = topK_scores(scores, model)\n",
    "        print(layer, hook_name, pred_tokens, pred_scores)\n",
    "                \n",
    "plot_heatmap(logit_attr.detach().numpy(), title='Direct Logit Attribution', cmap=\"coolwarm\")"
   ]
  },
  {
   "cell_type": "code",
   "execution_count": null,
   "id": "5cc6afc3",
   "metadata": {},
   "outputs": [],
   "source": []
  }
 ],
 "metadata": {
  "kernelspec": {
   "display_name": "measureLM_venv",
   "language": "python",
   "name": "measurelm_venv"
  },
  "language_info": {
   "codemirror_mode": {
    "name": "ipython",
    "version": 3
   },
   "file_extension": ".py",
   "mimetype": "text/x-python",
   "name": "python",
   "nbconvert_exporter": "python",
   "pygments_lexer": "ipython3",
   "version": "3.9.13"
  }
 },
 "nbformat": 4,
 "nbformat_minor": 5
}
