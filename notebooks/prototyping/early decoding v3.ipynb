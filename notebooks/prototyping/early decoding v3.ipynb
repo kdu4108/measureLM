{
 "cells": [
  {
   "cell_type": "markdown",
   "id": "8eaf87a4",
   "metadata": {},
   "source": [
    "# Early decoding"
   ]
  },
  {
   "cell_type": "code",
   "execution_count": 1,
   "id": "101f029a",
   "metadata": {},
   "outputs": [],
   "source": [
    "from measureLM import decoding\n",
    "from transformers import AutoModelForCausalLM, DebertaForMaskedLM, AutoTokenizer\n",
    "\n",
    "## decoder-only model____________\n",
    "tokenizer = AutoTokenizer.from_pretrained('gpt2-medium')\n",
    "model = AutoModelForCausalLM.from_pretrained('gpt2-medium')"
   ]
  },
  {
   "cell_type": "code",
   "execution_count": 2,
   "id": "8889cd9f",
   "metadata": {},
   "outputs": [
    {
     "ename": "NameError",
     "evalue": "name 'arg' is not defined",
     "output_type": "error",
     "traceback": [
      "\u001b[0;31m---------------------------------------------------------------------------\u001b[0m",
      "\u001b[0;31mNameError\u001b[0m                                 Traceback (most recent call last)",
      "Cell \u001b[0;32mIn[2], line 2\u001b[0m\n\u001b[1;32m      1\u001b[0m data \u001b[38;5;241m=\u001b[39m [{\u001b[38;5;124m\"\u001b[39m\u001b[38;5;124mcontext\u001b[39m\u001b[38;5;124m\"\u001b[39m:  \u001b[38;5;124mf\u001b[39m\u001b[38;5;124m'\u001b[39m\u001b[38;5;124mQ: What is the sentiment of \u001b[39m\u001b[38;5;124m\"\u001b[39m\u001b[38;5;124mlove\u001b[39m\u001b[38;5;124m\"\u001b[39m\u001b[38;5;124m? A: positive Q: What is the sentiment of \u001b[39m\u001b[38;5;124m\"\u001b[39m\u001b[38;5;124mhate\u001b[39m\u001b[38;5;124m\"\u001b[39m\u001b[38;5;124m? A: negative\u001b[39m\u001b[38;5;124m'\u001b[39m,\n\u001b[0;32m----> 2\u001b[0m            \u001b[38;5;124m\"\u001b[39m\u001b[38;5;124mprompt\u001b[39m\u001b[38;5;124m\"\u001b[39m: \u001b[38;5;124mf\u001b[39m\u001b[38;5;124m'\u001b[39m\u001b[38;5;124mQ: What is the sentiment of \u001b[39m\u001b[38;5;124m\"\u001b[39m\u001b[38;5;132;01m{\u001b[39;00m\u001b[43marg\u001b[49m\u001b[38;5;132;01m}\u001b[39;00m\u001b[38;5;124m\"\u001b[39m\u001b[38;5;124m? A:\u001b[39m\u001b[38;5;124m'\u001b[39m, \n\u001b[1;32m      3\u001b[0m            \u001b[38;5;124m\"\u001b[39m\u001b[38;5;124mansw\u001b[39m\u001b[38;5;124m\"\u001b[39m: [\u001b[38;5;124m\"\u001b[39m\u001b[38;5;124mpositive\u001b[39m\u001b[38;5;124m\"\u001b[39m, \u001b[38;5;124m\"\u001b[39m\u001b[38;5;124mnegative\u001b[39m\u001b[38;5;124m\"\u001b[39m],\n\u001b[1;32m      4\u001b[0m            \u001b[38;5;124m\"\u001b[39m\u001b[38;5;124marg\u001b[39m\u001b[38;5;124m\"\u001b[39m:  [\u001b[38;5;124m\"\u001b[39m\u001b[38;5;124madore\u001b[39m\u001b[38;5;124m\"\u001b[39m, \u001b[38;5;241m0\u001b[39m]}]\n",
      "\u001b[0;31mNameError\u001b[0m: name 'arg' is not defined"
     ]
    }
   ],
   "source": [
    "data = [{\"context\":  f'Q: What is the sentiment of \"love\"? A: positive Q: What is the sentiment of \"hate\"? A: negative',\n",
    "           \"prompt\": f'Q: What is the sentiment of \"{arg}\"? A:', \n",
    "           \"answ\": [\"positive\", \"negative\"],\n",
    "           \"arg\":  [\"adore\", 0]}]"
   ]
  },
  {
   "cell_type": "code",
   "execution_count": 5,
   "id": "cae4f4b0",
   "metadata": {},
   "outputs": [
    {
     "ename": "NameError",
     "evalue": "name 'early_decoding' is not defined",
     "output_type": "error",
     "traceback": [
      "\u001b[0;31m---------------------------------------------------------------------------\u001b[0m",
      "\u001b[0;31mNameError\u001b[0m                                 Traceback (most recent call last)",
      "Cell \u001b[0;32mIn[5], line 4\u001b[0m\n\u001b[1;32m      2\u001b[0m output, tokens \u001b[38;5;241m=\u001b[39m decoding\u001b[38;5;241m.\u001b[39mencode(texts, tokenizer, model)\n\u001b[1;32m      3\u001b[0m tok_idx \u001b[38;5;241m=\u001b[39m decoding\u001b[38;5;241m.\u001b[39mtoken_select(tokens, tokenizer, select_token\u001b[38;5;241m=\u001b[39m\u001b[38;5;28;01mNone\u001b[39;00m)\n\u001b[0;32m----> 4\u001b[0m layer_scores \u001b[38;5;241m=\u001b[39m \u001b[43mearly_decoding\u001b[49m(output\u001b[38;5;241m.\u001b[39mhidden_states, tok_idx, model)\n\u001b[1;32m      5\u001b[0m scores_to_tokens(layer_scores, tokenizer, mode\u001b[38;5;241m=\u001b[39m\u001b[38;5;241m2\u001b[39m)\n",
      "\u001b[0;31mNameError\u001b[0m: name 'early_decoding' is not defined"
     ]
    }
   ],
   "source": [
    "texts = [\"Hi, how are\", \"The capital of France is\"]\n",
    "output, tokens = decoding.encode(texts, tokenizer, model)\n",
    "tok_idx = decoding.token_select(tokens, tokenizer, select_token=None)\n",
    "layer_scores = early_decoding(output.hidden_states, tok_idx, model)\n",
    "scores_to_tokens(layer_scores, tokenizer, mode=2)"
   ]
  },
  {
   "cell_type": "code",
   "execution_count": 4,
   "id": "a4e565bf",
   "metadata": {},
   "outputs": [
    {
     "ename": "NameError",
     "evalue": "name 'layer_scores' is not defined",
     "output_type": "error",
     "traceback": [
      "\u001b[0;31m---------------------------------------------------------------------------\u001b[0m",
      "\u001b[0;31mNameError\u001b[0m                                 Traceback (most recent call last)",
      "Cell \u001b[0;32mIn[4], line 1\u001b[0m\n\u001b[0;32m----> 1\u001b[0m \u001b[43mlayer_scores\u001b[49m\n",
      "\u001b[0;31mNameError\u001b[0m: name 'layer_scores' is not defined"
     ]
    }
   ],
   "source": [
    "layer_scores"
   ]
  },
  {
   "cell_type": "code",
   "execution_count": null,
   "id": "1d28eb4f",
   "metadata": {},
   "outputs": [],
   "source": []
  }
 ],
 "metadata": {
  "kernelspec": {
   "display_name": "measureLM_venv",
   "language": "python",
   "name": "measurelm_venv"
  },
  "language_info": {
   "codemirror_mode": {
    "name": "ipython",
    "version": 3
   },
   "file_extension": ".py",
   "mimetype": "text/x-python",
   "name": "python",
   "nbconvert_exporter": "python",
   "pygments_lexer": "ipython3",
   "version": "3.9.13"
  }
 },
 "nbformat": 4,
 "nbformat_minor": 5
}
