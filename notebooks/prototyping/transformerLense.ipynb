{
 "cells": [
  {
   "cell_type": "markdown",
   "id": "8911f84d",
   "metadata": {},
   "source": [
    "# TransformerLense\n",
    "\n",
    "https://colab.research.google.com/github/neelnanda-io/TransformerLens/blob/main/demos/Main_Demo.ipynb#scrollTo=8mTAOSi1RzR2"
   ]
  },
  {
   "cell_type": "code",
   "execution_count": 275,
   "id": "3825fc4b",
   "metadata": {},
   "outputs": [
    {
     "name": "stderr",
     "output_type": "stream",
     "text": [
      "Using pad_token, but it is not set yet.\n"
     ]
    },
    {
     "name": "stdout",
     "output_type": "stream",
     "text": [
      "Loaded pretrained model gpt2-medium into HookedTransformer\n"
     ]
    }
   ],
   "source": [
    "import torch\n",
    "import transformer_lens\n",
    "from functools import partial\n",
    "from transformer_lens.hook_points import (\n",
    "    HookedRootModule,\n",
    "    HookPoint,\n",
    ")  \n",
    "\n",
    "# Load a model (eg GPT-2 Small)\n",
    "model = transformer_lens.HookedTransformer.from_pretrained(\"gpt2-medium\")\n",
    "model.tokenizer.pad_token = model.tokenizer.eos_token"
   ]
  },
  {
   "cell_type": "code",
   "execution_count": 274,
   "id": "ba856e35",
   "metadata": {},
   "outputs": [
    {
     "name": "stdout",
     "output_type": "stream",
     "text": [
      "tensor([[ 6.3685,  5.2725,  0.7806,  ..., -3.1140,  1.5883,  5.8218]],\n",
      "       device='mps:0', grad_fn=<SliceBackward0>)\n"
     ]
    },
    {
     "data": {
      "text/plain": [
       "['ĠParis', 'Ġthe', 'ĠLyon']"
      ]
     },
     "execution_count": 274,
     "metadata": {},
     "output_type": "execute_result"
    }
   ],
   "source": [
    "# Run the model and get logits and activations\n",
    "#tokens = model.tokenizer(\"Hello World\", padding=True, return_tensors='pt').input_ids\n",
    "model.cfg.seed = 0\n",
    "tokens = model.to_tokens(\"The capital of France is\", prepend_bos=False)\n",
    "logits, activs = model.run_with_cache(tokens)\n",
    "print(logits[:,-1,:])\n",
    "model.tokenizer.convert_ids_to_tokens(torch.topk(logits[:,-1,:], k =3).indices.tolist()[0])"
   ]
  },
  {
   "cell_type": "code",
   "execution_count": 281,
   "id": "ffabd61e",
   "metadata": {},
   "outputs": [
    {
     "data": {
      "text/plain": [
       "'blocks.2.hook_resid_post'"
      ]
     },
     "execution_count": 281,
     "metadata": {},
     "output_type": "execute_result"
    }
   ],
   "source": [
    "transformer_lens.utils.get_act_name(\"resid_post\", 2)"
   ]
  },
  {
   "cell_type": "code",
   "execution_count": 263,
   "id": "c7d6333e",
   "metadata": {},
   "outputs": [
    {
     "name": "stdout",
     "output_type": "stream",
     "text": [
      "tensor([[ 37.5283,  39.4527,  14.0766,  ..., -24.9811,  -3.5890,  34.9732]],\n",
      "       device='mps:0', grad_fn=<SliceBackward0>)\n"
     ]
    },
    {
     "data": {
      "text/plain": [
       "['Ġoften', 'Ġnot', 'Ġalso']"
      ]
     },
     "execution_count": 263,
     "metadata": {},
     "output_type": "execute_result"
    }
   ],
   "source": [
    "hidden = activs[\"blocks.12.hook_resid_post\"]#- activs[\"blocks.23.hook_mlp_out\"]\n",
    "scores = model.unembed(hidden)\n",
    "print(scores[:,-1,:])\n",
    "model.tokenizer.convert_ids_to_tokens(torch.topk(scores[:,-1,:], k =3).indices.tolist()[0])"
   ]
  },
  {
   "cell_type": "code",
   "execution_count": 251,
   "id": "32e0aa4b",
   "metadata": {},
   "outputs": [],
   "source": [
    "from transformers import AutoModelForCausalLM, DebertaForMaskedLM, AutoTokenizer\n",
    "\n",
    "model_2 = AutoModelForCausalLM.from_pretrained('gpt2-medium').to(\"mps:0\")\n"
   ]
  },
  {
   "cell_type": "code",
   "execution_count": 252,
   "id": "112dbc6f",
   "metadata": {},
   "outputs": [],
   "source": [
    "tokens = tokenizer_2(\"The capital of France is\", return_tensors='pt').input_ids.to(\"mps:0\")\n",
    "output = model_2(tokens, output_hidden_states=True)"
   ]
  },
  {
   "cell_type": "code",
   "execution_count": 254,
   "id": "ab2539d6",
   "metadata": {
    "scrolled": true
   },
   "outputs": [
    {
     "data": {
      "text/plain": [
       "['ĠParis', 'Ġthe', 'ĠLyon']"
      ]
     },
     "execution_count": 254,
     "metadata": {},
     "output_type": "execute_result"
    }
   ],
   "source": [
    "hidden = output.hidden_states\n",
    "scores = model_2.lm_head(hidden[-1][:,-1,:])\n",
    "torch.topk(scores, k =3)\n",
    "model.tokenizer.convert_ids_to_tokens(torch.topk(scores, k =3).indices.tolist()[0])"
   ]
  },
  {
   "cell_type": "code",
   "execution_count": 163,
   "id": "d4ba1f29",
   "metadata": {},
   "outputs": [
    {
     "name": "stdout",
     "output_type": "stream",
     "text": [
      "blocks.15.hook_mlp_out\n",
      "\n",
      "\n",
      "tensor([[ 8.6604,  5.9980,  5.8285,  ..., -6.1679, -4.6093,  9.7427]],\n",
      "       device='mps:0', grad_fn=<SliceBackward0>)\n",
      "blocks.16.hook_mlp_out\n",
      "\n",
      "\n",
      "tensor([[ 8.3254,  6.1983,  5.2813,  ..., -5.6984, -3.9060, 10.2517]],\n",
      "       device='mps:0', grad_fn=<SliceBackward0>)\n",
      "blocks.17.hook_mlp_out\n",
      "\n",
      "\n",
      "tensor([[ 8.5718,  6.9383,  5.7432,  ..., -5.9181, -4.4268, 10.0214]],\n",
      "       device='mps:0', grad_fn=<SliceBackward0>)\n"
     ]
    }
   ],
   "source": [
    "def mlp_out_hook(mlp_out_new, hook: HookPoint, old_activs: torch.Tensor, token_idx:int): \n",
    "    print(f'{hook.name}')\n",
    "    mlp_out_old = old_activs[hook.name]\n",
    "    mlp_out_new[:, token_idx, :] = mlp_out_old[:, token_idx, :]\n",
    "    print(\"\\n\")\n",
    "    return mlp_out_new\n",
    "\n",
    "\n",
    "def intervene(new_prompt, old_activs, tok_idx = -1, l_start_end=[0, 99]):\n",
    "    for layer in range(l_start_end[0], l_start_end[1]):\n",
    "        if layer < model.cfg.n_layers:\n",
    "            temp_hook_fn = partial(mlp_out_hook, old_activs=old_activs, token_idx=tok_idx)            \n",
    "            patched_scores = model.run_with_hooks(new_tokens, fwd_hooks=[(transformer_lens.utils.get_act_name(\"mlp_out\", layer), temp_hook_fn)])\n",
    "            print(patched_scores[:,tok_idx,:])\n",
    "\n",
    "new_prompt = \"This is great right?\"\n",
    "new_tokens = model.to_tokens(new_prompt)\n",
    "\n",
    "intervene(new_tokens, activs, tok_idx = -1, l_start_end=[15, 18])"
   ]
  },
  {
   "cell_type": "code",
   "execution_count": null,
   "id": "3e0c3d69",
   "metadata": {},
   "outputs": [],
   "source": []
  }
 ],
 "metadata": {
  "kernelspec": {
   "display_name": "measureLM_venv",
   "language": "python",
   "name": "measurelm_venv"
  },
  "language_info": {
   "codemirror_mode": {
    "name": "ipython",
    "version": 3
   },
   "file_extension": ".py",
   "mimetype": "text/x-python",
   "name": "python",
   "nbconvert_exporter": "python",
   "pygments_lexer": "ipython3",
   "version": "3.9.13"
  }
 },
 "nbformat": 4,
 "nbformat_minor": 5
}
