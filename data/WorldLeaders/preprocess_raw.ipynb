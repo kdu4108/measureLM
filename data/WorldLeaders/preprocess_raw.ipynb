{
 "cells": [
  {
   "cell_type": "markdown",
   "metadata": {},
   "source": [
    "### World leaders from 2001-2023"
   ]
  },
  {
   "cell_type": "code",
   "execution_count": 1,
   "metadata": {},
   "outputs": [],
   "source": [
    "import requests\n",
    "from bs4 import BeautifulSoup\n",
    "\n",
    "# URL of the Wikipedia page\n",
    "def scrape_state_leaders(url, year):\n",
    "    # Fetch the webpage content\n",
    "    response = requests.get(url)\n",
    "    soup = BeautifulSoup(response.content, 'html.parser')\n",
    "\n",
    "    # Find all the country names and their first bullet point\n",
    "    countries_and_leaders = []\n",
    "    continents = soup.find_all('span', {'class': 'mw-headline'})\n",
    "    for continent in continents:\n",
    "        continent_name = continent.get_text(strip=True)\n",
    "        # print(f\"{continent_name}:\")\n",
    "        bullet_points = continent.find_next('ul')\n",
    "        if bullet_points:\n",
    "            countries = bullet_points.find_all('b')\n",
    "            for country in countries:\n",
    "                leader_name = country.find_next(\"li\").find_next(\"a\").text\n",
    "                country_name = country.find_next(\"a\").text\n",
    "                # print(f\"Country: {country_name}\\nLeader: {leader_name}\\n\")\n",
    "                countries_and_leaders.append((country_name, leader_name, continent_name, year))\n",
    "\n",
    "    return countries_and_leaders\n",
    "\n",
    "\n",
    "years = range(2001, 2024, 4)\n",
    "url = 'https://en.wikipedia.org/wiki/List_of_state_leaders_in_{}'\n",
    "\n",
    "leaders = []\n",
    "for year in years:\n",
    "    leaders += scrape_state_leaders(url.format(year), year)\n",
    "\n"
   ]
  },
  {
   "cell_type": "code",
   "execution_count": 2,
   "metadata": {},
   "outputs": [],
   "source": [
    "import pandas as pd\n",
    "df = pd.DataFrame(leaders, columns=[\"country\", \"leader\", \"continent\", \"year\"])"
   ]
  },
  {
   "cell_type": "code",
   "execution_count": 3,
   "metadata": {},
   "outputs": [
    {
     "name": "stdout",
     "output_type": "stream",
     "text": [
      "/cluster/work/cotterell/kdu/measureLM/data/WorldLeaders\n"
     ]
    }
   ],
   "source": [
    "!pwd"
   ]
  },
  {
   "cell_type": "code",
   "execution_count": 4,
   "metadata": {},
   "outputs": [],
   "source": [
    "df.to_csv(\"world-leaders-2001-to-2021.csv\")"
   ]
  },
  {
   "cell_type": "code",
   "execution_count": null,
   "metadata": {},
   "outputs": [],
   "source": []
  }
 ],
 "metadata": {
  "kernelspec": {
   "display_name": "Python 3 (ipykernel)",
   "language": "python",
   "name": "python3"
  },
  "language_info": {
   "codemirror_mode": {
    "name": "ipython",
    "version": 3
   },
   "file_extension": ".py",
   "mimetype": "text/x-python",
   "name": "python",
   "nbconvert_exporter": "python",
   "pygments_lexer": "ipython3",
   "version": "3.10.4"
  }
 },
 "nbformat": 4,
 "nbformat_minor": 4
}
