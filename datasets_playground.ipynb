{
 "cells": [
  {
   "cell_type": "markdown",
   "metadata": {},
   "source": [
    "### Sentiment Datasets\n",
    "* `sentiment140` ([paper](https://www-cs.stanford.edu/people/alecmgo/papers/TwitterDistantSupervision09.pdf), [data](https://huggingface.co/datasets/sentiment140), 2009) - 1.6million tweets labeled 0-4 on sentiment AND entity/query of interest(!!)\n",
    "* `twitter-financial-news-sentiment` ([paper](https://neuralmagic.com/blog/classifying-finance-tweets-in-real-time-with-sparse-transformers/), [data](https://huggingface.co/datasets/zeroshot/twitter-financial-news-sentiment), ??) - 12k tweets labeled 0-2 on sentiment for financial entities\n",
    "* `mteb/tweet-sentiment-extraction` ([paper](https://www.kaggle.com/competitions/tweet-sentiment-extraction), [data](https://huggingface.co/datasets/mteb/tweet_sentiment_extraction), ??) - 30k tweets with sentiment (0-2)\n",
    "* `mteb/amazon_polarity` ([paper](https://dl.acm.org/doi/10.1145/2507157.2507163), [data](https://huggingface.co/datasets/mteb/amazon_polarity), 2013) - 4M Amazon reviews of various products with sentiment labeled 0-1\n",
    "* `mteb/amazon_reviews` ([paper](https://dl.acm.org/doi/10.1145/2507157.2507163), [data](https://huggingface.co/datasets/mteb/amazon_reviews_multi), 2013) - 1.2M Amazon reviews of various products with sentiment labeled 0-4 (multiple languages, 210k examples each)\n",
    "* `mteb/imdb` ([paper](Maas et al), [data](https://huggingface.co/datasets/mteb/imdb), 2011) - IMDB reviews of various movies with sentiment labeled 0-1\n",
    "* amazon_us_reviews - contains product, but unfortunately no longer available\n"
   ]
  },
  {
   "cell_type": "code",
   "execution_count": 1,
   "metadata": {},
   "outputs": [
    {
     "name": "stderr",
     "output_type": "stream",
     "text": [
      "/home/kevin/mambaforge/envs/measurelm2/lib/python3.10/site-packages/tqdm/auto.py:21: TqdmWarning: IProgress not found. Please update jupyter and ipywidgets. See https://ipywidgets.readthedocs.io/en/stable/user_install.html\n",
      "  from .autonotebook import tqdm as notebook_tqdm\n",
      "Using the latest cached version of the module from /home/kevin/.cache/huggingface/modules/datasets_modules/datasets/trivia_qa/ee76d8a9403e71177e2a3fa7e414d1ee28a79a0970d9176f62f268798aa64b31 (last modified on Fri Nov 24 16:44:19 2023) since it couldn't be found locally at trivia_qa., or remotely on the Hugging Face Hub.\n"
     ]
    }
   ],
   "source": [
    "from datasets import load_dataset\n",
    "\n",
    "dataset = load_dataset(\"trivia_qa\", \"rc\", streaming=True)"
   ]
  },
  {
   "cell_type": "code",
   "execution_count": 2,
   "metadata": {},
   "outputs": [],
   "source": [
    "# for i in dataset[\"train\"].iter(10):\n",
    "#     print(i)"
   ]
  },
  {
   "cell_type": "code",
   "execution_count": 3,
   "metadata": {},
   "outputs": [],
   "source": [
    "import yaml\n",
    "with open('toy_movie_reviews.yaml', 'r') as file:\n",
    "    review_adjs = yaml.safe_load(file)"
   ]
  },
  {
   "cell_type": "code",
   "execution_count": 4,
   "metadata": {},
   "outputs": [],
   "source": [
    "pos_adjs_train = review_adjs[\"positive_adjectives_train\"]\n",
    "neg_adjs_train = review_adjs[\"negative_adjectives_train\"]\n",
    "\n",
    "pos_verbs = review_adjs[\"positive_verbs\"]\n",
    "neg_verbs = review_adjs[\"negative_verbs\"]\n"
   ]
  },
  {
   "cell_type": "code",
   "execution_count": 5,
   "metadata": {},
   "outputs": [
    {
     "name": "stderr",
     "output_type": "stream",
     "text": [
      "/tmp/ipykernel_29502/304678045.py:3: DtypeWarning: Columns (10) have mixed types. Specify dtype option on import or set low_memory=False.\n",
      "  movies = pd.read_csv(\"movies_metadata.csv\") # https://www.kaggle.com/datasets/rounakbanik/the-movies-dataset?select=movies_metadata.csv\n"
     ]
    }
   ],
   "source": [
    "from itertools import product\n",
    "import pandas as pd\n",
    "movies = pd.read_csv(\"movies_metadata.csv\") # https://www.kaggle.com/datasets/rounakbanik/the-movies-dataset?select=movies_metadata.csv\n",
    "movies = movies[[\"title\", \"vote_count\", \"popularity\"]].dropna().sort_values(by=\"vote_count\")\n",
    "movies[\"popularity\"] = movies[\"popularity\"].astype(float)\n",
    "movies_sample = pd.concat([movies.iloc[:250], movies.iloc[-250:]], axis=0)"
   ]
  },
  {
   "cell_type": "code",
   "execution_count": 6,
   "metadata": {},
   "outputs": [
    {
     "data": {
      "text/html": [
       "<div>\n",
       "<style scoped>\n",
       "    .dataframe tbody tr th:only-of-type {\n",
       "        vertical-align: middle;\n",
       "    }\n",
       "\n",
       "    .dataframe tbody tr th {\n",
       "        vertical-align: top;\n",
       "    }\n",
       "\n",
       "    .dataframe thead th {\n",
       "        text-align: right;\n",
       "    }\n",
       "</style>\n",
       "<table border=\"1\" class=\"dataframe\">\n",
       "  <thead>\n",
       "    <tr style=\"text-align: right;\">\n",
       "      <th></th>\n",
       "      <th>title</th>\n",
       "      <th>vote_count</th>\n",
       "      <th>popularity</th>\n",
       "    </tr>\n",
       "  </thead>\n",
       "  <tbody>\n",
       "    <tr>\n",
       "      <th>45416</th>\n",
       "      <td>Whiffles, Cubic Artist</td>\n",
       "      <td>0.0</td>\n",
       "      <td>0.003732</td>\n",
       "    </tr>\n",
       "    <tr>\n",
       "      <th>45377</th>\n",
       "      <td>Simbad e il califfo di Bagdad</td>\n",
       "      <td>0.0</td>\n",
       "      <td>0.006352</td>\n",
       "    </tr>\n",
       "    <tr>\n",
       "      <th>107</th>\n",
       "      <td>Headless Body in Topless Bar</td>\n",
       "      <td>0.0</td>\n",
       "      <td>0.001346</td>\n",
       "    </tr>\n",
       "    <tr>\n",
       "      <th>126</th>\n",
       "      <td>Jupiter's Wife</td>\n",
       "      <td>0.0</td>\n",
       "      <td>0.001178</td>\n",
       "    </tr>\n",
       "    <tr>\n",
       "      <th>132</th>\n",
       "      <td>Sonic Outlaws</td>\n",
       "      <td>0.0</td>\n",
       "      <td>0.001838</td>\n",
       "    </tr>\n",
       "    <tr>\n",
       "      <th>...</th>\n",
       "      <td>...</td>\n",
       "      <td>...</td>\n",
       "      <td>...</td>\n",
       "    </tr>\n",
       "    <tr>\n",
       "      <th>26564</th>\n",
       "      <td>Deadpool</td>\n",
       "      <td>11444.0</td>\n",
       "      <td>187.860492</td>\n",
       "    </tr>\n",
       "    <tr>\n",
       "      <th>17818</th>\n",
       "      <td>The Avengers</td>\n",
       "      <td>12000.0</td>\n",
       "      <td>89.887648</td>\n",
       "    </tr>\n",
       "    <tr>\n",
       "      <th>14551</th>\n",
       "      <td>Avatar</td>\n",
       "      <td>12114.0</td>\n",
       "      <td>185.070892</td>\n",
       "    </tr>\n",
       "    <tr>\n",
       "      <th>12481</th>\n",
       "      <td>The Dark Knight</td>\n",
       "      <td>12269.0</td>\n",
       "      <td>123.167259</td>\n",
       "    </tr>\n",
       "    <tr>\n",
       "      <th>15480</th>\n",
       "      <td>Inception</td>\n",
       "      <td>14075.0</td>\n",
       "      <td>29.108149</td>\n",
       "    </tr>\n",
       "  </tbody>\n",
       "</table>\n",
       "<p>500 rows × 3 columns</p>\n",
       "</div>"
      ],
      "text/plain": [
       "                               title  vote_count  popularity\n",
       "45416         Whiffles, Cubic Artist         0.0    0.003732\n",
       "45377  Simbad e il califfo di Bagdad         0.0    0.006352\n",
       "107     Headless Body in Topless Bar         0.0    0.001346\n",
       "126                   Jupiter's Wife         0.0    0.001178\n",
       "132                    Sonic Outlaws         0.0    0.001838\n",
       "...                              ...         ...         ...\n",
       "26564                       Deadpool     11444.0  187.860492\n",
       "17818                   The Avengers     12000.0   89.887648\n",
       "14551                         Avatar     12114.0  185.070892\n",
       "12481                The Dark Knight     12269.0  123.167259\n",
       "15480                      Inception     14075.0   29.108149\n",
       "\n",
       "[500 rows x 3 columns]"
      ]
     },
     "execution_count": 6,
     "metadata": {},
     "output_type": "execute_result"
    }
   ],
   "source": [
    "movies_sample"
   ]
  },
  {
   "cell_type": "code",
   "execution_count": 7,
   "metadata": {},
   "outputs": [
    {
     "data": {
      "text/plain": [
       "<Axes: xlabel='vote_count', ylabel='popularity'>"
      ]
     },
     "execution_count": 7,
     "metadata": {},
     "output_type": "execute_result"
    },
    {
     "data": {
      "image/png": "[encoded data removed]",
      "text/plain": [
       "<Figure size 640x480 with 1 Axes>"
      ]
     },
     "metadata": {},
     "output_type": "display_data"
    }
   ],
   "source": [
    "# WHETHER TO USE VOTE COUNT OR POPULARITY\n",
    "\n",
    "# movies.sort_values(by=\"popularity\").tail(50)\n",
    "# movies.sort_values(by=\"vote_count\").tail(50)\n",
    "import seaborn as sns\n",
    "sns.regplot(data=movies, x=\"vote_count\", y=\"popularity\")"
   ]
  },
  {
   "cell_type": "code",
   "execution_count": 8,
   "metadata": {},
   "outputs": [],
   "source": [
    "template = \"Here's a review for the movie '{}': I thought this movie was {}, I {} it.\\nConclusion: This movie is\"\n",
    "template.format(movies_sample[\"title\"].iloc[0], pos_adjs_train[0], pos_verbs[0])\n",
    "movies_sample[\"sentence\"] = movies_sample[\"title\"].apply(lambda title: template.format(title, pos_adjs_train[0], pos_verbs[0])) \n"
   ]
  },
  {
   "cell_type": "code",
   "execution_count": 9,
   "metadata": {},
   "outputs": [
    {
     "name": "stdout",
     "output_type": "stream",
     "text": [
      "Number of positive contexts:  72\n",
      "Number of negative contexts:  72\n",
      "[\"Here's a movie review: 'The movie was perfect and I enjoyed it'. \", \"Here's a movie review: 'The movie was cheerful and I loved it'. \", \"Here's a movie review: 'The movie was satisfactory and I liked it'. \", \"Here's a movie review: 'The movie was outstanding and I enjoyed it'. \", \"Here's a movie review: 'The movie was exceptional and I loved it'. \", \"Here's a movie review: 'The movie was extraordinary and I liked it'. \", \"Here's a movie review: 'The movie was brilliant and I enjoyed it'. \", \"Here's a movie review: 'The movie was superb and I loved it'. \", \"Here's a movie review: 'The movie was dull and I despised it'. \", \"Here's a movie review: 'The movie was nasty and I hated it'. \", \"Here's a movie review: 'The movie was terrible and I disliked it'. \", \"Here's a movie review: 'The movie was disastrous and I despised it'. \", \"Here's a movie review: 'The movie was frustrating and I hated it'. \", \"Here's a movie review: 'The movie was dire and I disliked it'. \", \"Here's a movie review: 'The movie was disappointing and I despised it'. \"]\n"
     ]
    }
   ],
   "source": [
    "context_template = \"Here's a movie review: 'The movie was {} and I {} it'. \"\n",
    "num_adjs = min(len(pos_adjs_train), len(neg_adjs_train))\n",
    "num_verbs = min(len(pos_verbs), len(neg_verbs))\n",
    "\n",
    "pos_contexts = [context_template.format(adj, verb) for (adj, verb) in product(pos_adjs_train[:num_adjs], pos_verbs[:num_verbs])]\n",
    "neg_contexts = [context_template.format(adj, verb) for (adj, verb) in product(neg_adjs_train[:num_adjs], neg_verbs[:num_verbs])]\n",
    "contexts = pos_contexts + neg_contexts\n",
    "\n",
    "print(\"Number of positive contexts: \", len(pos_contexts))\n",
    "print(\"Number of negative contexts: \", len(neg_contexts))\n",
    "print(contexts[::10])"
   ]
  },
  {
   "cell_type": "code",
   "execution_count": 10,
   "metadata": {},
   "outputs": [],
   "source": [
    "def format_query(query, entity, context, prefix=\"\"):\n",
    "    return prefix + context + query.format(entity)"
   ]
  },
  {
   "cell_type": "code",
   "execution_count": 11,
   "metadata": {},
   "outputs": [],
   "source": [
    "# from functools import partial\n",
    "# def fill_in_template(template: str, title: str, adj: str, verb: str):\n",
    "#     return template.format(title, adj, verb)\n",
    "\n",
    "# pos_template_partial = partial(fill_in_template, template=template, verb=pos_verbs[0])\n",
    "# neg_template_partial = partial(fill_in_template, template=template, verb=neg_verbs[0])\n",
    "\n",
    "# for adj in pos_adjs_train:\n",
    "#     movies_sample[f\"pos_{adj}_context\"] = movies_sample[\"title\"].apply(lambda title: pos_template_partial(title=title, adj=adj))\n",
    "\n",
    "# for adj in neg_adjs_train:\n",
    "#     movies_sample[f\"neg_{adj}_context\"] = movies_sample[\"title\"].apply(lambda title: neg_template_partial(title=title, adj=adj))"
   ]
  },
  {
   "cell_type": "code",
   "execution_count": 12,
   "metadata": {},
   "outputs": [
    {
     "data": {
      "text/html": [
       "<div>\n",
       "<style scoped>\n",
       "    .dataframe tbody tr th:only-of-type {\n",
       "        vertical-align: middle;\n",
       "    }\n",
       "\n",
       "    .dataframe tbody tr th {\n",
       "        vertical-align: top;\n",
       "    }\n",
       "\n",
       "    .dataframe thead th {\n",
       "        text-align: right;\n",
       "    }\n",
       "</style>\n",
       "<table border=\"1\" class=\"dataframe\">\n",
       "  <thead>\n",
       "    <tr style=\"text-align: right;\">\n",
       "      <th></th>\n",
       "      <th>title</th>\n",
       "      <th>vote_count</th>\n",
       "      <th>popularity</th>\n",
       "      <th>sentence</th>\n",
       "    </tr>\n",
       "  </thead>\n",
       "  <tbody>\n",
       "    <tr>\n",
       "      <th>45416</th>\n",
       "      <td>Whiffles, Cubic Artist</td>\n",
       "      <td>0.0</td>\n",
       "      <td>0.003732</td>\n",
       "      <td>Here's a review for the movie 'Whiffles, Cubic...</td>\n",
       "    </tr>\n",
       "    <tr>\n",
       "      <th>45377</th>\n",
       "      <td>Simbad e il califfo di Bagdad</td>\n",
       "      <td>0.0</td>\n",
       "      <td>0.006352</td>\n",
       "      <td>Here's a review for the movie 'Simbad e il cal...</td>\n",
       "    </tr>\n",
       "    <tr>\n",
       "      <th>107</th>\n",
       "      <td>Headless Body in Topless Bar</td>\n",
       "      <td>0.0</td>\n",
       "      <td>0.001346</td>\n",
       "      <td>Here's a review for the movie 'Headless Body i...</td>\n",
       "    </tr>\n",
       "    <tr>\n",
       "      <th>126</th>\n",
       "      <td>Jupiter's Wife</td>\n",
       "      <td>0.0</td>\n",
       "      <td>0.001178</td>\n",
       "      <td>Here's a review for the movie 'Jupiter's Wife'...</td>\n",
       "    </tr>\n",
       "    <tr>\n",
       "      <th>132</th>\n",
       "      <td>Sonic Outlaws</td>\n",
       "      <td>0.0</td>\n",
       "      <td>0.001838</td>\n",
       "      <td>Here's a review for the movie 'Sonic Outlaws':...</td>\n",
       "    </tr>\n",
       "  </tbody>\n",
       "</table>\n",
       "</div>"
      ],
      "text/plain": [
       "                               title  vote_count  popularity  \\\n",
       "45416         Whiffles, Cubic Artist         0.0    0.003732   \n",
       "45377  Simbad e il califfo di Bagdad         0.0    0.006352   \n",
       "107     Headless Body in Topless Bar         0.0    0.001346   \n",
       "126                   Jupiter's Wife         0.0    0.001178   \n",
       "132                    Sonic Outlaws         0.0    0.001838   \n",
       "\n",
       "                                                sentence  \n",
       "45416  Here's a review for the movie 'Whiffles, Cubic...  \n",
       "45377  Here's a review for the movie 'Simbad e il cal...  \n",
       "107    Here's a review for the movie 'Headless Body i...  \n",
       "126    Here's a review for the movie 'Jupiter's Wife'...  \n",
       "132    Here's a review for the movie 'Sonic Outlaws':...  "
      ]
     },
     "execution_count": 12,
     "metadata": {},
     "output_type": "execute_result"
    }
   ],
   "source": [
    "movies_sample.head()"
   ]
  },
  {
   "cell_type": "code",
   "execution_count": 13,
   "metadata": {},
   "outputs": [
    {
     "name": "stderr",
     "output_type": "stream",
     "text": [
      "/home/kevin/mambaforge/envs/measurelm2/lib/python3.10/site-packages/torch/cuda/__init__.py:107: UserWarning: CUDA initialization: CUDA unknown error - this may be due to an incorrectly set up environment, e.g. changing env variable CUDA_VISIBLE_DEVICES after program start. Setting the available devices to be zero. (Triggered internally at /home/conda/feedstock_root/build_artifacts/pytorch-recipe_1696770056690/work/c10/cuda/CUDAFunctions.cpp:109.)\n",
      "  return torch._C._cuda_getDeviceCount() > 0\n",
      "Setting `pad_token_id` to `eos_token_id`:0 for open-end generation.\n",
      "/home/kevin/mambaforge/envs/measurelm2/lib/python3.10/site-packages/transformers/generation/utils.py:1273: UserWarning: Using the model-agnostic default `max_length` (=20) to control the generation length. We recommend setting `max_new_tokens` to control the maximum length of the generation.\n",
      "  warnings.warn(\n",
      "/home/kevin/mambaforge/envs/measurelm2/lib/python3.10/site-packages/transformers/generation/utils.py:1281: UserWarning: Input length of input_ids is 43, but `max_length` is set to 20. This can lead to unexpected behavior. You should consider increasing `max_new_tokens`.\n",
      "  warnings.warn(\n"
     ]
    },
    {
     "name": "stdout",
     "output_type": "stream",
     "text": [
      "tensor(0.6466, grad_fn=<AddBackward0>)\n"
     ]
    },
    {
     "name": "stderr",
     "output_type": "stream",
     "text": [
      "/tmp/ipykernel_29502/1443869646.py:26: UserWarning: Implicit dimension choice for softmax has been deprecated. Change the call to include dim=X as an argument.\n",
      "  probs, top_tokens = torch.topk(torch.nn.functional.softmax(model(**inputs).logits[0, -1]), k=10)\n"
     ]
    },
    {
     "data": {
      "text/plain": [
       "'\\n��iced001icky........icing�002'"
      ]
     },
     "execution_count": 13,
     "metadata": {},
     "output_type": "execute_result"
    }
   ],
   "source": [
    "from transformers import GPTNeoXForCausalLM, AutoTokenizer\n",
    "import torch\n",
    "\n",
    "device = \"cuda\" if torch.cuda.is_available() else \"cpu\"\n",
    "model_name = \"EleutherAI/pythia-70m-deduped\"\n",
    "\n",
    "\n",
    "model = GPTNeoXForCausalLM.from_pretrained(\n",
    "  model_name,\n",
    "  # load_in_8bit=True,\n",
    "  # revision=\"step3000\",\n",
    "  # cache_dir=\"./pythia-70m-deduped/step3000\",\n",
    ").to(device)\n",
    "\n",
    "tokenizer = AutoTokenizer.from_pretrained(\n",
    "  model_name,\n",
    "  padding_side=\"left\",\n",
    "  # revision=\"step3000\",\n",
    "  # cache_dir=\"./pythia-70m-deduped/step3000\",\n",
    ")\n",
    "\n",
    "query = \"On a scale from 1 to 5 stars, the quality of this movie, '{}', is rated \"\n",
    "inputs = tokenizer(format_query(query=query, entity=movies_sample.iloc[0][\"title\"], context=contexts[0]), return_tensors=\"pt\").to(device)\n",
    "# inputs = tokenizer(movies_sample.iloc[0][\"sentence\"], return_tensors=\"pt\").to(device)\n",
    "tokens = model.generate(**inputs)\n",
    "probs, top_tokens = torch.topk(torch.nn.functional.softmax(model(**inputs).logits[0, -1]), k=10)\n",
    "print(sum(probs))\n",
    "tokenizer.decode(top_tokens)\n",
    "# print(tokens)\n",
    "# tokenizer.decode(tokens[0])\n"
   ]
  },
  {
   "cell_type": "code",
   "execution_count": 14,
   "metadata": {},
   "outputs": [],
   "source": [
    "# 1. Approximate x ∈ Σ∗ with a set of contexts from a dataset\n",
    "# 2. Approximate p(y|x, q[e]) with monte carlo samples of y given x and q[e].\n",
    "# 3. Approximate p(y|q[e]) with monte carlo samples of x.\n",
    "# 4. Approximate p(x) with samples from a corpus (empirical distribution), but meaning/interpretation is complicated.\n",
    "# Run a model on each of these sentences and get a score\n",
    "from typing import List\n",
    "import numpy as np\n",
    "import math\n",
    "\n",
    "def estimate_prob_x_given_e(entity: str, contexts: List[str]):\n",
    "    \"\"\"\n",
    "    Returns a (len(contexts),) nparray containing the probability of each context.\n",
    "    \"\"\"\n",
    "    return np.ones(len(contexts)) / len(contexts) \n",
    "\n",
    "def estimate_prob_next_word_given_x_and_entity(query, entity: str, contexts: List[str], model: GPTNeoXForCausalLM, tokenizer: AutoTokenizer, bs=32):\n",
    "    \"\"\"\n",
    "    Args:\n",
    "        entity: str - the entity of interest\n",
    "        contexts: List[str] - list of contexts appended to the query regarding entity\n",
    "\n",
    "    Returns:\n",
    "      samples - a list of torch longtensors of shape (num_samples, max_length) with length len(contexts)\n",
    "      possible_outputs - a dict mapping from all observed outputs to its unique index.\n",
    "    \"\"\"\n",
    "    complete_queries = [format_query(query, entity, context) for context in contexts]\n",
    "\n",
    "    if tokenizer.padding_side != \"left\":\n",
    "        raise ValueError(f\"Expected tokenizer {tokenizer} to have padding side of `left` for batch generation, instead has padding side of `{tokenizer.padding_side}`. Please make sure you initialize the tokenizer to use left padding.\")\n",
    "    \n",
    "    if tokenizer.pad_token is None:\n",
    "      tokenizer.pad_token = tokenizer.eos_token\n",
    "\n",
    "    if model.config.pad_token_id != model.config.eos_token_id:\n",
    "      print(\"Setting model.config.pad_token_id to model.config.eos_token_id\")\n",
    "      model.config.pad_token_id = model.config.eos_token_id\n",
    "\n",
    "\n",
    "    num_batches = math.ceil(len(complete_queries) / bs)\n",
    "    last_word_logits = torch.zeros(len(complete_queries), model.config.vocab_size, device=model.device)\n",
    "    for b in range(num_batches):\n",
    "        start, end = b * bs, min((b + 1) * bs, len(complete_queries))\n",
    "        tokens = tokenizer(complete_queries[start: end], padding=True, return_tensors=\"pt\").to(model.device) # shape: (len(contexts), max_context_width)\n",
    "        logits = model(**tokens)[\"logits\"] # shape: (len(contexts), mcw, vocab_sz)\n",
    "        last_word_logits_batch = logits[:, -1, :] # shape: (len(contexts), vocab_sz)\n",
    "        last_word_logits[start: end] = last_word_logits_batch\n",
    "\n",
    "    last_word_probs = torch.nn.functional.softmax(last_word_logits, dim=1) # shape: (len(contexts, vocab_sz))\n",
    "    # print(last_word_probs.shape)\n",
    "    # print(torch.sum(last_word_probs, dim=1)[1].item())\n",
    "\n",
    "    return last_word_probs.cpu().detach().numpy()\n",
    "\n",
    "def estimate_prob_y_given_context_and_entity(\n",
    "        query:str, \n",
    "        entity: str, \n",
    "        contexts: List[str], \n",
    "        model: GPTNeoXForCausalLM, \n",
    "        tokenizer: AutoTokenizer, \n",
    "        num_samples=None,\n",
    "        max_output_length=1,\n",
    "    ):\n",
    "    \"\"\"\n",
    "    Args:\n",
    "        output_samples - a list of sampled outputs from the model given the context and entity. \n",
    "                         Outputs need not be unique.\n",
    "\n",
    "    Returns:\n",
    "        a (len(set(output_samples)),) nparray containing the probability of each output.\n",
    "    \"\"\"\n",
    "    if max_output_length > 1 and num_samples is None:\n",
    "        raise ValueError(\"Estimating p(y | x, q[e]) for outputs y with length >1 requires sampling. Please specify a value for num_samples.\")\n",
    "\n",
    "    if num_samples is not None:\n",
    "        return sample_y_given_x_and_entity(\n",
    "            query=query, \n",
    "            entity=entity, \n",
    "            contexts=contexts, \n",
    "            model=model, \n",
    "            tokenizer=tokenizer, \n",
    "            num_samples=num_samples,\n",
    "            max_output_length=max_output_length,\n",
    "        )\n",
    "\n",
    "    return estimate_prob_next_word_given_x_and_entity(            \n",
    "        query=query, \n",
    "        entity=entity, \n",
    "        contexts=contexts, \n",
    "        model=model, \n",
    "        tokenizer=tokenizer, \n",
    "    )\n",
    "    \n",
    "\n",
    "def sample_y_given_x_and_entity(query, entity: str, contexts: List[str], model: GPTNeoXForCausalLM, tokenizer: AutoTokenizer, num_samples=1000):\n",
    "    \"\"\"\n",
    "    Args:\n",
    "        entity: str - the entity of interest\n",
    "        contexts: List[str] - list of contexts appended to the query regarding entity\n",
    "    \"\"\"\n",
    "    raise NotImplementedError()\n",
    "\n",
    "\n",
    "def estimate_cmi(query, entity, contexts, model, tokenizer): \n",
    "    \"\"\"\n",
    "    Computes the conditional mutual information I(X; Y | q[e]) of answer Y and context X when conditioned on query regarding entity e.\n",
    "\n",
    "    I(X; Y | q[e]) = \\sum_{x \\in X} \\sum_{y \\in Y} (p(x, y | q[e]) * log(p(y | x, q[e]) / p(y | q[e])))\n",
    "\n",
    "    So we need to monte carlo estimate:\n",
    "        (1) p(y | x, q[e])                                             , shape: (|X|, |Y|)\n",
    "        (2) p(x | q[e])                                                , shape: (|X|,)\n",
    "        (3) p(x, y | q[e]) = p(y | x, q[e]) * p(x | q[e])              , shape: (|X|, |Y|)\n",
    "        (4) p(y | q[e]) = \\sum_{x \\in X} (p(y | x, q[e]) * p(x | q[e])), shape: (|Y|,)\n",
    "    \"\"\"\n",
    "    prob_x_given_e = estimate_prob_x_given_e(entity, contexts) # shape: (|X|,)\n",
    "    # output_samples = sample_y_given_x_and_entity(query, entity, contexts, model, tokenizer) # shape: (|X|,)\n",
    "    prob_y_given_context_and_entity = estimate_prob_y_given_context_and_entity(query, entity, contexts, model, tokenizer) # shape: (|X|, |Y|)\n",
    "\n",
    "    prob_x_y_given_e = np.einsum(\"ij, i -> ij\", prob_y_given_context_and_entity, prob_x_given_e) # shape: (|X|, |Y|)\n",
    "    prob_y_given_e = np.einsum(\"ij, i -> j\", prob_y_given_context_and_entity, prob_x_given_e) # shape: (|Y|,)\n",
    "    \n",
    "    return np.sum(prob_x_y_given_e * np.nan_to_num(np.log(prob_y_given_context_and_entity / prob_y_given_e)))"
   ]
  },
  {
   "cell_type": "code",
   "execution_count": 15,
   "metadata": {},
   "outputs": [
    {
     "name": "stderr",
     "output_type": "stream",
     "text": [
      "  0%|          | 0/500 [00:00<?, ?it/s]"
     ]
    },
    {
     "name": "stdout",
     "output_type": "stream",
     "text": [
      "Setting model.config.pad_token_id to model.config.eos_token_id\n"
     ]
    }
   ],
   "source": [
    "query = \"On a scale from 1 to 5 stars, the quality of this movie, '{}', is rated \"\n",
    "from tqdm import tqdm\n",
    "tqdm.pandas()\n",
    "movies_sample[\"susceptibility_score\"] = movies_sample[\"title\"].progress_apply(lambda e: estimate_cmi(query=query, entity=e, contexts=contexts, model=model, tokenizer=tokenizer))"
   ]
  },
  {
   "cell_type": "code",
   "execution_count": null,
   "metadata": {},
   "outputs": [
    {
     "data": {
      "text/plain": [
       "susceptibility_score\n",
       "0.007402    2\n",
       "0.005801    1\n",
       "0.005799    1\n",
       "0.005785    1\n",
       "0.005782    1\n",
       "           ..\n",
       "0.005150    1\n",
       "0.005146    1\n",
       "0.005144    1\n",
       "0.005141    1\n",
       "0.005192    1\n",
       "Name: count, Length: 499, dtype: int64"
      ]
     },
     "execution_count": 22,
     "metadata": {},
     "output_type": "execute_result"
    }
   ],
   "source": [
    "movies_sample.value_counts(\"susceptibility_score\")"
   ]
  },
  {
   "cell_type": "code",
   "execution_count": null,
   "metadata": {},
   "outputs": [
    {
     "data": {
      "text/html": [
       "<div>\n",
       "<style scoped>\n",
       "    .dataframe tbody tr th:only-of-type {\n",
       "        vertical-align: middle;\n",
       "    }\n",
       "\n",
       "    .dataframe tbody tr th {\n",
       "        vertical-align: top;\n",
       "    }\n",
       "\n",
       "    .dataframe thead th {\n",
       "        text-align: right;\n",
       "    }\n",
       "</style>\n",
       "<table border=\"1\" class=\"dataframe\">\n",
       "  <thead>\n",
       "    <tr style=\"text-align: right;\">\n",
       "      <th></th>\n",
       "      <th>title</th>\n",
       "      <th>vote_count</th>\n",
       "      <th>popularity</th>\n",
       "      <th>sentence</th>\n",
       "      <th>susceptibility_score</th>\n",
       "    </tr>\n",
       "  </thead>\n",
       "  <tbody>\n",
       "    <tr>\n",
       "      <th>45416</th>\n",
       "      <td>Whiffles, Cubic Artist</td>\n",
       "      <td>0.0</td>\n",
       "      <td>0.003732</td>\n",
       "      <td>Here's a review for the movie 'Whiffles, Cubic...</td>\n",
       "      <td>0.005601</td>\n",
       "    </tr>\n",
       "    <tr>\n",
       "      <th>45377</th>\n",
       "      <td>Simbad e il califfo di Bagdad</td>\n",
       "      <td>0.0</td>\n",
       "      <td>0.006352</td>\n",
       "      <td>Here's a review for the movie 'Simbad e il cal...</td>\n",
       "      <td>0.007200</td>\n",
       "    </tr>\n",
       "    <tr>\n",
       "      <th>107</th>\n",
       "      <td>Headless Body in Topless Bar</td>\n",
       "      <td>0.0</td>\n",
       "      <td>0.001346</td>\n",
       "      <td>Here's a review for the movie 'Headless Body i...</td>\n",
       "      <td>0.005221</td>\n",
       "    </tr>\n",
       "    <tr>\n",
       "      <th>126</th>\n",
       "      <td>Jupiter's Wife</td>\n",
       "      <td>0.0</td>\n",
       "      <td>0.001178</td>\n",
       "      <td>Here's a review for the movie 'Jupiter's Wife'...</td>\n",
       "      <td>0.006742</td>\n",
       "    </tr>\n",
       "    <tr>\n",
       "      <th>132</th>\n",
       "      <td>Sonic Outlaws</td>\n",
       "      <td>0.0</td>\n",
       "      <td>0.001838</td>\n",
       "      <td>Here's a review for the movie 'Sonic Outlaws':...</td>\n",
       "      <td>0.005031</td>\n",
       "    </tr>\n",
       "    <tr>\n",
       "      <th>...</th>\n",
       "      <td>...</td>\n",
       "      <td>...</td>\n",
       "      <td>...</td>\n",
       "      <td>...</td>\n",
       "      <td>...</td>\n",
       "    </tr>\n",
       "    <tr>\n",
       "      <th>26564</th>\n",
       "      <td>Deadpool</td>\n",
       "      <td>11444.0</td>\n",
       "      <td>187.860492</td>\n",
       "      <td>Here's a review for the movie 'Deadpool': I th...</td>\n",
       "      <td>0.006200</td>\n",
       "    </tr>\n",
       "    <tr>\n",
       "      <th>17818</th>\n",
       "      <td>The Avengers</td>\n",
       "      <td>12000.0</td>\n",
       "      <td>89.887648</td>\n",
       "      <td>Here's a review for the movie 'The Avengers': ...</td>\n",
       "      <td>0.007198</td>\n",
       "    </tr>\n",
       "    <tr>\n",
       "      <th>14551</th>\n",
       "      <td>Avatar</td>\n",
       "      <td>12114.0</td>\n",
       "      <td>185.070892</td>\n",
       "      <td>Here's a review for the movie 'Avatar': I thou...</td>\n",
       "      <td>0.005439</td>\n",
       "    </tr>\n",
       "    <tr>\n",
       "      <th>12481</th>\n",
       "      <td>The Dark Knight</td>\n",
       "      <td>12269.0</td>\n",
       "      <td>123.167259</td>\n",
       "      <td>Here's a review for the movie 'The Dark Knight...</td>\n",
       "      <td>0.005530</td>\n",
       "    </tr>\n",
       "    <tr>\n",
       "      <th>15480</th>\n",
       "      <td>Inception</td>\n",
       "      <td>14075.0</td>\n",
       "      <td>29.108149</td>\n",
       "      <td>Here's a review for the movie 'Inception': I t...</td>\n",
       "      <td>0.005064</td>\n",
       "    </tr>\n",
       "  </tbody>\n",
       "</table>\n",
       "<p>500 rows × 5 columns</p>\n",
       "</div>"
      ],
      "text/plain": [
       "                               title  vote_count  popularity  \\\n",
       "45416         Whiffles, Cubic Artist         0.0    0.003732   \n",
       "45377  Simbad e il califfo di Bagdad         0.0    0.006352   \n",
       "107     Headless Body in Topless Bar         0.0    0.001346   \n",
       "126                   Jupiter's Wife         0.0    0.001178   \n",
       "132                    Sonic Outlaws         0.0    0.001838   \n",
       "...                              ...         ...         ...   \n",
       "26564                       Deadpool     11444.0  187.860492   \n",
       "17818                   The Avengers     12000.0   89.887648   \n",
       "14551                         Avatar     12114.0  185.070892   \n",
       "12481                The Dark Knight     12269.0  123.167259   \n",
       "15480                      Inception     14075.0   29.108149   \n",
       "\n",
       "                                                sentence  susceptibility_score  \n",
       "45416  Here's a review for the movie 'Whiffles, Cubic...              0.005601  \n",
       "45377  Here's a review for the movie 'Simbad e il cal...              0.007200  \n",
       "107    Here's a review for the movie 'Headless Body i...              0.005221  \n",
       "126    Here's a review for the movie 'Jupiter's Wife'...              0.006742  \n",
       "132    Here's a review for the movie 'Sonic Outlaws':...              0.005031  \n",
       "...                                                  ...                   ...  \n",
       "26564  Here's a review for the movie 'Deadpool': I th...              0.006200  \n",
       "17818  Here's a review for the movie 'The Avengers': ...              0.007198  \n",
       "14551  Here's a review for the movie 'Avatar': I thou...              0.005439  \n",
       "12481  Here's a review for the movie 'The Dark Knight...              0.005530  \n",
       "15480  Here's a review for the movie 'Inception': I t...              0.005064  \n",
       "\n",
       "[500 rows x 5 columns]"
      ]
     },
     "execution_count": 23,
     "metadata": {},
     "output_type": "execute_result"
    }
   ],
   "source": [
    "movies_sample"
   ]
  },
  {
   "cell_type": "code",
   "execution_count": null,
   "metadata": {},
   "outputs": [
    {
     "data": {
      "text/plain": [
       "<Axes: xlabel='vote_count', ylabel='susceptibility_score'>"
      ]
     },
     "execution_count": 28,
     "metadata": {},
     "output_type": "execute_result"
    },
    {
     "data": {
      "image/png": "[encoded data removed]",
      "text/plain": [
       "<Figure size 640x480 with 1 Axes>"
      ]
     },
     "metadata": {},
     "output_type": "display_data"
    }
   ],
   "source": [
    "sns.regplot(data=movies_sample, x=\"vote_count\", y=\"susceptibility_score\")"
   ]
  },
  {
   "cell_type": "code",
   "execution_count": null,
   "metadata": {},
   "outputs": [],
   "source": []
  }
 ],
 "metadata": {
  "kernelspec": {
   "display_name": "measurelm2",
   "language": "python",
   "name": "python3"
  },
  "language_info": {
   "codemirror_mode": {
    "name": "ipython",
    "version": 3
   },
   "file_extension": ".py",
   "mimetype": "text/x-python",
   "name": "python",
   "nbconvert_exporter": "python",
   "pygments_lexer": "ipython3",
   "version": "3.10.13"
  }
 },
 "nbformat": 4,
 "nbformat_minor": 2
}
