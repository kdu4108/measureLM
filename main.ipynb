{
 "cells": [
  {
   "attachments": {},
   "cell_type": "markdown",
   "metadata": {},
   "source": [
    "# Susceptibility Scores\n",
    "A notebook for initial exploration."
   ]
  },
  {
   "cell_type": "code",
   "execution_count": 1,
   "metadata": {},
   "outputs": [],
   "source": [
    "%load_ext autoreload\n",
    "%autoreload 2\n",
    "%load_ext lab_black"
   ]
  },
  {
   "cell_type": "code",
   "execution_count": 2,
   "metadata": {},
   "outputs": [
    {
     "name": "stderr",
     "output_type": "stream",
     "text": [
      "/home/kevin/mambaforge/envs/measurelm2/lib/python3.10/site-packages/tqdm/auto.py:21: TqdmWarning: IProgress not found. Please update jupyter and ipywidgets. See https://ipywidgets.readthedocs.io/en/stable/user_install.html\n",
      "  from .autonotebook import tqdm as notebook_tqdm\n"
     ]
    }
   ],
   "source": [
    "import os\n",
    "import sys\n",
    "import math\n",
    "import random\n",
    "from itertools import product\n",
    "from tqdm import tqdm\n",
    "import yaml\n",
    "\n",
    "import pandas as pd\n",
    "import seaborn as sns\n",
    "from transformers import GPTNeoXForCausalLM, AutoTokenizer\n",
    "import torch\n",
    "from typing import List\n",
    "import numpy as np\n",
    "import wandb\n",
    "\n",
    "import statsmodels.api as sm\n",
    "from measuring.estimate_probs import (\n",
    "    estimate_prob_y_given_context_and_entity,\n",
    "    estimate_prob_x_given_e,\n",
    "    estimate_prob_next_word_given_x_and_entity,\n",
    "    estimate_cmi,\n",
    "    score_model_for_next_word_prob,\n",
    "    create_position_ids_from_input_ids,\n",
    "    sharded_score_model,\n",
    "    estimate_entity_score,\n",
    "    kl_div,\n",
    "    difference,\n",
    "    difference_p_good_only,\n",
    "    difference_abs_val,\n",
    ")\n",
    "from preprocessing.datasets import CountryCapital"
   ]
  },
  {
   "attachments": {},
   "cell_type": "markdown",
   "metadata": {},
   "source": [
    "### Preamble"
   ]
  },
  {
   "cell_type": "code",
   "execution_count": 3,
   "metadata": {
    "tags": [
     "parameters"
    ]
   },
   "outputs": [],
   "source": [
    "##################\n",
    "### Parameters ###\n",
    "##################\n",
    "\n",
    "# Data parameters\n",
    "SEED = 0\n",
    "DATASET_NAME = \"CountryCapital\"\n",
    "DATASET_KWARGS_IDENTIFIABLE = dict(\n",
    "    max_contexts=10,\n",
    "    max_entities=10,\n",
    "    raw_country_capitals_path=\"data/CountryCapital/real-fake-country-capital.csv\",\n",
    ")\n",
    "LOG_DATASETS = True\n",
    "\n",
    "# Model parameters\n",
    "MODEL_ID = \"EleutherAI/pythia-70m-deduped\"\n",
    "LOAD_IN_8BIT = False\n",
    "\n",
    "# Evaluation switches\n",
    "COMPUTE_CMI = True\n",
    "COMPUTE_KL = True\n",
    "COMPUTE_GOOD_BAD = True\n",
    "COMPUTE_GOOD_BAD_ABS = True\n",
    "COMPUTE_GOOD_BAD_P_GOOD_ONLY = True\n",
    "\n",
    "# wandb stuff\n",
    "PROJECT_NAME = \"context-vs-bias\"\n",
    "GROUP_NAME = None\n",
    "TAGS = [\"capitals\"]"
   ]
  },
  {
   "cell_type": "code",
   "execution_count": 4,
   "metadata": {},
   "outputs": [
    {
     "name": "stdout",
     "output_type": "stream",
     "text": [
      "Data dir: data/CountryCapital/CountryCapital-mc10-me10/0\n",
      "Model dir: data/CountryCapital/CountryCapital-mc10-me10/0/models/EleutherAI/pythia-70m-deduped\n"
     ]
    }
   ],
   "source": [
    "# Paths\n",
    "# Construct dataset and data ids\n",
    "# dataset = getattr(sys.modules[__name__], DATASET_NAME)(**DATASET_KWARGS_IDENTIFIABLE)\n",
    "data_id = f\"{DATASET_NAME}\"\n",
    "data_id += (\n",
    "    f\"-mc{DATASET_KWARGS_IDENTIFIABLE['max_contexts']}\"\n",
    "    if \"max_contexts\" in DATASET_KWARGS_IDENTIFIABLE\n",
    "    and DATASET_KWARGS_IDENTIFIABLE[\"max_contexts\"] is not None\n",
    "    else \"\"\n",
    ")\n",
    "data_id += (\n",
    "    f\"-me{DATASET_KWARGS_IDENTIFIABLE['max_entities']}\"\n",
    "    if \"max_entities\" in DATASET_KWARGS_IDENTIFIABLE\n",
    "    and DATASET_KWARGS_IDENTIFIABLE[\"max_entities\"] is not None\n",
    "    else \"\"\n",
    ")\n",
    "\n",
    "data_dir = os.path.join(\"data\", DATASET_NAME, data_id, f\"{SEED}\")\n",
    "input_dir = os.path.join(data_dir, \"inputs\")\n",
    "entities_path = os.path.join(input_dir, \"entities.json\")\n",
    "contexts_path = os.path.join(input_dir, \"contexts.json\")\n",
    "queries_path = os.path.join(input_dir, \"queries.json\")\n",
    "val_data_path = os.path.join(input_dir, \"val.csv\")\n",
    "DATASET_KWARGS_IDENTIFIABLE = {\n",
    "    **DATASET_KWARGS_IDENTIFIABLE,\n",
    "    **dict(\n",
    "        entities_path=entities_path,\n",
    "        contexts_path=contexts_path,\n",
    "        queries_path=queries_path,\n",
    "    ),\n",
    "}\n",
    "\n",
    "results_dir = os.path.join(data_dir, \"results\")\n",
    "val_results_path = os.path.join(results_dir, \"val.csv\")\n",
    "\n",
    "# Construct model id\n",
    "model_id = f\"{MODEL_ID}\"\n",
    "model_id += \"-8bit\" if LOAD_IN_8BIT else \"\"\n",
    "model_dir = os.path.join(data_dir, \"models\", model_id)\n",
    "\n",
    "print(f\"Data dir: {data_dir}\")\n",
    "print(f\"Model dir: {model_dir}\")"
   ]
  },
  {
   "cell_type": "code",
   "execution_count": 5,
   "metadata": {},
   "outputs": [
    {
     "name": "stderr",
     "output_type": "stream",
     "text": [
      "100%|██████████| 2/2 [00:00<00:00, 26715.31it/s]\n"
     ]
    }
   ],
   "source": [
    "os.makedirs(input_dir, exist_ok=True)\n",
    "os.makedirs(results_dir, exist_ok=True)\n",
    "os.makedirs(model_dir, exist_ok=True)\n",
    "dataset = getattr(sys.modules[__name__], DATASET_NAME)(**DATASET_KWARGS_IDENTIFIABLE)"
   ]
  },
  {
   "cell_type": "code",
   "execution_count": 6,
   "metadata": {},
   "outputs": [],
   "source": [
    "# Set random seeds\n",
    "torch.manual_seed(SEED)\n",
    "np.random.seed(SEED)\n",
    "random.seed(SEED)"
   ]
  },
  {
   "cell_type": "code",
   "execution_count": 7,
   "metadata": {},
   "outputs": [
    {
     "name": "stderr",
     "output_type": "stream",
     "text": [
      "/home/kevin/mambaforge/envs/measurelm2/lib/python3.10/site-packages/torch/cuda/__init__.py:107: UserWarning: CUDA initialization: CUDA unknown error - this may be due to an incorrectly set up environment, e.g. changing env variable CUDA_VISIBLE_DEVICES after program start. Setting the available devices to be zero. (Triggered internally at /home/conda/feedstock_root/build_artifacts/pytorch-recipe_1696770056690/work/c10/cuda/CUDAFunctions.cpp:109.)\n",
      "  return torch._C._cuda_getDeviceCount() > 0\n"
     ]
    }
   ],
   "source": [
    "# GPU stuff\n",
    "device = \"cuda\" if torch.cuda.is_available() else \"cpu\""
   ]
  },
  {
   "cell_type": "code",
   "execution_count": 8,
   "metadata": {
    "tags": []
   },
   "outputs": [
    {
     "name": "stderr",
     "output_type": "stream",
     "text": [
      "\u001b[34m\u001b[1mwandb\u001b[0m: Currently logged in as: \u001b[33mkdu\u001b[0m (\u001b[33methz-rycolab\u001b[0m). Use \u001b[1m`wandb login --relogin`\u001b[0m to force relogin\n"
     ]
    },
    {
     "data": {
      "text/html": [
       "Tracking run with wandb version 0.16.1"
      ],
      "text/plain": [
       "<IPython.core.display.HTML object>"
      ]
     },
     "metadata": {},
     "output_type": "display_data"
    },
    {
     "data": {
      "text/html": [
       "Run data is saved locally in <code>/home/kevin/code/rycolab/measureLM/wandb/run-20231211_111153-5is8oq5s</code>"
      ],
      "text/plain": [
       "<IPython.core.display.HTML object>"
      ]
     },
     "metadata": {},
     "output_type": "display_data"
    },
    {
     "data": {
      "text/html": [
       "Syncing run <strong><a href='https://wandb.ai/ethz-rycolab/context-vs-bias/runs/5is8oq5s' target=\"_blank\">smart-salad-4</a></strong> to <a href='https://wandb.ai/ethz-rycolab/context-vs-bias' target=\"_blank\">Weights & Biases</a> (<a href='https://wandb.me/run' target=\"_blank\">docs</a>)<br/>"
      ],
      "text/plain": [
       "<IPython.core.display.HTML object>"
      ]
     },
     "metadata": {},
     "output_type": "display_data"
    },
    {
     "data": {
      "text/html": [
       " View project at <a href='https://wandb.ai/ethz-rycolab/context-vs-bias' target=\"_blank\">https://wandb.ai/ethz-rycolab/context-vs-bias</a>"
      ],
      "text/plain": [
       "<IPython.core.display.HTML object>"
      ]
     },
     "metadata": {},
     "output_type": "display_data"
    },
    {
     "data": {
      "text/html": [
       " View run at <a href='https://wandb.ai/ethz-rycolab/context-vs-bias/runs/5is8oq5s' target=\"_blank\">https://wandb.ai/ethz-rycolab/context-vs-bias/runs/5is8oq5s</a>"
      ],
      "text/plain": [
       "<IPython.core.display.HTML object>"
      ]
     },
     "metadata": {},
     "output_type": "display_data"
    },
    {
     "name": "stdout",
     "output_type": "stream",
     "text": [
      "{'SEED': 0, 'DATASET_NAME': 'CountryCapital', 'DATASET_KWARGS_IDENTIFIABLE': {'max_contexts': 10, 'max_entities': 10, 'raw_country_capitals_path': 'data/CountryCapital/real-fake-country-capital.csv', 'entities_path': 'data/CountryCapital/CountryCapital-mc10-me10/0/inputs/entities.json', 'contexts_path': 'data/CountryCapital/CountryCapital-mc10-me10/0/inputs/contexts.json', 'queries_path': 'data/CountryCapital/CountryCapital-mc10-me10/0/inputs/queries.json'}, 'LOG_DATASETS': True, 'MODEL_ID': 'EleutherAI/pythia-70m-deduped', 'LOAD_IN_8BIT': False, 'COMPUTE_CMI': True, 'COMPUTE_KL': True, 'COMPUTE_GOOD_BAD': True, 'COMPUTE_GOOD_BAD_ABS': True, 'COMPUTE_GOOD_BAD_P_GOOD_ONLY': True, 'PROJECT_NAME': 'context-vs-bias', 'GROUP_NAME': None, 'TAGS': ['capitals']}\n"
     ]
    }
   ],
   "source": [
    "# wandb stuff\n",
    "os.environ[\"WANDB_NOTEBOOK_NAME\"] = os.path.join(os.getcwd(), \"main.ipynb\")\n",
    "\n",
    "params_to_log = {k: v for k, v in locals().items() if k.isupper()}\n",
    "\n",
    "run = wandb.init(\n",
    "    project=PROJECT_NAME,\n",
    "    group=GROUP_NAME,\n",
    "    config=params_to_log,\n",
    "    tags=TAGS,\n",
    "    mode=\"online\",\n",
    ")\n",
    "print(dict(wandb.config))"
   ]
  },
  {
   "attachments": {},
   "cell_type": "markdown",
   "metadata": {},
   "source": [
    "### Load Data"
   ]
  },
  {
   "cell_type": "code",
   "execution_count": 9,
   "metadata": {},
   "outputs": [
    {
     "name": "stdout",
     "output_type": "stream",
     "text": [
      "Saving datasets to data/CountryCapital/CountryCapital-mc10-me10/0/inputs.\n",
      "<class 'pandas.core.frame.DataFrame'>\n",
      "RangeIndex: 20 entries, 0 to 19\n",
      "Data columns (total 4 columns):\n",
      " #   Column      Non-Null Count  Dtype \n",
      "---  ------      --------------  ----- \n",
      " 0   q_id        20 non-null     object\n",
      " 1   query_form  20 non-null     object\n",
      " 2   entity      20 non-null     object\n",
      " 3   contexts    20 non-null     object\n",
      "dtypes: object(4)\n",
      "memory usage: 768.0+ bytes\n"
     ]
    },
    {
     "data": {
      "text/html": [
       "<div>\n",
       "<style scoped>\n",
       "    .dataframe tbody tr th:only-of-type {\n",
       "        vertical-align: middle;\n",
       "    }\n",
       "\n",
       "    .dataframe tbody tr th {\n",
       "        vertical-align: top;\n",
       "    }\n",
       "\n",
       "    .dataframe thead th {\n",
       "        text-align: right;\n",
       "    }\n",
       "</style>\n",
       "<table border=\"1\" class=\"dataframe\">\n",
       "  <thead>\n",
       "    <tr style=\"text-align: right;\">\n",
       "      <th></th>\n",
       "      <th>q_id</th>\n",
       "      <th>query_form</th>\n",
       "      <th>entity</th>\n",
       "      <th>contexts</th>\n",
       "    </tr>\n",
       "  </thead>\n",
       "  <tbody>\n",
       "    <tr>\n",
       "      <th>0</th>\n",
       "      <td>capital_of</td>\n",
       "      <td>Q: What is the capital of {}?\\nA:</td>\n",
       "      <td>Nepal</td>\n",
       "      <td>[The capital of Nepal is Chyria.\\n, The capita...</td>\n",
       "    </tr>\n",
       "    <tr>\n",
       "      <th>1</th>\n",
       "      <td>capital_of</td>\n",
       "      <td>Q: What is the capital of {}?\\nA:</td>\n",
       "      <td>Warstadt</td>\n",
       "      <td>[The capital of Nepal is Chyria.\\n, The capita...</td>\n",
       "    </tr>\n",
       "    <tr>\n",
       "      <th>2</th>\n",
       "      <td>capital_of</td>\n",
       "      <td>Q: What is the capital of {}?\\nA:</td>\n",
       "      <td>San Marino</td>\n",
       "      <td>[The capital of Nepal is Chyria.\\n, The capita...</td>\n",
       "    </tr>\n",
       "    <tr>\n",
       "      <th>3</th>\n",
       "      <td>capital_of</td>\n",
       "      <td>Q: What is the capital of {}?\\nA:</td>\n",
       "      <td>Côte d'Ivoire</td>\n",
       "      <td>[The capital of Nepal is Chyria.\\n, The capita...</td>\n",
       "    </tr>\n",
       "    <tr>\n",
       "      <th>4</th>\n",
       "      <td>capital_of</td>\n",
       "      <td>Q: What is the capital of {}?\\nA:</td>\n",
       "      <td>Lithuania</td>\n",
       "      <td>[The capital of Nepal is Chyria.\\n, The capita...</td>\n",
       "    </tr>\n",
       "  </tbody>\n",
       "</table>\n",
       "</div>"
      ],
      "text/plain": [
       "         q_id                         query_form         entity  \\\n",
       "0  capital_of  Q: What is the capital of {}?\\nA:          Nepal   \n",
       "1  capital_of  Q: What is the capital of {}?\\nA:       Warstadt   \n",
       "2  capital_of  Q: What is the capital of {}?\\nA:     San Marino   \n",
       "3  capital_of  Q: What is the capital of {}?\\nA:  Côte d'Ivoire   \n",
       "4  capital_of  Q: What is the capital of {}?\\nA:      Lithuania   \n",
       "\n",
       "                                            contexts  \n",
       "0  [The capital of Nepal is Chyria.\\n, The capita...  \n",
       "1  [The capital of Nepal is Chyria.\\n, The capita...  \n",
       "2  [The capital of Nepal is Chyria.\\n, The capita...  \n",
       "3  [The capital of Nepal is Chyria.\\n, The capita...  \n",
       "4  [The capital of Nepal is Chyria.\\n, The capita...  "
      ]
     },
     "execution_count": 9,
     "metadata": {},
     "output_type": "execute_result"
    }
   ],
   "source": [
    "val_df_contexts_per_qe = dataset.get_contexts_per_query_entity_df()\n",
    "\n",
    "if LOG_DATASETS:\n",
    "    print(f\"Saving datasets to {input_dir}.\")\n",
    "    os.makedirs(input_dir, exist_ok=True)\n",
    "    val_df_contexts_per_qe.to_csv(val_data_path)\n",
    "\n",
    "val_df_contexts_per_qe.info()\n",
    "val_df_contexts_per_qe.head()"
   ]
  },
  {
   "attachments": {},
   "cell_type": "markdown",
   "metadata": {},
   "source": [
    "### Preprocess Data"
   ]
  },
  {
   "cell_type": "code",
   "execution_count": 10,
   "metadata": {},
   "outputs": [],
   "source": [
    "# Preprocess the data and convert it into inputs for the model (e.g. torch tensors)"
   ]
  },
  {
   "cell_type": "code",
   "execution_count": 11,
   "metadata": {},
   "outputs": [
    {
     "name": "stderr",
     "output_type": "stream",
     "text": [
      "\u001b[34m\u001b[1mwandb\u001b[0m: Adding directory to artifact (./data/CountryCapital/CountryCapital-mc10-me10/0/inputs)... Done. 0.0s\n"
     ]
    },
    {
     "name": "stdout",
     "output_type": "stream",
     "text": [
      "Logging datasets to w&b run <wandb.sdk.wandb_run.Run object at 0x7f9779a19f60>.\n"
     ]
    }
   ],
   "source": [
    "# After loading/preprocessing your dataset, log it as an artifact to W&B\n",
    "if LOG_DATASETS:\n",
    "    print(f\"Logging datasets to w&b run {wandb.run}.\")\n",
    "    artifact = wandb.Artifact(name=data_id, type=\"dataset\")\n",
    "    artifact.add_dir(local_path=input_dir)\n",
    "    run.log_artifact(artifact)"
   ]
  },
  {
   "attachments": {},
   "cell_type": "markdown",
   "metadata": {},
   "source": [
    "### Score Model"
   ]
  },
  {
   "cell_type": "code",
   "execution_count": 12,
   "metadata": {},
   "outputs": [],
   "source": [
    "try:\n",
    "    model = GPTNeoXForCausalLM.from_pretrained(\n",
    "        MODEL_ID, load_in_8bit=LOAD_IN_8BIT, device_map=\"auto\"\n",
    "    )\n",
    "except:\n",
    "    print(f\"Failed to load model {MODEL_ID} in 8-bit. Attempting to load normally.\")\n",
    "    model = GPTNeoXForCausalLM.from_pretrained(\n",
    "        MODEL_ID,\n",
    "        load_in_8bit=False,\n",
    "    ).to(device)\n",
    "\n",
    "tokenizer = AutoTokenizer.from_pretrained(\n",
    "    MODEL_ID,\n",
    "    padding_side=\"left\",\n",
    ")"
   ]
  },
  {
   "cell_type": "code",
   "execution_count": 13,
   "metadata": {},
   "outputs": [
    {
     "name": "stderr",
     "output_type": "stream",
     "text": [
      "  0%|          | 0/20 [00:00<?, ?it/s]"
     ]
    },
    {
     "name": "stdout",
     "output_type": "stream",
     "text": [
      "Setting model.config.pad_token_id to model.config.eos_token_id\n"
     ]
    },
    {
     "name": "stderr",
     "output_type": "stream",
     "text": [
      "/home/kevin/code/rycolab/measureLM/measuring/estimate_probs.py:258: RuntimeWarning: invalid value encountered in divide\n",
      "  return np.sum(prob_x_y_given_e * np.nan_to_num(np.log(prob_y_given_context_and_entity / prob_y_given_e)))\n",
      " 55%|█████▌    | 11/20 [00:01<00:01,  7.66it/s]/home/kevin/code/rycolab/measureLM/measuring/estimate_probs.py:258: RuntimeWarning: divide by zero encountered in log\n",
      "  return np.sum(prob_x_y_given_e * np.nan_to_num(np.log(prob_y_given_context_and_entity / prob_y_given_e)))\n",
      "100%|██████████| 20/20 [00:02<00:00,  8.10it/s]\n"
     ]
    },
    {
     "data": {
      "text/html": [
       "<div>\n",
       "<style scoped>\n",
       "    .dataframe tbody tr th:only-of-type {\n",
       "        vertical-align: middle;\n",
       "    }\n",
       "\n",
       "    .dataframe tbody tr th {\n",
       "        vertical-align: top;\n",
       "    }\n",
       "\n",
       "    .dataframe thead th {\n",
       "        text-align: right;\n",
       "    }\n",
       "</style>\n",
       "<table border=\"1\" class=\"dataframe\">\n",
       "  <thead>\n",
       "    <tr style=\"text-align: right;\">\n",
       "      <th></th>\n",
       "      <th>q_id</th>\n",
       "      <th>query_form</th>\n",
       "      <th>entity</th>\n",
       "      <th>contexts</th>\n",
       "      <th>susceptibility_score</th>\n",
       "    </tr>\n",
       "  </thead>\n",
       "  <tbody>\n",
       "    <tr>\n",
       "      <th>0</th>\n",
       "      <td>capital_of</td>\n",
       "      <td>Q: What is the capital of {}?\\nA:</td>\n",
       "      <td>Nepal</td>\n",
       "      <td>[The capital of Nepal is Chyria.\\n, The capita...</td>\n",
       "      <td>0.040032</td>\n",
       "    </tr>\n",
       "    <tr>\n",
       "      <th>1</th>\n",
       "      <td>capital_of</td>\n",
       "      <td>Q: What is the capital of {}?\\nA:</td>\n",
       "      <td>Warstadt</td>\n",
       "      <td>[The capital of Nepal is Chyria.\\n, The capita...</td>\n",
       "      <td>0.051261</td>\n",
       "    </tr>\n",
       "    <tr>\n",
       "      <th>2</th>\n",
       "      <td>capital_of</td>\n",
       "      <td>Q: What is the capital of {}?\\nA:</td>\n",
       "      <td>San Marino</td>\n",
       "      <td>[The capital of Nepal is Chyria.\\n, The capita...</td>\n",
       "      <td>0.088006</td>\n",
       "    </tr>\n",
       "    <tr>\n",
       "      <th>3</th>\n",
       "      <td>capital_of</td>\n",
       "      <td>Q: What is the capital of {}?\\nA:</td>\n",
       "      <td>Côte d'Ivoire</td>\n",
       "      <td>[The capital of Nepal is Chyria.\\n, The capita...</td>\n",
       "      <td>0.060005</td>\n",
       "    </tr>\n",
       "    <tr>\n",
       "      <th>4</th>\n",
       "      <td>capital_of</td>\n",
       "      <td>Q: What is the capital of {}?\\nA:</td>\n",
       "      <td>Lithuania</td>\n",
       "      <td>[The capital of Nepal is Chyria.\\n, The capita...</td>\n",
       "      <td>0.044034</td>\n",
       "    </tr>\n",
       "    <tr>\n",
       "      <th>5</th>\n",
       "      <td>capital_of</td>\n",
       "      <td>Q: What is the capital of {}?\\nA:</td>\n",
       "      <td>Rwanda</td>\n",
       "      <td>[The capital of Nepal is Chyria.\\n, The capita...</td>\n",
       "      <td>0.055354</td>\n",
       "    </tr>\n",
       "    <tr>\n",
       "      <th>6</th>\n",
       "      <td>capital_of</td>\n",
       "      <td>Q: What is the capital of {}?\\nA:</td>\n",
       "      <td>Brunei</td>\n",
       "      <td>[The capital of Nepal is Chyria.\\n, The capita...</td>\n",
       "      <td>0.077649</td>\n",
       "    </tr>\n",
       "    <tr>\n",
       "      <th>7</th>\n",
       "      <td>capital_of</td>\n",
       "      <td>Q: What is the capital of {}?\\nA:</td>\n",
       "      <td>Qatar</td>\n",
       "      <td>[The capital of Nepal is Chyria.\\n, The capita...</td>\n",
       "      <td>0.038981</td>\n",
       "    </tr>\n",
       "    <tr>\n",
       "      <th>8</th>\n",
       "      <td>capital_of</td>\n",
       "      <td>Q: What is the capital of {}?\\nA:</td>\n",
       "      <td>Floofern</td>\n",
       "      <td>[The capital of Nepal is Chyria.\\n, The capita...</td>\n",
       "      <td>0.019681</td>\n",
       "    </tr>\n",
       "    <tr>\n",
       "      <th>9</th>\n",
       "      <td>capital_of</td>\n",
       "      <td>Q: What is the capital of {}?\\nA:</td>\n",
       "      <td>Ecuador</td>\n",
       "      <td>[The capital of Nepal is Chyria.\\n, The capita...</td>\n",
       "      <td>0.026412</td>\n",
       "    </tr>\n",
       "    <tr>\n",
       "      <th>10</th>\n",
       "      <td>capital_of</td>\n",
       "      <td>The capital of {} is</td>\n",
       "      <td>Nepal</td>\n",
       "      <td>[The capital of Nepal is Chyria.\\n, The capita...</td>\n",
       "      <td>0.266866</td>\n",
       "    </tr>\n",
       "    <tr>\n",
       "      <th>11</th>\n",
       "      <td>capital_of</td>\n",
       "      <td>The capital of {} is</td>\n",
       "      <td>Warstadt</td>\n",
       "      <td>[The capital of Nepal is Chyria.\\n, The capita...</td>\n",
       "      <td>0.428296</td>\n",
       "    </tr>\n",
       "    <tr>\n",
       "      <th>12</th>\n",
       "      <td>capital_of</td>\n",
       "      <td>The capital of {} is</td>\n",
       "      <td>San Marino</td>\n",
       "      <td>[The capital of Nepal is Chyria.\\n, The capita...</td>\n",
       "      <td>0.454748</td>\n",
       "    </tr>\n",
       "    <tr>\n",
       "      <th>13</th>\n",
       "      <td>capital_of</td>\n",
       "      <td>The capital of {} is</td>\n",
       "      <td>Côte d'Ivoire</td>\n",
       "      <td>[The capital of Nepal is Chyria.\\n, The capita...</td>\n",
       "      <td>0.440490</td>\n",
       "    </tr>\n",
       "    <tr>\n",
       "      <th>14</th>\n",
       "      <td>capital_of</td>\n",
       "      <td>The capital of {} is</td>\n",
       "      <td>Lithuania</td>\n",
       "      <td>[The capital of Nepal is Chyria.\\n, The capita...</td>\n",
       "      <td>0.250445</td>\n",
       "    </tr>\n",
       "    <tr>\n",
       "      <th>15</th>\n",
       "      <td>capital_of</td>\n",
       "      <td>The capital of {} is</td>\n",
       "      <td>Rwanda</td>\n",
       "      <td>[The capital of Nepal is Chyria.\\n, The capita...</td>\n",
       "      <td>0.313813</td>\n",
       "    </tr>\n",
       "    <tr>\n",
       "      <th>16</th>\n",
       "      <td>capital_of</td>\n",
       "      <td>The capital of {} is</td>\n",
       "      <td>Brunei</td>\n",
       "      <td>[The capital of Nepal is Chyria.\\n, The capita...</td>\n",
       "      <td>0.263851</td>\n",
       "    </tr>\n",
       "    <tr>\n",
       "      <th>17</th>\n",
       "      <td>capital_of</td>\n",
       "      <td>The capital of {} is</td>\n",
       "      <td>Qatar</td>\n",
       "      <td>[The capital of Nepal is Chyria.\\n, The capita...</td>\n",
       "      <td>0.261756</td>\n",
       "    </tr>\n",
       "    <tr>\n",
       "      <th>18</th>\n",
       "      <td>capital_of</td>\n",
       "      <td>The capital of {} is</td>\n",
       "      <td>Floofern</td>\n",
       "      <td>[The capital of Nepal is Chyria.\\n, The capita...</td>\n",
       "      <td>0.453249</td>\n",
       "    </tr>\n",
       "    <tr>\n",
       "      <th>19</th>\n",
       "      <td>capital_of</td>\n",
       "      <td>The capital of {} is</td>\n",
       "      <td>Ecuador</td>\n",
       "      <td>[The capital of Nepal is Chyria.\\n, The capita...</td>\n",
       "      <td>0.293593</td>\n",
       "    </tr>\n",
       "  </tbody>\n",
       "</table>\n",
       "</div>"
      ],
      "text/plain": [
       "          q_id                         query_form         entity  \\\n",
       "0   capital_of  Q: What is the capital of {}?\\nA:          Nepal   \n",
       "1   capital_of  Q: What is the capital of {}?\\nA:       Warstadt   \n",
       "2   capital_of  Q: What is the capital of {}?\\nA:     San Marino   \n",
       "3   capital_of  Q: What is the capital of {}?\\nA:  Côte d'Ivoire   \n",
       "4   capital_of  Q: What is the capital of {}?\\nA:      Lithuania   \n",
       "5   capital_of  Q: What is the capital of {}?\\nA:         Rwanda   \n",
       "6   capital_of  Q: What is the capital of {}?\\nA:         Brunei   \n",
       "7   capital_of  Q: What is the capital of {}?\\nA:          Qatar   \n",
       "8   capital_of  Q: What is the capital of {}?\\nA:       Floofern   \n",
       "9   capital_of  Q: What is the capital of {}?\\nA:        Ecuador   \n",
       "10  capital_of               The capital of {} is          Nepal   \n",
       "11  capital_of               The capital of {} is       Warstadt   \n",
       "12  capital_of               The capital of {} is     San Marino   \n",
       "13  capital_of               The capital of {} is  Côte d'Ivoire   \n",
       "14  capital_of               The capital of {} is      Lithuania   \n",
       "15  capital_of               The capital of {} is         Rwanda   \n",
       "16  capital_of               The capital of {} is         Brunei   \n",
       "17  capital_of               The capital of {} is          Qatar   \n",
       "18  capital_of               The capital of {} is       Floofern   \n",
       "19  capital_of               The capital of {} is        Ecuador   \n",
       "\n",
       "                                             contexts  susceptibility_score  \n",
       "0   [The capital of Nepal is Chyria.\\n, The capita...              0.040032  \n",
       "1   [The capital of Nepal is Chyria.\\n, The capita...              0.051261  \n",
       "2   [The capital of Nepal is Chyria.\\n, The capita...              0.088006  \n",
       "3   [The capital of Nepal is Chyria.\\n, The capita...              0.060005  \n",
       "4   [The capital of Nepal is Chyria.\\n, The capita...              0.044034  \n",
       "5   [The capital of Nepal is Chyria.\\n, The capita...              0.055354  \n",
       "6   [The capital of Nepal is Chyria.\\n, The capita...              0.077649  \n",
       "7   [The capital of Nepal is Chyria.\\n, The capita...              0.038981  \n",
       "8   [The capital of Nepal is Chyria.\\n, The capita...              0.019681  \n",
       "9   [The capital of Nepal is Chyria.\\n, The capita...              0.026412  \n",
       "10  [The capital of Nepal is Chyria.\\n, The capita...              0.266866  \n",
       "11  [The capital of Nepal is Chyria.\\n, The capita...              0.428296  \n",
       "12  [The capital of Nepal is Chyria.\\n, The capita...              0.454748  \n",
       "13  [The capital of Nepal is Chyria.\\n, The capita...              0.440490  \n",
       "14  [The capital of Nepal is Chyria.\\n, The capita...              0.250445  \n",
       "15  [The capital of Nepal is Chyria.\\n, The capita...              0.313813  \n",
       "16  [The capital of Nepal is Chyria.\\n, The capita...              0.263851  \n",
       "17  [The capital of Nepal is Chyria.\\n, The capita...              0.261756  \n",
       "18  [The capital of Nepal is Chyria.\\n, The capita...              0.453249  \n",
       "19  [The capital of Nepal is Chyria.\\n, The capita...              0.293593  "
      ]
     },
     "execution_count": 13,
     "metadata": {},
     "output_type": "execute_result"
    }
   ],
   "source": [
    "tqdm.pandas()\n",
    "val_df_contexts_per_qe[\"susceptibility_score\"] = val_df_contexts_per_qe.progress_apply(\n",
    "    lambda row: estimate_cmi(\n",
    "        query=row[\"query_form\"],\n",
    "        entity=row[\"entity\"],\n",
    "        contexts=row[\"contexts\"],\n",
    "        model=model,\n",
    "        tokenizer=tokenizer,\n",
    "        answer_map=None,\n",
    "    ),\n",
    "    axis=1,\n",
    ")\n",
    "val_df_contexts_per_qe"
   ]
  },
  {
   "attachments": {},
   "cell_type": "markdown",
   "metadata": {},
   "source": [
    "### Evaluate Model"
   ]
  },
  {
   "cell_type": "code",
   "execution_count": 14,
   "metadata": {},
   "outputs": [
    {
     "data": {
      "text/plain": [
       "entity\n",
       "Nepal            2\n",
       "Warstadt         2\n",
       "San Marino       2\n",
       "Côte d'Ivoire    2\n",
       "Lithuania        2\n",
       "Rwanda           2\n",
       "Brunei           2\n",
       "Qatar            2\n",
       "Floofern         2\n",
       "Ecuador          2\n",
       "Name: count, dtype: int64"
      ]
     },
     "execution_count": 14,
     "metadata": {},
     "output_type": "execute_result"
    }
   ],
   "source": [
    "val_df_contexts_per_qe[\"entity\"].value_counts()"
   ]
  },
  {
   "cell_type": "code",
   "execution_count": 18,
   "metadata": {},
   "outputs": [
    {
     "data": {
      "text/html": [
       "<div>\n",
       "<style scoped>\n",
       "    .dataframe tbody tr th:only-of-type {\n",
       "        vertical-align: middle;\n",
       "    }\n",
       "\n",
       "    .dataframe tbody tr th {\n",
       "        vertical-align: top;\n",
       "    }\n",
       "\n",
       "    .dataframe thead th {\n",
       "        text-align: right;\n",
       "    }\n",
       "</style>\n",
       "<table border=\"1\" class=\"dataframe\">\n",
       "  <thead>\n",
       "    <tr style=\"text-align: right;\">\n",
       "      <th></th>\n",
       "      <th>q_id</th>\n",
       "      <th>query_form</th>\n",
       "      <th>entity</th>\n",
       "      <th>contexts</th>\n",
       "      <th>susceptibility_score</th>\n",
       "    </tr>\n",
       "  </thead>\n",
       "  <tbody>\n",
       "    <tr>\n",
       "      <th>14</th>\n",
       "      <td>capital_of</td>\n",
       "      <td>The capital of {} is</td>\n",
       "      <td>Lithuania</td>\n",
       "      <td>[The capital of Nepal is Chyria.\\n, The capita...</td>\n",
       "      <td>0.250445</td>\n",
       "    </tr>\n",
       "    <tr>\n",
       "      <th>17</th>\n",
       "      <td>capital_of</td>\n",
       "      <td>The capital of {} is</td>\n",
       "      <td>Qatar</td>\n",
       "      <td>[The capital of Nepal is Chyria.\\n, The capita...</td>\n",
       "      <td>0.261756</td>\n",
       "    </tr>\n",
       "    <tr>\n",
       "      <th>16</th>\n",
       "      <td>capital_of</td>\n",
       "      <td>The capital of {} is</td>\n",
       "      <td>Brunei</td>\n",
       "      <td>[The capital of Nepal is Chyria.\\n, The capita...</td>\n",
       "      <td>0.263851</td>\n",
       "    </tr>\n",
       "    <tr>\n",
       "      <th>10</th>\n",
       "      <td>capital_of</td>\n",
       "      <td>The capital of {} is</td>\n",
       "      <td>Nepal</td>\n",
       "      <td>[The capital of Nepal is Chyria.\\n, The capita...</td>\n",
       "      <td>0.266866</td>\n",
       "    </tr>\n",
       "    <tr>\n",
       "      <th>19</th>\n",
       "      <td>capital_of</td>\n",
       "      <td>The capital of {} is</td>\n",
       "      <td>Ecuador</td>\n",
       "      <td>[The capital of Nepal is Chyria.\\n, The capita...</td>\n",
       "      <td>0.293593</td>\n",
       "    </tr>\n",
       "    <tr>\n",
       "      <th>15</th>\n",
       "      <td>capital_of</td>\n",
       "      <td>The capital of {} is</td>\n",
       "      <td>Rwanda</td>\n",
       "      <td>[The capital of Nepal is Chyria.\\n, The capita...</td>\n",
       "      <td>0.313813</td>\n",
       "    </tr>\n",
       "    <tr>\n",
       "      <th>11</th>\n",
       "      <td>capital_of</td>\n",
       "      <td>The capital of {} is</td>\n",
       "      <td>Warstadt</td>\n",
       "      <td>[The capital of Nepal is Chyria.\\n, The capita...</td>\n",
       "      <td>0.428296</td>\n",
       "    </tr>\n",
       "    <tr>\n",
       "      <th>13</th>\n",
       "      <td>capital_of</td>\n",
       "      <td>The capital of {} is</td>\n",
       "      <td>Côte d'Ivoire</td>\n",
       "      <td>[The capital of Nepal is Chyria.\\n, The capita...</td>\n",
       "      <td>0.440490</td>\n",
       "    </tr>\n",
       "    <tr>\n",
       "      <th>18</th>\n",
       "      <td>capital_of</td>\n",
       "      <td>The capital of {} is</td>\n",
       "      <td>Floofern</td>\n",
       "      <td>[The capital of Nepal is Chyria.\\n, The capita...</td>\n",
       "      <td>0.453249</td>\n",
       "    </tr>\n",
       "    <tr>\n",
       "      <th>12</th>\n",
       "      <td>capital_of</td>\n",
       "      <td>The capital of {} is</td>\n",
       "      <td>San Marino</td>\n",
       "      <td>[The capital of Nepal is Chyria.\\n, The capita...</td>\n",
       "      <td>0.454748</td>\n",
       "    </tr>\n",
       "  </tbody>\n",
       "</table>\n",
       "</div>"
      ],
      "text/plain": [
       "          q_id            query_form         entity  \\\n",
       "14  capital_of  The capital of {} is      Lithuania   \n",
       "17  capital_of  The capital of {} is          Qatar   \n",
       "16  capital_of  The capital of {} is         Brunei   \n",
       "10  capital_of  The capital of {} is          Nepal   \n",
       "19  capital_of  The capital of {} is        Ecuador   \n",
       "15  capital_of  The capital of {} is         Rwanda   \n",
       "11  capital_of  The capital of {} is       Warstadt   \n",
       "13  capital_of  The capital of {} is  Côte d'Ivoire   \n",
       "18  capital_of  The capital of {} is       Floofern   \n",
       "12  capital_of  The capital of {} is     San Marino   \n",
       "\n",
       "                                             contexts  susceptibility_score  \n",
       "14  [The capital of Nepal is Chyria.\\n, The capita...              0.250445  \n",
       "17  [The capital of Nepal is Chyria.\\n, The capita...              0.261756  \n",
       "16  [The capital of Nepal is Chyria.\\n, The capita...              0.263851  \n",
       "10  [The capital of Nepal is Chyria.\\n, The capita...              0.266866  \n",
       "19  [The capital of Nepal is Chyria.\\n, The capita...              0.293593  \n",
       "15  [The capital of Nepal is Chyria.\\n, The capita...              0.313813  \n",
       "11  [The capital of Nepal is Chyria.\\n, The capita...              0.428296  \n",
       "13  [The capital of Nepal is Chyria.\\n, The capita...              0.440490  \n",
       "18  [The capital of Nepal is Chyria.\\n, The capita...              0.453249  \n",
       "12  [The capital of Nepal is Chyria.\\n, The capita...              0.454748  "
      ]
     },
     "execution_count": 18,
     "metadata": {},
     "output_type": "execute_result"
    }
   ],
   "source": [
    "val_df_contexts_per_qe[\n",
    "    val_df_contexts_per_qe[\"query_form\"] == \"The capital of {} is\"\n",
    "].sort_values(by=\"susceptibility_score\")"
   ]
  },
  {
   "cell_type": "code",
   "execution_count": 16,
   "metadata": {},
   "outputs": [
    {
     "data": {
      "text/html": [
       "<div>\n",
       "<style scoped>\n",
       "    .dataframe tbody tr th:only-of-type {\n",
       "        vertical-align: middle;\n",
       "    }\n",
       "\n",
       "    .dataframe tbody tr th {\n",
       "        vertical-align: top;\n",
       "    }\n",
       "\n",
       "    .dataframe thead th {\n",
       "        text-align: right;\n",
       "    }\n",
       "</style>\n",
       "<table border=\"1\" class=\"dataframe\">\n",
       "  <thead>\n",
       "    <tr style=\"text-align: right;\">\n",
       "      <th></th>\n",
       "      <th>q_id</th>\n",
       "      <th>query_form</th>\n",
       "      <th>entity</th>\n",
       "      <th>contexts</th>\n",
       "      <th>susceptibility_score</th>\n",
       "    </tr>\n",
       "  </thead>\n",
       "  <tbody>\n",
       "    <tr>\n",
       "      <th>8</th>\n",
       "      <td>capital_of</td>\n",
       "      <td>Q: What is the capital of {}?\\nA:</td>\n",
       "      <td>Floofern</td>\n",
       "      <td>[The capital of Nepal is Chyria.\\n, The capita...</td>\n",
       "      <td>0.019681</td>\n",
       "    </tr>\n",
       "    <tr>\n",
       "      <th>9</th>\n",
       "      <td>capital_of</td>\n",
       "      <td>Q: What is the capital of {}?\\nA:</td>\n",
       "      <td>Ecuador</td>\n",
       "      <td>[The capital of Nepal is Chyria.\\n, The capita...</td>\n",
       "      <td>0.026412</td>\n",
       "    </tr>\n",
       "    <tr>\n",
       "      <th>7</th>\n",
       "      <td>capital_of</td>\n",
       "      <td>Q: What is the capital of {}?\\nA:</td>\n",
       "      <td>Qatar</td>\n",
       "      <td>[The capital of Nepal is Chyria.\\n, The capita...</td>\n",
       "      <td>0.038981</td>\n",
       "    </tr>\n",
       "    <tr>\n",
       "      <th>0</th>\n",
       "      <td>capital_of</td>\n",
       "      <td>Q: What is the capital of {}?\\nA:</td>\n",
       "      <td>Nepal</td>\n",
       "      <td>[The capital of Nepal is Chyria.\\n, The capita...</td>\n",
       "      <td>0.040032</td>\n",
       "    </tr>\n",
       "    <tr>\n",
       "      <th>4</th>\n",
       "      <td>capital_of</td>\n",
       "      <td>Q: What is the capital of {}?\\nA:</td>\n",
       "      <td>Lithuania</td>\n",
       "      <td>[The capital of Nepal is Chyria.\\n, The capita...</td>\n",
       "      <td>0.044034</td>\n",
       "    </tr>\n",
       "    <tr>\n",
       "      <th>1</th>\n",
       "      <td>capital_of</td>\n",
       "      <td>Q: What is the capital of {}?\\nA:</td>\n",
       "      <td>Warstadt</td>\n",
       "      <td>[The capital of Nepal is Chyria.\\n, The capita...</td>\n",
       "      <td>0.051261</td>\n",
       "    </tr>\n",
       "    <tr>\n",
       "      <th>5</th>\n",
       "      <td>capital_of</td>\n",
       "      <td>Q: What is the capital of {}?\\nA:</td>\n",
       "      <td>Rwanda</td>\n",
       "      <td>[The capital of Nepal is Chyria.\\n, The capita...</td>\n",
       "      <td>0.055354</td>\n",
       "    </tr>\n",
       "    <tr>\n",
       "      <th>3</th>\n",
       "      <td>capital_of</td>\n",
       "      <td>Q: What is the capital of {}?\\nA:</td>\n",
       "      <td>Côte d'Ivoire</td>\n",
       "      <td>[The capital of Nepal is Chyria.\\n, The capita...</td>\n",
       "      <td>0.060005</td>\n",
       "    </tr>\n",
       "    <tr>\n",
       "      <th>6</th>\n",
       "      <td>capital_of</td>\n",
       "      <td>Q: What is the capital of {}?\\nA:</td>\n",
       "      <td>Brunei</td>\n",
       "      <td>[The capital of Nepal is Chyria.\\n, The capita...</td>\n",
       "      <td>0.077649</td>\n",
       "    </tr>\n",
       "    <tr>\n",
       "      <th>2</th>\n",
       "      <td>capital_of</td>\n",
       "      <td>Q: What is the capital of {}?\\nA:</td>\n",
       "      <td>San Marino</td>\n",
       "      <td>[The capital of Nepal is Chyria.\\n, The capita...</td>\n",
       "      <td>0.088006</td>\n",
       "    </tr>\n",
       "  </tbody>\n",
       "</table>\n",
       "</div>"
      ],
      "text/plain": [
       "         q_id                         query_form         entity  \\\n",
       "8  capital_of  Q: What is the capital of {}?\\nA:       Floofern   \n",
       "9  capital_of  Q: What is the capital of {}?\\nA:        Ecuador   \n",
       "7  capital_of  Q: What is the capital of {}?\\nA:          Qatar   \n",
       "0  capital_of  Q: What is the capital of {}?\\nA:          Nepal   \n",
       "4  capital_of  Q: What is the capital of {}?\\nA:      Lithuania   \n",
       "1  capital_of  Q: What is the capital of {}?\\nA:       Warstadt   \n",
       "5  capital_of  Q: What is the capital of {}?\\nA:         Rwanda   \n",
       "3  capital_of  Q: What is the capital of {}?\\nA:  Côte d'Ivoire   \n",
       "6  capital_of  Q: What is the capital of {}?\\nA:         Brunei   \n",
       "2  capital_of  Q: What is the capital of {}?\\nA:     San Marino   \n",
       "\n",
       "                                            contexts  susceptibility_score  \n",
       "8  [The capital of Nepal is Chyria.\\n, The capita...              0.019681  \n",
       "9  [The capital of Nepal is Chyria.\\n, The capita...              0.026412  \n",
       "7  [The capital of Nepal is Chyria.\\n, The capita...              0.038981  \n",
       "0  [The capital of Nepal is Chyria.\\n, The capita...              0.040032  \n",
       "4  [The capital of Nepal is Chyria.\\n, The capita...              0.044034  \n",
       "1  [The capital of Nepal is Chyria.\\n, The capita...              0.051261  \n",
       "5  [The capital of Nepal is Chyria.\\n, The capita...              0.055354  \n",
       "3  [The capital of Nepal is Chyria.\\n, The capita...              0.060005  \n",
       "6  [The capital of Nepal is Chyria.\\n, The capita...              0.077649  \n",
       "2  [The capital of Nepal is Chyria.\\n, The capita...              0.088006  "
      ]
     },
     "execution_count": 16,
     "metadata": {},
     "output_type": "execute_result"
    }
   ],
   "source": [
    "val_df_contexts_per_qe[\n",
    "    val_df_contexts_per_qe[\"query_form\"] == \"Q: What is the capital of {}?\\nA:\"\n",
    "].sort_values(by=\"susceptibility_score\")"
   ]
  },
  {
   "cell_type": "code",
   "execution_count": 17,
   "metadata": {},
   "outputs": [
    {
     "data": {
      "text/html": [
       "W&B sync reduced upload amount by 2.5%             "
      ],
      "text/plain": [
       "<IPython.core.display.HTML object>"
      ]
     },
     "metadata": {},
     "output_type": "display_data"
    },
    {
     "data": {
      "text/html": [
       " View run <strong style=\"color:#cdcd00\">smart-salad-4</strong> at: <a href='https://wandb.ai/ethz-rycolab/context-vs-bias/runs/5is8oq5s' target=\"_blank\">https://wandb.ai/ethz-rycolab/context-vs-bias/runs/5is8oq5s</a><br/> View job at <a href='https://wandb.ai/ethz-rycolab/context-vs-bias/jobs/QXJ0aWZhY3RDb2xsZWN0aW9uOjEyMjczNzY4NA==/version_details/v2' target=\"_blank\">https://wandb.ai/ethz-rycolab/context-vs-bias/jobs/QXJ0aWZhY3RDb2xsZWN0aW9uOjEyMjczNzY4NA==/version_details/v2</a><br/>Synced 7 W&B file(s), 0 media file(s), 8 artifact file(s) and 0 other file(s)"
      ],
      "text/plain": [
       "<IPython.core.display.HTML object>"
      ]
     },
     "metadata": {},
     "output_type": "display_data"
    },
    {
     "data": {
      "text/html": [
       "Find logs at: <code>./wandb/run-20231211_111153-5is8oq5s/logs</code>"
      ],
      "text/plain": [
       "<IPython.core.display.HTML object>"
      ]
     },
     "metadata": {},
     "output_type": "display_data"
    }
   ],
   "source": [
    "wandb.finish()"
   ]
  }
 ],
 "metadata": {
  "kernelspec": {
   "display_name": "rlace",
   "language": "python",
   "name": "python3"
  },
  "language_info": {
   "codemirror_mode": {
    "name": "ipython",
    "version": 3
   },
   "file_extension": ".py",
   "mimetype": "text/x-python",
   "name": "python",
   "nbconvert_exporter": "python",
   "pygments_lexer": "ipython3",
   "version": "3.10.13"
  },
  "orig_nbformat": 4
 },
 "nbformat": 4,
 "nbformat_minor": 2
}
