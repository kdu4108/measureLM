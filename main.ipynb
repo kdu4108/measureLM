{
 "cells": [
  {
   "cell_type": "markdown",
   "metadata": {},
   "source": [
    "# Susceptibility Scores\n",
    "A notebook for initial exploration."
   ]
  },
  {
   "cell_type": "code",
   "execution_count": 1,
   "metadata": {},
   "outputs": [],
   "source": [
    "%load_ext autoreload\n",
    "%autoreload 2\n",
    "%load_ext lab_black"
   ]
  },
  {
   "cell_type": "code",
   "execution_count": 2,
   "metadata": {},
   "outputs": [
    {
     "name": "stderr",
     "output_type": "stream",
     "text": [
      "/cluster/work/cotterell/kdu/miniforge3/envs/measurelm/lib/python3.10/site-packages/tqdm/auto.py:21: TqdmWarning: IProgress not found. Please update jupyter and ipywidgets. See https://ipywidgets.readthedocs.io/en/stable/user_install.html\n",
      "  from .autonotebook import tqdm as notebook_tqdm\n"
     ]
    }
   ],
   "source": [
    "import os\n",
    "import sys\n",
    "import math\n",
    "import random\n",
    "from itertools import product\n",
    "from tqdm import tqdm\n",
    "import yaml\n",
    "\n",
    "import pandas as pd\n",
    "import seaborn as sns\n",
    "from transformers import GPTNeoXForCausalLM, AutoTokenizer\n",
    "import torch\n",
    "from typing import List\n",
    "import numpy as np\n",
    "import wandb"
   ]
  },
  {
   "cell_type": "code",
   "execution_count": 3,
   "metadata": {},
   "outputs": [],
   "source": [
    "import statsmodels.api as sm\n",
    "from measuring.estimate_probs import (\n",
    "    estimate_prob_y_given_context_and_entity,\n",
    "    estimate_prob_x_given_e,\n",
    "    estimate_prob_next_word_given_x_and_entity,\n",
    "    estimate_cmi,\n",
    "    score_model_for_next_word_prob,\n",
    "    create_position_ids_from_input_ids,\n",
    "    sharded_score_model,\n",
    "    estimate_entity_score,\n",
    "    kl_div,\n",
    "    difference,\n",
    "    difference_p_good_only,\n",
    "    difference_abs_val,\n",
    ")\n",
    "from preprocessing.datasets import CountryCapital"
   ]
  },
  {
   "cell_type": "markdown",
   "metadata": {},
   "source": [
    "### Preamble"
   ]
  },
  {
   "cell_type": "code",
   "execution_count": 4,
   "metadata": {
    "tags": [
     "parameters"
    ]
   },
   "outputs": [],
   "source": [
    "##################\n",
    "### Parameters ###\n",
    "##################\n",
    "\n",
    "# Data parameters\n",
    "SEED = 0\n",
    "DATASET_NAME = \"CountryCapital\"\n",
    "DATASET_KWARGS_IDENTIFIABLE = dict(\n",
    "    max_contexts=450,\n",
    "    max_entities=90,\n",
    "    cap_per_type=True,\n",
    "    raw_country_capitals_path=\"data/CountryCapital/real-fake-historical-fictional-famousfictional-country-capital.csv\",\n",
    ")\n",
    "LOG_DATASETS = True\n",
    "\n",
    "# Model parameters\n",
    "# MODEL_ID = \"EleutherAI/pythia-70m-deduped\"\n",
    "# LOAD_IN_8BIT = False\n",
    "MODEL_ID = \"EleutherAI/pythia-6.9b-deduped\"\n",
    "LOAD_IN_8BIT = True\n",
    "BATCH_SZ = 16\n",
    "\n",
    "# Evaluation switches\n",
    "COMPUTE_CMI = True\n",
    "COMPUTE_KL = True\n",
    "COMPUTE_GOOD_BAD = True\n",
    "COMPUTE_GOOD_BAD_ABS = True\n",
    "COMPUTE_GOOD_BAD_P_GOOD_ONLY = True\n",
    "\n",
    "# wandb stuff\n",
    "PROJECT_NAME = \"context-vs-bias\"\n",
    "GROUP_NAME = None\n",
    "TAGS = [\"capitals\"]"
   ]
  },
  {
   "cell_type": "code",
   "execution_count": 5,
   "metadata": {},
   "outputs": [],
   "source": [
    "# Set random seeds\n",
    "torch.manual_seed(SEED)\n",
    "np.random.seed(SEED)\n",
    "random.seed(SEED)"
   ]
  },
  {
   "cell_type": "code",
   "execution_count": 6,
   "metadata": {},
   "outputs": [
    {
     "name": "stdout",
     "output_type": "stream",
     "text": [
      "Data dir: data/CountryCapital/CountryCapital-mc450-me90-cappertype/0\n",
      "Model dir: data/CountryCapital/CountryCapital-mc450-me90-cappertype/0/models/EleutherAI/pythia-6.9b-deduped-8bit\n"
     ]
    }
   ],
   "source": [
    "# Paths\n",
    "# Construct dataset and data ids\n",
    "# dataset = getattr(sys.modules[__name__], DATASET_NAME)(**DATASET_KWARGS_IDENTIFIABLE)\n",
    "data_id = f\"{DATASET_NAME}\"\n",
    "data_id += (\n",
    "    f\"-mc{DATASET_KWARGS_IDENTIFIABLE['max_contexts']}\"\n",
    "    if \"max_contexts\" in DATASET_KWARGS_IDENTIFIABLE\n",
    "    and DATASET_KWARGS_IDENTIFIABLE[\"max_contexts\"] is not None\n",
    "    else \"\"\n",
    ")\n",
    "data_id += (\n",
    "    f\"-me{DATASET_KWARGS_IDENTIFIABLE['max_entities']}\"\n",
    "    if \"max_entities\" in DATASET_KWARGS_IDENTIFIABLE\n",
    "    and DATASET_KWARGS_IDENTIFIABLE[\"max_entities\"] is not None\n",
    "    else \"\"\n",
    ")\n",
    "data_id += (\n",
    "    \"-cappertype\"\n",
    "    if \"cap_per_type\" in DATASET_KWARGS_IDENTIFIABLE\n",
    "    and DATASET_KWARGS_IDENTIFIABLE[\"cap_per_type\"]\n",
    "    else \"\"\n",
    ")\n",
    "\n",
    "\n",
    "data_dir = os.path.join(\"data\", DATASET_NAME, data_id, f\"{SEED}\")\n",
    "input_dir = os.path.join(data_dir, \"inputs\")\n",
    "entities_path = os.path.join(input_dir, \"entities.json\")\n",
    "contexts_path = os.path.join(input_dir, \"contexts.json\")\n",
    "queries_path = os.path.join(input_dir, \"queries.json\")\n",
    "val_data_path = os.path.join(input_dir, \"val.csv\")\n",
    "DATASET_KWARGS_IDENTIFIABLE = {\n",
    "    **DATASET_KWARGS_IDENTIFIABLE,\n",
    "    **dict(\n",
    "        entities_path=entities_path,\n",
    "        contexts_path=contexts_path,\n",
    "        queries_path=queries_path,\n",
    "    ),\n",
    "}\n",
    "\n",
    "results_dir = os.path.join(data_dir, \"results\")\n",
    "val_results_path = os.path.join(results_dir, \"val.csv\")\n",
    "\n",
    "# Construct model id\n",
    "model_id = f\"{MODEL_ID}\"\n",
    "model_id += \"-8bit\" if LOAD_IN_8BIT else \"\"\n",
    "model_dir = os.path.join(data_dir, \"models\", model_id)\n",
    "\n",
    "print(f\"Data dir: {data_dir}\")\n",
    "print(f\"Model dir: {model_dir}\")"
   ]
  },
  {
   "cell_type": "code",
   "execution_count": 7,
   "metadata": {},
   "outputs": [
    {
     "name": "stdout",
     "output_type": "stream",
     "text": [
      "Failed to load entities, contexts, and queries from paths data/CountryCapital/CountryCapital-mc450-me90-cappertype/0/inputs/entities.json, data/CountryCapital/CountryCapital-mc450-me90-cappertype/0/inputs/contexts.json, and data/CountryCapital/CountryCapital-mc450-me90-cappertype/0/inputs/queries.json.\n",
      "Manually reconstructing dataset and saving to aforementioned paths.\n"
     ]
    },
    {
     "name": "stderr",
     "output_type": "stream",
     "text": [
      "100%|██████████| 2/2 [00:00<00:00, 71.39it/s]\n"
     ]
    }
   ],
   "source": [
    "os.makedirs(input_dir, exist_ok=True)\n",
    "os.makedirs(results_dir, exist_ok=True)\n",
    "os.makedirs(model_dir, exist_ok=True)\n",
    "dataset = getattr(sys.modules[__name__], DATASET_NAME)(**DATASET_KWARGS_IDENTIFIABLE)"
   ]
  },
  {
   "cell_type": "code",
   "execution_count": 8,
   "metadata": {},
   "outputs": [],
   "source": [
    "# GPU stuff\n",
    "device = \"cuda\" if torch.cuda.is_available() else \"cpu\""
   ]
  },
  {
   "cell_type": "code",
   "execution_count": 9,
   "metadata": {
    "tags": []
   },
   "outputs": [
    {
     "name": "stderr",
     "output_type": "stream",
     "text": [
      "\u001b[34m\u001b[1mwandb\u001b[0m: Currently logged in as: \u001b[33mkdu\u001b[0m (\u001b[33methz-rycolab\u001b[0m). Use \u001b[1m`wandb login --relogin`\u001b[0m to force relogin\n"
     ]
    },
    {
     "data": {
      "text/html": [
       "Tracking run with wandb version 0.16.1"
      ],
      "text/plain": [
       "<IPython.core.display.HTML object>"
      ]
     },
     "metadata": {},
     "output_type": "display_data"
    },
    {
     "data": {
      "text/html": [
       "Run data is saved locally in <code>/cluster/work/cotterell/kdu/measureLM/wandb/run-20231218_195644-awcotqx4</code>"
      ],
      "text/plain": [
       "<IPython.core.display.HTML object>"
      ]
     },
     "metadata": {},
     "output_type": "display_data"
    },
    {
     "data": {
      "text/html": [
       "Syncing run <strong><a href='https://wandb.ai/ethz-rycolab/context-vs-bias/runs/awcotqx4' target=\"_blank\">astral-dream-38</a></strong> to <a href='https://wandb.ai/ethz-rycolab/context-vs-bias' target=\"_blank\">Weights & Biases</a> (<a href='https://wandb.me/run' target=\"_blank\">docs</a>)<br/>"
      ],
      "text/plain": [
       "<IPython.core.display.HTML object>"
      ]
     },
     "metadata": {},
     "output_type": "display_data"
    },
    {
     "data": {
      "text/html": [
       " View project at <a href='https://wandb.ai/ethz-rycolab/context-vs-bias' target=\"_blank\">https://wandb.ai/ethz-rycolab/context-vs-bias</a>"
      ],
      "text/plain": [
       "<IPython.core.display.HTML object>"
      ]
     },
     "metadata": {},
     "output_type": "display_data"
    },
    {
     "data": {
      "text/html": [
       " View run at <a href='https://wandb.ai/ethz-rycolab/context-vs-bias/runs/awcotqx4' target=\"_blank\">https://wandb.ai/ethz-rycolab/context-vs-bias/runs/awcotqx4</a>"
      ],
      "text/plain": [
       "<IPython.core.display.HTML object>"
      ]
     },
     "metadata": {},
     "output_type": "display_data"
    },
    {
     "name": "stdout",
     "output_type": "stream",
     "text": [
      "{'SEED': 0, 'DATASET_NAME': 'CountryCapital', 'DATASET_KWARGS_IDENTIFIABLE': {'max_contexts': 450, 'max_entities': 90, 'cap_per_type': True, 'raw_country_capitals_path': 'data/CountryCapital/real-fake-historical-fictional-famousfictional-country-capital.csv', 'entities_path': 'data/CountryCapital/CountryCapital-mc450-me90-cappertype/0/inputs/entities.json', 'contexts_path': 'data/CountryCapital/CountryCapital-mc450-me90-cappertype/0/inputs/contexts.json', 'queries_path': 'data/CountryCapital/CountryCapital-mc450-me90-cappertype/0/inputs/queries.json'}, 'LOG_DATASETS': True, 'MODEL_ID': 'EleutherAI/pythia-6.9b-deduped', 'LOAD_IN_8BIT': True, 'BATCH_SZ': 16, 'COMPUTE_CMI': True, 'COMPUTE_KL': True, 'COMPUTE_GOOD_BAD': True, 'COMPUTE_GOOD_BAD_ABS': True, 'COMPUTE_GOOD_BAD_P_GOOD_ONLY': True, 'PROJECT_NAME': 'context-vs-bias', 'GROUP_NAME': None, 'TAGS': ['capitals']}\n"
     ]
    }
   ],
   "source": [
    "# wandb stuff\n",
    "os.environ[\"WANDB_NOTEBOOK_NAME\"] = os.path.join(os.getcwd(), \"main.ipynb\")\n",
    "\n",
    "params_to_log = {k: v for k, v in locals().items() if k.isupper()}\n",
    "\n",
    "run = wandb.init(\n",
    "    project=PROJECT_NAME,\n",
    "    group=GROUP_NAME,\n",
    "    config=params_to_log,\n",
    "    tags=TAGS,\n",
    "    mode=\"online\",\n",
    ")\n",
    "print(dict(wandb.config))"
   ]
  },
  {
   "cell_type": "markdown",
   "metadata": {},
   "source": [
    "### Load Data"
   ]
  },
  {
   "cell_type": "code",
   "execution_count": 10,
   "metadata": {},
   "outputs": [
    {
     "name": "stdout",
     "output_type": "stream",
     "text": [
      "Saving datasets to data/CountryCapital/CountryCapital-mc450-me90-cappertype/0/inputs.\n",
      "<class 'pandas.core.frame.DataFrame'>\n",
      "RangeIndex: 180 entries, 0 to 179\n",
      "Data columns (total 4 columns):\n",
      " #   Column      Non-Null Count  Dtype \n",
      "---  ------      --------------  ----- \n",
      " 0   q_id        180 non-null    object\n",
      " 1   query_form  180 non-null    object\n",
      " 2   entity      180 non-null    object\n",
      " 3   contexts    180 non-null    object\n",
      "dtypes: object(4)\n",
      "memory usage: 5.8+ KB\n"
     ]
    },
    {
     "data": {
      "text/html": [
       "<div>\n",
       "<style scoped>\n",
       "    .dataframe tbody tr th:only-of-type {\n",
       "        vertical-align: middle;\n",
       "    }\n",
       "\n",
       "    .dataframe tbody tr th {\n",
       "        vertical-align: top;\n",
       "    }\n",
       "\n",
       "    .dataframe thead th {\n",
       "        text-align: right;\n",
       "    }\n",
       "</style>\n",
       "<table border=\"1\" class=\"dataframe\">\n",
       "  <thead>\n",
       "    <tr style=\"text-align: right;\">\n",
       "      <th></th>\n",
       "      <th>q_id</th>\n",
       "      <th>query_form</th>\n",
       "      <th>entity</th>\n",
       "      <th>contexts</th>\n",
       "    </tr>\n",
       "  </thead>\n",
       "  <tbody>\n",
       "    <tr>\n",
       "      <th>0</th>\n",
       "      <td>capital_of</td>\n",
       "      <td>Q: What is the capital of {}?\\nA:</td>\n",
       "      <td>Zimbabwe</td>\n",
       "      <td>[The capital of Republic of Acre is Kassel.\\n,...</td>\n",
       "    </tr>\n",
       "    <tr>\n",
       "      <th>1</th>\n",
       "      <td>capital_of</td>\n",
       "      <td>Q: What is the capital of {}?\\nA:</td>\n",
       "      <td>Paraguay</td>\n",
       "      <td>[The capital of Republic of Acre is Kassel.\\n,...</td>\n",
       "    </tr>\n",
       "    <tr>\n",
       "      <th>2</th>\n",
       "      <td>capital_of</td>\n",
       "      <td>Q: What is the capital of {}?\\nA:</td>\n",
       "      <td>Finland</td>\n",
       "      <td>[The capital of Republic of Acre is Kassel.\\n,...</td>\n",
       "    </tr>\n",
       "    <tr>\n",
       "      <th>3</th>\n",
       "      <td>capital_of</td>\n",
       "      <td>Q: What is the capital of {}?\\nA:</td>\n",
       "      <td>New Caledonia</td>\n",
       "      <td>[The capital of Republic of Acre is Kassel.\\n,...</td>\n",
       "    </tr>\n",
       "    <tr>\n",
       "      <th>4</th>\n",
       "      <td>capital_of</td>\n",
       "      <td>Q: What is the capital of {}?\\nA:</td>\n",
       "      <td>Nagorno-Karabakh Republic</td>\n",
       "      <td>[The capital of Republic of Acre is Kassel.\\n,...</td>\n",
       "    </tr>\n",
       "  </tbody>\n",
       "</table>\n",
       "</div>"
      ],
      "text/plain": [
       "         q_id                         query_form                     entity  \\\n",
       "0  capital_of  Q: What is the capital of {}?\\nA:                   Zimbabwe   \n",
       "1  capital_of  Q: What is the capital of {}?\\nA:                   Paraguay   \n",
       "2  capital_of  Q: What is the capital of {}?\\nA:                    Finland   \n",
       "3  capital_of  Q: What is the capital of {}?\\nA:              New Caledonia   \n",
       "4  capital_of  Q: What is the capital of {}?\\nA:  Nagorno-Karabakh Republic   \n",
       "\n",
       "                                            contexts  \n",
       "0  [The capital of Republic of Acre is Kassel.\\n,...  \n",
       "1  [The capital of Republic of Acre is Kassel.\\n,...  \n",
       "2  [The capital of Republic of Acre is Kassel.\\n,...  \n",
       "3  [The capital of Republic of Acre is Kassel.\\n,...  \n",
       "4  [The capital of Republic of Acre is Kassel.\\n,...  "
      ]
     },
     "execution_count": 10,
     "metadata": {},
     "output_type": "execute_result"
    }
   ],
   "source": [
    "val_df_contexts_per_qe = dataset.get_contexts_per_query_entity_df()\n",
    "\n",
    "if LOG_DATASETS:\n",
    "    print(f\"Saving datasets to {input_dir}.\")\n",
    "    os.makedirs(input_dir, exist_ok=True)\n",
    "    val_df_contexts_per_qe.to_csv(val_data_path)\n",
    "\n",
    "val_df_contexts_per_qe.info()\n",
    "val_df_contexts_per_qe.head()"
   ]
  },
  {
   "cell_type": "markdown",
   "metadata": {},
   "source": [
    "### Preprocess Data"
   ]
  },
  {
   "cell_type": "code",
   "execution_count": 11,
   "metadata": {},
   "outputs": [],
   "source": [
    "# Preprocess the data and convert it into inputs for the model (e.g. torch tensors)"
   ]
  },
  {
   "cell_type": "code",
   "execution_count": 12,
   "metadata": {},
   "outputs": [
    {
     "name": "stderr",
     "output_type": "stream",
     "text": [
      "\u001b[34m\u001b[1mwandb\u001b[0m: Adding directory to artifact (./data/CountryCapital/CountryCapital-mc450-me90-cappertype/0/inputs)... Done. 0.0s\n"
     ]
    },
    {
     "name": "stdout",
     "output_type": "stream",
     "text": [
      "Logging datasets to w&b run <wandb.sdk.wandb_run.Run object at 0x2b04ebdaeef0>.\n"
     ]
    }
   ],
   "source": [
    "# After loading/preprocessing your dataset, log it as an artifact to W&B\n",
    "if LOG_DATASETS:\n",
    "    print(f\"Logging datasets to w&b run {wandb.run}.\")\n",
    "    artifact = wandb.Artifact(name=data_id, type=\"dataset\")\n",
    "    artifact.add_dir(local_path=input_dir)\n",
    "    run.log_artifact(artifact)"
   ]
  },
  {
   "cell_type": "markdown",
   "metadata": {},
   "source": [
    "### Score Model"
   ]
  },
  {
   "cell_type": "code",
   "execution_count": 13,
   "metadata": {},
   "outputs": [
    {
     "name": "stderr",
     "output_type": "stream",
     "text": [
      "Loading checkpoint shards: 100%|██████████| 2/2 [00:28<00:00, 14.48s/it]\n"
     ]
    }
   ],
   "source": [
    "try:\n",
    "    model = GPTNeoXForCausalLM.from_pretrained(\n",
    "        MODEL_ID, load_in_8bit=LOAD_IN_8BIT, device_map=\"auto\"\n",
    "    )\n",
    "except:\n",
    "    print(f\"Failed to load model {MODEL_ID} in 8-bit. Attempting to load normally.\")\n",
    "    model = GPTNeoXForCausalLM.from_pretrained(\n",
    "        MODEL_ID,\n",
    "        load_in_8bit=False,\n",
    "    ).to(device)\n",
    "\n",
    "tokenizer = AutoTokenizer.from_pretrained(\n",
    "    MODEL_ID,\n",
    "    padding_side=\"left\",\n",
    ")"
   ]
  },
  {
   "cell_type": "code",
   "execution_count": 14,
   "metadata": {},
   "outputs": [
    {
     "name": "stdout",
     "output_type": "stream",
     "text": [
      "memory.used [MiB]\n",
      "7703 MiB\n"
     ]
    }
   ],
   "source": [
    "!nvidia-smi --query-gpu=memory.used --format=csv"
   ]
  },
  {
   "cell_type": "code",
   "execution_count": 15,
   "metadata": {},
   "outputs": [
    {
     "data": {
      "text/plain": [
       "6883"
      ]
     },
     "execution_count": 15,
     "metadata": {},
     "output_type": "execute_result"
    }
   ],
   "source": [
    "torch.cuda.empty_cache()\n",
    "import gc\n",
    "\n",
    "gc.collect()"
   ]
  },
  {
   "cell_type": "code",
   "execution_count": 16,
   "metadata": {},
   "outputs": [
    {
     "name": "stderr",
     "output_type": "stream",
     "text": [
      "Using pad_token, but it is not set yet.\n"
     ]
    },
    {
     "name": "stdout",
     "output_type": "stream",
     "text": [
      "Setting model.config.pad_token_id to model.config.eos_token_id\n"
     ]
    },
    {
     "data": {
      "text/plain": [
       "0.10919940431792968"
      ]
     },
     "execution_count": 16,
     "metadata": {},
     "output_type": "execute_result"
    }
   ],
   "source": [
    "# One forward pass\n",
    "row = val_df_contexts_per_qe.iloc[0]\n",
    "estimate_cmi(\n",
    "    row[\"query_form\"],\n",
    "    entity=row[\"entity\"],\n",
    "    contexts=row[\"contexts\"][:128],\n",
    "    model=model,\n",
    "    tokenizer=tokenizer,\n",
    "    bs=BATCH_SZ,\n",
    ")"
   ]
  },
  {
   "cell_type": "code",
   "execution_count": 17,
   "metadata": {},
   "outputs": [
    {
     "name": "stderr",
     "output_type": "stream",
     "text": [
      "100%|██████████| 180/180 [18:22<00:00,  6.13s/it]\n"
     ]
    }
   ],
   "source": [
    "tqdm.pandas()\n",
    "val_df_contexts_per_qe[\"susceptibility_score\"] = val_df_contexts_per_qe.progress_apply(\n",
    "    lambda row: estimate_cmi(\n",
    "        query=row[\"query_form\"],\n",
    "        entity=row[\"entity\"],\n",
    "        contexts=row[\"contexts\"],\n",
    "        model=model,\n",
    "        tokenizer=tokenizer,\n",
    "        answer_map=None,\n",
    "        bs=BATCH_SZ,\n",
    "    ),\n",
    "    axis=1,\n",
    ")\n",
    "val_df_contexts_per_qe.to_csv(val_results_path)"
   ]
  },
  {
   "cell_type": "code",
   "execution_count": null,
   "metadata": {},
   "outputs": [],
   "source": [
    "# After loading/preprocessing your dataset, log it as an artifact to W&B\n",
    "if LOG_DATASETS:\n",
    "    print(f\"Logging results to w&b run {wandb.run}.\")\n",
    "    artifact = wandb.Artifact(name=data_id, type=\"results\")\n",
    "    artifact.add_dir(local_path=results_dir)\n",
    "    run.log_artifact(artifact)"
   ]
  },
  {
   "cell_type": "markdown",
   "metadata": {},
   "source": [
    "### Evaluate Model"
   ]
  },
  {
   "cell_type": "code",
   "execution_count": 18,
   "metadata": {},
   "outputs": [
    {
     "data": {
      "text/plain": [
       "entity\n",
       "Zimbabwe        2\n",
       "Calisota        2\n",
       "Saint Marie     2\n",
       "Arrakis         2\n",
       "Panem           2\n",
       "               ..\n",
       "Serenitaria     2\n",
       "Ocraita         2\n",
       "Pelui           2\n",
       "Baglandia       2\n",
       "Zhou dynasty    2\n",
       "Name: count, Length: 90, dtype: int64"
      ]
     },
     "execution_count": 18,
     "metadata": {},
     "output_type": "execute_result"
    }
   ],
   "source": [
    "val_df_contexts_per_qe[\"entity\"].value_counts()"
   ]
  },
  {
   "cell_type": "code",
   "execution_count": 19,
   "metadata": {},
   "outputs": [
    {
     "data": {
      "text/html": [
       "<div>\n",
       "<style scoped>\n",
       "    .dataframe tbody tr th:only-of-type {\n",
       "        vertical-align: middle;\n",
       "    }\n",
       "\n",
       "    .dataframe tbody tr th {\n",
       "        vertical-align: top;\n",
       "    }\n",
       "\n",
       "    .dataframe thead th {\n",
       "        text-align: right;\n",
       "    }\n",
       "</style>\n",
       "<table border=\"1\" class=\"dataframe\">\n",
       "  <thead>\n",
       "    <tr style=\"text-align: right;\">\n",
       "      <th></th>\n",
       "      <th>q_id</th>\n",
       "      <th>query_form</th>\n",
       "      <th>entity</th>\n",
       "      <th>contexts</th>\n",
       "      <th>susceptibility_score</th>\n",
       "    </tr>\n",
       "  </thead>\n",
       "  <tbody>\n",
       "    <tr>\n",
       "      <th>103</th>\n",
       "      <td>capital_of</td>\n",
       "      <td>The capital of {} is</td>\n",
       "      <td>Republic of China (Taiwan)</td>\n",
       "      <td>[The capital of Republic of Acre is Kassel.\\n,...</td>\n",
       "      <td>0.046715</td>\n",
       "    </tr>\n",
       "    <tr>\n",
       "      <th>94</th>\n",
       "      <td>capital_of</td>\n",
       "      <td>The capital of {} is</td>\n",
       "      <td>Nagorno-Karabakh Republic</td>\n",
       "      <td>[The capital of Republic of Acre is Kassel.\\n,...</td>\n",
       "      <td>0.051147</td>\n",
       "    </tr>\n",
       "    <tr>\n",
       "      <th>107</th>\n",
       "      <td>capital_of</td>\n",
       "      <td>The capital of {} is</td>\n",
       "      <td>Kyrgyzstan</td>\n",
       "      <td>[The capital of Republic of Acre is Kassel.\\n,...</td>\n",
       "      <td>0.081597</td>\n",
       "    </tr>\n",
       "    <tr>\n",
       "      <th>101</th>\n",
       "      <td>capital_of</td>\n",
       "      <td>The capital of {} is</td>\n",
       "      <td>Somalia</td>\n",
       "      <td>[The capital of Republic of Acre is Kassel.\\n,...</td>\n",
       "      <td>0.083712</td>\n",
       "    </tr>\n",
       "    <tr>\n",
       "      <th>91</th>\n",
       "      <td>capital_of</td>\n",
       "      <td>The capital of {} is</td>\n",
       "      <td>Paraguay</td>\n",
       "      <td>[The capital of Republic of Acre is Kassel.\\n,...</td>\n",
       "      <td>0.083977</td>\n",
       "    </tr>\n",
       "    <tr>\n",
       "      <th>...</th>\n",
       "      <td>...</td>\n",
       "      <td>...</td>\n",
       "      <td>...</td>\n",
       "      <td>...</td>\n",
       "      <td>...</td>\n",
       "    </tr>\n",
       "    <tr>\n",
       "      <th>139</th>\n",
       "      <td>capital_of</td>\n",
       "      <td>The capital of {} is</td>\n",
       "      <td>Pasti</td>\n",
       "      <td>[The capital of Republic of Acre is Kassel.\\n,...</td>\n",
       "      <td>0.848880</td>\n",
       "    </tr>\n",
       "    <tr>\n",
       "      <th>120</th>\n",
       "      <td>capital_of</td>\n",
       "      <td>The capital of {} is</td>\n",
       "      <td>Cadasa</td>\n",
       "      <td>[The capital of Republic of Acre is Kassel.\\n,...</td>\n",
       "      <td>0.851561</td>\n",
       "    </tr>\n",
       "    <tr>\n",
       "      <th>148</th>\n",
       "      <td>capital_of</td>\n",
       "      <td>The capital of {} is</td>\n",
       "      <td>Fictional Country</td>\n",
       "      <td>[The capital of Republic of Acre is Kassel.\\n,...</td>\n",
       "      <td>0.914755</td>\n",
       "    </tr>\n",
       "    <tr>\n",
       "      <th>136</th>\n",
       "      <td>capital_of</td>\n",
       "      <td>The capital of {} is</td>\n",
       "      <td>Wula</td>\n",
       "      <td>[The capital of Republic of Acre is Kassel.\\n,...</td>\n",
       "      <td>0.918664</td>\n",
       "    </tr>\n",
       "    <tr>\n",
       "      <th>112</th>\n",
       "      <td>capital_of</td>\n",
       "      <td>The capital of {} is</td>\n",
       "      <td>Neon District</td>\n",
       "      <td>[The capital of Republic of Acre is Kassel.\\n,...</td>\n",
       "      <td>1.100019</td>\n",
       "    </tr>\n",
       "  </tbody>\n",
       "</table>\n",
       "<p>90 rows × 5 columns</p>\n",
       "</div>"
      ],
      "text/plain": [
       "           q_id            query_form                      entity  \\\n",
       "103  capital_of  The capital of {} is  Republic of China (Taiwan)   \n",
       "94   capital_of  The capital of {} is   Nagorno-Karabakh Republic   \n",
       "107  capital_of  The capital of {} is                  Kyrgyzstan   \n",
       "101  capital_of  The capital of {} is                     Somalia   \n",
       "91   capital_of  The capital of {} is                    Paraguay   \n",
       "..          ...                   ...                         ...   \n",
       "139  capital_of  The capital of {} is                       Pasti   \n",
       "120  capital_of  The capital of {} is                      Cadasa   \n",
       "148  capital_of  The capital of {} is           Fictional Country   \n",
       "136  capital_of  The capital of {} is                        Wula   \n",
       "112  capital_of  The capital of {} is               Neon District   \n",
       "\n",
       "                                              contexts  susceptibility_score  \n",
       "103  [The capital of Republic of Acre is Kassel.\\n,...              0.046715  \n",
       "94   [The capital of Republic of Acre is Kassel.\\n,...              0.051147  \n",
       "107  [The capital of Republic of Acre is Kassel.\\n,...              0.081597  \n",
       "101  [The capital of Republic of Acre is Kassel.\\n,...              0.083712  \n",
       "91   [The capital of Republic of Acre is Kassel.\\n,...              0.083977  \n",
       "..                                                 ...                   ...  \n",
       "139  [The capital of Republic of Acre is Kassel.\\n,...              0.848880  \n",
       "120  [The capital of Republic of Acre is Kassel.\\n,...              0.851561  \n",
       "148  [The capital of Republic of Acre is Kassel.\\n,...              0.914755  \n",
       "136  [The capital of Republic of Acre is Kassel.\\n,...              0.918664  \n",
       "112  [The capital of Republic of Acre is Kassel.\\n,...              1.100019  \n",
       "\n",
       "[90 rows x 5 columns]"
      ]
     },
     "execution_count": 19,
     "metadata": {},
     "output_type": "execute_result"
    }
   ],
   "source": [
    "val_df_contexts_per_qe[\n",
    "    val_df_contexts_per_qe[\"query_form\"] == \"The capital of {} is\"\n",
    "].sort_values(by=\"susceptibility_score\")"
   ]
  },
  {
   "cell_type": "code",
   "execution_count": 20,
   "metadata": {},
   "outputs": [
    {
     "data": {
      "text/html": [
       "<div>\n",
       "<style scoped>\n",
       "    .dataframe tbody tr th:only-of-type {\n",
       "        vertical-align: middle;\n",
       "    }\n",
       "\n",
       "    .dataframe tbody tr th {\n",
       "        vertical-align: top;\n",
       "    }\n",
       "\n",
       "    .dataframe thead th {\n",
       "        text-align: right;\n",
       "    }\n",
       "</style>\n",
       "<table border=\"1\" class=\"dataframe\">\n",
       "  <thead>\n",
       "    <tr style=\"text-align: right;\">\n",
       "      <th></th>\n",
       "      <th>q_id</th>\n",
       "      <th>query_form</th>\n",
       "      <th>entity</th>\n",
       "      <th>contexts</th>\n",
       "      <th>susceptibility_score</th>\n",
       "    </tr>\n",
       "  </thead>\n",
       "  <tbody>\n",
       "    <tr>\n",
       "      <th>13</th>\n",
       "      <td>capital_of</td>\n",
       "      <td>Q: What is the capital of {}?\\nA:</td>\n",
       "      <td>Republic of China (Taiwan)</td>\n",
       "      <td>[The capital of Republic of Acre is Kassel.\\n,...</td>\n",
       "      <td>0.031173</td>\n",
       "    </tr>\n",
       "    <tr>\n",
       "      <th>9</th>\n",
       "      <td>capital_of</td>\n",
       "      <td>Q: What is the capital of {}?\\nA:</td>\n",
       "      <td>Sweden</td>\n",
       "      <td>[The capital of Republic of Acre is Kassel.\\n,...</td>\n",
       "      <td>0.063413</td>\n",
       "    </tr>\n",
       "    <tr>\n",
       "      <th>2</th>\n",
       "      <td>capital_of</td>\n",
       "      <td>Q: What is the capital of {}?\\nA:</td>\n",
       "      <td>Finland</td>\n",
       "      <td>[The capital of Republic of Acre is Kassel.\\n,...</td>\n",
       "      <td>0.069502</td>\n",
       "    </tr>\n",
       "    <tr>\n",
       "      <th>64</th>\n",
       "      <td>capital_of</td>\n",
       "      <td>Q: What is the capital of {}?\\nA:</td>\n",
       "      <td>Arrakis</td>\n",
       "      <td>[The capital of Republic of Acre is Kassel.\\n,...</td>\n",
       "      <td>0.070778</td>\n",
       "    </tr>\n",
       "    <tr>\n",
       "      <th>62</th>\n",
       "      <td>capital_of</td>\n",
       "      <td>Q: What is the capital of {}?\\nA:</td>\n",
       "      <td>Narnia</td>\n",
       "      <td>[The capital of Republic of Acre is Kassel.\\n,...</td>\n",
       "      <td>0.071606</td>\n",
       "    </tr>\n",
       "    <tr>\n",
       "      <th>...</th>\n",
       "      <td>...</td>\n",
       "      <td>...</td>\n",
       "      <td>...</td>\n",
       "      <td>...</td>\n",
       "      <td>...</td>\n",
       "    </tr>\n",
       "    <tr>\n",
       "      <th>37</th>\n",
       "      <td>capital_of</td>\n",
       "      <td>Q: What is the capital of {}?\\nA:</td>\n",
       "      <td>Manika</td>\n",
       "      <td>[The capital of Republic of Acre is Kassel.\\n,...</td>\n",
       "      <td>0.365732</td>\n",
       "    </tr>\n",
       "    <tr>\n",
       "      <th>48</th>\n",
       "      <td>capital_of</td>\n",
       "      <td>Q: What is the capital of {}?\\nA:</td>\n",
       "      <td>Du</td>\n",
       "      <td>[The capital of Republic of Acre is Kassel.\\n,...</td>\n",
       "      <td>0.368670</td>\n",
       "    </tr>\n",
       "    <tr>\n",
       "      <th>46</th>\n",
       "      <td>capital_of</td>\n",
       "      <td>Q: What is the capital of {}?\\nA:</td>\n",
       "      <td>Wula</td>\n",
       "      <td>[The capital of Republic of Acre is Kassel.\\n,...</td>\n",
       "      <td>0.380046</td>\n",
       "    </tr>\n",
       "    <tr>\n",
       "      <th>20</th>\n",
       "      <td>capital_of</td>\n",
       "      <td>Q: What is the capital of {}?\\nA:</td>\n",
       "      <td>Kadersaryina</td>\n",
       "      <td>[The capital of Republic of Acre is Kassel.\\n,...</td>\n",
       "      <td>0.396409</td>\n",
       "    </tr>\n",
       "    <tr>\n",
       "      <th>51</th>\n",
       "      <td>capital_of</td>\n",
       "      <td>Q: What is the capital of {}?\\nA:</td>\n",
       "      <td>Consuleo</td>\n",
       "      <td>[The capital of Republic of Acre is Kassel.\\n,...</td>\n",
       "      <td>0.459608</td>\n",
       "    </tr>\n",
       "  </tbody>\n",
       "</table>\n",
       "<p>90 rows × 5 columns</p>\n",
       "</div>"
      ],
      "text/plain": [
       "          q_id                         query_form                      entity  \\\n",
       "13  capital_of  Q: What is the capital of {}?\\nA:  Republic of China (Taiwan)   \n",
       "9   capital_of  Q: What is the capital of {}?\\nA:                      Sweden   \n",
       "2   capital_of  Q: What is the capital of {}?\\nA:                     Finland   \n",
       "64  capital_of  Q: What is the capital of {}?\\nA:                     Arrakis   \n",
       "62  capital_of  Q: What is the capital of {}?\\nA:                      Narnia   \n",
       "..         ...                                ...                         ...   \n",
       "37  capital_of  Q: What is the capital of {}?\\nA:                      Manika   \n",
       "48  capital_of  Q: What is the capital of {}?\\nA:                          Du   \n",
       "46  capital_of  Q: What is the capital of {}?\\nA:                        Wula   \n",
       "20  capital_of  Q: What is the capital of {}?\\nA:                Kadersaryina   \n",
       "51  capital_of  Q: What is the capital of {}?\\nA:                    Consuleo   \n",
       "\n",
       "                                             contexts  susceptibility_score  \n",
       "13  [The capital of Republic of Acre is Kassel.\\n,...              0.031173  \n",
       "9   [The capital of Republic of Acre is Kassel.\\n,...              0.063413  \n",
       "2   [The capital of Republic of Acre is Kassel.\\n,...              0.069502  \n",
       "64  [The capital of Republic of Acre is Kassel.\\n,...              0.070778  \n",
       "62  [The capital of Republic of Acre is Kassel.\\n,...              0.071606  \n",
       "..                                                ...                   ...  \n",
       "37  [The capital of Republic of Acre is Kassel.\\n,...              0.365732  \n",
       "48  [The capital of Republic of Acre is Kassel.\\n,...              0.368670  \n",
       "46  [The capital of Republic of Acre is Kassel.\\n,...              0.380046  \n",
       "20  [The capital of Republic of Acre is Kassel.\\n,...              0.396409  \n",
       "51  [The capital of Republic of Acre is Kassel.\\n,...              0.459608  \n",
       "\n",
       "[90 rows x 5 columns]"
      ]
     },
     "execution_count": 20,
     "metadata": {},
     "output_type": "execute_result"
    }
   ],
   "source": [
    "val_df_contexts_per_qe[\n",
    "    val_df_contexts_per_qe[\"query_form\"] == \"Q: What is the capital of {}?\\nA:\"\n",
    "].sort_values(by=\"susceptibility_score\")"
   ]
  },
  {
   "cell_type": "code",
   "execution_count": 21,
   "metadata": {},
   "outputs": [
    {
     "data": {
      "text/html": [
       " View run <strong style=\"color:#cdcd00\">astral-dream-38</strong> at: <a href='https://wandb.ai/ethz-rycolab/context-vs-bias/runs/awcotqx4' target=\"_blank\">https://wandb.ai/ethz-rycolab/context-vs-bias/runs/awcotqx4</a><br/> View job at <a href='https://wandb.ai/ethz-rycolab/context-vs-bias/jobs/QXJ0aWZhY3RDb2xsZWN0aW9uOjEyMjc4ODI2NQ==/version_details/v4' target=\"_blank\">https://wandb.ai/ethz-rycolab/context-vs-bias/jobs/QXJ0aWZhY3RDb2xsZWN0aW9uOjEyMjc4ODI2NQ==/version_details/v4</a><br/>Synced 6 W&B file(s), 0 media file(s), 11 artifact file(s) and 0 other file(s)"
      ],
      "text/plain": [
       "<IPython.core.display.HTML object>"
      ]
     },
     "metadata": {},
     "output_type": "display_data"
    },
    {
     "data": {
      "text/html": [
       "Find logs at: <code>./wandb/run-20231218_195644-awcotqx4/logs</code>"
      ],
      "text/plain": [
       "<IPython.core.display.HTML object>"
      ]
     },
     "metadata": {},
     "output_type": "display_data"
    }
   ],
   "source": [
    "wandb.finish()"
   ]
  }
 ],
 "metadata": {
  "kernelspec": {
   "display_name": "MeasureLM",
   "language": "python",
   "name": "measurelm"
  },
  "language_info": {
   "codemirror_mode": {
    "name": "ipython",
    "version": 3
   },
   "file_extension": ".py",
   "mimetype": "text/x-python",
   "name": "python",
   "nbconvert_exporter": "python",
   "pygments_lexer": "ipython3",
   "version": "3.10.13"
  }
 },
 "nbformat": 4,
 "nbformat_minor": 4
}
