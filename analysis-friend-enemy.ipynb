{
 "cells": [
  {
   "cell_type": "markdown",
   "metadata": {},
   "source": [
    "# Analyzing Susceptibility Scores\n",
    "Given a CSV with the columns:\n",
    "\n",
    "```q_id,\tquery_form,\tentity,\tcontexts,\tsusceptibility_score```\n",
    "\n",
    "Analyze the results for patterns and correlations"
   ]
  },
  {
   "cell_type": "code",
   "execution_count": 1,
   "metadata": {},
   "outputs": [],
   "source": [
    "%load_ext autoreload\n",
    "%autoreload 2\n",
    "%load_ext lab_black"
   ]
  },
  {
   "cell_type": "code",
   "execution_count": 2,
   "metadata": {},
   "outputs": [],
   "source": [
    "import os\n",
    "import sys\n",
    "import math\n",
    "import random\n",
    "from itertools import product\n",
    "from tqdm import tqdm\n",
    "import yaml\n",
    "\n",
    "import pandas as pd\n",
    "import seaborn as sns\n",
    "\n",
    "# from transformers import GPTNeoXForCausalLM, AutoTokenizer\n",
    "import torch\n",
    "from typing import List\n",
    "from matplotlib import pyplot as plt\n",
    "import numpy as np\n",
    "import wandb\n",
    "\n",
    "import statsmodels.api as sm\n",
    "\n",
    "# from measuring.estimate_probs import (\n",
    "#     estimate_prob_y_given_context_and_entity,\n",
    "#     estimate_prob_x_given_e,\n",
    "#     estimate_prob_next_word_given_x_and_entity,\n",
    "#     estimate_cmi,\n",
    "#     score_model_for_next_word_prob,\n",
    "#     create_position_ids_from_input_ids,\n",
    "#     sharded_score_model,\n",
    "#     estimate_entity_score,\n",
    "#     kl_div,\n",
    "#     difference,\n",
    "#     difference_p_good_only,\n",
    "#     difference_abs_val,\n",
    "# )\n",
    "from preprocessing.datasets import CountryCapital, FriendEnemy"
   ]
  },
  {
   "cell_type": "markdown",
   "metadata": {},
   "source": [
    "### Preamble"
   ]
  },
  {
   "cell_type": "code",
   "execution_count": 3,
   "metadata": {
    "tags": [
     "parameters"
    ]
   },
   "outputs": [],
   "source": [
    "##################\n",
    "### Parameters ###\n",
    "##################\n",
    "\n",
    "# Data parameters\n",
    "SEED = 0\n",
    "# DATASET_NAME = \"CountryCapital\"\n",
    "# DATASET_KWARGS_IDENTIFIABLE = dict(\n",
    "#     max_contexts=450,\n",
    "#     max_entities=90,\n",
    "#     cap_per_type=True,\n",
    "#     raw_country_capitals_path=\"data/CountryCapital/real-fake-historical-fictional-famousfictional-country-capital.csv\",\n",
    "# )\n",
    "DATASET_NAME = \"FriendEnemy\"\n",
    "# DATASET_KWARGS_IDENTIFIABLE = dict(\n",
    "#     max_contexts=15,\n",
    "#     max_entities=5,\n",
    "#     cap_per_type=False,\n",
    "#     raw_data_path=\"data/FriendEnemy/raw-friend-enemy.csv\",\n",
    "# )\n",
    "DATASET_KWARGS_IDENTIFIABLE = dict(\n",
    "    max_contexts=657,\n",
    "    max_entities=73,\n",
    "    cap_per_type=False,\n",
    "    raw_data_path=\"data/FriendEnemy/raw-friend-enemy.csv\",\n",
    ")\n",
    "LOG_DATASETS = True\n",
    "\n",
    "# Model parameters\n",
    "# MODEL_ID = \"EleutherAI/pythia-70m-deduped\"\n",
    "# LOAD_IN_8BIT = False\n",
    "MODEL_ID = \"EleutherAI/pythia-6.9b-deduped\"\n",
    "LOAD_IN_8BIT = True\n",
    "BATCH_SZ = 16\n",
    "\n",
    "# Evaluation switches\n",
    "COMPUTE_CMI = True\n",
    "COMPUTE_KL = True\n",
    "COMPUTE_GOOD_BAD = True\n",
    "COMPUTE_GOOD_BAD_ABS = True\n",
    "COMPUTE_GOOD_BAD_P_GOOD_ONLY = True\n",
    "\n",
    "# wandb stuff\n",
    "PROJECT_NAME = \"context-vs-bias\"\n",
    "GROUP_NAME = None\n",
    "TAGS = [\"friend-enemy\", \"analysis\"]"
   ]
  },
  {
   "cell_type": "code",
   "execution_count": 4,
   "metadata": {},
   "outputs": [
    {
     "name": "stdout",
     "output_type": "stream",
     "text": [
      "Data dir: data/FriendEnemy/FriendEnemy-mc657-me73/0\n",
      "Model dir: data/FriendEnemy/FriendEnemy-mc657-me73/0/models/EleutherAI/pythia-6.9b-deduped-8bit\n"
     ]
    }
   ],
   "source": [
    "# Paths\n",
    "# Construct dataset and data ids\n",
    "# dataset = getattr(sys.modules[__name__], DATASET_NAME)(**DATASET_KWARGS_IDENTIFIABLE)\n",
    "data_id = f\"{DATASET_NAME}\"\n",
    "data_id += (\n",
    "    f\"-mc{DATASET_KWARGS_IDENTIFIABLE['max_contexts']}\"\n",
    "    if \"max_contexts\" in DATASET_KWARGS_IDENTIFIABLE\n",
    "    and DATASET_KWARGS_IDENTIFIABLE[\"max_contexts\"] is not None\n",
    "    else \"\"\n",
    ")\n",
    "data_id += (\n",
    "    f\"-me{DATASET_KWARGS_IDENTIFIABLE['max_entities']}\"\n",
    "    if \"max_entities\" in DATASET_KWARGS_IDENTIFIABLE\n",
    "    and DATASET_KWARGS_IDENTIFIABLE[\"max_entities\"] is not None\n",
    "    else \"\"\n",
    ")\n",
    "data_id += (\n",
    "    \"-cappertype\"\n",
    "    if \"cap_per_type\" in DATASET_KWARGS_IDENTIFIABLE\n",
    "    and DATASET_KWARGS_IDENTIFIABLE[\"cap_per_type\"]\n",
    "    else \"\"\n",
    ")\n",
    "data_id += (\n",
    "    \"-ablate\"\n",
    "    if \"ablate_out_relevant_contexts\" in DATASET_KWARGS_IDENTIFIABLE\n",
    "    and DATASET_KWARGS_IDENTIFIABLE[\"ablate_out_relevant_contexts\"]\n",
    "    else \"\"\n",
    ")\n",
    "\n",
    "data_dir = os.path.join(\"data\", DATASET_NAME, data_id, f\"{SEED}\")\n",
    "input_dir = os.path.join(data_dir, \"inputs\")\n",
    "entities_path = os.path.join(input_dir, \"entities.json\")\n",
    "contexts_path = os.path.join(input_dir, \"contexts.json\")\n",
    "queries_path = os.path.join(input_dir, \"queries.json\")\n",
    "val_data_path = os.path.join(input_dir, \"val.csv\")\n",
    "DATASET_KWARGS_IDENTIFIABLE = {\n",
    "    **DATASET_KWARGS_IDENTIFIABLE,\n",
    "    **dict(\n",
    "        entities_path=entities_path,\n",
    "        contexts_path=contexts_path,\n",
    "        queries_path=queries_path,\n",
    "    ),\n",
    "}\n",
    "\n",
    "# Construct model id\n",
    "model_id = f\"{MODEL_ID}\"\n",
    "model_id += \"-8bit\" if LOAD_IN_8BIT else \"\"\n",
    "model_dir = os.path.join(data_dir, \"models\", model_id)\n",
    "\n",
    "# Results path\n",
    "results_dir = os.path.join(model_dir, \"results\")\n",
    "val_results_path = os.path.join(results_dir, \"val.csv\")\n",
    "\n",
    "print(f\"Data dir: {data_dir}\")\n",
    "print(f\"Model dir: {model_dir}\")"
   ]
  },
  {
   "cell_type": "code",
   "execution_count": 5,
   "metadata": {},
   "outputs": [
    {
     "name": "stdout",
     "output_type": "stream",
     "text": [
      "Analysis dir: data/FriendEnemy/FriendEnemy-mc657-me73/0/analysis\n"
     ]
    }
   ],
   "source": [
    "# Analysis dir\n",
    "analysis_dir = os.path.join(data_dir, \"analysis\")\n",
    "print(f\"Analysis dir: {analysis_dir}\")"
   ]
  },
  {
   "cell_type": "code",
   "execution_count": 6,
   "metadata": {},
   "outputs": [],
   "source": [
    "os.makedirs(input_dir, exist_ok=True)\n",
    "os.makedirs(results_dir, exist_ok=True)\n",
    "os.makedirs(model_dir, exist_ok=True)\n",
    "os.makedirs(analysis_dir, exist_ok=True)\n",
    "dataset = getattr(sys.modules[__name__], DATASET_NAME)(**DATASET_KWARGS_IDENTIFIABLE)"
   ]
  },
  {
   "cell_type": "code",
   "execution_count": 7,
   "metadata": {},
   "outputs": [],
   "source": [
    "# Set random seeds\n",
    "torch.manual_seed(SEED)\n",
    "np.random.seed(SEED)\n",
    "random.seed(SEED)"
   ]
  },
  {
   "cell_type": "code",
   "execution_count": 8,
   "metadata": {},
   "outputs": [],
   "source": [
    "# GPU stuff\n",
    "device = \"cuda\" if torch.cuda.is_available() else \"cpu\""
   ]
  },
  {
   "cell_type": "code",
   "execution_count": 9,
   "metadata": {
    "tags": []
   },
   "outputs": [
    {
     "name": "stderr",
     "output_type": "stream",
     "text": [
      "\u001b[34m\u001b[1mwandb\u001b[0m: Currently logged in as: \u001b[33mkdu\u001b[0m (\u001b[33methz-rycolab\u001b[0m). Use \u001b[1m`wandb login --relogin`\u001b[0m to force relogin\n",
      "/cluster/home/kevidu/.local/lib/python3.10/site-packages/numpy/core/getlimits.py:500: UserWarning: The value of the smallest subnormal for <class 'numpy.float32'> type is zero.\n",
      "  setattr(self, word, getattr(machar, word).flat[0])\n",
      "/cluster/home/kevidu/.local/lib/python3.10/site-packages/numpy/core/getlimits.py:89: UserWarning: The value of the smallest subnormal for <class 'numpy.float32'> type is zero.\n",
      "  return self._float_to_str(self.smallest_subnormal)\n",
      "/cluster/home/kevidu/.local/lib/python3.10/site-packages/numpy/core/getlimits.py:500: UserWarning: The value of the smallest subnormal for <class 'numpy.float64'> type is zero.\n",
      "  setattr(self, word, getattr(machar, word).flat[0])\n",
      "/cluster/home/kevidu/.local/lib/python3.10/site-packages/numpy/core/getlimits.py:89: UserWarning: The value of the smallest subnormal for <class 'numpy.float64'> type is zero.\n",
      "  return self._float_to_str(self.smallest_subnormal)\n"
     ]
    },
    {
     "data": {
      "text/html": [
       "wandb version 0.16.1 is available!  To upgrade, please run:\n",
       " $ pip install wandb --upgrade"
      ],
      "text/plain": [
       "<IPython.core.display.HTML object>"
      ]
     },
     "metadata": {},
     "output_type": "display_data"
    },
    {
     "data": {
      "text/html": [
       "Tracking run with wandb version 0.12.17"
      ],
      "text/plain": [
       "<IPython.core.display.HTML object>"
      ]
     },
     "metadata": {},
     "output_type": "display_data"
    },
    {
     "data": {
      "text/html": [
       "Run data is saved locally in <code>/cluster/work/cotterell/kdu/measureLM/wandb/run-20231219_210542-1c8w06ck</code>"
      ],
      "text/plain": [
       "<IPython.core.display.HTML object>"
      ]
     },
     "metadata": {},
     "output_type": "display_data"
    },
    {
     "data": {
      "text/html": [
       "Syncing run <strong><a href=\"https://wandb.ai/ethz-rycolab/context-vs-bias/runs/1c8w06ck\" target=\"_blank\">balmy-hill-58</a></strong> to <a href=\"https://wandb.ai/ethz-rycolab/context-vs-bias\" target=\"_blank\">Weights & Biases</a> (<a href=\"https://wandb.me/run\" target=\"_blank\">docs</a>)<br/>"
      ],
      "text/plain": [
       "<IPython.core.display.HTML object>"
      ]
     },
     "metadata": {},
     "output_type": "display_data"
    },
    {
     "name": "stdout",
     "output_type": "stream",
     "text": [
      "{'SEED': 0, 'DATASET_NAME': 'FriendEnemy', 'DATASET_KWARGS_IDENTIFIABLE': {'max_contexts': 657, 'max_entities': 73, 'cap_per_type': False, 'raw_data_path': 'data/FriendEnemy/raw-friend-enemy.csv', 'entities_path': 'data/FriendEnemy/FriendEnemy-mc657-me73/0/inputs/entities.json', 'contexts_path': 'data/FriendEnemy/FriendEnemy-mc657-me73/0/inputs/contexts.json', 'queries_path': 'data/FriendEnemy/FriendEnemy-mc657-me73/0/inputs/queries.json'}, 'LOG_DATASETS': True, 'MODEL_ID': 'EleutherAI/pythia-6.9b-deduped', 'LOAD_IN_8BIT': True, 'BATCH_SZ': 16, 'COMPUTE_CMI': True, 'COMPUTE_KL': True, 'COMPUTE_GOOD_BAD': True, 'COMPUTE_GOOD_BAD_ABS': True, 'COMPUTE_GOOD_BAD_P_GOOD_ONLY': True, 'PROJECT_NAME': 'context-vs-bias', 'GROUP_NAME': None, 'TAGS': ['friend-enemy', 'analysis']}\n"
     ]
    }
   ],
   "source": [
    "# wandb stuff\n",
    "os.environ[\"WANDB_NOTEBOOK_NAME\"] = os.path.join(os.getcwd(), \"analysis.ipynb\")\n",
    "\n",
    "params_to_log = {k: v for k, v in locals().items() if k.isupper()}\n",
    "\n",
    "run = wandb.init(\n",
    "    project=PROJECT_NAME,\n",
    "    group=GROUP_NAME,\n",
    "    config=params_to_log,\n",
    "    tags=TAGS,\n",
    "    mode=\"online\",\n",
    ")\n",
    "print(dict(wandb.config))"
   ]
  },
  {
   "cell_type": "markdown",
   "metadata": {},
   "source": [
    "### Load Data"
   ]
  },
  {
   "cell_type": "code",
   "execution_count": 10,
   "metadata": {},
   "outputs": [],
   "source": [
    "from ast import literal_eval\n",
    "\n",
    "val_df_contexts_per_qe = pd.read_csv(\n",
    "    val_results_path, index_col=0, converters={\"contexts\": literal_eval}\n",
    ")"
   ]
  },
  {
   "cell_type": "code",
   "execution_count": 11,
   "metadata": {},
   "outputs": [
    {
     "name": "stderr",
     "output_type": "stream",
     "text": [
      "\u001b[34m\u001b[1mwandb\u001b[0m: Adding directory to artifact (./data/FriendEnemy/FriendEnemy-mc657-me73/0/inputs)... Done. 0.1s\n"
     ]
    },
    {
     "name": "stdout",
     "output_type": "stream",
     "text": [
      "Logging datasets to w&b run <wandb.sdk.wandb_run.Run object at 0x2af690e3a230>.\n"
     ]
    }
   ],
   "source": [
    "# After loading/preprocessing your dataset, log it as an artifact to W&B\n",
    "if LOG_DATASETS:\n",
    "    print(f\"Logging datasets to w&b run {wandb.run}.\")\n",
    "    artifact = wandb.Artifact(name=data_id, type=\"dataset\")\n",
    "    artifact.add_dir(local_path=input_dir)\n",
    "    run.log_artifact(artifact)"
   ]
  },
  {
   "cell_type": "markdown",
   "metadata": {},
   "source": [
    "### Analyze Data"
   ]
  },
  {
   "cell_type": "code",
   "execution_count": 12,
   "metadata": {},
   "outputs": [
    {
     "data": {
      "text/html": [
       "<div>\n",
       "<style scoped>\n",
       "    .dataframe tbody tr th:only-of-type {\n",
       "        vertical-align: middle;\n",
       "    }\n",
       "\n",
       "    .dataframe tbody tr th {\n",
       "        vertical-align: top;\n",
       "    }\n",
       "\n",
       "    .dataframe thead th {\n",
       "        text-align: right;\n",
       "    }\n",
       "</style>\n",
       "<table border=\"1\" class=\"dataframe\">\n",
       "  <thead>\n",
       "    <tr style=\"text-align: right;\">\n",
       "      <th></th>\n",
       "      <th>q_id</th>\n",
       "      <th>query_form</th>\n",
       "      <th>entity</th>\n",
       "      <th>contexts</th>\n",
       "      <th>susceptibility_score</th>\n",
       "    </tr>\n",
       "  </thead>\n",
       "  <tbody>\n",
       "    <tr>\n",
       "      <th>0</th>\n",
       "      <td>friend-enemy</td>\n",
       "      <td>Q: Are {} and {} friends or enemies?\\nA:</td>\n",
       "      <td>('John Lennon', 'Paul McCartney')</td>\n",
       "      <td>[Sheriff of Nottingham detests Robin Hood.\\n, ...</td>\n",
       "      <td>0.066611</td>\n",
       "    </tr>\n",
       "    <tr>\n",
       "      <th>1</th>\n",
       "      <td>friend-enemy</td>\n",
       "      <td>Q: Are {} and {} friends or enemies?\\nA:</td>\n",
       "      <td>('Harry Potter', 'Hermione Granger')</td>\n",
       "      <td>[Sheriff of Nottingham detests Robin Hood.\\n, ...</td>\n",
       "      <td>0.061121</td>\n",
       "    </tr>\n",
       "    <tr>\n",
       "      <th>2</th>\n",
       "      <td>friend-enemy</td>\n",
       "      <td>Q: Are {} and {} friends or enemies?\\nA:</td>\n",
       "      <td>('Kuomintang', 'Chinese Communist Party')</td>\n",
       "      <td>[Sheriff of Nottingham detests Robin Hood.\\n, ...</td>\n",
       "      <td>0.057711</td>\n",
       "    </tr>\n",
       "    <tr>\n",
       "      <th>3</th>\n",
       "      <td>friend-enemy</td>\n",
       "      <td>Q: Are {} and {} friends or enemies?\\nA:</td>\n",
       "      <td>('Sheriff of Nottingham', 'Robin Hood')</td>\n",
       "      <td>[Sheriff of Nottingham detests Robin Hood.\\n, ...</td>\n",
       "      <td>0.084398</td>\n",
       "    </tr>\n",
       "    <tr>\n",
       "      <th>4</th>\n",
       "      <td>friend-enemy</td>\n",
       "      <td>Q: Are {} and {} friends or enemies?\\nA:</td>\n",
       "      <td>('Gauls', 'Rome')</td>\n",
       "      <td>[Sheriff of Nottingham detests Robin Hood.\\n, ...</td>\n",
       "      <td>0.054643</td>\n",
       "    </tr>\n",
       "  </tbody>\n",
       "</table>\n",
       "</div>"
      ],
      "text/plain": [
       "           q_id                                query_form  \\\n",
       "0  friend-enemy  Q: Are {} and {} friends or enemies?\\nA:   \n",
       "1  friend-enemy  Q: Are {} and {} friends or enemies?\\nA:   \n",
       "2  friend-enemy  Q: Are {} and {} friends or enemies?\\nA:   \n",
       "3  friend-enemy  Q: Are {} and {} friends or enemies?\\nA:   \n",
       "4  friend-enemy  Q: Are {} and {} friends or enemies?\\nA:   \n",
       "\n",
       "                                      entity  \\\n",
       "0          ('John Lennon', 'Paul McCartney')   \n",
       "1       ('Harry Potter', 'Hermione Granger')   \n",
       "2  ('Kuomintang', 'Chinese Communist Party')   \n",
       "3    ('Sheriff of Nottingham', 'Robin Hood')   \n",
       "4                          ('Gauls', 'Rome')   \n",
       "\n",
       "                                            contexts  susceptibility_score  \n",
       "0  [Sheriff of Nottingham detests Robin Hood.\\n, ...              0.066611  \n",
       "1  [Sheriff of Nottingham detests Robin Hood.\\n, ...              0.061121  \n",
       "2  [Sheriff of Nottingham detests Robin Hood.\\n, ...              0.057711  \n",
       "3  [Sheriff of Nottingham detests Robin Hood.\\n, ...              0.084398  \n",
       "4  [Sheriff of Nottingham detests Robin Hood.\\n, ...              0.054643  "
      ]
     },
     "execution_count": 12,
     "metadata": {},
     "output_type": "execute_result"
    }
   ],
   "source": [
    "val_df_contexts_per_qe.head()"
   ]
  },
  {
   "cell_type": "code",
   "execution_count": 13,
   "metadata": {},
   "outputs": [
    {
     "data": {
      "text/plain": [
       "(John Lennon, Paul McCartney)            3\n",
       "(Albert Einstein, Niels Bohr)            3\n",
       "(Borussia Dortmund, FC Bayern Munich)    3\n",
       "(Superman, Lex Luthor)                   3\n",
       "(Bill Gates, Paul Allen)                 3\n",
       "                                        ..\n",
       "(Frodo Baggins, Samwise Gamgee)          3\n",
       "(Spiderman, Norman Osborne)              3\n",
       "(Marc Twain, Hellen Keller)              3\n",
       "(Harry Potter, Ronald Weasley)           3\n",
       "(Moby Dick, Captain Ahab)                3\n",
       "Name: entity, Length: 73, dtype: int64"
      ]
     },
     "execution_count": 13,
     "metadata": {},
     "output_type": "execute_result"
    }
   ],
   "source": [
    "val_df_contexts_per_qe[\"entity\"] = val_df_contexts_per_qe[\"entity\"].apply(eval)\n",
    "val_df_contexts_per_qe[\"entity\"].value_counts()"
   ]
  },
  {
   "cell_type": "code",
   "execution_count": 14,
   "metadata": {},
   "outputs": [
    {
     "data": {
      "text/plain": [
       "['Sheriff of Nottingham detests Robin Hood.\\n',\n",
       " 'Jack Sparrow detests Hector Barbossa.\\n',\n",
       " 'Spiderman acknowledges Norman Osborne.\\n',\n",
       " 'USA sees Soviet Union.\\n',\n",
       " 'Mark Twain adores Nikola Tesla.\\n',\n",
       " 'Han Solo likes Chewbacca.\\n',\n",
       " 'Peter Pan loves Captain Hook.\\n',\n",
       " 'Thomas Edison sees Nikola Tesla.\\n',\n",
       " 'Frodo Baggins likes Samwise Gamgee.\\n',\n",
       " 'UPS hates Fedex.\\n']"
      ]
     },
     "execution_count": 14,
     "metadata": {},
     "output_type": "execute_result"
    }
   ],
   "source": [
    "val_df_contexts_per_qe.iloc[0][\"contexts\"][:10]"
   ]
  },
  {
   "cell_type": "code",
   "execution_count": 15,
   "metadata": {},
   "outputs": [
    {
     "data": {
      "text/html": [
       "<div>\n",
       "<style scoped>\n",
       "    .dataframe tbody tr th:only-of-type {\n",
       "        vertical-align: middle;\n",
       "    }\n",
       "\n",
       "    .dataframe tbody tr th {\n",
       "        vertical-align: top;\n",
       "    }\n",
       "\n",
       "    .dataframe thead th {\n",
       "        text-align: right;\n",
       "    }\n",
       "</style>\n",
       "<table border=\"1\" class=\"dataframe\">\n",
       "  <thead>\n",
       "    <tr style=\"text-align: right;\">\n",
       "      <th></th>\n",
       "      <th>ent1</th>\n",
       "      <th>ent2</th>\n",
       "      <th>label</th>\n",
       "      <th>type</th>\n",
       "      <th>entity</th>\n",
       "    </tr>\n",
       "  </thead>\n",
       "  <tbody>\n",
       "    <tr>\n",
       "      <th>0</th>\n",
       "      <td>Sherlock Holmes</td>\n",
       "      <td>James Moriarty</td>\n",
       "      <td>enemy</td>\n",
       "      <td>movie</td>\n",
       "      <td>(Sherlock Holmes, James Moriarty)</td>\n",
       "    </tr>\n",
       "    <tr>\n",
       "      <th>1</th>\n",
       "      <td>Obi Wan Kenobi</td>\n",
       "      <td>Darth Maul</td>\n",
       "      <td>enemy</td>\n",
       "      <td>movie</td>\n",
       "      <td>(Obi Wan Kenobi, Darth Maul)</td>\n",
       "    </tr>\n",
       "    <tr>\n",
       "      <th>2</th>\n",
       "      <td>Harry Potter</td>\n",
       "      <td>Lord Voldemort</td>\n",
       "      <td>enemy</td>\n",
       "      <td>movie</td>\n",
       "      <td>(Harry Potter, Lord Voldemort)</td>\n",
       "    </tr>\n",
       "    <tr>\n",
       "      <th>3</th>\n",
       "      <td>Harry Potter</td>\n",
       "      <td>Draco Malfoy</td>\n",
       "      <td>enemy</td>\n",
       "      <td>movie</td>\n",
       "      <td>(Harry Potter, Draco Malfoy)</td>\n",
       "    </tr>\n",
       "    <tr>\n",
       "      <th>4</th>\n",
       "      <td>Spiderman</td>\n",
       "      <td>Norman Osborne</td>\n",
       "      <td>enemy</td>\n",
       "      <td>movie</td>\n",
       "      <td>(Spiderman, Norman Osborne)</td>\n",
       "    </tr>\n",
       "    <tr>\n",
       "      <th>...</th>\n",
       "      <td>...</td>\n",
       "      <td>...</td>\n",
       "      <td>...</td>\n",
       "      <td>...</td>\n",
       "      <td>...</td>\n",
       "    </tr>\n",
       "    <tr>\n",
       "      <th>68</th>\n",
       "      <td>Bill Gates</td>\n",
       "      <td>Paul Allen</td>\n",
       "      <td>friend</td>\n",
       "      <td>business</td>\n",
       "      <td>(Bill Gates, Paul Allen)</td>\n",
       "    </tr>\n",
       "    <tr>\n",
       "      <th>69</th>\n",
       "      <td>Larry Page</td>\n",
       "      <td>Sergei Brin</td>\n",
       "      <td>friend</td>\n",
       "      <td>business</td>\n",
       "      <td>(Larry Page, Sergei Brin)</td>\n",
       "    </tr>\n",
       "    <tr>\n",
       "      <th>70</th>\n",
       "      <td>Mike Wazowski</td>\n",
       "      <td>James P. Sullivan</td>\n",
       "      <td>friend</td>\n",
       "      <td>movie</td>\n",
       "      <td>(Mike Wazowski, James P. Sullivan)</td>\n",
       "    </tr>\n",
       "    <tr>\n",
       "      <th>71</th>\n",
       "      <td>Sherlock Holmes</td>\n",
       "      <td>John Watson</td>\n",
       "      <td>friend</td>\n",
       "      <td>movie</td>\n",
       "      <td>(Sherlock Holmes, John Watson)</td>\n",
       "    </tr>\n",
       "    <tr>\n",
       "      <th>72</th>\n",
       "      <td>Harry Potter</td>\n",
       "      <td>Albus Dumbledore</td>\n",
       "      <td>friend</td>\n",
       "      <td>movie</td>\n",
       "      <td>(Harry Potter, Albus Dumbledore)</td>\n",
       "    </tr>\n",
       "  </tbody>\n",
       "</table>\n",
       "<p>73 rows × 5 columns</p>\n",
       "</div>"
      ],
      "text/plain": [
       "               ent1               ent2   label      type  \\\n",
       "0   Sherlock Holmes     James Moriarty   enemy     movie   \n",
       "1    Obi Wan Kenobi         Darth Maul   enemy     movie   \n",
       "2      Harry Potter     Lord Voldemort   enemy     movie   \n",
       "3      Harry Potter       Draco Malfoy   enemy     movie   \n",
       "4         Spiderman     Norman Osborne   enemy     movie   \n",
       "..              ...                ...     ...       ...   \n",
       "68       Bill Gates         Paul Allen  friend  business   \n",
       "69       Larry Page        Sergei Brin  friend  business   \n",
       "70    Mike Wazowski  James P. Sullivan  friend     movie   \n",
       "71  Sherlock Holmes        John Watson  friend     movie   \n",
       "72     Harry Potter   Albus Dumbledore  friend     movie   \n",
       "\n",
       "                                entity  \n",
       "0    (Sherlock Holmes, James Moriarty)  \n",
       "1         (Obi Wan Kenobi, Darth Maul)  \n",
       "2       (Harry Potter, Lord Voldemort)  \n",
       "3         (Harry Potter, Draco Malfoy)  \n",
       "4          (Spiderman, Norman Osborne)  \n",
       "..                                 ...  \n",
       "68            (Bill Gates, Paul Allen)  \n",
       "69           (Larry Page, Sergei Brin)  \n",
       "70  (Mike Wazowski, James P. Sullivan)  \n",
       "71      (Sherlock Holmes, John Watson)  \n",
       "72    (Harry Potter, Albus Dumbledore)  \n",
       "\n",
       "[73 rows x 5 columns]"
      ]
     },
     "execution_count": 15,
     "metadata": {},
     "output_type": "execute_result"
    }
   ],
   "source": [
    "friend_enemy_data = pd.read_csv(\n",
    "    DATASET_KWARGS_IDENTIFIABLE[\"raw_data_path\"],\n",
    "    # os.path.join(\"data\", DATASET_NAME, \"real-fake-country-capital.csv\"),\n",
    "    # index_col=0,\n",
    ")\n",
    "friend_enemy_data[\"entity\"] = list(\n",
    "    zip(friend_enemy_data[\"ent1\"], friend_enemy_data[\"ent2\"])\n",
    ")\n",
    "friend_enemy_data"
   ]
  },
  {
   "cell_type": "code",
   "execution_count": 16,
   "metadata": {},
   "outputs": [
    {
     "data": {
      "text/html": [
       "<div>\n",
       "<style scoped>\n",
       "    .dataframe tbody tr th:only-of-type {\n",
       "        vertical-align: middle;\n",
       "    }\n",
       "\n",
       "    .dataframe tbody tr th {\n",
       "        vertical-align: top;\n",
       "    }\n",
       "\n",
       "    .dataframe thead th {\n",
       "        text-align: right;\n",
       "    }\n",
       "</style>\n",
       "<table border=\"1\" class=\"dataframe\">\n",
       "  <thead>\n",
       "    <tr style=\"text-align: right;\">\n",
       "      <th></th>\n",
       "      <th>q_id</th>\n",
       "      <th>query_form</th>\n",
       "      <th>entity</th>\n",
       "      <th>contexts</th>\n",
       "      <th>susceptibility_score</th>\n",
       "    </tr>\n",
       "  </thead>\n",
       "  <tbody>\n",
       "    <tr>\n",
       "      <th>0</th>\n",
       "      <td>friend-enemy</td>\n",
       "      <td>Q: Are {} and {} friends or enemies?\\nA:</td>\n",
       "      <td>(John Lennon, Paul McCartney)</td>\n",
       "      <td>[Sheriff of Nottingham detests Robin Hood.\\n, ...</td>\n",
       "      <td>0.066611</td>\n",
       "    </tr>\n",
       "    <tr>\n",
       "      <th>1</th>\n",
       "      <td>friend-enemy</td>\n",
       "      <td>Q: Are {} and {} friends or enemies?\\nA:</td>\n",
       "      <td>(Harry Potter, Hermione Granger)</td>\n",
       "      <td>[Sheriff of Nottingham detests Robin Hood.\\n, ...</td>\n",
       "      <td>0.061121</td>\n",
       "    </tr>\n",
       "    <tr>\n",
       "      <th>2</th>\n",
       "      <td>friend-enemy</td>\n",
       "      <td>Q: Are {} and {} friends or enemies?\\nA:</td>\n",
       "      <td>(Kuomintang, Chinese Communist Party)</td>\n",
       "      <td>[Sheriff of Nottingham detests Robin Hood.\\n, ...</td>\n",
       "      <td>0.057711</td>\n",
       "    </tr>\n",
       "    <tr>\n",
       "      <th>3</th>\n",
       "      <td>friend-enemy</td>\n",
       "      <td>Q: Are {} and {} friends or enemies?\\nA:</td>\n",
       "      <td>(Sheriff of Nottingham, Robin Hood)</td>\n",
       "      <td>[Sheriff of Nottingham detests Robin Hood.\\n, ...</td>\n",
       "      <td>0.084398</td>\n",
       "    </tr>\n",
       "    <tr>\n",
       "      <th>4</th>\n",
       "      <td>friend-enemy</td>\n",
       "      <td>Q: Are {} and {} friends or enemies?\\nA:</td>\n",
       "      <td>(Gauls, Rome)</td>\n",
       "      <td>[Sheriff of Nottingham detests Robin Hood.\\n, ...</td>\n",
       "      <td>0.054643</td>\n",
       "    </tr>\n",
       "    <tr>\n",
       "      <th>...</th>\n",
       "      <td>...</td>\n",
       "      <td>...</td>\n",
       "      <td>...</td>\n",
       "      <td>...</td>\n",
       "      <td>...</td>\n",
       "    </tr>\n",
       "    <tr>\n",
       "      <th>214</th>\n",
       "      <td>friend-enemy</td>\n",
       "      <td>{} and {} are</td>\n",
       "      <td>(Larry Page, Sergei Brin)</td>\n",
       "      <td>[Sheriff of Nottingham detests Robin Hood.\\n, ...</td>\n",
       "      <td>0.418634</td>\n",
       "    </tr>\n",
       "    <tr>\n",
       "      <th>215</th>\n",
       "      <td>friend-enemy</td>\n",
       "      <td>{} and {} are</td>\n",
       "      <td>(Thomas Edison, Henry Ford)</td>\n",
       "      <td>[Sheriff of Nottingham detests Robin Hood.\\n, ...</td>\n",
       "      <td>0.427720</td>\n",
       "    </tr>\n",
       "    <tr>\n",
       "      <th>216</th>\n",
       "      <td>friend-enemy</td>\n",
       "      <td>{} and {} are</td>\n",
       "      <td>(Shrek, Donkey)</td>\n",
       "      <td>[Sheriff of Nottingham detests Robin Hood.\\n, ...</td>\n",
       "      <td>0.327822</td>\n",
       "    </tr>\n",
       "    <tr>\n",
       "      <th>217</th>\n",
       "      <td>friend-enemy</td>\n",
       "      <td>{} and {} are</td>\n",
       "      <td>(Jack Sparrow, Hector Barbossa)</td>\n",
       "      <td>[Sheriff of Nottingham detests Robin Hood.\\n, ...</td>\n",
       "      <td>0.343208</td>\n",
       "    </tr>\n",
       "    <tr>\n",
       "      <th>218</th>\n",
       "      <td>friend-enemy</td>\n",
       "      <td>{} and {} are</td>\n",
       "      <td>(Moby Dick, Captain Ahab)</td>\n",
       "      <td>[Sheriff of Nottingham detests Robin Hood.\\n, ...</td>\n",
       "      <td>0.281248</td>\n",
       "    </tr>\n",
       "  </tbody>\n",
       "</table>\n",
       "<p>219 rows × 5 columns</p>\n",
       "</div>"
      ],
      "text/plain": [
       "             q_id                                query_form  \\\n",
       "0    friend-enemy  Q: Are {} and {} friends or enemies?\\nA:   \n",
       "1    friend-enemy  Q: Are {} and {} friends or enemies?\\nA:   \n",
       "2    friend-enemy  Q: Are {} and {} friends or enemies?\\nA:   \n",
       "3    friend-enemy  Q: Are {} and {} friends or enemies?\\nA:   \n",
       "4    friend-enemy  Q: Are {} and {} friends or enemies?\\nA:   \n",
       "..            ...                                       ...   \n",
       "214  friend-enemy                             {} and {} are   \n",
       "215  friend-enemy                             {} and {} are   \n",
       "216  friend-enemy                             {} and {} are   \n",
       "217  friend-enemy                             {} and {} are   \n",
       "218  friend-enemy                             {} and {} are   \n",
       "\n",
       "                                    entity  \\\n",
       "0            (John Lennon, Paul McCartney)   \n",
       "1         (Harry Potter, Hermione Granger)   \n",
       "2    (Kuomintang, Chinese Communist Party)   \n",
       "3      (Sheriff of Nottingham, Robin Hood)   \n",
       "4                            (Gauls, Rome)   \n",
       "..                                     ...   \n",
       "214              (Larry Page, Sergei Brin)   \n",
       "215            (Thomas Edison, Henry Ford)   \n",
       "216                        (Shrek, Donkey)   \n",
       "217        (Jack Sparrow, Hector Barbossa)   \n",
       "218              (Moby Dick, Captain Ahab)   \n",
       "\n",
       "                                              contexts  susceptibility_score  \n",
       "0    [Sheriff of Nottingham detests Robin Hood.\\n, ...              0.066611  \n",
       "1    [Sheriff of Nottingham detests Robin Hood.\\n, ...              0.061121  \n",
       "2    [Sheriff of Nottingham detests Robin Hood.\\n, ...              0.057711  \n",
       "3    [Sheriff of Nottingham detests Robin Hood.\\n, ...              0.084398  \n",
       "4    [Sheriff of Nottingham detests Robin Hood.\\n, ...              0.054643  \n",
       "..                                                 ...                   ...  \n",
       "214  [Sheriff of Nottingham detests Robin Hood.\\n, ...              0.418634  \n",
       "215  [Sheriff of Nottingham detests Robin Hood.\\n, ...              0.427720  \n",
       "216  [Sheriff of Nottingham detests Robin Hood.\\n, ...              0.327822  \n",
       "217  [Sheriff of Nottingham detests Robin Hood.\\n, ...              0.343208  \n",
       "218  [Sheriff of Nottingham detests Robin Hood.\\n, ...              0.281248  \n",
       "\n",
       "[219 rows x 5 columns]"
      ]
     },
     "execution_count": 16,
     "metadata": {},
     "output_type": "execute_result"
    }
   ],
   "source": [
    "val_df_contexts_per_qe"
   ]
  },
  {
   "cell_type": "code",
   "execution_count": 17,
   "metadata": {},
   "outputs": [
    {
     "data": {
      "text/html": [
       "<div>\n",
       "<style scoped>\n",
       "    .dataframe tbody tr th:only-of-type {\n",
       "        vertical-align: middle;\n",
       "    }\n",
       "\n",
       "    .dataframe tbody tr th {\n",
       "        vertical-align: top;\n",
       "    }\n",
       "\n",
       "    .dataframe thead th {\n",
       "        text-align: right;\n",
       "    }\n",
       "</style>\n",
       "<table border=\"1\" class=\"dataframe\">\n",
       "  <thead>\n",
       "    <tr style=\"text-align: right;\">\n",
       "      <th></th>\n",
       "      <th>q_id</th>\n",
       "      <th>query_form</th>\n",
       "      <th>entity</th>\n",
       "      <th>type</th>\n",
       "      <th>susceptibility_score</th>\n",
       "      <th>label</th>\n",
       "    </tr>\n",
       "  </thead>\n",
       "  <tbody>\n",
       "    <tr>\n",
       "      <th>0</th>\n",
       "      <td>friend-enemy</td>\n",
       "      <td>Q: Are {} and {} friends or enemies?\\nA:</td>\n",
       "      <td>(John Lennon, Paul McCartney)</td>\n",
       "      <td>history</td>\n",
       "      <td>0.066611</td>\n",
       "      <td>friend</td>\n",
       "    </tr>\n",
       "    <tr>\n",
       "      <th>1</th>\n",
       "      <td>friend-enemy</td>\n",
       "      <td>Q: Are {} and {} friends or enemies?\\nA:</td>\n",
       "      <td>(Harry Potter, Hermione Granger)</td>\n",
       "      <td>movie</td>\n",
       "      <td>0.061121</td>\n",
       "      <td>friend</td>\n",
       "    </tr>\n",
       "    <tr>\n",
       "      <th>2</th>\n",
       "      <td>friend-enemy</td>\n",
       "      <td>Q: Are {} and {} friends or enemies?\\nA:</td>\n",
       "      <td>(Kuomintang, Chinese Communist Party)</td>\n",
       "      <td>history</td>\n",
       "      <td>0.057711</td>\n",
       "      <td>enemy</td>\n",
       "    </tr>\n",
       "    <tr>\n",
       "      <th>3</th>\n",
       "      <td>friend-enemy</td>\n",
       "      <td>Q: Are {} and {} friends or enemies?\\nA:</td>\n",
       "      <td>(Sheriff of Nottingham, Robin Hood)</td>\n",
       "      <td>history</td>\n",
       "      <td>0.084398</td>\n",
       "      <td>enemy</td>\n",
       "    </tr>\n",
       "    <tr>\n",
       "      <th>4</th>\n",
       "      <td>friend-enemy</td>\n",
       "      <td>Q: Are {} and {} friends or enemies?\\nA:</td>\n",
       "      <td>(Gauls, Rome)</td>\n",
       "      <td>history</td>\n",
       "      <td>0.054643</td>\n",
       "      <td>enemy</td>\n",
       "    </tr>\n",
       "    <tr>\n",
       "      <th>...</th>\n",
       "      <td>...</td>\n",
       "      <td>...</td>\n",
       "      <td>...</td>\n",
       "      <td>...</td>\n",
       "      <td>...</td>\n",
       "      <td>...</td>\n",
       "    </tr>\n",
       "    <tr>\n",
       "      <th>214</th>\n",
       "      <td>friend-enemy</td>\n",
       "      <td>{} and {} are</td>\n",
       "      <td>(Larry Page, Sergei Brin)</td>\n",
       "      <td>business</td>\n",
       "      <td>0.418634</td>\n",
       "      <td>friend</td>\n",
       "    </tr>\n",
       "    <tr>\n",
       "      <th>215</th>\n",
       "      <td>friend-enemy</td>\n",
       "      <td>{} and {} are</td>\n",
       "      <td>(Thomas Edison, Henry Ford)</td>\n",
       "      <td>history</td>\n",
       "      <td>0.427720</td>\n",
       "      <td>friend</td>\n",
       "    </tr>\n",
       "    <tr>\n",
       "      <th>216</th>\n",
       "      <td>friend-enemy</td>\n",
       "      <td>{} and {} are</td>\n",
       "      <td>(Shrek, Donkey)</td>\n",
       "      <td>movie</td>\n",
       "      <td>0.327822</td>\n",
       "      <td>friend</td>\n",
       "    </tr>\n",
       "    <tr>\n",
       "      <th>217</th>\n",
       "      <td>friend-enemy</td>\n",
       "      <td>{} and {} are</td>\n",
       "      <td>(Jack Sparrow, Hector Barbossa)</td>\n",
       "      <td>movie</td>\n",
       "      <td>0.343208</td>\n",
       "      <td>enemy</td>\n",
       "    </tr>\n",
       "    <tr>\n",
       "      <th>218</th>\n",
       "      <td>friend-enemy</td>\n",
       "      <td>{} and {} are</td>\n",
       "      <td>(Moby Dick, Captain Ahab)</td>\n",
       "      <td>movie</td>\n",
       "      <td>0.281248</td>\n",
       "      <td>enemy</td>\n",
       "    </tr>\n",
       "  </tbody>\n",
       "</table>\n",
       "<p>219 rows × 6 columns</p>\n",
       "</div>"
      ],
      "text/plain": [
       "             q_id                                query_form  \\\n",
       "0    friend-enemy  Q: Are {} and {} friends or enemies?\\nA:   \n",
       "1    friend-enemy  Q: Are {} and {} friends or enemies?\\nA:   \n",
       "2    friend-enemy  Q: Are {} and {} friends or enemies?\\nA:   \n",
       "3    friend-enemy  Q: Are {} and {} friends or enemies?\\nA:   \n",
       "4    friend-enemy  Q: Are {} and {} friends or enemies?\\nA:   \n",
       "..            ...                                       ...   \n",
       "214  friend-enemy                             {} and {} are   \n",
       "215  friend-enemy                             {} and {} are   \n",
       "216  friend-enemy                             {} and {} are   \n",
       "217  friend-enemy                             {} and {} are   \n",
       "218  friend-enemy                             {} and {} are   \n",
       "\n",
       "                                    entity      type  susceptibility_score  \\\n",
       "0            (John Lennon, Paul McCartney)   history              0.066611   \n",
       "1         (Harry Potter, Hermione Granger)     movie              0.061121   \n",
       "2    (Kuomintang, Chinese Communist Party)   history              0.057711   \n",
       "3      (Sheriff of Nottingham, Robin Hood)   history              0.084398   \n",
       "4                            (Gauls, Rome)   history              0.054643   \n",
       "..                                     ...       ...                   ...   \n",
       "214              (Larry Page, Sergei Brin)  business              0.418634   \n",
       "215            (Thomas Edison, Henry Ford)   history              0.427720   \n",
       "216                        (Shrek, Donkey)     movie              0.327822   \n",
       "217        (Jack Sparrow, Hector Barbossa)     movie              0.343208   \n",
       "218              (Moby Dick, Captain Ahab)     movie              0.281248   \n",
       "\n",
       "      label  \n",
       "0    friend  \n",
       "1    friend  \n",
       "2     enemy  \n",
       "3     enemy  \n",
       "4     enemy  \n",
       "..      ...  \n",
       "214  friend  \n",
       "215  friend  \n",
       "216  friend  \n",
       "217   enemy  \n",
       "218   enemy  \n",
       "\n",
       "[219 rows x 6 columns]"
      ]
     },
     "execution_count": 17,
     "metadata": {},
     "output_type": "execute_result"
    }
   ],
   "source": [
    "val_df_per_qe = val_df_contexts_per_qe.merge(\n",
    "    friend_enemy_data[[\"entity\", \"type\", \"label\"]],\n",
    "    # left_on=[\"ent1\", \"ent2\"],\n",
    "    # right_on=[\"ent1\", \"ent2\"],\n",
    "    how=\"left\",\n",
    ")[\n",
    "    [\n",
    "        \"q_id\",\n",
    "        \"query_form\",\n",
    "        \"entity\",\n",
    "        \"type\",\n",
    "        \"susceptibility_score\",\n",
    "        \"label\",\n",
    "    ]\n",
    "]\n",
    "val_df_per_qe"
   ]
  },
  {
   "cell_type": "code",
   "execution_count": 18,
   "metadata": {},
   "outputs": [
    {
     "name": "stdout",
     "output_type": "stream",
     "text": [
      "['Q: Are {} and {} friends or enemies?\\nA:'\n",
      " 'Q: How friendly are {} and {}?\\nA:' '{} and {} are']\n",
      "            q_id                                query_form  \\\n",
      "17  friend-enemy  Q: Are {} and {} friends or enemies?\\nA:   \n",
      "62  friend-enemy  Q: Are {} and {} friends or enemies?\\nA:   \n",
      "20  friend-enemy  Q: Are {} and {} friends or enemies?\\nA:   \n",
      "70  friend-enemy  Q: Are {} and {} friends or enemies?\\nA:   \n",
      "52  friend-enemy  Q: Are {} and {} friends or enemies?\\nA:   \n",
      "..           ...                                       ...   \n",
      "50  friend-enemy  Q: Are {} and {} friends or enemies?\\nA:   \n",
      "14  friend-enemy  Q: Are {} and {} friends or enemies?\\nA:   \n",
      "64  friend-enemy  Q: Are {} and {} friends or enemies?\\nA:   \n",
      "22  friend-enemy  Q: Are {} and {} friends or enemies?\\nA:   \n",
      "40  friend-enemy  Q: Are {} and {} friends or enemies?\\nA:   \n",
      "\n",
      "                                entity      type  susceptibility_score   label  \n",
      "17      (Sherlock Holmes, John Watson)     movie              0.038463  friend  \n",
      "62        (Obi Wan Kenobi, Darth Maul)     movie              0.042754   enemy  \n",
      "20                  (Gandalf, Saruman)     movie              0.043945   enemy  \n",
      "70                     (Shrek, Donkey)     movie              0.045048  friend  \n",
      "52              (Superman, Lex Luthor)     movie              0.045212   enemy  \n",
      "..                                 ...       ...                   ...     ...  \n",
      "50     (Donald Trump, Hillary Clinton)  politics              0.092464   enemy  \n",
      "14              (Ford, General Motors)  business              0.093170   enemy  \n",
      "64  (Green Bay Packers, Chicago Bears)    sports              0.093329   enemy  \n",
      "22         (Marc Twain, Hellen Keller)   history              0.094932  friend  \n",
      "40                      (Canon, Nixon)  business              0.133500   enemy  \n",
      "\n",
      "[73 rows x 6 columns]\n",
      "             q_id                          query_form  \\\n",
      "90   friend-enemy  Q: How friendly are {} and {}?\\nA:   \n",
      "84   friend-enemy  Q: How friendly are {} and {}?\\nA:   \n",
      "93   friend-enemy  Q: How friendly are {} and {}?\\nA:   \n",
      "135  friend-enemy  Q: How friendly are {} and {}?\\nA:   \n",
      "119  friend-enemy  Q: How friendly are {} and {}?\\nA:   \n",
      "..            ...                                 ...   \n",
      "141  friend-enemy  Q: How friendly are {} and {}?\\nA:   \n",
      "87   friend-enemy  Q: How friendly are {} and {}?\\nA:   \n",
      "118  friend-enemy  Q: How friendly are {} and {}?\\nA:   \n",
      "137  friend-enemy  Q: How friendly are {} and {}?\\nA:   \n",
      "113  friend-enemy  Q: How friendly are {} and {}?\\nA:   \n",
      "\n",
      "                                 entity      type  susceptibility_score  \\\n",
      "90       (Sherlock Holmes, John Watson)     movie              0.034879   \n",
      "84                (Han Solo, Chewbacca)     movie              0.036373   \n",
      "93                   (Gandalf, Saruman)     movie              0.036470   \n",
      "135        (Obi Wan Kenobi, Darth Maul)     movie              0.036809   \n",
      "119   (Sherlock Holmes, James Moriarty)     movie              0.036842   \n",
      "..                                  ...       ...                   ...   \n",
      "141           (Larry Page, Sergei Brin)  business              0.081680   \n",
      "87               (Ford, General Motors)  business              0.082684   \n",
      "118            (Democrats, Republicans)  politics              0.085880   \n",
      "137  (Green Bay Packers, Chicago Bears)    sports              0.090808   \n",
      "113                      (Canon, Nixon)  business              0.091203   \n",
      "\n",
      "      label  \n",
      "90   friend  \n",
      "84   friend  \n",
      "93    enemy  \n",
      "135   enemy  \n",
      "119   enemy  \n",
      "..      ...  \n",
      "141  friend  \n",
      "87    enemy  \n",
      "118   enemy  \n",
      "137   enemy  \n",
      "113   enemy  \n",
      "\n",
      "[73 rows x 6 columns]\n",
      "             q_id     query_form                                      entity  \\\n",
      "187  friend-enemy  {} and {} are                             (USA, Al-Qaeda)   \n",
      "148  friend-enemy  {} and {} are       (Kuomintang, Chinese Communist Party)   \n",
      "202  friend-enemy  {} and {} are                      (Torries, Labor Party)   \n",
      "210  friend-enemy  {} and {} are          (Green Bay Packers, Chicago Bears)   \n",
      "188  friend-enemy  {} and {} are                         (USA, Soviet Union)   \n",
      "..            ...            ...                                         ...   \n",
      "146  friend-enemy  {} and {} are               (John Lennon, Paul McCartney)   \n",
      "215  friend-enemy  {} and {} are                 (Thomas Edison, Henry Ford)   \n",
      "161  friend-enemy  {} and {} are  (Bal Gangadhar Tilak, Mohammed Ali Jinnah)   \n",
      "190  friend-enemy  {} and {} are                    (Steve Jobs, Bill Gates)   \n",
      "183  friend-enemy  {} and {} are               (Albert Einstein, Niels Bohr)   \n",
      "\n",
      "         type  susceptibility_score   label  \n",
      "187  politics              0.151594   enemy  \n",
      "148   history              0.218069   enemy  \n",
      "202  politics              0.219862   enemy  \n",
      "210    sports              0.221586   enemy  \n",
      "188   history              0.227941   enemy  \n",
      "..        ...                   ...     ...  \n",
      "146   history              0.419643  friend  \n",
      "215   history              0.427720  friend  \n",
      "161   history              0.437412  friend  \n",
      "190  business              0.439570   enemy  \n",
      "183   history              0.447459  friend  \n",
      "\n",
      "[73 rows x 6 columns]\n"
     ]
    }
   ],
   "source": [
    "query_forms = val_df_per_qe[\"query_form\"].unique()\n",
    "print(query_forms)\n",
    "for qf in query_forms:\n",
    "    print(\n",
    "        val_df_per_qe[val_df_per_qe[\"query_form\"] == qf].sort_values(\n",
    "            by=\"susceptibility_score\"\n",
    "        )\n",
    "    )"
   ]
  },
  {
   "cell_type": "code",
   "execution_count": 19,
   "metadata": {},
   "outputs": [
    {
     "name": "stdout",
     "output_type": "stream",
     "text": [
      "('USA', 'Al-Qaeda') 0.1515943477520854\n",
      "('Kuomintang', 'Chinese Communist Party') 0.2180691943010713\n",
      "('Torries', 'Labor Party') 0.2198624537323563\n",
      "('Green Bay Packers', 'Chicago Bears') 0.2215859384927364\n",
      "('USA', 'Soviet Union') 0.2279408016158255\n",
      "('Democrats', 'Republicans') 0.229309661152097\n",
      "('Gauls', 'Rome') 0.2409184784814155\n",
      "('Borussia Dortmund', 'FC Bayern Munich') 0.2472393428806352\n",
      "('Boston Red Sox', 'New York Yankees') 0.2529222583216069\n",
      "('Real Madrid', 'FC Barcelona') 0.2532223647249863\n",
      "('AC Milan', 'Inter Milan') 0.2561359586802484\n",
      "('Sony', 'Nintendo') 0.2625516034749963\n",
      "('UPS', 'Fedex') 0.2704033196179795\n",
      "('Airbus', 'Boeing') 0.2709886635871874\n",
      "('David', 'Goliath') 0.2800600090268262\n",
      "('Moby Dick', 'Captain Ahab') 0.2812479593387813\n",
      "('Harry Trumann', 'Nikita Khrushchev') 0.2830373577727995\n",
      "('Super Mario', 'Bowser') 0.2858613309749639\n",
      "('Donald Trump', 'Hillary Clinton') 0.2858942442254998\n",
      "('Nazi Germany', 'Allied Forces') 0.2982916995335273\n",
      "('Canon', 'Nixon') 0.3007141399334072\n",
      "('Sheriff of Nottingham', 'Robin Hood') 0.3030164353533796\n",
      "('Tom', 'Jerry') 0.3044530297300818\n",
      "('Harry Potter', 'Draco Malfoy') 0.3058764283494684\n",
      "('Donald Trump', 'Joe Biden') 0.3068003933062855\n",
      "('Ford', 'General Motors') 0.3101936176706533\n",
      "('Optimus Prime', 'Megatron') 0.31474815751238\n",
      "('George Bush', 'Saddam Hussein') 0.315990813568292\n",
      "('McDonalds', 'Burger King') 0.3171657982097104\n",
      "('Woody', 'Buzz Lightyear') 0.3210920880204853\n",
      "('Greece', 'Troy') 0.3216356587875804\n",
      "('Harry Potter', 'Lord Voldemort') 0.3236944143706463\n",
      "('Sherlock Holmes', 'James Moriarty') 0.3242428358915405\n",
      "('Mike Wazowski', 'James P. Sullivan') 0.3244522660887448\n",
      "('Harry Potter', 'Ronald Weasley') 0.3256035787924838\n",
      "('Sherlock Holmes', 'John Watson') 0.3271762489963117\n",
      "('Shrek', 'Donkey') 0.3278219580622445\n",
      "('Gandalf', 'Saruman') 0.328375642084953\n",
      "('Bilbo Baggins', 'Sauron') 0.3315485508324753\n",
      "('Han Solo', 'Chewbacca') 0.3339884601735233\n",
      "('Netscape', 'Microsoft Internet Explorer') 0.3372971317868881\n",
      "('Visa', 'Mastercard') 0.3388789413351228\n",
      "('Alexander the Great', 'Hephaestion') 0.3424736899551286\n",
      "('Jack Sparrow', 'Hector Barbossa') 0.3432080703310883\n",
      "('Obi Wan Kenobi', 'Darth Maul') 0.3447877150451466\n",
      "('C.S. Lewis', 'J.R.R. Tolkien') 0.348313072787723\n",
      "('Cain', 'Abel') 0.3518957313400443\n",
      "('Harry Potter', 'Hermione Granger') 0.3586458389468754\n",
      "('Marc Twain', 'Hellen Keller') 0.3596392490543778\n",
      "('Mark Twain', 'Nikola Tesla') 0.3663437771010858\n",
      "('John Adams', 'Thomas Jefferson') 0.3664477697667627\n",
      "('Frodo Baggins', 'Samwise Gamgee') 0.3692547222982459\n",
      "('Peter Pan', 'Captain Hook') 0.3699745121743117\n",
      "('Georges Braque', 'Pablo Picasso') 0.3726511490915206\n",
      "('Coca Cola', 'Pepsi') 0.3726517379701365\n",
      "('Superman', 'Lex Luthor') 0.3743688296098297\n",
      "('Spiderman', 'Norman Osborne') 0.3789387458316836\n",
      "('Thomas Edison', 'Nikola Tesla') 0.3868225933069433\n",
      "('Vincent van Gogh', 'Paul Gauguin') 0.3905272623589347\n",
      "('Harry Potter', 'Albus Dumbledore') 0.394085116941309\n",
      "('Joe Frazier', 'Muhammad Ali') 0.3945657493285358\n",
      "('Bill Gates', 'Paul Allen') 0.3955874230485383\n",
      "('James Bond', 'Ernst Stavro Blofeld') 0.4010031269823632\n",
      "('Winston Churchill', 'Adolf Hitler') 0.4044228386162684\n",
      "('Bilbo Baggins', 'Gandalf') 0.4046547873020797\n",
      "('Bill Gates', 'Warren Buffett') 0.4058299009091311\n",
      "('Amelia Earhart', 'Eleanor Roosevelt') 0.4082852991985843\n",
      "('Larry Page', 'Sergei Brin') 0.4186342059754191\n",
      "('John Lennon', 'Paul McCartney') 0.4196431372199788\n",
      "('Thomas Edison', 'Henry Ford') 0.4277198462863187\n",
      "('Bal Gangadhar Tilak', 'Mohammed Ali Jinnah') 0.4374120895609575\n",
      "('Steve Jobs', 'Bill Gates') 0.4395697300820985\n",
      "('Albert Einstein', 'Niels Bohr') 0.4474590631701985\n"
     ]
    }
   ],
   "source": [
    "df_qf = val_df_per_qe[val_df_per_qe[\"query_form\"] == query_forms[-1]].sort_values(\n",
    "    by=\"susceptibility_score\"\n",
    ")\n",
    "\n",
    "for e, s in list(zip(df_qf[\"entity\"].tolist(), df_qf[\"susceptibility_score\"].tolist())):\n",
    "    print(e, s)"
   ]
  },
  {
   "cell_type": "code",
   "execution_count": 20,
   "metadata": {},
   "outputs": [
    {
     "data": {
      "text/plain": [
       "<AxesSubplot:xlabel='query_form', ylabel='susceptibility_score'>"
      ]
     },
     "execution_count": 20,
     "metadata": {},
     "output_type": "execute_result"
    },
    {
     "data": {
      "image/png": "[encoded data removed]",
      "text/plain": [
       "<Figure size 432x288 with 1 Axes>"
      ]
     },
     "metadata": {
      "needs_background": "light"
     },
     "output_type": "display_data"
    }
   ],
   "source": [
    "sns.stripplot(\n",
    "    data=val_df_per_qe,\n",
    "    x=\"query_form\",\n",
    "    y=\"susceptibility_score\",\n",
    "    hue=\"type\",\n",
    "    # hue=\"label\",\n",
    "    # dodge=True\n",
    "    # jitter=0.1,\n",
    "    # legend=\"full\",\n",
    ")"
   ]
  },
  {
   "cell_type": "code",
   "execution_count": 21,
   "metadata": {},
   "outputs": [
    {
     "data": {
      "text/plain": [
       "<AxesSubplot:xlabel='query_form', ylabel='susceptibility_score'>"
      ]
     },
     "execution_count": 21,
     "metadata": {},
     "output_type": "execute_result"
    },
    {
     "data": {
      "image/png": "[encoded data removed]",
      "text/plain": [
       "<Figure size 432x288 with 1 Axes>"
      ]
     },
     "metadata": {
      "needs_background": "light"
     },
     "output_type": "display_data"
    }
   ],
   "source": [
    "sns.stripplot(\n",
    "    data=val_df_per_qe[val_df_per_qe[\"query_form\"] != query_forms[-1]],\n",
    "    x=\"query_form\",\n",
    "    y=\"susceptibility_score\",\n",
    "    hue=\"type\",\n",
    "    # hue=\"label\",\n",
    "    # dodge=True\n",
    "    # jitter=0.1,\n",
    "    # legend=\"full\",\n",
    ")"
   ]
  },
  {
   "cell_type": "code",
   "execution_count": 33,
   "metadata": {},
   "outputs": [
    {
     "ename": "Error",
     "evalue": "You must call wandb.init() before wandb.log()",
     "output_type": "error",
     "traceback": [
      "\u001b[0;31m---------------------------------------------------------------------------\u001b[0m",
      "\u001b[0;31mError\u001b[0m                                     Traceback (most recent call last)",
      "Input \u001b[0;32mIn [33]\u001b[0m, in \u001b[0;36m<cell line: 15>\u001b[0;34m()\u001b[0m\n\u001b[1;32m     13\u001b[0m save_path \u001b[38;5;241m=\u001b[39m os\u001b[38;5;241m.\u001b[39mpath\u001b[38;5;241m.\u001b[39mjoin(analysis_dir, \u001b[38;5;124mf\u001b[39m\u001b[38;5;124m\"\u001b[39m\u001b[38;5;132;01m{\u001b[39;00mplot_name\u001b[38;5;132;01m}\u001b[39;00m\u001b[38;5;124m.png\u001b[39m\u001b[38;5;124m\"\u001b[39m)\n\u001b[1;32m     14\u001b[0m fig\u001b[38;5;241m.\u001b[39msavefig(save_path, bbox_inches\u001b[38;5;241m=\u001b[39m\u001b[38;5;124m\"\u001b[39m\u001b[38;5;124mtight\u001b[39m\u001b[38;5;124m\"\u001b[39m)\n\u001b[0;32m---> 15\u001b[0m \u001b[43mwandb\u001b[49m\u001b[38;5;241;43m.\u001b[39;49m\u001b[43mlog\u001b[49m\u001b[43m(\u001b[49m\u001b[43m{\u001b[49m\u001b[43mplot_name\u001b[49m\u001b[43m:\u001b[49m\u001b[43m \u001b[49m\u001b[43mwandb\u001b[49m\u001b[38;5;241;43m.\u001b[39;49m\u001b[43mImage\u001b[49m\u001b[43m(\u001b[49m\u001b[43mfig\u001b[49m\u001b[43m)\u001b[49m\u001b[43m}\u001b[49m\u001b[43m)\u001b[49m\n",
      "File \u001b[0;32m/cluster/apps/nss/gcc-8.2.0/python/3.10.4/x86_64/lib64/python3.10/site-packages/wandb/sdk/lib/preinit.py:36\u001b[0m, in \u001b[0;36mPreInitCallable.<locals>.preinit_wrapper\u001b[0;34m(*args, **kwargs)\u001b[0m\n\u001b[1;32m     35\u001b[0m \u001b[38;5;28;01mdef\u001b[39;00m \u001b[38;5;21mpreinit_wrapper\u001b[39m(\u001b[38;5;241m*\u001b[39margs: Any, \u001b[38;5;241m*\u001b[39m\u001b[38;5;241m*\u001b[39mkwargs: Any) \u001b[38;5;241m-\u001b[39m\u001b[38;5;241m>\u001b[39m Any:\n\u001b[0;32m---> 36\u001b[0m     \u001b[38;5;28;01mraise\u001b[39;00m wandb\u001b[38;5;241m.\u001b[39mError(\u001b[38;5;124mf\u001b[39m\u001b[38;5;124m\"\u001b[39m\u001b[38;5;124mYou must call wandb.init() before \u001b[39m\u001b[38;5;132;01m{\u001b[39;00mname\u001b[38;5;132;01m}\u001b[39;00m\u001b[38;5;124m()\u001b[39m\u001b[38;5;124m\"\u001b[39m)\n",
      "\u001b[0;31mError\u001b[0m: You must call wandb.init() before wandb.log()"
     ]
    },
    {
     "data": {
      "image/png": "[encoded data removed]",
      "text/plain": [
       "<Figure size 432x288 with 1 Axes>"
      ]
     },
     "metadata": {
      "needs_background": "light"
     },
     "output_type": "display_data"
    }
   ],
   "source": [
    "fig, ax = plt.subplots()\n",
    "plot = sns.stripplot(\n",
    "    data=val_df_per_qe,\n",
    "    x=\"query_form\",\n",
    "    y=\"susceptibility_score\",\n",
    "    hue=\"label\",\n",
    "    ax=ax,\n",
    ")\n",
    "plt.tight_layout()\n",
    "for tick in ax.get_xticklabels():\n",
    "    tick.set_rotation(15)\n",
    "plot_name = \"plot_susscore_vs_queryform_friend_enemy\"\n",
    "save_path = os.path.join(analysis_dir, f\"{plot_name}.png\")\n",
    "fig.savefig(save_path, bbox_inches=\"tight\")\n",
    "wandb.log({plot_name: wandb.Image(fig)})"
   ]
  },
  {
   "cell_type": "code",
   "execution_count": 34,
   "metadata": {},
   "outputs": [
    {
     "ename": "Error",
     "evalue": "You must call wandb.init() before wandb.log()",
     "output_type": "error",
     "traceback": [
      "\u001b[0;31m---------------------------------------------------------------------------\u001b[0m",
      "\u001b[0;31mError\u001b[0m                                     Traceback (most recent call last)",
      "Input \u001b[0;32mIn [34]\u001b[0m, in \u001b[0;36m<cell line: 27>\u001b[0;34m()\u001b[0m\n\u001b[1;32m     25\u001b[0m save_path \u001b[38;5;241m=\u001b[39m os\u001b[38;5;241m.\u001b[39mpath\u001b[38;5;241m.\u001b[39mjoin(analysis_dir, \u001b[38;5;124mf\u001b[39m\u001b[38;5;124m\"\u001b[39m\u001b[38;5;132;01m{\u001b[39;00mplot_name\u001b[38;5;132;01m}\u001b[39;00m\u001b[38;5;124m.png\u001b[39m\u001b[38;5;124m\"\u001b[39m)\n\u001b[1;32m     26\u001b[0m fig\u001b[38;5;241m.\u001b[39msavefig(save_path, bbox_inches\u001b[38;5;241m=\u001b[39m\u001b[38;5;124m\"\u001b[39m\u001b[38;5;124mtight\u001b[39m\u001b[38;5;124m\"\u001b[39m)\n\u001b[0;32m---> 27\u001b[0m \u001b[43mwandb\u001b[49m\u001b[38;5;241;43m.\u001b[39;49m\u001b[43mlog\u001b[49m\u001b[43m(\u001b[49m\u001b[43m{\u001b[49m\u001b[43mplot_name\u001b[49m\u001b[43m:\u001b[49m\u001b[43m \u001b[49m\u001b[43mwandb\u001b[49m\u001b[38;5;241;43m.\u001b[39;49m\u001b[43mImage\u001b[49m\u001b[43m(\u001b[49m\u001b[43mfig\u001b[49m\u001b[43m)\u001b[49m\u001b[43m}\u001b[49m\u001b[43m)\u001b[49m\n",
      "File \u001b[0;32m/cluster/apps/nss/gcc-8.2.0/python/3.10.4/x86_64/lib64/python3.10/site-packages/wandb/sdk/lib/preinit.py:36\u001b[0m, in \u001b[0;36mPreInitCallable.<locals>.preinit_wrapper\u001b[0;34m(*args, **kwargs)\u001b[0m\n\u001b[1;32m     35\u001b[0m \u001b[38;5;28;01mdef\u001b[39;00m \u001b[38;5;21mpreinit_wrapper\u001b[39m(\u001b[38;5;241m*\u001b[39margs: Any, \u001b[38;5;241m*\u001b[39m\u001b[38;5;241m*\u001b[39mkwargs: Any) \u001b[38;5;241m-\u001b[39m\u001b[38;5;241m>\u001b[39m Any:\n\u001b[0;32m---> 36\u001b[0m     \u001b[38;5;28;01mraise\u001b[39;00m wandb\u001b[38;5;241m.\u001b[39mError(\u001b[38;5;124mf\u001b[39m\u001b[38;5;124m\"\u001b[39m\u001b[38;5;124mYou must call wandb.init() before \u001b[39m\u001b[38;5;132;01m{\u001b[39;00mname\u001b[38;5;132;01m}\u001b[39;00m\u001b[38;5;124m()\u001b[39m\u001b[38;5;124m\"\u001b[39m)\n",
      "\u001b[0;31mError\u001b[0m: You must call wandb.init() before wandb.log()"
     ]
    },
    {
     "data": {
      "image/png": "[encoded data removed]",
      "text/plain": [
       "<Figure size 432x288 with 1 Axes>"
      ]
     },
     "metadata": {
      "needs_background": "light"
     },
     "output_type": "display_data"
    }
   ],
   "source": [
    "fig, ax = plt.subplots()\n",
    "plot = sns.stripplot(\n",
    "    data=val_df_per_qe[\n",
    "        val_df_per_qe[\"type\"].isin(\n",
    "            [\n",
    "                \"sports\",\n",
    "                \"politics\",\n",
    "                \"movie\",\n",
    "            ]\n",
    "        )\n",
    "    ],\n",
    "    x=\"query_form\",\n",
    "    y=\"susceptibility_score\",\n",
    "    hue=\"type\",\n",
    "    ax=ax,\n",
    "    # hue=\"is_real\",\n",
    "    # dodge=True\n",
    "    # jitter=0.1,\n",
    "    # legend=\"full\",\n",
    ")\n",
    "plt.tight_layout()\n",
    "for tick in ax.get_xticklabels():\n",
    "    tick.set_rotation(15)\n",
    "plot_name = \"plot_susscore_vs_queryform_type\"\n",
    "save_path = os.path.join(analysis_dir, f\"{plot_name}.png\")\n",
    "fig.savefig(save_path, bbox_inches=\"tight\")\n",
    "wandb.log({plot_name: wandb.Image(fig)})"
   ]
  },
  {
   "cell_type": "code",
   "execution_count": 24,
   "metadata": {},
   "outputs": [
    {
     "data": {
      "image/png": "[encoded data removed]",
      "text/plain": [
       "<Figure size 432x288 with 1 Axes>"
      ]
     },
     "execution_count": 24,
     "metadata": {},
     "output_type": "execute_result"
    }
   ],
   "source": [
    "fig"
   ]
  },
  {
   "cell_type": "code",
   "execution_count": 25,
   "metadata": {},
   "outputs": [
    {
     "data": {
      "text/html": [
       "Waiting for W&B process to finish... <strong style=\"color:green\">(success).</strong>"
      ],
      "text/plain": [
       "<IPython.core.display.HTML object>"
      ]
     },
     "metadata": {},
     "output_type": "display_data"
    },
    {
     "data": {
      "application/vnd.jupyter.widget-view+json": {
       "model_id": "",
       "version_major": 2,
       "version_minor": 0
      },
      "text/plain": [
       "VBox(children=(Label(value='5.481 MB of 5.481 MB uploaded (5.257 MB deduped)\\r'), FloatProgress(value=1.0, max…"
      ]
     },
     "metadata": {},
     "output_type": "display_data"
    },
    {
     "data": {
      "text/html": [
       "W&B sync reduced upload amount by 93.3%             "
      ],
      "text/plain": [
       "<IPython.core.display.HTML object>"
      ]
     },
     "metadata": {},
     "output_type": "display_data"
    },
    {
     "data": {
      "text/html": [
       "Synced <strong style=\"color:#cdcd00\">balmy-hill-58</strong>: <a href=\"https://wandb.ai/ethz-rycolab/context-vs-bias/runs/1c8w06ck\" target=\"_blank\">https://wandb.ai/ethz-rycolab/context-vs-bias/runs/1c8w06ck</a><br/>Synced 6 W&B file(s), 2 media file(s), 6 artifact file(s) and 1 other file(s)"
      ],
      "text/plain": [
       "<IPython.core.display.HTML object>"
      ]
     },
     "metadata": {},
     "output_type": "display_data"
    },
    {
     "data": {
      "text/html": [
       "Find logs at: <code>./wandb/run-20231219_210542-1c8w06ck/logs</code>"
      ],
      "text/plain": [
       "<IPython.core.display.HTML object>"
      ]
     },
     "metadata": {},
     "output_type": "display_data"
    }
   ],
   "source": [
    "wandb.finish()"
   ]
  }
 ],
 "metadata": {
  "kernelspec": {
   "display_name": "Python 3 (ipykernel)",
   "language": "python",
   "name": "python3"
  },
  "language_info": {
   "codemirror_mode": {
    "name": "ipython",
    "version": 3
   },
   "file_extension": ".py",
   "mimetype": "text/x-python",
   "name": "python",
   "nbconvert_exporter": "python",
   "pygments_lexer": "ipython3",
   "version": "3.10.4"
  }
 },
 "nbformat": 4,
 "nbformat_minor": 4
}
