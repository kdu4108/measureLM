{
 "cells": [
  {
   "cell_type": "code",
   "execution_count": null,
   "id": "50f2d1f2-21c4-4fe4-8bd7-880cc06a2362",
   "metadata": {},
   "outputs": [
    {
     "name": "stdout",
     "output_type": "stream",
     "text": [
      "yago-facts.ttl\n"
     ]
    }
   ],
   "source": [
    "# Takeaway: this takes WAY too long (e.g. didn't get through yago-facts in an hour. We gotta do something not in-memory, e.g. tdb2.tdbloader)\n",
    "from rdflib import Graph, Namespace, URIRef\n",
    "import os\n",
    "# Create a Graph instance\n",
    "g = Graph()\n",
    "\n",
    "# List of YAGO .ttl files\n",
    "yago_files = ['yago-facts.ttl', 'yago-schema.ttl', 'yago-beyond-wikipedia.ttl', 'yago-meta-facts.ttl', 'yago-taxonomy.ttl'] # Add your file names here\n",
    "\n",
    "# Parse each .ttl file and add its content to the graph\n",
    "for file_name in yago_files:\n",
    "    print(file_name)\n",
    "    g.parse(os.path.join(\"/cluster/work/cotterell/shared_datasets/yago\", file_name), format='turtle')\n"
   ]
  },
  {
   "cell_type": "code",
   "execution_count": 1,
   "id": "2934a175-b341-4447-98cc-7e3a49f23a90",
   "metadata": {},
   "outputs": [
    {
     "ename": "FileNotFoundError",
     "evalue": "[Errno 2] No such file or directory: '/cluster/work/cotterell/kdu/yagoDataFile.ttl'",
     "output_type": "error",
     "traceback": [
      "\u001b[0;31m---------------------------------------------------------------------------\u001b[0m",
      "\u001b[0;31mFileNotFoundError\u001b[0m                         Traceback (most recent call last)",
      "Input \u001b[0;32mIn [1]\u001b[0m, in \u001b[0;36m<cell line: 8>\u001b[0;34m()\u001b[0m\n\u001b[1;32m      4\u001b[0m g \u001b[38;5;241m=\u001b[39m Graph()\n\u001b[1;32m      6\u001b[0m \u001b[38;5;66;03m# Load YAGO RDF data (assuming yagoDataFile.ttl is the file)\u001b[39;00m\n\u001b[1;32m      7\u001b[0m \u001b[38;5;66;03m# Replace 'yagoDataFile.ttl' with your actual YAGO data file\u001b[39;00m\n\u001b[0;32m----> 8\u001b[0m \u001b[43mg\u001b[49m\u001b[38;5;241;43m.\u001b[39;49m\u001b[43mparse\u001b[49m\u001b[43m(\u001b[49m\u001b[38;5;124;43m'\u001b[39;49m\u001b[38;5;124;43myagoDataFile.ttl\u001b[39;49m\u001b[38;5;124;43m'\u001b[39;49m\u001b[43m,\u001b[49m\u001b[43m \u001b[49m\u001b[38;5;28;43mformat\u001b[39;49m\u001b[38;5;241;43m=\u001b[39;49m\u001b[38;5;124;43m'\u001b[39;49m\u001b[38;5;124;43mturtle\u001b[39;49m\u001b[38;5;124;43m'\u001b[39;49m\u001b[43m)\u001b[49m\n\u001b[1;32m     10\u001b[0m \u001b[38;5;66;03m# Define namespaces\u001b[39;00m\n\u001b[1;32m     11\u001b[0m RDF \u001b[38;5;241m=\u001b[39m Namespace(\u001b[38;5;124m\"\u001b[39m\u001b[38;5;124mhttp://www.w3.org/1999/02/22-rdf-syntax-ns#\u001b[39m\u001b[38;5;124m\"\u001b[39m)\n",
      "File \u001b[0;32m/cluster/apps/nss/gcc-8.2.0/python/3.10.4/x86_64/lib64/python3.10/site-packages/rdflib/graph.py:1234\u001b[0m, in \u001b[0;36mGraph.parse\u001b[0;34m(self, source, publicID, format, location, file, data, **args)\u001b[0m\n\u001b[1;32m   1153\u001b[0m \u001b[38;5;28;01mdef\u001b[39;00m \u001b[38;5;21mparse\u001b[39m(\n\u001b[1;32m   1154\u001b[0m     \u001b[38;5;28mself\u001b[39m,\n\u001b[1;32m   1155\u001b[0m     source\u001b[38;5;241m=\u001b[39m\u001b[38;5;28;01mNone\u001b[39;00m,\n\u001b[0;32m   (...)\u001b[0m\n\u001b[1;32m   1161\u001b[0m     \u001b[38;5;241m*\u001b[39m\u001b[38;5;241m*\u001b[39margs,\n\u001b[1;32m   1162\u001b[0m ):\n\u001b[1;32m   1163\u001b[0m     \u001b[38;5;124;03m\"\"\"\u001b[39;00m\n\u001b[1;32m   1164\u001b[0m \u001b[38;5;124;03m    Parse an RDF source adding the resulting triples to the Graph.\u001b[39;00m\n\u001b[1;32m   1165\u001b[0m \n\u001b[0;32m   (...)\u001b[0m\n\u001b[1;32m   1231\u001b[0m \n\u001b[1;32m   1232\u001b[0m \u001b[38;5;124;03m    \"\"\"\u001b[39;00m\n\u001b[0;32m-> 1234\u001b[0m     source \u001b[38;5;241m=\u001b[39m \u001b[43mcreate_input_source\u001b[49m\u001b[43m(\u001b[49m\n\u001b[1;32m   1235\u001b[0m \u001b[43m        \u001b[49m\u001b[43msource\u001b[49m\u001b[38;5;241;43m=\u001b[39;49m\u001b[43msource\u001b[49m\u001b[43m,\u001b[49m\n\u001b[1;32m   1236\u001b[0m \u001b[43m        \u001b[49m\u001b[43mpublicID\u001b[49m\u001b[38;5;241;43m=\u001b[39;49m\u001b[43mpublicID\u001b[49m\u001b[43m,\u001b[49m\n\u001b[1;32m   1237\u001b[0m \u001b[43m        \u001b[49m\u001b[43mlocation\u001b[49m\u001b[38;5;241;43m=\u001b[39;49m\u001b[43mlocation\u001b[49m\u001b[43m,\u001b[49m\n\u001b[1;32m   1238\u001b[0m \u001b[43m        \u001b[49m\u001b[43mfile\u001b[49m\u001b[38;5;241;43m=\u001b[39;49m\u001b[43mfile\u001b[49m\u001b[43m,\u001b[49m\n\u001b[1;32m   1239\u001b[0m \u001b[43m        \u001b[49m\u001b[43mdata\u001b[49m\u001b[38;5;241;43m=\u001b[39;49m\u001b[43mdata\u001b[49m\u001b[43m,\u001b[49m\n\u001b[1;32m   1240\u001b[0m \u001b[43m        \u001b[49m\u001b[38;5;28;43mformat\u001b[39;49m\u001b[38;5;241;43m=\u001b[39;49m\u001b[38;5;28;43mformat\u001b[39;49m\u001b[43m,\u001b[49m\n\u001b[1;32m   1241\u001b[0m \u001b[43m    \u001b[49m\u001b[43m)\u001b[49m\n\u001b[1;32m   1242\u001b[0m     \u001b[38;5;28;01mif\u001b[39;00m \u001b[38;5;28mformat\u001b[39m \u001b[38;5;129;01mis\u001b[39;00m \u001b[38;5;28;01mNone\u001b[39;00m:\n\u001b[1;32m   1243\u001b[0m         \u001b[38;5;28mformat\u001b[39m \u001b[38;5;241m=\u001b[39m source\u001b[38;5;241m.\u001b[39mcontent_type\n",
      "File \u001b[0;32m/cluster/apps/nss/gcc-8.2.0/python/3.10.4/x86_64/lib64/python3.10/site-packages/rdflib/parser.py:326\u001b[0m, in \u001b[0;36mcreate_input_source\u001b[0;34m(source, publicID, location, file, data, format)\u001b[0m\n\u001b[1;32m    318\u001b[0m auto_close \u001b[38;5;241m=\u001b[39m \u001b[38;5;28;01mFalse\u001b[39;00m  \u001b[38;5;66;03m# make sure we close all file handles we open\u001b[39;00m\n\u001b[1;32m    320\u001b[0m \u001b[38;5;28;01mif\u001b[39;00m location \u001b[38;5;129;01mis\u001b[39;00m \u001b[38;5;129;01mnot\u001b[39;00m \u001b[38;5;28;01mNone\u001b[39;00m:\n\u001b[1;32m    321\u001b[0m     (\n\u001b[1;32m    322\u001b[0m         absolute_location,\n\u001b[1;32m    323\u001b[0m         auto_close,\n\u001b[1;32m    324\u001b[0m         file,\n\u001b[1;32m    325\u001b[0m         input_source,\n\u001b[0;32m--> 326\u001b[0m     ) \u001b[38;5;241m=\u001b[39m \u001b[43m_create_input_source_from_location\u001b[49m\u001b[43m(\u001b[49m\n\u001b[1;32m    327\u001b[0m \u001b[43m        \u001b[49m\u001b[43mfile\u001b[49m\u001b[38;5;241;43m=\u001b[39;49m\u001b[43mfile\u001b[49m\u001b[43m,\u001b[49m\n\u001b[1;32m    328\u001b[0m \u001b[43m        \u001b[49m\u001b[38;5;28;43mformat\u001b[39;49m\u001b[38;5;241;43m=\u001b[39;49m\u001b[38;5;28;43mformat\u001b[39;49m\u001b[43m,\u001b[49m\n\u001b[1;32m    329\u001b[0m \u001b[43m        \u001b[49m\u001b[43minput_source\u001b[49m\u001b[38;5;241;43m=\u001b[39;49m\u001b[43minput_source\u001b[49m\u001b[43m,\u001b[49m\n\u001b[1;32m    330\u001b[0m \u001b[43m        \u001b[49m\u001b[43mlocation\u001b[49m\u001b[38;5;241;43m=\u001b[39;49m\u001b[43mlocation\u001b[49m\u001b[43m,\u001b[49m\n\u001b[1;32m    331\u001b[0m \u001b[43m    \u001b[49m\u001b[43m)\u001b[49m\n\u001b[1;32m    333\u001b[0m \u001b[38;5;28;01mif\u001b[39;00m file \u001b[38;5;129;01mis\u001b[39;00m \u001b[38;5;129;01mnot\u001b[39;00m \u001b[38;5;28;01mNone\u001b[39;00m:\n\u001b[1;32m    334\u001b[0m     input_source \u001b[38;5;241m=\u001b[39m FileInputSource(file)\n",
      "File \u001b[0;32m/cluster/apps/nss/gcc-8.2.0/python/3.10.4/x86_64/lib64/python3.10/site-packages/rdflib/parser.py:373\u001b[0m, in \u001b[0;36m_create_input_source_from_location\u001b[0;34m(file, format, input_source, location)\u001b[0m\n\u001b[1;32m    371\u001b[0m \u001b[38;5;28;01mif\u001b[39;00m absolute_location\u001b[38;5;241m.\u001b[39mstartswith(\u001b[38;5;124m\"\u001b[39m\u001b[38;5;124mfile:///\u001b[39m\u001b[38;5;124m\"\u001b[39m):\n\u001b[1;32m    372\u001b[0m     filename \u001b[38;5;241m=\u001b[39m url2pathname(absolute_location\u001b[38;5;241m.\u001b[39mreplace(\u001b[38;5;124m\"\u001b[39m\u001b[38;5;124mfile:///\u001b[39m\u001b[38;5;124m\"\u001b[39m, \u001b[38;5;124m\"\u001b[39m\u001b[38;5;124m/\u001b[39m\u001b[38;5;124m\"\u001b[39m))\n\u001b[0;32m--> 373\u001b[0m     file \u001b[38;5;241m=\u001b[39m \u001b[38;5;28;43mopen\u001b[39;49m\u001b[43m(\u001b[49m\u001b[43mfilename\u001b[49m\u001b[43m,\u001b[49m\u001b[43m \u001b[49m\u001b[38;5;124;43m\"\u001b[39;49m\u001b[38;5;124;43mrb\u001b[39;49m\u001b[38;5;124;43m\"\u001b[39;49m\u001b[43m)\u001b[49m\n\u001b[1;32m    374\u001b[0m \u001b[38;5;28;01melse\u001b[39;00m:\n\u001b[1;32m    375\u001b[0m     input_source \u001b[38;5;241m=\u001b[39m URLInputSource(absolute_location, \u001b[38;5;28mformat\u001b[39m)\n",
      "\u001b[0;31mFileNotFoundError\u001b[0m: [Errno 2] No such file or directory: '/cluster/work/cotterell/kdu/yagoDataFile.ttl'"
     ]
    }
   ],
   "source": [
    "# Define namespaces\n",
    "RDF = Namespace(\"http://www.w3.org/1999/02/22-rdf-syntax-ns#\")\n",
    "RDFS = Namespace(\"http://www.w3.org/2000/01/rdf-schema#\")\n",
    "\n",
    "# Example SPARQL query to retrieve entities and their types\n",
    "query = \"\"\"\n",
    "    SELECT ?entity ?type\n",
    "    WHERE {\n",
    "        ?entity a ?type .\n",
    "    }\n",
    "    LIMIT 10\n",
    "\"\"\"\n",
    "\n",
    "# Perform the SPARQL query\n",
    "results = g.query(query)\n",
    "\n",
    "# Print the results\n",
    "for row in results:\n",
    "    print(f\"Entity: {row['entity']} | Type: {row['type']}\")"
   ]
  },
  {
   "cell_type": "code",
   "execution_count": null,
   "id": "f419ad97-efab-4488-9949-ba7fb6857ada",
   "metadata": {},
   "outputs": [],
   "source": []
  }
 ],
 "metadata": {
  "kernelspec": {
   "display_name": "Python 3 (ipykernel)",
   "language": "python",
   "name": "python3"
  },
  "language_info": {
   "codemirror_mode": {
    "name": "ipython",
    "version": 3
   },
   "file_extension": ".py",
   "mimetype": "text/x-python",
   "name": "python",
   "nbconvert_exporter": "python",
   "pygments_lexer": "ipython3",
   "version": "3.10.4"
  }
 },
 "nbformat": 4,
 "nbformat_minor": 5
}
