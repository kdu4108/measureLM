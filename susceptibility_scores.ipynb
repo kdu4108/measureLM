{
 "cells": [
  {
   "cell_type": "markdown",
   "metadata": {},
   "source": [
    "### Measuring Entity Susceptibility Scores in Movie Reviews with Conditional MI"
   ]
  },
  {
   "cell_type": "code",
   "execution_count": 21,
   "metadata": {},
   "outputs": [],
   "source": [
    "import yaml\n",
    "from itertools import product\n",
    "import pandas as pd\n",
    "import seaborn as sns\n",
    "from transformers import GPTNeoXForCausalLM, AutoTokenizer\n",
    "import torch\n",
    "from typing import List\n",
    "import numpy as np\n",
    "import math\n",
    "import statsmodels.api as sm"
   ]
  },
  {
   "cell_type": "code",
   "execution_count": 2,
   "metadata": {},
   "outputs": [],
   "source": [
    "with open('toy_movie_reviews.yaml', 'r') as file:\n",
    "    review_adjs = yaml.safe_load(file)"
   ]
  },
  {
   "cell_type": "code",
   "execution_count": 3,
   "metadata": {},
   "outputs": [],
   "source": [
    "pos_adjs_train = review_adjs[\"positive_adjectives_train\"]\n",
    "neg_adjs_train = review_adjs[\"negative_adjectives_train\"]\n",
    "\n",
    "pos_verbs = review_adjs[\"positive_verbs\"]\n",
    "neg_verbs = review_adjs[\"negative_verbs\"]\n"
   ]
  },
  {
   "cell_type": "code",
   "execution_count": 4,
   "metadata": {},
   "outputs": [
    {
     "name": "stderr",
     "output_type": "stream",
     "text": [
      "/tmp/ipykernel_8681/43001630.py:1: DtypeWarning: Columns (10) have mixed types. Specify dtype option on import or set low_memory=False.\n",
      "  movies = pd.read_csv(\"movies_metadata.csv\") # https://www.kaggle.com/datasets/rounakbanik/the-movies-dataset?select=movies_metadata.csv\n"
     ]
    }
   ],
   "source": [
    "movies = pd.read_csv(\"movies_metadata.csv\") # https://www.kaggle.com/datasets/rounakbanik/the-movies-dataset?select=movies_metadata.csv\n",
    "movies = movies[[\"title\", \"vote_count\", \"popularity\"]].dropna().sort_values(by=\"vote_count\")\n",
    "movies[\"popularity\"] = movies[\"popularity\"].astype(float)\n",
    "movies_sample = pd.concat([movies.iloc[:250], movies.iloc[-250:]], axis=0)"
   ]
  },
  {
   "cell_type": "code",
   "execution_count": 5,
   "metadata": {},
   "outputs": [
    {
     "data": {
      "text/html": [
       "<div>\n",
       "<style scoped>\n",
       "    .dataframe tbody tr th:only-of-type {\n",
       "        vertical-align: middle;\n",
       "    }\n",
       "\n",
       "    .dataframe tbody tr th {\n",
       "        vertical-align: top;\n",
       "    }\n",
       "\n",
       "    .dataframe thead th {\n",
       "        text-align: right;\n",
       "    }\n",
       "</style>\n",
       "<table border=\"1\" class=\"dataframe\">\n",
       "  <thead>\n",
       "    <tr style=\"text-align: right;\">\n",
       "      <th></th>\n",
       "      <th>title</th>\n",
       "      <th>vote_count</th>\n",
       "      <th>popularity</th>\n",
       "    </tr>\n",
       "  </thead>\n",
       "  <tbody>\n",
       "    <tr>\n",
       "      <th>45416</th>\n",
       "      <td>Whiffles, Cubic Artist</td>\n",
       "      <td>0.0</td>\n",
       "      <td>0.003732</td>\n",
       "    </tr>\n",
       "    <tr>\n",
       "      <th>45377</th>\n",
       "      <td>Simbad e il califfo di Bagdad</td>\n",
       "      <td>0.0</td>\n",
       "      <td>0.006352</td>\n",
       "    </tr>\n",
       "    <tr>\n",
       "      <th>107</th>\n",
       "      <td>Headless Body in Topless Bar</td>\n",
       "      <td>0.0</td>\n",
       "      <td>0.001346</td>\n",
       "    </tr>\n",
       "    <tr>\n",
       "      <th>126</th>\n",
       "      <td>Jupiter's Wife</td>\n",
       "      <td>0.0</td>\n",
       "      <td>0.001178</td>\n",
       "    </tr>\n",
       "    <tr>\n",
       "      <th>132</th>\n",
       "      <td>Sonic Outlaws</td>\n",
       "      <td>0.0</td>\n",
       "      <td>0.001838</td>\n",
       "    </tr>\n",
       "    <tr>\n",
       "      <th>...</th>\n",
       "      <td>...</td>\n",
       "      <td>...</td>\n",
       "      <td>...</td>\n",
       "    </tr>\n",
       "    <tr>\n",
       "      <th>26564</th>\n",
       "      <td>Deadpool</td>\n",
       "      <td>11444.0</td>\n",
       "      <td>187.860492</td>\n",
       "    </tr>\n",
       "    <tr>\n",
       "      <th>17818</th>\n",
       "      <td>The Avengers</td>\n",
       "      <td>12000.0</td>\n",
       "      <td>89.887648</td>\n",
       "    </tr>\n",
       "    <tr>\n",
       "      <th>14551</th>\n",
       "      <td>Avatar</td>\n",
       "      <td>12114.0</td>\n",
       "      <td>185.070892</td>\n",
       "    </tr>\n",
       "    <tr>\n",
       "      <th>12481</th>\n",
       "      <td>The Dark Knight</td>\n",
       "      <td>12269.0</td>\n",
       "      <td>123.167259</td>\n",
       "    </tr>\n",
       "    <tr>\n",
       "      <th>15480</th>\n",
       "      <td>Inception</td>\n",
       "      <td>14075.0</td>\n",
       "      <td>29.108149</td>\n",
       "    </tr>\n",
       "  </tbody>\n",
       "</table>\n",
       "<p>500 rows × 3 columns</p>\n",
       "</div>"
      ],
      "text/plain": [
       "                               title  vote_count  popularity\n",
       "45416         Whiffles, Cubic Artist         0.0    0.003732\n",
       "45377  Simbad e il califfo di Bagdad         0.0    0.006352\n",
       "107     Headless Body in Topless Bar         0.0    0.001346\n",
       "126                   Jupiter's Wife         0.0    0.001178\n",
       "132                    Sonic Outlaws         0.0    0.001838\n",
       "...                              ...         ...         ...\n",
       "26564                       Deadpool     11444.0  187.860492\n",
       "17818                   The Avengers     12000.0   89.887648\n",
       "14551                         Avatar     12114.0  185.070892\n",
       "12481                The Dark Knight     12269.0  123.167259\n",
       "15480                      Inception     14075.0   29.108149\n",
       "\n",
       "[500 rows x 3 columns]"
      ]
     },
     "execution_count": 5,
     "metadata": {},
     "output_type": "execute_result"
    }
   ],
   "source": [
    "movies_sample"
   ]
  },
  {
   "cell_type": "code",
   "execution_count": 6,
   "metadata": {},
   "outputs": [
    {
     "data": {
      "text/plain": [
       "<Axes: xlabel='vote_count', ylabel='popularity'>"
      ]
     },
     "execution_count": 6,
     "metadata": {},
     "output_type": "execute_result"
    },
    {
     "data": {
      "image/png": "[encoded data removed]",
      "text/plain": [
       "<Figure size 640x480 with 1 Axes>"
      ]
     },
     "metadata": {},
     "output_type": "display_data"
    }
   ],
   "source": [
    "# WHETHER TO USE VOTE COUNT OR POPULARITY\n",
    "\n",
    "# movies.sort_values(by=\"popularity\").tail(50)\n",
    "# movies.sort_values(by=\"vote_count\").tail(50)\n",
    "sns.regplot(data=movies, x=\"vote_count\", y=\"popularity\")"
   ]
  },
  {
   "cell_type": "code",
   "execution_count": 7,
   "metadata": {},
   "outputs": [],
   "source": [
    "template = \"Here's a review for the movie '{}': I thought this movie was {}, I {} it.\\nConclusion: This movie is\"\n",
    "template.format(movies_sample[\"title\"].iloc[0], pos_adjs_train[0], pos_verbs[0])\n",
    "movies_sample[\"sentence\"] = movies_sample[\"title\"].apply(lambda title: template.format(title, pos_adjs_train[0], pos_verbs[0])) \n"
   ]
  },
  {
   "cell_type": "code",
   "execution_count": 8,
   "metadata": {},
   "outputs": [
    {
     "name": "stdout",
     "output_type": "stream",
     "text": [
      "Number of positive contexts:  72\n",
      "Number of negative contexts:  72\n",
      "[\"Here's a movie review: 'The movie was dreadful and I hated it'. \", \"Here's a movie review: 'The movie was depressing and I disliked it'. \", \"Here's a movie review: 'The movie was nasty and I despised it'. \", \"Here's a movie review: 'The movie was ugly and I hated it'. \", \"Here's a movie review: 'The movie was annoying and I disliked it'. \", \"Here's a movie review: 'The movie was frustrating and I despised it'. \", \"Here's a movie review: 'The movie was unpleasant and I hated it'. \", \"Here's a movie review: 'The movie was awful and I disliked it'. \"]\n"
     ]
    }
   ],
   "source": [
    "context_template = \"Here's a movie review: 'The movie was {} and I {} it'. \"\n",
    "num_adjs = min(len(pos_adjs_train), len(neg_adjs_train))\n",
    "num_verbs = min(len(pos_verbs), len(neg_verbs))\n",
    "\n",
    "pos_contexts = [context_template.format(adj, verb) for (adj, verb) in product(pos_adjs_train[:num_adjs], pos_verbs[:num_verbs])]\n",
    "neg_contexts = [context_template.format(adj, verb) for (adj, verb) in product(neg_adjs_train[:num_adjs], neg_verbs[:num_verbs])]\n",
    "contexts = neg_contexts\n",
    "# contexts = pos_contexts + neg_contexts\n",
    "\n",
    "print(\"Number of positive contexts: \", len(pos_contexts))\n",
    "print(\"Number of negative contexts: \", len(neg_contexts))\n",
    "print(contexts[::10])"
   ]
  },
  {
   "cell_type": "code",
   "execution_count": 9,
   "metadata": {},
   "outputs": [],
   "source": [
    "def format_query(query, entity, context, prefix=\"\"):\n",
    "    return prefix + context + query.format(entity)"
   ]
  },
  {
   "cell_type": "code",
   "execution_count": 10,
   "metadata": {},
   "outputs": [],
   "source": [
    "# from functools import partial\n",
    "# def fill_in_template(template: str, title: str, adj: str, verb: str):\n",
    "#     return template.format(title, adj, verb)\n",
    "\n",
    "# pos_template_partial = partial(fill_in_template, template=template, verb=pos_verbs[0])\n",
    "# neg_template_partial = partial(fill_in_template, template=template, verb=neg_verbs[0])\n",
    "\n",
    "# for adj in pos_adjs_train:\n",
    "#     movies_sample[f\"pos_{adj}_context\"] = movies_sample[\"title\"].apply(lambda title: pos_template_partial(title=title, adj=adj))\n",
    "\n",
    "# for adj in neg_adjs_train:\n",
    "#     movies_sample[f\"neg_{adj}_context\"] = movies_sample[\"title\"].apply(lambda title: neg_template_partial(title=title, adj=adj))"
   ]
  },
  {
   "cell_type": "code",
   "execution_count": 11,
   "metadata": {},
   "outputs": [
    {
     "data": {
      "text/html": [
       "<div>\n",
       "<style scoped>\n",
       "    .dataframe tbody tr th:only-of-type {\n",
       "        vertical-align: middle;\n",
       "    }\n",
       "\n",
       "    .dataframe tbody tr th {\n",
       "        vertical-align: top;\n",
       "    }\n",
       "\n",
       "    .dataframe thead th {\n",
       "        text-align: right;\n",
       "    }\n",
       "</style>\n",
       "<table border=\"1\" class=\"dataframe\">\n",
       "  <thead>\n",
       "    <tr style=\"text-align: right;\">\n",
       "      <th></th>\n",
       "      <th>title</th>\n",
       "      <th>vote_count</th>\n",
       "      <th>popularity</th>\n",
       "      <th>sentence</th>\n",
       "    </tr>\n",
       "  </thead>\n",
       "  <tbody>\n",
       "    <tr>\n",
       "      <th>45416</th>\n",
       "      <td>Whiffles, Cubic Artist</td>\n",
       "      <td>0.0</td>\n",
       "      <td>0.003732</td>\n",
       "      <td>Here's a review for the movie 'Whiffles, Cubic...</td>\n",
       "    </tr>\n",
       "    <tr>\n",
       "      <th>45377</th>\n",
       "      <td>Simbad e il califfo di Bagdad</td>\n",
       "      <td>0.0</td>\n",
       "      <td>0.006352</td>\n",
       "      <td>Here's a review for the movie 'Simbad e il cal...</td>\n",
       "    </tr>\n",
       "    <tr>\n",
       "      <th>107</th>\n",
       "      <td>Headless Body in Topless Bar</td>\n",
       "      <td>0.0</td>\n",
       "      <td>0.001346</td>\n",
       "      <td>Here's a review for the movie 'Headless Body i...</td>\n",
       "    </tr>\n",
       "    <tr>\n",
       "      <th>126</th>\n",
       "      <td>Jupiter's Wife</td>\n",
       "      <td>0.0</td>\n",
       "      <td>0.001178</td>\n",
       "      <td>Here's a review for the movie 'Jupiter's Wife'...</td>\n",
       "    </tr>\n",
       "    <tr>\n",
       "      <th>132</th>\n",
       "      <td>Sonic Outlaws</td>\n",
       "      <td>0.0</td>\n",
       "      <td>0.001838</td>\n",
       "      <td>Here's a review for the movie 'Sonic Outlaws':...</td>\n",
       "    </tr>\n",
       "  </tbody>\n",
       "</table>\n",
       "</div>"
      ],
      "text/plain": [
       "                               title  vote_count  popularity  \\\n",
       "45416         Whiffles, Cubic Artist         0.0    0.003732   \n",
       "45377  Simbad e il califfo di Bagdad         0.0    0.006352   \n",
       "107     Headless Body in Topless Bar         0.0    0.001346   \n",
       "126                   Jupiter's Wife         0.0    0.001178   \n",
       "132                    Sonic Outlaws         0.0    0.001838   \n",
       "\n",
       "                                                sentence  \n",
       "45416  Here's a review for the movie 'Whiffles, Cubic...  \n",
       "45377  Here's a review for the movie 'Simbad e il cal...  \n",
       "107    Here's a review for the movie 'Headless Body i...  \n",
       "126    Here's a review for the movie 'Jupiter's Wife'...  \n",
       "132    Here's a review for the movie 'Sonic Outlaws':...  "
      ]
     },
     "execution_count": 11,
     "metadata": {},
     "output_type": "execute_result"
    }
   ],
   "source": [
    "movies_sample.head()"
   ]
  },
  {
   "cell_type": "code",
   "execution_count": 12,
   "metadata": {},
   "outputs": [
    {
     "name": "stderr",
     "output_type": "stream",
     "text": [
      "Setting `pad_token_id` to `eos_token_id`:0 for open-end generation.\n",
      "/home/kevin/mambaforge/envs/measurelm2/lib/python3.10/site-packages/transformers/generation/utils.py:1273: UserWarning: Using the model-agnostic default `max_length` (=20) to control the generation length. We recommend setting `max_new_tokens` to control the maximum length of the generation.\n",
      "  warnings.warn(\n",
      "/home/kevin/mambaforge/envs/measurelm2/lib/python3.10/site-packages/transformers/generation/utils.py:1281: UserWarning: Input length of input_ids is 43, but `max_length` is set to 20. This can lead to unexpected behavior. You should consider increasing `max_new_tokens`.\n",
      "  warnings.warn(\n",
      "/tmp/ipykernel_8681/362821314.py:23: UserWarning: Implicit dimension choice for softmax has been deprecated. Change the call to include dim=X as an argument.\n",
      "  probs, top_tokens = torch.topk(torch.nn.functional.softmax(model(**inputs).logits[0, -1]), k=10)\n"
     ]
    },
    {
     "name": "stdout",
     "output_type": "stream",
     "text": [
      "tensor(0.6425, device='cuda:0', grad_fn=<AddBackward0>)\n"
     ]
    },
    {
     "data": {
      "text/plain": [
       "'\\n��icedicky001........�icing002'"
      ]
     },
     "execution_count": 12,
     "metadata": {},
     "output_type": "execute_result"
    }
   ],
   "source": [
    "device = \"cuda\" if torch.cuda.is_available() else \"cpu\"\n",
    "model_name = \"EleutherAI/pythia-70m-deduped\"\n",
    "\n",
    "\n",
    "model = GPTNeoXForCausalLM.from_pretrained(\n",
    "  model_name,\n",
    "  # load_in_8bit=True,\n",
    "  # revision=\"step3000\",\n",
    "  # cache_dir=\"./pythia-70m-deduped/step3000\",\n",
    ").to(device)\n",
    "\n",
    "tokenizer = AutoTokenizer.from_pretrained(\n",
    "  model_name,\n",
    "  padding_side=\"left\",\n",
    "  # revision=\"step3000\",\n",
    "  # cache_dir=\"./pythia-70m-deduped/step3000\",\n",
    ")\n",
    "\n",
    "query = \"On a scale from 1 to 5 stars, the quality of this movie, '{}', is rated \"\n",
    "inputs = tokenizer(format_query(query=query, entity=movies_sample.iloc[0][\"title\"], context=contexts[0]), return_tensors=\"pt\").to(device)\n",
    "# inputs = tokenizer(movies_sample.iloc[0][\"sentence\"], return_tensors=\"pt\").to(device)\n",
    "tokens = model.generate(**inputs)\n",
    "probs, top_tokens = torch.topk(torch.nn.functional.softmax(model(**inputs).logits[0, -1]), k=10)\n",
    "print(sum(probs))\n",
    "tokenizer.decode(top_tokens)\n",
    "# print(tokens)\n",
    "# tokenizer.decode(tokens[0])\n"
   ]
  },
  {
   "cell_type": "code",
   "execution_count": 13,
   "metadata": {},
   "outputs": [
    {
     "data": {
      "text/plain": [
       "{0: tensor([   17, 10528, 26561], device='cuda:0'),\n",
       " 1: tensor([  18,  531, 4041], device='cuda:0'),\n",
       " 2: tensor([  19, 9389, 7910], device='cuda:0'),\n",
       " 3: tensor([   20, 13524, 11831], device='cuda:0'),\n",
       " 4: tensor([   21, 12496, 14039], device='cuda:0'),\n",
       " 5: tensor([   22, 12071, 25438], device='cuda:0')}"
      ]
     },
     "execution_count": 13,
     "metadata": {},
     "output_type": "execute_result"
    }
   ],
   "source": [
    "answer_map = {\n",
    "    0: [\"0\", \"zero\", \"Zero\"],\n",
    "    1: [\"1\", \"one\", \"One\"],\n",
    "    2: [\"2\", \"two\", \"Two\"],\n",
    "    3: [\"3\", \"three\", \"Three\"],\n",
    "    4: [\"4\", \"four\", \"Four\"],\n",
    "    5: [\"5\", \"five\", \"Five\"],\n",
    "}\n",
    "answer_map_token_ids = {k: torch.tensor(tokenizer.convert_tokens_to_ids(v), device=model.device) for k, v in answer_map.items()}\n",
    "answer_map_token_ids"
   ]
  },
  {
   "cell_type": "code",
   "execution_count": 14,
   "metadata": {},
   "outputs": [],
   "source": [
    "# 1. Approximate x ∈ Σ∗ with a set of contexts from a dataset\n",
    "# 2. Approximate p(y|x, q[e]) with monte carlo samples of y given x and q[e].\n",
    "# 3. Approximate p(y|q[e]) with monte carlo samples of x.\n",
    "# 4. Approximate p(x) with samples from a corpus (empirical distribution), but meaning/interpretation is complicated.\n",
    "# Run a model on each of these sentences and get a score\n",
    "\n",
    "\n",
    "def estimate_prob_x_given_e(entity: str, contexts: List[str]):\n",
    "    \"\"\"\n",
    "    Returns a (len(contexts),) nparray containing the probability of each context.\n",
    "    \"\"\"\n",
    "    return np.ones(len(contexts)) / len(contexts) \n",
    "\n",
    "def estimate_prob_next_word_given_x_and_entity(query, entity: str, contexts: List[str], model: GPTNeoXForCausalLM, tokenizer: AutoTokenizer, bs=32, answer_map=None):\n",
    "    \"\"\"\n",
    "    Args:\n",
    "        entity: str - the entity of interest\n",
    "        contexts: List[str] - list of contexts appended to the query regarding entity\n",
    "\n",
    "    Returns:\n",
    "      samples - a list of torch longtensors of shape (num_samples, max_length) with length len(contexts)\n",
    "      possible_outputs - a dict mapping from all observed outputs to its unique index.\n",
    "    \"\"\"\n",
    "    complete_queries = [format_query(query, entity, context) for context in contexts]\n",
    "\n",
    "    if tokenizer.padding_side != \"left\":\n",
    "        raise ValueError(f\"Expected tokenizer {tokenizer} to have padding side of `left` for batch generation, instead has padding side of `{tokenizer.padding_side}`. Please make sure you initialize the tokenizer to use left padding.\")\n",
    "    \n",
    "    if tokenizer.pad_token is None:\n",
    "      tokenizer.pad_token = tokenizer.eos_token\n",
    "\n",
    "    if model.config.pad_token_id != model.config.eos_token_id:\n",
    "      print(\"Setting model.config.pad_token_id to model.config.eos_token_id\")\n",
    "      model.config.pad_token_id = model.config.eos_token_id\n",
    "\n",
    "    output_size = model.config.vocab_size if answer_map is None else len(answer_map)\n",
    "    num_batches = math.ceil(len(complete_queries) / bs)\n",
    "    last_word_logits = torch.zeros(len(complete_queries), output_size, device=model.device)\n",
    "    for b in range(num_batches):\n",
    "        start, end = b * bs, min((b + 1) * bs, len(complete_queries))\n",
    "        tokens = tokenizer(complete_queries[start: end], padding=True, return_tensors=\"pt\").to(model.device) # shape: (len(contexts), max_context_width)\n",
    "        logits = model(**tokens)[\"logits\"] # shape: (len(contexts), mcw, vocab_sz)\n",
    "        last_word_logits_batch = logits[:, -1, :] # shape: (len(contexts), vocab_sz)\n",
    "        if answer_map is not None:\n",
    "            last_word_logits_agg = torch.zeros(end - start, output_size, device=model.device)\n",
    "            for answer, option_ids in answer_map.items():\n",
    "                logit_vals = torch.index_select(input=last_word_logits_batch, dim=1, index=option_ids) # shape; (bs, len(option_ids))\n",
    "                last_word_logits_agg[:, answer] = torch.sum(logit_vals, dim=1)\n",
    "            last_word_logits_batch = last_word_logits_agg\n",
    "        last_word_logits[start: end] = last_word_logits_batch\n",
    "\n",
    "    last_word_probs = torch.nn.functional.softmax(last_word_logits, dim=1) # shape: (len(contexts, vocab_sz))\n",
    "    # print(last_word_probs.shape)\n",
    "    # print(torch.sum(last_word_probs, dim=1)[1].item())\n",
    "\n",
    "    return last_word_probs.cpu().detach().numpy()\n",
    "\n",
    "def estimate_prob_y_given_context_and_entity(\n",
    "        query:str, \n",
    "        entity: str, \n",
    "        contexts: List[str], \n",
    "        model: GPTNeoXForCausalLM, \n",
    "        tokenizer: AutoTokenizer, \n",
    "        num_samples=None,\n",
    "        max_output_length=1,\n",
    "        answer_map=None,\n",
    "    ):\n",
    "    \"\"\"\n",
    "    Args:\n",
    "        output_samples - a list of sampled outputs from the model given the context and entity. \n",
    "                         Outputs need not be unique.\n",
    "\n",
    "    Returns:\n",
    "        a (len(set(output_samples)),) nparray containing the probability of each output.\n",
    "    \"\"\"\n",
    "    if max_output_length > 1 and num_samples is None:\n",
    "        raise ValueError(\"Estimating p(y | x, q[e]) for outputs y with length >1 requires sampling. Please specify a value for num_samples.\")\n",
    "\n",
    "    if num_samples is not None:\n",
    "        return sample_y_given_x_and_entity(\n",
    "            query=query, \n",
    "            entity=entity, \n",
    "            contexts=contexts, \n",
    "            model=model, \n",
    "            tokenizer=tokenizer, \n",
    "            num_samples=num_samples,\n",
    "            max_output_length=max_output_length,\n",
    "        )\n",
    "\n",
    "    return estimate_prob_next_word_given_x_and_entity(            \n",
    "        query=query, \n",
    "        entity=entity, \n",
    "        contexts=contexts, \n",
    "        model=model, \n",
    "        tokenizer=tokenizer, \n",
    "        answer_map=answer_map,\n",
    "    )\n",
    "    \n",
    "\n",
    "def sample_y_given_x_and_entity(query, entity: str, contexts: List[str], model: GPTNeoXForCausalLM, tokenizer: AutoTokenizer, num_samples=1000):\n",
    "    \"\"\"\n",
    "    Args:\n",
    "        entity: str - the entity of interest\n",
    "        contexts: List[str] - list of contexts appended to the query regarding entity\n",
    "    \"\"\"\n",
    "    raise NotImplementedError()\n",
    "\n",
    "\n",
    "def estimate_cmi(query, entity, contexts, model, tokenizer, answer_map=None): \n",
    "    \"\"\"\n",
    "    Computes the conditional mutual information I(X; Y | q[e]) of answer Y and context X when conditioned on query regarding entity e.\n",
    "\n",
    "    I(X; Y | q[e]) = \\sum_{x \\in X} \\sum_{y \\in Y} (p(x, y | q[e]) * log(p(y | x, q[e]) / p(y | q[e])))\n",
    "\n",
    "    So we need to monte carlo estimate:\n",
    "        (1) p(y | x, q[e])                                             , shape: (|X|, |Y|)\n",
    "        (2) p(x | q[e])                                                , shape: (|X|,)\n",
    "        (3) p(x, y | q[e]) = p(y | x, q[e]) * p(x | q[e])              , shape: (|X|, |Y|)\n",
    "        (4) p(y | q[e]) = \\sum_{x \\in X} (p(y | x, q[e]) * p(x | q[e])), shape: (|Y|,)\n",
    "    \"\"\"\n",
    "    prob_x_given_e = estimate_prob_x_given_e(entity, contexts) # shape: (|X|,)\n",
    "    # output_samples = sample_y_given_x_and_entity(query, entity, contexts, model, tokenizer) # shape: (|X|,)\n",
    "    prob_y_given_context_and_entity = estimate_prob_y_given_context_and_entity(query, entity, contexts, model, tokenizer, answer_map=answer_map) # shape: (|X|, |Y|)\n",
    "\n",
    "    prob_x_y_given_e = np.einsum(\"ij, i -> ij\", prob_y_given_context_and_entity, prob_x_given_e) # shape: (|X|, |Y|)\n",
    "    prob_y_given_e = np.einsum(\"ij, i -> j\", prob_y_given_context_and_entity, prob_x_given_e) # shape: (|Y|,)\n",
    "    \n",
    "    return np.sum(prob_x_y_given_e * np.nan_to_num(np.log(prob_y_given_context_and_entity / prob_y_given_e)))"
   ]
  },
  {
   "cell_type": "code",
   "execution_count": 15,
   "metadata": {},
   "outputs": [
    {
     "name": "stderr",
     "output_type": "stream",
     "text": [
      "  0%|          | 2/500 [00:00<00:28, 17.67it/s]"
     ]
    },
    {
     "name": "stdout",
     "output_type": "stream",
     "text": [
      "Setting model.config.pad_token_id to model.config.eos_token_id\n"
     ]
    },
    {
     "name": "stderr",
     "output_type": "stream",
     "text": [
      "100%|██████████| 500/500 [01:02<00:00,  8.05it/s]\n"
     ]
    }
   ],
   "source": [
    "query = \"On a scale from 1 to 5 stars, the quality of this movie, '{}', is rated \"\n",
    "from tqdm import tqdm\n",
    "tqdm.pandas()\n",
    "movies_sample[\"susceptibility_score\"] = movies_sample[\"title\"].progress_apply(lambda e: estimate_cmi(query=query, entity=e, contexts=contexts, model=model, tokenizer=tokenizer, answer_map=answer_map_token_ids))"
   ]
  },
  {
   "cell_type": "code",
   "execution_count": 16,
   "metadata": {},
   "outputs": [
    {
     "data": {
      "text/plain": [
       "susceptibility_score\n",
       "0.002968    2\n",
       "0.002508    1\n",
       "0.002503    1\n",
       "0.002501    1\n",
       "0.002496    1\n",
       "           ..\n",
       "0.001592    1\n",
       "0.001588    1\n",
       "0.001583    1\n",
       "0.001559    1\n",
       "0.001666    1\n",
       "Name: count, Length: 499, dtype: int64"
      ]
     },
     "execution_count": 16,
     "metadata": {},
     "output_type": "execute_result"
    }
   ],
   "source": [
    "movies_sample.value_counts(\"susceptibility_score\")"
   ]
  },
  {
   "cell_type": "code",
   "execution_count": 17,
   "metadata": {},
   "outputs": [
    {
     "data": {
      "text/html": [
       "<div>\n",
       "<style scoped>\n",
       "    .dataframe tbody tr th:only-of-type {\n",
       "        vertical-align: middle;\n",
       "    }\n",
       "\n",
       "    .dataframe tbody tr th {\n",
       "        vertical-align: top;\n",
       "    }\n",
       "\n",
       "    .dataframe thead th {\n",
       "        text-align: right;\n",
       "    }\n",
       "</style>\n",
       "<table border=\"1\" class=\"dataframe\">\n",
       "  <thead>\n",
       "    <tr style=\"text-align: right;\">\n",
       "      <th></th>\n",
       "      <th>title</th>\n",
       "      <th>vote_count</th>\n",
       "      <th>popularity</th>\n",
       "      <th>sentence</th>\n",
       "      <th>susceptibility_score</th>\n",
       "    </tr>\n",
       "  </thead>\n",
       "  <tbody>\n",
       "    <tr>\n",
       "      <th>45416</th>\n",
       "      <td>Whiffles, Cubic Artist</td>\n",
       "      <td>0.0</td>\n",
       "      <td>0.003732</td>\n",
       "      <td>Here's a review for the movie 'Whiffles, Cubic...</td>\n",
       "      <td>0.001108</td>\n",
       "    </tr>\n",
       "    <tr>\n",
       "      <th>45377</th>\n",
       "      <td>Simbad e il califfo di Bagdad</td>\n",
       "      <td>0.0</td>\n",
       "      <td>0.006352</td>\n",
       "      <td>Here's a review for the movie 'Simbad e il cal...</td>\n",
       "      <td>0.002142</td>\n",
       "    </tr>\n",
       "    <tr>\n",
       "      <th>107</th>\n",
       "      <td>Headless Body in Topless Bar</td>\n",
       "      <td>0.0</td>\n",
       "      <td>0.001346</td>\n",
       "      <td>Here's a review for the movie 'Headless Body i...</td>\n",
       "      <td>0.001198</td>\n",
       "    </tr>\n",
       "    <tr>\n",
       "      <th>126</th>\n",
       "      <td>Jupiter's Wife</td>\n",
       "      <td>0.0</td>\n",
       "      <td>0.001178</td>\n",
       "      <td>Here's a review for the movie 'Jupiter's Wife'...</td>\n",
       "      <td>0.003987</td>\n",
       "    </tr>\n",
       "    <tr>\n",
       "      <th>132</th>\n",
       "      <td>Sonic Outlaws</td>\n",
       "      <td>0.0</td>\n",
       "      <td>0.001838</td>\n",
       "      <td>Here's a review for the movie 'Sonic Outlaws':...</td>\n",
       "      <td>0.002723</td>\n",
       "    </tr>\n",
       "    <tr>\n",
       "      <th>...</th>\n",
       "      <td>...</td>\n",
       "      <td>...</td>\n",
       "      <td>...</td>\n",
       "      <td>...</td>\n",
       "      <td>...</td>\n",
       "    </tr>\n",
       "    <tr>\n",
       "      <th>26564</th>\n",
       "      <td>Deadpool</td>\n",
       "      <td>11444.0</td>\n",
       "      <td>187.860492</td>\n",
       "      <td>Here's a review for the movie 'Deadpool': I th...</td>\n",
       "      <td>0.001295</td>\n",
       "    </tr>\n",
       "    <tr>\n",
       "      <th>17818</th>\n",
       "      <td>The Avengers</td>\n",
       "      <td>12000.0</td>\n",
       "      <td>89.887648</td>\n",
       "      <td>Here's a review for the movie 'The Avengers': ...</td>\n",
       "      <td>0.002957</td>\n",
       "    </tr>\n",
       "    <tr>\n",
       "      <th>14551</th>\n",
       "      <td>Avatar</td>\n",
       "      <td>12114.0</td>\n",
       "      <td>185.070892</td>\n",
       "      <td>Here's a review for the movie 'Avatar': I thou...</td>\n",
       "      <td>0.002503</td>\n",
       "    </tr>\n",
       "    <tr>\n",
       "      <th>12481</th>\n",
       "      <td>The Dark Knight</td>\n",
       "      <td>12269.0</td>\n",
       "      <td>123.167259</td>\n",
       "      <td>Here's a review for the movie 'The Dark Knight...</td>\n",
       "      <td>0.002088</td>\n",
       "    </tr>\n",
       "    <tr>\n",
       "      <th>15480</th>\n",
       "      <td>Inception</td>\n",
       "      <td>14075.0</td>\n",
       "      <td>29.108149</td>\n",
       "      <td>Here's a review for the movie 'Inception': I t...</td>\n",
       "      <td>0.002618</td>\n",
       "    </tr>\n",
       "  </tbody>\n",
       "</table>\n",
       "<p>500 rows × 5 columns</p>\n",
       "</div>"
      ],
      "text/plain": [
       "                               title  vote_count  popularity  \\\n",
       "45416         Whiffles, Cubic Artist         0.0    0.003732   \n",
       "45377  Simbad e il califfo di Bagdad         0.0    0.006352   \n",
       "107     Headless Body in Topless Bar         0.0    0.001346   \n",
       "126                   Jupiter's Wife         0.0    0.001178   \n",
       "132                    Sonic Outlaws         0.0    0.001838   \n",
       "...                              ...         ...         ...   \n",
       "26564                       Deadpool     11444.0  187.860492   \n",
       "17818                   The Avengers     12000.0   89.887648   \n",
       "14551                         Avatar     12114.0  185.070892   \n",
       "12481                The Dark Knight     12269.0  123.167259   \n",
       "15480                      Inception     14075.0   29.108149   \n",
       "\n",
       "                                                sentence  susceptibility_score  \n",
       "45416  Here's a review for the movie 'Whiffles, Cubic...              0.001108  \n",
       "45377  Here's a review for the movie 'Simbad e il cal...              0.002142  \n",
       "107    Here's a review for the movie 'Headless Body i...              0.001198  \n",
       "126    Here's a review for the movie 'Jupiter's Wife'...              0.003987  \n",
       "132    Here's a review for the movie 'Sonic Outlaws':...              0.002723  \n",
       "...                                                  ...                   ...  \n",
       "26564  Here's a review for the movie 'Deadpool': I th...              0.001295  \n",
       "17818  Here's a review for the movie 'The Avengers': ...              0.002957  \n",
       "14551  Here's a review for the movie 'Avatar': I thou...              0.002503  \n",
       "12481  Here's a review for the movie 'The Dark Knight...              0.002088  \n",
       "15480  Here's a review for the movie 'Inception': I t...              0.002618  \n",
       "\n",
       "[500 rows x 5 columns]"
      ]
     },
     "execution_count": 17,
     "metadata": {},
     "output_type": "execute_result"
    }
   ],
   "source": [
    "movies_sample"
   ]
  },
  {
   "cell_type": "code",
   "execution_count": 19,
   "metadata": {},
   "outputs": [
    {
     "data": {
      "text/plain": [
       "<Axes: xlabel='vote_count', ylabel='susceptibility_score'>"
      ]
     },
     "execution_count": 19,
     "metadata": {},
     "output_type": "execute_result"
    },
    {
     "data": {
      "image/png": "[encoded data removed]",
      "text/plain": [
       "<Figure size 640x480 with 1 Axes>"
      ]
     },
     "metadata": {},
     "output_type": "display_data"
    }
   ],
   "source": [
    "sns.regplot(data=movies_sample, x=\"vote_count\", y=\"susceptibility_score\")"
   ]
  },
  {
   "cell_type": "code",
   "execution_count": 22,
   "metadata": {},
   "outputs": [
    {
     "data": {
      "text/html": [
       "<table class=\"simpletable\">\n",
       "<caption>OLS Regression Results</caption>\n",
       "<tr>\n",
       "  <th>Dep. Variable:</th>    <td>susceptibility_score</td> <th>  R-squared:         </th> <td>   0.000</td>\n",
       "</tr>\n",
       "<tr>\n",
       "  <th>Model:</th>                     <td>OLS</td>         <th>  Adj. R-squared:    </th> <td>  -0.002</td>\n",
       "</tr>\n",
       "<tr>\n",
       "  <th>Method:</th>               <td>Least Squares</td>    <th>  F-statistic:       </th> <td> 0.06730</td>\n",
       "</tr>\n",
       "<tr>\n",
       "  <th>Date:</th>               <td>Wed, 29 Nov 2023</td>   <th>  Prob (F-statistic):</th>  <td> 0.795</td> \n",
       "</tr>\n",
       "<tr>\n",
       "  <th>Time:</th>                   <td>23:45:52</td>       <th>  Log-Likelihood:    </th> <td>  2781.5</td>\n",
       "</tr>\n",
       "<tr>\n",
       "  <th>No. Observations:</th>        <td>   500</td>        <th>  AIC:               </th> <td>  -5559.</td>\n",
       "</tr>\n",
       "<tr>\n",
       "  <th>Df Residuals:</th>            <td>   498</td>        <th>  BIC:               </th> <td>  -5550.</td>\n",
       "</tr>\n",
       "<tr>\n",
       "  <th>Df Model:</th>                <td>     1</td>        <th>                     </th>     <td> </td>   \n",
       "</tr>\n",
       "<tr>\n",
       "  <th>Covariance Type:</th>        <td>nonrobust</td>      <th>                     </th>     <td> </td>   \n",
       "</tr>\n",
       "</table>\n",
       "<table class=\"simpletable\">\n",
       "<tr>\n",
       "       <td></td>         <th>coef</th>     <th>std err</th>      <th>t</th>      <th>P>|t|</th>  <th>[0.025</th>    <th>0.975]</th>  \n",
       "</tr>\n",
       "<tr>\n",
       "  <th>const</th>      <td>    0.0021</td> <td> 5.57e-05</td> <td>   37.803</td> <td> 0.000</td> <td>    0.002</td> <td>    0.002</td>\n",
       "</tr>\n",
       "<tr>\n",
       "  <th>vote_count</th> <td> 3.666e-09</td> <td> 1.41e-08</td> <td>    0.259</td> <td> 0.795</td> <td>-2.41e-08</td> <td> 3.14e-08</td>\n",
       "</tr>\n",
       "</table>\n",
       "<table class=\"simpletable\">\n",
       "<tr>\n",
       "  <th>Omnibus:</th>       <td>21.660</td> <th>  Durbin-Watson:     </th> <td>   1.886</td>\n",
       "</tr>\n",
       "<tr>\n",
       "  <th>Prob(Omnibus):</th> <td> 0.000</td> <th>  Jarque-Bera (JB):  </th> <td>  23.789</td>\n",
       "</tr>\n",
       "<tr>\n",
       "  <th>Skew:</th>          <td> 0.532</td> <th>  Prob(JB):          </th> <td>6.83e-06</td>\n",
       "</tr>\n",
       "<tr>\n",
       "  <th>Kurtosis:</th>      <td> 2.894</td> <th>  Cond. No.          </th> <td>5.28e+03</td>\n",
       "</tr>\n",
       "</table><br/><br/>Notes:<br/>[1] Standard Errors assume that the covariance matrix of the errors is correctly specified.<br/>[2] The condition number is large, 5.28e+03. This might indicate that there are<br/>strong multicollinearity or other numerical problems."
      ],
      "text/latex": [
       "\\begin{center}\n",
       "\\begin{tabular}{lclc}\n",
       "\\toprule\n",
       "\\textbf{Dep. Variable:}    & susceptibility\\_score & \\textbf{  R-squared:         } &     0.000   \\\\\n",
       "\\textbf{Model:}            &          OLS          & \\textbf{  Adj. R-squared:    } &    -0.002   \\\\\n",
       "\\textbf{Method:}           &     Least Squares     & \\textbf{  F-statistic:       } &   0.06730   \\\\\n",
       "\\textbf{Date:}             &    Wed, 29 Nov 2023   & \\textbf{  Prob (F-statistic):} &    0.795    \\\\\n",
       "\\textbf{Time:}             &        23:45:52       & \\textbf{  Log-Likelihood:    } &    2781.5   \\\\\n",
       "\\textbf{No. Observations:} &            500        & \\textbf{  AIC:               } &    -5559.   \\\\\n",
       "\\textbf{Df Residuals:}     &            498        & \\textbf{  BIC:               } &    -5550.   \\\\\n",
       "\\textbf{Df Model:}         &              1        & \\textbf{                     } &             \\\\\n",
       "\\textbf{Covariance Type:}  &       nonrobust       & \\textbf{                     } &             \\\\\n",
       "\\bottomrule\n",
       "\\end{tabular}\n",
       "\\begin{tabular}{lcccccc}\n",
       "                     & \\textbf{coef} & \\textbf{std err} & \\textbf{t} & \\textbf{P$> |$t$|$} & \\textbf{[0.025} & \\textbf{0.975]}  \\\\\n",
       "\\midrule\n",
       "\\textbf{const}       &       0.0021  &     5.57e-05     &    37.803  &         0.000        &        0.002    &        0.002     \\\\\n",
       "\\textbf{vote\\_count} &    3.666e-09  &     1.41e-08     &     0.259  &         0.795        &    -2.41e-08    &     3.14e-08     \\\\\n",
       "\\bottomrule\n",
       "\\end{tabular}\n",
       "\\begin{tabular}{lclc}\n",
       "\\textbf{Omnibus:}       & 21.660 & \\textbf{  Durbin-Watson:     } &    1.886  \\\\\n",
       "\\textbf{Prob(Omnibus):} &  0.000 & \\textbf{  Jarque-Bera (JB):  } &   23.789  \\\\\n",
       "\\textbf{Skew:}          &  0.532 & \\textbf{  Prob(JB):          } & 6.83e-06  \\\\\n",
       "\\textbf{Kurtosis:}      &  2.894 & \\textbf{  Cond. No.          } & 5.28e+03  \\\\\n",
       "\\bottomrule\n",
       "\\end{tabular}\n",
       "%\\caption{OLS Regression Results}\n",
       "\\end{center}\n",
       "\n",
       "Notes: \\newline\n",
       " [1] Standard Errors assume that the covariance matrix of the errors is correctly specified. \\newline\n",
       " [2] The condition number is large, 5.28e+03. This might indicate that there are \\newline\n",
       " strong multicollinearity or other numerical problems."
      ],
      "text/plain": [
       "<class 'statsmodels.iolib.summary.Summary'>\n",
       "\"\"\"\n",
       "                             OLS Regression Results                             \n",
       "================================================================================\n",
       "Dep. Variable:     susceptibility_score   R-squared:                       0.000\n",
       "Model:                              OLS   Adj. R-squared:                 -0.002\n",
       "Method:                   Least Squares   F-statistic:                   0.06730\n",
       "Date:                  Wed, 29 Nov 2023   Prob (F-statistic):              0.795\n",
       "Time:                          23:45:52   Log-Likelihood:                 2781.5\n",
       "No. Observations:                   500   AIC:                            -5559.\n",
       "Df Residuals:                       498   BIC:                            -5550.\n",
       "Df Model:                             1                                         \n",
       "Covariance Type:              nonrobust                                         \n",
       "==============================================================================\n",
       "                 coef    std err          t      P>|t|      [0.025      0.975]\n",
       "------------------------------------------------------------------------------\n",
       "const          0.0021   5.57e-05     37.803      0.000       0.002       0.002\n",
       "vote_count  3.666e-09   1.41e-08      0.259      0.795   -2.41e-08    3.14e-08\n",
       "==============================================================================\n",
       "Omnibus:                       21.660   Durbin-Watson:                   1.886\n",
       "Prob(Omnibus):                  0.000   Jarque-Bera (JB):               23.789\n",
       "Skew:                           0.532   Prob(JB):                     6.83e-06\n",
       "Kurtosis:                       2.894   Cond. No.                     5.28e+03\n",
       "==============================================================================\n",
       "\n",
       "Notes:\n",
       "[1] Standard Errors assume that the covariance matrix of the errors is correctly specified.\n",
       "[2] The condition number is large, 5.28e+03. This might indicate that there are\n",
       "strong multicollinearity or other numerical problems.\n",
       "\"\"\""
      ]
     },
     "execution_count": 22,
     "metadata": {},
     "output_type": "execute_result"
    }
   ],
   "source": [
    "x = movies_sample[\"vote_count\"]\n",
    "x = sm.add_constant(x)\n",
    "y = movies_sample[\"susceptibility_score\"]\n",
    "model = sm.OLS(y, x).fit()\n",
    "model.summary()"
   ]
  },
  {
   "cell_type": "code",
   "execution_count": null,
   "metadata": {},
   "outputs": [],
   "source": []
  }
 ],
 "metadata": {
  "kernelspec": {
   "display_name": "measurelm2",
   "language": "python",
   "name": "python3"
  },
  "language_info": {
   "codemirror_mode": {
    "name": "ipython",
    "version": 3
   },
   "file_extension": ".py",
   "mimetype": "text/x-python",
   "name": "python",
   "nbconvert_exporter": "python",
   "pygments_lexer": "ipython3",
   "version": "3.10.13"
  }
 },
 "nbformat": 4,
 "nbformat_minor": 2
}
