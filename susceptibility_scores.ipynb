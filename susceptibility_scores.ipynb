{
 "cells": [
  {
   "cell_type": "markdown",
   "metadata": {},
   "source": [
    "### Measuring Entity Susceptibility Scores in Movie Reviews with Conditional MI"
   ]
  },
  {
   "cell_type": "code",
   "execution_count": 1,
   "metadata": {},
   "outputs": [
    {
     "name": "stderr",
     "output_type": "stream",
     "text": [
      "/home/kevin/mambaforge/envs/measurelm2/lib/python3.10/site-packages/tqdm/auto.py:21: TqdmWarning: IProgress not found. Please update jupyter and ipywidgets. See https://ipywidgets.readthedocs.io/en/stable/user_install.html\n",
      "  from .autonotebook import tqdm as notebook_tqdm\n"
     ]
    }
   ],
   "source": [
    "import yaml\n",
    "from itertools import product\n",
    "import pandas as pd\n",
    "import seaborn as sns\n",
    "from transformers import GPTNeoXForCausalLM, AutoTokenizer\n",
    "import torch\n",
    "from typing import List\n",
    "import numpy as np\n",
    "import math\n",
    "import statsmodels.api as sm\n",
    "from measuring.estimate_probs import (\n",
    "    estimate_prob_y_given_context_and_entity, \n",
    "    estimate_prob_x_given_e, \n",
    "    estimate_prob_next_word_given_x_and_entity, \n",
    "    estimate_cmi, score_model_for_next_word_prob, \n",
    "    create_position_ids_from_input_ids, \n",
    "    sharded_score_model,\n",
    "    estimate_entity_score,\n",
    "    kl_div,\n",
    "    difference,\n",
    "    difference_p_good_only,\n",
    "    difference_abs_val,\n",
    ")\n"
   ]
  },
  {
   "cell_type": "code",
   "execution_count": 2,
   "metadata": {},
   "outputs": [],
   "source": [
    "COMPUTE_CMI = False\n",
    "COMPUTE_KL = False\n",
    "COMPUTE_GOOD_BAD = False\n",
    "COMPUTE_GOOD_BAD_ABS = True\n",
    "COMPUTE_GOOD_BAD_P_GOOD_ONLY = True"
   ]
  },
  {
   "cell_type": "code",
   "execution_count": 3,
   "metadata": {},
   "outputs": [],
   "source": [
    "with open('toy_movie_reviews.yaml', 'r') as file:\n",
    "    review_adjs = yaml.safe_load(file)"
   ]
  },
  {
   "cell_type": "code",
   "execution_count": 4,
   "metadata": {},
   "outputs": [],
   "source": [
    "pos_adjs_train = review_adjs[\"positive_adjectives_train\"]\n",
    "neg_adjs_train = review_adjs[\"negative_adjectives_train\"]\n",
    "\n",
    "pos_verbs = review_adjs[\"positive_verbs\"]\n",
    "neg_verbs = review_adjs[\"negative_verbs\"]"
   ]
  },
  {
   "cell_type": "code",
   "execution_count": 5,
   "metadata": {},
   "outputs": [
    {
     "name": "stderr",
     "output_type": "stream",
     "text": [
      "/tmp/ipykernel_16474/3729679061.py:1: DtypeWarning: Columns (10) have mixed types. Specify dtype option on import or set low_memory=False.\n",
      "  movies = pd.read_csv(\"movies_metadata.csv\") # https://www.kaggle.com/datasets/rounakbanik/the-movies-dataset?select=movies_metadata.csv\n"
     ]
    },
    {
     "data": {
      "text/html": [
       "<div>\n",
       "<style scoped>\n",
       "    .dataframe tbody tr th:only-of-type {\n",
       "        vertical-align: middle;\n",
       "    }\n",
       "\n",
       "    .dataframe tbody tr th {\n",
       "        vertical-align: top;\n",
       "    }\n",
       "\n",
       "    .dataframe thead th {\n",
       "        text-align: right;\n",
       "    }\n",
       "</style>\n",
       "<table border=\"1\" class=\"dataframe\">\n",
       "  <thead>\n",
       "    <tr style=\"text-align: right;\">\n",
       "      <th></th>\n",
       "      <th>title</th>\n",
       "      <th>vote_count</th>\n",
       "      <th>popularity</th>\n",
       "    </tr>\n",
       "  </thead>\n",
       "  <tbody>\n",
       "    <tr>\n",
       "      <th>12648</th>\n",
       "      <td>Kung Fu Panda</td>\n",
       "      <td>3231.0</td>\n",
       "      <td>16.897541</td>\n",
       "    </tr>\n",
       "    <tr>\n",
       "      <th>23360</th>\n",
       "      <td>Godzilla</td>\n",
       "      <td>3232.0</td>\n",
       "      <td>14.019239</td>\n",
       "    </tr>\n",
       "    <tr>\n",
       "      <th>23472</th>\n",
       "      <td>Mission: Impossible - Rogue Nation</td>\n",
       "      <td>3274.0</td>\n",
       "      <td>17.836882</td>\n",
       "    </tr>\n",
       "    <tr>\n",
       "      <th>1158</th>\n",
       "      <td>Aliens</td>\n",
       "      <td>3282.0</td>\n",
       "      <td>21.761179</td>\n",
       "    </tr>\n",
       "    <tr>\n",
       "      <th>20335</th>\n",
       "      <td>Hansel &amp; Gretel: Witch Hunters</td>\n",
       "      <td>3290.0</td>\n",
       "      <td>10.337211</td>\n",
       "    </tr>\n",
       "    <tr>\n",
       "      <th>...</th>\n",
       "      <td>...</td>\n",
       "      <td>...</td>\n",
       "      <td>...</td>\n",
       "    </tr>\n",
       "    <tr>\n",
       "      <th>26564</th>\n",
       "      <td>Deadpool</td>\n",
       "      <td>11444.0</td>\n",
       "      <td>187.860492</td>\n",
       "    </tr>\n",
       "    <tr>\n",
       "      <th>17818</th>\n",
       "      <td>The Avengers</td>\n",
       "      <td>12000.0</td>\n",
       "      <td>89.887648</td>\n",
       "    </tr>\n",
       "    <tr>\n",
       "      <th>14551</th>\n",
       "      <td>Avatar</td>\n",
       "      <td>12114.0</td>\n",
       "      <td>185.070892</td>\n",
       "    </tr>\n",
       "    <tr>\n",
       "      <th>12481</th>\n",
       "      <td>The Dark Knight</td>\n",
       "      <td>12269.0</td>\n",
       "      <td>123.167259</td>\n",
       "    </tr>\n",
       "    <tr>\n",
       "      <th>15480</th>\n",
       "      <td>Inception</td>\n",
       "      <td>14075.0</td>\n",
       "      <td>29.108149</td>\n",
       "    </tr>\n",
       "  </tbody>\n",
       "</table>\n",
       "<p>250 rows × 3 columns</p>\n",
       "</div>"
      ],
      "text/plain": [
       "                                    title  vote_count  popularity\n",
       "12648                       Kung Fu Panda      3231.0   16.897541\n",
       "23360                            Godzilla      3232.0   14.019239\n",
       "23472  Mission: Impossible - Rogue Nation      3274.0   17.836882\n",
       "1158                               Aliens      3282.0   21.761179\n",
       "20335      Hansel & Gretel: Witch Hunters      3290.0   10.337211\n",
       "...                                   ...         ...         ...\n",
       "26564                            Deadpool     11444.0  187.860492\n",
       "17818                        The Avengers     12000.0   89.887648\n",
       "14551                              Avatar     12114.0  185.070892\n",
       "12481                     The Dark Knight     12269.0  123.167259\n",
       "15480                           Inception     14075.0   29.108149\n",
       "\n",
       "[250 rows x 3 columns]"
      ]
     },
     "execution_count": 5,
     "metadata": {},
     "output_type": "execute_result"
    }
   ],
   "source": [
    "movies = pd.read_csv(\"movies_metadata.csv\") # https://www.kaggle.com/datasets/rounakbanik/the-movies-dataset?select=movies_metadata.csv\n",
    "movies = movies[[\"title\", \"vote_count\", \"popularity\"]].dropna().sort_values(by=\"vote_count\")\n",
    "movies[\"popularity\"] = movies[\"popularity\"].astype(float)\n",
    "# movies_sample = pd.concat([movies.iloc[:250], movies.iloc[-250:]], axis=0)\n",
    "movies_sample = pd.concat([movies.iloc[-250:]], axis=0)\n",
    "movies_sample"
   ]
  },
  {
   "cell_type": "code",
   "execution_count": 6,
   "metadata": {},
   "outputs": [
    {
     "data": {
      "text/html": [
       "<div>\n",
       "<style scoped>\n",
       "    .dataframe tbody tr th:only-of-type {\n",
       "        vertical-align: middle;\n",
       "    }\n",
       "\n",
       "    .dataframe tbody tr th {\n",
       "        vertical-align: top;\n",
       "    }\n",
       "\n",
       "    .dataframe thead th {\n",
       "        text-align: right;\n",
       "    }\n",
       "</style>\n",
       "<table border=\"1\" class=\"dataframe\">\n",
       "  <thead>\n",
       "    <tr style=\"text-align: right;\">\n",
       "      <th></th>\n",
       "      <th>title</th>\n",
       "      <th>vote_count</th>\n",
       "      <th>popularity</th>\n",
       "    </tr>\n",
       "  </thead>\n",
       "  <tbody>\n",
       "    <tr>\n",
       "      <th>12648</th>\n",
       "      <td>Kung Fu Panda</td>\n",
       "      <td>3231.0</td>\n",
       "      <td>16.897541</td>\n",
       "    </tr>\n",
       "    <tr>\n",
       "      <th>23360</th>\n",
       "      <td>Godzilla</td>\n",
       "      <td>3232.0</td>\n",
       "      <td>14.019239</td>\n",
       "    </tr>\n",
       "    <tr>\n",
       "      <th>23472</th>\n",
       "      <td>Mission: Impossible - Rogue Nation</td>\n",
       "      <td>3274.0</td>\n",
       "      <td>17.836882</td>\n",
       "    </tr>\n",
       "    <tr>\n",
       "      <th>1158</th>\n",
       "      <td>Aliens</td>\n",
       "      <td>3282.0</td>\n",
       "      <td>21.761179</td>\n",
       "    </tr>\n",
       "    <tr>\n",
       "      <th>20335</th>\n",
       "      <td>Hansel &amp; Gretel: Witch Hunters</td>\n",
       "      <td>3290.0</td>\n",
       "      <td>10.337211</td>\n",
       "    </tr>\n",
       "    <tr>\n",
       "      <th>...</th>\n",
       "      <td>...</td>\n",
       "      <td>...</td>\n",
       "      <td>...</td>\n",
       "    </tr>\n",
       "    <tr>\n",
       "      <th>26564</th>\n",
       "      <td>Deadpool</td>\n",
       "      <td>11444.0</td>\n",
       "      <td>187.860492</td>\n",
       "    </tr>\n",
       "    <tr>\n",
       "      <th>17818</th>\n",
       "      <td>The Avengers</td>\n",
       "      <td>12000.0</td>\n",
       "      <td>89.887648</td>\n",
       "    </tr>\n",
       "    <tr>\n",
       "      <th>14551</th>\n",
       "      <td>Avatar</td>\n",
       "      <td>12114.0</td>\n",
       "      <td>185.070892</td>\n",
       "    </tr>\n",
       "    <tr>\n",
       "      <th>12481</th>\n",
       "      <td>The Dark Knight</td>\n",
       "      <td>12269.0</td>\n",
       "      <td>123.167259</td>\n",
       "    </tr>\n",
       "    <tr>\n",
       "      <th>15480</th>\n",
       "      <td>Inception</td>\n",
       "      <td>14075.0</td>\n",
       "      <td>29.108149</td>\n",
       "    </tr>\n",
       "  </tbody>\n",
       "</table>\n",
       "<p>250 rows × 3 columns</p>\n",
       "</div>"
      ],
      "text/plain": [
       "                                    title  vote_count  popularity\n",
       "12648                       Kung Fu Panda      3231.0   16.897541\n",
       "23360                            Godzilla      3232.0   14.019239\n",
       "23472  Mission: Impossible - Rogue Nation      3274.0   17.836882\n",
       "1158                               Aliens      3282.0   21.761179\n",
       "20335      Hansel & Gretel: Witch Hunters      3290.0   10.337211\n",
       "...                                   ...         ...         ...\n",
       "26564                            Deadpool     11444.0  187.860492\n",
       "17818                        The Avengers     12000.0   89.887648\n",
       "14551                              Avatar     12114.0  185.070892\n",
       "12481                     The Dark Knight     12269.0  123.167259\n",
       "15480                           Inception     14075.0   29.108149\n",
       "\n",
       "[250 rows x 3 columns]"
      ]
     },
     "execution_count": 6,
     "metadata": {},
     "output_type": "execute_result"
    }
   ],
   "source": [
    "movies_sample"
   ]
  },
  {
   "cell_type": "code",
   "execution_count": 7,
   "metadata": {},
   "outputs": [
    {
     "data": {
      "text/plain": [
       "<Axes: xlabel='vote_count', ylabel='popularity'>"
      ]
     },
     "execution_count": 7,
     "metadata": {},
     "output_type": "execute_result"
    },
    {
     "data": {
      "image/png": "[encoded data removed]",
      "text/plain": [
       "<Figure size 640x480 with 1 Axes>"
      ]
     },
     "metadata": {},
     "output_type": "display_data"
    }
   ],
   "source": [
    "# WHETHER TO USE VOTE COUNT OR POPULARITY\n",
    "\n",
    "# movies.sort_values(by=\"popularity\").tail(50)\n",
    "# movies.sort_values(by=\"vote_count\").tail(50)\n",
    "sns.regplot(data=movies, x=\"vote_count\", y=\"popularity\")"
   ]
  },
  {
   "cell_type": "code",
   "execution_count": 8,
   "metadata": {},
   "outputs": [],
   "source": [
    "template = \"Here's a review for the movie '{}': I thought this movie was {}, I {} it.\\nConclusion: This movie is\"\n",
    "template.format(movies_sample[\"title\"].iloc[0], pos_adjs_train[0], pos_verbs[0])\n",
    "movies_sample[\"sentence\"] = movies_sample[\"title\"].apply(lambda title: template.format(title, pos_adjs_train[0], pos_verbs[0])) \n"
   ]
  },
  {
   "cell_type": "code",
   "execution_count": 9,
   "metadata": {},
   "outputs": [
    {
     "name": "stdout",
     "output_type": "stream",
     "text": [
      "Number of positive contexts:  72\n",
      "Number of negative contexts:  72\n",
      "[\"Here's a movie review: 'The movie was dreadful and I hated it'. \", \"Here's a movie review: 'The movie was depressing and I disliked it'. \", \"Here's a movie review: 'The movie was nasty and I despised it'. \", \"Here's a movie review: 'The movie was ugly and I hated it'. \", \"Here's a movie review: 'The movie was annoying and I disliked it'. \", \"Here's a movie review: 'The movie was frustrating and I despised it'. \", \"Here's a movie review: 'The movie was unpleasant and I hated it'. \", \"Here's a movie review: 'The movie was awful and I disliked it'. \"]\n"
     ]
    }
   ],
   "source": [
    "context_template = \"Here's a movie review: 'The movie was {} and I {} it'. \"\n",
    "num_adjs = min(len(pos_adjs_train), len(neg_adjs_train))\n",
    "num_verbs = min(len(pos_verbs), len(neg_verbs))\n",
    "\n",
    "pos_contexts = [context_template.format(adj, verb) for (adj, verb) in product(pos_adjs_train[:num_adjs], pos_verbs[:num_verbs])]\n",
    "neg_contexts = [context_template.format(adj, verb) for (adj, verb) in product(neg_adjs_train[:num_adjs], neg_verbs[:num_verbs])]\n",
    "contexts = neg_contexts\n",
    "# contexts = pos_contexts + neg_contexts\n",
    "\n",
    "print(\"Number of positive contexts: \", len(pos_contexts))\n",
    "print(\"Number of negative contexts: \", len(neg_contexts))\n",
    "print(contexts[::10])"
   ]
  },
  {
   "cell_type": "code",
   "execution_count": 10,
   "metadata": {},
   "outputs": [],
   "source": [
    "def format_query(query, entity, context, prefix=\"\"):\n",
    "    return prefix + context + query.format(entity)"
   ]
  },
  {
   "cell_type": "code",
   "execution_count": 11,
   "metadata": {},
   "outputs": [],
   "source": [
    "# from functools import partial\n",
    "# def fill_in_template(template: str, title: str, adj: str, verb: str):\n",
    "#     return template.format(title, adj, verb)\n",
    "\n",
    "# pos_template_partial = partial(fill_in_template, template=template, verb=pos_verbs[0])\n",
    "# neg_template_partial = partial(fill_in_template, template=template, verb=neg_verbs[0])\n",
    "\n",
    "# for adj in pos_adjs_train:\n",
    "#     movies_sample[f\"pos_{adj}_context\"] = movies_sample[\"title\"].apply(lambda title: pos_template_partial(title=title, adj=adj))\n",
    "\n",
    "# for adj in neg_adjs_train:\n",
    "#     movies_sample[f\"neg_{adj}_context\"] = movies_sample[\"title\"].apply(lambda title: neg_template_partial(title=title, adj=adj))"
   ]
  },
  {
   "cell_type": "code",
   "execution_count": 12,
   "metadata": {},
   "outputs": [
    {
     "data": {
      "text/html": [
       "<div>\n",
       "<style scoped>\n",
       "    .dataframe tbody tr th:only-of-type {\n",
       "        vertical-align: middle;\n",
       "    }\n",
       "\n",
       "    .dataframe tbody tr th {\n",
       "        vertical-align: top;\n",
       "    }\n",
       "\n",
       "    .dataframe thead th {\n",
       "        text-align: right;\n",
       "    }\n",
       "</style>\n",
       "<table border=\"1\" class=\"dataframe\">\n",
       "  <thead>\n",
       "    <tr style=\"text-align: right;\">\n",
       "      <th></th>\n",
       "      <th>title</th>\n",
       "      <th>vote_count</th>\n",
       "      <th>popularity</th>\n",
       "      <th>sentence</th>\n",
       "    </tr>\n",
       "  </thead>\n",
       "  <tbody>\n",
       "    <tr>\n",
       "      <th>12648</th>\n",
       "      <td>Kung Fu Panda</td>\n",
       "      <td>3231.0</td>\n",
       "      <td>16.897541</td>\n",
       "      <td>Here's a review for the movie 'Kung Fu Panda':...</td>\n",
       "    </tr>\n",
       "    <tr>\n",
       "      <th>23360</th>\n",
       "      <td>Godzilla</td>\n",
       "      <td>3232.0</td>\n",
       "      <td>14.019239</td>\n",
       "      <td>Here's a review for the movie 'Godzilla': I th...</td>\n",
       "    </tr>\n",
       "    <tr>\n",
       "      <th>23472</th>\n",
       "      <td>Mission: Impossible - Rogue Nation</td>\n",
       "      <td>3274.0</td>\n",
       "      <td>17.836882</td>\n",
       "      <td>Here's a review for the movie 'Mission: Imposs...</td>\n",
       "    </tr>\n",
       "    <tr>\n",
       "      <th>1158</th>\n",
       "      <td>Aliens</td>\n",
       "      <td>3282.0</td>\n",
       "      <td>21.761179</td>\n",
       "      <td>Here's a review for the movie 'Aliens': I thou...</td>\n",
       "    </tr>\n",
       "    <tr>\n",
       "      <th>20335</th>\n",
       "      <td>Hansel &amp; Gretel: Witch Hunters</td>\n",
       "      <td>3290.0</td>\n",
       "      <td>10.337211</td>\n",
       "      <td>Here's a review for the movie 'Hansel &amp; Gretel...</td>\n",
       "    </tr>\n",
       "  </tbody>\n",
       "</table>\n",
       "</div>"
      ],
      "text/plain": [
       "                                    title  vote_count  popularity  \\\n",
       "12648                       Kung Fu Panda      3231.0   16.897541   \n",
       "23360                            Godzilla      3232.0   14.019239   \n",
       "23472  Mission: Impossible - Rogue Nation      3274.0   17.836882   \n",
       "1158                               Aliens      3282.0   21.761179   \n",
       "20335      Hansel & Gretel: Witch Hunters      3290.0   10.337211   \n",
       "\n",
       "                                                sentence  \n",
       "12648  Here's a review for the movie 'Kung Fu Panda':...  \n",
       "23360  Here's a review for the movie 'Godzilla': I th...  \n",
       "23472  Here's a review for the movie 'Mission: Imposs...  \n",
       "1158   Here's a review for the movie 'Aliens': I thou...  \n",
       "20335  Here's a review for the movie 'Hansel & Gretel...  "
      ]
     },
     "execution_count": 12,
     "metadata": {},
     "output_type": "execute_result"
    }
   ],
   "source": [
    "movies_sample.head()"
   ]
  },
  {
   "cell_type": "code",
   "execution_count": 13,
   "metadata": {},
   "outputs": [
    {
     "name": "stderr",
     "output_type": "stream",
     "text": [
      "Setting `pad_token_id` to `eos_token_id`:0 for open-end generation.\n",
      "/home/kevin/mambaforge/envs/measurelm2/lib/python3.10/site-packages/transformers/generation/utils.py:1273: UserWarning: Using the model-agnostic default `max_length` (=20) to control the generation length. We recommend setting `max_new_tokens` to control the maximum length of the generation.\n",
      "  warnings.warn(\n",
      "/home/kevin/mambaforge/envs/measurelm2/lib/python3.10/site-packages/transformers/generation/utils.py:1281: UserWarning: Input length of input_ids is 41, but `max_length` is set to 20. This can lead to unexpected behavior. You should consider increasing `max_new_tokens`.\n",
      "  warnings.warn(\n",
      "/tmp/ipykernel_16474/362821314.py:23: UserWarning: Implicit dimension choice for softmax has been deprecated. Change the call to include dim=X as an argument.\n",
      "  probs, top_tokens = torch.topk(torch.nn.functional.softmax(model(**inputs).logits[0, -1]), k=10)\n"
     ]
    },
    {
     "name": "stdout",
     "output_type": "stream",
     "text": [
      "tensor(0.6786, device='cuda:0', grad_fn=<AddBackward0>)\n"
     ]
    },
    {
     "data": {
      "text/plain": [
       "'\\n�iced�001icky002........ire�'"
      ]
     },
     "execution_count": 13,
     "metadata": {},
     "output_type": "execute_result"
    }
   ],
   "source": [
    "device = \"cuda\" if torch.cuda.is_available() else \"cpu\"\n",
    "model_name = \"EleutherAI/pythia-70m-deduped\"\n",
    "\n",
    "\n",
    "model = GPTNeoXForCausalLM.from_pretrained(\n",
    "  model_name,\n",
    "  # load_in_8bit=True,\n",
    "  # revision=\"step3000\",\n",
    "  # cache_dir=\"./pythia-70m-deduped/step3000\",\n",
    ").to(device)\n",
    "\n",
    "tokenizer = AutoTokenizer.from_pretrained(\n",
    "  model_name,\n",
    "  padding_side=\"left\",\n",
    "  # revision=\"step3000\",\n",
    "  # cache_dir=\"./pythia-70m-deduped/step3000\",\n",
    ")\n",
    "\n",
    "query = \"On a scale from 1 to 5 stars, the quality of this movie, '{}', is rated \"\n",
    "inputs = tokenizer(format_query(query=query, entity=movies_sample.iloc[0][\"title\"], context=contexts[0]), return_tensors=\"pt\").to(device)\n",
    "# inputs = tokenizer(movies_sample.iloc[0][\"sentence\"], return_tensors=\"pt\").to(device)\n",
    "tokens = model.generate(**inputs)\n",
    "probs, top_tokens = torch.topk(torch.nn.functional.softmax(model(**inputs).logits[0, -1]), k=10)\n",
    "print(sum(probs))\n",
    "tokenizer.decode(top_tokens)\n",
    "# print(tokens)\n",
    "# tokenizer.decode(tokens[0])\n"
   ]
  },
  {
   "cell_type": "code",
   "execution_count": 14,
   "metadata": {},
   "outputs": [
    {
     "data": {
      "text/plain": [
       "{0: tensor([   17, 10528, 26561], device='cuda:0'),\n",
       " 1: tensor([  18,  531, 4041], device='cuda:0'),\n",
       " 2: tensor([  19, 9389, 7910], device='cuda:0'),\n",
       " 3: tensor([   20, 13524, 11831], device='cuda:0'),\n",
       " 4: tensor([   21, 12496, 14039], device='cuda:0'),\n",
       " 5: tensor([   22, 12071, 25438], device='cuda:0')}"
      ]
     },
     "execution_count": 14,
     "metadata": {},
     "output_type": "execute_result"
    }
   ],
   "source": [
    "answer_map = {\n",
    "    0: [\"0\", \"zero\", \"Zero\"],\n",
    "    1: [\"1\", \"one\", \"One\"],\n",
    "    2: [\"2\", \"two\", \"Two\"],\n",
    "    3: [\"3\", \"three\", \"Three\"],\n",
    "    4: [\"4\", \"four\", \"Four\"],\n",
    "    5: [\"5\", \"five\", \"Five\"],\n",
    "}\n",
    "answer_map_token_ids = {k: torch.tensor(tokenizer.convert_tokens_to_ids(v), device=model.device) for k, v in answer_map.items()}\n",
    "answer_map_token_ids"
   ]
  },
  {
   "cell_type": "code",
   "execution_count": 15,
   "metadata": {},
   "outputs": [],
   "source": [
    "if COMPUTE_CMI:\n",
    "    query = \"On a scale from 1 to 5 stars, the quality of this movie, '{}', is rated \"\n",
    "    from tqdm import tqdm\n",
    "    tqdm.pandas()\n",
    "    movies_sample[\"susceptibility_score\"] = movies_sample[\"title\"].progress_apply(lambda e: estimate_cmi(query=query, entity=e, contexts=contexts, model=model, tokenizer=tokenizer, answer_map=None))\n",
    "    # movies_sample[\"susceptibility_score\"] = movies_sample[\"title\"].progress_apply(lambda e: estimate_cmi(query=query, entity=e, contexts=contexts, model=model, tokenizer=tokenizer, answer_map=answer_map_token_ids))"
   ]
  },
  {
   "cell_type": "code",
   "execution_count": 16,
   "metadata": {},
   "outputs": [],
   "source": [
    "if COMPUTE_CMI:\n",
    "    movies_sample.value_counts(\"susceptibility_score\")\n",
    "    sns.regplot(data=movies_sample, x=\"vote_count\", y=\"susceptibility_score\")\n",
    "    x = movies_sample[\"vote_count\"]\n",
    "    x = sm.add_constant(x)\n",
    "    y = movies_sample[\"susceptibility_score\"]\n",
    "    ols_model = sm.OLS(y, x).fit()\n",
    "    ols_model.summary()"
   ]
  },
  {
   "cell_type": "code",
   "execution_count": 17,
   "metadata": {},
   "outputs": [],
   "source": [
    "if COMPUTE_KL:\n",
    "    query = \"On a scale from 1 to 5 stars, the quality of this movie, '{}', is rated \"\n",
    "    from tqdm import tqdm\n",
    "    tqdm.pandas()\n",
    "    # movies_sample[\"susceptibility_score_kl\"] = movies_sample[\"title\"].progress_apply(lambda e: estimate_entity_score(query=query, entity=e, contexts=contexts, model=model, tokenizer=tokenizer, distance_metric=kl_div, answer_map=None))\n",
    "    movies_sample[\"susceptibility_score_kl\"] = movies_sample[\"title\"].progress_apply(lambda e: estimate_entity_score(query=query, entity=e, contexts=contexts, model=model, tokenizer=tokenizer, distance_metric=kl_div, answer_map=answer_map_token_ids))\n"
   ]
  },
  {
   "cell_type": "code",
   "execution_count": 18,
   "metadata": {},
   "outputs": [],
   "source": [
    "if COMPUTE_KL:\n",
    "    print(movies_sample.value_counts(\"susceptibility_score_kl\"))\n",
    "    sns.regplot(data=movies_sample, x=\"vote_count\", y=\"susceptibility_score_kl\")\n",
    "    x = movies_sample[\"vote_count\"]\n",
    "    x = sm.add_constant(x)\n",
    "    y = movies_sample[\"susceptibility_score_kl\"]\n",
    "    ols_model = sm.OLS(y, x).fit()\n",
    "    print(ols_model.summary())"
   ]
  },
  {
   "cell_type": "code",
   "execution_count": 19,
   "metadata": {},
   "outputs": [],
   "source": [
    "answer_map_good_bad = {\n",
    "    0: [\"bad\", \"Bad\"],\n",
    "    1: [\"good\", \"Good\"],\n",
    "}\n",
    "answer_map_good_bad_token_ids = {\n",
    "    k: torch.tensor(tokenizer.convert_tokens_to_ids(v), device=model.device) for k, v in answer_map_good_bad.items()\n",
    "}\n",
    "\n",
    "if COMPUTE_GOOD_BAD:\n",
    "    query = \"The quality of this movie, '{}', is rated \"\n",
    "    from tqdm import tqdm\n",
    "    tqdm.pandas()\n",
    "    movies_sample[\"susceptibility_score_good_bad\"] = movies_sample[\"title\"].progress_apply(lambda e: estimate_entity_score(query=query, entity=e, contexts=contexts, model=model, tokenizer=tokenizer, distance_metric=difference, answer_map=answer_map_good_bad_token_ids))\n"
   ]
  },
  {
   "cell_type": "code",
   "execution_count": 20,
   "metadata": {},
   "outputs": [],
   "source": [
    "if COMPUTE_GOOD_BAD:\n",
    "    print(movies_sample.value_counts(\"susceptibility_score_good_bad\"))\n",
    "    sns.regplot(data=movies_sample, x=\"vote_count\", y=\"susceptibility_score_good_bad\")\n",
    "    x = movies_sample[\"vote_count\"]\n",
    "    x = sm.add_constant(x)\n",
    "    y = movies_sample[\"susceptibility_score_good_bad\"]\n",
    "    ols_model = sm.OLS(y, x).fit()\n",
    "    print(ols_model.summary())"
   ]
  },
  {
   "cell_type": "code",
   "execution_count": 21,
   "metadata": {},
   "outputs": [
    {
     "name": "stderr",
     "output_type": "stream",
     "text": [
      "  1%|          | 2/250 [00:00<00:13, 18.83it/s]"
     ]
    },
    {
     "name": "stdout",
     "output_type": "stream",
     "text": [
      "Setting model.config.pad_token_id to model.config.eos_token_id\n"
     ]
    },
    {
     "name": "stderr",
     "output_type": "stream",
     "text": [
      "100%|██████████| 250/250 [00:24<00:00, 10.26it/s]\n"
     ]
    },
    {
     "name": "stdout",
     "output_type": "stream",
     "text": [
      "susceptibility_score_good_bad_abs\n",
      "1.421395    1\n",
      "0.450780    1\n",
      "1.145370    1\n",
      "1.159229    1\n",
      "1.162780    1\n",
      "           ..\n",
      "0.576304    1\n",
      "0.578580    1\n",
      "0.606373    1\n",
      "0.606419    1\n",
      "0.617125    1\n",
      "Name: count, Length: 250, dtype: int64\n",
      "                                    OLS Regression Results                                   \n",
      "=============================================================================================\n",
      "Dep. Variable:     susceptibility_score_good_bad_abs   R-squared:                       0.016\n",
      "Model:                                           OLS   Adj. R-squared:                  0.012\n",
      "Method:                                Least Squares   F-statistic:                     4.143\n",
      "Date:                               Mon, 04 Dec 2023   Prob (F-statistic):             0.0429\n",
      "Time:                                       23:48:51   Log-Likelihood:                 105.74\n",
      "No. Observations:                                250   AIC:                            -207.5\n",
      "Df Residuals:                                    248   BIC:                            -200.4\n",
      "Df Model:                                          1                                         \n",
      "Covariance Type:                           nonrobust                                         \n",
      "==============================================================================\n",
      "                 coef    std err          t      P>|t|      [0.025      0.975]\n",
      "------------------------------------------------------------------------------\n",
      "const          0.8946      0.030     30.073      0.000       0.836       0.953\n",
      "vote_count  1.086e-05   5.33e-06      2.036      0.043    3.52e-07    2.14e-05\n",
      "==============================================================================\n",
      "Omnibus:                       17.432   Durbin-Watson:                   1.903\n",
      "Prob(Omnibus):                  0.000   Jarque-Bera (JB):               19.034\n",
      "Skew:                          -0.657   Prob(JB):                     7.36e-05\n",
      "Kurtosis:                       3.315   Cond. No.                     1.65e+04\n",
      "==============================================================================\n",
      "\n",
      "Notes:\n",
      "[1] Standard Errors assume that the covariance matrix of the errors is correctly specified.\n",
      "[2] The condition number is large, 1.65e+04. This might indicate that there are\n",
      "strong multicollinearity or other numerical problems.\n"
     ]
    },
    {
     "data": {
      "image/png": "[encoded data removed]",
      "text/plain": [
       "<Figure size 640x480 with 1 Axes>"
      ]
     },
     "metadata": {},
     "output_type": "display_data"
    }
   ],
   "source": [
    "if COMPUTE_GOOD_BAD_ABS:\n",
    "    query = \"The quality of this movie, '{}', is rated \"\n",
    "    from tqdm import tqdm\n",
    "    tqdm.pandas()\n",
    "    movies_sample[\"susceptibility_score_good_bad_abs\"] = movies_sample[\"title\"].progress_apply(lambda e: estimate_entity_score(query=query, entity=e, contexts=contexts, model=model, tokenizer=tokenizer, distance_metric=difference_abs_val, answer_map=answer_map_good_bad_token_ids))\n",
    "\n",
    "if COMPUTE_GOOD_BAD_ABS:\n",
    "    print(movies_sample.value_counts(\"susceptibility_score_good_bad_abs\"))\n",
    "    sns.regplot(data=movies_sample, x=\"vote_count\", y=\"susceptibility_score_good_bad_abs\")\n",
    "    x = movies_sample[\"vote_count\"]\n",
    "    x = sm.add_constant(x)\n",
    "    y = movies_sample[\"susceptibility_score_good_bad_abs\"]\n",
    "    ols_model = sm.OLS(y, x).fit()\n",
    "    print(ols_model.summary())"
   ]
  },
  {
   "cell_type": "code",
   "execution_count": 22,
   "metadata": {},
   "outputs": [
    {
     "name": "stderr",
     "output_type": "stream",
     "text": [
      "100%|██████████| 250/250 [00:27<00:00,  9.16it/s]\n"
     ]
    },
    {
     "name": "stdout",
     "output_type": "stream",
     "text": [
      "susceptibility_score_good_bad_p_good_only\n",
      "-0.225390    1\n",
      "-0.710698    1\n",
      "-0.324676    1\n",
      "-0.322508    1\n",
      "-0.320650    1\n",
      "            ..\n",
      "-0.604999    1\n",
      "-0.599864    1\n",
      "-0.594659    1\n",
      "-0.593515    1\n",
      "-0.591028    1\n",
      "Name: count, Length: 250, dtype: int64\n",
      "                                        OLS Regression Results                                       \n",
      "=====================================================================================================\n",
      "Dep. Variable:     susceptibility_score_good_bad_p_good_only   R-squared:                       0.016\n",
      "Model:                                                   OLS   Adj. R-squared:                  0.012\n",
      "Method:                                        Least Squares   F-statistic:                     4.143\n",
      "Date:                                       Mon, 04 Dec 2023   Prob (F-statistic):             0.0429\n",
      "Time:                                               23:49:19   Log-Likelihood:                 279.03\n",
      "No. Observations:                                        250   AIC:                            -554.1\n",
      "Df Residuals:                                            248   BIC:                            -547.0\n",
      "Df Model:                                                  1                                         \n",
      "Covariance Type:                                   nonrobust                                         \n",
      "==============================================================================\n",
      "                 coef    std err          t      P>|t|      [0.025      0.975]\n",
      "------------------------------------------------------------------------------\n",
      "const         -0.4473      0.015    -30.073      0.000      -0.477      -0.418\n",
      "vote_count -5.428e-06   2.67e-06     -2.036      0.043   -1.07e-05   -1.76e-07\n",
      "==============================================================================\n",
      "Omnibus:                       17.432   Durbin-Watson:                   1.903\n",
      "Prob(Omnibus):                  0.000   Jarque-Bera (JB):               19.034\n",
      "Skew:                           0.657   Prob(JB):                     7.36e-05\n",
      "Kurtosis:                       3.315   Cond. No.                     1.65e+04\n",
      "==============================================================================\n",
      "\n",
      "Notes:\n",
      "[1] Standard Errors assume that the covariance matrix of the errors is correctly specified.\n",
      "[2] The condition number is large, 1.65e+04. This might indicate that there are\n",
      "strong multicollinearity or other numerical problems.\n"
     ]
    },
    {
     "data": {
      "image/png": "[encoded data removed]",
      "text/plain": [
       "<Figure size 640x480 with 1 Axes>"
      ]
     },
     "metadata": {},
     "output_type": "display_data"
    }
   ],
   "source": [
    "if COMPUTE_GOOD_BAD_P_GOOD_ONLY:\n",
    "    query = \"The quality of this movie, '{}', is rated \"\n",
    "    from tqdm import tqdm\n",
    "    tqdm.pandas()\n",
    "    movies_sample[\"susceptibility_score_good_bad_p_good_only\"] = movies_sample[\"title\"].progress_apply(lambda e: estimate_entity_score(query=query, entity=e, contexts=contexts, model=model, tokenizer=tokenizer, distance_metric=difference_p_good_only, answer_map=answer_map_good_bad_token_ids))\n",
    "\n",
    "if COMPUTE_GOOD_BAD_P_GOOD_ONLY:\n",
    "    print(movies_sample.value_counts(\"susceptibility_score_good_bad_p_good_only\"))\n",
    "    sns.regplot(data=movies_sample, x=\"vote_count\", y=\"susceptibility_score_good_bad_p_good_only\")\n",
    "    x = movies_sample[\"vote_count\"]\n",
    "    x = sm.add_constant(x)\n",
    "    y = movies_sample[\"susceptibility_score_good_bad_p_good_only\"]\n",
    "    ols_model = sm.OLS(y, x).fit()\n",
    "    print(ols_model.summary())"
   ]
  }
 ],
 "metadata": {
  "kernelspec": {
   "display_name": "measurelm2",
   "language": "python",
   "name": "python3"
  },
  "language_info": {
   "codemirror_mode": {
    "name": "ipython",
    "version": 3
   },
   "file_extension": ".py",
   "mimetype": "text/x-python",
   "name": "python",
   "nbconvert_exporter": "python",
   "pygments_lexer": "ipython3",
   "version": "3.10.13"
  }
 },
 "nbformat": 4,
 "nbformat_minor": 2
}
