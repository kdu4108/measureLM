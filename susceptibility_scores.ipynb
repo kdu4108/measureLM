{
 "cells": [
  {
   "cell_type": "markdown",
   "metadata": {},
   "source": [
    "### Measuring Entity Susceptibility Scores in Movie Reviews with Conditional MI"
   ]
  },
  {
   "cell_type": "code",
   "execution_count": 1,
   "metadata": {},
   "outputs": [],
   "source": [
    "%load_ext autoreload\n",
    "%autoreload 2"
   ]
  },
  {
   "cell_type": "code",
   "execution_count": 2,
   "metadata": {},
   "outputs": [],
   "source": [
    "import yaml\n",
    "from itertools import product\n",
    "import pandas as pd\n",
    "import seaborn as sns\n",
    "from transformers import GPTNeoXForCausalLM, AutoTokenizer\n",
    "import torch\n",
    "from typing import List\n",
    "import numpy as np\n",
    "import math\n",
    "import statsmodels.api as sm\n",
    "from measuring.estimate_probs import (\n",
    "    estimate_prob_y_given_context_and_entity, \n",
    "    estimate_prob_x_given_e, \n",
    "    estimate_prob_next_word_given_x_and_entity, \n",
    "    estimate_cmi, score_model_for_next_word_prob, \n",
    "    create_position_ids_from_input_ids, \n",
    "    sharded_score_model,\n",
    "    estimate_entity_score,\n",
    "    kl_div,\n",
    "    difference,\n",
    "    difference_p_good_only,\n",
    "    difference_abs_val,\n",
    ")\n"
   ]
  },
  {
   "cell_type": "code",
   "execution_count": 3,
   "metadata": {},
   "outputs": [],
   "source": [
    "LOAD_IN_8BIT = True\n",
    "\n",
    "COMPUTE_CMI = True\n",
    "COMPUTE_KL = True\n",
    "COMPUTE_GOOD_BAD = True\n",
    "COMPUTE_GOOD_BAD_ABS = True\n",
    "COMPUTE_GOOD_BAD_P_GOOD_ONLY = True"
   ]
  },
  {
   "cell_type": "code",
   "execution_count": 4,
   "metadata": {},
   "outputs": [],
   "source": [
    "with open('toy_movie_reviews.yaml', 'r') as file:\n",
    "    review_adjs = yaml.safe_load(file)"
   ]
  },
  {
   "cell_type": "code",
   "execution_count": 5,
   "metadata": {},
   "outputs": [],
   "source": [
    "pos_adjs_train = review_adjs[\"positive_adjectives_train\"]\n",
    "neg_adjs_train = review_adjs[\"negative_adjectives_train\"]\n",
    "\n",
    "pos_verbs = review_adjs[\"positive_verbs\"]\n",
    "neg_verbs = review_adjs[\"negative_verbs\"]"
   ]
  },
  {
   "cell_type": "code",
   "execution_count": 6,
   "metadata": {},
   "outputs": [
    {
     "name": "stderr",
     "output_type": "stream",
     "text": [
      "/scratch/tmp.38771879.kevidu/ipykernel_57977/527075013.py:1: DtypeWarning: Columns (10) have mixed types. Specify dtype option on import or set low_memory=False.\n",
      "  movies = pd.read_csv(\"movies_metadata.csv\") # https://www.kaggle.com/datasets/rounakbanik/the-movies-dataset?select=movies_metadata.csv\n"
     ]
    }
   ],
   "source": [
    "movies = pd.read_csv(\"movies_metadata.csv\") # https://www.kaggle.com/datasets/rounakbanik/the-movies-dataset?select=movies_metadata.csv\n",
    "movies = movies[[\"title\", \"vote_count\", \"popularity\"]].dropna().sort_values(by=\"vote_count\")\n",
    "movies[\"popularity\"] = movies[\"popularity\"].astype(float)\n",
    "movies_sample = pd.concat([movies.iloc[:250], movies.iloc[-250:]], axis=0)\n",
    "# movies_sample = pd.concat([movies.iloc[-250:]], axis=0)"
   ]
  },
  {
   "cell_type": "code",
   "execution_count": 7,
   "metadata": {},
   "outputs": [
    {
     "data": {
      "text/html": [
       "<div>\n",
       "<style scoped>\n",
       "    .dataframe tbody tr th:only-of-type {\n",
       "        vertical-align: middle;\n",
       "    }\n",
       "\n",
       "    .dataframe tbody tr th {\n",
       "        vertical-align: top;\n",
       "    }\n",
       "\n",
       "    .dataframe thead th {\n",
       "        text-align: right;\n",
       "    }\n",
       "</style>\n",
       "<table border=\"1\" class=\"dataframe\">\n",
       "  <thead>\n",
       "    <tr style=\"text-align: right;\">\n",
       "      <th></th>\n",
       "      <th>title</th>\n",
       "      <th>vote_count</th>\n",
       "      <th>popularity</th>\n",
       "    </tr>\n",
       "  </thead>\n",
       "  <tbody>\n",
       "    <tr>\n",
       "      <th>45465</th>\n",
       "      <td>Queerama</td>\n",
       "      <td>0.0</td>\n",
       "      <td>0.163015</td>\n",
       "    </tr>\n",
       "    <tr>\n",
       "      <th>23680</th>\n",
       "      <td>Brothers</td>\n",
       "      <td>0.0</td>\n",
       "      <td>0.007073</td>\n",
       "    </tr>\n",
       "    <tr>\n",
       "      <th>23677</th>\n",
       "      <td>Willie and Phil</td>\n",
       "      <td>0.0</td>\n",
       "      <td>0.326500</td>\n",
       "    </tr>\n",
       "    <tr>\n",
       "      <th>23674</th>\n",
       "      <td>Luther</td>\n",
       "      <td>0.0</td>\n",
       "      <td>1.170857</td>\n",
       "    </tr>\n",
       "    <tr>\n",
       "      <th>23671</th>\n",
       "      <td>Brother Rat</td>\n",
       "      <td>0.0</td>\n",
       "      <td>0.174691</td>\n",
       "    </tr>\n",
       "    <tr>\n",
       "      <th>...</th>\n",
       "      <td>...</td>\n",
       "      <td>...</td>\n",
       "      <td>...</td>\n",
       "    </tr>\n",
       "    <tr>\n",
       "      <th>26564</th>\n",
       "      <td>Deadpool</td>\n",
       "      <td>11444.0</td>\n",
       "      <td>187.860492</td>\n",
       "    </tr>\n",
       "    <tr>\n",
       "      <th>17818</th>\n",
       "      <td>The Avengers</td>\n",
       "      <td>12000.0</td>\n",
       "      <td>89.887648</td>\n",
       "    </tr>\n",
       "    <tr>\n",
       "      <th>14551</th>\n",
       "      <td>Avatar</td>\n",
       "      <td>12114.0</td>\n",
       "      <td>185.070892</td>\n",
       "    </tr>\n",
       "    <tr>\n",
       "      <th>12481</th>\n",
       "      <td>The Dark Knight</td>\n",
       "      <td>12269.0</td>\n",
       "      <td>123.167259</td>\n",
       "    </tr>\n",
       "    <tr>\n",
       "      <th>15480</th>\n",
       "      <td>Inception</td>\n",
       "      <td>14075.0</td>\n",
       "      <td>29.108149</td>\n",
       "    </tr>\n",
       "  </tbody>\n",
       "</table>\n",
       "<p>500 rows × 3 columns</p>\n",
       "</div>"
      ],
      "text/plain": [
       "                 title  vote_count  popularity\n",
       "45465         Queerama         0.0    0.163015\n",
       "23680         Brothers         0.0    0.007073\n",
       "23677  Willie and Phil         0.0    0.326500\n",
       "23674           Luther         0.0    1.170857\n",
       "23671      Brother Rat         0.0    0.174691\n",
       "...                ...         ...         ...\n",
       "26564         Deadpool     11444.0  187.860492\n",
       "17818     The Avengers     12000.0   89.887648\n",
       "14551           Avatar     12114.0  185.070892\n",
       "12481  The Dark Knight     12269.0  123.167259\n",
       "15480        Inception     14075.0   29.108149\n",
       "\n",
       "[500 rows x 3 columns]"
      ]
     },
     "execution_count": 7,
     "metadata": {},
     "output_type": "execute_result"
    }
   ],
   "source": [
    "movies_sample"
   ]
  },
  {
   "cell_type": "code",
   "execution_count": 8,
   "metadata": {},
   "outputs": [
    {
     "data": {
      "text/plain": [
       "<AxesSubplot:xlabel='vote_count', ylabel='popularity'>"
      ]
     },
     "execution_count": 8,
     "metadata": {},
     "output_type": "execute_result"
    },
    {
     "data": {
      "image/png": "[encoded data removed]",
      "text/plain": [
       "<Figure size 432x288 with 1 Axes>"
      ]
     },
     "metadata": {
      "needs_background": "light"
     },
     "output_type": "display_data"
    }
   ],
   "source": [
    "# WHETHER TO USE VOTE COUNT OR POPULARITY\n",
    "\n",
    "# movies.sort_values(by=\"popularity\").tail(50)\n",
    "# movies.sort_values(by=\"vote_count\").tail(50)\n",
    "sns.regplot(data=movies, x=\"vote_count\", y=\"popularity\")"
   ]
  },
  {
   "cell_type": "code",
   "execution_count": 9,
   "metadata": {},
   "outputs": [],
   "source": [
    "template = \"Here's a review for the movie '{}': I thought this movie was {}, I {} it.\\nConclusion: This movie is\"\n",
    "template.format(movies_sample[\"title\"].iloc[0], pos_adjs_train[0], pos_verbs[0])\n",
    "movies_sample[\"sentence\"] = movies_sample[\"title\"].apply(lambda title: template.format(title, pos_adjs_train[0], pos_verbs[0])) \n"
   ]
  },
  {
   "cell_type": "code",
   "execution_count": 10,
   "metadata": {},
   "outputs": [
    {
     "name": "stdout",
     "output_type": "stream",
     "text": [
      "Number of positive contexts:  72\n",
      "Number of negative contexts:  72\n",
      "[\"Here's a movie review: 'The movie was dreadful and I hated it'. \", \"Here's a movie review: 'The movie was depressing and I disliked it'. \", \"Here's a movie review: 'The movie was nasty and I despised it'. \", \"Here's a movie review: 'The movie was ugly and I hated it'. \", \"Here's a movie review: 'The movie was annoying and I disliked it'. \", \"Here's a movie review: 'The movie was frustrating and I despised it'. \", \"Here's a movie review: 'The movie was unpleasant and I hated it'. \", \"Here's a movie review: 'The movie was awful and I disliked it'. \"]\n"
     ]
    }
   ],
   "source": [
    "context_template = \"Here's a movie review: 'The movie was {} and I {} it'. \"\n",
    "num_adjs = min(len(pos_adjs_train), len(neg_adjs_train))\n",
    "num_verbs = min(len(pos_verbs), len(neg_verbs))\n",
    "\n",
    "pos_contexts = [context_template.format(adj, verb) for (adj, verb) in product(pos_adjs_train[:num_adjs], pos_verbs[:num_verbs])]\n",
    "neg_contexts = [context_template.format(adj, verb) for (adj, verb) in product(neg_adjs_train[:num_adjs], neg_verbs[:num_verbs])]\n",
    "contexts = neg_contexts\n",
    "# contexts = pos_contexts + neg_contexts\n",
    "\n",
    "print(\"Number of positive contexts: \", len(pos_contexts))\n",
    "print(\"Number of negative contexts: \", len(neg_contexts))\n",
    "print(contexts[::10])"
   ]
  },
  {
   "cell_type": "code",
   "execution_count": 11,
   "metadata": {},
   "outputs": [],
   "source": [
    "def format_query(query, entity, context, prefix=\"\"):\n",
    "    return prefix + context + query.format(entity)"
   ]
  },
  {
   "cell_type": "code",
   "execution_count": 12,
   "metadata": {},
   "outputs": [],
   "source": [
    "# from functools import partial\n",
    "# def fill_in_template(template: str, title: str, adj: str, verb: str):\n",
    "#     return template.format(title, adj, verb)\n",
    "\n",
    "# pos_template_partial = partial(fill_in_template, template=template, verb=pos_verbs[0])\n",
    "# neg_template_partial = partial(fill_in_template, template=template, verb=neg_verbs[0])\n",
    "\n",
    "# for adj in pos_adjs_train:\n",
    "#     movies_sample[f\"pos_{adj}_context\"] = movies_sample[\"title\"].apply(lambda title: pos_template_partial(title=title, adj=adj))\n",
    "\n",
    "# for adj in neg_adjs_train:\n",
    "#     movies_sample[f\"neg_{adj}_context\"] = movies_sample[\"title\"].apply(lambda title: neg_template_partial(title=title, adj=adj))"
   ]
  },
  {
   "cell_type": "code",
   "execution_count": 13,
   "metadata": {},
   "outputs": [
    {
     "data": {
      "text/html": [
       "<div>\n",
       "<style scoped>\n",
       "    .dataframe tbody tr th:only-of-type {\n",
       "        vertical-align: middle;\n",
       "    }\n",
       "\n",
       "    .dataframe tbody tr th {\n",
       "        vertical-align: top;\n",
       "    }\n",
       "\n",
       "    .dataframe thead th {\n",
       "        text-align: right;\n",
       "    }\n",
       "</style>\n",
       "<table border=\"1\" class=\"dataframe\">\n",
       "  <thead>\n",
       "    <tr style=\"text-align: right;\">\n",
       "      <th></th>\n",
       "      <th>title</th>\n",
       "      <th>vote_count</th>\n",
       "      <th>popularity</th>\n",
       "      <th>sentence</th>\n",
       "    </tr>\n",
       "  </thead>\n",
       "  <tbody>\n",
       "    <tr>\n",
       "      <th>45465</th>\n",
       "      <td>Queerama</td>\n",
       "      <td>0.0</td>\n",
       "      <td>0.163015</td>\n",
       "      <td>Here's a review for the movie 'Queerama': I th...</td>\n",
       "    </tr>\n",
       "    <tr>\n",
       "      <th>23680</th>\n",
       "      <td>Brothers</td>\n",
       "      <td>0.0</td>\n",
       "      <td>0.007073</td>\n",
       "      <td>Here's a review for the movie 'Brothers': I th...</td>\n",
       "    </tr>\n",
       "    <tr>\n",
       "      <th>23677</th>\n",
       "      <td>Willie and Phil</td>\n",
       "      <td>0.0</td>\n",
       "      <td>0.326500</td>\n",
       "      <td>Here's a review for the movie 'Willie and Phil...</td>\n",
       "    </tr>\n",
       "    <tr>\n",
       "      <th>23674</th>\n",
       "      <td>Luther</td>\n",
       "      <td>0.0</td>\n",
       "      <td>1.170857</td>\n",
       "      <td>Here's a review for the movie 'Luther': I thou...</td>\n",
       "    </tr>\n",
       "    <tr>\n",
       "      <th>23671</th>\n",
       "      <td>Brother Rat</td>\n",
       "      <td>0.0</td>\n",
       "      <td>0.174691</td>\n",
       "      <td>Here's a review for the movie 'Brother Rat': I...</td>\n",
       "    </tr>\n",
       "  </tbody>\n",
       "</table>\n",
       "</div>"
      ],
      "text/plain": [
       "                 title  vote_count  popularity  \\\n",
       "45465         Queerama         0.0    0.163015   \n",
       "23680         Brothers         0.0    0.007073   \n",
       "23677  Willie and Phil         0.0    0.326500   \n",
       "23674           Luther         0.0    1.170857   \n",
       "23671      Brother Rat         0.0    0.174691   \n",
       "\n",
       "                                                sentence  \n",
       "45465  Here's a review for the movie 'Queerama': I th...  \n",
       "23680  Here's a review for the movie 'Brothers': I th...  \n",
       "23677  Here's a review for the movie 'Willie and Phil...  \n",
       "23674  Here's a review for the movie 'Luther': I thou...  \n",
       "23671  Here's a review for the movie 'Brother Rat': I...  "
      ]
     },
     "execution_count": 13,
     "metadata": {},
     "output_type": "execute_result"
    }
   ],
   "source": [
    "movies_sample.head()"
   ]
  },
  {
   "cell_type": "code",
   "execution_count": 14,
   "metadata": {},
   "outputs": [
    {
     "name": "stdout",
     "output_type": "stream",
     "text": [
      "False\n",
      "\n",
      "===================================BUG REPORT===================================\n",
      "================================================================================\n",
      "The following directories listed in your path were found to be non-existent: {PosixPath('1')}\n",
      "The following directories listed in your path were found to be non-existent: {PosixPath('StdEnv'), PosixPath('gcc/4.8.5')}\n",
      "The following directories listed in your path were found to be non-existent: {PosixPath('1')}\n",
      "The following directories listed in your path were found to be non-existent: {PosixPath('1')}\n",
      "The following directories listed in your path were found to be non-existent: {PosixPath('//0.0.0.0'), PosixPath('https'), PosixPath('0/user/kevidu')}\n",
      "The following directories listed in your path were found to be non-existent: {PosixPath('1;nccl/2.11.4-1'), PosixPath('1;julia/1.8.5'), PosixPath('1;hdf5/1.10.1'), PosixPath('1;openblas/0.3.15'), PosixPath('1;cuda/11.3.1'), PosixPath('1;cudnn/8.2.1.32'), PosixPath('1;r/4.2.2'), PosixPath('1;gcc/8.2.0'), PosixPath('1;eth_proxy'), PosixPath('StdEnv'), PosixPath('1;python_gpu/3.10.4'), PosixPath('1')}\n",
      "The following directories listed in your path were found to be non-existent: {PosixPath('1;/cluster/spack/apps/linux-centos7-x86_64/gcc-4.8.5/gcc-8.2.0-6xqov2fhvbmehix42slain67vprec3fs'), PosixPath('1;/cluster/apps/gcc-8.2.0/openblas-0.3.15-huwxbhezdzoo74awrgoz6sd2qndpmdva'), PosixPath('1;/cluster/apps/gcc-8.2.0/r-4.2.2-ydfaklhfrhw5dy6qcfzxlxfviwovcord'), PosixPath('1;/cluster/apps/gcc-8.2.0/cuda-11.3.1-o54iuxgz6jm4csvkstuj5hjg4tvd44h3'), PosixPath('1;/cluster/apps/gcc-8.2.0/cudnn-8.2.1.32-yqvbgr3teq3v6xu5eyc75xhbl2ya343j'), PosixPath('1;/cluster/apps/gcc-8.2.0/nccl-2.11.4-1-pwkiz23vbeac3vt5ykybdwzaykprizb2'), PosixPath('1')}\n",
      "The following directories listed in your path were found to be non-existent: {PosixPath('//proxy.ethz.ch'), PosixPath('3128'), PosixPath('http')}\n",
      "The following directories listed in your path were found to be non-existent: {PosixPath('//proxy.ethz.ch'), PosixPath('3128'), PosixPath('http')}\n",
      "The following directories listed in your path were found to be non-existent: {PosixPath('1;/cluster/apps/lmodules/Compiler/gcc/8.2.0/cuda/11.3.1.lua'), PosixPath('1;/cluster/apps/lmodules/Compiler/gcc/8.2.0/cudnn/8.2.1.32.lua'), PosixPath('1;/cluster/apps/lmodules/Compiler/gcc/8.2.0/julia/1.8.5.lua'), PosixPath('1;/cluster/apps/lmodules/Compiler/gcc/8.2.0/r/4.2.2.lua'), PosixPath('1;/cluster/apps/lmodules/Compiler/gcc/8.2.0/python_gpu/3.10.4.lua'), PosixPath('1;/cluster/apps/lmodules/Compiler/gcc/8.2.0/nccl/2.11.4-1.lua'), PosixPath('1;/cluster/apps/lmodules/Core/eth_proxy.lua'), PosixPath('1;/cluster/apps/lmodules/Compiler/gcc/8.2.0/hdf5/1.10.1.lua'), PosixPath('1;/cluster/apps/lmodules/Compiler/gcc/8.2.0/openblas/0.3.15.lua'), PosixPath('1;/cluster/apps/lmodules/Core/gcc/8.2.0.lua'), PosixPath('1')}\n",
      "The following directories listed in your path were found to be non-existent: {PosixPath('/cluster/work/cotterell/kdu/.cache/huggingface/misc')}\n",
      "The following directories listed in your path were found to be non-existent: {PosixPath('1')}\n",
      "The following directories listed in your path were found to be non-existent: {PosixPath('/cluster/work/cotterell/kdu/miniforge3/etc/xml/catalog file'), PosixPath('file')}\n",
      "The following directories listed in your path were found to be non-existent: {PosixPath('/cluster/apps/lmodules/Linux')}\n",
      "The following directories listed in your path were found to be non-existent: {PosixPath('python_gpu/3.10.4'), PosixPath('r/4.2.2'), PosixPath('gcc/8.2.0'), PosixPath('nccl/2.11.4-1'), PosixPath('julia/1.8.5'), PosixPath('cuda/11.3.1'), PosixPath('hdf5/1.10.1'), PosixPath('eth_proxy'), PosixPath('openblas/0.3.15'), PosixPath('StdEnv'), PosixPath('cudnn/8.2.1.32')}\n",
      "The following directories listed in your path were found to be non-existent: {PosixPath('//proxy.ethz.ch'), PosixPath('3128'), PosixPath('http')}\n",
      "The following directories listed in your path were found to be non-existent: {PosixPath('//jupyter.euler.hpc.ethz.ch/hub/api'), PosixPath('https')}\n",
      "The following directories listed in your path were found to be non-existent: {PosixPath('1;/cluster/apps/nss/gcc-8.2.0/python/3.10.4/x86_64/bin'), PosixPath('1;/usr/bin'), PosixPath('1;/cluster/apps/gcc-8.2.0/r-4.2.2-ydfaklhfrhw5dy6qcfzxlxfviwovcord/bin'), PosixPath('1;/cluster/spack/apps/linux-centos7-x86_64/gcc-4.8.5/gcc-8.2.0-6xqov2fhvbmehix42slain67vprec3fs/bin'), PosixPath('1;/cluster/apps/nss/gcc-8.2.0/julia/1.8.5/x86_64/bin'), PosixPath('1;/usr/sbin'), PosixPath('1;/cluster/apps/gcc-8.2.0/openblas-0.3.15-huwxbhezdzoo74awrgoz6sd2qndpmdva/bin'), PosixPath('1;/usr/local/bin'), PosixPath('1;/cluster/apps/local'), PosixPath('2;/usr/local/sbin'), PosixPath('1;/bin'), PosixPath('1;/cluster/slurm/apps/bin'), PosixPath('1;/cluster/apps/gcc-8.2.0/cuda-11.3.1-o54iuxgz6jm4csvkstuj5hjg4tvd44h3/bin'), PosixPath('1;/sbin'), PosixPath('1;/cluster/apps/sfos/bin'), PosixPath('1')}\n",
      "The following directories listed in your path were found to be non-existent: {PosixPath('1;/cluster/apps/gcc-8.2.0/nccl-2.11.4-1-pwkiz23vbeac3vt5ykybdwzaykprizb2/include'), PosixPath('1;/cluster/apps/gcc-8.2.0/r-4.2.2-ydfaklhfrhw5dy6qcfzxlxfviwovcord/rlib/R/include'), PosixPath('1;/cluster/spack/apps/linux-centos7-x86_64/gcc-4.8.5/gcc-8.2.0-6xqov2fhvbmehix42slain67vprec3fs/include'), PosixPath('1;/cluster/apps/gcc-8.2.0/cuda-11.3.1-o54iuxgz6jm4csvkstuj5hjg4tvd44h3/include'), PosixPath('1;/cluster/apps/gcc-8.2.0/openblas-0.3.15-huwxbhezdzoo74awrgoz6sd2qndpmdva/include'), PosixPath('1;/cluster/apps/gcc-8.2.0/cudnn-8.2.1.32-yqvbgr3teq3v6xu5eyc75xhbl2ya343j/include'), PosixPath('1')}\n",
      "The following directories listed in your path were found to be non-existent: {PosixPath('1')}\n",
      "The following directories listed in your path were found to be non-existent: {PosixPath('/cluster/work/cotterell/kdu/.cache/huggingface/datasets')}\n",
      "The following directories listed in your path were found to be non-existent: {PosixPath('/python')}\n",
      "The following directories listed in your path were found to be non-existent: {PosixPath('servers!user=kevidu\"]'), PosixPath('servers!server=kevidu/\", \"access'), PosixPath('[\"access')}\n",
      "The following directories listed in your path were found to be non-existent: {PosixPath('1;/cluster/spack/apps/linux-centos7-x86_64/gcc-4.8.5/gcc-8.2.0-6xqov2fhvbmehix42slain67vprec3fs/lib64'), PosixPath('1;/cluster/apps/gcc-8.2.0/nccl-2.11.4-1-pwkiz23vbeac3vt5ykybdwzaykprizb2/lib'), PosixPath('1;/cluster/apps/gcc-8.2.0/r-4.2.2-ydfaklhfrhw5dy6qcfzxlxfviwovcord/rlib/R/lib'), PosixPath('1;/cluster/spack/apps/linux-centos7-x86_64/gcc-4.8.5/gcc-8.2.0-6xqov2fhvbmehix42slain67vprec3fs/lib'), PosixPath('1;/cluster/apps/gcc-8.2.0/cuda-11.3.1-o54iuxgz6jm4csvkstuj5hjg4tvd44h3/lib64'), PosixPath('1;/cluster/apps/gcc-8.2.0/openblas-0.3.15-huwxbhezdzoo74awrgoz6sd2qndpmdva/lib'), PosixPath('1;/cluster/apps/gcc-8.2.0/cudnn-8.2.1.32-yqvbgr3teq3v6xu5eyc75xhbl2ya343j/lib64'), PosixPath('1')}\n",
      "The following directories listed in your path were found to be non-existent: {PosixPath('//jupyter.euler.hpc.ethz.ch/hub/api/users/kevidu/activity'), PosixPath('https')}\n",
      "The following directories listed in your path were found to be non-existent: {PosixPath('1;/cluster/spack/apps/linux-centos7-x86_64/gcc-4.8.5/gcc-8.2.0-6xqov2fhvbmehix42slain67vprec3fs/lib64'), PosixPath('1;/cluster/apps/nss/gcc-8.2.0/python/3.10.4/x86_64/lib64'), PosixPath('1;/cluster/apps/gcc-8.2.0/nccl-2.11.4-1-pwkiz23vbeac3vt5ykybdwzaykprizb2/lib'), PosixPath('1;/cluster/apps/gcc-8.2.0/r-4.2.2-ydfaklhfrhw5dy6qcfzxlxfviwovcord/rlib/R/lib'), PosixPath('1;/cluster/spack/apps/linux-centos7-x86_64/gcc-4.8.5/gcc-8.2.0-6xqov2fhvbmehix42slain67vprec3fs/lib'), PosixPath('1;/cluster/apps/gcc-8.2.0/cuda-11.3.1-o54iuxgz6jm4csvkstuj5hjg4tvd44h3/lib64'), PosixPath('1;/cluster/apps/nss/gcc-8.2.0/julia/1.8.5/x86_64/lib'), PosixPath('1'), PosixPath('1;/cluster/apps/gcc-8.2.0/openblas-0.3.15-huwxbhezdzoo74awrgoz6sd2qndpmdva/lib'), PosixPath('1;/cluster/apps/gcc-8.2.0/cudnn-8.2.1.32-yqvbgr3teq3v6xu5eyc75xhbl2ya343j/lib64'), PosixPath('1;/cluster/apps/lsf/10.1/linux2.6-glibc2.3-x86_64/lib')}\n",
      "The following directories listed in your path were found to be non-existent: {PosixPath('/user/kevidu/oauth_callback')}\n",
      "The following directories listed in your path were found to be non-existent: {PosixPath('1;/cluster/apps/gcc-8.2.0/openblas-0.3.15-huwxbhezdzoo74awrgoz6sd2qndpmdva/lib/pkgconfig'), PosixPath('1;/cluster/apps/nss/gcc-8.2.0/python/3.10.4/x86_64/lib64/pkgconfig'), PosixPath('1')}\n",
      "The following directories listed in your path were found to be non-existent: {PosixPath('1;/cluster/apps/sfos/share/man/man1'), PosixPath('1;/cluster/apps/lsf/10.1/man'), PosixPath('1;/cluster/spack/apps/linux-centos7-x86_64/gcc-4.8.5/gcc-8.2.0-6xqov2fhvbmehix42slain67vprec3fs/share/man'), PosixPath('1;/cluster/apps/gcc-4.8.5/lmod-7.7.13-epk3osxslctnrx6gabjmwtudqm2vfbxf/lmod/lmod/share/man'), PosixPath('1')}\n",
      "The following directories listed in your path were found to be non-existent: {PosixPath('/user/kevidu')}\n",
      "The following directories listed in your path were found to be non-existent: {PosixPath('servers!user=kevidu\"]'), PosixPath('servers!server=kevidu/\", \"access'), PosixPath('[\"access')}\n",
      "The following directories listed in your path were found to be non-existent: {PosixPath('() {  eval $($LMOD_DIR/ml_cmd \"$@\")\\n}')}\n",
      "The following directories listed in your path were found to be non-existent: {PosixPath('//matplotlib_inline.backend_inline'), PosixPath('module')}\n",
      "DEBUG: Possible options found for libcudart.so: {PosixPath('/cluster/apps/gcc-8.2.0/cuda-11.3.1-o54iuxgz6jm4csvkstuj5hjg4tvd44h3/lib64/libcudart.so.11.0'), PosixPath('/cluster/apps/gcc-8.2.0/cuda-11.3.1-o54iuxgz6jm4csvkstuj5hjg4tvd44h3/lib64/libcudart.so')}\n",
      "CUDA SETUP: PyTorch settings found: CUDA_VERSION=113, Highest Compute Capability: 7.5.\n",
      "CUDA SETUP: To manually override the PyTorch CUDA version please see:https://github.com/TimDettmers/bitsandbytes/blob/main/how_to_use_nonpytorch_cuda.md\n",
      "CUDA SETUP: Required library version not found: libbitsandbytes_cuda113.so. Maybe you need to compile it from source?\n",
      "CUDA SETUP: Defaulting to libbitsandbytes_cpu.so...\n",
      "\n",
      "================================================ERROR=====================================\n",
      "CUDA SETUP: CUDA detection failed! Possible reasons:\n",
      "1. You need to manually override the PyTorch CUDA version. Please see: \"https://github.com/TimDettmers/bitsandbytes/blob/main/how_to_use_nonpytorch_cuda.md\n",
      "2. CUDA driver not installed\n",
      "3. CUDA not installed\n",
      "4. You have multiple conflicting CUDA libraries\n",
      "5. Required library not pre-compiled for this bitsandbytes release!\n",
      "CUDA SETUP: If you compiled from source, try again with `make CUDA_VERSION=DETECTED_CUDA_VERSION` for example, `make CUDA_VERSION=113`.\n",
      "CUDA SETUP: The CUDA version for the compile might depend on your conda install. Inspect CUDA version via `conda list | grep cuda`.\n",
      "================================================================================\n",
      "\n",
      "CUDA SETUP: Something unexpected happened. Please compile from source:\n",
      "git clone https://github.com/TimDettmers/bitsandbytes.git\n",
      "cd bitsandbytes\n",
      "CUDA_VERSION=113 make cuda11x\n",
      "python setup.py install\n",
      "CUDA SETUP: Setup Failed!\n"
     ]
    },
    {
     "name": "stderr",
     "output_type": "stream",
     "text": [
      "/cluster/home/kevidu/.local/lib/python3.10/site-packages/bitsandbytes/cuda_setup/main.py:166: UserWarning: Welcome to bitsandbytes. For bug reports, please run\n",
      "\n",
      "python -m bitsandbytes\n",
      "\n",
      "\n",
      "  warn(msg)\n",
      "/cluster/home/kevidu/.local/lib/python3.10/site-packages/bitsandbytes/cuda_setup/main.py:166: UserWarning: /cluster/work/cotterell/kdu/miniforge3 did not contain ['libcudart.so', 'libcudart.so.11.0', 'libcudart.so.12.0'] as expected! Searching further paths...\n",
      "  warn(msg)\n",
      "/cluster/home/kevidu/.local/lib/python3.10/site-packages/bitsandbytes/cuda_setup/main.py:166: UserWarning: Found duplicate ['libcudart.so', 'libcudart.so.11.0', 'libcudart.so.12.0'] files: {PosixPath('/cluster/apps/gcc-8.2.0/cuda-11.3.1-o54iuxgz6jm4csvkstuj5hjg4tvd44h3/lib64/libcudart.so.11.0'), PosixPath('/cluster/apps/gcc-8.2.0/cuda-11.3.1-o54iuxgz6jm4csvkstuj5hjg4tvd44h3/lib64/libcudart.so')}.. We select the PyTorch default libcudart.so, which is {torch.version.cuda},but this might missmatch with the CUDA version that is needed for bitsandbytes.To override this behavior set the BNB_CUDA_VERSION=<version string, e.g. 122> environmental variableFor example, if you want to use the CUDA version 122BNB_CUDA_VERSION=122 python ...OR set the environmental variable in your .bashrc: export BNB_CUDA_VERSION=122In the case of a manual override, make sure you set the LD_LIBRARY_PATH, e.g.export LD_LIBRARY_PATH=$LD_LIBRARY_PATH:/usr/local/cuda-11.2\n",
      "  warn(msg)\n",
      "/cluster/home/kevidu/.local/lib/python3.10/site-packages/bitsandbytes/cuda_setup/main.py:166: UserWarning: /cluster/apps/gcc-8.2.0/hdf5-1.10.1-qj3ju3qfhvucsk5eevrtb2lehbux5nmv/lib:/cluster/apps/nss/gcc-8.2.0/julia/1.8.5/x86_64/lib:/cluster/apps/gcc-8.2.0/r-4.2.2-ydfaklhfrhw5dy6qcfzxlxfviwovcord/rlib/R/lib:/cluster/apps/gcc-8.2.0/nccl-2.11.4-1-pwkiz23vbeac3vt5ykybdwzaykprizb2/lib:/cluster/apps/gcc-8.2.0/cudnn-8.2.1.32-yqvbgr3teq3v6xu5eyc75xhbl2ya343j/lib64:/cluster/apps/gcc-8.2.0/cuda-11.3.1-o54iuxgz6jm4csvkstuj5hjg4tvd44h3/lib64:/cluster/apps/gcc-8.2.0/openblas-0.3.15-huwxbhezdzoo74awrgoz6sd2qndpmdva/lib:/cluster/apps/nss/gcc-8.2.0/python/3.10.4/x86_64/lib64:/cluster/spack/apps/linux-centos7-x86_64/gcc-4.8.5/gcc-8.2.0-6xqov2fhvbmehix42slain67vprec3fs/lib64:/cluster/spack/apps/linux-centos7-x86_64/gcc-4.8.5/gcc-8.2.0-6xqov2fhvbmehix42slain67vprec3fs/lib:/cluster/apps/lsf/10.1/linux2.6-glibc2.3-x86_64/lib:: did not contain ['libcudart.so', 'libcudart.so.11.0', 'libcudart.so.12.0'] as expected! Searching further paths...\n",
      "  warn(msg)\n",
      "Setting `pad_token_id` to `eos_token_id`:0 for open-end generation.\n",
      "/cluster/work/cotterell/kdu/transformers/src/transformers/generation/utils.py:1387: UserWarning: Neither `max_length` nor `max_new_tokens` has been set, `max_length` will default to 20 (`self.config.max_length`). Controlling `max_length` via the config is deprecated and `max_length` will be removed from the config in v5 of Transformers -- we recommend using `max_new_tokens` to control the maximum length of the generation.\n",
      "  warnings.warn(\n",
      "Input length of input_ids is 39, but `max_length` is set to 20. This can lead to unexpected behavior. You should consider increasing `max_new_tokens`.\n"
     ]
    },
    {
     "name": "stdout",
     "output_type": "stream",
     "text": [
      "tensor(0.6411, device='cuda:0', grad_fn=<AddBackward0>)\n"
     ]
    },
    {
     "name": "stderr",
     "output_type": "stream",
     "text": [
      "/scratch/tmp.38771879.kevidu/ipykernel_57977/544325201.py:25: UserWarning: Implicit dimension choice for softmax has been deprecated. Change the call to include dim=X as an argument.\n",
      "  probs, top_tokens = torch.topk(torch.nn.functional.softmax(model(**inputs).logits[0, -1]), k=10)\n"
     ]
    },
    {
     "data": {
      "text/plain": [
       "'\\nicky�icedumpire001002��'"
      ]
     },
     "execution_count": 14,
     "metadata": {},
     "output_type": "execute_result"
    }
   ],
   "source": [
    "device = \"cuda\" if torch.cuda.is_available() else \"cpu\"\n",
    "model_name = \"EleutherAI/pythia-70m-deduped\"\n",
    "\n",
    "try:\n",
    "    model = GPTNeoXForCausalLM.from_pretrained(\n",
    "      model_name,\n",
    "      load_in_8bit=LOAD_IN_8BIT,\n",
    "      device_map=\"auto\"\n",
    "    )\n",
    "except:\n",
    "    model = GPTNeoXForCausalLM.from_pretrained(\n",
    "      model_name,\n",
    "      load_in_8bit=False,\n",
    "    ).to(device)\n",
    "\n",
    "tokenizer = AutoTokenizer.from_pretrained(\n",
    "  model_name,\n",
    "  padding_side=\"left\",\n",
    ")\n",
    "\n",
    "query = \"On a scale from 1 to 5 stars, the quality of this movie, '{}', is rated \"\n",
    "inputs = tokenizer(format_query(query=query, entity=movies_sample.iloc[0][\"title\"], context=contexts[0]), return_tensors=\"pt\").to(device)\n",
    "# inputs = tokenizer(movies_sample.iloc[0][\"sentence\"], return_tensors=\"pt\").to(device)\n",
    "tokens = model.generate(**inputs)\n",
    "probs, top_tokens = torch.topk(torch.nn.functional.softmax(model(**inputs).logits[0, -1]), k=10)\n",
    "print(sum(probs))\n",
    "tokenizer.decode(top_tokens)\n",
    "# print(tokens)\n",
    "# tokenizer.decode(tokens[0])\n"
   ]
  },
  {
   "cell_type": "code",
   "execution_count": 15,
   "metadata": {},
   "outputs": [
    {
     "data": {
      "text/plain": [
       "{0: tensor([   17, 10528, 26561], device='cuda:0'),\n",
       " 1: tensor([  18,  531, 4041], device='cuda:0'),\n",
       " 2: tensor([  19, 9389, 7910], device='cuda:0'),\n",
       " 3: tensor([   20, 13524, 11831], device='cuda:0'),\n",
       " 4: tensor([   21, 12496, 14039], device='cuda:0'),\n",
       " 5: tensor([   22, 12071, 25438], device='cuda:0')}"
      ]
     },
     "execution_count": 15,
     "metadata": {},
     "output_type": "execute_result"
    }
   ],
   "source": [
    "answer_map = {\n",
    "    0: [\"0\", \"zero\", \"Zero\"],\n",
    "    1: [\"1\", \"one\", \"One\"],\n",
    "    2: [\"2\", \"two\", \"Two\"],\n",
    "    3: [\"3\", \"three\", \"Three\"],\n",
    "    4: [\"4\", \"four\", \"Four\"],\n",
    "    5: [\"5\", \"five\", \"Five\"],\n",
    "}\n",
    "answer_map_token_ids = {k: torch.tensor(tokenizer.convert_tokens_to_ids(v), device=model.device) for k, v in answer_map.items()}\n",
    "answer_map_token_ids"
   ]
  },
  {
   "cell_type": "code",
   "execution_count": 16,
   "metadata": {},
   "outputs": [
    {
     "name": "stderr",
     "output_type": "stream",
     "text": [
      "  0%|          | 0/500 [00:00<?, ?it/s]Using pad_token, but it is not set yet.\n"
     ]
    },
    {
     "name": "stdout",
     "output_type": "stream",
     "text": [
      "Setting model.config.pad_token_id to model.config.eos_token_id\n"
     ]
    },
    {
     "name": "stderr",
     "output_type": "stream",
     "text": [
      "100%|██████████| 500/500 [02:34<00:00,  3.23it/s]\n"
     ]
    }
   ],
   "source": [
    "if COMPUTE_CMI:\n",
    "    query = \"On a scale from 1 to 5 stars, the quality of this movie, '{}', is rated \"\n",
    "    from tqdm import tqdm\n",
    "    tqdm.pandas()\n",
    "    movies_sample[\"susceptibility_score\"] = movies_sample[\"title\"].progress_apply(lambda e: estimate_cmi(query=query, entity=e, contexts=contexts, model=model, tokenizer=tokenizer, answer_map=None))\n",
    "    # movies_sample[\"susceptibility_score\"] = movies_sample[\"title\"].progress_apply(lambda e: estimate_cmi(query=query, entity=e, contexts=contexts, model=model, tokenizer=tokenizer, answer_map=answer_map_token_ids))"
   ]
  },
  {
   "cell_type": "code",
   "execution_count": 17,
   "metadata": {},
   "outputs": [
    {
     "name": "stdout",
     "output_type": "stream",
     "text": [
      "4.26.0.dev0\n"
     ]
    }
   ],
   "source": [
    "import transformers\n",
    "print(transformers.__version__)"
   ]
  },
  {
   "cell_type": "code",
   "execution_count": 18,
   "metadata": {},
   "outputs": [
    {
     "data": {
      "image/png": "[encoded data removed]",
      "text/plain": [
       "<Figure size 432x288 with 1 Axes>"
      ]
     },
     "metadata": {
      "needs_background": "light"
     },
     "output_type": "display_data"
    }
   ],
   "source": [
    "if COMPUTE_CMI:\n",
    "    movies_sample.value_counts(\"susceptibility_score\")\n",
    "    sns.regplot(data=movies_sample, x=\"vote_count\", y=\"susceptibility_score\")\n",
    "    x = movies_sample[\"vote_count\"]\n",
    "    x = sm.add_constant(x)\n",
    "    y = movies_sample[\"susceptibility_score\"]\n",
    "    ols_model = sm.OLS(y, x).fit()\n",
    "    ols_model.summary()"
   ]
  },
  {
   "cell_type": "code",
   "execution_count": 19,
   "metadata": {},
   "outputs": [
    {
     "name": "stderr",
     "output_type": "stream",
     "text": [
      "100%|██████████| 500/500 [00:21<00:00, 22.95it/s]\n"
     ]
    }
   ],
   "source": [
    "if COMPUTE_KL:\n",
    "    query = \"On a scale from 1 to 5 stars, the quality of this movie, '{}', is rated \"\n",
    "    from tqdm import tqdm\n",
    "    tqdm.pandas()\n",
    "    # movies_sample[\"susceptibility_score_kl\"] = movies_sample[\"title\"].progress_apply(lambda e: estimate_entity_score(query=query, entity=e, contexts=contexts, model=model, tokenizer=tokenizer, distance_metric=kl_div, answer_map=None))\n",
    "    movies_sample[\"susceptibility_score_kl\"] = movies_sample[\"title\"].progress_apply(lambda e: estimate_entity_score(query=query, entity=e, contexts=contexts, model=model, tokenizer=tokenizer, distance_metric=kl_div, answer_map=answer_map_token_ids))\n"
   ]
  },
  {
   "cell_type": "code",
   "execution_count": 20,
   "metadata": {},
   "outputs": [
    {
     "name": "stdout",
     "output_type": "stream",
     "text": [
      "susceptibility_score_kl\n",
      "-0.000463    2\n",
      "-0.000569    1\n",
      " 0.000136    1\n",
      " 0.000132    1\n",
      " 0.000132    1\n",
      "            ..\n",
      "-0.000105    1\n",
      "-0.000105    1\n",
      "-0.000107    1\n",
      "-0.000108    1\n",
      " 0.000590    1\n",
      "Length: 499, dtype: int64\n",
      "                               OLS Regression Results                              \n",
      "===================================================================================\n",
      "Dep. Variable:     susceptibility_score_kl   R-squared:                       0.001\n",
      "Model:                                 OLS   Adj. R-squared:                 -0.001\n",
      "Method:                      Least Squares   F-statistic:                    0.6242\n",
      "Date:                     Tue, 05 Dec 2023   Prob (F-statistic):              0.430\n",
      "Time:                             10:20:36   Log-Likelihood:                 3453.3\n",
      "No. Observations:                      500   AIC:                            -6903.\n",
      "Df Residuals:                          498   BIC:                            -6894.\n",
      "Df Model:                                1                                         \n",
      "Covariance Type:                 nonrobust                                         \n",
      "==============================================================================\n",
      "                 coef    std err          t      P>|t|      [0.025      0.975]\n",
      "------------------------------------------------------------------------------\n",
      "const       3.056e-06   1.45e-05      0.210      0.834   -2.55e-05    3.16e-05\n",
      "vote_count -2.913e-09   3.69e-09     -0.790      0.430   -1.02e-08    4.33e-09\n",
      "==============================================================================\n",
      "Omnibus:                        8.765   Durbin-Watson:                   1.933\n",
      "Prob(Omnibus):                  0.012   Jarque-Bera (JB):                5.656\n",
      "Skew:                          -0.093   Prob(JB):                       0.0591\n",
      "Kurtosis:                       2.514   Cond. No.                     5.28e+03\n",
      "==============================================================================\n",
      "\n",
      "Notes:\n",
      "[1] Standard Errors assume that the covariance matrix of the errors is correctly specified.\n",
      "[2] The condition number is large, 5.28e+03. This might indicate that there are\n",
      "strong multicollinearity or other numerical problems.\n"
     ]
    },
    {
     "data": {
      "image/png": "[encoded data removed]",
      "text/plain": [
       "<Figure size 432x288 with 1 Axes>"
      ]
     },
     "metadata": {
      "needs_background": "light"
     },
     "output_type": "display_data"
    }
   ],
   "source": [
    "if COMPUTE_KL:\n",
    "    print(movies_sample.value_counts(\"susceptibility_score_kl\"))\n",
    "    sns.regplot(data=movies_sample, x=\"vote_count\", y=\"susceptibility_score_kl\")\n",
    "    x = movies_sample[\"vote_count\"]\n",
    "    x = sm.add_constant(x)\n",
    "    y = movies_sample[\"susceptibility_score_kl\"]\n",
    "    ols_model = sm.OLS(y, x).fit()\n",
    "    print(ols_model.summary())"
   ]
  },
  {
   "cell_type": "code",
   "execution_count": 21,
   "metadata": {},
   "outputs": [
    {
     "name": "stderr",
     "output_type": "stream",
     "text": [
      "100%|██████████| 500/500 [00:20<00:00, 24.37it/s]\n"
     ]
    }
   ],
   "source": [
    "answer_map_good_bad = {\n",
    "    0: [\"bad\", \"Bad\"],\n",
    "    1: [\"good\", \"Good\"],\n",
    "}\n",
    "answer_map_good_bad_token_ids = {\n",
    "    k: torch.tensor(tokenizer.convert_tokens_to_ids(v), device=model.device) for k, v in answer_map_good_bad.items()\n",
    "}\n",
    "\n",
    "if COMPUTE_GOOD_BAD:\n",
    "    query = \"The quality of this movie, '{}', is rated \"\n",
    "    from tqdm import tqdm\n",
    "    tqdm.pandas()\n",
    "    movies_sample[\"susceptibility_score_good_bad\"] = movies_sample[\"title\"].progress_apply(lambda e: estimate_entity_score(query=query, entity=e, contexts=contexts, model=model, tokenizer=tokenizer, distance_metric=difference, answer_map=answer_map_good_bad_token_ids))\n"
   ]
  },
  {
   "cell_type": "code",
   "execution_count": 22,
   "metadata": {},
   "outputs": [
    {
     "name": "stdout",
     "output_type": "stream",
     "text": [
      "susceptibility_score_good_bad\n",
      "-0.244624    6\n",
      "-0.148088    3\n",
      "-0.275020    3\n",
      "-0.296175    2\n",
      "-0.939941    2\n",
      "            ..\n",
      "-1.004881    1\n",
      "-1.004881    1\n",
      "-1.005550    1\n",
      "-1.006218    1\n",
      " 0.581773    1\n",
      "Length: 452, dtype: int64\n",
      "                                  OLS Regression Results                                 \n",
      "=========================================================================================\n",
      "Dep. Variable:     susceptibility_score_good_bad   R-squared:                       0.001\n",
      "Model:                                       OLS   Adj. R-squared:                 -0.001\n",
      "Method:                            Least Squares   F-statistic:                    0.7176\n",
      "Date:                           Tue, 05 Dec 2023   Prob (F-statistic):              0.397\n",
      "Time:                                   10:20:57   Log-Likelihood:                -236.70\n",
      "No. Observations:                            500   AIC:                             477.4\n",
      "Df Residuals:                                498   BIC:                             485.8\n",
      "Df Model:                                      1                                         \n",
      "Covariance Type:                       nonrobust                                         \n",
      "==============================================================================\n",
      "                 coef    std err          t      P>|t|      [0.025      0.975]\n",
      "------------------------------------------------------------------------------\n",
      "const         -0.7255      0.023    -31.111      0.000      -0.771      -0.680\n",
      "vote_count -5.009e-06   5.91e-06     -0.847      0.397   -1.66e-05    6.61e-06\n",
      "==============================================================================\n",
      "Omnibus:                       36.656   Durbin-Watson:                   2.085\n",
      "Prob(Omnibus):                  0.000   Jarque-Bera (JB):               39.531\n",
      "Skew:                           0.654   Prob(JB):                     2.61e-09\n",
      "Kurtosis:                       2.571   Cond. No.                     5.28e+03\n",
      "==============================================================================\n",
      "\n",
      "Notes:\n",
      "[1] Standard Errors assume that the covariance matrix of the errors is correctly specified.\n",
      "[2] The condition number is large, 5.28e+03. This might indicate that there are\n",
      "strong multicollinearity or other numerical problems.\n"
     ]
    },
    {
     "data": {
      "image/png": "[encoded data removed]",
      "text/plain": [
       "<Figure size 432x288 with 1 Axes>"
      ]
     },
     "metadata": {
      "needs_background": "light"
     },
     "output_type": "display_data"
    }
   ],
   "source": [
    "if COMPUTE_GOOD_BAD:\n",
    "    print(movies_sample.value_counts(\"susceptibility_score_good_bad\"))\n",
    "    sns.regplot(data=movies_sample, x=\"vote_count\", y=\"susceptibility_score_good_bad\")\n",
    "    x = movies_sample[\"vote_count\"]\n",
    "    x = sm.add_constant(x)\n",
    "    y = movies_sample[\"susceptibility_score_good_bad\"]\n",
    "    ols_model = sm.OLS(y, x).fit()\n",
    "    print(ols_model.summary())"
   ]
  },
  {
   "cell_type": "code",
   "execution_count": 23,
   "metadata": {},
   "outputs": [
    {
     "name": "stderr",
     "output_type": "stream",
     "text": [
      "100%|██████████| 500/500 [00:20<00:00, 24.48it/s]\n"
     ]
    },
    {
     "name": "stdout",
     "output_type": "stream",
     "text": [
      "susceptibility_score_good_bad_abs\n",
      "0.244624    6\n",
      "0.275020    3\n",
      "0.925883    2\n",
      "0.277026    2\n",
      "0.513353    2\n",
      "           ..\n",
      "0.536514    1\n",
      "0.528079    1\n",
      "0.518307    1\n",
      "0.508261    1\n",
      "1.397713    1\n",
      "Length: 453, dtype: int64\n",
      "                                    OLS Regression Results                                   \n",
      "=============================================================================================\n",
      "Dep. Variable:     susceptibility_score_good_bad_abs   R-squared:                       0.000\n",
      "Model:                                           OLS   Adj. R-squared:                 -0.002\n",
      "Method:                                Least Squares   F-statistic:                    0.1195\n",
      "Date:                               Tue, 05 Dec 2023   Prob (F-statistic):              0.730\n",
      "Time:                                       10:21:17   Log-Likelihood:                -193.76\n",
      "No. Observations:                                500   AIC:                             391.5\n",
      "Df Residuals:                                    498   BIC:                             399.9\n",
      "Df Model:                                          1                                         \n",
      "Covariance Type:                           nonrobust                                         \n",
      "==============================================================================\n",
      "                 coef    std err          t      P>|t|      [0.025      0.975]\n",
      "------------------------------------------------------------------------------\n",
      "const          0.7504      0.021     35.067      0.000       0.708       0.792\n",
      "vote_count  1.876e-06   5.43e-06      0.346      0.730   -8.79e-06    1.25e-05\n",
      "==============================================================================\n",
      "Omnibus:                     6501.923   Durbin-Watson:                   2.117\n",
      "Prob(Omnibus):                  0.000   Jarque-Bera (JB):               51.115\n",
      "Skew:                          -0.364   Prob(JB):                     7.95e-12\n",
      "Kurtosis:                       1.613   Cond. No.                     5.28e+03\n",
      "==============================================================================\n",
      "\n",
      "Notes:\n",
      "[1] Standard Errors assume that the covariance matrix of the errors is correctly specified.\n",
      "[2] The condition number is large, 5.28e+03. This might indicate that there are\n",
      "strong multicollinearity or other numerical problems.\n"
     ]
    },
    {
     "data": {
      "image/png": "[encoded data removed]",
      "text/plain": [
       "<Figure size 432x288 with 1 Axes>"
      ]
     },
     "metadata": {
      "needs_background": "light"
     },
     "output_type": "display_data"
    }
   ],
   "source": [
    "if COMPUTE_GOOD_BAD_ABS:\n",
    "    query = \"The quality of this movie, '{}', is rated \"\n",
    "    from tqdm import tqdm\n",
    "    tqdm.pandas()\n",
    "    movies_sample[\"susceptibility_score_good_bad_abs\"] = movies_sample[\"title\"].progress_apply(lambda e: estimate_entity_score(query=query, entity=e, contexts=contexts, model=model, tokenizer=tokenizer, distance_metric=difference_abs_val, answer_map=answer_map_good_bad_token_ids))\n",
    "\n",
    "if COMPUTE_GOOD_BAD_ABS:\n",
    "    print(movies_sample.value_counts(\"susceptibility_score_good_bad_abs\"))\n",
    "    sns.regplot(data=movies_sample, x=\"vote_count\", y=\"susceptibility_score_good_bad_abs\")\n",
    "    x = movies_sample[\"vote_count\"]\n",
    "    x = sm.add_constant(x)\n",
    "    y = movies_sample[\"susceptibility_score_good_bad_abs\"]\n",
    "    ols_model = sm.OLS(y, x).fit()\n",
    "    print(ols_model.summary())"
   ]
  },
  {
   "cell_type": "code",
   "execution_count": 24,
   "metadata": {},
   "outputs": [
    {
     "name": "stderr",
     "output_type": "stream",
     "text": [
      "100%|██████████| 500/500 [00:21<00:00, 23.72it/s]\n"
     ]
    },
    {
     "name": "stdout",
     "output_type": "stream",
     "text": [
      "susceptibility_score_good_bad_p_good_only\n",
      "-0.122312    5\n",
      "-0.137510    3\n",
      "-0.518307    3\n",
      "-0.071567    3\n",
      "-0.481285    2\n",
      "            ..\n",
      "-0.499963    1\n",
      "-0.502441    1\n",
      "-0.502441    1\n",
      "-0.502775    1\n",
      " 0.290887    1\n",
      "Length: 461, dtype: int64\n",
      "                                        OLS Regression Results                                       \n",
      "=====================================================================================================\n",
      "Dep. Variable:     susceptibility_score_good_bad_p_good_only   R-squared:                       0.001\n",
      "Model:                                                   OLS   Adj. R-squared:                 -0.001\n",
      "Method:                                        Least Squares   F-statistic:                    0.7176\n",
      "Date:                                       Tue, 05 Dec 2023   Prob (F-statistic):              0.397\n",
      "Time:                                               10:21:40   Log-Likelihood:                 109.88\n",
      "No. Observations:                                        500   AIC:                            -215.8\n",
      "Df Residuals:                                            498   BIC:                            -207.3\n",
      "Df Model:                                                  1                                         \n",
      "Covariance Type:                                   nonrobust                                         \n",
      "==============================================================================\n",
      "                 coef    std err          t      P>|t|      [0.025      0.975]\n",
      "------------------------------------------------------------------------------\n",
      "const         -0.3627      0.012    -31.111      0.000      -0.386      -0.340\n",
      "vote_count -2.504e-06   2.96e-06     -0.847      0.397   -8.31e-06     3.3e-06\n",
      "==============================================================================\n",
      "Omnibus:                       36.656   Durbin-Watson:                   2.085\n",
      "Prob(Omnibus):                  0.000   Jarque-Bera (JB):               39.531\n",
      "Skew:                           0.654   Prob(JB):                     2.61e-09\n",
      "Kurtosis:                       2.571   Cond. No.                     5.28e+03\n",
      "==============================================================================\n",
      "\n",
      "Notes:\n",
      "[1] Standard Errors assume that the covariance matrix of the errors is correctly specified.\n",
      "[2] The condition number is large, 5.28e+03. This might indicate that there are\n",
      "strong multicollinearity or other numerical problems.\n"
     ]
    },
    {
     "data": {
      "image/png": "[encoded data removed]",
      "text/plain": [
       "<Figure size 432x288 with 1 Axes>"
      ]
     },
     "metadata": {
      "needs_background": "light"
     },
     "output_type": "display_data"
    }
   ],
   "source": [
    "if COMPUTE_GOOD_BAD_P_GOOD_ONLY:\n",
    "    query = \"The quality of this movie, '{}', is rated \"\n",
    "    from tqdm import tqdm\n",
    "    tqdm.pandas()\n",
    "    movies_sample[\"susceptibility_score_good_bad_p_good_only\"] = movies_sample[\"title\"].progress_apply(lambda e: estimate_entity_score(query=query, entity=e, contexts=contexts, model=model, tokenizer=tokenizer, distance_metric=difference_p_good_only, answer_map=answer_map_good_bad_token_ids))\n",
    "\n",
    "if COMPUTE_GOOD_BAD_P_GOOD_ONLY:\n",
    "    print(movies_sample.value_counts(\"susceptibility_score_good_bad_p_good_only\"))\n",
    "    sns.regplot(data=movies_sample, x=\"vote_count\", y=\"susceptibility_score_good_bad_p_good_only\")\n",
    "    x = movies_sample[\"vote_count\"]\n",
    "    x = sm.add_constant(x)\n",
    "    y = movies_sample[\"susceptibility_score_good_bad_p_good_only\"]\n",
    "    ols_model = sm.OLS(y, x).fit()\n",
    "    print(ols_model.summary())"
   ]
  }
 ],
 "metadata": {
  "kernelspec": {
   "display_name": "Python 3 (ipykernel)",
   "language": "python",
   "name": "python3"
  },
  "language_info": {
   "codemirror_mode": {
    "name": "ipython",
    "version": 3
   },
   "file_extension": ".py",
   "mimetype": "text/x-python",
   "name": "python",
   "nbconvert_exporter": "python",
   "pygments_lexer": "ipython3",
   "version": "3.10.4"
  }
 },
 "nbformat": 4,
 "nbformat_minor": 4
}
