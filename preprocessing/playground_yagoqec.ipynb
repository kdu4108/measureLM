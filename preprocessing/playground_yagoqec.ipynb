{
 "cells": [
  {
   "cell_type": "code",
   "execution_count": 5,
   "metadata": {},
   "outputs": [],
   "source": [
    "import pandas as pd\n",
    "import os\n",
    "\n",
    "from datasets import YagoECQ\n",
    "from utils import format_query, extract_name_from_yago_uri"
   ]
  },
  {
   "cell_type": "code",
   "execution_count": 6,
   "metadata": {},
   "outputs": [
    {
     "name": "stdout",
     "output_type": "stream",
     "text": [
      "Failed to load entities, contexts, and queries from paths None, None, and None.\n",
      "Manually reconstructing dataset and saving to aforementioned paths.\n",
      "WARNING: No path provided, so will not try to save entities to path None.\n",
      "WARNING: No path provided, so will not try to save answers to path None.\n"
     ]
    },
    {
     "name": "stdout",
     "output_type": "stream",
     "text": [
      "WARNING: No path provided, so will not try to save contexts to path None.\n",
      "WARNING: No path provided, so will not try to save queries to path None.\n"
     ]
    }
   ],
   "source": [
    "uri = \"reverse-http://schema.org/leader\"\n",
    "kb_name, relation = extract_name_from_yago_uri(uri)\n",
    "cc = YagoECQ(subname=f\"{kb_name}:{relation}\", query_id=uri, max_contexts=100)"
   ]
  },
  {
   "cell_type": "code",
   "execution_count": 7,
   "metadata": {},
   "outputs": [
    {
     "name": "stdout",
     "output_type": "stream",
     "text": [
      "<class 'pandas.core.frame.DataFrame'>\n",
      "RangeIndex: 2000 entries, 0 to 1999\n",
      "Data columns (total 5 columns):\n",
      " #   Column      Non-Null Count  Dtype \n",
      "---  ------      --------------  ----- \n",
      " 0   q_id        2000 non-null   object\n",
      " 1   query_form  2000 non-null   object\n",
      " 2   entity      2000 non-null   object\n",
      " 3   answer      2000 non-null   object\n",
      " 4   contexts    2000 non-null   object\n",
      "dtypes: object(5)\n",
      "memory usage: 78.2+ KB\n",
      "None\n",
      "                               q_id  \\\n",
      "0  reverse-http://schema.org/leader   \n",
      "1  reverse-http://schema.org/leader   \n",
      "2  reverse-http://schema.org/leader   \n",
      "3  reverse-http://schema.org/leader   \n",
      "4  reverse-http://schema.org/leader   \n",
      "\n",
      "                                   query_form               entity  \\\n",
      "0  Q: Is {entity} the leader of {answer}?\\nA:     (Étienne Blanc,)   \n",
      "1  Q: Is {entity} the leader of {answer}?\\nA:  (Laurent Wauquiez,)   \n",
      "2  Q: Is {entity} the leader of {answer}?\\nA:     (Bernard Piras,)   \n",
      "3  Q: Is {entity} the leader of {answer}?\\nA:   (Imelda Dimaporo,)   \n",
      "4  Q: Is {entity} the leader of {answer}?\\nA:      (Jakob Jensen,)   \n",
      "\n",
      "                 answer                                           contexts  \n",
      "0     Divonne-les-Bains  [George V is the leader of Galan III Governmen...  \n",
      "1  Auvergne-Rhône-Alpes  [George V is the leader of Galan III Governmen...  \n",
      "2     Bourg-lès-Valence  [George V is the leader of Galan III Governmen...  \n",
      "3       Lanao del Norte  [George V is the leader of Galan III Governmen...  \n",
      "4   Aarhus Municipality  [George V is the leader of Galan III Governmen...  \n"
     ]
    }
   ],
   "source": [
    "qe_df = cc.get_contexts_per_query_entity_df()\n",
    "print(qe_df.info())\n",
    "print(qe_df.head())\n"
   ]
  },
  {
   "cell_type": "code",
   "execution_count": 8,
   "metadata": {},
   "outputs": [
    {
     "name": "stdout",
     "output_type": "stream",
     "text": [
      "<class 'pandas.core.frame.DataFrame'>\n",
      "RangeIndex: 200 entries, 0 to 199\n",
      "Data columns (total 4 columns):\n",
      " #   Column      Non-Null Count  Dtype \n",
      "---  ------      --------------  ----- \n",
      " 0   q_id        200 non-null    object\n",
      " 1   query_form  200 non-null    object\n",
      " 2   context     200 non-null    object\n",
      " 3   entities    200 non-null    object\n",
      "dtypes: object(4)\n",
      "memory usage: 6.4+ KB\n",
      "None\n",
      "                               q_id  \\\n",
      "0  reverse-http://schema.org/leader   \n",
      "1  reverse-http://schema.org/leader   \n",
      "2  reverse-http://schema.org/leader   \n",
      "3  reverse-http://schema.org/leader   \n",
      "4  reverse-http://schema.org/leader   \n",
      "\n",
      "                                   query_form  \\\n",
      "0  Q: Is {entity} the leader of {answer}?\\nA:   \n",
      "1  Q: Is {entity} the leader of {answer}?\\nA:   \n",
      "2  Q: Is {entity} the leader of {answer}?\\nA:   \n",
      "3  Q: Is {entity} the leader of {answer}?\\nA:   \n",
      "4  Q: Is {entity} the leader of {answer}?\\nA:   \n",
      "\n",
      "                                             context  \\\n",
      "0  George V is the leader of Galan III Government.\\n   \n",
      "1     Nitish Kumar is the leader of Clover Studio.\\n   \n",
      "2  Lauri Ingman is the leader of Kingdom of Italy.\\n   \n",
      "3   Jakob Jensen is the leader of Colombo Cabinet.\\n   \n",
      "4  Prithvirajsing Roopun is the leader of Valls C...   \n",
      "\n",
      "                                            entities  \n",
      "0  [(Étienne Blanc,), (Laurent Wauquiez,), (Berna...  \n",
      "1  [(Étienne Blanc,), (Laurent Wauquiez,), (Berna...  \n",
      "2  [(Étienne Blanc,), (Laurent Wauquiez,), (Berna...  \n",
      "3  [(Étienne Blanc,), (Laurent Wauquiez,), (Berna...  \n",
      "4  [(Étienne Blanc,), (Laurent Wauquiez,), (Berna...  \n"
     ]
    }
   ],
   "source": [
    "qc_df = cc.get_entities_per_query_context_df()\n",
    "print(qc_df.info())\n",
    "print(qc_df.head())\n"
   ]
  },
  {
   "cell_type": "code",
   "execution_count": null,
   "metadata": {},
   "outputs": [],
   "source": []
  }
 ],
 "metadata": {
  "kernelspec": {
   "display_name": "measurelm2",
   "language": "python",
   "name": "python3"
  },
  "language_info": {
   "codemirror_mode": {
    "name": "ipython",
    "version": 3
   },
   "file_extension": ".py",
   "mimetype": "text/x-python",
   "name": "python",
   "nbconvert_exporter": "python",
   "pygments_lexer": "ipython3",
   "version": "3.10.13"
  }
 },
 "nbformat": 4,
 "nbformat_minor": 2
}
