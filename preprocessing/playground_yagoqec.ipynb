{
 "cells": [
  {
   "cell_type": "code",
   "execution_count": 1,
   "metadata": {},
   "outputs": [],
   "source": [
    "import pandas as pd\n",
    "import os\n",
    "\n",
    "from datasets import YagoECQ\n",
    "from utils import format_query, extract_name_from_yago_uri"
   ]
  },
  {
   "cell_type": "code",
   "execution_count": 2,
   "metadata": {},
   "outputs": [
    {
     "name": "stdout",
     "output_type": "stream",
     "text": [
      "Failed to load entities, contexts, and queries from paths None, None, and None.\n",
      "Manually reconstructing dataset and saving to aforementioned paths.\n",
      "WARNING: No path provided, so will not try to save entities to path None.\n",
      "WARNING: No path provided, so will not try to save contexts to path None.\n",
      "WARNING: No path provided, so will not try to save queries to path None.\n"
     ]
    }
   ],
   "source": [
    "uri = \"reverse-http://schema.org/leader\"\n",
    "kb_name, relation = extract_name_from_yago_uri(uri)\n",
    "cc = YagoECQ(subname=f\"{kb_name}:{relation}\", query_id=uri, max_contexts=100)"
   ]
  },
  {
   "cell_type": "code",
   "execution_count": 3,
   "metadata": {},
   "outputs": [
    {
     "name": "stdout",
     "output_type": "stream",
     "text": [
      "<class 'pandas.core.frame.DataFrame'>\n",
      "RangeIndex: 2000 entries, 0 to 1999\n",
      "Data columns (total 4 columns):\n",
      " #   Column      Non-Null Count  Dtype \n",
      "---  ------      --------------  ----- \n",
      " 0   q_id        2000 non-null   object\n",
      " 1   query_form  2000 non-null   object\n",
      " 2   entity      2000 non-null   object\n",
      " 3   contexts    2000 non-null   object\n",
      "dtypes: object(4)\n",
      "memory usage: 62.6+ KB\n",
      "None\n",
      "                               q_id  \\\n",
      "0  reverse-http://schema.org/leader   \n",
      "1  reverse-http://schema.org/leader   \n",
      "2  reverse-http://schema.org/leader   \n",
      "3  reverse-http://schema.org/leader   \n",
      "4  reverse-http://schema.org/leader   \n",
      "\n",
      "                                   query_form  \\\n",
      "0  Q: Is {entity} the leader of {answer}?\\nA:   \n",
      "1  Q: Is {entity} the leader of {answer}?\\nA:   \n",
      "2  Q: Is {entity} the leader of {answer}?\\nA:   \n",
      "3  Q: Is {entity} the leader of {answer}?\\nA:   \n",
      "4  Q: Is {entity} the leader of {answer}?\\nA:   \n",
      "\n",
      "                              entity  \\\n",
      "0                   (Bhagwant Mann,)   \n",
      "1                   (J.B. Pritzker,)   \n",
      "2  (Mohammed bin Rashid Al Maktoum,)   \n",
      "3  (Mohammed bin Rashid Al Maktoum,)   \n",
      "4               (Shuntaro Furukawa,)   \n",
      "\n",
      "                                            contexts  \n",
      "0  [Charles III is the leader of Nintendo.\\n, Ste...  \n",
      "1  [Charles III is the leader of Nintendo.\\n, Ste...  \n",
      "2  [Charles III is the leader of Nintendo.\\n, Ste...  \n",
      "3  [Charles III is the leader of Nintendo.\\n, Ste...  \n",
      "4  [Charles III is the leader of Nintendo.\\n, Ste...  \n"
     ]
    }
   ],
   "source": [
    "qe_df = cc.get_contexts_per_query_entity_df()\n",
    "print(qe_df.info())\n",
    "print(qe_df.head())\n"
   ]
  },
  {
   "cell_type": "code",
   "execution_count": 4,
   "metadata": {},
   "outputs": [
    {
     "name": "stdout",
     "output_type": "stream",
     "text": [
      "<class 'pandas.core.frame.DataFrame'>\n",
      "RangeIndex: 200 entries, 0 to 199\n",
      "Data columns (total 4 columns):\n",
      " #   Column      Non-Null Count  Dtype \n",
      "---  ------      --------------  ----- \n",
      " 0   q_id        200 non-null    object\n",
      " 1   query_form  200 non-null    object\n",
      " 2   context     200 non-null    object\n",
      " 3   entities    200 non-null    object\n",
      "dtypes: object(4)\n",
      "memory usage: 6.4+ KB\n",
      "None\n",
      "                               q_id  \\\n",
      "0  reverse-http://schema.org/leader   \n",
      "1  reverse-http://schema.org/leader   \n",
      "2  reverse-http://schema.org/leader   \n",
      "3  reverse-http://schema.org/leader   \n",
      "4  reverse-http://schema.org/leader   \n",
      "\n",
      "                                   query_form  \\\n",
      "0  Q: Is {entity} the leader of {answer}?\\nA:   \n",
      "1  Q: Is {entity} the leader of {answer}?\\nA:   \n",
      "2  Q: Is {entity} the leader of {answer}?\\nA:   \n",
      "3  Q: Is {entity} the leader of {answer}?\\nA:   \n",
      "4  Q: Is {entity} the leader of {answer}?\\nA:   \n",
      "\n",
      "                                             context  \\\n",
      "0           Charles III is the leader of Nintendo.\\n   \n",
      "1  Steve Holland is the leader of Leipzig Distric...   \n",
      "2  Christian Estrosi is the leader of Inca Empire.\\n   \n",
      "3      Vyacheslav Gladkov is the leader of Latvia.\\n   \n",
      "4  Abdel Fattah al-Burhan is the leader of Art. L...   \n",
      "\n",
      "                                            entities  \n",
      "0  [(Bhagwant Mann,), (J.B. Pritzker,), (Mohammed...  \n",
      "1  [(Bhagwant Mann,), (J.B. Pritzker,), (Mohammed...  \n",
      "2  [(Bhagwant Mann,), (J.B. Pritzker,), (Mohammed...  \n",
      "3  [(Bhagwant Mann,), (J.B. Pritzker,), (Mohammed...  \n",
      "4  [(Bhagwant Mann,), (J.B. Pritzker,), (Mohammed...  \n"
     ]
    }
   ],
   "source": [
    "qc_df = cc.get_entities_per_query_context_df()\n",
    "print(qc_df.info())\n",
    "print(qc_df.head())\n"
   ]
  },
  {
   "cell_type": "code",
   "execution_count": null,
   "metadata": {},
   "outputs": [],
   "source": []
  }
 ],
 "metadata": {
  "kernelspec": {
   "display_name": "measurelm2",
   "language": "python",
   "name": "python3"
  },
  "language_info": {
   "codemirror_mode": {
    "name": "ipython",
    "version": 3
   },
   "file_extension": ".py",
   "mimetype": "text/x-python",
   "name": "python",
   "nbconvert_exporter": "python",
   "pygments_lexer": "ipython3",
   "version": "3.10.13"
  }
 },
 "nbformat": 4,
 "nbformat_minor": 2
}
