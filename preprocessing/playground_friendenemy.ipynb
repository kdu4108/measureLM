{
 "cells": [
  {
   "cell_type": "code",
   "execution_count": 4,
   "metadata": {},
   "outputs": [],
   "source": [
    "%load_ext autoreload\n",
    "%autoreload 2\n",
    "%load_ext lab_black"
   ]
  },
  {
   "cell_type": "code",
   "execution_count": 5,
   "metadata": {},
   "outputs": [],
   "source": [
    "import pandas as pd\n",
    "import os\n",
    "\n",
    "from datasets import FriendEnemy\n",
    "from utils import format_query"
   ]
  },
  {
   "cell_type": "code",
   "execution_count": 9,
   "metadata": {},
   "outputs": [],
   "source": [
    "DATASET_NAME = \"FriendEnemy\"\n",
    "SEED = 0\n",
    "data_id = \"playground\"\n",
    "data_dir = os.path.join(\"data\", DATASET_NAME, data_id, f\"{SEED}\")\n",
    "input_dir = os.path.join(data_dir, \"inputs\")\n",
    "entities_path = os.path.join(input_dir, \"entities.json\")\n",
    "contexts_path = os.path.join(input_dir, \"contexts.json\")\n",
    "queries_path = os.path.join(input_dir, \"queries.json\")\n",
    "\n",
    "os.makedirs(input_dir, exist_ok=True)\n",
    "\n",
    "cc = FriendEnemy(\n",
    "    max_contexts=100,\n",
    "    entities_path=entities_path,\n",
    "    contexts_path=contexts_path,\n",
    "    queries_path=queries_path,\n",
    ")"
   ]
  },
  {
   "cell_type": "code",
   "execution_count": 3,
   "metadata": {},
   "outputs": [
    {
     "name": "stderr",
     "output_type": "stream",
     "text": [
      "100%|██████████| 2/2 [00:00<00:00, 168.78it/s]"
     ]
    },
    {
     "name": "stdout",
     "output_type": "stream",
     "text": [
      "<class 'pandas.core.frame.DataFrame'>\n",
      "RangeIndex: 112000 entries, 0 to 111999\n",
      "Data columns (total 5 columns):\n",
      " #   Column               Non-Null Count   Dtype \n",
      "---  ------               --------------   ----- \n",
      " 0   q_id                 112000 non-null  object\n",
      " 1   query_form           112000 non-null  object\n",
      " 2   entity               112000 non-null  object\n",
      " 3   context              112000 non-null  object\n",
      " 4   context_is_relevant  112000 non-null  bool  \n",
      "dtypes: bool(1), object(4)\n",
      "memory usage: 3.5+ MB\n"
     ]
    },
    {
     "name": "stderr",
     "output_type": "stream",
     "text": [
      "\n"
     ]
    }
   ],
   "source": [
    "joint_df = cc.get_df_for_scoring()\n",
    "joint_df.info()"
   ]
  },
  {
   "cell_type": "code",
   "execution_count": 10,
   "metadata": {},
   "outputs": [
    {
     "name": "stdout",
     "output_type": "stream",
     "text": [
      "<class 'pandas.core.frame.DataFrame'>\n",
      "RangeIndex: 219 entries, 0 to 218\n",
      "Data columns (total 4 columns):\n",
      " #   Column      Non-Null Count  Dtype \n",
      "---  ------      --------------  ----- \n",
      " 0   q_id        219 non-null    object\n",
      " 1   query_form  219 non-null    object\n",
      " 2   entity      219 non-null    object\n",
      " 3   contexts    219 non-null    object\n",
      "dtypes: object(4)\n",
      "memory usage: 7.0+ KB\n",
      "None\n",
      "           q_id                                query_form  \\\n",
      "0  friend-enemy  Q: Are {} and {} friends or enemies?\\nA:   \n",
      "1  friend-enemy  Q: Are {} and {} friends or enemies?\\nA:   \n",
      "2  friend-enemy  Q: Are {} and {} friends or enemies?\\nA:   \n",
      "3  friend-enemy  Q: Are {} and {} friends or enemies?\\nA:   \n",
      "4  friend-enemy  Q: Are {} and {} friends or enemies?\\nA:   \n",
      "\n",
      "                              entity  \\\n",
      "0  (Sherlock Holmes, James Moriarty)   \n",
      "1       (Obi Wan Kenobi, Darth Maul)   \n",
      "2     (Harry Potter, Lord Voldemort)   \n",
      "3       (Harry Potter, Draco Malfoy)   \n",
      "4        (Spiderman, Norman Osborne)   \n",
      "\n",
      "                                            contexts  \n",
      "0  [Bill Gates appreciates Warren Buffett.\\n, Har...  \n",
      "1  [Bill Gates appreciates Warren Buffett.\\n, Har...  \n",
      "2  [Bill Gates appreciates Warren Buffett.\\n, Har...  \n",
      "3  [Bill Gates appreciates Warren Buffett.\\n, Har...  \n",
      "4  [Bill Gates appreciates Warren Buffett.\\n, Har...  \n"
     ]
    }
   ],
   "source": [
    "qe_df = cc.get_contexts_per_query_entity_df()\n",
    "print(qe_df.info())\n",
    "print(qe_df.head())"
   ]
  },
  {
   "cell_type": "code",
   "execution_count": 11,
   "metadata": {},
   "outputs": [
    {
     "name": "stdout",
     "output_type": "stream",
     "text": [
      "<class 'pandas.core.frame.DataFrame'>\n",
      "RangeIndex: 300 entries, 0 to 299\n",
      "Data columns (total 4 columns):\n",
      " #   Column      Non-Null Count  Dtype \n",
      "---  ------      --------------  ----- \n",
      " 0   q_id        300 non-null    object\n",
      " 1   query_form  300 non-null    object\n",
      " 2   context     300 non-null    object\n",
      " 3   entities    300 non-null    object\n",
      "dtypes: object(4)\n",
      "memory usage: 9.5+ KB\n",
      "None\n",
      "           q_id                                query_form  \\\n",
      "0  friend-enemy  Q: Are {} and {} friends or enemies?\\nA:   \n",
      "1  friend-enemy  Q: Are {} and {} friends or enemies?\\nA:   \n",
      "2  friend-enemy  Q: Are {} and {} friends or enemies?\\nA:   \n",
      "3  friend-enemy  Q: Are {} and {} friends or enemies?\\nA:   \n",
      "4  friend-enemy  Q: Are {} and {} friends or enemies?\\nA:   \n",
      "\n",
      "                                      context  \\\n",
      "0    Bill Gates appreciates Warren Buffett.\\n   \n",
      "1        Harry Potter hates Lord Voldemort.\\n   \n",
      "2            Steve Jobs attacks Bill Gates.\\n   \n",
      "3  Sherlock Holmes spies on James Moriarty.\\n   \n",
      "4     John Adams spies on Thomas Jefferson.\\n   \n",
      "\n",
      "                                            entities  \n",
      "0  [(Sherlock Holmes, James Moriarty), (Obi Wan K...  \n",
      "1  [(Sherlock Holmes, James Moriarty), (Obi Wan K...  \n",
      "2  [(Sherlock Holmes, James Moriarty), (Obi Wan K...  \n",
      "3  [(Sherlock Holmes, James Moriarty), (Obi Wan K...  \n",
      "4  [(Sherlock Holmes, James Moriarty), (Obi Wan K...  \n"
     ]
    }
   ],
   "source": [
    "qc_df = cc.get_entities_per_query_context_df()\n",
    "print(qc_df.info())\n",
    "print(qc_df.head())"
   ]
  },
  {
   "cell_type": "code",
   "execution_count": null,
   "metadata": {},
   "outputs": [],
   "source": []
  }
 ],
 "metadata": {
  "kernelspec": {
   "display_name": "measurelm2",
   "language": "python",
   "name": "python3"
  },
  "language_info": {
   "codemirror_mode": {
    "name": "ipython",
    "version": 3
   },
   "file_extension": ".py",
   "mimetype": "text/x-python",
   "name": "python",
   "nbconvert_exporter": "python",
   "pygments_lexer": "ipython3",
   "version": "3.10.13"
  }
 },
 "nbformat": 4,
 "nbformat_minor": 2
}
