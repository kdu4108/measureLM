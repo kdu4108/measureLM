{
 "cells": [
  {
   "cell_type": "code",
   "execution_count": 1,
   "metadata": {},
   "outputs": [],
   "source": [
    "import pandas as pd\n",
    "import os\n",
    "\n",
    "from datasets import CountryCapital\n",
    "from utils import format_query"
   ]
  },
  {
   "cell_type": "code",
   "execution_count": 2,
   "metadata": {},
   "outputs": [
    {
     "name": "stdout",
     "output_type": "stream",
     "text": [
      "Failed to load entities, contexts, and queries from paths None, None, and None.\n",
      "Manually reconstructing dataset and saving to aforementioned paths.\n",
      "WARNING: No path provided, so will not try to save entities to path None.\n",
      "WARNING: No path provided, so will not try to save contexts to path None.\n",
      "WARNING: No path provided, so will not try to save queries to path None.\n"
     ]
    }
   ],
   "source": [
    "cc = CountryCapital(max_contexts=100)"
   ]
  },
  {
   "cell_type": "code",
   "execution_count": 4,
   "metadata": {},
   "outputs": [
    {
     "name": "stdout",
     "output_type": "stream",
     "text": [
      "<class 'pandas.core.frame.DataFrame'>\n",
      "RangeIndex: 560 entries, 0 to 559\n",
      "Data columns (total 5 columns):\n",
      " #   Column      Non-Null Count  Dtype \n",
      "---  ------      --------------  ----- \n",
      " 0   q_id        560 non-null    object\n",
      " 1   query_form  560 non-null    object\n",
      " 2   entity      560 non-null    object\n",
      " 3   answer      0 non-null      object\n",
      " 4   contexts    560 non-null    object\n",
      "dtypes: object(5)\n",
      "memory usage: 22.0+ KB\n",
      "None\n",
      "         q_id                         query_form                    entity  \\\n",
      "0  capital_of  Q: What is the capital of {}?\\nA:               (Abkhazia,)   \n",
      "1  capital_of  Q: What is the capital of {}?\\nA:            (Afghanistan,)   \n",
      "2  capital_of  Q: What is the capital of {}?\\nA:  (Akrotiri and Dhekelia,)   \n",
      "3  capital_of  Q: What is the capital of {}?\\nA:                (Albania,)   \n",
      "4  capital_of  Q: What is the capital of {}?\\nA:                (Algeria,)   \n",
      "\n",
      "  answer                                           contexts  \n",
      "0   None  [The capital of Samoa is Damascus.\\n, The capi...  \n",
      "1   None  [The capital of Samoa is Damascus.\\n, The capi...  \n",
      "2   None  [The capital of Samoa is Damascus.\\n, The capi...  \n",
      "3   None  [The capital of Samoa is Damascus.\\n, The capi...  \n",
      "4   None  [The capital of Samoa is Damascus.\\n, The capi...  \n"
     ]
    }
   ],
   "source": [
    "qe_df = cc.get_contexts_per_query_entity_df()\n",
    "print(qe_df.info())\n",
    "print(qe_df.head())\n"
   ]
  },
  {
   "cell_type": "code",
   "execution_count": 5,
   "metadata": {},
   "outputs": [
    {
     "name": "stdout",
     "output_type": "stream",
     "text": [
      "<class 'pandas.core.frame.DataFrame'>\n",
      "RangeIndex: 200 entries, 0 to 199\n",
      "Data columns (total 4 columns):\n",
      " #   Column      Non-Null Count  Dtype \n",
      "---  ------      --------------  ----- \n",
      " 0   q_id        200 non-null    object\n",
      " 1   query_form  200 non-null    object\n",
      " 2   context     200 non-null    object\n",
      " 3   entities    200 non-null    object\n",
      "dtypes: object(4)\n",
      "memory usage: 6.4+ KB\n",
      "None\n",
      "         q_id                         query_form  \\\n",
      "0  capital_of  Q: What is the capital of {}?\\nA:   \n",
      "1  capital_of  Q: What is the capital of {}?\\nA:   \n",
      "2  capital_of  Q: What is the capital of {}?\\nA:   \n",
      "3  capital_of  Q: What is the capital of {}?\\nA:   \n",
      "4  capital_of  Q: What is the capital of {}?\\nA:   \n",
      "\n",
      "                                       context  \\\n",
      "0          The capital of Samoa is Damascus.\\n   \n",
      "1          The capital of Jersey is Jakarta.\\n   \n",
      "2         The capital of Kuwait is Freetown.\\n   \n",
      "3  The capital of Sint Maarten is Hanga Roa.\\n   \n",
      "4        The capital of Tuvalu is Bucharest.\\n   \n",
      "\n",
      "                                            entities  \n",
      "0  [(Abkhazia,), (Afghanistan,), (Akrotiri and Dh...  \n",
      "1  [(Abkhazia,), (Afghanistan,), (Akrotiri and Dh...  \n",
      "2  [(Abkhazia,), (Afghanistan,), (Akrotiri and Dh...  \n",
      "3  [(Abkhazia,), (Afghanistan,), (Akrotiri and Dh...  \n",
      "4  [(Abkhazia,), (Afghanistan,), (Akrotiri and Dh...  \n"
     ]
    }
   ],
   "source": [
    "qc_df = cc.get_entities_per_query_context_df()\n",
    "print(qc_df.info())\n",
    "print(qc_df.head())\n"
   ]
  },
  {
   "cell_type": "code",
   "execution_count": null,
   "metadata": {},
   "outputs": [],
   "source": []
  }
 ],
 "metadata": {
  "kernelspec": {
   "display_name": "measurelm2",
   "language": "python",
   "name": "python3"
  },
  "language_info": {
   "codemirror_mode": {
    "name": "ipython",
    "version": 3
   },
   "file_extension": ".py",
   "mimetype": "text/x-python",
   "name": "python",
   "nbconvert_exporter": "python",
   "pygments_lexer": "ipython3",
   "version": "3.10.13"
  }
 },
 "nbformat": 4,
 "nbformat_minor": 2
}
