{
 "cells": [
  {
   "cell_type": "code",
   "execution_count": 1,
   "metadata": {},
   "outputs": [],
   "source": [
    "import pandas as pd\n",
    "import os\n",
    "\n",
    "from datasets import YagoECQ\n",
    "from utils import format_query, extract_name_from_yago_uri"
   ]
  },
  {
   "cell_type": "code",
   "execution_count": 2,
   "metadata": {},
   "outputs": [
    {
     "name": "stdout",
     "output_type": "stream",
     "text": [
      "Failed to load entities, answers, contexts, and queries from paths None, None, None, and None.\n",
      "Manually reconstructing dataset and saving to aforementioned paths.\n",
      "WARNING: No path provided, so will not try to save entities to path None.\n",
      "WARNING: No path provided, so will not try to save answers to path None.\n",
      "WARNING: No path provided, so will not try to save contexts to path None.\n",
      "WARNING: No path provided, so will not try to save queries to path None.\n"
     ]
    }
   ],
   "source": [
    "uri = \"reverse-http://schema.org/leader\"\n",
    "kb_name, relation = extract_name_from_yago_uri(uri)\n",
    "cc = YagoECQ(subname=f\"{kb_name}:{relation}\", query_id=uri, entity_types=[\"entities\", \"gpt_fake_entities\"], max_contexts=100)"
   ]
  },
  {
   "cell_type": "code",
   "execution_count": 3,
   "metadata": {},
   "outputs": [
    {
     "name": "stdout",
     "output_type": "stream",
     "text": [
      "<class 'pandas.core.frame.DataFrame'>\n",
      "RangeIndex: 4000 entries, 0 to 3999\n",
      "Data columns (total 5 columns):\n",
      " #   Column      Non-Null Count  Dtype \n",
      "---  ------      --------------  ----- \n",
      " 0   q_id        4000 non-null   object\n",
      " 1   query_form  4000 non-null   object\n",
      " 2   entity      4000 non-null   object\n",
      " 3   answer      4000 non-null   object\n",
      " 4   contexts    4000 non-null   object\n",
      "dtypes: object(5)\n",
      "memory usage: 156.4+ KB\n",
      "None\n",
      "                               q_id  \\\n",
      "0  reverse-http://schema.org/leader   \n",
      "1  reverse-http://schema.org/leader   \n",
      "2  reverse-http://schema.org/leader   \n",
      "3  reverse-http://schema.org/leader   \n",
      "4  reverse-http://schema.org/leader   \n",
      "\n",
      "                                   query_form               entity  \\\n",
      "0  Q: Is {entity} the leader of {answer}?\\nA:     (Étienne Blanc,)   \n",
      "1  Q: Is {entity} the leader of {answer}?\\nA:  (Laurent Wauquiez,)   \n",
      "2  Q: Is {entity} the leader of {answer}?\\nA:     (Bernard Piras,)   \n",
      "3  Q: Is {entity} the leader of {answer}?\\nA:   (Imelda Dimaporo,)   \n",
      "4  Q: Is {entity} the leader of {answer}?\\nA:      (Jakob Jensen,)   \n",
      "\n",
      "                 answer                                           contexts  \n",
      "0     Divonne-les-Bains  [Xiaohui Zhao is the leader of Ahmedabad.\\n, Q...  \n",
      "1  Auvergne-Rhône-Alpes  [Xiaohui Zhao is the leader of Ahmedabad.\\n, Q...  \n",
      "2     Bourg-lès-Valence  [Xiaohui Zhao is the leader of Ahmedabad.\\n, Q...  \n",
      "3       Lanao del Norte  [Xiaohui Zhao is the leader of Ahmedabad.\\n, Q...  \n",
      "4   Aarhus Municipality  [Xiaohui Zhao is the leader of Ahmedabad.\\n, Q...  \n"
     ]
    }
   ],
   "source": [
    "qe_df = cc.get_contexts_per_query_entity_df()\n",
    "print(qe_df.info())\n",
    "print(qe_df.head())"
   ]
  },
  {
   "cell_type": "code",
   "execution_count": 4,
   "metadata": {},
   "outputs": [
    {
     "name": "stdout",
     "output_type": "stream",
     "text": [
      "<class 'pandas.core.frame.DataFrame'>\n",
      "RangeIndex: 200 entries, 0 to 199\n",
      "Data columns (total 4 columns):\n",
      " #   Column      Non-Null Count  Dtype \n",
      "---  ------      --------------  ----- \n",
      " 0   q_id        200 non-null    object\n",
      " 1   query_form  200 non-null    object\n",
      " 2   context     200 non-null    object\n",
      " 3   entities    200 non-null    object\n",
      "dtypes: object(4)\n",
      "memory usage: 6.4+ KB\n",
      "None\n",
      "                               q_id  \\\n",
      "0  reverse-http://schema.org/leader   \n",
      "1  reverse-http://schema.org/leader   \n",
      "2  reverse-http://schema.org/leader   \n",
      "3  reverse-http://schema.org/leader   \n",
      "4  reverse-http://schema.org/leader   \n",
      "\n",
      "                                   query_form  \\\n",
      "0  Q: Is {entity} the leader of {answer}?\\nA:   \n",
      "1  Q: Is {entity} the leader of {answer}?\\nA:   \n",
      "2  Q: Is {entity} the leader of {answer}?\\nA:   \n",
      "3  Q: Is {entity} the leader of {answer}?\\nA:   \n",
      "4  Q: Is {entity} the leader of {answer}?\\nA:   \n",
      "\n",
      "                                             context  \\\n",
      "0         Xiaohui Zhao is the leader of Ahmedabad.\\n   \n",
      "1       Quincy Pellegrino is the leader of Hainan.\\n   \n",
      "2            Wang Qunbin is the leader of Finland.\\n   \n",
      "3  Orson McGill is the leader of Kansas City Sout...   \n",
      "4  Zakariya Azizi is the leader of Agricultural U...   \n",
      "\n",
      "                                            entities  \n",
      "0  [(Étienne Blanc,), (Laurent Wauquiez,), (Berna...  \n",
      "1  [(Étienne Blanc,), (Laurent Wauquiez,), (Berna...  \n",
      "2  [(Étienne Blanc,), (Laurent Wauquiez,), (Berna...  \n",
      "3  [(Étienne Blanc,), (Laurent Wauquiez,), (Berna...  \n",
      "4  [(Étienne Blanc,), (Laurent Wauquiez,), (Berna...  \n"
     ]
    }
   ],
   "source": [
    "qc_df = cc.get_entities_per_query_context_df()\n",
    "print(qc_df.info())\n",
    "print(qc_df.head())\n"
   ]
  },
  {
   "cell_type": "code",
   "execution_count": 5,
   "metadata": {},
   "outputs": [
    {
     "name": "stderr",
     "output_type": "stream",
     "text": [
      "/home/kevin/mambaforge/envs/measurelm2/lib/python3.10/site-packages/tqdm/auto.py:21: TqdmWarning: IProgress not found. Please update jupyter and ipywidgets. See https://ipywidgets.readthedocs.io/en/stable/user_install.html\n",
      "  from .autonotebook import tqdm as notebook_tqdm\n",
      "/home/kevin/mambaforge/envs/measurelm2/lib/python3.10/site-packages/torch/cuda/__init__.py:107: UserWarning: CUDA initialization: CUDA unknown error - this may be due to an incorrectly set up environment, e.g. changing env variable CUDA_VISIBLE_DEVICES after program start. Setting the available devices to be zero. (Triggered internally at /home/conda/feedstock_root/build_artifacts/pytorch-recipe_1696770056690/work/c10/cuda/CUDAFunctions.cpp:109.)\n",
      "  return torch._C._cuda_getDeviceCount() > 0\n"
     ]
    },
    {
     "name": "stdout",
     "output_type": "stream",
     "text": [
      "Setting model.config.pad_token_id to model.config.eos_token_id\n"
     ]
    }
   ],
   "source": [
    "from transformers import GPTNeoXForCausalLM, AutoTokenizer\n",
    "import torch\n",
    "\n",
    "MODEL_ID = \"EleutherAI/pythia-70m-deduped\"\n",
    "LOAD_IN_8BIT = False\n",
    "device = torch.device(\"cuda\" if torch.cuda.is_available() else \"cpu\")\n",
    "\n",
    "try:\n",
    "    model = GPTNeoXForCausalLM.from_pretrained(\n",
    "        MODEL_ID, load_in_8bit=LOAD_IN_8BIT, device_map=\"auto\"\n",
    "    )\n",
    "except:\n",
    "    print(f\"Failed to load model {MODEL_ID} in 8-bit. Attempting to load normally.\")\n",
    "    model = GPTNeoXForCausalLM.from_pretrained(\n",
    "        MODEL_ID,\n",
    "        load_in_8bit=False,\n",
    "    ).to(device)\n",
    "\n",
    "tokenizer = AutoTokenizer.from_pretrained(\n",
    "    MODEL_ID,\n",
    "    padding_side=\"left\",\n",
    ")\n",
    "\n",
    "if tokenizer.padding_side != \"left\":\n",
    "        raise ValueError(\n",
    "            f\"Expected tokenizer {tokenizer} to have padding side of `left` for batch generation, instead has padding side of `{tokenizer.padding_side}`. Please make sure you initialize the tokenizer to use left padding.\"\n",
    "        )\n",
    "\n",
    "if tokenizer.pad_token is None:\n",
    "    tokenizer.pad_token = tokenizer.eos_token\n",
    "\n",
    "if model.config.pad_token_id != model.config.eos_token_id:\n",
    "    print(\"Setting model.config.pad_token_id to model.config.eos_token_id\")\n",
    "    model.config.pad_token_id = model.config.eos_token_id"
   ]
  },
  {
   "cell_type": "code",
   "execution_count": 6,
   "metadata": {},
   "outputs": [],
   "source": [
    "from enum import Enum\n",
    "AnswerType = Enum(\"AnswerType\", [\"ORIGINAL\", \"CONTEXT\", \"OTHER\"])"
   ]
  },
  {
   "cell_type": "code",
   "execution_count": 7,
   "metadata": {},
   "outputs": [],
   "source": [
    "row = qe_df.iloc[0]\n",
    "queries = [format_query(row[\"query_form\"], row[\"entity\"], context, answer=row[\"answer\"]) for context in row[\"contexts\"]] # shape: (len(contexts),)\n",
    "# tokens = tokenizer(\n",
    "#     queries,\n",
    "#     padding=True,\n",
    "#     return_tensors=\"pt\",\n",
    "# ).to(model.device)\n",
    "# max_output_length = 8\n",
    "# output_tokens = model.generate(**tokens, max_length=len(tokens[\"input_ids\"][0]) + max_output_length)[:, -max_output_length:]\n",
    "# output_tokens.shape\n",
    "# outputs = tokenizer.batch_decode(output_tokens[:, -max_output_length:]) # shape: (len(contexts),)\n"
   ]
  },
  {
   "cell_type": "code",
   "execution_count": 75,
   "metadata": {},
   "outputs": [],
   "source": [
    "def is_answer_original_or_context(output, original_answer, context_answer):\n",
    "    if output.strip().startswith(original_answer):\n",
    "        return \"original_answer\"\n",
    "    elif output.strip().startswith(context_answer):\n",
    "        return \"context_answer\"\n",
    "    else:\n",
    "        return \"other\""
   ]
  },
  {
   "cell_type": "code",
   "execution_count": 70,
   "metadata": {},
   "outputs": [
    {
     "data": {
      "text/plain": [
       "'reverse-http://schema.org/leader'"
      ]
     },
     "execution_count": 70,
     "metadata": {},
     "output_type": "execute_result"
    }
   ],
   "source": [
    "row[\"q_id\"]"
   ]
  },
  {
   "cell_type": "code",
   "execution_count": 21,
   "metadata": {},
   "outputs": [
    {
     "data": {
      "text/plain": [
       "['the Stanishev Cabinet', 'Innlandet', 'Hainan']"
      ]
     },
     "execution_count": 21,
     "metadata": {},
     "output_type": "execute_result"
    }
   ],
   "source": [
    "import re\n",
    "def construct_regex_pattern_for_entity_and_answer(template):\n",
    "    # Patterns for entity and answer placeholders\n",
    "    entity_pattern = r\"(?:.+)\" # non matching group\n",
    "    answer_pattern = r\"(.*?)\" # matching group\n",
    "    \n",
    "    # Escape special characters in the template, then replace placeholders\n",
    "    template_escaped = re.escape(template)\n",
    "    template_with_patterns = template_escaped.replace(\"\\\\{entity\\\\}\", entity_pattern).replace(\"\\\\{answer\\\\}\", answer_pattern)\n",
    "    \n",
    "    # The final regex pattern captures the answer\n",
    "    regex_pattern = template_with_patterns + r\"(?=\\.\\n|$)\"\n",
    "    return regex_pattern\n",
    "\n",
    "# Example template and sentences to test\n",
    "template_with_answer = \"{entity} is the leader of {answer}.\\n\"\n",
    "sentences_with_answer = [\n",
    "    \"Nandita Bose is the leader of the Stanishev Cabinet.\\n\",\n",
    "    \"Prue Hackett is the leader of Innlandet.\\n\",\n",
    "    \"Amintore Fanfani is the leader of Hainan.\\n\",\n",
    "]\n",
    "\n",
    "# Execute the updated function and extract matches\n",
    "matches_with_answer = []\n",
    "regex_pattern_with_answer = construct_regex_pattern_for_entity_and_answer(template_with_answer)\n",
    "for sentence in sentences_with_answer:\n",
    "    match = re.search(regex_pattern_with_answer, sentence)\n",
    "    if match:\n",
    "        matches_with_answer.append(match.group(1))  # group(1) corresponds to the {answer} capture\n",
    "    else:\n",
    "        matches_with_answer.append(\"No match found\")\n",
    "\n",
    "matches_with_answer\n"
   ]
  },
  {
   "cell_type": "code",
   "execution_count": 22,
   "metadata": {},
   "outputs": [
    {
     "data": {
      "text/plain": [
       "['Ahmedabad',\n",
       " 'Hainan',\n",
       " 'Finland',\n",
       " 'Kansas City Southern',\n",
       " 'Agricultural University of Berlin',\n",
       " 'Université de Montréal',\n",
       " 'Morelábor',\n",
       " 'Médecins Sans Frontières',\n",
       " 'Southwest Papua',\n",
       " 'Inca Empire',\n",
       " 'Beijing',\n",
       " 'East Francia',\n",
       " 'Montevideo Department',\n",
       " 'East Francia',\n",
       " 'Kursk Oblast',\n",
       " 'Cabinet Santkohi',\n",
       " 'Nikšić Municipality',\n",
       " 'Nobel Prize Museum',\n",
       " 'Fosun International Limited',\n",
       " '2nd FitzGerald ministry',\n",
       " 'Andorra la Vella',\n",
       " 'Palau',\n",
       " 'Luhansk',\n",
       " 'Te Pāti Māori',\n",
       " 'Grand Paris',\n",
       " 'General Electric',\n",
       " 'College Board',\n",
       " 'Heilongjiang',\n",
       " 'Boulogne-Billancourt',\n",
       " 'Cazeneuve Ministry',\n",
       " 'MetLife',\n",
       " 'The Catholic University of America',\n",
       " 'Second Lubbers cabinet',\n",
       " \"Alexander Stubb's cabinet\",\n",
       " 'Commonwealth realm of Uganda',\n",
       " 'Cagnes-sur-Mer',\n",
       " 'Yanka Kupala National Academic Theatre',\n",
       " 'Cabinet of Hassan Diab',\n",
       " 'Fukui Prefecture',\n",
       " \"Dunkin' Brands\",\n",
       " 'Municipio Libertador',\n",
       " 'Anguilla',\n",
       " 'Raykov Government',\n",
       " 'WEHCO Media',\n",
       " 'Norderstedt',\n",
       " 'Publicis',\n",
       " 'Oscorp',\n",
       " 'Finnish Democratic Republic',\n",
       " 'Salah Zulfikar Films',\n",
       " \"Dmitry Medvedev's Cabinet\",\n",
       " 'Norderstedt',\n",
       " 'Second Yamamoto Cabinet',\n",
       " 'Te Pāti Māori',\n",
       " 'Nederlandse Spoorwegen',\n",
       " 'As Pontes de García Rodríguez',\n",
       " 'Carpatho-Ukraine',\n",
       " 'Davao City',\n",
       " 'Open Knowledge Foundation',\n",
       " 'CdZ-Gebiet Lothringen',\n",
       " 'De Jong cabinet',\n",
       " 'Altenau',\n",
       " 'Fairphone',\n",
       " 'Sagintayev Cabinet',\n",
       " 'Vatican City',\n",
       " 'Lithuania',\n",
       " \"Pehr Evind Svinhufvud's second cabinet\",\n",
       " 'Westfield Corporation',\n",
       " 'Second Van Agt cabinet',\n",
       " 'Chambourcy',\n",
       " 'Nikšić Municipality',\n",
       " 'Montevideo Department',\n",
       " 'Forster ministry (1859–60)',\n",
       " 'Roman Catholic Diocese of Lleida',\n",
       " 'Cabinet of Tammam Salam',\n",
       " 'iStock',\n",
       " 'Erste Group',\n",
       " 'Kaohsiung County',\n",
       " 'Kingdom of Romania under Fascism',\n",
       " 'Czechoslovakia',\n",
       " 'Cabinet of Jadranka Kosor',\n",
       " 'Yuri Gagarin Cosmonaut Training Center',\n",
       " 'Bethesda Softworks',\n",
       " 'Pankow',\n",
       " 'Second Faymann cabinet',\n",
       " 'Aarhus Municipality',\n",
       " 'Kaohsiung County',\n",
       " 'Government of the Constituent Legislature of Spain',\n",
       " 'Maranhão',\n",
       " 'Jonava',\n",
       " 'South Gyeongsang',\n",
       " 'Carpatho-Ukraine',\n",
       " 'Rama Government',\n",
       " 'Maldives',\n",
       " 'Cabinet Schwerin von Krosigk',\n",
       " 'Corteva',\n",
       " \"Norwegian Players' Association\",\n",
       " 'Leonardo',\n",
       " 'Kraft Heinz',\n",
       " 'Fairphone',\n",
       " 'Atlanta']"
      ]
     },
     "execution_count": 22,
     "metadata": {},
     "output_type": "execute_result"
    }
   ],
   "source": [
    "import re\n",
    "\n",
    "def construct_regex_pattern_for_template_general(template):\n",
    "    # Directly replace '{entity}' with a regex pattern that matches any series of word characters and spaces\n",
    "    entity_pattern = r\"[\\w\\s]+\"\n",
    "    # Escape special characters in the template, then replace '{entity}' placeholder\n",
    "    template_escaped = re.escape(template).replace(\"\\\\{entity\\\\}\", entity_pattern)\n",
    "    # Adjust the regex pattern to capture everything up to \".\\n\"\n",
    "    regex_pattern = template_escaped + r\" (.*?)(?=\\.\\n)\"\n",
    "    return regex_pattern\n",
    "\n",
    "def extract_answer(query_template: str, sentence: str, regex_constructor):\n",
    "    regex_pattern_corrected = regex_constructor(query_template)\n",
    "    match = re.search(regex_pattern_corrected, sentence)\n",
    "    if match:\n",
    "        return match.group(1)\n",
    "    \n",
    "    print(\"No match found ahhh\", sentence)\n",
    "    return None\n",
    "\n",
    "import json\n",
    "with open(\"../data/YagoECQ/yago_qec.json\", \"rb\") as f:\n",
    "    yago_qec = json.load(f)\n",
    "    \n",
    "answers = [extract_answer(yago_qec[row[\"q_id\"]][\"context_templates\"][\"base\"], c, construct_regex_pattern_for_entity_and_answer) for c in row[\"contexts\"]]\n",
    "# answers = [extract_answer(yago_qec[row[\"q_id\"]][\"query_forms\"][\"open\"][1], c, construct_regex_pattern_for_template_general) for c in row[\"contexts\"]]\n",
    "answers"
   ]
  },
  {
   "cell_type": "code",
   "execution_count": 76,
   "metadata": {},
   "outputs": [
    {
     "data": {
      "text/plain": [
       "['original_answer',\n",
       " 'original_answer',\n",
       " 'original_answer',\n",
       " 'original_answer',\n",
       " 'original_answer',\n",
       " 'original_answer',\n",
       " 'original_answer',\n",
       " 'original_answer',\n",
       " 'original_answer',\n",
       " 'original_answer',\n",
       " 'original_answer',\n",
       " 'original_answer',\n",
       " 'original_answer',\n",
       " 'original_answer',\n",
       " 'original_answer',\n",
       " 'original_answer',\n",
       " 'original_answer',\n",
       " 'original_answer',\n",
       " 'original_answer',\n",
       " 'original_answer',\n",
       " 'original_answer',\n",
       " 'original_answer',\n",
       " 'original_answer',\n",
       " 'original_answer',\n",
       " 'original_answer',\n",
       " 'other',\n",
       " 'original_answer',\n",
       " 'original_answer',\n",
       " 'original_answer',\n",
       " 'other',\n",
       " 'original_answer',\n",
       " 'original_answer',\n",
       " 'original_answer',\n",
       " 'other',\n",
       " 'original_answer',\n",
       " 'original_answer',\n",
       " 'original_answer',\n",
       " 'original_answer',\n",
       " 'original_answer',\n",
       " 'original_answer',\n",
       " 'other',\n",
       " 'original_answer',\n",
       " 'original_answer',\n",
       " 'original_answer',\n",
       " 'original_answer',\n",
       " 'other',\n",
       " 'original_answer',\n",
       " 'original_answer',\n",
       " 'original_answer',\n",
       " 'original_answer',\n",
       " 'original_answer',\n",
       " 'original_answer',\n",
       " 'original_answer',\n",
       " 'original_answer',\n",
       " 'other',\n",
       " 'original_answer',\n",
       " 'original_answer',\n",
       " 'original_answer',\n",
       " 'original_answer',\n",
       " 'original_answer',\n",
       " 'original_answer',\n",
       " 'original_answer',\n",
       " 'original_answer',\n",
       " 'original_answer',\n",
       " 'original_answer',\n",
       " 'original_answer',\n",
       " 'original_answer',\n",
       " 'original_answer',\n",
       " 'original_answer',\n",
       " 'original_answer',\n",
       " 'original_answer',\n",
       " 'original_answer',\n",
       " 'original_answer',\n",
       " 'original_answer',\n",
       " 'original_answer',\n",
       " 'original_answer',\n",
       " 'other',\n",
       " 'original_answer',\n",
       " 'original_answer',\n",
       " 'original_answer',\n",
       " 'original_answer',\n",
       " 'original_answer',\n",
       " 'original_answer',\n",
       " 'original_answer',\n",
       " 'original_answer',\n",
       " 'original_answer',\n",
       " 'original_answer',\n",
       " 'original_answer',\n",
       " 'original_answer',\n",
       " 'original_answer',\n",
       " 'original_answer',\n",
       " 'original_answer',\n",
       " 'original_answer',\n",
       " 'original_answer',\n",
       " 'original_answer',\n",
       " 'original_answer',\n",
       " 'original_answer',\n",
       " 'original_answer',\n",
       " 'original_answer',\n",
       " 'original_answer']"
      ]
     },
     "execution_count": 76,
     "metadata": {},
     "output_type": "execute_result"
    }
   ],
   "source": [
    "og_or_ctx_answers = [\n",
    "    is_answer_original_or_context(\n",
    "        output, \n",
    "        \"Yes\" if \"{answer}\" in row[\"query_form\"] else row[\"entity\"][0], \n",
    "        \"No\" if \"{answer}\" in row[\"query_form\"] else answers[i], \n",
    "    ) \n",
    "    for i, output in enumerate(outputs)\n",
    "]\n",
    "og_or_ctx_answers"
   ]
  },
  {
   "cell_type": "code",
   "execution_count": 46,
   "metadata": {},
   "outputs": [
    {
     "name": "stdout",
     "output_type": "stream",
     "text": [
      "/home/kevin/code/rycolab/measureLM/preprocessing\n"
     ]
    },
    {
     "name": "stderr",
     "output_type": "stream",
     "text": [
      "huggingface/tokenizers: The current process just got forked, after parallelism has already been used. Disabling parallelism to avoid deadlocks...\n",
      "To disable this warning, you can either:\n",
      "\t- Avoid using `tokenizers` before the fork if possible\n",
      "\t- Explicitly set the environment variable TOKENIZERS_PARALLELISM=(true | false)\n"
     ]
    }
   ],
   "source": [
    "!pwd"
   ]
  },
  {
   "cell_type": "code",
   "execution_count": 48,
   "metadata": {},
   "outputs": [],
   "source": [
    "import json\n",
    "with open(\"../data/YagoECQ/yago_qec.json\", \"rb\") as f:\n",
    "    yago_qec = json.load(f)"
   ]
  },
  {
   "cell_type": "code",
   "execution_count": 54,
   "metadata": {},
   "outputs": [
    {
     "data": {
      "text/plain": [
       "'{entity} is the leader of'"
      ]
     },
     "execution_count": 54,
     "metadata": {},
     "output_type": "execute_result"
    }
   ],
   "source": [
    "yago_qec[row[\"q_id\"]][\"query_forms\"][\"open\"][1]"
   ]
  },
  {
   "cell_type": "code",
   "execution_count": null,
   "metadata": {},
   "outputs": [],
   "source": []
  }
 ],
 "metadata": {
  "kernelspec": {
   "display_name": "measurelm2",
   "language": "python",
   "name": "python3"
  },
  "language_info": {
   "codemirror_mode": {
    "name": "ipython",
    "version": 3
   },
   "file_extension": ".py",
   "mimetype": "text/x-python",
   "name": "python",
   "nbconvert_exporter": "python",
   "pygments_lexer": "ipython3",
   "version": "3.10.13"
  }
 },
 "nbformat": 4,
 "nbformat_minor": 2
}
