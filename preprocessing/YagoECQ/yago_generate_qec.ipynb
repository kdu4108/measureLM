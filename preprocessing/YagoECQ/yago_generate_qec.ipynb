{
 "cells": [
  {
   "cell_type": "markdown",
   "metadata": {},
   "source": [
    "# Generate the YAGO-Query-Entity-Contexts (YagoQEC) Dataset"
   ]
  },
  {
   "cell_type": "code",
   "execution_count": 1,
   "metadata": {},
   "outputs": [],
   "source": [
    "%load_ext autoreload\n",
    "%autoreload 2\n",
    "%load_ext lab_black"
   ]
  },
  {
   "cell_type": "code",
   "execution_count": 2,
   "metadata": {},
   "outputs": [
    {
     "name": "stdout",
     "output_type": "stream",
     "text": [
      "/cluster/work/cotterell/kdu/measureLM/preprocessing/YagoECQ\n"
     ]
    }
   ],
   "source": [
    "!pwd"
   ]
  },
  {
   "cell_type": "code",
   "execution_count": 3,
   "metadata": {},
   "outputs": [
    {
     "name": "stderr",
     "output_type": "stream",
     "text": [
      "/scratch/tmp.52653614.kevidu/ipykernel_95343/2106404295.py:13: DeprecationWarning: \n",
      "Pyarrow will become a required dependency of pandas in the next major release of pandas (pandas 3.0),\n",
      "(to allow more performant data types, such as the Arrow string type, and better interoperability with other libraries)\n",
      "but was not found to be installed on your system.\n",
      "If this would cause problems for you,\n",
      "please provide us feedback at https://github.com/pandas-dev/pandas/issues/54466\n",
      "        \n",
      "  import pandas as pd\n"
     ]
    }
   ],
   "source": [
    "from collections import namedtuple\n",
    "import os\n",
    "import itertools\n",
    "import json\n",
    "import random\n",
    "import re\n",
    "import time\n",
    "from tqdm import tqdm\n",
    "from typing import List, Dict, Tuple\n",
    "from urllib.error import HTTPError\n",
    "\n",
    "import numpy as np\n",
    "import pandas as pd\n",
    "from SPARQLWrapper import SPARQLWrapper2\n",
    "from SPARQLWrapper.SPARQLExceptions import EndPointInternalError\n",
    "from utils import extract_name_from_yago_uri, negate_template, lowercase_first_letter"
   ]
  },
  {
   "cell_type": "code",
   "execution_count": 4,
   "metadata": {},
   "outputs": [],
   "source": [
    "def set_seed(seed=0):\n",
    "    random.seed(seed)\n",
    "    np.random.seed(seed)\n",
    "\n",
    "\n",
    "set_seed(0)"
   ]
  },
  {
   "cell_type": "code",
   "execution_count": 5,
   "metadata": {},
   "outputs": [],
   "source": [
    "Predicate = namedtuple(\"Predicate\", [\"uri\", \"kb_name\", \"relation\"])\n",
    "DATA_ROOT = \"../../data/YagoECQ/\"\n",
    "PRED_URI_TO_S_OBJ_CLASSES_PATH = os.path.join(\n",
    "    DATA_ROOT, \"yago_pred_uri_to_s_obj_classes.json\"\n",
    ")\n",
    "PRED_URI_TO_SO_PAIRS_PATH = os.path.join(\n",
    "    DATA_ROOT, \"yago_pred_uri_to_so_pairs_randomized_1k.json\"\n",
    ")\n",
    "YAGO_QEC_PATH = os.path.join(DATA_ROOT, \"yago_qec.json\")\n",
    "TRY_QUERYING_MISSING_PREDS = False"
   ]
  },
  {
   "cell_type": "markdown",
   "metadata": {},
   "source": [
    "### 1. Get all relevant predicates from Yago"
   ]
  },
  {
   "cell_type": "code",
   "execution_count": 6,
   "metadata": {},
   "outputs": [],
   "source": [
    "##################################\n",
    "# 1. Get all relevant predicates #\n",
    "##################################\n",
    "sparql = SPARQLWrapper2(\"https://yago-knowledge.org/sparql/query\")\n",
    "query_p = \"\"\"\n",
    "    SELECT DISTINCT ?p WHERE {\n",
    "     ?s ?p ?obj . \n",
    "    }  ORDER BY ?p\n",
    "\"\"\"\n",
    "\n",
    "# Sparql query\n",
    "sparql.setQuery(query_p)\n",
    "\n",
    "# Adding values\n",
    "relevant_preds: List[Predicate] = []\n",
    "ineligible_relations = [\"schema#fromClass\", \"schema#fromProperty\", \"logo\", \"image\"]\n",
    "\n",
    "for result in sparql.query().bindings:\n",
    "    uri = result[\"p\"].value\n",
    "    kb_name, relation = extract_name_from_yago_uri(uri)\n",
    "    if kb_name != \"w3\" and relation not in ineligible_relations:\n",
    "        relevant_preds.append(Predicate(uri=uri, kb_name=kb_name, relation=relation))"
   ]
  },
  {
   "cell_type": "code",
   "execution_count": 7,
   "metadata": {},
   "outputs": [
    {
     "data": {
      "text/plain": [
       "[Predicate(uri='http://schema.org/about', kb_name='schema', relation='about'),\n",
       " Predicate(uri='http://schema.org/actor', kb_name='schema', relation='actor'),\n",
       " Predicate(uri='http://schema.org/address', kb_name='schema', relation='address')]"
      ]
     },
     "execution_count": 7,
     "metadata": {},
     "output_type": "execute_result"
    }
   ],
   "source": [
    "relevant_preds[:3]"
   ]
  },
  {
   "cell_type": "code",
   "execution_count": 8,
   "metadata": {
    "tags": []
   },
   "outputs": [
    {
     "name": "stdout",
     "output_type": "stream",
     "text": [
      "Loading pred_to_s_and_obj_types from file ../../data/YagoECQ/yago_pred_uri_to_s_obj_classes.json.\n"
     ]
    }
   ],
   "source": [
    "###########################################################\n",
    "# 1b. Get all subject and object types for each predicate #\n",
    "###########################################################\n",
    "from SPARQLWrapper.SPARQLExceptions import QueryBadFormed\n",
    "from collections import Counter\n",
    "\n",
    "query_single = \"\"\"\n",
    "    SELECT DISTINCT ?s ?obj WHERE {{\n",
    "     ?s <{}> ?obj . \n",
    "    }}  LIMIT 100\n",
    "\"\"\"\n",
    "query_superclasses = \"\"\"\n",
    "    SELECT DISTINCT ?superclasses WHERE {{\n",
    "     <{}> rdf:type/rdfs:subClassOf* ?superclasses .\n",
    "    }}  \n",
    "\"\"\"\n",
    "\n",
    "types = [\n",
    "    \"http://schema.org/CreativeWork\",\n",
    "    \"http://schema.org/Event\",\n",
    "    \"http://schema.org/Intangible\",\n",
    "    \"http://schema.org/Organization\",\n",
    "    \"http://schema.org/Person\",\n",
    "    \"http://schema.org/Place\",\n",
    "    \"http://schema.org/Product\",\n",
    "    \"http://schema.org/Taxon\",\n",
    "    \"http://schema.org/FictionalEntity\",\n",
    "]  # Extracted from https://yago-knowledge.org/schema\n",
    "\n",
    "if os.path.exists(PRED_URI_TO_S_OBJ_CLASSES_PATH):\n",
    "    print(\n",
    "        f\"Loading pred_to_s_and_obj_types from file {PRED_URI_TO_S_OBJ_CLASSES_PATH}.\"\n",
    "    )\n",
    "    with open(PRED_URI_TO_S_OBJ_CLASSES_PATH, \"r\") as f:\n",
    "        pred_to_s_and_obj_types_with_reverse = json.load(f)\n",
    "else:\n",
    "    pred_to_s_and_obj_types = dict()\n",
    "    for pred in tqdm(relevant_preds):\n",
    "        concrete_query_single = query_single.format(pred.uri)\n",
    "        # print(query)\n",
    "        sparql.setQuery(concrete_query_single)\n",
    "        superclasses_s = []\n",
    "        superclasses_obj = []\n",
    "        for result in sparql.query().bindings:\n",
    "            s = result[\"s\"].value\n",
    "            obj = result[\"obj\"].value\n",
    "            try:\n",
    "                concrete_query_superclasses_s = query_superclasses.format(s)\n",
    "                sparql.setQuery(concrete_query_superclasses_s)\n",
    "                superclasses_s += [\n",
    "                    x[\"superclasses\"].value for x in sparql.query().bindings\n",
    "                ]\n",
    "            except QueryBadFormed as e:\n",
    "                print(\"Raising error for s:\", s)\n",
    "                # raise ValueError\n",
    "            try:\n",
    "                concrete_query_superclasses_obj = query_superclasses.format(obj)\n",
    "                sparql.setQuery(concrete_query_superclasses_obj)\n",
    "                superclasses_obj += [\n",
    "                    x[\"superclasses\"].value for x in sparql.query().bindings\n",
    "                ]\n",
    "            except QueryBadFormed:\n",
    "                print(\"Raising error for obj:\", obj)\n",
    "                # raise ValueError\n",
    "\n",
    "        s_counter, obj_counter = Counter(superclasses_s), Counter(superclasses_obj)\n",
    "\n",
    "        s_counter = Counter({k: v for k, v in s_counter.items() if k in types})\n",
    "        s_counter = {k: v / s_counter.total() for k, v in s_counter.items()}\n",
    "        obj_counter = Counter({k: v for k, v in obj_counter.items() if k in types})\n",
    "        obj_counter = {k: v / obj_counter.total() for k, v in obj_counter.items()}\n",
    "\n",
    "        pred_to_s_and_obj_types[pred] = (s_counter, obj_counter)\n",
    "\n",
    "    pred_to_s_and_obj_types = {\n",
    "        k.uri: (s_counter, obj_counter)\n",
    "        for k, (s_counter, obj_counter) in pred_to_s_and_obj_types.items()\n",
    "    }\n",
    "    pred_to_s_and_obj_types_with_reverse = {\n",
    "        **pred_to_s_and_obj_types,\n",
    "        **{\n",
    "            f\"reverse-{k}\": (obj_counter, s_counter)\n",
    "            for k, (s_counter, obj_counter) in pred_to_s_and_obj_types.items()\n",
    "        },\n",
    "    }\n",
    "\n",
    "with open(PRED_URI_TO_S_OBJ_CLASSES_PATH, \"w\", encoding=\"utf-8\") as fp:\n",
    "    json.dump(pred_to_s_and_obj_types_with_reverse, fp, ensure_ascii=False, indent=4)"
   ]
  },
  {
   "cell_type": "markdown",
   "metadata": {},
   "source": [
    "### 2. Extract all subject-object pairs for each predicate"
   ]
  },
  {
   "cell_type": "code",
   "execution_count": 9,
   "metadata": {},
   "outputs": [],
   "source": [
    "#######################################################################\n",
    "# 2. Extract all subject-object pairs for each pred in relevant preds #\n",
    "#######################################################################\n",
    "def get_so_pairs_for_pred(pred: Predicate) -> List[Tuple[str, str, str, str]]:\n",
    "    start_time = time.time()\n",
    "    print(f\"Querying {pred.uri}.\")\n",
    "    so_pairs = []\n",
    "\n",
    "    query = \"\"\"\n",
    "SELECT DISTINCT ?output_s ?output_obj ?s ?obj WHERE {{\n",
    "  ?s <{}> ?obj . # which predicate to use\n",
    "  OPTIONAL {{ \n",
    "    ?s rdfs:label ?s_label .\n",
    "    FILTER (LANG(?s_label) = 'en')\n",
    "  }} # Get the label (name) for the subject if it exists\n",
    "  BIND(COALESCE(?s_label, ?s) AS ?output_s) # if the label does not exist, stick with the URI\n",
    "  \n",
    "  OPTIONAL {{\n",
    "    ?obj rdfs:label ?obj_label . \n",
    "    FILTER (LANG(?obj_label) = 'en')\n",
    "  }} # Get the label (name) for the object if it exists\n",
    "  OPTIONAL {{\n",
    "    ?obj rdf:type ?obj_type . \n",
    "    ?obj_type rdfs:label ?obj_type_name .\n",
    "    FILTER (LANG(?obj_type_name) = 'en')\n",
    "  }} # get the name of the type for the object if the type exists\n",
    "  BIND(COALESCE(IF(STR(?obj_label) != \"Generic instance\", ?obj_label, ?obj_type_name), ?obj) AS ?output_obj) \n",
    "  # if the label exists, go with the label, but if it's \"Generic instance\", then go with the type; if that does not exist, then stick with the OG object.\n",
    "  BIND(MD5(CONCAT(STR(?s), STR(?obj))) AS ?sortkey) .\n",
    "}}\n",
    "ORDER BY ?sortkey\n",
    "LIMIT 1000\n",
    "\"\"\".format(\n",
    "        pred.uri\n",
    "    )\n",
    "\n",
    "    try:\n",
    "        sparql.setQuery(query)\n",
    "        for result in sparql.query().bindings:\n",
    "            so_pairs.append(\n",
    "                (\n",
    "                    result[\"output_s\"].value,\n",
    "                    result[\"output_obj\"].value,\n",
    "                    result[\"s\"].value,\n",
    "                    result[\"obj\"].value,\n",
    "                )\n",
    "            )\n",
    "    # sleep(1)\n",
    "    except (HTTPError, EndPointInternalError) as e:\n",
    "        print(f\"HTTPerror for uri {pred.uri}. Trying chained query.\")\n",
    "        so_pairs = get_so_pairs_for_pred_chained(pred)\n",
    "    finally:\n",
    "        time_elapsed = time.time() - start_time\n",
    "        print(f\"Time elapsed: {time_elapsed}\")\n",
    "        return so_pairs\n",
    "\n",
    "\n",
    "def get_so_pairs_for_pred_chained(pred: Predicate) -> List[Tuple[str, str, str, str]]:\n",
    "    start_time = time.time()\n",
    "    print(f\"Querying {pred.uri} (chained).\")\n",
    "    so_pairs = []\n",
    "\n",
    "    query = \"\"\"\n",
    "SELECT DISTINCT ?s ?o WHERE {{\n",
    "    ?s <{}> ?o\n",
    "    BIND(MD5(CONCAT(STR(?s), STR(?o))) AS ?sortkey) .\n",
    "}}\n",
    "ORDER BY ?sortkey\n",
    "LIMIT 1000\n",
    "\"\"\".format(\n",
    "        pred.uri\n",
    "    )\n",
    "\n",
    "    query_get_name_of_obj = \"\"\"\n",
    "SELECT DISTINCT ?output_obj WHERE {{\n",
    "    OPTIONAL {{\n",
    "      <{0}> rdfs:label ?obj_label . \n",
    "      FILTER (LANG(?obj_label) = 'en')\n",
    "    }} # Get the label (name) for the object if it exists\n",
    "    OPTIONAL {{\n",
    "      <{0}> rdf:type ?obj_type . \n",
    "      ?obj_type rdfs:label ?obj_type_name .\n",
    "      FILTER (LANG(?obj_type_name) = 'en')\n",
    "    }} # get the name of the type for the object if the type exists\n",
    "    BIND(COALESCE(IF(STR(?obj_label) != \"Generic instance\", ?obj_label, ?obj_type_name), <{0}>) AS ?output_obj) \n",
    "}}  \n",
    "\"\"\"\n",
    "\n",
    "    try:\n",
    "        sparql.setQuery(query)\n",
    "        for result in sparql.query().bindings:\n",
    "            # print(result)\n",
    "            s_uri = result[\"s\"].value\n",
    "            o_uri = result[\"o\"].value\n",
    "            query_s = query_get_name_of_obj.format(s_uri)\n",
    "            sparql.setQuery(query_s)\n",
    "            res_s = sparql.query().bindings\n",
    "            if len(res_s) != 1:\n",
    "                raise ValueError(f\">1 label returned for subject {s_uri}: {res_s}\")\n",
    "            s_name = res_s[0][\"output_obj\"].value\n",
    "\n",
    "            query_obj = query_get_name_of_obj.format(o_uri)\n",
    "            sparql.setQuery(query_obj)\n",
    "            res_obj = sparql.query().bindings\n",
    "            if len(res_obj) != 1:\n",
    "                raise ValueError(f\">1 label returned for subject {o_uri}: {res_obj}\")\n",
    "            obj_name = res_obj[0][\"output_obj\"].value\n",
    "\n",
    "            so_pairs.append((s_name, obj_name, s_uri, o_uri))\n",
    "\n",
    "    # sleep(1)\n",
    "    except (HTTPError, EndPointInternalError) as e:\n",
    "        print(f\"HTTPerror for uri {pred.uri} when chaining. Skipping.\")\n",
    "        so_pairs = None\n",
    "    except Error as e:\n",
    "        print(e)\n",
    "    finally:\n",
    "        time_elapsed = time.time() - start_time\n",
    "        print(f\"Time elapsed: {time_elapsed}\")\n",
    "        return so_pairs"
   ]
  },
  {
   "cell_type": "code",
   "execution_count": 10,
   "metadata": {
    "tags": []
   },
   "outputs": [
    {
     "name": "stdout",
     "output_type": "stream",
     "text": [
      "Loading pred_uri_to_so_pairs from file ../../data/YagoECQ/yago_pred_uri_to_so_pairs_randomized_1k.json.\n"
     ]
    }
   ],
   "source": [
    "if os.path.exists(PRED_URI_TO_SO_PAIRS_PATH):\n",
    "    print(f\"Loading pred_uri_to_so_pairs from file {PRED_URI_TO_SO_PAIRS_PATH}.\")\n",
    "    with open(PRED_URI_TO_SO_PAIRS_PATH) as f:\n",
    "        pred_uri_to_so_pairs = json.load(f)\n",
    "else:\n",
    "    pred_to_so_pairs: Dict[Predicate, List[Tuple[str, str, str, str]]] = {\n",
    "        pred: get_so_pairs_for_pred(pred) for pred in tqdm(relevant_preds)\n",
    "    }\n",
    "    pred_to_so_pairs = {k: v for k, v in pred_to_so_pairs.items() if v is not None}\n",
    "    pred_uri_to_so_pairs = {\n",
    "        k.uri: v for k, v in pred_to_so_pairs.items() if v is not None\n",
    "    }\n",
    "\n",
    "if TRY_QUERYING_MISSING_PREDS:\n",
    "    missing_preds = [p for p in relevant_preds if p.uri not in pred_uri_to_so_pairs]\n",
    "    print(\"Missing preds:\", missing_preds)\n",
    "    missing_pred_to_so_pairs: Dict[Predicate, List[Tuple[str, str, str, str]]] = {\n",
    "        pred: get_so_pairs_for_pred(pred) for pred in tqdm(missing_preds)\n",
    "    }\n",
    "    missing_pred_to_so_pairs = {\n",
    "        k: v for k, v in missing_pred_to_so_pairs.items() if v is not None\n",
    "    }\n",
    "    missing_pred_uri_to_so_pairs = {\n",
    "        k.uri: v for k, v in missing_pred_to_so_pairs.items() if v is not None\n",
    "    }\n",
    "\n",
    "    pred_uri_to_so_pairs = {**missing_pred_uri_to_so_pairs, **pred_uri_to_so_pairs}\n",
    "\n",
    "with open(PRED_URI_TO_SO_PAIRS_PATH, \"w\", encoding=\"utf-8\") as fp:\n",
    "    json.dump(pred_uri_to_so_pairs, fp, ensure_ascii=False, indent=4)\n",
    "\n",
    "\n",
    "def augment_pred_uri_to_so_pairs_with_reverse(pred_uri_to_so_pairs):\n",
    "    return {\n",
    "        **pred_uri_to_so_pairs,\n",
    "        **{\n",
    "            f\"reverse-{k}\": [\n",
    "                (a_label, e_label, a_uri, e_uri)\n",
    "                for (e_label, a_label, e_uri, a_uri) in v\n",
    "            ]\n",
    "            for k, v in pred_uri_to_so_pairs.items()\n",
    "        },\n",
    "    }\n",
    "\n",
    "\n",
    "pred_uri_to_so_pairs_with_reverse = augment_pred_uri_to_so_pairs_with_reverse(\n",
    "    pred_uri_to_so_pairs\n",
    ")"
   ]
  },
  {
   "cell_type": "code",
   "execution_count": 11,
   "metadata": {},
   "outputs": [
    {
     "data": {
      "text/plain": [
       "{'http://schema.org/Place': 0.7518796992481203,\n",
       " 'http://schema.org/Organization': 0.24812030075187969}"
      ]
     },
     "execution_count": 11,
     "metadata": {},
     "output_type": "execute_result"
    }
   ],
   "source": [
    "# Check the distribution of entity types seems reasonable\n",
    "pred_to_s_and_obj_types_with_reverse[\"http://schema.org/highestPoint\"][0]"
   ]
  },
  {
   "cell_type": "markdown",
   "metadata": {},
   "source": [
    "### 3. Construct queries containing entities, corresponding answers, query forms, and context templates"
   ]
  },
  {
   "cell_type": "code",
   "execution_count": 12,
   "metadata": {
    "tags": []
   },
   "outputs": [
    {
     "name": "stdout",
     "output_type": "stream",
     "text": [
      "{'http://schema.org/author', 'http://schema.org/deathDate', 'reverse-http://yago-knowledge.org/resource/studentOf', 'http://schema.org/director', 'reverse-http://schema.org/author', 'http://yago-knowledge.org/resource/radialVelocity', 'http://yago-knowledge.org/resource/sportNumber', 'http://schema.org/dissolutionDate', 'reverse-http://yago-knowledge.org/resource/participant', 'reverse-http://yago-knowledge.org/resource/playsIn', 'reverse-http://schema.org/homeLocation', 'http://schema.org/icaoCode', 'reverse-http://schema.org/performer', 'http://schema.org/numberOfPages', 'http://schema.org/iswcCode', 'http://schema.org/editor', 'http://yago-knowledge.org/resource/length', 'http://yago-knowledge.org/resource/terminus', 'reverse-http://schema.org/leader', 'http://schema.org/duns', 'http://schema.org/url', 'http://schema.org/recordLabel', 'http://schema.org/parentTaxon', 'http://schema.org/nationality', 'http://schema.org/birthDate', 'http://yago-knowledge.org/resource/distanceFromEarth', 'http://schema.org/manufacturer', 'http://schema.org/children', 'http://schema.org/administrates', 'http://schema.org/material', 'http://schema.org/highestPoint', 'http://schema.org/illustrator', 'http://yago-knowledge.org/resource/studentsCount', 'reverse-http://schema.org/director', 'reverse-http://schema.org/memberOf', 'http://yago-knowledge.org/resource/candidateIn', 'http://yago-knowledge.org/resource/parentBody', 'reverse-http://schema.org/owns', 'http://schema.org/birthPlace', 'http://schema.org/affiliation', 'reverse-http://schema.org/actor', 'reverse-http://yago-knowledge.org/resource/doctoralAdvisor', 'http://schema.org/duration', 'http://yago-knowledge.org/resource/beliefSystem', 'reverse-http://schema.org/lyricist', 'http://schema.org/award', 'http://yago-knowledge.org/resource/notableWork', 'reverse-http://yago-knowledge.org/resource/director', 'http://yago-knowledge.org/resource/director', 'reverse-http://yago-knowledge.org/resource/conferredBy', 'reverse-http://schema.org/officialLanguage', 'http://schema.org/locationCreated', 'http://schema.org/performer', 'reverse-http://yago-knowledge.org/resource/replaces', 'http://schema.org/startDate', 'http://yago-knowledge.org/resource/follows', 'http://yago-knowledge.org/resource/participant', 'http://schema.org/ownedBy', 'http://schema.org/numberOfEmployees', 'http://schema.org/postalCode', 'reverse-http://schema.org/worksFor', 'reverse-http://schema.org/musicBy', 'reverse-http://yago-knowledge.org/resource/appearsIn', 'http://schema.org/organizer', 'http://schema.org/founder', 'http://schema.org/dateCreated', 'http://schema.org/about', 'http://schema.org/spouse', 'http://yago-knowledge.org/resource/capital', 'http://schema.org/alumniOf', 'http://schema.org/humanDevelopmentIndex', 'http://schema.org/inLanguage', 'http://yago-knowledge.org/resource/flowsInto', 'http://schema.org/endDate', 'reverse-http://schema.org/ownedBy', 'reverse-http://schema.org/illustrator', 'http://schema.org/numberOfEpisodes', 'http://schema.org/address', 'http://schema.org/gtin', 'reverse-http://schema.org/organizer', 'http://schema.org/knowsLanguage', 'http://schema.org/populationNumber', 'reverse-http://schema.org/sponsor', 'http://yago-knowledge.org/resource/doctoralAdvisor', 'http://schema.org/influencedBy', 'http://schema.org/officialLanguage', 'http://schema.org/owns', 'reverse-http://schema.org/manufacturer', 'reverse-http://yago-knowledge.org/resource/terminus', 'http://yago-knowledge.org/resource/consumes', 'http://schema.org/elevation', 'reverse-http://schema.org/parentTaxon', 'http://schema.org/lowestPoint', 'http://schema.org/memberOf', 'http://schema.org/actor', 'http://schema.org/musicBy', 'http://schema.org/sponsor', 'http://yago-knowledge.org/resource/mass', 'http://yago-knowledge.org/resource/studentOf', 'http://yago-knowledge.org/resource/appearsIn', 'reverse-http://schema.org/founder', 'reverse-http://yago-knowledge.org/resource/notableWork', 'http://schema.org/neighbors', 'http://yago-knowledge.org/resource/luminosity', 'reverse-http://yago-knowledge.org/resource/capital', 'http://yago-knowledge.org/resource/academicDegree', 'reverse-http://yago-knowledge.org/resource/consumes', 'http://schema.org/isbn', 'http://schema.org/lyricist', 'http://schema.org/motto', 'http://schema.org/demonym', 'http://schema.org/leader', 'http://schema.org/unemploymentRate', 'http://yago-knowledge.org/resource/conferredBy', 'http://schema.org/homeLocation', 'http://schema.org/iataCode', 'http://schema.org/numberOfSeasons', 'reverse-http://yago-knowledge.org/resource/parentBody', 'http://yago-knowledge.org/resource/parallax', 'http://schema.org/worksFor', 'reverse-http://schema.org/editor', 'http://schema.org/deathPlace', 'reverse-http://yago-knowledge.org/resource/flowsInto', 'http://schema.org/leiCode', 'http://schema.org/contentLocation', 'http://yago-knowledge.org/resource/replaces', 'http://yago-knowledge.org/resource/playsIn'}\n"
     ]
    },
    {
     "name": "stderr",
     "output_type": "stream",
     "text": [
      "WARNING: Sentence not supported. Output might be arbitrary.\n"
     ]
    }
   ],
   "source": [
    "########################################################################################################\n",
    "# 3. Construct queries containing entities, corresponding answers, query forms, and context templates. #\n",
    "########################################################################################################\n",
    "from yago_questions import yago_topic_to_qfs\n",
    "\n",
    "keys = set(yago_topic_to_qfs).intersection(set(pred_uri_to_so_pairs_with_reverse))\n",
    "print(keys)\n",
    "yago_qec = {\n",
    "    k: {\n",
    "        \"query_forms\": yago_topic_to_qfs[k],\n",
    "        \"entities\": list(zip(*pred_uri_to_so_pairs_with_reverse[k]))[0],\n",
    "        \"answers\": list(zip(*pred_uri_to_so_pairs_with_reverse[k]))[1],\n",
    "        \"entity_uris\": list(zip(*pred_uri_to_so_pairs_with_reverse[k]))[2],\n",
    "        \"answer_uris\": list(zip(*pred_uri_to_so_pairs_with_reverse[k]))[3],\n",
    "        \"context_templates\": {\n",
    "            \"base\": yago_topic_to_qfs[k][\"open\"][-1] + \" {answer}.\\n\",\n",
    "            \"assertive\": \"Definitely, \"\n",
    "            + lowercase_first_letter(yago_topic_to_qfs[k][\"open\"][-1])\n",
    "            + \" {answer}.\\n\",\n",
    "            \"super_assertive\": \"Most certainly and definitely, \"\n",
    "            + lowercase_first_letter(yago_topic_to_qfs[k][\"open\"][-1])\n",
    "            + \" {answer}.\\n\",\n",
    "            \"ignore_prior\": \"Forget everything you think you know about {entity}. Most certainly and definitely, \"\n",
    "            + lowercase_first_letter(yago_topic_to_qfs[k][\"open\"][-1])\n",
    "            + \" {answer}.\\n\",\n",
    "            \"believe_me\": \"Believe me, \"\n",
    "            + lowercase_first_letter(yago_topic_to_qfs[k][\"open\"][-1])\n",
    "            + \" {answer}.\\n\",\n",
    "            \"negation\": negate_template(\n",
    "                yago_topic_to_qfs[k][\"open\"][-1] + \" {answer}.\\n\"\n",
    "            ),\n",
    "        },\n",
    "        \"entity_types\": pred_to_s_and_obj_types_with_reverse[k][0],\n",
    "        \"answer_types\": pred_to_s_and_obj_types_with_reverse[k][1],\n",
    "    }\n",
    "    for k in keys\n",
    "}\n",
    "# yago_qec['http://schema.org/highestPoint'][\"entity_types\"]\n",
    "with open(YAGO_QEC_PATH, \"w\", encoding=\"utf-8\") as fp:\n",
    "    json.dump(yago_qec, fp, ensure_ascii=False, indent=4, sort_keys=True)"
   ]
  },
  {
   "cell_type": "code",
   "execution_count": 13,
   "metadata": {},
   "outputs": [],
   "source": [
    "with open(YAGO_QEC_PATH) as f:\n",
    "    yago_qec = json.load(f)"
   ]
  },
  {
   "cell_type": "code",
   "execution_count": 14,
   "metadata": {},
   "outputs": [
    {
     "name": "stdout",
     "output_type": "stream",
     "text": [
      "http://schema.org/about 1000 989\n",
      "http://schema.org/actor 1000 991\n",
      "http://schema.org/address 1000 997\n",
      "http://schema.org/administrates 1000 800\n",
      "http://schema.org/affiliation 1000 968\n",
      "http://schema.org/alumniOf 1000 999\n",
      "http://schema.org/author 1000 997\n",
      "http://schema.org/award 1000 995\n",
      "http://schema.org/birthDate 1000 999\n",
      "http://schema.org/birthPlace 1000 1000\n",
      "http://schema.org/children 1000 994\n",
      "http://schema.org/contentLocation 1000 992\n",
      "http://schema.org/dateCreated 1000 999\n",
      "http://schema.org/deathDate 1000 999\n",
      "http://schema.org/deathPlace 1000 1000\n",
      "http://schema.org/demonym 1000 884\n",
      "http://schema.org/director 1000 998\n",
      "http://schema.org/dissolutionDate 1000 999\n",
      "http://schema.org/duns 119 119\n",
      "http://schema.org/duration 1000 999\n",
      "http://schema.org/editor 378 263\n",
      "http://schema.org/elevation 1000 998\n",
      "http://schema.org/endDate 1000 999\n",
      "http://schema.org/founder 1000 987\n",
      "http://schema.org/gtin 21 18\n",
      "http://schema.org/highestPoint 1000 991\n",
      "http://schema.org/homeLocation 1000 995\n",
      "http://schema.org/humanDevelopmentIndex 169 169\n",
      "http://schema.org/iataCode 1000 994\n",
      "http://schema.org/icaoCode 1000 1000\n",
      "http://schema.org/illustrator 226 216\n",
      "http://schema.org/inLanguage 1000 996\n",
      "http://schema.org/influencedBy 1000 841\n",
      "http://schema.org/isbn 570 570\n",
      "http://schema.org/iswcCode 1000 995\n",
      "http://schema.org/knowsLanguage 1000 1000\n",
      "http://schema.org/leader 1000 943\n",
      "http://schema.org/leiCode 1000 1000\n",
      "http://schema.org/locationCreated 1000 997\n",
      "http://schema.org/lowestPoint 349 341\n",
      "http://schema.org/lyricist 1000 960\n",
      "http://schema.org/manufacturer 1000 999\n",
      "http://schema.org/material 1000 954\n",
      "http://schema.org/memberOf 1000 999\n",
      "http://schema.org/motto 1000 953\n",
      "http://schema.org/musicBy 1000 992\n",
      "http://schema.org/nationality 1000 1000\n",
      "http://schema.org/neighbors 1000 998\n",
      "http://schema.org/numberOfEmployees 1000 960\n",
      "http://schema.org/numberOfEpisodes 1000 996\n",
      "http://schema.org/numberOfPages 224 224\n",
      "http://schema.org/numberOfSeasons 1000 996\n",
      "http://schema.org/officialLanguage 438 234\n",
      "http://schema.org/organizer 1000 1000\n",
      "http://schema.org/ownedBy 1000 998\n",
      "http://schema.org/owns 1000 839\n",
      "http://schema.org/parentTaxon 1000 1000\n",
      "http://schema.org/performer 1000 880\n",
      "http://schema.org/populationNumber 1000 995\n",
      "http://schema.org/postalCode 1000 996\n",
      "http://schema.org/recordLabel 165 163\n",
      "http://schema.org/sponsor 780 691\n",
      "http://schema.org/spouse 1000 999\n",
      "http://schema.org/startDate 1000 999\n",
      "http://schema.org/unemploymentRate 195 133\n",
      "http://schema.org/url 1000 1000\n",
      "http://schema.org/worksFor 1000 998\n",
      "http://yago-knowledge.org/resource/academicDegree 1000 995\n",
      "http://yago-knowledge.org/resource/appearsIn 1000 917\n",
      "http://yago-knowledge.org/resource/beliefSystem 1000 1000\n",
      "http://yago-knowledge.org/resource/candidateIn 1000 961\n",
      "http://yago-knowledge.org/resource/capital 1000 986\n",
      "http://yago-knowledge.org/resource/conferredBy 1000 970\n",
      "http://yago-knowledge.org/resource/consumes 202 89\n",
      "http://yago-knowledge.org/resource/director 116 101\n",
      "http://yago-knowledge.org/resource/distanceFromEarth 1000 996\n",
      "http://yago-knowledge.org/resource/doctoralAdvisor 1000 949\n",
      "http://yago-knowledge.org/resource/flowsInto 1000 985\n",
      "http://yago-knowledge.org/resource/follows 1000 1000\n",
      "http://yago-knowledge.org/resource/length 1000 999\n",
      "http://yago-knowledge.org/resource/luminosity 1000 1000\n",
      "http://yago-knowledge.org/resource/mass 1000 999\n",
      "http://yago-knowledge.org/resource/notableWork 1000 948\n",
      "http://yago-knowledge.org/resource/parallax 1000 998\n",
      "http://yago-knowledge.org/resource/parentBody 1000 1000\n",
      "http://yago-knowledge.org/resource/participant 1000 853\n",
      "http://yago-knowledge.org/resource/playsIn 1000 992\n",
      "http://yago-knowledge.org/resource/radialVelocity 1000 989\n",
      "http://yago-knowledge.org/resource/replaces 1000 883\n",
      "http://yago-knowledge.org/resource/sportNumber 1000 999\n",
      "http://yago-knowledge.org/resource/studentOf 722 508\n",
      "http://yago-knowledge.org/resource/studentsCount 1000 980\n",
      "http://yago-knowledge.org/resource/terminus 1000 926\n",
      "reverse-http://schema.org/actor 1000 983\n",
      "reverse-http://schema.org/author 1000 910\n",
      "reverse-http://schema.org/director 1000 936\n",
      "reverse-http://schema.org/editor 378 314\n",
      "reverse-http://schema.org/founder 1000 986\n",
      "reverse-http://schema.org/homeLocation 1000 673\n",
      "reverse-http://schema.org/illustrator 226 125\n",
      "reverse-http://schema.org/leader 1000 962\n",
      "reverse-http://schema.org/lyricist 1000 746\n",
      "reverse-http://schema.org/manufacturer 1000 684\n",
      "reverse-http://schema.org/memberOf 1000 841\n",
      "reverse-http://schema.org/musicBy 1000 777\n",
      "reverse-http://schema.org/officialLanguage 438 188\n",
      "reverse-http://schema.org/organizer 1000 282\n",
      "reverse-http://schema.org/ownedBy 1000 657\n",
      "reverse-http://schema.org/owns 1000 919\n",
      "reverse-http://schema.org/parentTaxon 1000 904\n",
      "reverse-http://schema.org/performer 1000 948\n",
      "reverse-http://schema.org/sponsor 780 352\n",
      "reverse-http://schema.org/worksFor 1000 631\n",
      "reverse-http://yago-knowledge.org/resource/appearsIn 1000 727\n",
      "reverse-http://yago-knowledge.org/resource/capital 1000 959\n",
      "reverse-http://yago-knowledge.org/resource/conferredBy 1000 661\n",
      "reverse-http://yago-knowledge.org/resource/consumes 202 112\n",
      "reverse-http://yago-knowledge.org/resource/director 116 110\n",
      "reverse-http://yago-knowledge.org/resource/doctoralAdvisor 1000 916\n",
      "reverse-http://yago-knowledge.org/resource/flowsInto 1000 811\n",
      "reverse-http://yago-knowledge.org/resource/notableWork 1000 995\n",
      "reverse-http://yago-knowledge.org/resource/parentBody 1000 572\n",
      "reverse-http://yago-knowledge.org/resource/participant 1000 914\n",
      "reverse-http://yago-knowledge.org/resource/playsIn 1000 40\n",
      "reverse-http://yago-knowledge.org/resource/replaces 1000 980\n",
      "reverse-http://yago-knowledge.org/resource/studentOf 722 653\n",
      "reverse-http://yago-knowledge.org/resource/terminus 1000 899\n"
     ]
    }
   ],
   "source": [
    "for qid, v in yago_qec.items():\n",
    "    print(qid, len(v[\"entities\"]), len(set(v[\"entities\"])))"
   ]
  },
  {
   "cell_type": "markdown",
   "metadata": {},
   "source": [
    "### 4. Get the degree and related features of each entity"
   ]
  },
  {
   "cell_type": "code",
   "execution_count": 15,
   "metadata": {},
   "outputs": [
    {
     "name": "stdout",
     "output_type": "stream",
     "text": [
      "Loading entity_name_to_possible_entity_uris from file ../../data/YagoECQ/entity_name_to_possible_entity_uris.json.\n",
      "Loading entity_uri_to_degree from file ../../data/YagoECQ/entity_uri_to_degree.json.\n",
      "Loading entity_uri_to_degree_including_ambiguous_entities from file ../../data/YagoECQ/entity_uri_to_degree_including_ambiguous_entities.json.\n",
      "Loading entity_uri_to_predicate_degree from file ../../data/YagoECQ/entity_uri_to_predicate_degree_path.json.\n"
     ]
    }
   ],
   "source": [
    "####################################\n",
    "# 4. Get the degree of each entity #\n",
    "####################################\n",
    "import itertools\n",
    "from collections import defaultdict\n",
    "\n",
    "ENTITY_NAME_TO_POSSIBLE_ENTITY_URIS_PATH = os.path.join(\n",
    "    DATA_ROOT, \"entity_name_to_possible_entity_uris.json\"\n",
    ")\n",
    "ENTITY_URI_TO_DEGREE_PATH = os.path.join(DATA_ROOT, \"entity_uri_to_degree.json\")\n",
    "ENTITY_URI_TO_DEGREE_INCLUDING_AMBIGUOUS_ENTITIES_PATH = os.path.join(\n",
    "    DATA_ROOT, \"entity_uri_to_degree_including_ambiguous_entities.json\"\n",
    ")\n",
    "ENTITY_URI_TO_PREDICATE_DEGREE_PATH = os.path.join(\n",
    "    DATA_ROOT, \"entity_uri_to_predicate_degree_path.json\"\n",
    ")\n",
    "ENTITY_NAMESAKE_TO_DEGREE_PATH = os.path.join(\n",
    "    DATA_ROOT, \"entity_namesake_to_degree.json\"\n",
    ")\n",
    "ENTITY_NAMESAKE_TO_NUM_URIS_PATH = os.path.join(\n",
    "    DATA_ROOT, \"entity_namesake_to_num_uris.json\"\n",
    ")\n",
    "\n",
    "# Load cached jsons\n",
    "# {entity_name: List[entity_uri]}\n",
    "entity_name_to_possible_entity_uris: Dict[str, List[str]] = dict()\n",
    "if os.path.exists(ENTITY_NAME_TO_POSSIBLE_ENTITY_URIS_PATH):\n",
    "    print(\n",
    "        f\"Loading entity_name_to_possible_entity_uris from file {ENTITY_NAME_TO_POSSIBLE_ENTITY_URIS_PATH}.\"\n",
    "    )\n",
    "    with open(ENTITY_NAME_TO_POSSIBLE_ENTITY_URIS_PATH) as f:\n",
    "        entity_name_to_possible_entity_uris = json.load(f)\n",
    "\n",
    "# {entity_uri: degree}\n",
    "entity_uri_to_degree: Dict[str, int] = dict()\n",
    "if os.path.exists(ENTITY_URI_TO_DEGREE_PATH):\n",
    "    print(f\"Loading entity_uri_to_degree from file {ENTITY_URI_TO_DEGREE_PATH}.\")\n",
    "    with open(ENTITY_URI_TO_DEGREE_PATH) as f:\n",
    "        entity_uri_to_degree = json.load(f)\n",
    "\n",
    "# {entity_uri: degree}\n",
    "entity_uri_to_degree_including_ambiguous_entities: Dict[str, int] = dict()\n",
    "if os.path.exists(ENTITY_URI_TO_DEGREE_INCLUDING_AMBIGUOUS_ENTITIES_PATH):\n",
    "    print(\n",
    "        f\"Loading entity_uri_to_degree_including_ambiguous_entities from file {ENTITY_URI_TO_DEGREE_INCLUDING_AMBIGUOUS_ENTITIES_PATH}.\"\n",
    "    )\n",
    "    with open(ENTITY_URI_TO_DEGREE_INCLUDING_AMBIGUOUS_ENTITIES_PATH) as f:\n",
    "        entity_uri_to_degree_including_ambiguous_entities = json.load(f)\n",
    "\n",
    "# {predicate: {entity: degree}}\n",
    "entity_uri_to_predicate_degree: Dict[str, Dict[str, int]] = defaultdict(dict)\n",
    "if os.path.exists(ENTITY_URI_TO_PREDICATE_DEGREE_PATH):\n",
    "    print(\n",
    "        f\"Loading entity_uri_to_predicate_degree from file {ENTITY_URI_TO_PREDICATE_DEGREE_PATH}.\"\n",
    "    )\n",
    "    with open(ENTITY_URI_TO_PREDICATE_DEGREE_PATH) as f:\n",
    "        entity_uri_to_predicate_degree = defaultdict(dict, json.load(f))"
   ]
  },
  {
   "cell_type": "code",
   "execution_count": 16,
   "metadata": {},
   "outputs": [],
   "source": [
    "def get_degree_for_entity_uri(entity_uri: str) -> int:\n",
    "    start_time = time.time()\n",
    "    # print(f\"Querying degree of {entity_uri}.\")\n",
    "\n",
    "    query = \"\"\"\n",
    "SELECT (COUNT(?edge) as ?degree)\n",
    "WHERE {{\n",
    "  {{\n",
    "    <{0}> ?edge ?object.\n",
    "  }}\n",
    "  UNION\n",
    "  {{\n",
    "    ?subject ?edge <{0}>.\n",
    "  }}\n",
    "}}\n",
    "\"\"\".format(\n",
    "        entity_uri\n",
    "    )\n",
    "    try:\n",
    "        sparql.setQuery(query)\n",
    "        res_degree = sparql.query().bindings\n",
    "        if len(res_degree) != 1:\n",
    "            raise ValueError(\n",
    "                f\">1 degree returned for entity {entity_uri}: {res_degree}\"\n",
    "            )\n",
    "        degree = res_degree[0][\"degree\"].value\n",
    "    # sleep(1)\n",
    "    except (HTTPError, EndPointInternalError) as e:\n",
    "        print(f\"HTTPerror for uri {entity_uri} when chaining. Skipping.\")\n",
    "        degree = None\n",
    "    except Exception as e:\n",
    "        print(e)\n",
    "        degree = None\n",
    "    finally:\n",
    "        time_elapsed = time.time() - start_time\n",
    "        # print(f\"Time elapsed: {time_elapsed}\")\n",
    "        return degree\n",
    "\n",
    "\n",
    "def get_possible_entity_uris_per_entity(entity: str) -> int:\n",
    "    start_time = time.time()\n",
    "    # print(f\"Querying number of possible uris for entity {entity}.\")\n",
    "\n",
    "    query = \"\"\"\n",
    "SELECT ?entity_uri\n",
    "WHERE {{\n",
    "  ?entity_uri rdfs:label \"{}\"@en.\n",
    "}}\n",
    "\"\"\".format(\n",
    "        entity\n",
    "    )\n",
    "    # print(query)\n",
    "    entity_uris = []\n",
    "    try:\n",
    "        sparql.setQuery(query)\n",
    "        for result in sparql.query().bindings:\n",
    "            # print(result)\n",
    "            entity_uris.append(result[\"entity_uri\"].value)\n",
    "    # sleep(1)\n",
    "    except (HTTPError, EndPointInternalError) as e:\n",
    "        print(f\"HTTPerror for uri {entity}. Skipping.\")\n",
    "        entity_uris = None\n",
    "    except Exception as e:\n",
    "        print(e)\n",
    "        entity_uris = None\n",
    "    finally:\n",
    "        time_elapsed = time.time() - start_time\n",
    "        # print(f\"Time elapsed: {time_elapsed}\")\n",
    "        return entity_uris\n",
    "\n",
    "\n",
    "def get_predicate_degree_for_entity_uri(entity_uri: str, predicate: str) -> int:\n",
    "    start_time = time.time()\n",
    "    # print(f\"Querying degree of {entity_uri}.\")\n",
    "\n",
    "    if predicate.startswith(\"reverse-\"):\n",
    "        predicate = predicate.split(\"reverse-\")[1]\n",
    "        query = \"\"\"\n",
    "                SELECT (COUNT(?subject) as ?degree) WHERE {{\n",
    "                    {{\n",
    "                        ?subject <{predicate}> <{entity_uri}>.\n",
    "                    }}\n",
    "                }}\n",
    "                \"\"\"\n",
    "    else:\n",
    "        query = \"\"\"\n",
    "                SELECT (COUNT(?object) as ?degree) WHERE {{\n",
    "                    {{\n",
    "                        <{entity_uri}> <{predicate}> ?object.\n",
    "                    }}\n",
    "                }}\n",
    "                \"\"\"\n",
    "\n",
    "    query = query.format(entity_uri=entity_uri, predicate=predicate)\n",
    "    # print(query)\n",
    "    try:\n",
    "        sparql.setQuery(query)\n",
    "        res_degree = sparql.query().bindings\n",
    "        if len(res_degree) != 1:\n",
    "            raise ValueError(\n",
    "                f\">1 degree returned for entity {entity_uri}: {res_degree}\"\n",
    "            )\n",
    "        degree = res_degree[0][\"degree\"].value\n",
    "    # sleep(1)\n",
    "    except (HTTPError, EndPointInternalError) as e:\n",
    "        print(f\"HTTPerror for uri {entity_uri} when chaining. Skipping.\")\n",
    "        degree = None\n",
    "    except Exception as e:\n",
    "        print(e)\n",
    "        degree = None\n",
    "    finally:\n",
    "        time_elapsed = time.time() - start_time\n",
    "        # print(f\"Time elapsed: {time_elapsed}\")\n",
    "        return degree"
   ]
  },
  {
   "cell_type": "code",
   "execution_count": 17,
   "metadata": {},
   "outputs": [
    {
     "data": {
      "text/plain": [
       "(96271, 95030, 112536, 78946)"
      ]
     },
     "execution_count": 17,
     "metadata": {},
     "output_type": "execute_result"
    }
   ],
   "source": [
    "# Construct the relevant list of entity uris and entity names.\n",
    "entity_uris: List[str] = list(\n",
    "    set(itertools.chain.from_iterable([v[\"entity_uris\"] for _, v in yago_qec.items()]))\n",
    ")\n",
    "entities: List[str] = list(\n",
    "    set(itertools.chain.from_iterable([v[\"entities\"] for _, v in yago_qec.items()]))\n",
    ")\n",
    "predicate_to_entity_uris: Dict[str, List[str]] = {\n",
    "    predicate: qec[\"entity_uris\"] for predicate, qec in yago_qec.items()\n",
    "}\n",
    "answers: List[str] = list(\n",
    "    set(itertools.chain.from_iterable([v[\"answers\"] for _, v in yago_qec.items()]))\n",
    ")\n",
    "\n",
    "# # Test run examples\n",
    "# entity_uris = [\"http://yago-knowledge.org/resource/Paul_McCartney\", \"http://yago-knowledge.org/resource/Paul_Allen__u0028_editor_u0029_\"]\n",
    "# entities = [\"Paul McCartney\", \"Paul Allen\"]\n",
    "# predicate_to_entity_uris = defaultdict(\n",
    "#     dict,\n",
    "#     {\n",
    "#         \"reverse-http://schema.org/author\": [\"http://yago-knowledge.org/resource/Anton_Chekhov\", \"http://yago-knowledge.org/resource/Alexander_Hamilton\"],\n",
    "#         \"http://schema.org/author\": [\"http://yago-knowledge.org/resource/A_Marriage_Proposal\"],\n",
    "#     }\n",
    "# )\n",
    "len(entity_uris), len(entities), sum(\n",
    "    len(v) for v in predicate_to_entity_uris.values()\n",
    "), len(answers)"
   ]
  },
  {
   "cell_type": "code",
   "execution_count": 18,
   "metadata": {},
   "outputs": [],
   "source": [
    "ENTITIES_PATH = os.path.join(DATA_ROOT, \"entities.json\")\n",
    "ANSWERS_PATH = os.path.join(DATA_ROOT, \"answers.json\")\n",
    "\n",
    "with open(ENTITIES_PATH, \"w\", encoding=\"utf-8\") as fp:\n",
    "    json.dump(entities, fp, ensure_ascii=False, indent=4)\n",
    "\n",
    "with open(ANSWERS_PATH, \"w\", encoding=\"utf-8\") as fp:\n",
    "    json.dump(answers, fp, ensure_ascii=False, indent=4)"
   ]
  },
  {
   "cell_type": "code",
   "execution_count": 19,
   "metadata": {},
   "outputs": [
    {
     "data": {
      "text/plain": [
       "(0, 95030, 95031)"
      ]
     },
     "execution_count": 19,
     "metadata": {},
     "output_type": "execute_result"
    }
   ],
   "source": [
    "missing_entities = set(entities).difference(set(entity_name_to_possible_entity_uris))\n",
    "len(missing_entities), len(set(entities)), len(set(entity_name_to_possible_entity_uris))"
   ]
  },
  {
   "cell_type": "code",
   "execution_count": 20,
   "metadata": {},
   "outputs": [
    {
     "data": {
      "text/plain": [
       "(0, 96271, 96272)"
      ]
     },
     "execution_count": 20,
     "metadata": {},
     "output_type": "execute_result"
    }
   ],
   "source": [
    "missing_entity_uris = set(entity_uris).difference(set(entity_uri_to_degree))\n",
    "len(missing_entity_uris), len(set(entity_uris)), len(set(entity_uri_to_degree))"
   ]
  },
  {
   "cell_type": "code",
   "execution_count": 21,
   "metadata": {
    "tags": []
   },
   "outputs": [
    {
     "name": "stderr",
     "output_type": "stream",
     "text": [
      "0it [00:00, ?it/s]\n",
      "0it [00:00, ?it/s]\n",
      "100%|██████████| 127/127 [00:00<00:00, 8660.70it/s]\n",
      "100%|██████████| 127/127 [00:00<00:00, 54399.16it/s]\n"
     ]
    }
   ],
   "source": [
    "# Construct the jsons mapping (a) from entity names to uris, (b) from entity uris to degrees, and (c) from entity uris (including those of the namesake) to degrees\n",
    "# This will additively build from the cached files.\n",
    "missing_entities = set(entities).difference(set(entity_name_to_possible_entity_uris))\n",
    "entity_name_to_possible_entity_uris = {\n",
    "    **entity_name_to_possible_entity_uris,\n",
    "    **{\n",
    "        entity: get_possible_entity_uris_per_entity(entity)\n",
    "        for entity in tqdm(missing_entities)\n",
    "    },\n",
    "}\n",
    "with open(ENTITY_NAME_TO_POSSIBLE_ENTITY_URIS_PATH, \"w\", encoding=\"utf-8\") as fp:\n",
    "    json.dump(entity_name_to_possible_entity_uris, fp, ensure_ascii=False, indent=4)\n",
    "\n",
    "missing_entity_uris = set(entity_uris).difference(set(entity_uri_to_degree))\n",
    "entity_uri_to_degree = {\n",
    "    **entity_uri_to_degree,\n",
    "    **{\n",
    "        entity_uri: get_degree_for_entity_uri(entity_uri)\n",
    "        for entity_uri in tqdm(missing_entity_uris)\n",
    "    },\n",
    "}\n",
    "with open(ENTITY_URI_TO_DEGREE_PATH, \"w\", encoding=\"utf-8\") as fp:\n",
    "    json.dump(entity_uri_to_degree, fp, ensure_ascii=False, indent=4)\n",
    "\n",
    "missing_entity_uris_ambiguous = {\n",
    "    entity_uri\n",
    "    for entity in entities\n",
    "    for entity_uri in entity_name_to_possible_entity_uris[entity]\n",
    "}.difference(set(entity_uri_to_degree_including_ambiguous_entities))\n",
    "entity_uri_to_degree_including_ambiguous_entities = {\n",
    "    **entity_uri_to_degree_including_ambiguous_entities,\n",
    "    **{\n",
    "        entity_uri: get_degree_for_entity_uri(entity_uri)\n",
    "        if entity_uri not in entity_uri_to_degree\n",
    "        else entity_uri_to_degree[entity_uri]\n",
    "        for entity_uri in missing_entity_uris_ambiguous\n",
    "    },\n",
    "}\n",
    "with open(\n",
    "    ENTITY_URI_TO_DEGREE_INCLUDING_AMBIGUOUS_ENTITIES_PATH, \"w\", encoding=\"utf-8\"\n",
    ") as fp:\n",
    "    json.dump(\n",
    "        entity_uri_to_degree_including_ambiguous_entities,\n",
    "        fp,\n",
    "        ensure_ascii=False,\n",
    "        indent=4,\n",
    "    )\n",
    "\n",
    "\n",
    "missing_entity_predicate_uris = defaultdict(\n",
    "    dict,\n",
    "    {\n",
    "        predicate: {\n",
    "            entity_uri\n",
    "            for entity_uri in set(predicate_to_entity_uris[predicate]).difference(\n",
    "                set(entity_uri_to_predicate_degree[predicate])\n",
    "            )\n",
    "        }\n",
    "        for predicate in tqdm(yago_qec)\n",
    "    },\n",
    ")\n",
    "entity_uri_to_predicate_degree = {\n",
    "    predicate: {\n",
    "        **entity_uri_to_predicate_degree[predicate],\n",
    "        **{\n",
    "            entity_uri: get_predicate_degree_for_entity_uri(entity_uri, predicate)\n",
    "            for entity_uri in missing_entity_predicate_uris[predicate]\n",
    "        },\n",
    "    }\n",
    "    for predicate in tqdm(yago_qec)\n",
    "}\n",
    "with open(ENTITY_URI_TO_PREDICATE_DEGREE_PATH, \"w\", encoding=\"utf-8\") as fp:\n",
    "    json.dump(entity_uri_to_predicate_degree, fp, ensure_ascii=False, indent=4)"
   ]
  },
  {
   "cell_type": "code",
   "execution_count": 22,
   "metadata": {},
   "outputs": [
    {
     "data": {
      "text/plain": [
       "(95031, 96272, 169229, 127)"
      ]
     },
     "execution_count": 22,
     "metadata": {},
     "output_type": "execute_result"
    }
   ],
   "source": [
    "len(entity_name_to_possible_entity_uris), len(entity_uri_to_degree), len(\n",
    "    entity_uri_to_degree_including_ambiguous_entities\n",
    "), len(entity_uri_to_predicate_degree)"
   ]
  },
  {
   "cell_type": "code",
   "execution_count": 23,
   "metadata": {},
   "outputs": [],
   "source": [
    "# Construct and save entity_namesake_to_* jsons.\n",
    "# {entity_namesake: degree}\n",
    "entity_namesake_to_degree: Dict[str, int] = {\n",
    "    k: sum(\n",
    "        [int(entity_uri_to_degree_including_ambiguous_entities[uri]) for uri in uris]\n",
    "    )\n",
    "    for k, uris in entity_name_to_possible_entity_uris.items()\n",
    "}\n",
    "with open(ENTITY_NAMESAKE_TO_DEGREE_PATH, \"w\", encoding=\"utf-8\") as fp:\n",
    "    json.dump(entity_namesake_to_degree, fp, ensure_ascii=False, indent=4)\n",
    "\n",
    "# {entity_namesake: number of uris with that name}\n",
    "entity_namesake_to_num_uris: Dict[str, int] = {\n",
    "    k: len(uris) for k, uris in entity_name_to_possible_entity_uris.items()\n",
    "}\n",
    "with open(ENTITY_NAMESAKE_TO_NUM_URIS_PATH, \"w\", encoding=\"utf-8\") as fp:\n",
    "    json.dump(entity_namesake_to_num_uris, fp, ensure_ascii=False, indent=4)"
   ]
  },
  {
   "cell_type": "code",
   "execution_count": 24,
   "metadata": {},
   "outputs": [
    {
     "data": {
      "text/plain": [
       "('reverse-http://yago-knowledge.org/resource/terminus',\n",
       " [(38923, 'London'),\n",
       "  (29297, 'Paris'),\n",
       "  (29297, 'Paris'),\n",
       "  (29297, 'Paris'),\n",
       "  (29297, 'Paris'),\n",
       "  (29297, 'Paris'),\n",
       "  (22183, 'Los Angeles'),\n",
       "  (22183, 'Los Angeles'),\n",
       "  (22183, 'Los Angeles'),\n",
       "  (16524, 'Moscow')])"
      ]
     },
     "execution_count": 24,
     "metadata": {},
     "output_type": "execute_result"
    }
   ],
   "source": [
    "# Incorporate above entity_namesake_to_* and entity_uri_to_* stats into yago_qec\n",
    "\n",
    "# Load yago entity namesake to degree stats (including all entity uris sharing that namesake)\n",
    "ENTITY_NAMESAKE_TO_DEGREE_PATH = os.path.join(\n",
    "    DATA_ROOT, \"entity_namesake_to_degree.json\"\n",
    ")\n",
    "with open(ENTITY_NAMESAKE_TO_DEGREE_PATH, \"r\") as fp:\n",
    "    entity_namesake_to_degree = json.load(fp)\n",
    "\n",
    "for k, v in yago_qec.items():\n",
    "    yago_qec[k][\"entity_namesake_to_degree\"] = [\n",
    "        int(entity_namesake_to_degree[entity]) for entity in yago_qec[k][\"entities\"]\n",
    "    ]\n",
    "\n",
    "# Save yago_qec including fake entities\n",
    "with open(YAGO_QEC_PATH, \"w\", encoding=\"utf-8\") as fp:\n",
    "    json.dump(yago_qec, fp, ensure_ascii=False, indent=4)\n",
    "\n",
    "k, sorted(\n",
    "    list(zip(yago_qec[k][\"entity_namesake_to_degree\"], yago_qec[k][\"entities\"])),\n",
    "    key=lambda x: x[0],\n",
    "    reverse=True,\n",
    ")[:10]"
   ]
  },
  {
   "cell_type": "code",
   "execution_count": 25,
   "metadata": {},
   "outputs": [
    {
     "data": {
      "text/plain": [
       "('reverse-http://yago-knowledge.org/resource/terminus',\n",
       " [(36564, 'London'),\n",
       "  (25899, 'Paris'),\n",
       "  (25899, 'Paris'),\n",
       "  (25899, 'Paris'),\n",
       "  (25899, 'Paris'),\n",
       "  (25899, 'Paris'),\n",
       "  (21919, 'Los Angeles'),\n",
       "  (21919, 'Los Angeles'),\n",
       "  (21919, 'Los Angeles'),\n",
       "  (15445, 'Moscow')])"
      ]
     },
     "execution_count": 25,
     "metadata": {},
     "output_type": "execute_result"
    }
   ],
   "source": [
    "# Load yago entity uri to degree stats\n",
    "ENTITY_URI_TO_DEGREE_PATH = os.path.join(DATA_ROOT, \"entity_uri_to_degree.json\")\n",
    "with open(ENTITY_URI_TO_DEGREE_PATH, \"r\") as fp:\n",
    "    entity_uri_to_degree = json.load(fp)\n",
    "\n",
    "for k, v in yago_qec.items():\n",
    "    yago_qec[k][\"entity_uri_to_degree\"] = [\n",
    "        int(entity_uri_to_degree[uri]) for uri in yago_qec[k][\"entity_uris\"]\n",
    "    ]\n",
    "\n",
    "# Save yago_qec including fake entities\n",
    "with open(YAGO_QEC_PATH, \"w\", encoding=\"utf-8\") as fp:\n",
    "    json.dump(yago_qec, fp, ensure_ascii=False, indent=4, sort_keys=True)\n",
    "\n",
    "k, sorted(\n",
    "    list(zip(yago_qec[k][\"entity_uri_to_degree\"], yago_qec[k][\"entities\"])),\n",
    "    key=lambda x: x[0],\n",
    "    reverse=True,\n",
    ")[:10]"
   ]
  },
  {
   "cell_type": "code",
   "execution_count": 26,
   "metadata": {},
   "outputs": [
    {
     "data": {
      "text/plain": [
       "('reverse-http://yago-knowledge.org/resource/terminus',\n",
       " [(81, 'Victoria'),\n",
       "  (70, 'Lincoln'),\n",
       "  (64, 'Mount Pleasant'),\n",
       "  (62, 'Richmond'),\n",
       "  (58, 'Paris'),\n",
       "  (58, 'Paris'),\n",
       "  (58, 'Paris'),\n",
       "  (58, 'Paris'),\n",
       "  (58, 'Paris'),\n",
       "  (56, 'Newton')])"
      ]
     },
     "execution_count": 26,
     "metadata": {},
     "output_type": "execute_result"
    }
   ],
   "source": [
    "# Load yago entity namesake to number of different uris\n",
    "ENTITY_NAMESAKE_TO_NUM_URIS_PATH = os.path.join(\n",
    "    DATA_ROOT, \"entity_namesake_to_num_uris.json\"\n",
    ")\n",
    "with open(ENTITY_NAMESAKE_TO_NUM_URIS_PATH, \"r\") as fp:\n",
    "    entity_namesake_to_num_uris = json.load(fp)\n",
    "\n",
    "for k, v in yago_qec.items():\n",
    "    yago_qec[k][\"entity_namesake_to_num_uris\"] = [\n",
    "        int(entity_namesake_to_num_uris[entity]) for entity in yago_qec[k][\"entities\"]\n",
    "    ]\n",
    "\n",
    "# Save yago_qec including fake entities\n",
    "with open(YAGO_QEC_PATH, \"w\", encoding=\"utf-8\") as fp:\n",
    "    json.dump(yago_qec, fp, ensure_ascii=False, indent=4, sort_keys=True)\n",
    "\n",
    "k, sorted(\n",
    "    list(zip(yago_qec[k][\"entity_namesake_to_num_uris\"], yago_qec[k][\"entities\"])),\n",
    "    key=lambda x: x[0],\n",
    "    reverse=True,\n",
    ")[:10]"
   ]
  },
  {
   "cell_type": "code",
   "execution_count": 27,
   "metadata": {},
   "outputs": [
    {
     "data": {
      "text/plain": [
       "('reverse-http://yago-knowledge.org/resource/terminus',\n",
       " [(21, 'Nebraska'),\n",
       "  (21, 'Nebraska'),\n",
       "  (21, 'Nebraska'),\n",
       "  (21, 'Nebraska'),\n",
       "  (21, 'Nebraska'),\n",
       "  (20, 'Beijing'),\n",
       "  (20, 'Beijing'),\n",
       "  (20, 'Beijing'),\n",
       "  (19, 'Paris'),\n",
       "  (19, 'Paris')],\n",
       " 899)"
      ]
     },
     "execution_count": 27,
     "metadata": {},
     "output_type": "execute_result"
    }
   ],
   "source": [
    "# Load yago entity namesake to number of different uris\n",
    "with open(ENTITY_URI_TO_PREDICATE_DEGREE_PATH, \"r\") as fp:\n",
    "    entity_uri_to_predicate_degree = json.load(fp)\n",
    "\n",
    "for k, v in yago_qec.items():\n",
    "    yago_qec[k][\"entity_uri_to_predicate_degree\"] = [\n",
    "        int(entity_uri_to_predicate_degree[k][uri])\n",
    "        for uri in yago_qec[k][\"entity_uris\"]\n",
    "    ]\n",
    "\n",
    "# Save yago_qec including fake entities\n",
    "with open(YAGO_QEC_PATH, \"w\", encoding=\"utf-8\") as fp:\n",
    "    json.dump(yago_qec, fp, ensure_ascii=False, indent=4, sort_keys=True)\n",
    "\n",
    "k, sorted(\n",
    "    list(zip(yago_qec[k][\"entity_uri_to_predicate_degree\"], yago_qec[k][\"entities\"])),\n",
    "    key=lambda x: x[0],\n",
    "    reverse=True,\n",
    ")[:10], len(set(yago_qec[k][\"entities\"]))"
   ]
  },
  {
   "cell_type": "markdown",
   "metadata": {},
   "source": [
    "### 5. Augment each query in yago_qec with fake entities (gpt-4 generated)\n",
    "\n",
    "Be sure to first run `gpt_generate_entities.ipynb` to generate the `chatgpt_fake_entities_all.csv` which is then combined into yago_qec."
   ]
  },
  {
   "cell_type": "code",
   "execution_count": 28,
   "metadata": {},
   "outputs": [
    {
     "name": "stdout",
     "output_type": "stream",
     "text": [
      "Increasing count of http://schema.org/CreativeWork for query http://schema.org/about by 1\n",
      "Increasing count of http://schema.org/Organization for query http://schema.org/humanDevelopmentIndex by 1\n",
      "Increasing count of http://schema.org/Organization for query http://schema.org/unemploymentRate by -1\n",
      "Increasing count of http://schema.org/Person for query reverse-http://schema.org/author by -1\n",
      "Increasing count of http://schema.org/Organization for query reverse-http://schema.org/ownedBy by -1\n"
     ]
    }
   ],
   "source": [
    "##################################################\n",
    "# 5. Combine chatgpt fake entities with yago_qec #\n",
    "##################################################\n",
    "set_seed(0)\n",
    "YAGO_GPT_FAKE_ENTITIES_PATH = os.path.join(DATA_ROOT, \"chatgpt_fake_entities_all.csv\")\n",
    "\n",
    "fake_entities_gpt_df = pd.read_csv(YAGO_GPT_FAKE_ENTITIES_PATH)\n",
    "fake_entities_gpt_df = fake_entities_gpt_df.add_prefix(\"http://schema.org/\")\n",
    "\n",
    "# Load yago_qec\n",
    "with open(YAGO_QEC_PATH, \"r\") as fp:\n",
    "    yago_qec = json.load(fp)\n",
    "\n",
    "# Randomly sample fake entities that are eligible according to entity type for each relation and save to yago_qec\n",
    "for k, v in yago_qec.items():\n",
    "    entity_types: Dict[str, float] = yago_qec[k][\"entity_types\"]\n",
    "    if set(entity_types).issubset(set(fake_entities_gpt_df.columns)):\n",
    "        total_num_entities = len(yago_qec[k][\"entities\"])\n",
    "        # print(k, total_num_entities)\n",
    "        ents_per_type: Dict[str, int] = {\n",
    "            et: round(total_num_entities * frac) for et, frac in entity_types.items()\n",
    "        }\n",
    "\n",
    "        # Ensure the number of entities across entity types matches the total number of entities\n",
    "        diff = total_num_entities - Counter(ents_per_type).total()\n",
    "        if diff:\n",
    "            biggest_et = max(ents_per_type, key=ents_per_type.get)\n",
    "            print(f\"Increasing count of {biggest_et} for query {k} by {diff}\")\n",
    "            ents_per_type[biggest_et] += diff\n",
    "        assert Counter(ents_per_type).total() == total_num_entities\n",
    "\n",
    "        yago_qec[k][\"gpt_fake_entities\"] = list(\n",
    "            itertools.chain.from_iterable(\n",
    "                [\n",
    "                    fake_entities_gpt_df[et].sample(n=count)\n",
    "                    for et, count in ents_per_type.items()\n",
    "                ]\n",
    "            )\n",
    "        )  # sample desired number of entities from each category\n",
    "\n",
    "yago_qec = {k: v for k, v in yago_qec.items() if \"gpt_fake_entities\" in v}\n",
    "\n",
    "# Save yago_qec including fake entities\n",
    "with open(YAGO_QEC_PATH, \"w\", encoding=\"utf-8\") as fp:\n",
    "    json.dump(yago_qec, fp, ensure_ascii=False, indent=4, sort_keys=True)"
   ]
  },
  {
   "cell_type": "code",
   "execution_count": 29,
   "metadata": {},
   "outputs": [
    {
     "data": {
      "text/plain": [
       "['Andrej Pešić',\n",
       " 'Ngozi Abubakar',\n",
       " 'Philippe Giroux',\n",
       " 'Emilija Petrović',\n",
       " 'Lindiwe Mkhize',\n",
       " 'Hakan Çelik',\n",
       " 'Kashvi Singh',\n",
       " 'Orlando Ferrara',\n",
       " 'Assia Mokhtar',\n",
       " 'Eytan Zamir']"
      ]
     },
     "execution_count": 29,
     "metadata": {},
     "output_type": "execute_result"
    }
   ],
   "source": [
    "yago_qec[\"http://schema.org/affiliation\"][\"gpt_fake_entities\"][:10]"
   ]
  },
  {
   "cell_type": "code",
   "execution_count": 30,
   "metadata": {},
   "outputs": [
    {
     "data": {
      "text/plain": [
       "6999"
      ]
     },
     "execution_count": 30,
     "metadata": {},
     "output_type": "execute_result"
    }
   ],
   "source": [
    "# Get list of all gpt fake entities\n",
    "YAGO_GPT_FAKE_ENTITIES_PATH = os.path.join(DATA_ROOT, \"chatgpt_fake_entities_all.csv\")\n",
    "YAGO_GPT_FAKE_ENTITIES_LIST_PATH = os.path.join(\n",
    "    DATA_ROOT, \"chatgpt_fake_entities_list.json\"\n",
    ")\n",
    "fake_entities_gpt_df = pd.read_csv(YAGO_GPT_FAKE_ENTITIES_PATH)\n",
    "fake_entities = fake_entities_gpt_df.values.ravel().tolist()\n",
    "# Save yago_qec including fake entities\n",
    "with open(YAGO_GPT_FAKE_ENTITIES_LIST_PATH, \"w\", encoding=\"utf-8\") as fp:\n",
    "    json.dump(fake_entities, fp, ensure_ascii=False, indent=4)\n",
    "len(set(fake_entities))"
   ]
  },
  {
   "cell_type": "code",
   "execution_count": 31,
   "metadata": {},
   "outputs": [
    {
     "data": {
      "text/plain": [
       "125"
      ]
     },
     "execution_count": 31,
     "metadata": {},
     "output_type": "execute_result"
    }
   ],
   "source": [
    "len(yago_qec)"
   ]
  },
  {
   "cell_type": "code",
   "execution_count": 32,
   "metadata": {},
   "outputs": [
    {
     "data": {
      "text/plain": [
       "set()"
      ]
     },
     "execution_count": 32,
     "metadata": {},
     "output_type": "execute_result"
    }
   ],
   "source": [
    "{k for k, v in yago_qec.items() if \"http://schema.org/Intangible\" in v[\"entity_types\"]}"
   ]
  },
  {
   "cell_type": "markdown",
   "metadata": {},
   "source": [
    "### 6. Filter out obviously bad entities"
   ]
  },
  {
   "cell_type": "code",
   "execution_count": 33,
   "metadata": {},
   "outputs": [
    {
     "name": "stdout",
     "output_type": "stream",
     "text": [
      "http://schema.org/about 1000 46 954\n",
      "http://schema.org/actor 1000 0 1000\n",
      "http://schema.org/address 1000 0 1000\n",
      "http://schema.org/administrates 1000 2 998\n",
      "http://schema.org/affiliation 1000 6 994\n",
      "http://schema.org/alumniOf 1000 0 1000\n",
      "http://schema.org/author 1000 0 1000\n",
      "http://schema.org/award 1000 334 666\n",
      "http://schema.org/birthDate 1000 0 1000\n",
      "http://schema.org/birthPlace 1000 0 1000\n",
      "http://schema.org/children 1000 0 1000\n",
      "http://schema.org/contentLocation 1000 0 1000\n",
      "http://schema.org/dateCreated 1000 0 1000\n",
      "http://schema.org/deathDate 1000 0 1000\n",
      "http://schema.org/deathPlace 1000 0 1000\n",
      "http://schema.org/demonym 1000 0 1000\n",
      "http://schema.org/director 1000 0 1000\n",
      "http://schema.org/dissolutionDate 1000 0 1000\n",
      "http://schema.org/duns 119 0 119\n",
      "http://schema.org/duration 1000 0 1000\n",
      "http://schema.org/editor 378 0 378\n",
      "http://schema.org/elevation 1000 0 1000\n",
      "http://schema.org/endDate 1000 0 1000\n",
      "http://schema.org/founder 1000 0 1000\n",
      "http://schema.org/gtin 21 0 21\n",
      "http://schema.org/highestPoint 1000 0 1000\n",
      "http://schema.org/homeLocation 1000 0 1000\n",
      "http://schema.org/humanDevelopmentIndex 169 0 169\n",
      "http://schema.org/iataCode 1000 0 1000\n",
      "http://schema.org/icaoCode 1000 0 1000\n",
      "http://schema.org/illustrator 226 0 226\n",
      "http://schema.org/inLanguage 1000 11 989\n",
      "http://schema.org/influencedBy 1000 0 1000\n",
      "http://schema.org/isbn 570 0 570\n",
      "http://schema.org/iswcCode 1000 0 1000\n",
      "http://schema.org/knowsLanguage 1000 0 1000\n",
      "http://schema.org/leader 1000 7 993\n",
      "http://schema.org/leiCode 1000 0 1000\n",
      "http://schema.org/locationCreated 1000 0 1000\n",
      "http://schema.org/lowestPoint 349 0 349\n",
      "http://schema.org/lyricist 1000 0 1000\n",
      "http://schema.org/manufacturer 1000 0 1000\n",
      "http://schema.org/material 1000 336 664\n",
      "http://schema.org/memberOf 1000 0 1000\n",
      "http://schema.org/motto 1000 0 1000\n",
      "http://schema.org/musicBy 1000 0 1000\n",
      "http://schema.org/nationality 1000 0 1000\n",
      "http://schema.org/neighbors 1000 0 1000\n",
      "http://schema.org/numberOfEmployees 1000 0 1000\n",
      "http://schema.org/numberOfEpisodes 1000 0 1000\n",
      "http://schema.org/numberOfPages 224 0 224\n",
      "http://schema.org/numberOfSeasons 1000 0 1000\n",
      "http://schema.org/officialLanguage 438 2 436\n",
      "http://schema.org/organizer 1000 0 1000\n",
      "http://schema.org/ownedBy 1000 2 998\n",
      "http://schema.org/owns 1000 1 999\n",
      "http://schema.org/parentTaxon 1000 0 1000\n",
      "http://schema.org/performer 1000 0 1000\n",
      "http://schema.org/populationNumber 1000 0 1000\n",
      "http://schema.org/postalCode 1000 0 1000\n",
      "http://schema.org/recordLabel 165 0 165\n",
      "http://schema.org/sponsor 780 0 780\n",
      "http://schema.org/spouse 1000 0 1000\n",
      "http://schema.org/startDate 1000 0 1000\n",
      "http://schema.org/unemploymentRate 195 0 195\n",
      "http://schema.org/url 1000 1000 0\n",
      "http://schema.org/worksFor 1000 2 998\n",
      "http://yago-knowledge.org/resource/academicDegree 1000 263 737\n",
      "http://yago-knowledge.org/resource/appearsIn 1000 1 999\n",
      "http://yago-knowledge.org/resource/beliefSystem 1000 3 997\n",
      "http://yago-knowledge.org/resource/candidateIn 1000 0 1000\n",
      "http://yago-knowledge.org/resource/capital 1000 0 1000\n",
      "http://yago-knowledge.org/resource/consumes 202 1 201\n",
      "http://yago-knowledge.org/resource/director 116 0 116\n",
      "http://yago-knowledge.org/resource/distanceFromEarth 1000 0 1000\n",
      "http://yago-knowledge.org/resource/doctoralAdvisor 1000 0 1000\n",
      "http://yago-knowledge.org/resource/flowsInto 1000 0 1000\n",
      "http://yago-knowledge.org/resource/follows 1000 0 1000\n",
      "http://yago-knowledge.org/resource/length 1000 0 1000\n",
      "http://yago-knowledge.org/resource/luminosity 1000 0 1000\n",
      "http://yago-knowledge.org/resource/mass 1000 0 1000\n",
      "http://yago-knowledge.org/resource/notableWork 1000 0 1000\n",
      "http://yago-knowledge.org/resource/parallax 1000 0 1000\n",
      "http://yago-knowledge.org/resource/parentBody 1000 0 1000\n",
      "http://yago-knowledge.org/resource/participant 1000 0 1000\n",
      "http://yago-knowledge.org/resource/playsIn 1000 0 1000\n",
      "http://yago-knowledge.org/resource/radialVelocity 1000 0 1000\n",
      "http://yago-knowledge.org/resource/replaces 1000 1 999\n",
      "http://yago-knowledge.org/resource/sportNumber 1000 0 1000\n",
      "http://yago-knowledge.org/resource/studentOf 722 0 722\n",
      "http://yago-knowledge.org/resource/studentsCount 1000 0 1000\n",
      "http://yago-knowledge.org/resource/terminus 1000 0 1000\n",
      "reverse-http://schema.org/actor 1000 0 1000\n",
      "reverse-http://schema.org/author 1000 0 1000\n",
      "reverse-http://schema.org/director 1000 0 1000\n",
      "reverse-http://schema.org/editor 378 0 378\n",
      "reverse-http://schema.org/founder 1000 0 1000\n",
      "reverse-http://schema.org/homeLocation 1000 0 1000\n",
      "reverse-http://schema.org/illustrator 226 0 226\n",
      "reverse-http://schema.org/leader 1000 7 993\n",
      "reverse-http://schema.org/lyricist 1000 0 1000\n",
      "reverse-http://schema.org/manufacturer 1000 0 1000\n",
      "reverse-http://schema.org/memberOf 1000 0 1000\n",
      "reverse-http://schema.org/musicBy 1000 0 1000\n",
      "reverse-http://schema.org/organizer 1000 0 1000\n",
      "reverse-http://schema.org/ownedBy 1000 2 998\n",
      "reverse-http://schema.org/owns 1000 1 999\n",
      "reverse-http://schema.org/parentTaxon 1000 0 1000\n",
      "reverse-http://schema.org/performer 1000 0 1000\n",
      "reverse-http://schema.org/sponsor 780 0 780\n",
      "reverse-http://schema.org/worksFor 1000 2 998\n",
      "reverse-http://yago-knowledge.org/resource/appearsIn 1000 1 999\n",
      "reverse-http://yago-knowledge.org/resource/capital 1000 0 1000\n",
      "reverse-http://yago-knowledge.org/resource/conferredBy 1000 10 990\n",
      "reverse-http://yago-knowledge.org/resource/consumes 202 1 201\n",
      "reverse-http://yago-knowledge.org/resource/director 116 0 116\n",
      "reverse-http://yago-knowledge.org/resource/doctoralAdvisor 1000 0 1000\n",
      "reverse-http://yago-knowledge.org/resource/flowsInto 1000 0 1000\n",
      "reverse-http://yago-knowledge.org/resource/notableWork 1000 0 1000\n",
      "reverse-http://yago-knowledge.org/resource/parentBody 1000 0 1000\n",
      "reverse-http://yago-knowledge.org/resource/participant 1000 0 1000\n",
      "reverse-http://yago-knowledge.org/resource/playsIn 1000 0 1000\n",
      "reverse-http://yago-knowledge.org/resource/replaces 1000 1 999\n",
      "reverse-http://yago-knowledge.org/resource/studentOf 722 0 722\n",
      "reverse-http://yago-knowledge.org/resource/terminus 1000 0 1000\n"
     ]
    }
   ],
   "source": [
    "# Filter out entities which have URIs as the entity name\n",
    "import re\n",
    "\n",
    "uri_regex = r\"http(s*):\"\n",
    "\n",
    "# Load yago_qec\n",
    "with open(YAGO_QEC_PATH, \"r\") as fp:\n",
    "    yago_qec = json.load(fp)\n",
    "\n",
    "for query_id, v in yago_qec.items():\n",
    "    og_len = len(v[\"entities\"])\n",
    "    inds_to_delete = [\n",
    "        i\n",
    "        for i, (e, a) in enumerate(zip(v[\"entities\"], v[\"answers\"]))\n",
    "        if re.search(uri_regex, e) or re.search(uri_regex, a)\n",
    "    ]\n",
    "    keys_to_delete_from = [\n",
    "        k for k, vals in v.items() if len(vals) == len(v[\"entities\"])\n",
    "    ]\n",
    "    for k in keys_to_delete_from:\n",
    "        new_list = [val for ind, val in enumerate(v[k]) if ind not in inds_to_delete]\n",
    "        v[k] = new_list\n",
    "    print(query_id, og_len, len(inds_to_delete), len(v[k]))\n",
    "\n",
    "# Save yago_qec including fake entities\n",
    "with open(YAGO_QEC_PATH, \"w\", encoding=\"utf-8\") as fp:\n",
    "    json.dump(yago_qec, fp, ensure_ascii=False, indent=4, sort_keys=True)"
   ]
  },
  {
   "cell_type": "markdown",
   "metadata": {},
   "source": [
    "### Appendix: Load manual country-capital examples as for comparing/debugging"
   ]
  },
  {
   "cell_type": "code",
   "execution_count": 34,
   "metadata": {},
   "outputs": [],
   "source": [
    "# Debug by adding country capital examples into yago_qec too\n",
    "# Load yago_qec\n",
    "with open(YAGO_QEC_PATH, \"r\") as fp:\n",
    "    yago_qec = json.load(fp)\n",
    "\n",
    "df = pd.read_csv(\"../../data/CountryCapital/real-fake-historical-country-capital.csv\")\n",
    "countries = df[df[\"type\"] == \"countryCapital\"][\"country\"].tolist()\n",
    "capitals = df[df[\"type\"] == \"countryCapital\"][\"capital\"].tolist()\n",
    "my_fake_countries = df[df[\"type\"] == \"fakeCountryCapital\"][\"country\"].tolist()\n",
    "my_fake_capitals = df[df[\"type\"] == \"fakeCountryCapital\"][\"capital\"].tolist()\n",
    "\n",
    "yago_qec[\"http://yago-knowledge.org/resource/capital\"][\"my_famous_entities\"] = countries\n",
    "# yago_qec[\"http://yago-knowledge.org/resource/capital\"][\"famous_answers\"] = capitals\n",
    "yago_qec[\"http://yago-knowledge.org/resource/capital\"][\n",
    "    \"my_fake_entities\"\n",
    "] = my_fake_countries\n",
    "# yago_qec[\"http://yago-knowledge.org/resource/capital\"][\"my_fake_answers\"] = my_fake_capitals\n",
    "\n",
    "# Save yago_qec including fake entities\n",
    "with open(YAGO_QEC_PATH, \"w\", encoding=\"utf-8\") as fp:\n",
    "    json.dump(yago_qec, fp, ensure_ascii=False, indent=4, sort_keys=True)"
   ]
  },
  {
   "cell_type": "markdown",
   "metadata": {},
   "source": [
    "### Final: Log yago_qec.json artifact to wandb"
   ]
  },
  {
   "cell_type": "code",
   "execution_count": 35,
   "metadata": {},
   "outputs": [
    {
     "name": "stderr",
     "output_type": "stream",
     "text": [
      "\u001b[34m\u001b[1mwandb\u001b[0m: Currently logged in as: \u001b[33mkdu\u001b[0m (\u001b[33methz-rycolab\u001b[0m). Use \u001b[1m`wandb login --relogin`\u001b[0m to force relogin\n"
     ]
    },
    {
     "data": {
      "text/html": [
       "wandb version 0.16.4 is available!  To upgrade, please run:\n",
       " $ pip install wandb --upgrade"
      ],
      "text/plain": [
       "<IPython.core.display.HTML object>"
      ]
     },
     "metadata": {},
     "output_type": "display_data"
    },
    {
     "data": {
      "text/html": [
       "Tracking run with wandb version 0.16.3"
      ],
      "text/plain": [
       "<IPython.core.display.HTML object>"
      ]
     },
     "metadata": {},
     "output_type": "display_data"
    },
    {
     "data": {
      "text/html": [
       "Run data is saved locally in <code>/cluster/work/cotterell/kdu/measureLM/preprocessing/YagoECQ/wandb/run-20240325_171717-0xawsaf3</code>"
      ],
      "text/plain": [
       "<IPython.core.display.HTML object>"
      ]
     },
     "metadata": {},
     "output_type": "display_data"
    },
    {
     "data": {
      "text/html": [
       "Syncing run <strong><a href='https://wandb.ai/ethz-rycolab/context-vs-bias/runs/0xawsaf3' target=\"_blank\">sandy-yogurt-7931</a></strong> to <a href='https://wandb.ai/ethz-rycolab/context-vs-bias' target=\"_blank\">Weights & Biases</a> (<a href='https://wandb.me/run' target=\"_blank\">docs</a>)<br/>"
      ],
      "text/plain": [
       "<IPython.core.display.HTML object>"
      ]
     },
     "metadata": {},
     "output_type": "display_data"
    },
    {
     "data": {
      "text/html": [
       " View project at <a href='https://wandb.ai/ethz-rycolab/context-vs-bias' target=\"_blank\">https://wandb.ai/ethz-rycolab/context-vs-bias</a>"
      ],
      "text/plain": [
       "<IPython.core.display.HTML object>"
      ]
     },
     "metadata": {},
     "output_type": "display_data"
    },
    {
     "data": {
      "text/html": [
       " View run at <a href='https://wandb.ai/ethz-rycolab/context-vs-bias/runs/0xawsaf3' target=\"_blank\">https://wandb.ai/ethz-rycolab/context-vs-bias/runs/0xawsaf3</a>"
      ],
      "text/plain": [
       "<IPython.core.display.HTML object>"
      ]
     },
     "metadata": {},
     "output_type": "display_data"
    },
    {
     "name": "stdout",
     "output_type": "stream",
     "text": [
      "{'DATA_ROOT': '../../data/YagoECQ/', 'PRED_URI_TO_S_OBJ_CLASSES_PATH': '../../data/YagoECQ/yago_pred_uri_to_s_obj_classes.json', 'PRED_URI_TO_SO_PAIRS_PATH': '../../data/YagoECQ/yago_pred_uri_to_so_pairs_randomized_1k.json', 'YAGO_QEC_PATH': '../../data/YagoECQ/yago_qec.json', 'TRY_QUERYING_MISSING_PREDS': False, 'ENTITY_NAME_TO_POSSIBLE_ENTITY_URIS_PATH': '../../data/YagoECQ/entity_name_to_possible_entity_uris.json', 'ENTITY_URI_TO_DEGREE_PATH': '../../data/YagoECQ/entity_uri_to_degree.json', 'ENTITY_URI_TO_DEGREE_INCLUDING_AMBIGUOUS_ENTITIES_PATH': '../../data/YagoECQ/entity_uri_to_degree_including_ambiguous_entities.json', 'ENTITY_URI_TO_PREDICATE_DEGREE_PATH': '../../data/YagoECQ/entity_uri_to_predicate_degree_path.json', 'ENTITY_NAMESAKE_TO_DEGREE_PATH': '../../data/YagoECQ/entity_namesake_to_degree.json', 'ENTITY_NAMESAKE_TO_NUM_URIS_PATH': '../../data/YagoECQ/entity_namesake_to_num_uris.json', 'ENTITIES_PATH': '../../data/YagoECQ/entities.json', 'ANSWERS_PATH': '../../data/YagoECQ/answers.json', 'YAGO_GPT_FAKE_ENTITIES_PATH': '../../data/YagoECQ/chatgpt_fake_entities_all.csv', 'YAGO_GPT_FAKE_ENTITIES_LIST_PATH': '../../data/YagoECQ/chatgpt_fake_entities_list.json', 'PROJECT_NAME': 'context-vs-bias', 'GROUP_NAME': None, 'TAGS': ['yago', 'generate_data'], 'LOG_DATASETS': True}\n"
     ]
    },
    {
     "data": {
      "text/plain": [
       "<Artifact YagoECQ-yago_qec>"
      ]
     },
     "execution_count": 35,
     "metadata": {},
     "output_type": "execute_result"
    }
   ],
   "source": [
    "import os\n",
    "import wandb\n",
    "\n",
    "# wandb stuff\n",
    "PROJECT_NAME = \"context-vs-bias\"\n",
    "GROUP_NAME = None\n",
    "TAGS = [\"yago\", \"generate_data\"]\n",
    "LOG_DATASETS = True\n",
    "DATA_ROOT = \"../../data/YagoECQ/\"\n",
    "YAGO_QEC_PATH = os.path.join(DATA_ROOT, \"yago_qec.json\")\n",
    "\n",
    "os.environ[\"WANDB_NOTEBOOK_NAME\"] = os.path.join(os.getcwd(), \"yago_generate_qec.ipynb\")\n",
    "\n",
    "params_to_log = {k: v for k, v in locals().items() if k.isupper()}\n",
    "\n",
    "run = wandb.init(\n",
    "    project=PROJECT_NAME,\n",
    "    group=GROUP_NAME,\n",
    "    config=params_to_log,\n",
    "    tags=TAGS,\n",
    "    mode=\"online\",\n",
    ")\n",
    "print(dict(wandb.config))\n",
    "artifact = wandb.Artifact(name=f\"YagoECQ-yago_qec\", type=\"dataset\")\n",
    "artifact.add_file(local_path=YAGO_QEC_PATH)\n",
    "wandb.run.log_artifact(artifact)"
   ]
  },
  {
   "cell_type": "code",
   "execution_count": null,
   "metadata": {},
   "outputs": [],
   "source": []
  }
 ],
 "metadata": {
  "kernelspec": {
   "display_name": "measurelm",
   "language": "python",
   "name": "python3"
  },
  "language_info": {
   "codemirror_mode": {
    "name": "ipython",
    "version": 3
   },
   "file_extension": ".py",
   "mimetype": "text/x-python",
   "name": "python",
   "nbconvert_exporter": "python",
   "pygments_lexer": "ipython3",
   "version": "3.10.14"
  }
 },
 "nbformat": 4,
 "nbformat_minor": 4
}
