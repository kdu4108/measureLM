{
 "cells": [
  {
   "cell_type": "markdown",
   "metadata": {},
   "source": [
    "# Generate fake entity names with GPT-4"
   ]
  },
  {
   "cell_type": "code",
   "execution_count": 1,
   "metadata": {},
   "outputs": [
    {
     "name": "stdout",
     "output_type": "stream",
     "text": [
      "/cluster/work/cotterell/kdu/measureLM/preprocessing/YagoECQ\n"
     ]
    }
   ],
   "source": [
    "!pwd"
   ]
  },
  {
   "cell_type": "code",
   "execution_count": 2,
   "metadata": {},
   "outputs": [
    {
     "name": "stderr",
     "output_type": "stream",
     "text": [
      "/scratch/tmp.52653614.kevidu/ipykernel_24750/3983512979.py:5: DeprecationWarning: \n",
      "Pyarrow will become a required dependency of pandas in the next major release of pandas (pandas 3.0),\n",
      "(to allow more performant data types, such as the Arrow string type, and better interoperability with other libraries)\n",
      "but was not found to be installed on your system.\n",
      "If this would cause problems for you,\n",
      "please provide us feedback at https://github.com/pandas-dev/pandas/issues/54466\n",
      "        \n",
      "  import pandas as pd\n"
     ]
    },
    {
     "data": {
      "text/plain": [
       "True"
      ]
     },
     "execution_count": 2,
     "metadata": {},
     "output_type": "execute_result"
    }
   ],
   "source": [
    "from collections import defaultdict\n",
    "import os\n",
    "import re\n",
    "import openai\n",
    "import pandas as pd\n",
    "from dotenv import load_dotenv\n",
    "\n",
    "load_dotenv()"
   ]
  },
  {
   "cell_type": "code",
   "execution_count": 3,
   "metadata": {},
   "outputs": [],
   "source": [
    "DATA_ROOT = \"../../data/YagoECQ/\"\n",
    "YAGO_GPT_FAKE_ENTITIES_PATH = os.path.join(DATA_ROOT, \"chatgpt_fake_entities_all.csv\") \n",
    "YAGO_QEC_PATH = os.path.join(DATA_ROOT, \"yago_qec.json\")"
   ]
  },
  {
   "cell_type": "code",
   "execution_count": 7,
   "metadata": {},
   "outputs": [],
   "source": [
    "openai.api_key = os.getenv(\"OPENAI_API_KEY\")\n"
   ]
  },
  {
   "cell_type": "code",
   "execution_count": 5,
   "metadata": {},
   "outputs": [],
   "source": [
    "client = openai.OpenAI(api_key=openai.api_key)"
   ]
  },
  {
   "cell_type": "code",
   "execution_count": 16,
   "metadata": {},
   "outputs": [],
   "source": [
    "entity_class_to_prompt = {\n",
    "    \"Organization\": \"Give me a list of {} names of organizations that are not real, but could sound plausibly real.\",\n",
    "    \"Place\": \"Give me a list of {} names of places that are not real, but could sound plausibly real.\",\n",
    "    \"Event\": \"Give me a list of {} names of events that are not real, but could sound plausibly real.\",\n",
    "    \"Person\": \"Give me a list of {} names of people who could exist but don't. Try to make them different from each other, e.g. avoid repeating surnames or names from the same category. Give me some from different cultures and time periods. Avoid any names of real people, and especially of famous people. Avoid any names that sound overly fantastical.\",\n",
    "    \"Product\": \"Give me a list of {} names of products that are not real, but could sound plausibly real.\",\n",
    "    \"CreativeWork\": \"Give me a list of {} total names of 20% books/poems, 20% songs, 20% art pieces, 20% theater shows, and 20% music pieces that are not real, but could sound plausibly real. Try to make them different from each other. Give me some from different cultures, time periods, genres, and mediums. Avoid any names of real works, and especially of famous works. Avoid overly fantastical sounding names.\",\n",
    "    \"Taxon\": \"Give me a list of {} biological taxon names that are not real, but could sound plausibly real. Give some with a fake but plausible-sounding genus and some with just the species name.\",\n",
    "}"
   ]
  },
  {
   "cell_type": "code",
   "execution_count": 23,
   "metadata": {},
   "outputs": [],
   "source": [
    "def generate_fake_entity_names(prompt, model=\"gpt-4-1106-preview\"):\n",
    "    print(f\"Calling {model} on the following prompt:\\n{prompt}\")\n",
    "    response = client.chat.completions.create(\n",
    "        model=model,\n",
    "        messages=[\n",
    "            {\"role\": \"system\", \"content\": \"You are a creative assistant. Your purpose is to help the user come up with fictional names fitting the user's criteria. Give the user the requested number of names, no matter how long the response gets or how many names the user asks for. If the user asks for 1000 names, give 1000 names and do not split the list into multiple responses and give the full list of 1000 names. Do not repeat names.\"},\n",
    "            {\"role\": \"user\", \"content\": prompt}\n",
    "        ]\n",
    "    )\n",
    "    # Use the regex to find all matches\n",
    "    ents = re.findall(r'^\\d+\\.\\s(.+)$', response.choices[0].message.content, re.MULTILINE)\n",
    "    return ents\n",
    "\n",
    "def generate_fake_entity_names_df(entity_class_to_prompt, num_rows=1000):\n",
    "    entity_class_to_entities = defaultdict(set)\n",
    "    for entity_class, prompt in entity_class_to_prompt.items():\n",
    "        print(\"Generating {} entities...\".format(entity_class))\n",
    "        while len(entity_class_to_entities[entity_class]) < num_rows:\n",
    "            ents = generate_fake_entity_names(prompt.format(num_rows))\n",
    "            entity_class_to_entities[entity_class] = entity_class_to_entities[entity_class].union(set(ents))\n",
    "            print(\"\\tGenerated {} / {} {}s\".format(len(entity_class_to_entities[entity_class]), num_rows, entity_class))\n",
    "\n",
    "        entity_class_to_entities[entity_class] = list(entity_class_to_entities[entity_class])[:num_rows]\n",
    "    \n",
    "    return pd.DataFrame(entity_class_to_entities)"
   ]
  },
  {
   "cell_type": "code",
   "execution_count": 24,
   "metadata": {},
   "outputs": [
    {
     "name": "stdout",
     "output_type": "stream",
     "text": [
      "Generating Place entities...\n",
      "Calling gpt-4-1106-preview on the following prompt:\n",
      "Give me a list of 1000 names of places that are not real, but could sound plausibly real. Type of places should include countries, regions, towns, provinces/states, and natural regions. Avoid names that sound overly fictional or like they're from a video game.\n",
      "\tGenerated 280 / 1000 Places\n",
      "Calling gpt-4-1106-preview on the following prompt:\n",
      "Give me a list of 1000 names of places that are not real, but could sound plausibly real. Type of places should include countries, regions, towns, provinces/states, and natural regions. Avoid names that sound overly fictional or like they're from a video game.\n",
      "\tGenerated 981 / 1000 Places\n",
      "Calling gpt-4-1106-preview on the following prompt:\n",
      "Give me a list of 1000 names of places that are not real, but could sound plausibly real. Type of places should include countries, regions, towns, provinces/states, and natural regions. Avoid names that sound overly fictional or like they're from a video game.\n",
      "\tGenerated 1618 / 1000 Places\n",
      "CPU times: user 55.7 ms, sys: 37.2 ms, total: 93 ms\n",
      "Wall time: 8min 2s\n"
     ]
    },
    {
     "data": {
      "text/html": [
       "<div>\n",
       "<style scoped>\n",
       "    .dataframe tbody tr th:only-of-type {\n",
       "        vertical-align: middle;\n",
       "    }\n",
       "\n",
       "    .dataframe tbody tr th {\n",
       "        vertical-align: top;\n",
       "    }\n",
       "\n",
       "    .dataframe thead th {\n",
       "        text-align: right;\n",
       "    }\n",
       "</style>\n",
       "<table border=\"1\" class=\"dataframe\">\n",
       "  <thead>\n",
       "    <tr style=\"text-align: right;\">\n",
       "      <th></th>\n",
       "      <th>Place</th>\n",
       "    </tr>\n",
       "  </thead>\n",
       "  <tbody>\n",
       "    <tr>\n",
       "      <th>0</th>\n",
       "      <td>Padley</td>\n",
       "    </tr>\n",
       "    <tr>\n",
       "      <th>1</th>\n",
       "      <td>Northcliff</td>\n",
       "    </tr>\n",
       "    <tr>\n",
       "      <th>2</th>\n",
       "      <td>Gorsestone Heath</td>\n",
       "    </tr>\n",
       "    <tr>\n",
       "      <th>3</th>\n",
       "      <td>Bramblefort</td>\n",
       "    </tr>\n",
       "    <tr>\n",
       "      <th>4</th>\n",
       "      <td>Graythwaite</td>\n",
       "    </tr>\n",
       "    <tr>\n",
       "      <th>...</th>\n",
       "      <td>...</td>\n",
       "    </tr>\n",
       "    <tr>\n",
       "      <th>995</th>\n",
       "      <td>Relvia</td>\n",
       "    </tr>\n",
       "    <tr>\n",
       "      <th>996</th>\n",
       "      <td>Lakeview Heights</td>\n",
       "    </tr>\n",
       "    <tr>\n",
       "      <th>997</th>\n",
       "      <td>Brightwater</td>\n",
       "    </tr>\n",
       "    <tr>\n",
       "      <th>998</th>\n",
       "      <td>Rowanfield</td>\n",
       "    </tr>\n",
       "    <tr>\n",
       "      <th>999</th>\n",
       "      <td>Eastmere</td>\n",
       "    </tr>\n",
       "  </tbody>\n",
       "</table>\n",
       "<p>1000 rows × 1 columns</p>\n",
       "</div>"
      ],
      "text/plain": [
       "                Place\n",
       "0              Padley\n",
       "1          Northcliff\n",
       "2    Gorsestone Heath\n",
       "3         Bramblefort\n",
       "4         Graythwaite\n",
       "..                ...\n",
       "995            Relvia\n",
       "996  Lakeview Heights\n",
       "997       Brightwater\n",
       "998        Rowanfield\n",
       "999          Eastmere\n",
       "\n",
       "[1000 rows x 1 columns]"
      ]
     },
     "execution_count": 24,
     "metadata": {},
     "output_type": "execute_result"
    }
   ],
   "source": [
    "%%time\n",
    "gpt_fake_entities_df = generate_fake_entity_names_df(entity_class_to_prompt, num_rows=1000)\n",
    "gpt_fake_entities_df"
   ]
  },
  {
   "cell_type": "code",
   "execution_count": 25,
   "metadata": {},
   "outputs": [],
   "source": [
    "# Append newly generated entity names to existing file, if exists.\n",
    "if os.path.isfile(YAGO_GPT_FAKE_ENTITIES_PATH):\n",
    "    pd.concat([pd.read_csv(YAGO_GPT_FAKE_ENTITIES_PATH), gpt_fake_entities_df], axis=1).to_csv(YAGO_GPT_FAKE_ENTITIES_PATH, index=False)\n",
    "else:\n",
    "    gpt_fake_entities_df.to_csv(\"data/YagoECQ/gpt_fake_entities_all.csv\", index=False)"
   ]
  }
 ],
 "metadata": {
  "kernelspec": {
   "display_name": "Python 3",
   "language": "python",
   "name": "python3"
  },
  "language_info": {
   "codemirror_mode": {
    "name": "ipython",
    "version": 3
   },
   "file_extension": ".py",
   "mimetype": "text/x-python",
   "name": "python",
   "nbconvert_exporter": "python",
   "pygments_lexer": "ipython3",
   "version": "3.10.14"
  }
 },
 "nbformat": 4,
 "nbformat_minor": 4
}
