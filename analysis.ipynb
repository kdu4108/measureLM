{
 "cells": [
  {
   "attachments": {},
   "cell_type": "markdown",
   "metadata": {},
   "source": [
    "# Analyzing Susceptibility Scores\n",
    "Given a CSV with the columns:\n",
    "\n",
    "```q_id,\tquery_form,\tentity,\tcontexts,\tsusceptibility_score```\n",
    "\n",
    "Analyze the results for patterns and correlations"
   ]
  },
  {
   "cell_type": "code",
   "execution_count": 1,
   "metadata": {},
   "outputs": [],
   "source": [
    "%load_ext autoreload\n",
    "%autoreload 2\n",
    "%load_ext lab_black"
   ]
  },
  {
   "cell_type": "code",
   "execution_count": 2,
   "metadata": {},
   "outputs": [
    {
     "name": "stderr",
     "output_type": "stream",
     "text": [
      "/home/kevin/mambaforge/envs/measurelm2/lib/python3.10/site-packages/tqdm/auto.py:21: TqdmWarning: IProgress not found. Please update jupyter and ipywidgets. See https://ipywidgets.readthedocs.io/en/stable/user_install.html\n",
      "  from .autonotebook import tqdm as notebook_tqdm\n"
     ]
    }
   ],
   "source": [
    "import os\n",
    "import sys\n",
    "import math\n",
    "import random\n",
    "from itertools import product\n",
    "from tqdm import tqdm\n",
    "import yaml\n",
    "\n",
    "import pandas as pd\n",
    "import seaborn as sns\n",
    "from transformers import GPTNeoXForCausalLM, AutoTokenizer\n",
    "import torch\n",
    "from typing import List\n",
    "import numpy as np\n",
    "import wandb\n",
    "\n",
    "import statsmodels.api as sm\n",
    "from measuring.estimate_probs import (\n",
    "    estimate_prob_y_given_context_and_entity,\n",
    "    estimate_prob_x_given_e,\n",
    "    estimate_prob_next_word_given_x_and_entity,\n",
    "    estimate_cmi,\n",
    "    score_model_for_next_word_prob,\n",
    "    create_position_ids_from_input_ids,\n",
    "    sharded_score_model,\n",
    "    estimate_entity_score,\n",
    "    kl_div,\n",
    "    difference,\n",
    "    difference_p_good_only,\n",
    "    difference_abs_val,\n",
    ")\n",
    "from preprocessing.datasets import CountryCapital"
   ]
  },
  {
   "attachments": {},
   "cell_type": "markdown",
   "metadata": {},
   "source": [
    "### Preamble"
   ]
  },
  {
   "cell_type": "code",
   "execution_count": 3,
   "metadata": {
    "tags": [
     "parameters"
    ]
   },
   "outputs": [],
   "source": [
    "##################\n",
    "### Parameters ###\n",
    "##################\n",
    "\n",
    "# Data parameters\n",
    "SEED = 0\n",
    "DATASET_NAME = \"CountryCapital\"\n",
    "DATASET_KWARGS_IDENTIFIABLE = dict(\n",
    "    max_contexts=10,\n",
    "    max_entities=10,\n",
    "    raw_country_capitals_path=\"data/CountryCapital/real-fake-country-capital.csv\",\n",
    ")\n",
    "LOG_DATASETS = True\n",
    "\n",
    "# Model parameters\n",
    "MODEL_ID = \"EleutherAI/pythia-70m-deduped\"\n",
    "LOAD_IN_8BIT = False\n",
    "\n",
    "# Evaluation switches\n",
    "COMPUTE_CMI = True\n",
    "COMPUTE_KL = True\n",
    "COMPUTE_GOOD_BAD = True\n",
    "COMPUTE_GOOD_BAD_ABS = True\n",
    "COMPUTE_GOOD_BAD_P_GOOD_ONLY = True\n",
    "\n",
    "# wandb stuff\n",
    "PROJECT_NAME = \"context-vs-bias\"\n",
    "GROUP_NAME = None\n",
    "TAGS = [\"capitals\", \"analysis\"]"
   ]
  },
  {
   "cell_type": "code",
   "execution_count": 4,
   "metadata": {},
   "outputs": [
    {
     "name": "stdout",
     "output_type": "stream",
     "text": [
      "Data dir: data/CountryCapital/CountryCapital-mc10-me10/0\n",
      "Model dir: data/CountryCapital/CountryCapital-mc10-me10/0/models/EleutherAI/pythia-70m-deduped\n"
     ]
    }
   ],
   "source": [
    "# Paths\n",
    "# Construct dataset and data ids\n",
    "# dataset = getattr(sys.modules[__name__], DATASET_NAME)(**DATASET_KWARGS_IDENTIFIABLE)\n",
    "data_id = f\"{DATASET_NAME}\"\n",
    "data_id += (\n",
    "    f\"-mc{DATASET_KWARGS_IDENTIFIABLE['max_contexts']}\"\n",
    "    if \"max_contexts\" in DATASET_KWARGS_IDENTIFIABLE\n",
    "    and DATASET_KWARGS_IDENTIFIABLE[\"max_contexts\"] is not None\n",
    "    else \"\"\n",
    ")\n",
    "data_id += (\n",
    "    f\"-me{DATASET_KWARGS_IDENTIFIABLE['max_entities']}\"\n",
    "    if \"max_entities\" in DATASET_KWARGS_IDENTIFIABLE\n",
    "    and DATASET_KWARGS_IDENTIFIABLE[\"max_entities\"] is not None\n",
    "    else \"\"\n",
    ")\n",
    "\n",
    "data_dir = os.path.join(\"data\", DATASET_NAME, data_id, f\"{SEED}\")\n",
    "input_dir = os.path.join(data_dir, \"inputs\")\n",
    "entities_path = os.path.join(input_dir, \"entities.json\")\n",
    "contexts_path = os.path.join(input_dir, \"contexts.json\")\n",
    "queries_path = os.path.join(input_dir, \"queries.json\")\n",
    "val_data_path = os.path.join(input_dir, \"val.csv\")\n",
    "DATASET_KWARGS_IDENTIFIABLE = {\n",
    "    **DATASET_KWARGS_IDENTIFIABLE,\n",
    "    **dict(\n",
    "        entities_path=entities_path,\n",
    "        contexts_path=contexts_path,\n",
    "        queries_path=queries_path,\n",
    "    ),\n",
    "}\n",
    "\n",
    "results_dir = os.path.join(data_dir, \"results\")\n",
    "val_results_path = os.path.join(results_dir, \"val.csv\")\n",
    "\n",
    "# Construct model id\n",
    "model_id = f\"{MODEL_ID}\"\n",
    "model_id += \"-8bit\" if LOAD_IN_8BIT else \"\"\n",
    "model_dir = os.path.join(data_dir, \"models\", model_id)\n",
    "\n",
    "print(f\"Data dir: {data_dir}\")\n",
    "print(f\"Model dir: {model_dir}\")"
   ]
  },
  {
   "cell_type": "code",
   "execution_count": 5,
   "metadata": {},
   "outputs": [
    {
     "name": "stdout",
     "output_type": "stream",
     "text": [
      "Analysis dir: data/CountryCapital/CountryCapital-mc10-me10/0/analysis\n"
     ]
    }
   ],
   "source": [
    "# Analysis dir\n",
    "analysis_dir = os.path.join(data_dir, \"analysis\")\n",
    "print(f\"Analysis dir: {analysis_dir}\")"
   ]
  },
  {
   "cell_type": "code",
   "execution_count": 6,
   "metadata": {},
   "outputs": [
    {
     "name": "stderr",
     "output_type": "stream",
     "text": [
      "100%|██████████| 2/2 [00:00<00:00, 6457.74it/s]\n"
     ]
    }
   ],
   "source": [
    "os.makedirs(input_dir, exist_ok=True)\n",
    "os.makedirs(results_dir, exist_ok=True)\n",
    "os.makedirs(model_dir, exist_ok=True)\n",
    "os.makedirs(analysis_dir, exist_ok=True)\n",
    "dataset = getattr(sys.modules[__name__], DATASET_NAME)(**DATASET_KWARGS_IDENTIFIABLE)"
   ]
  },
  {
   "cell_type": "code",
   "execution_count": 7,
   "metadata": {},
   "outputs": [],
   "source": [
    "# Set random seeds\n",
    "torch.manual_seed(SEED)\n",
    "np.random.seed(SEED)\n",
    "random.seed(SEED)"
   ]
  },
  {
   "cell_type": "code",
   "execution_count": 8,
   "metadata": {},
   "outputs": [
    {
     "name": "stderr",
     "output_type": "stream",
     "text": [
      "/home/kevin/mambaforge/envs/measurelm2/lib/python3.10/site-packages/torch/cuda/__init__.py:107: UserWarning: CUDA initialization: CUDA unknown error - this may be due to an incorrectly set up environment, e.g. changing env variable CUDA_VISIBLE_DEVICES after program start. Setting the available devices to be zero. (Triggered internally at /home/conda/feedstock_root/build_artifacts/pytorch-recipe_1696770056690/work/c10/cuda/CUDAFunctions.cpp:109.)\n",
      "  return torch._C._cuda_getDeviceCount() > 0\n"
     ]
    }
   ],
   "source": [
    "# GPU stuff\n",
    "device = \"cuda\" if torch.cuda.is_available() else \"cpu\""
   ]
  },
  {
   "cell_type": "code",
   "execution_count": 9,
   "metadata": {
    "tags": []
   },
   "outputs": [
    {
     "name": "stderr",
     "output_type": "stream",
     "text": [
      "\u001b[34m\u001b[1mwandb\u001b[0m: Currently logged in as: \u001b[33mkdu\u001b[0m (\u001b[33methz-rycolab\u001b[0m). Use \u001b[1m`wandb login --relogin`\u001b[0m to force relogin\n"
     ]
    },
    {
     "data": {
      "text/html": [
       "Tracking run with wandb version 0.16.1"
      ],
      "text/plain": [
       "<IPython.core.display.HTML object>"
      ]
     },
     "metadata": {},
     "output_type": "display_data"
    },
    {
     "data": {
      "text/html": [
       "Run data is saved locally in <code>/home/kevin/code/rycolab/measureLM/wandb/run-20231211_131954-8lpepnul</code>"
      ],
      "text/plain": [
       "<IPython.core.display.HTML object>"
      ]
     },
     "metadata": {},
     "output_type": "display_data"
    },
    {
     "data": {
      "text/html": [
       "Syncing run <strong><a href='https://wandb.ai/ethz-rycolab/context-vs-bias/runs/8lpepnul' target=\"_blank\">young-haze-14</a></strong> to <a href='https://wandb.ai/ethz-rycolab/context-vs-bias' target=\"_blank\">Weights & Biases</a> (<a href='https://wandb.me/run' target=\"_blank\">docs</a>)<br/>"
      ],
      "text/plain": [
       "<IPython.core.display.HTML object>"
      ]
     },
     "metadata": {},
     "output_type": "display_data"
    },
    {
     "data": {
      "text/html": [
       " View project at <a href='https://wandb.ai/ethz-rycolab/context-vs-bias' target=\"_blank\">https://wandb.ai/ethz-rycolab/context-vs-bias</a>"
      ],
      "text/plain": [
       "<IPython.core.display.HTML object>"
      ]
     },
     "metadata": {},
     "output_type": "display_data"
    },
    {
     "data": {
      "text/html": [
       " View run at <a href='https://wandb.ai/ethz-rycolab/context-vs-bias/runs/8lpepnul' target=\"_blank\">https://wandb.ai/ethz-rycolab/context-vs-bias/runs/8lpepnul</a>"
      ],
      "text/plain": [
       "<IPython.core.display.HTML object>"
      ]
     },
     "metadata": {},
     "output_type": "display_data"
    },
    {
     "name": "stdout",
     "output_type": "stream",
     "text": [
      "{'SEED': 0, 'DATASET_NAME': 'CountryCapital', 'DATASET_KWARGS_IDENTIFIABLE': {'max_contexts': 10, 'max_entities': 10, 'raw_country_capitals_path': 'data/CountryCapital/real-fake-country-capital.csv', 'entities_path': 'data/CountryCapital/CountryCapital-mc10-me10/0/inputs/entities.json', 'contexts_path': 'data/CountryCapital/CountryCapital-mc10-me10/0/inputs/contexts.json', 'queries_path': 'data/CountryCapital/CountryCapital-mc10-me10/0/inputs/queries.json'}, 'LOG_DATASETS': True, 'MODEL_ID': 'EleutherAI/pythia-70m-deduped', 'LOAD_IN_8BIT': False, 'COMPUTE_CMI': True, 'COMPUTE_KL': True, 'COMPUTE_GOOD_BAD': True, 'COMPUTE_GOOD_BAD_ABS': True, 'COMPUTE_GOOD_BAD_P_GOOD_ONLY': True, 'PROJECT_NAME': 'context-vs-bias', 'GROUP_NAME': None, 'TAGS': ['capitals', 'analysis']}\n"
     ]
    }
   ],
   "source": [
    "# wandb stuff\n",
    "os.environ[\"WANDB_NOTEBOOK_NAME\"] = os.path.join(os.getcwd(), \"analysis.ipynb\")\n",
    "\n",
    "params_to_log = {k: v for k, v in locals().items() if k.isupper()}\n",
    "\n",
    "run = wandb.init(\n",
    "    project=PROJECT_NAME,\n",
    "    group=GROUP_NAME,\n",
    "    config=params_to_log,\n",
    "    tags=TAGS,\n",
    "    mode=\"online\",\n",
    ")\n",
    "print(dict(wandb.config))"
   ]
  },
  {
   "attachments": {},
   "cell_type": "markdown",
   "metadata": {},
   "source": [
    "### Load Data"
   ]
  },
  {
   "cell_type": "code",
   "execution_count": 29,
   "metadata": {},
   "outputs": [],
   "source": [
    "from ast import literal_eval\n",
    "\n",
    "val_df_contexts_per_qe = pd.read_csv(\n",
    "    val_results_path, index_col=0, converters={\"contexts\": literal_eval}\n",
    ")"
   ]
  },
  {
   "cell_type": "code",
   "execution_count": 30,
   "metadata": {},
   "outputs": [
    {
     "name": "stderr",
     "output_type": "stream",
     "text": [
      "\u001b[34m\u001b[1mwandb\u001b[0m: Adding directory to artifact (./data/CountryCapital/CountryCapital-mc10-me10/0/inputs)... Done. 0.0s\n"
     ]
    },
    {
     "name": "stdout",
     "output_type": "stream",
     "text": [
      "Logging datasets to w&b run None.\n"
     ]
    },
    {
     "ename": "UsageError",
     "evalue": "Run (8lpepnul) is finished. The call to `log_artifact` will be ignored. Please make sure that you are using an active run.",
     "output_type": "error",
     "traceback": [
      "\u001b[0;31m---------------------------------------------------------------------------\u001b[0m",
      "\u001b[0;31mUsageError\u001b[0m                                Traceback (most recent call last)",
      "\u001b[1;32m/home/kevin/code/rycolab/measureLM/analysis.ipynb Cell 14\u001b[0m line \u001b[0;36m6\n\u001b[1;32m      <a href='vscode-notebook-cell:/home/kevin/code/rycolab/measureLM/analysis.ipynb#X20sZmlsZQ%3D%3D?line=3'>4</a>\u001b[0m artifact \u001b[39m=\u001b[39m wandb\u001b[39m.\u001b[39mArtifact(name\u001b[39m=\u001b[39mdata_id, \u001b[39mtype\u001b[39m\u001b[39m=\u001b[39m\u001b[39m\"\u001b[39m\u001b[39mdataset\u001b[39m\u001b[39m\"\u001b[39m)\n\u001b[1;32m      <a href='vscode-notebook-cell:/home/kevin/code/rycolab/measureLM/analysis.ipynb#X20sZmlsZQ%3D%3D?line=4'>5</a>\u001b[0m artifact\u001b[39m.\u001b[39madd_dir(local_path\u001b[39m=\u001b[39minput_dir)\n\u001b[0;32m----> <a href='vscode-notebook-cell:/home/kevin/code/rycolab/measureLM/analysis.ipynb#X20sZmlsZQ%3D%3D?line=5'>6</a>\u001b[0m run\u001b[39m.\u001b[39;49mlog_artifact(artifact)\n",
      "File \u001b[0;32m~/mambaforge/envs/measurelm2/lib/python3.10/site-packages/wandb/sdk/wandb_run.py:381\u001b[0m, in \u001b[0;36m_run_decorator._noop_on_finish.<locals>.decorator_fn.<locals>.wrapper_fn\u001b[0;34m(self, *args, **kwargs)\u001b[0m\n\u001b[1;32m    379\u001b[0m     warnings\u001b[39m.\u001b[39mwarn(resolved_message, \u001b[39mUserWarning\u001b[39;00m, stacklevel\u001b[39m=\u001b[39m\u001b[39m2\u001b[39m)\n\u001b[1;32m    380\u001b[0m \u001b[39melse\u001b[39;00m:\n\u001b[0;32m--> 381\u001b[0m     \u001b[39mraise\u001b[39;00m errors\u001b[39m.\u001b[39mUsageError(resolved_message)\n",
      "\u001b[0;31mUsageError\u001b[0m: Run (8lpepnul) is finished. The call to `log_artifact` will be ignored. Please make sure that you are using an active run."
     ]
    }
   ],
   "source": [
    "# After loading/preprocessing your dataset, log it as an artifact to W&B\n",
    "if LOG_DATASETS:\n",
    "    print(f\"Logging datasets to w&b run {wandb.run}.\")\n",
    "    artifact = wandb.Artifact(name=data_id, type=\"dataset\")\n",
    "    artifact.add_dir(local_path=input_dir)\n",
    "    run.log_artifact(artifact)"
   ]
  },
  {
   "attachments": {},
   "cell_type": "markdown",
   "metadata": {},
   "source": [
    "### Analyze Data"
   ]
  },
  {
   "cell_type": "code",
   "execution_count": 31,
   "metadata": {},
   "outputs": [
    {
     "data": {
      "text/html": [
       "<div>\n",
       "<style scoped>\n",
       "    .dataframe tbody tr th:only-of-type {\n",
       "        vertical-align: middle;\n",
       "    }\n",
       "\n",
       "    .dataframe tbody tr th {\n",
       "        vertical-align: top;\n",
       "    }\n",
       "\n",
       "    .dataframe thead th {\n",
       "        text-align: right;\n",
       "    }\n",
       "</style>\n",
       "<table border=\"1\" class=\"dataframe\">\n",
       "  <thead>\n",
       "    <tr style=\"text-align: right;\">\n",
       "      <th></th>\n",
       "      <th>q_id</th>\n",
       "      <th>query_form</th>\n",
       "      <th>entity</th>\n",
       "      <th>contexts</th>\n",
       "      <th>susceptibility_score</th>\n",
       "    </tr>\n",
       "  </thead>\n",
       "  <tbody>\n",
       "    <tr>\n",
       "      <th>0</th>\n",
       "      <td>capital_of</td>\n",
       "      <td>Q: What is the capital of {}?\\nA:</td>\n",
       "      <td>Cuba</td>\n",
       "      <td>[The capital of Easter Island is Jakarta.\\n, T...</td>\n",
       "      <td>0.036369</td>\n",
       "    </tr>\n",
       "    <tr>\n",
       "      <th>1</th>\n",
       "      <td>capital_of</td>\n",
       "      <td>Q: What is the capital of {}?\\nA:</td>\n",
       "      <td>Sachan</td>\n",
       "      <td>[The capital of Easter Island is Jakarta.\\n, T...</td>\n",
       "      <td>0.057300</td>\n",
       "    </tr>\n",
       "    <tr>\n",
       "      <th>2</th>\n",
       "      <td>capital_of</td>\n",
       "      <td>Q: What is the capital of {}?\\nA:</td>\n",
       "      <td>Lebanon</td>\n",
       "      <td>[The capital of Easter Island is Jakarta.\\n, T...</td>\n",
       "      <td>0.066166</td>\n",
       "    </tr>\n",
       "    <tr>\n",
       "      <th>3</th>\n",
       "      <td>capital_of</td>\n",
       "      <td>Q: What is the capital of {}?\\nA:</td>\n",
       "      <td>Paraguay</td>\n",
       "      <td>[The capital of Easter Island is Jakarta.\\n, T...</td>\n",
       "      <td>0.092626</td>\n",
       "    </tr>\n",
       "    <tr>\n",
       "      <th>4</th>\n",
       "      <td>capital_of</td>\n",
       "      <td>Q: What is the capital of {}?\\nA:</td>\n",
       "      <td>Wales</td>\n",
       "      <td>[The capital of Easter Island is Jakarta.\\n, T...</td>\n",
       "      <td>0.051006</td>\n",
       "    </tr>\n",
       "  </tbody>\n",
       "</table>\n",
       "</div>"
      ],
      "text/plain": [
       "         q_id                         query_form    entity  \\\n",
       "0  capital_of  Q: What is the capital of {}?\\nA:      Cuba   \n",
       "1  capital_of  Q: What is the capital of {}?\\nA:    Sachan   \n",
       "2  capital_of  Q: What is the capital of {}?\\nA:   Lebanon   \n",
       "3  capital_of  Q: What is the capital of {}?\\nA:  Paraguay   \n",
       "4  capital_of  Q: What is the capital of {}?\\nA:     Wales   \n",
       "\n",
       "                                            contexts  susceptibility_score  \n",
       "0  [The capital of Easter Island is Jakarta.\\n, T...              0.036369  \n",
       "1  [The capital of Easter Island is Jakarta.\\n, T...              0.057300  \n",
       "2  [The capital of Easter Island is Jakarta.\\n, T...              0.066166  \n",
       "3  [The capital of Easter Island is Jakarta.\\n, T...              0.092626  \n",
       "4  [The capital of Easter Island is Jakarta.\\n, T...              0.051006  "
      ]
     },
     "execution_count": 31,
     "metadata": {},
     "output_type": "execute_result"
    }
   ],
   "source": [
    "val_df_contexts_per_qe.head()"
   ]
  },
  {
   "cell_type": "code",
   "execution_count": 32,
   "metadata": {},
   "outputs": [
    {
     "data": {
      "text/plain": [
       "entity\n",
       "Cuba                         2\n",
       "Sachan                       2\n",
       "Lebanon                      2\n",
       "Paraguay                     2\n",
       "Wales                        2\n",
       "United Kingdom; England      2\n",
       "Ecuador                      2\n",
       "Easter Island                2\n",
       "France                       2\n",
       "Nagorno-Karabakh Republic    2\n",
       "Name: count, dtype: int64"
      ]
     },
     "execution_count": 32,
     "metadata": {},
     "output_type": "execute_result"
    }
   ],
   "source": [
    "val_df_contexts_per_qe[\"entity\"].value_counts()"
   ]
  },
  {
   "cell_type": "code",
   "execution_count": 33,
   "metadata": {},
   "outputs": [
    {
     "data": {
      "text/plain": [
       "['The capital of Easter Island is Jakarta.\\n',\n",
       " 'The capital of Easter Island is Ryan.\\n',\n",
       " 'The capital of Lebanon is Tashkent.\\n',\n",
       " 'The capital of Nagorno-Karabakh Republic is Luanda.\\n',\n",
       " 'The capital of Wales is Santo Domingo.\\n',\n",
       " 'The capital of Wales is Ottawa.\\n',\n",
       " 'The capital of Easter Island is Luxembourg.\\n',\n",
       " 'The capital of Ecuador is Baku.\\n',\n",
       " 'The capital of Nagorno-Karabakh Republic is Banjul.\\n',\n",
       " 'The capital of Easter Island is Doha.\\n']"
      ]
     },
     "execution_count": 33,
     "metadata": {},
     "output_type": "execute_result"
    }
   ],
   "source": [
    "val_df_contexts_per_qe.iloc[0][\"contexts\"]"
   ]
  },
  {
   "cell_type": "code",
   "execution_count": 14,
   "metadata": {},
   "outputs": [
    {
     "data": {
      "text/html": [
       "<div>\n",
       "<style scoped>\n",
       "    .dataframe tbody tr th:only-of-type {\n",
       "        vertical-align: middle;\n",
       "    }\n",
       "\n",
       "    .dataframe tbody tr th {\n",
       "        vertical-align: top;\n",
       "    }\n",
       "\n",
       "    .dataframe thead th {\n",
       "        text-align: right;\n",
       "    }\n",
       "</style>\n",
       "<table border=\"1\" class=\"dataframe\">\n",
       "  <thead>\n",
       "    <tr style=\"text-align: right;\">\n",
       "      <th></th>\n",
       "      <th>Unnamed: 0</th>\n",
       "      <th>q_id</th>\n",
       "      <th>query_form</th>\n",
       "      <th>entity</th>\n",
       "      <th>contexts</th>\n",
       "      <th>susceptibility_score</th>\n",
       "    </tr>\n",
       "  </thead>\n",
       "  <tbody>\n",
       "    <tr>\n",
       "      <th>15</th>\n",
       "      <td>15</td>\n",
       "      <td>capital_of</td>\n",
       "      <td>The capital of {} is</td>\n",
       "      <td>United Kingdom; England</td>\n",
       "      <td>['The capital of Easter Island is Jakarta.\\n',...</td>\n",
       "      <td>0.118859</td>\n",
       "    </tr>\n",
       "    <tr>\n",
       "      <th>11</th>\n",
       "      <td>11</td>\n",
       "      <td>capital_of</td>\n",
       "      <td>The capital of {} is</td>\n",
       "      <td>Sachan</td>\n",
       "      <td>['The capital of Easter Island is Jakarta.\\n',...</td>\n",
       "      <td>0.494262</td>\n",
       "    </tr>\n",
       "    <tr>\n",
       "      <th>12</th>\n",
       "      <td>12</td>\n",
       "      <td>capital_of</td>\n",
       "      <td>The capital of {} is</td>\n",
       "      <td>Lebanon</td>\n",
       "      <td>['The capital of Easter Island is Jakarta.\\n',...</td>\n",
       "      <td>0.553292</td>\n",
       "    </tr>\n",
       "    <tr>\n",
       "      <th>10</th>\n",
       "      <td>10</td>\n",
       "      <td>capital_of</td>\n",
       "      <td>The capital of {} is</td>\n",
       "      <td>Cuba</td>\n",
       "      <td>['The capital of Easter Island is Jakarta.\\n',...</td>\n",
       "      <td>0.578758</td>\n",
       "    </tr>\n",
       "    <tr>\n",
       "      <th>16</th>\n",
       "      <td>16</td>\n",
       "      <td>capital_of</td>\n",
       "      <td>The capital of {} is</td>\n",
       "      <td>Ecuador</td>\n",
       "      <td>['The capital of Easter Island is Jakarta.\\n',...</td>\n",
       "      <td>0.592763</td>\n",
       "    </tr>\n",
       "    <tr>\n",
       "      <th>18</th>\n",
       "      <td>18</td>\n",
       "      <td>capital_of</td>\n",
       "      <td>The capital of {} is</td>\n",
       "      <td>France</td>\n",
       "      <td>['The capital of Easter Island is Jakarta.\\n',...</td>\n",
       "      <td>0.607013</td>\n",
       "    </tr>\n",
       "    <tr>\n",
       "      <th>14</th>\n",
       "      <td>14</td>\n",
       "      <td>capital_of</td>\n",
       "      <td>The capital of {} is</td>\n",
       "      <td>Wales</td>\n",
       "      <td>['The capital of Easter Island is Jakarta.\\n',...</td>\n",
       "      <td>0.679343</td>\n",
       "    </tr>\n",
       "    <tr>\n",
       "      <th>13</th>\n",
       "      <td>13</td>\n",
       "      <td>capital_of</td>\n",
       "      <td>The capital of {} is</td>\n",
       "      <td>Paraguay</td>\n",
       "      <td>['The capital of Easter Island is Jakarta.\\n',...</td>\n",
       "      <td>0.717503</td>\n",
       "    </tr>\n",
       "    <tr>\n",
       "      <th>17</th>\n",
       "      <td>17</td>\n",
       "      <td>capital_of</td>\n",
       "      <td>The capital of {} is</td>\n",
       "      <td>Easter Island</td>\n",
       "      <td>['The capital of Easter Island is Jakarta.\\n',...</td>\n",
       "      <td>0.884176</td>\n",
       "    </tr>\n",
       "    <tr>\n",
       "      <th>19</th>\n",
       "      <td>19</td>\n",
       "      <td>capital_of</td>\n",
       "      <td>The capital of {} is</td>\n",
       "      <td>Nagorno-Karabakh Republic</td>\n",
       "      <td>['The capital of Easter Island is Jakarta.\\n',...</td>\n",
       "      <td>0.921168</td>\n",
       "    </tr>\n",
       "  </tbody>\n",
       "</table>\n",
       "</div>"
      ],
      "text/plain": [
       "    Unnamed: 0        q_id            query_form                     entity  \\\n",
       "15          15  capital_of  The capital of {} is    United Kingdom; England   \n",
       "11          11  capital_of  The capital of {} is                     Sachan   \n",
       "12          12  capital_of  The capital of {} is                    Lebanon   \n",
       "10          10  capital_of  The capital of {} is                       Cuba   \n",
       "16          16  capital_of  The capital of {} is                    Ecuador   \n",
       "18          18  capital_of  The capital of {} is                     France   \n",
       "14          14  capital_of  The capital of {} is                      Wales   \n",
       "13          13  capital_of  The capital of {} is                   Paraguay   \n",
       "17          17  capital_of  The capital of {} is              Easter Island   \n",
       "19          19  capital_of  The capital of {} is  Nagorno-Karabakh Republic   \n",
       "\n",
       "                                             contexts  susceptibility_score  \n",
       "15  ['The capital of Easter Island is Jakarta.\\n',...              0.118859  \n",
       "11  ['The capital of Easter Island is Jakarta.\\n',...              0.494262  \n",
       "12  ['The capital of Easter Island is Jakarta.\\n',...              0.553292  \n",
       "10  ['The capital of Easter Island is Jakarta.\\n',...              0.578758  \n",
       "16  ['The capital of Easter Island is Jakarta.\\n',...              0.592763  \n",
       "18  ['The capital of Easter Island is Jakarta.\\n',...              0.607013  \n",
       "14  ['The capital of Easter Island is Jakarta.\\n',...              0.679343  \n",
       "13  ['The capital of Easter Island is Jakarta.\\n',...              0.717503  \n",
       "17  ['The capital of Easter Island is Jakarta.\\n',...              0.884176  \n",
       "19  ['The capital of Easter Island is Jakarta.\\n',...              0.921168  "
      ]
     },
     "execution_count": 14,
     "metadata": {},
     "output_type": "execute_result"
    }
   ],
   "source": [
    "val_df_contexts_per_qe[\n",
    "    val_df_contexts_per_qe[\"query_form\"] == \"The capital of {} is\"\n",
    "].sort_values(by=\"susceptibility_score\")"
   ]
  },
  {
   "cell_type": "code",
   "execution_count": 15,
   "metadata": {},
   "outputs": [
    {
     "data": {
      "text/html": [
       "<div>\n",
       "<style scoped>\n",
       "    .dataframe tbody tr th:only-of-type {\n",
       "        vertical-align: middle;\n",
       "    }\n",
       "\n",
       "    .dataframe tbody tr th {\n",
       "        vertical-align: top;\n",
       "    }\n",
       "\n",
       "    .dataframe thead th {\n",
       "        text-align: right;\n",
       "    }\n",
       "</style>\n",
       "<table border=\"1\" class=\"dataframe\">\n",
       "  <thead>\n",
       "    <tr style=\"text-align: right;\">\n",
       "      <th></th>\n",
       "      <th>Unnamed: 0</th>\n",
       "      <th>q_id</th>\n",
       "      <th>query_form</th>\n",
       "      <th>entity</th>\n",
       "      <th>contexts</th>\n",
       "      <th>susceptibility_score</th>\n",
       "    </tr>\n",
       "  </thead>\n",
       "  <tbody>\n",
       "    <tr>\n",
       "      <th>6</th>\n",
       "      <td>6</td>\n",
       "      <td>capital_of</td>\n",
       "      <td>Q: What is the capital of {}?\\nA:</td>\n",
       "      <td>Ecuador</td>\n",
       "      <td>['The capital of Easter Island is Jakarta.\\n',...</td>\n",
       "      <td>0.030048</td>\n",
       "    </tr>\n",
       "    <tr>\n",
       "      <th>0</th>\n",
       "      <td>0</td>\n",
       "      <td>capital_of</td>\n",
       "      <td>Q: What is the capital of {}?\\nA:</td>\n",
       "      <td>Cuba</td>\n",
       "      <td>['The capital of Easter Island is Jakarta.\\n',...</td>\n",
       "      <td>0.036369</td>\n",
       "    </tr>\n",
       "    <tr>\n",
       "      <th>8</th>\n",
       "      <td>8</td>\n",
       "      <td>capital_of</td>\n",
       "      <td>Q: What is the capital of {}?\\nA:</td>\n",
       "      <td>France</td>\n",
       "      <td>['The capital of Easter Island is Jakarta.\\n',...</td>\n",
       "      <td>0.045785</td>\n",
       "    </tr>\n",
       "    <tr>\n",
       "      <th>4</th>\n",
       "      <td>4</td>\n",
       "      <td>capital_of</td>\n",
       "      <td>Q: What is the capital of {}?\\nA:</td>\n",
       "      <td>Wales</td>\n",
       "      <td>['The capital of Easter Island is Jakarta.\\n',...</td>\n",
       "      <td>0.051006</td>\n",
       "    </tr>\n",
       "    <tr>\n",
       "      <th>5</th>\n",
       "      <td>5</td>\n",
       "      <td>capital_of</td>\n",
       "      <td>Q: What is the capital of {}?\\nA:</td>\n",
       "      <td>United Kingdom; England</td>\n",
       "      <td>['The capital of Easter Island is Jakarta.\\n',...</td>\n",
       "      <td>0.051659</td>\n",
       "    </tr>\n",
       "    <tr>\n",
       "      <th>1</th>\n",
       "      <td>1</td>\n",
       "      <td>capital_of</td>\n",
       "      <td>Q: What is the capital of {}?\\nA:</td>\n",
       "      <td>Sachan</td>\n",
       "      <td>['The capital of Easter Island is Jakarta.\\n',...</td>\n",
       "      <td>0.057300</td>\n",
       "    </tr>\n",
       "    <tr>\n",
       "      <th>2</th>\n",
       "      <td>2</td>\n",
       "      <td>capital_of</td>\n",
       "      <td>Q: What is the capital of {}?\\nA:</td>\n",
       "      <td>Lebanon</td>\n",
       "      <td>['The capital of Easter Island is Jakarta.\\n',...</td>\n",
       "      <td>0.066166</td>\n",
       "    </tr>\n",
       "    <tr>\n",
       "      <th>9</th>\n",
       "      <td>9</td>\n",
       "      <td>capital_of</td>\n",
       "      <td>Q: What is the capital of {}?\\nA:</td>\n",
       "      <td>Nagorno-Karabakh Republic</td>\n",
       "      <td>['The capital of Easter Island is Jakarta.\\n',...</td>\n",
       "      <td>0.082448</td>\n",
       "    </tr>\n",
       "    <tr>\n",
       "      <th>3</th>\n",
       "      <td>3</td>\n",
       "      <td>capital_of</td>\n",
       "      <td>Q: What is the capital of {}?\\nA:</td>\n",
       "      <td>Paraguay</td>\n",
       "      <td>['The capital of Easter Island is Jakarta.\\n',...</td>\n",
       "      <td>0.092626</td>\n",
       "    </tr>\n",
       "    <tr>\n",
       "      <th>7</th>\n",
       "      <td>7</td>\n",
       "      <td>capital_of</td>\n",
       "      <td>Q: What is the capital of {}?\\nA:</td>\n",
       "      <td>Easter Island</td>\n",
       "      <td>['The capital of Easter Island is Jakarta.\\n',...</td>\n",
       "      <td>0.095616</td>\n",
       "    </tr>\n",
       "  </tbody>\n",
       "</table>\n",
       "</div>"
      ],
      "text/plain": [
       "   Unnamed: 0        q_id                         query_form  \\\n",
       "6           6  capital_of  Q: What is the capital of {}?\\nA:   \n",
       "0           0  capital_of  Q: What is the capital of {}?\\nA:   \n",
       "8           8  capital_of  Q: What is the capital of {}?\\nA:   \n",
       "4           4  capital_of  Q: What is the capital of {}?\\nA:   \n",
       "5           5  capital_of  Q: What is the capital of {}?\\nA:   \n",
       "1           1  capital_of  Q: What is the capital of {}?\\nA:   \n",
       "2           2  capital_of  Q: What is the capital of {}?\\nA:   \n",
       "9           9  capital_of  Q: What is the capital of {}?\\nA:   \n",
       "3           3  capital_of  Q: What is the capital of {}?\\nA:   \n",
       "7           7  capital_of  Q: What is the capital of {}?\\nA:   \n",
       "\n",
       "                      entity  \\\n",
       "6                    Ecuador   \n",
       "0                       Cuba   \n",
       "8                     France   \n",
       "4                      Wales   \n",
       "5    United Kingdom; England   \n",
       "1                     Sachan   \n",
       "2                    Lebanon   \n",
       "9  Nagorno-Karabakh Republic   \n",
       "3                   Paraguay   \n",
       "7              Easter Island   \n",
       "\n",
       "                                            contexts  susceptibility_score  \n",
       "6  ['The capital of Easter Island is Jakarta.\\n',...              0.030048  \n",
       "0  ['The capital of Easter Island is Jakarta.\\n',...              0.036369  \n",
       "8  ['The capital of Easter Island is Jakarta.\\n',...              0.045785  \n",
       "4  ['The capital of Easter Island is Jakarta.\\n',...              0.051006  \n",
       "5  ['The capital of Easter Island is Jakarta.\\n',...              0.051659  \n",
       "1  ['The capital of Easter Island is Jakarta.\\n',...              0.057300  \n",
       "2  ['The capital of Easter Island is Jakarta.\\n',...              0.066166  \n",
       "9  ['The capital of Easter Island is Jakarta.\\n',...              0.082448  \n",
       "3  ['The capital of Easter Island is Jakarta.\\n',...              0.092626  \n",
       "7  ['The capital of Easter Island is Jakarta.\\n',...              0.095616  "
      ]
     },
     "execution_count": 15,
     "metadata": {},
     "output_type": "execute_result"
    }
   ],
   "source": [
    "val_df_contexts_per_qe[\n",
    "    val_df_contexts_per_qe[\"query_form\"] == \"Q: What is the capital of {}?\\nA:\"\n",
    "].sort_values(by=\"susceptibility_score\")"
   ]
  },
  {
   "cell_type": "code",
   "execution_count": 16,
   "metadata": {},
   "outputs": [
    {
     "data": {
      "text/html": [
       "W&B sync reduced upload amount by 6.9%             "
      ],
      "text/plain": [
       "<IPython.core.display.HTML object>"
      ]
     },
     "metadata": {},
     "output_type": "display_data"
    },
    {
     "data": {
      "text/html": [
       " View run <strong style=\"color:#cdcd00\">young-haze-14</strong> at: <a href='https://wandb.ai/ethz-rycolab/context-vs-bias/runs/8lpepnul' target=\"_blank\">https://wandb.ai/ethz-rycolab/context-vs-bias/runs/8lpepnul</a><br/> View job at <a href='https://wandb.ai/ethz-rycolab/context-vs-bias/jobs/QXJ0aWZhY3RDb2xsZWN0aW9uOjEyMjc3MzgzMg==/version_details/v0' target=\"_blank\">https://wandb.ai/ethz-rycolab/context-vs-bias/jobs/QXJ0aWZhY3RDb2xsZWN0aW9uOjEyMjc3MzgzMg==/version_details/v0</a><br/>Synced 7 W&B file(s), 0 media file(s), 8 artifact file(s) and 0 other file(s)"
      ],
      "text/plain": [
       "<IPython.core.display.HTML object>"
      ]
     },
     "metadata": {},
     "output_type": "display_data"
    },
    {
     "data": {
      "text/html": [
       "Find logs at: <code>./wandb/run-20231211_131954-8lpepnul/logs</code>"
      ],
      "text/plain": [
       "<IPython.core.display.HTML object>"
      ]
     },
     "metadata": {},
     "output_type": "display_data"
    }
   ],
   "source": [
    "wandb.finish()"
   ]
  }
 ],
 "metadata": {
  "kernelspec": {
   "display_name": "rlace",
   "language": "python",
   "name": "python3"
  },
  "language_info": {
   "codemirror_mode": {
    "name": "ipython",
    "version": 3
   },
   "file_extension": ".py",
   "mimetype": "text/x-python",
   "name": "python",
   "nbconvert_exporter": "python",
   "pygments_lexer": "ipython3",
   "version": "3.10.13"
  },
  "orig_nbformat": 4
 },
 "nbformat": 4,
 "nbformat_minor": 2
}
