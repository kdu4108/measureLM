{
 "cells": [
  {
   "cell_type": "markdown",
   "metadata": {},
   "source": [
    "# Analyzing Susceptibility Scores\n",
    "Given a CSV with the columns:\n",
    "\n",
    "```q_id,\tquery_form,\tentity,\tcontexts,\tsusceptibility_score```\n",
    "\n",
    "Analyze the results for patterns and correlations"
   ]
  },
  {
   "cell_type": "code",
   "execution_count": 1,
   "metadata": {},
   "outputs": [],
   "source": [
    "%load_ext autoreload\n",
    "%autoreload 2\n",
    "%load_ext lab_black"
   ]
  },
  {
   "cell_type": "code",
   "execution_count": 2,
   "metadata": {},
   "outputs": [],
   "source": [
    "import os\n",
    "import sys\n",
    "import math\n",
    "import random\n",
    "from itertools import product\n",
    "from tqdm import tqdm\n",
    "import yaml\n",
    "\n",
    "import pandas as pd\n",
    "import seaborn as sns\n",
    "# from transformers import GPTNeoXForCausalLM, AutoTokenizer\n",
    "import torch\n",
    "from typing import List\n",
    "from matplotlib import pyplot as plt\n",
    "import numpy as np\n",
    "import wandb\n",
    "\n",
    "import statsmodels.api as sm\n",
    "\n",
    "# from measuring.estimate_probs import (\n",
    "#     estimate_prob_y_given_context_and_entity,\n",
    "#     estimate_prob_x_given_e,\n",
    "#     estimate_prob_next_word_given_x_and_entity,\n",
    "#     estimate_cmi,\n",
    "#     score_model_for_next_word_prob,\n",
    "#     create_position_ids_from_input_ids,\n",
    "#     sharded_score_model,\n",
    "#     estimate_entity_score,\n",
    "#     kl_div,\n",
    "#     difference,\n",
    "#     difference_p_good_only,\n",
    "#     difference_abs_val,\n",
    "# )\n",
    "from preprocessing.datasets import CountryCapital"
   ]
  },
  {
   "cell_type": "markdown",
   "metadata": {},
   "source": [
    "### Preamble"
   ]
  },
  {
   "cell_type": "code",
   "execution_count": 3,
   "metadata": {
    "tags": [
     "parameters"
    ]
   },
   "outputs": [],
   "source": [
    "##################\n",
    "### Parameters ###\n",
    "##################\n",
    "\n",
    "# Data parameters\n",
    "SEED = 0\n",
    "DATASET_NAME = \"CountryCapital\"\n",
    "DATASET_KWARGS_IDENTIFIABLE = dict(\n",
    "    max_contexts=450,\n",
    "    max_entities=90,\n",
    "    cap_per_type=True,\n",
    "    raw_country_capitals_path=\"data/CountryCapital/real-fake-historical-fictional-famousfictional-country-capital.csv\",\n",
    ")\n",
    "LOG_DATASETS = True\n",
    "\n",
    "# Model parameters\n",
    "# MODEL_ID = \"EleutherAI/pythia-70m-deduped\"\n",
    "# LOAD_IN_8BIT = False\n",
    "MODEL_ID = \"EleutherAI/pythia-6.9b-deduped\"\n",
    "LOAD_IN_8BIT = True\n",
    "BATCH_SZ = 16\n",
    "\n",
    "# Evaluation switches\n",
    "COMPUTE_CMI = True\n",
    "COMPUTE_KL = True\n",
    "COMPUTE_GOOD_BAD = True\n",
    "COMPUTE_GOOD_BAD_ABS = True\n",
    "COMPUTE_GOOD_BAD_P_GOOD_ONLY = True\n",
    "\n",
    "# wandb stuff\n",
    "PROJECT_NAME = \"context-vs-bias\"\n",
    "GROUP_NAME = None\n",
    "TAGS = [\"capitals\", \"analysis\"]"
   ]
  },
  {
   "cell_type": "code",
   "execution_count": 4,
   "metadata": {},
   "outputs": [
    {
     "name": "stdout",
     "output_type": "stream",
     "text": [
      "Data dir: data/CountryCapital/CountryCapital-mc450-me90-cappertype/0\n",
      "Model dir: data/CountryCapital/CountryCapital-mc450-me90-cappertype/0/models/EleutherAI/pythia-6.9b-deduped-8bit\n"
     ]
    }
   ],
   "source": [
    "# Paths\n",
    "# Construct dataset and data ids\n",
    "# dataset = getattr(sys.modules[__name__], DATASET_NAME)(**DATASET_KWARGS_IDENTIFIABLE)\n",
    "data_id = f\"{DATASET_NAME}\"\n",
    "data_id += (\n",
    "    f\"-mc{DATASET_KWARGS_IDENTIFIABLE['max_contexts']}\"\n",
    "    if \"max_contexts\" in DATASET_KWARGS_IDENTIFIABLE\n",
    "    and DATASET_KWARGS_IDENTIFIABLE[\"max_contexts\"] is not None\n",
    "    else \"\"\n",
    ")\n",
    "data_id += (\n",
    "    f\"-me{DATASET_KWARGS_IDENTIFIABLE['max_entities']}\"\n",
    "    if \"max_entities\" in DATASET_KWARGS_IDENTIFIABLE\n",
    "    and DATASET_KWARGS_IDENTIFIABLE[\"max_entities\"] is not None\n",
    "    else \"\"\n",
    ")\n",
    "data_id += (\n",
    "    \"-cappertype\"\n",
    "    if \"cap_per_type\" in DATASET_KWARGS_IDENTIFIABLE\n",
    "    and DATASET_KWARGS_IDENTIFIABLE[\"cap_per_type\"]\n",
    "    else \"\"\n",
    ")\n",
    "\n",
    "data_dir = os.path.join(\"data\", DATASET_NAME, data_id, f\"{SEED}\")\n",
    "input_dir = os.path.join(data_dir, \"inputs\")\n",
    "entities_path = os.path.join(input_dir, \"entities.json\")\n",
    "contexts_path = os.path.join(input_dir, \"contexts.json\")\n",
    "queries_path = os.path.join(input_dir, \"queries.json\")\n",
    "val_data_path = os.path.join(input_dir, \"val.csv\")\n",
    "DATASET_KWARGS_IDENTIFIABLE = {\n",
    "    **DATASET_KWARGS_IDENTIFIABLE,\n",
    "    **dict(\n",
    "        entities_path=entities_path,\n",
    "        contexts_path=contexts_path,\n",
    "        queries_path=queries_path,\n",
    "    ),\n",
    "}\n",
    "\n",
    "results_dir = os.path.join(data_dir, \"results\")\n",
    "val_results_path = os.path.join(results_dir, \"val.csv\")\n",
    "\n",
    "# Construct model id\n",
    "model_id = f\"{MODEL_ID}\"\n",
    "model_id += \"-8bit\" if LOAD_IN_8BIT else \"\"\n",
    "model_dir = os.path.join(data_dir, \"models\", model_id)\n",
    "\n",
    "print(f\"Data dir: {data_dir}\")\n",
    "print(f\"Model dir: {model_dir}\")"
   ]
  },
  {
   "cell_type": "code",
   "execution_count": 5,
   "metadata": {},
   "outputs": [
    {
     "name": "stdout",
     "output_type": "stream",
     "text": [
      "Analysis dir: data/CountryCapital/CountryCapital-mc450-me90-cappertype/0/analysis\n"
     ]
    }
   ],
   "source": [
    "# Analysis dir\n",
    "analysis_dir = os.path.join(data_dir, \"analysis\")\n",
    "print(f\"Analysis dir: {analysis_dir}\")"
   ]
  },
  {
   "cell_type": "code",
   "execution_count": 6,
   "metadata": {},
   "outputs": [
    {
     "name": "stderr",
     "output_type": "stream",
     "text": [
      "100%|██████████| 2/2 [00:00<00:00, 52.15it/s]\n"
     ]
    }
   ],
   "source": [
    "os.makedirs(input_dir, exist_ok=True)\n",
    "os.makedirs(results_dir, exist_ok=True)\n",
    "os.makedirs(model_dir, exist_ok=True)\n",
    "os.makedirs(analysis_dir, exist_ok=True)\n",
    "dataset = getattr(sys.modules[__name__], DATASET_NAME)(**DATASET_KWARGS_IDENTIFIABLE)"
   ]
  },
  {
   "cell_type": "code",
   "execution_count": 7,
   "metadata": {},
   "outputs": [],
   "source": [
    "# Set random seeds\n",
    "torch.manual_seed(SEED)\n",
    "np.random.seed(SEED)\n",
    "random.seed(SEED)"
   ]
  },
  {
   "cell_type": "code",
   "execution_count": 8,
   "metadata": {},
   "outputs": [],
   "source": [
    "# GPU stuff\n",
    "device = \"cuda\" if torch.cuda.is_available() else \"cpu\""
   ]
  },
  {
   "cell_type": "code",
   "execution_count": 9,
   "metadata": {
    "tags": []
   },
   "outputs": [
    {
     "name": "stderr",
     "output_type": "stream",
     "text": [
      "\u001b[34m\u001b[1mwandb\u001b[0m: Currently logged in as: \u001b[33mkdu\u001b[0m (\u001b[33methz-rycolab\u001b[0m). Use \u001b[1m`wandb login --relogin`\u001b[0m to force relogin\n",
      "/cluster/home/kevidu/.local/lib/python3.10/site-packages/numpy/core/getlimits.py:500: UserWarning: The value of the smallest subnormal for <class 'numpy.float32'> type is zero.\n",
      "  setattr(self, word, getattr(machar, word).flat[0])\n",
      "/cluster/home/kevidu/.local/lib/python3.10/site-packages/numpy/core/getlimits.py:89: UserWarning: The value of the smallest subnormal for <class 'numpy.float32'> type is zero.\n",
      "  return self._float_to_str(self.smallest_subnormal)\n",
      "/cluster/home/kevidu/.local/lib/python3.10/site-packages/numpy/core/getlimits.py:500: UserWarning: The value of the smallest subnormal for <class 'numpy.float64'> type is zero.\n",
      "  setattr(self, word, getattr(machar, word).flat[0])\n",
      "/cluster/home/kevidu/.local/lib/python3.10/site-packages/numpy/core/getlimits.py:89: UserWarning: The value of the smallest subnormal for <class 'numpy.float64'> type is zero.\n",
      "  return self._float_to_str(self.smallest_subnormal)\n"
     ]
    },
    {
     "data": {
      "text/html": [
       "wandb version 0.16.1 is available!  To upgrade, please run:\n",
       " $ pip install wandb --upgrade"
      ],
      "text/plain": [
       "<IPython.core.display.HTML object>"
      ]
     },
     "metadata": {},
     "output_type": "display_data"
    },
    {
     "data": {
      "text/html": [
       "Tracking run with wandb version 0.12.17"
      ],
      "text/plain": [
       "<IPython.core.display.HTML object>"
      ]
     },
     "metadata": {},
     "output_type": "display_data"
    },
    {
     "data": {
      "text/html": [
       "Run data is saved locally in <code>/cluster/work/cotterell/kdu/measureLM/wandb/run-20231218_205835-3h3g0n4f</code>"
      ],
      "text/plain": [
       "<IPython.core.display.HTML object>"
      ]
     },
     "metadata": {},
     "output_type": "display_data"
    },
    {
     "data": {
      "text/html": [
       "Syncing run <strong><a href=\"https://wandb.ai/ethz-rycolab/context-vs-bias/runs/3h3g0n4f\" target=\"_blank\">worthy-shape-40</a></strong> to <a href=\"https://wandb.ai/ethz-rycolab/context-vs-bias\" target=\"_blank\">Weights & Biases</a> (<a href=\"https://wandb.me/run\" target=\"_blank\">docs</a>)<br/>"
      ],
      "text/plain": [
       "<IPython.core.display.HTML object>"
      ]
     },
     "metadata": {},
     "output_type": "display_data"
    },
    {
     "name": "stdout",
     "output_type": "stream",
     "text": [
      "{'SEED': 0, 'DATASET_NAME': 'CountryCapital', 'DATASET_KWARGS_IDENTIFIABLE': {'max_contexts': 450, 'max_entities': 90, 'cap_per_type': True, 'raw_country_capitals_path': 'data/CountryCapital/real-fake-historical-fictional-famousfictional-country-capital.csv', 'entities_path': 'data/CountryCapital/CountryCapital-mc450-me90-cappertype/0/inputs/entities.json', 'contexts_path': 'data/CountryCapital/CountryCapital-mc450-me90-cappertype/0/inputs/contexts.json', 'queries_path': 'data/CountryCapital/CountryCapital-mc450-me90-cappertype/0/inputs/queries.json'}, 'LOG_DATASETS': True, 'MODEL_ID': 'EleutherAI/pythia-6.9b-deduped', 'LOAD_IN_8BIT': True, 'BATCH_SZ': 16, 'COMPUTE_CMI': True, 'COMPUTE_KL': True, 'COMPUTE_GOOD_BAD': True, 'COMPUTE_GOOD_BAD_ABS': True, 'COMPUTE_GOOD_BAD_P_GOOD_ONLY': True, 'PROJECT_NAME': 'context-vs-bias', 'GROUP_NAME': None, 'TAGS': ['capitals', 'analysis']}\n"
     ]
    }
   ],
   "source": [
    "# wandb stuff\n",
    "os.environ[\"WANDB_NOTEBOOK_NAME\"] = os.path.join(os.getcwd(), \"analysis.ipynb\")\n",
    "\n",
    "params_to_log = {k: v for k, v in locals().items() if k.isupper()}\n",
    "\n",
    "run = wandb.init(\n",
    "    project=PROJECT_NAME,\n",
    "    group=GROUP_NAME,\n",
    "    config=params_to_log,\n",
    "    tags=TAGS,\n",
    "    mode=\"online\",\n",
    ")\n",
    "print(dict(wandb.config))"
   ]
  },
  {
   "cell_type": "markdown",
   "metadata": {},
   "source": [
    "### Load Data"
   ]
  },
  {
   "cell_type": "code",
   "execution_count": 10,
   "metadata": {},
   "outputs": [],
   "source": [
    "from ast import literal_eval\n",
    "\n",
    "val_df_contexts_per_qe = pd.read_csv(\n",
    "    val_results_path, index_col=0, converters={\"contexts\": literal_eval}\n",
    ")"
   ]
  },
  {
   "cell_type": "code",
   "execution_count": 11,
   "metadata": {},
   "outputs": [
    {
     "name": "stderr",
     "output_type": "stream",
     "text": [
      "\u001b[34m\u001b[1mwandb\u001b[0m: Adding directory to artifact (./data/CountryCapital/CountryCapital-mc450-me90-cappertype/0/inputs)... Done. 0.1s\n"
     ]
    },
    {
     "name": "stdout",
     "output_type": "stream",
     "text": [
      "Logging datasets to w&b run <wandb.sdk.wandb_run.Run object at 0x2ae26f2e9870>.\n"
     ]
    }
   ],
   "source": [
    "# After loading/preprocessing your dataset, log it as an artifact to W&B\n",
    "if LOG_DATASETS:\n",
    "    print(f\"Logging datasets to w&b run {wandb.run}.\")\n",
    "    artifact = wandb.Artifact(name=data_id, type=\"dataset\")\n",
    "    artifact.add_dir(local_path=input_dir)\n",
    "    run.log_artifact(artifact)"
   ]
  },
  {
   "cell_type": "markdown",
   "metadata": {},
   "source": [
    "### Analyze Data"
   ]
  },
  {
   "cell_type": "code",
   "execution_count": 12,
   "metadata": {},
   "outputs": [
    {
     "data": {
      "text/html": [
       "<div>\n",
       "<style scoped>\n",
       "    .dataframe tbody tr th:only-of-type {\n",
       "        vertical-align: middle;\n",
       "    }\n",
       "\n",
       "    .dataframe tbody tr th {\n",
       "        vertical-align: top;\n",
       "    }\n",
       "\n",
       "    .dataframe thead th {\n",
       "        text-align: right;\n",
       "    }\n",
       "</style>\n",
       "<table border=\"1\" class=\"dataframe\">\n",
       "  <thead>\n",
       "    <tr style=\"text-align: right;\">\n",
       "      <th></th>\n",
       "      <th>q_id</th>\n",
       "      <th>query_form</th>\n",
       "      <th>entity</th>\n",
       "      <th>contexts</th>\n",
       "      <th>susceptibility_score</th>\n",
       "    </tr>\n",
       "  </thead>\n",
       "  <tbody>\n",
       "    <tr>\n",
       "      <th>0</th>\n",
       "      <td>capital_of</td>\n",
       "      <td>Q: What is the capital of {}?\\nA:</td>\n",
       "      <td>Zimbabwe</td>\n",
       "      <td>[The capital of Republic of Acre is Kassel.\\n,...</td>\n",
       "      <td>0.112212</td>\n",
       "    </tr>\n",
       "    <tr>\n",
       "      <th>1</th>\n",
       "      <td>capital_of</td>\n",
       "      <td>Q: What is the capital of {}?\\nA:</td>\n",
       "      <td>Paraguay</td>\n",
       "      <td>[The capital of Republic of Acre is Kassel.\\n,...</td>\n",
       "      <td>0.153605</td>\n",
       "    </tr>\n",
       "    <tr>\n",
       "      <th>2</th>\n",
       "      <td>capital_of</td>\n",
       "      <td>Q: What is the capital of {}?\\nA:</td>\n",
       "      <td>Finland</td>\n",
       "      <td>[The capital of Republic of Acre is Kassel.\\n,...</td>\n",
       "      <td>0.069502</td>\n",
       "    </tr>\n",
       "    <tr>\n",
       "      <th>3</th>\n",
       "      <td>capital_of</td>\n",
       "      <td>Q: What is the capital of {}?\\nA:</td>\n",
       "      <td>New Caledonia</td>\n",
       "      <td>[The capital of Republic of Acre is Kassel.\\n,...</td>\n",
       "      <td>0.185106</td>\n",
       "    </tr>\n",
       "    <tr>\n",
       "      <th>4</th>\n",
       "      <td>capital_of</td>\n",
       "      <td>Q: What is the capital of {}?\\nA:</td>\n",
       "      <td>Nagorno-Karabakh Republic</td>\n",
       "      <td>[The capital of Republic of Acre is Kassel.\\n,...</td>\n",
       "      <td>0.135623</td>\n",
       "    </tr>\n",
       "  </tbody>\n",
       "</table>\n",
       "</div>"
      ],
      "text/plain": [
       "         q_id                         query_form                     entity  \\\n",
       "0  capital_of  Q: What is the capital of {}?\\nA:                   Zimbabwe   \n",
       "1  capital_of  Q: What is the capital of {}?\\nA:                   Paraguay   \n",
       "2  capital_of  Q: What is the capital of {}?\\nA:                    Finland   \n",
       "3  capital_of  Q: What is the capital of {}?\\nA:              New Caledonia   \n",
       "4  capital_of  Q: What is the capital of {}?\\nA:  Nagorno-Karabakh Republic   \n",
       "\n",
       "                                            contexts  susceptibility_score  \n",
       "0  [The capital of Republic of Acre is Kassel.\\n,...              0.112212  \n",
       "1  [The capital of Republic of Acre is Kassel.\\n,...              0.153605  \n",
       "2  [The capital of Republic of Acre is Kassel.\\n,...              0.069502  \n",
       "3  [The capital of Republic of Acre is Kassel.\\n,...              0.185106  \n",
       "4  [The capital of Republic of Acre is Kassel.\\n,...              0.135623  "
      ]
     },
     "execution_count": 12,
     "metadata": {},
     "output_type": "execute_result"
    }
   ],
   "source": [
    "val_df_contexts_per_qe.head()"
   ]
  },
  {
   "cell_type": "code",
   "execution_count": 13,
   "metadata": {},
   "outputs": [
    {
     "data": {
      "text/plain": [
       "Zimbabwe        2\n",
       "Calisota        2\n",
       "Saint Marie     2\n",
       "Arrakis         2\n",
       "Panem           2\n",
       "               ..\n",
       "Serenitaria     2\n",
       "Ocraita         2\n",
       "Pelui           2\n",
       "Baglandia       2\n",
       "Zhou dynasty    2\n",
       "Name: entity, Length: 90, dtype: int64"
      ]
     },
     "execution_count": 13,
     "metadata": {},
     "output_type": "execute_result"
    }
   ],
   "source": [
    "val_df_contexts_per_qe[\"entity\"].value_counts()"
   ]
  },
  {
   "cell_type": "code",
   "execution_count": 14,
   "metadata": {},
   "outputs": [
    {
     "data": {
      "text/plain": [
       "['The capital of Republic of Acre is Kassel.\\n',\n",
       " 'The capital of Clyohraira is Mildendo.\\n',\n",
       " 'The capital of Nagorno-Karabakh Republic is St. Peter Port.\\n',\n",
       " 'The capital of Assyria is Ava.\\n',\n",
       " 'The capital of San Lorenzo is New Tokyo.\\n',\n",
       " 'The capital of Jekus is Tanda.\\n',\n",
       " 'The capital of Ocraita is Kigali.\\n',\n",
       " 'The capital of Baekje is Alexandra.\\n',\n",
       " 'The capital of Serenitaria is Iasi.\\n',\n",
       " 'The capital of Byzantine Empire is Mildendo.\\n']"
      ]
     },
     "execution_count": 14,
     "metadata": {},
     "output_type": "execute_result"
    }
   ],
   "source": [
    "val_df_contexts_per_qe.iloc[0][\"contexts\"][:10]"
   ]
  },
  {
   "cell_type": "code",
   "execution_count": 15,
   "metadata": {},
   "outputs": [
    {
     "data": {
      "text/html": [
       "<div>\n",
       "<style scoped>\n",
       "    .dataframe tbody tr th:only-of-type {\n",
       "        vertical-align: middle;\n",
       "    }\n",
       "\n",
       "    .dataframe tbody tr th {\n",
       "        vertical-align: top;\n",
       "    }\n",
       "\n",
       "    .dataframe thead th {\n",
       "        text-align: right;\n",
       "    }\n",
       "</style>\n",
       "<table border=\"1\" class=\"dataframe\">\n",
       "  <thead>\n",
       "    <tr style=\"text-align: right;\">\n",
       "      <th></th>\n",
       "      <th>country</th>\n",
       "      <th>capital</th>\n",
       "      <th>type</th>\n",
       "      <th>is_real</th>\n",
       "      <th>From</th>\n",
       "      <th>Until</th>\n",
       "      <th>Today a part of</th>\n",
       "      <th>continent</th>\n",
       "      <th>region</th>\n",
       "      <th>author</th>\n",
       "    </tr>\n",
       "  </thead>\n",
       "  <tbody>\n",
       "    <tr>\n",
       "      <th>0</th>\n",
       "      <td>Abkhazia</td>\n",
       "      <td>Sukhumi</td>\n",
       "      <td>countryCapital</td>\n",
       "      <td>True</td>\n",
       "      <td>NaN</td>\n",
       "      <td>NaN</td>\n",
       "      <td>NaN</td>\n",
       "      <td>NaN</td>\n",
       "      <td>NaN</td>\n",
       "      <td>NaN</td>\n",
       "    </tr>\n",
       "    <tr>\n",
       "      <th>1</th>\n",
       "      <td>Afghanistan</td>\n",
       "      <td>Kabul</td>\n",
       "      <td>countryCapital</td>\n",
       "      <td>True</td>\n",
       "      <td>NaN</td>\n",
       "      <td>NaN</td>\n",
       "      <td>NaN</td>\n",
       "      <td>NaN</td>\n",
       "      <td>NaN</td>\n",
       "      <td>NaN</td>\n",
       "    </tr>\n",
       "    <tr>\n",
       "      <th>2</th>\n",
       "      <td>Akrotiri and Dhekelia</td>\n",
       "      <td>Episkopi Cantonment</td>\n",
       "      <td>countryCapital</td>\n",
       "      <td>True</td>\n",
       "      <td>NaN</td>\n",
       "      <td>NaN</td>\n",
       "      <td>NaN</td>\n",
       "      <td>NaN</td>\n",
       "      <td>NaN</td>\n",
       "      <td>NaN</td>\n",
       "    </tr>\n",
       "    <tr>\n",
       "      <th>3</th>\n",
       "      <td>Albania</td>\n",
       "      <td>Tirana</td>\n",
       "      <td>countryCapital</td>\n",
       "      <td>True</td>\n",
       "      <td>NaN</td>\n",
       "      <td>NaN</td>\n",
       "      <td>NaN</td>\n",
       "      <td>NaN</td>\n",
       "      <td>NaN</td>\n",
       "      <td>NaN</td>\n",
       "    </tr>\n",
       "    <tr>\n",
       "      <th>4</th>\n",
       "      <td>Algeria</td>\n",
       "      <td>Algiers</td>\n",
       "      <td>countryCapital</td>\n",
       "      <td>True</td>\n",
       "      <td>NaN</td>\n",
       "      <td>NaN</td>\n",
       "      <td>NaN</td>\n",
       "      <td>NaN</td>\n",
       "      <td>NaN</td>\n",
       "      <td>NaN</td>\n",
       "    </tr>\n",
       "    <tr>\n",
       "      <th>...</th>\n",
       "      <td>...</td>\n",
       "      <td>...</td>\n",
       "      <td>...</td>\n",
       "      <td>...</td>\n",
       "      <td>...</td>\n",
       "      <td>...</td>\n",
       "      <td>...</td>\n",
       "      <td>...</td>\n",
       "      <td>...</td>\n",
       "      <td>...</td>\n",
       "    </tr>\n",
       "    <tr>\n",
       "      <th>13</th>\n",
       "      <td>Lilliput</td>\n",
       "      <td>Mildendo</td>\n",
       "      <td>famousFictionalCountryCapital</td>\n",
       "      <td>NaN</td>\n",
       "      <td>NaN</td>\n",
       "      <td>NaN</td>\n",
       "      <td>NaN</td>\n",
       "      <td>NaN</td>\n",
       "      <td>NaN</td>\n",
       "      <td>Jonathan Swift</td>\n",
       "    </tr>\n",
       "    <tr>\n",
       "      <th>14</th>\n",
       "      <td>Hell</td>\n",
       "      <td>Pandæmonium</td>\n",
       "      <td>famousFictionalCountryCapital</td>\n",
       "      <td>NaN</td>\n",
       "      <td>NaN</td>\n",
       "      <td>NaN</td>\n",
       "      <td>NaN</td>\n",
       "      <td>NaN</td>\n",
       "      <td>NaN</td>\n",
       "      <td>John Milton</td>\n",
       "    </tr>\n",
       "    <tr>\n",
       "      <th>15</th>\n",
       "      <td>Laurania</td>\n",
       "      <td>Savrola</td>\n",
       "      <td>famousFictionalCountryCapital</td>\n",
       "      <td>NaN</td>\n",
       "      <td>NaN</td>\n",
       "      <td>NaN</td>\n",
       "      <td>NaN</td>\n",
       "      <td>NaN</td>\n",
       "      <td>NaN</td>\n",
       "      <td>Winston Churchill</td>\n",
       "    </tr>\n",
       "    <tr>\n",
       "      <th>16</th>\n",
       "      <td>Ruritania</td>\n",
       "      <td>Strelsau</td>\n",
       "      <td>famousFictionalCountryCapital</td>\n",
       "      <td>NaN</td>\n",
       "      <td>NaN</td>\n",
       "      <td>NaN</td>\n",
       "      <td>NaN</td>\n",
       "      <td>NaN</td>\n",
       "      <td>NaN</td>\n",
       "      <td>Anthony Hope</td>\n",
       "    </tr>\n",
       "    <tr>\n",
       "      <th>17</th>\n",
       "      <td>Panem</td>\n",
       "      <td>The Capitol</td>\n",
       "      <td>famousFictionalCountryCapital</td>\n",
       "      <td>NaN</td>\n",
       "      <td>NaN</td>\n",
       "      <td>NaN</td>\n",
       "      <td>NaN</td>\n",
       "      <td>NaN</td>\n",
       "      <td>NaN</td>\n",
       "      <td>Suzanne Collins</td>\n",
       "    </tr>\n",
       "  </tbody>\n",
       "</table>\n",
       "<p>745 rows × 10 columns</p>\n",
       "</div>"
      ],
      "text/plain": [
       "                  country              capital                           type  \\\n",
       "0                Abkhazia              Sukhumi                 countryCapital   \n",
       "1             Afghanistan                Kabul                 countryCapital   \n",
       "2   Akrotiri and Dhekelia  Episkopi Cantonment                 countryCapital   \n",
       "3                 Albania               Tirana                 countryCapital   \n",
       "4                 Algeria              Algiers                 countryCapital   \n",
       "..                    ...                  ...                            ...   \n",
       "13               Lilliput             Mildendo  famousFictionalCountryCapital   \n",
       "14                   Hell          Pandæmonium  famousFictionalCountryCapital   \n",
       "15               Laurania              Savrola  famousFictionalCountryCapital   \n",
       "16              Ruritania             Strelsau  famousFictionalCountryCapital   \n",
       "17                  Panem          The Capitol  famousFictionalCountryCapital   \n",
       "\n",
       "   is_real From Until Today a part of continent region             author  \n",
       "0     True  NaN   NaN             NaN       NaN    NaN                NaN  \n",
       "1     True  NaN   NaN             NaN       NaN    NaN                NaN  \n",
       "2     True  NaN   NaN             NaN       NaN    NaN                NaN  \n",
       "3     True  NaN   NaN             NaN       NaN    NaN                NaN  \n",
       "4     True  NaN   NaN             NaN       NaN    NaN                NaN  \n",
       "..     ...  ...   ...             ...       ...    ...                ...  \n",
       "13     NaN  NaN   NaN             NaN       NaN    NaN     Jonathan Swift  \n",
       "14     NaN  NaN   NaN             NaN       NaN    NaN        John Milton  \n",
       "15     NaN  NaN   NaN             NaN       NaN    NaN  Winston Churchill  \n",
       "16     NaN  NaN   NaN             NaN       NaN    NaN       Anthony Hope  \n",
       "17     NaN  NaN   NaN             NaN       NaN    NaN    Suzanne Collins  \n",
       "\n",
       "[745 rows x 10 columns]"
      ]
     },
     "execution_count": 15,
     "metadata": {},
     "output_type": "execute_result"
    }
   ],
   "source": [
    "country_data = pd.read_csv(\n",
    "    DATASET_KWARGS_IDENTIFIABLE[\"raw_country_capitals_path\"],\n",
    "    # os.path.join(\"data\", DATASET_NAME, \"real-fake-country-capital.csv\"),\n",
    "    index_col=0,\n",
    ")\n",
    "country_data"
   ]
  },
  {
   "cell_type": "code",
   "execution_count": 16,
   "metadata": {},
   "outputs": [],
   "source": [
    "val_df_per_qe = val_df_contexts_per_qe.merge(\n",
    "    country_data[[\"country\", \"type\", \"is_real\"]],\n",
    "    left_on=\"entity\",\n",
    "    right_on=\"country\",\n",
    "    how=\"left\",\n",
    ")[\n",
    "    [\n",
    "        \"q_id\",\n",
    "        \"query_form\",\n",
    "        \"entity\",\n",
    "        \"type\",\n",
    "        \"is_real\",\n",
    "        \"susceptibility_score\",\n",
    "    ]\n",
    "]"
   ]
  },
  {
   "cell_type": "code",
   "execution_count": 17,
   "metadata": {},
   "outputs": [
    {
     "data": {
      "text/html": [
       "<div>\n",
       "<style scoped>\n",
       "    .dataframe tbody tr th:only-of-type {\n",
       "        vertical-align: middle;\n",
       "    }\n",
       "\n",
       "    .dataframe tbody tr th {\n",
       "        vertical-align: top;\n",
       "    }\n",
       "\n",
       "    .dataframe thead th {\n",
       "        text-align: right;\n",
       "    }\n",
       "</style>\n",
       "<table border=\"1\" class=\"dataframe\">\n",
       "  <thead>\n",
       "    <tr style=\"text-align: right;\">\n",
       "      <th></th>\n",
       "      <th>q_id</th>\n",
       "      <th>query_form</th>\n",
       "      <th>entity</th>\n",
       "      <th>type</th>\n",
       "      <th>is_real</th>\n",
       "      <th>susceptibility_score</th>\n",
       "    </tr>\n",
       "  </thead>\n",
       "  <tbody>\n",
       "    <tr>\n",
       "      <th>117</th>\n",
       "      <td>capital_of</td>\n",
       "      <td>The capital of {} is</td>\n",
       "      <td>Republic of China (Taiwan)</td>\n",
       "      <td>countryCapital</td>\n",
       "      <td>True</td>\n",
       "      <td>0.046715</td>\n",
       "    </tr>\n",
       "    <tr>\n",
       "      <th>108</th>\n",
       "      <td>capital_of</td>\n",
       "      <td>The capital of {} is</td>\n",
       "      <td>Nagorno-Karabakh Republic</td>\n",
       "      <td>countryCapital</td>\n",
       "      <td>True</td>\n",
       "      <td>0.051147</td>\n",
       "    </tr>\n",
       "    <tr>\n",
       "      <th>121</th>\n",
       "      <td>capital_of</td>\n",
       "      <td>The capital of {} is</td>\n",
       "      <td>Kyrgyzstan</td>\n",
       "      <td>countryCapital</td>\n",
       "      <td>True</td>\n",
       "      <td>0.081597</td>\n",
       "    </tr>\n",
       "    <tr>\n",
       "      <th>115</th>\n",
       "      <td>capital_of</td>\n",
       "      <td>The capital of {} is</td>\n",
       "      <td>Somalia</td>\n",
       "      <td>countryCapital</td>\n",
       "      <td>True</td>\n",
       "      <td>0.083712</td>\n",
       "    </tr>\n",
       "    <tr>\n",
       "      <th>105</th>\n",
       "      <td>capital_of</td>\n",
       "      <td>The capital of {} is</td>\n",
       "      <td>Paraguay</td>\n",
       "      <td>countryCapital</td>\n",
       "      <td>True</td>\n",
       "      <td>0.083977</td>\n",
       "    </tr>\n",
       "    <tr>\n",
       "      <th>...</th>\n",
       "      <td>...</td>\n",
       "      <td>...</td>\n",
       "      <td>...</td>\n",
       "      <td>...</td>\n",
       "      <td>...</td>\n",
       "      <td>...</td>\n",
       "    </tr>\n",
       "    <tr>\n",
       "      <th>153</th>\n",
       "      <td>capital_of</td>\n",
       "      <td>The capital of {} is</td>\n",
       "      <td>Pasti</td>\n",
       "      <td>fakeCountryCapital</td>\n",
       "      <td>False</td>\n",
       "      <td>0.848880</td>\n",
       "    </tr>\n",
       "    <tr>\n",
       "      <th>134</th>\n",
       "      <td>capital_of</td>\n",
       "      <td>The capital of {} is</td>\n",
       "      <td>Cadasa</td>\n",
       "      <td>dreamfictionalCountryCapital</td>\n",
       "      <td>NaN</td>\n",
       "      <td>0.851561</td>\n",
       "    </tr>\n",
       "    <tr>\n",
       "      <th>162</th>\n",
       "      <td>capital_of</td>\n",
       "      <td>The capital of {} is</td>\n",
       "      <td>Fictional Country</td>\n",
       "      <td>famousFictionalCountryCapital</td>\n",
       "      <td>NaN</td>\n",
       "      <td>0.914755</td>\n",
       "    </tr>\n",
       "    <tr>\n",
       "      <th>150</th>\n",
       "      <td>capital_of</td>\n",
       "      <td>The capital of {} is</td>\n",
       "      <td>Wula</td>\n",
       "      <td>fakeCountryCapital</td>\n",
       "      <td>False</td>\n",
       "      <td>0.918664</td>\n",
       "    </tr>\n",
       "    <tr>\n",
       "      <th>126</th>\n",
       "      <td>capital_of</td>\n",
       "      <td>The capital of {} is</td>\n",
       "      <td>Neon District</td>\n",
       "      <td>dreamfictionalCountryCapital</td>\n",
       "      <td>NaN</td>\n",
       "      <td>1.100019</td>\n",
       "    </tr>\n",
       "  </tbody>\n",
       "</table>\n",
       "<p>104 rows × 6 columns</p>\n",
       "</div>"
      ],
      "text/plain": [
       "           q_id            query_form                      entity  \\\n",
       "117  capital_of  The capital of {} is  Republic of China (Taiwan)   \n",
       "108  capital_of  The capital of {} is   Nagorno-Karabakh Republic   \n",
       "121  capital_of  The capital of {} is                  Kyrgyzstan   \n",
       "115  capital_of  The capital of {} is                     Somalia   \n",
       "105  capital_of  The capital of {} is                    Paraguay   \n",
       "..          ...                   ...                         ...   \n",
       "153  capital_of  The capital of {} is                       Pasti   \n",
       "134  capital_of  The capital of {} is                      Cadasa   \n",
       "162  capital_of  The capital of {} is           Fictional Country   \n",
       "150  capital_of  The capital of {} is                        Wula   \n",
       "126  capital_of  The capital of {} is               Neon District   \n",
       "\n",
       "                              type is_real  susceptibility_score  \n",
       "117                 countryCapital    True              0.046715  \n",
       "108                 countryCapital    True              0.051147  \n",
       "121                 countryCapital    True              0.081597  \n",
       "115                 countryCapital    True              0.083712  \n",
       "105                 countryCapital    True              0.083977  \n",
       "..                             ...     ...                   ...  \n",
       "153             fakeCountryCapital   False              0.848880  \n",
       "134   dreamfictionalCountryCapital     NaN              0.851561  \n",
       "162  famousFictionalCountryCapital     NaN              0.914755  \n",
       "150             fakeCountryCapital   False              0.918664  \n",
       "126   dreamfictionalCountryCapital     NaN              1.100019  \n",
       "\n",
       "[104 rows x 6 columns]"
      ]
     },
     "execution_count": 17,
     "metadata": {},
     "output_type": "execute_result"
    }
   ],
   "source": [
    "val_df_per_qe[val_df_per_qe[\"query_form\"] == \"The capital of {} is\"].sort_values(\n",
    "    by=\"susceptibility_score\"\n",
    ")"
   ]
  },
  {
   "cell_type": "code",
   "execution_count": 18,
   "metadata": {},
   "outputs": [
    {
     "data": {
      "text/html": [
       "<div>\n",
       "<style scoped>\n",
       "    .dataframe tbody tr th:only-of-type {\n",
       "        vertical-align: middle;\n",
       "    }\n",
       "\n",
       "    .dataframe tbody tr th {\n",
       "        vertical-align: top;\n",
       "    }\n",
       "\n",
       "    .dataframe thead th {\n",
       "        text-align: right;\n",
       "    }\n",
       "</style>\n",
       "<table border=\"1\" class=\"dataframe\">\n",
       "  <thead>\n",
       "    <tr style=\"text-align: right;\">\n",
       "      <th></th>\n",
       "      <th>entity</th>\n",
       "      <th>is_real</th>\n",
       "      <th>susceptibility_score</th>\n",
       "    </tr>\n",
       "  </thead>\n",
       "  <tbody>\n",
       "    <tr>\n",
       "      <th>13</th>\n",
       "      <td>Republic of China (Taiwan)</td>\n",
       "      <td>True</td>\n",
       "      <td>0.031173</td>\n",
       "    </tr>\n",
       "    <tr>\n",
       "      <th>9</th>\n",
       "      <td>Sweden</td>\n",
       "      <td>True</td>\n",
       "      <td>0.063413</td>\n",
       "    </tr>\n",
       "    <tr>\n",
       "      <th>2</th>\n",
       "      <td>Finland</td>\n",
       "      <td>True</td>\n",
       "      <td>0.069502</td>\n",
       "    </tr>\n",
       "    <tr>\n",
       "      <th>64</th>\n",
       "      <td>Arrakis</td>\n",
       "      <td>NaN</td>\n",
       "      <td>0.070778</td>\n",
       "    </tr>\n",
       "    <tr>\n",
       "      <th>62</th>\n",
       "      <td>Narnia</td>\n",
       "      <td>NaN</td>\n",
       "      <td>0.071606</td>\n",
       "    </tr>\n",
       "    <tr>\n",
       "      <th>...</th>\n",
       "      <td>...</td>\n",
       "      <td>...</td>\n",
       "      <td>...</td>\n",
       "    </tr>\n",
       "    <tr>\n",
       "      <th>37</th>\n",
       "      <td>Manika</td>\n",
       "      <td>False</td>\n",
       "      <td>0.365732</td>\n",
       "    </tr>\n",
       "    <tr>\n",
       "      <th>48</th>\n",
       "      <td>Du</td>\n",
       "      <td>False</td>\n",
       "      <td>0.368670</td>\n",
       "    </tr>\n",
       "    <tr>\n",
       "      <th>46</th>\n",
       "      <td>Wula</td>\n",
       "      <td>False</td>\n",
       "      <td>0.380046</td>\n",
       "    </tr>\n",
       "    <tr>\n",
       "      <th>20</th>\n",
       "      <td>Kadersaryina</td>\n",
       "      <td>NaN</td>\n",
       "      <td>0.396409</td>\n",
       "    </tr>\n",
       "    <tr>\n",
       "      <th>51</th>\n",
       "      <td>Consuleo</td>\n",
       "      <td>False</td>\n",
       "      <td>0.459608</td>\n",
       "    </tr>\n",
       "  </tbody>\n",
       "</table>\n",
       "<p>104 rows × 3 columns</p>\n",
       "</div>"
      ],
      "text/plain": [
       "                        entity is_real  susceptibility_score\n",
       "13  Republic of China (Taiwan)    True              0.031173\n",
       "9                       Sweden    True              0.063413\n",
       "2                      Finland    True              0.069502\n",
       "64                     Arrakis     NaN              0.070778\n",
       "62                      Narnia     NaN              0.071606\n",
       "..                         ...     ...                   ...\n",
       "37                      Manika   False              0.365732\n",
       "48                          Du   False              0.368670\n",
       "46                        Wula   False              0.380046\n",
       "20                Kadersaryina     NaN              0.396409\n",
       "51                    Consuleo   False              0.459608\n",
       "\n",
       "[104 rows x 3 columns]"
      ]
     },
     "execution_count": 18,
     "metadata": {},
     "output_type": "execute_result"
    }
   ],
   "source": [
    "val_df_per_qe[val_df_per_qe[\"query_form\"] == \"Q: What is the capital of {}?\\nA:\"][\n",
    "    [\"entity\", \"is_real\", \"susceptibility_score\"]\n",
    "].sort_values(\n",
    "    by=\"susceptibility_score\"\n",
    ")  # [val_df_per_qe[\"entity\"] == \"Albania\"]"
   ]
  },
  {
   "cell_type": "code",
   "execution_count": 19,
   "metadata": {},
   "outputs": [],
   "source": [
    "# anchor on countries that have changed names? e.g. Jerusalem/Israel, Leningrad/Russia? pick things that are narrowly true\n",
    "# fictional countries/capitals\n",
    "# find ordinal groups of countries and capitals, where we have an intuition on which ones should be more/less sensitive and then see whether the results fit that\n",
    "# https://en.wikipedia.org/wiki/List_of_city_name_changes\n",
    "# https://en.wikipedia.org/wiki/List_of_former_national_capitals\n",
    "# many factors (e.g. geography? etc?) - we can look for effects\n",
    "\n",
    "# Side question: does a LM anchor on word choices and take it into account going forward?"
   ]
  },
  {
   "cell_type": "code",
   "execution_count": 20,
   "metadata": {},
   "outputs": [
    {
     "data": {
      "text/plain": [
       "<AxesSubplot:xlabel='query_form', ylabel='susceptibility_score'>"
      ]
     },
     "execution_count": 20,
     "metadata": {},
     "output_type": "execute_result"
    },
    {
     "data": {
      "image/png": "[encoded data removed]",
      "text/plain": [
       "<Figure size 432x288 with 1 Axes>"
      ]
     },
     "metadata": {
      "needs_background": "light"
     },
     "output_type": "display_data"
    }
   ],
   "source": [
    "sns.stripplot(\n",
    "    data=val_df_per_qe,\n",
    "    x=\"query_form\",\n",
    "    y=\"susceptibility_score\",\n",
    "    hue=\"type\",\n",
    "    # hue=\"is_real\",\n",
    "    # dodge=True\n",
    "    # jitter=0.1,\n",
    "    # legend=\"full\",\n",
    ")"
   ]
  },
  {
   "cell_type": "code",
   "execution_count": 23,
   "metadata": {},
   "outputs": [
    {
     "data": {
      "image/png": "[encoded data removed]",
      "text/plain": [
       "<Figure size 432x288 with 1 Axes>"
      ]
     },
     "metadata": {
      "needs_background": "light"
     },
     "output_type": "display_data"
    }
   ],
   "source": [
    "fig, ax = plt.subplots()\n",
    "plot = sns.stripplot(\n",
    "    data=val_df_per_qe[\n",
    "        val_df_per_qe[\"type\"].isin(\n",
    "            [\n",
    "                \"countryCapital\",\n",
    "                # \"famousFictionalCountryCapital\",\n",
    "                \"historicalCountryCapital\",\n",
    "                \"dreamfictionalCountryCapital\",\n",
    "                # \"fakeCountryCapital\",\n",
    "            ]\n",
    "        )\n",
    "    ],\n",
    "    x=\"query_form\",\n",
    "    y=\"susceptibility_score\",\n",
    "    hue=\"type\",\n",
    "    ax=ax,\n",
    "    # hue=\"is_real\",\n",
    "    # dodge=True\n",
    "    # jitter=0.1,\n",
    "    # legend=\"full\",\n",
    ")\n",
    "plot_name = \"plot_susscore_vs_queryform_real_historical_dreamfic\"\n",
    "save_path = os.path.join(analysis_dir, f\"{plot_name}.png\")\n",
    "fig.savefig(save_path)\n",
    "wandb.log({plot_name: wandb.Image(fig)})\n"
   ]
  },
  {
   "cell_type": "code",
   "execution_count": null,
   "metadata": {},
   "outputs": [],
   "source": [
    "fig"
   ]
  },
  {
   "cell_type": "code",
   "execution_count": 21,
   "metadata": {},
   "outputs": [
    {
     "data": {
      "text/html": [
       "Waiting for W&B process to finish... <strong style=\"color:green\">(success).</strong>"
      ],
      "text/plain": [
       "<IPython.core.display.HTML object>"
      ]
     },
     "metadata": {},
     "output_type": "display_data"
    },
    {
     "data": {
      "application/vnd.jupyter.widget-view+json": {
       "model_id": "",
       "version_major": 2,
       "version_minor": 0
      },
      "text/plain": [
       "VBox(children=(Label(value='3.853 MB of 3.853 MB uploaded (3.577 MB deduped)\\r'), FloatProgress(value=1.0, max…"
      ]
     },
     "metadata": {},
     "output_type": "display_data"
    },
    {
     "data": {
      "text/html": [
       "W&B sync reduced upload amount by 91.1%             "
      ],
      "text/plain": [
       "<IPython.core.display.HTML object>"
      ]
     },
     "metadata": {},
     "output_type": "display_data"
    },
    {
     "data": {
      "text/html": [
       "Synced <strong style=\"color:#cdcd00\">different-aardvark-39</strong>: <a href=\"https://wandb.ai/ethz-rycolab/context-vs-bias/runs/1rudal3i\" target=\"_blank\">https://wandb.ai/ethz-rycolab/context-vs-bias/runs/1rudal3i</a><br/>Synced 6 W&B file(s), 0 media file(s), 6 artifact file(s) and 1 other file(s)"
      ],
      "text/plain": [
       "<IPython.core.display.HTML object>"
      ]
     },
     "metadata": {},
     "output_type": "display_data"
    },
    {
     "data": {
      "text/html": [
       "Find logs at: <code>./wandb/run-20231218_202910-1rudal3i/logs</code>"
      ],
      "text/plain": [
       "<IPython.core.display.HTML object>"
      ]
     },
     "metadata": {},
     "output_type": "display_data"
    }
   ],
   "source": [
    "wandb.finish()"
   ]
  }
 ],
 "metadata": {
  "kernelspec": {
   "display_name": "Python 3 (ipykernel)",
   "language": "python",
   "name": "python3"
  },
  "language_info": {
   "codemirror_mode": {
    "name": "ipython",
    "version": 3
   },
   "file_extension": ".py",
   "mimetype": "text/x-python",
   "name": "python",
   "nbconvert_exporter": "python",
   "pygments_lexer": "ipython3",
   "version": "3.10.4"
  }
 },
 "nbformat": 4,
 "nbformat_minor": 4
}
