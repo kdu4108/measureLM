{
 "cells": [
  {
   "cell_type": "markdown",
   "metadata": {},
   "source": [
    "# Analyzing Susceptibility Scores\n",
    "Given a CSV with the columns:\n",
    "\n",
    "```q_id,\tquery_form,\tentity,\tcontexts,\tsusceptibility_score```\n",
    "\n",
    "Analyze the results for patterns and correlations"
   ]
  },
  {
   "cell_type": "code",
   "execution_count": null,
   "metadata": {},
   "outputs": [],
   "source": [
    "%load_ext autoreload\n",
    "%autoreload 2\n",
    "%load_ext lab_black"
   ]
  },
  {
   "cell_type": "code",
   "execution_count": 2,
   "metadata": {},
   "outputs": [],
   "source": [
    "import os\n",
    "import sys\n",
    "import math\n",
    "import random\n",
    "from itertools import product\n",
    "from tqdm import tqdm\n",
    "import yaml\n",
    "\n",
    "import pandas as pd\n",
    "import seaborn as sns\n",
    "\n",
    "from transformers import GPTNeoXForCausalLM, AutoTokenizer\n",
    "import torch\n",
    "from typing import List\n",
    "from matplotlib import pyplot as plt\n",
    "import numpy as np\n",
    "import wandb\n",
    "\n",
    "import statsmodels.api as sm\n",
    "\n",
    "from preprocessing.datasets import CountryCapital\n",
    "from susceptibility_scores import construct_paths_and_dataset_kwargs"
   ]
  },
  {
   "cell_type": "markdown",
   "metadata": {},
   "source": [
    "### Preamble"
   ]
  },
  {
   "cell_type": "code",
   "execution_count": 12,
   "metadata": {},
   "outputs": [],
   "source": [
    "##################\n",
    "### Parameters ###\n",
    "##################\n",
    "\n",
    "# Data parameters\n",
    "DATASET_NAME = \"CountryCapital\"\n",
    "QUERY_ID = None\n",
    "# RAW_DATA_PATH = \"data/CountryCapital/real-fake-historical-country-capital.csv\"\n",
    "# SEED = 1\n",
    "\n",
    "RAW_DATA_PATH = \"data/CountryCapital/yago-real-gpt-fake-country-capital.csv\"\n",
    "SEED = 2\n",
    "\n",
    "MODEL_ID = \"EleutherAI/pythia-6.9b-deduped\"\n",
    "LOAD_IN_8BIT = True\n",
    "MAX_CONTEXTS = 450\n",
    "MAX_ENTITIES = 90\n",
    "CAP_PER_TYPE = True\n",
    "ABLATE_OUT_RELEVANT_CONTEXTS = False\n",
    "UNIFORM_CONTEXTS = False\n",
    "DEDUPLICATE_ENTITIES = False\n",
    "ENTITY_SELECTION_FUNC_NAME = \"random_sample\"\n",
    "# ENTITY_SELECTION_FUNC_NAME = \"top_entity_uri_degree\"\n",
    "# ENTITY_SELECTION_FUNC_NAME = \"top_entity_namesake_degree\"\n",
    "ANSWER_MAP = None\n",
    "OVERWRITE = True\n",
    "ENTITY_TYPES = [\"entities\", \"gpt_fake_entities\"]\n",
    "# ENTITY_TYPES = [\"entities\", \"fake_entities\"]\n",
    "QUERY_TYPES = [\"closed\", \"open\"]\n",
    "BATCH_SZ = 16\n",
    "\n",
    "# wandb stuff\n",
    "PROJECT_NAME = \"context-vs-bias\"\n",
    "GROUP_NAME = None\n",
    "TAGS = [\"capitals\", \"analysis\"]\n",
    "LOG_DATASETS = True"
   ]
  },
  {
   "cell_type": "code",
   "execution_count": 13,
   "metadata": {},
   "outputs": [
    {
     "name": "stdout",
     "output_type": "stream",
     "text": [
      "Data dir: data/CountryCapital/CountryCapital-mc450-me90-cappertype-ES_random_sample/2\n",
      "Model dir: data/CountryCapital/CountryCapital-mc450-me90-cappertype-ES_random_sample/2/models/EleutherAI/pythia-6.9b-deduped-8bit\n"
     ]
    }
   ],
   "source": [
    "# Construct paths from run parameters and construct DATASET_KWARGS_IDENTIFIABLE\n",
    "(\n",
    "    data_dir,\n",
    "    input_dir,\n",
    "    entities_path,\n",
    "    contexts_path,\n",
    "    queries_path,\n",
    "    answers_path,\n",
    "    val_data_path,\n",
    "    model_dir,\n",
    "    results_dir,\n",
    "    val_results_path,\n",
    "    data_id,\n",
    "    model_id,\n",
    "    DATASET_KWARGS_IDENTIFIABLE,\n",
    ") = construct_paths_and_dataset_kwargs(\n",
    "    DATASET_NAME=DATASET_NAME,\n",
    "    RAW_DATA_PATH=RAW_DATA_PATH,\n",
    "    SEED=SEED,\n",
    "    MODEL_ID=MODEL_ID,\n",
    "    LOAD_IN_8BIT=LOAD_IN_8BIT,\n",
    "    QUERY_ID=QUERY_ID,\n",
    "    MAX_CONTEXTS=MAX_CONTEXTS,\n",
    "    MAX_ENTITIES=MAX_ENTITIES,\n",
    "    CAP_PER_TYPE=CAP_PER_TYPE,\n",
    "    ABLATE_OUT_RELEVANT_CONTEXTS=ABLATE_OUT_RELEVANT_CONTEXTS,\n",
    "    UNIFORM_CONTEXTS=UNIFORM_CONTEXTS,\n",
    "    DEDUPLICATE_ENTITIES=DEDUPLICATE_ENTITIES,\n",
    "    ENTITY_SELECTION_FUNC_NAME=ENTITY_SELECTION_FUNC_NAME,\n",
    "    OVERWRITE=OVERWRITE,\n",
    "    ENTITY_TYPES=ENTITY_TYPES,\n",
    "    QUERY_TYPES=QUERY_TYPES,\n",
    "    ANSWER_MAP=ANSWER_MAP,\n",
    ")"
   ]
  },
  {
   "cell_type": "code",
   "execution_count": 14,
   "metadata": {},
   "outputs": [
    {
     "name": "stdout",
     "output_type": "stream",
     "text": [
      "Analysis dir: data/CountryCapital/CountryCapital-mc450-me90-cappertype-ES_random_sample/2/analysis\n"
     ]
    }
   ],
   "source": [
    "# Analysis dir\n",
    "analysis_dir = os.path.join(data_dir, \"analysis\")\n",
    "print(f\"Analysis dir: {analysis_dir}\")"
   ]
  },
  {
   "cell_type": "code",
   "execution_count": 15,
   "metadata": {},
   "outputs": [
    {
     "name": "stdout",
     "output_type": "stream",
     "text": [
      "Overwriting datasets (if they already exist) at data/CountryCapital/CountryCapital-mc450-me90-cappertype-ES_random_sample/2/inputs/entities.json, None, data/CountryCapital/CountryCapital-mc450-me90-cappertype-ES_random_sample/2/inputs/contexts.json, and data/CountryCapital/CountryCapital-mc450-me90-cappertype-ES_random_sample/2/inputs/queries.json.\n"
     ]
    }
   ],
   "source": [
    "os.makedirs(input_dir, exist_ok=True)\n",
    "os.makedirs(results_dir, exist_ok=True)\n",
    "os.makedirs(model_dir, exist_ok=True)\n",
    "os.makedirs(analysis_dir, exist_ok=True)\n",
    "dataset = getattr(sys.modules[__name__], DATASET_NAME)(**DATASET_KWARGS_IDENTIFIABLE)"
   ]
  },
  {
   "cell_type": "code",
   "execution_count": 16,
   "metadata": {},
   "outputs": [],
   "source": [
    "# Set random seeds\n",
    "torch.manual_seed(SEED)\n",
    "np.random.seed(SEED)\n",
    "random.seed(SEED)"
   ]
  },
  {
   "cell_type": "code",
   "execution_count": 17,
   "metadata": {},
   "outputs": [],
   "source": [
    "# GPU stuff\n",
    "device = \"cuda\" if torch.cuda.is_available() else \"cpu\""
   ]
  },
  {
   "cell_type": "code",
   "execution_count": 18,
   "metadata": {
    "tags": []
   },
   "outputs": [
    {
     "data": {
      "text/html": [
       "Finishing last run (ID:2aef5g7q) before initializing another..."
      ],
      "text/plain": [
       "<IPython.core.display.HTML object>"
      ]
     },
     "metadata": {},
     "output_type": "display_data"
    },
    {
     "data": {
      "text/html": [
       "Waiting for W&B process to finish... <strong style=\"color:green\">(success).</strong>"
      ],
      "text/plain": [
       "<IPython.core.display.HTML object>"
      ]
     },
     "metadata": {},
     "output_type": "display_data"
    },
    {
     "data": {
      "application/vnd.jupyter.widget-view+json": {
       "model_id": "",
       "version_major": 2,
       "version_minor": 0
      },
      "text/plain": [
       "VBox(children=(Label(value='0.209 MB of 0.209 MB uploaded (0.196 MB deduped)\\r'), FloatProgress(value=1.0, max…"
      ]
     },
     "metadata": {},
     "output_type": "display_data"
    },
    {
     "data": {
      "text/html": [
       "W&B sync reduced upload amount by 1.2%             "
      ],
      "text/plain": [
       "<IPython.core.display.HTML object>"
      ]
     },
     "metadata": {},
     "output_type": "display_data"
    },
    {
     "data": {
      "text/html": [
       "Synced <strong style=\"color:#cdcd00\">solar-dawn-1137</strong>: <a href=\"https://wandb.ai/ethz-rycolab/context-vs-bias/runs/2aef5g7q\" target=\"_blank\">https://wandb.ai/ethz-rycolab/context-vs-bias/runs/2aef5g7q</a><br/>Synced 6 W&B file(s), 0 media file(s), 2 artifact file(s) and 1 other file(s)"
      ],
      "text/plain": [
       "<IPython.core.display.HTML object>"
      ]
     },
     "metadata": {},
     "output_type": "display_data"
    },
    {
     "data": {
      "text/html": [
       "Find logs at: <code>./wandb/run-20240209_172432-2aef5g7q/logs</code>"
      ],
      "text/plain": [
       "<IPython.core.display.HTML object>"
      ]
     },
     "metadata": {},
     "output_type": "display_data"
    },
    {
     "data": {
      "text/html": [
       "Successfully finished last run (ID:2aef5g7q). Initializing new run:<br/>"
      ],
      "text/plain": [
       "<IPython.core.display.HTML object>"
      ]
     },
     "metadata": {},
     "output_type": "display_data"
    },
    {
     "name": "stderr",
     "output_type": "stream",
     "text": [
      "/cluster/home/kevidu/.local/lib/python3.10/site-packages/numpy/core/getlimits.py:500: UserWarning: The value of the smallest subnormal for <class 'numpy.float32'> type is zero.\n",
      "  setattr(self, word, getattr(machar, word).flat[0])\n",
      "/cluster/home/kevidu/.local/lib/python3.10/site-packages/numpy/core/getlimits.py:89: UserWarning: The value of the smallest subnormal for <class 'numpy.float32'> type is zero.\n",
      "  return self._float_to_str(self.smallest_subnormal)\n",
      "/cluster/home/kevidu/.local/lib/python3.10/site-packages/numpy/core/getlimits.py:500: UserWarning: The value of the smallest subnormal for <class 'numpy.float64'> type is zero.\n",
      "  setattr(self, word, getattr(machar, word).flat[0])\n",
      "/cluster/home/kevidu/.local/lib/python3.10/site-packages/numpy/core/getlimits.py:89: UserWarning: The value of the smallest subnormal for <class 'numpy.float64'> type is zero.\n",
      "  return self._float_to_str(self.smallest_subnormal)\n"
     ]
    },
    {
     "data": {
      "text/html": [
       "wandb version 0.16.3 is available!  To upgrade, please run:\n",
       " $ pip install wandb --upgrade"
      ],
      "text/plain": [
       "<IPython.core.display.HTML object>"
      ]
     },
     "metadata": {},
     "output_type": "display_data"
    },
    {
     "data": {
      "text/html": [
       "Tracking run with wandb version 0.12.17"
      ],
      "text/plain": [
       "<IPython.core.display.HTML object>"
      ]
     },
     "metadata": {},
     "output_type": "display_data"
    },
    {
     "data": {
      "text/html": [
       "Run data is saved locally in <code>/cluster/work/cotterell/kdu/measureLM/wandb/run-20240209_172554-3na7uj19</code>"
      ],
      "text/plain": [
       "<IPython.core.display.HTML object>"
      ]
     },
     "metadata": {},
     "output_type": "display_data"
    },
    {
     "data": {
      "text/html": [
       "Syncing run <strong><a href=\"https://wandb.ai/ethz-rycolab/context-vs-bias/runs/3na7uj19\" target=\"_blank\">upbeat-dream-1138</a></strong> to <a href=\"https://wandb.ai/ethz-rycolab/context-vs-bias\" target=\"_blank\">Weights & Biases</a> (<a href=\"https://wandb.me/run\" target=\"_blank\">docs</a>)<br/>"
      ],
      "text/plain": [
       "<IPython.core.display.HTML object>"
      ]
     },
     "metadata": {},
     "output_type": "display_data"
    },
    {
     "name": "stdout",
     "output_type": "stream",
     "text": [
      "{'DATASET_NAME': 'CountryCapital', 'QUERY_ID': None, 'RAW_DATA_PATH': 'data/CountryCapital/yago-real-gpt-fake-country-capital.csv', 'SEED': 2, 'MODEL_ID': 'EleutherAI/pythia-6.9b-deduped', 'LOAD_IN_8BIT': True, 'MAX_CONTEXTS': 450, 'MAX_ENTITIES': 90, 'CAP_PER_TYPE': True, 'ABLATE_OUT_RELEVANT_CONTEXTS': False, 'UNIFORM_CONTEXTS': False, 'DEDUPLICATE_ENTITIES': False, 'ENTITY_SELECTION_FUNC_NAME': 'random_sample', 'ANSWER_MAP': None, 'OVERWRITE': True, 'ENTITY_TYPES': ['entities', 'gpt_fake_entities'], 'QUERY_TYPES': ['closed', 'open'], 'BATCH_SZ': 16, 'PROJECT_NAME': 'context-vs-bias', 'GROUP_NAME': None, 'TAGS': ['capitals', 'analysis'], 'DATASET_KWARGS_IDENTIFIABLE': {'max_contexts': 450, 'max_entities': 90, 'cap_per_type': True, 'raw_data_path': 'data/CountryCapital/yago-real-gpt-fake-country-capital.csv', 'ablate_out_relevant_contexts': False, 'uniform_contexts': False, 'deduplicate_entities': False, 'entity_selection_func_name': 'random_sample', 'overwrite': True, 'entities_path': 'data/CountryCapital/CountryCapital-mc450-me90-cappertype-ES_random_sample/2/inputs/entities.json', 'contexts_path': 'data/CountryCapital/CountryCapital-mc450-me90-cappertype-ES_random_sample/2/inputs/contexts.json', 'queries_path': 'data/CountryCapital/CountryCapital-mc450-me90-cappertype-ES_random_sample/2/inputs/queries.json', 'answers_path': 'data/CountryCapital/CountryCapital-mc450-me90-cappertype-ES_random_sample/2/inputs/answers.json'}, 'LOG_DATASETS': True}\n"
     ]
    }
   ],
   "source": [
    "# wandb stuff\n",
    "os.environ[\"WANDB_NOTEBOOK_NAME\"] = os.path.join(os.getcwd(), \"analysis.ipynb\")\n",
    "\n",
    "params_to_log = {k: v for k, v in locals().items() if k.isupper()}\n",
    "\n",
    "run = wandb.init(\n",
    "    project=PROJECT_NAME,\n",
    "    group=GROUP_NAME,\n",
    "    config=params_to_log,\n",
    "    tags=TAGS,\n",
    "    mode=\"online\",\n",
    ")\n",
    "print(dict(wandb.config))"
   ]
  },
  {
   "cell_type": "markdown",
   "metadata": {},
   "source": [
    "### Load Data"
   ]
  },
  {
   "cell_type": "code",
   "execution_count": 19,
   "metadata": {},
   "outputs": [],
   "source": [
    "from ast import literal_eval\n",
    "\n",
    "val_df_contexts_per_qe = pd.read_csv(\n",
    "    val_results_path,\n",
    "    index_col=0,\n",
    "    converters={\"contexts\": literal_eval, \"entity\": literal_eval},\n",
    ")"
   ]
  },
  {
   "cell_type": "code",
   "execution_count": 20,
   "metadata": {},
   "outputs": [
    {
     "name": "stderr",
     "output_type": "stream",
     "text": [
      "\u001b[34m\u001b[1mwandb\u001b[0m: Adding directory to artifact (./data/CountryCapital/CountryCapital-mc450-me90-cappertype-ES_random_sample/2/inputs)... Done. 0.1s\n"
     ]
    },
    {
     "name": "stdout",
     "output_type": "stream",
     "text": [
      "Logging datasets to w&b run <wandb.sdk.wandb_run.Run object at 0x2b6b40b2c880>.\n"
     ]
    }
   ],
   "source": [
    "# After loading/preprocessing your dataset, log it as an artifact to W&B\n",
    "if LOG_DATASETS:\n",
    "    print(f\"Logging datasets to w&b run {wandb.run}.\")\n",
    "    artifact = wandb.Artifact(name=data_id, type=\"dataset\")\n",
    "    artifact.add_dir(local_path=input_dir)\n",
    "    run.log_artifact(artifact)"
   ]
  },
  {
   "cell_type": "markdown",
   "metadata": {},
   "source": [
    "### Analyze Data"
   ]
  },
  {
   "cell_type": "code",
   "execution_count": 21,
   "metadata": {},
   "outputs": [
    {
     "data": {
      "text/html": [
       "<div>\n",
       "<style scoped>\n",
       "    .dataframe tbody tr th:only-of-type {\n",
       "        vertical-align: middle;\n",
       "    }\n",
       "\n",
       "    .dataframe tbody tr th {\n",
       "        vertical-align: top;\n",
       "    }\n",
       "\n",
       "    .dataframe thead th {\n",
       "        text-align: right;\n",
       "    }\n",
       "</style>\n",
       "<table border=\"1\" class=\"dataframe\">\n",
       "  <thead>\n",
       "    <tr style=\"text-align: right;\">\n",
       "      <th></th>\n",
       "      <th>q_id</th>\n",
       "      <th>query_form</th>\n",
       "      <th>entity</th>\n",
       "      <th>answer</th>\n",
       "      <th>contexts</th>\n",
       "      <th>susceptibility_score</th>\n",
       "      <th>full_query_example</th>\n",
       "    </tr>\n",
       "  </thead>\n",
       "  <tbody>\n",
       "    <tr>\n",
       "      <th>0</th>\n",
       "      <td>capital_of</td>\n",
       "      <td>Q: What is the capital of {}?\\nA:</td>\n",
       "      <td>(Pardubice District,)</td>\n",
       "      <td>Pardubice</td>\n",
       "      <td>[The capital of Russian Republic is Boorowa.\\n...</td>\n",
       "      <td>0.208689</td>\n",
       "      <td>The capital of Russian Republic is Boorowa.\\nQ...</td>\n",
       "    </tr>\n",
       "    <tr>\n",
       "      <th>1</th>\n",
       "      <td>capital_of</td>\n",
       "      <td>Q: What is the capital of {}?\\nA:</td>\n",
       "      <td>(Outaouais,)</td>\n",
       "      <td>Gatineau</td>\n",
       "      <td>[The capital of Russian Republic is Boorowa.\\n...</td>\n",
       "      <td>0.130991</td>\n",
       "      <td>The capital of Russian Republic is Boorowa.\\nQ...</td>\n",
       "    </tr>\n",
       "    <tr>\n",
       "      <th>2</th>\n",
       "      <td>capital_of</td>\n",
       "      <td>Q: What is the capital of {}?\\nA:</td>\n",
       "      <td>(Berkshire County,)</td>\n",
       "      <td>Pittsfield</td>\n",
       "      <td>[The capital of Russian Republic is Boorowa.\\n...</td>\n",
       "      <td>0.201889</td>\n",
       "      <td>The capital of Russian Republic is Boorowa.\\nQ...</td>\n",
       "    </tr>\n",
       "    <tr>\n",
       "      <th>3</th>\n",
       "      <td>capital_of</td>\n",
       "      <td>Q: What is the capital of {}?\\nA:</td>\n",
       "      <td>(Cojedes,)</td>\n",
       "      <td>San Carlos</td>\n",
       "      <td>[The capital of Russian Republic is Boorowa.\\n...</td>\n",
       "      <td>0.206270</td>\n",
       "      <td>The capital of Russian Republic is Boorowa.\\nQ...</td>\n",
       "    </tr>\n",
       "    <tr>\n",
       "      <th>4</th>\n",
       "      <td>capital_of</td>\n",
       "      <td>Q: What is the capital of {}?\\nA:</td>\n",
       "      <td>(Artvin Province,)</td>\n",
       "      <td>Artvin</td>\n",
       "      <td>[The capital of Russian Republic is Boorowa.\\n...</td>\n",
       "      <td>0.233515</td>\n",
       "      <td>The capital of Russian Republic is Boorowa.\\nQ...</td>\n",
       "    </tr>\n",
       "  </tbody>\n",
       "</table>\n",
       "</div>"
      ],
      "text/plain": [
       "         q_id                         query_form                 entity  \\\n",
       "0  capital_of  Q: What is the capital of {}?\\nA:  (Pardubice District,)   \n",
       "1  capital_of  Q: What is the capital of {}?\\nA:           (Outaouais,)   \n",
       "2  capital_of  Q: What is the capital of {}?\\nA:    (Berkshire County,)   \n",
       "3  capital_of  Q: What is the capital of {}?\\nA:             (Cojedes,)   \n",
       "4  capital_of  Q: What is the capital of {}?\\nA:     (Artvin Province,)   \n",
       "\n",
       "       answer                                           contexts  \\\n",
       "0   Pardubice  [The capital of Russian Republic is Boorowa.\\n...   \n",
       "1    Gatineau  [The capital of Russian Republic is Boorowa.\\n...   \n",
       "2  Pittsfield  [The capital of Russian Republic is Boorowa.\\n...   \n",
       "3  San Carlos  [The capital of Russian Republic is Boorowa.\\n...   \n",
       "4      Artvin  [The capital of Russian Republic is Boorowa.\\n...   \n",
       "\n",
       "   susceptibility_score                                 full_query_example  \n",
       "0              0.208689  The capital of Russian Republic is Boorowa.\\nQ...  \n",
       "1              0.130991  The capital of Russian Republic is Boorowa.\\nQ...  \n",
       "2              0.201889  The capital of Russian Republic is Boorowa.\\nQ...  \n",
       "3              0.206270  The capital of Russian Republic is Boorowa.\\nQ...  \n",
       "4              0.233515  The capital of Russian Republic is Boorowa.\\nQ...  "
      ]
     },
     "execution_count": 21,
     "metadata": {},
     "output_type": "execute_result"
    }
   ],
   "source": [
    "val_df_contexts_per_qe.head()"
   ]
  },
  {
   "cell_type": "code",
   "execution_count": 22,
   "metadata": {},
   "outputs": [
    {
     "data": {
      "text/plain": [
       "(Pardubice District,)               2\n",
       "(Abundance Organic Grocers,)        2\n",
       "(Nexus Network,)                    2\n",
       "(Arcanum,)                          2\n",
       "(Foundation Fusion,)                2\n",
       "                                   ..\n",
       "(San Pedro de Macorís,)             2\n",
       "(Russian Republic,)                 2\n",
       "(Laurentides,)                      2\n",
       "(Socialist Republic of Romania,)    2\n",
       "(Polar Peak Productions,)           2\n",
       "Name: entity, Length: 90, dtype: int64"
      ]
     },
     "execution_count": 22,
     "metadata": {},
     "output_type": "execute_result"
    }
   ],
   "source": [
    "val_df_contexts_per_qe[\"entity\"].value_counts()"
   ]
  },
  {
   "cell_type": "code",
   "execution_count": 23,
   "metadata": {},
   "outputs": [
    {
     "data": {
      "text/plain": [
       "['The capital of Russian Republic is Boorowa.\\n',\n",
       " 'The capital of Basht County is Bartoszyce.\\n',\n",
       " 'The capital of Vilcas Huamán is Dakar.\\n',\n",
       " \"The capital of Heron's Rest is Baturaja.\\n\",\n",
       " 'The capital of Mbale District is Kayu Agung.\\n',\n",
       " 'The capital of Monolith Management is Struga.\\n',\n",
       " 'The capital of Boulkiemdé Province is Skopje.\\n',\n",
       " 'The capital of Outaouais is Tiszakécske.\\n',\n",
       " 'The capital of Infinite Loop Tech Repair is Winner.\\n',\n",
       " 'The capital of Saguenay–Lac-Saint-Jean is Ljubljana.\\n']"
      ]
     },
     "execution_count": 23,
     "metadata": {},
     "output_type": "execute_result"
    }
   ],
   "source": [
    "val_df_contexts_per_qe.iloc[0][\"contexts\"][:10]"
   ]
  },
  {
   "cell_type": "code",
   "execution_count": 24,
   "metadata": {},
   "outputs": [],
   "source": [
    "import re\n",
    "\n",
    "p = r\"of\\s(.*?)(?=\\sis\\b)\"\n",
    "c_ents = [\n",
    "    re.search(p, text).group(1) for text in val_df_contexts_per_qe.iloc[0][\"contexts\"]\n",
    "]\n",
    "ents = val_df_contexts_per_qe[\"entity\"].tolist()\n",
    "if (\n",
    "    DATASET_KWARGS_IDENTIFIABLE[\"ablate_out_relevant_contexts\"]\n",
    "    and len(set(c_ents).intersection(set(ents))) != 0\n",
    "):\n",
    "    raise ValueError(\n",
    "        \"ablate_out_relevant_contexts is True, but the contexts contain entities in the entities list.\"\n",
    "    )"
   ]
  },
  {
   "cell_type": "code",
   "execution_count": 26,
   "metadata": {},
   "outputs": [
    {
     "data": {
      "text/html": [
       "<div>\n",
       "<style scoped>\n",
       "    .dataframe tbody tr th:only-of-type {\n",
       "        vertical-align: middle;\n",
       "    }\n",
       "\n",
       "    .dataframe tbody tr th {\n",
       "        vertical-align: top;\n",
       "    }\n",
       "\n",
       "    .dataframe thead th {\n",
       "        text-align: right;\n",
       "    }\n",
       "</style>\n",
       "<table border=\"1\" class=\"dataframe\">\n",
       "  <thead>\n",
       "    <tr style=\"text-align: right;\">\n",
       "      <th></th>\n",
       "      <th>capital</th>\n",
       "      <th>type</th>\n",
       "    </tr>\n",
       "    <tr>\n",
       "      <th>country</th>\n",
       "      <th></th>\n",
       "      <th></th>\n",
       "    </tr>\n",
       "  </thead>\n",
       "  <tbody>\n",
       "    <tr>\n",
       "      <th>Syzransky District</th>\n",
       "      <td>Syzran</td>\n",
       "      <td>countryCapital</td>\n",
       "    </tr>\n",
       "    <tr>\n",
       "      <th>Temnikovsky Uyezd</th>\n",
       "      <td>Temnikov</td>\n",
       "      <td>countryCapital</td>\n",
       "    </tr>\n",
       "    <tr>\n",
       "      <th>Cameron County</th>\n",
       "      <td>Brownsville</td>\n",
       "      <td>countryCapital</td>\n",
       "    </tr>\n",
       "    <tr>\n",
       "      <th>Kayin State</th>\n",
       "      <td>Hpa-An</td>\n",
       "      <td>countryCapital</td>\n",
       "    </tr>\n",
       "    <tr>\n",
       "      <th>arrondissement of Nice</th>\n",
       "      <td>Nice</td>\n",
       "      <td>countryCapital</td>\n",
       "    </tr>\n",
       "    <tr>\n",
       "      <th>...</th>\n",
       "      <td>...</td>\n",
       "      <td>...</td>\n",
       "    </tr>\n",
       "    <tr>\n",
       "      <th>Polar Climate Initiative</th>\n",
       "      <td>Pago Pago</td>\n",
       "      <td>gptFakeCountryCapital</td>\n",
       "    </tr>\n",
       "    <tr>\n",
       "      <th>Nexus Valley</th>\n",
       "      <td>Rottweil</td>\n",
       "      <td>gptFakeCountryCapital</td>\n",
       "    </tr>\n",
       "    <tr>\n",
       "      <th>Wanderlust Travel Magazine</th>\n",
       "      <td>Ciechanów</td>\n",
       "      <td>gptFakeCountryCapital</td>\n",
       "    </tr>\n",
       "    <tr>\n",
       "      <th>Nebula Network</th>\n",
       "      <td>Leadville</td>\n",
       "      <td>gptFakeCountryCapital</td>\n",
       "    </tr>\n",
       "    <tr>\n",
       "      <th>Xenolith Plateau</th>\n",
       "      <td>Dvorichna</td>\n",
       "      <td>gptFakeCountryCapital</td>\n",
       "    </tr>\n",
       "  </tbody>\n",
       "</table>\n",
       "<p>2000 rows × 2 columns</p>\n",
       "</div>"
      ],
      "text/plain": [
       "                                capital                   type\n",
       "country                                                       \n",
       "Syzransky District               Syzran         countryCapital\n",
       "Temnikovsky Uyezd              Temnikov         countryCapital\n",
       "Cameron County              Brownsville         countryCapital\n",
       "Kayin State                      Hpa-An         countryCapital\n",
       "arrondissement of Nice             Nice         countryCapital\n",
       "...                                 ...                    ...\n",
       "Polar Climate Initiative      Pago Pago  gptFakeCountryCapital\n",
       "Nexus Valley                   Rottweil  gptFakeCountryCapital\n",
       "Wanderlust Travel Magazine    Ciechanów  gptFakeCountryCapital\n",
       "Nebula Network                Leadville  gptFakeCountryCapital\n",
       "Xenolith Plateau              Dvorichna  gptFakeCountryCapital\n",
       "\n",
       "[2000 rows x 2 columns]"
      ]
     },
     "execution_count": 26,
     "metadata": {},
     "output_type": "execute_result"
    }
   ],
   "source": [
    "country_data"
   ]
  },
  {
   "cell_type": "code",
   "execution_count": 34,
   "metadata": {},
   "outputs": [],
   "source": [
    "country_data = pd.read_csv(\n",
    "    DATASET_KWARGS_IDENTIFIABLE[\"raw_data_path\"],\n",
    "    # os.path.join(\"data\", DATASET_NAME, \"real-fake-country-capital.csv\"),\n",
    "    index_col=0,\n",
    ")\n",
    "country_data[\"country\"] = country_data[\"country\"].apply(lambda x: (x,))"
   ]
  },
  {
   "cell_type": "code",
   "execution_count": 35,
   "metadata": {},
   "outputs": [],
   "source": [
    "val_df_per_qe = val_df_contexts_per_qe.merge(\n",
    "    country_data[[\"country\", \"type\", \"is_real\"]],\n",
    "    left_on=\"entity\",\n",
    "    right_on=\"country\",\n",
    "    how=\"left\",\n",
    ")[\n",
    "    [\n",
    "        \"q_id\",\n",
    "        \"query_form\",\n",
    "        \"entity\",\n",
    "        \"type\",\n",
    "        \"is_real\",\n",
    "        \"susceptibility_score\",\n",
    "    ]\n",
    "]"
   ]
  },
  {
   "cell_type": "code",
   "execution_count": 36,
   "metadata": {},
   "outputs": [
    {
     "data": {
      "text/html": [
       "<div>\n",
       "<style scoped>\n",
       "    .dataframe tbody tr th:only-of-type {\n",
       "        vertical-align: middle;\n",
       "    }\n",
       "\n",
       "    .dataframe tbody tr th {\n",
       "        vertical-align: top;\n",
       "    }\n",
       "\n",
       "    .dataframe thead th {\n",
       "        text-align: right;\n",
       "    }\n",
       "</style>\n",
       "<table border=\"1\" class=\"dataframe\">\n",
       "  <thead>\n",
       "    <tr style=\"text-align: right;\">\n",
       "      <th></th>\n",
       "      <th>q_id</th>\n",
       "      <th>query_form</th>\n",
       "      <th>entity</th>\n",
       "      <th>type</th>\n",
       "      <th>is_real</th>\n",
       "      <th>susceptibility_score</th>\n",
       "    </tr>\n",
       "  </thead>\n",
       "  <tbody>\n",
       "    <tr>\n",
       "      <th>126</th>\n",
       "      <td>capital_of</td>\n",
       "      <td>The capital of {} is</td>\n",
       "      <td>(Dominican Republic,)</td>\n",
       "      <td>countryCapital</td>\n",
       "      <td>True</td>\n",
       "      <td>0.060061</td>\n",
       "    </tr>\n",
       "    <tr>\n",
       "      <th>115</th>\n",
       "      <td>capital_of</td>\n",
       "      <td>The capital of {} is</td>\n",
       "      <td>(Socialist Republic of Romania,)</td>\n",
       "      <td>countryCapital</td>\n",
       "      <td>True</td>\n",
       "      <td>0.111741</td>\n",
       "    </tr>\n",
       "    <tr>\n",
       "      <th>119</th>\n",
       "      <td>capital_of</td>\n",
       "      <td>The capital of {} is</td>\n",
       "      <td>(Kingdom of Yugoslavia,)</td>\n",
       "      <td>countryCapital</td>\n",
       "      <td>True</td>\n",
       "      <td>0.117910</td>\n",
       "    </tr>\n",
       "    <tr>\n",
       "      <th>96</th>\n",
       "      <td>capital_of</td>\n",
       "      <td>The capital of {} is</td>\n",
       "      <td>(Tomaszów Mazowiecki County,)</td>\n",
       "      <td>countryCapital</td>\n",
       "      <td>True</td>\n",
       "      <td>0.174211</td>\n",
       "    </tr>\n",
       "    <tr>\n",
       "      <th>101</th>\n",
       "      <td>capital_of</td>\n",
       "      <td>The capital of {} is</td>\n",
       "      <td>(Bolivian State,)</td>\n",
       "      <td>countryCapital</td>\n",
       "      <td>True</td>\n",
       "      <td>0.184710</td>\n",
       "    </tr>\n",
       "    <tr>\n",
       "      <th>...</th>\n",
       "      <td>...</td>\n",
       "      <td>...</td>\n",
       "      <td>...</td>\n",
       "      <td>...</td>\n",
       "      <td>...</td>\n",
       "      <td>...</td>\n",
       "    </tr>\n",
       "    <tr>\n",
       "      <th>144</th>\n",
       "      <td>capital_of</td>\n",
       "      <td>The capital of {} is</td>\n",
       "      <td>(Infinite Loop Tech Repair,)</td>\n",
       "      <td>gptFakeCountryCapital</td>\n",
       "      <td>False</td>\n",
       "      <td>1.229702</td>\n",
       "    </tr>\n",
       "    <tr>\n",
       "      <th>159</th>\n",
       "      <td>capital_of</td>\n",
       "      <td>The capital of {} is</td>\n",
       "      <td>(Jewel of the Sea Aquarium,)</td>\n",
       "      <td>gptFakeCountryCapital</td>\n",
       "      <td>False</td>\n",
       "      <td>1.325326</td>\n",
       "    </tr>\n",
       "    <tr>\n",
       "      <th>171</th>\n",
       "      <td>capital_of</td>\n",
       "      <td>The capital of {} is</td>\n",
       "      <td>(Hydrangea Water Treatment,)</td>\n",
       "      <td>gptFakeCountryCapital</td>\n",
       "      <td>False</td>\n",
       "      <td>1.522597</td>\n",
       "    </tr>\n",
       "    <tr>\n",
       "      <th>142</th>\n",
       "      <td>capital_of</td>\n",
       "      <td>The capital of {} is</td>\n",
       "      <td>(Elevation Rock Climbing Gym,)</td>\n",
       "      <td>gptFakeCountryCapital</td>\n",
       "      <td>False</td>\n",
       "      <td>1.660724</td>\n",
       "    </tr>\n",
       "    <tr>\n",
       "      <th>147</th>\n",
       "      <td>capital_of</td>\n",
       "      <td>The capital of {} is</td>\n",
       "      <td>(Phoenix Urban Development,)</td>\n",
       "      <td>gptFakeCountryCapital</td>\n",
       "      <td>False</td>\n",
       "      <td>1.660971</td>\n",
       "    </tr>\n",
       "  </tbody>\n",
       "</table>\n",
       "<p>90 rows × 6 columns</p>\n",
       "</div>"
      ],
      "text/plain": [
       "           q_id            query_form                            entity  \\\n",
       "126  capital_of  The capital of {} is             (Dominican Republic,)   \n",
       "115  capital_of  The capital of {} is  (Socialist Republic of Romania,)   \n",
       "119  capital_of  The capital of {} is          (Kingdom of Yugoslavia,)   \n",
       "96   capital_of  The capital of {} is     (Tomaszów Mazowiecki County,)   \n",
       "101  capital_of  The capital of {} is                 (Bolivian State,)   \n",
       "..          ...                   ...                               ...   \n",
       "144  capital_of  The capital of {} is      (Infinite Loop Tech Repair,)   \n",
       "159  capital_of  The capital of {} is      (Jewel of the Sea Aquarium,)   \n",
       "171  capital_of  The capital of {} is      (Hydrangea Water Treatment,)   \n",
       "142  capital_of  The capital of {} is    (Elevation Rock Climbing Gym,)   \n",
       "147  capital_of  The capital of {} is      (Phoenix Urban Development,)   \n",
       "\n",
       "                      type  is_real  susceptibility_score  \n",
       "126         countryCapital     True              0.060061  \n",
       "115         countryCapital     True              0.111741  \n",
       "119         countryCapital     True              0.117910  \n",
       "96          countryCapital     True              0.174211  \n",
       "101         countryCapital     True              0.184710  \n",
       "..                     ...      ...                   ...  \n",
       "144  gptFakeCountryCapital    False              1.229702  \n",
       "159  gptFakeCountryCapital    False              1.325326  \n",
       "171  gptFakeCountryCapital    False              1.522597  \n",
       "142  gptFakeCountryCapital    False              1.660724  \n",
       "147  gptFakeCountryCapital    False              1.660971  \n",
       "\n",
       "[90 rows x 6 columns]"
      ]
     },
     "execution_count": 36,
     "metadata": {},
     "output_type": "execute_result"
    }
   ],
   "source": [
    "val_df_per_qe[val_df_per_qe[\"query_form\"] == \"The capital of {} is\"].sort_values(\n",
    "    by=\"susceptibility_score\"\n",
    ")"
   ]
  },
  {
   "cell_type": "code",
   "execution_count": 37,
   "metadata": {},
   "outputs": [
    {
     "data": {
      "text/html": [
       "<div>\n",
       "<style scoped>\n",
       "    .dataframe tbody tr th:only-of-type {\n",
       "        vertical-align: middle;\n",
       "    }\n",
       "\n",
       "    .dataframe tbody tr th {\n",
       "        vertical-align: top;\n",
       "    }\n",
       "\n",
       "    .dataframe thead th {\n",
       "        text-align: right;\n",
       "    }\n",
       "</style>\n",
       "<table border=\"1\" class=\"dataframe\">\n",
       "  <thead>\n",
       "    <tr style=\"text-align: right;\">\n",
       "      <th></th>\n",
       "      <th>entity</th>\n",
       "      <th>is_real</th>\n",
       "      <th>susceptibility_score</th>\n",
       "    </tr>\n",
       "  </thead>\n",
       "  <tbody>\n",
       "    <tr>\n",
       "      <th>36</th>\n",
       "      <td>(Dominican Republic,)</td>\n",
       "      <td>True</td>\n",
       "      <td>0.057850</td>\n",
       "    </tr>\n",
       "    <tr>\n",
       "      <th>29</th>\n",
       "      <td>(Kingdom of Yugoslavia,)</td>\n",
       "      <td>True</td>\n",
       "      <td>0.073470</td>\n",
       "    </tr>\n",
       "    <tr>\n",
       "      <th>25</th>\n",
       "      <td>(Socialist Republic of Romania,)</td>\n",
       "      <td>True</td>\n",
       "      <td>0.085187</td>\n",
       "    </tr>\n",
       "    <tr>\n",
       "      <th>28</th>\n",
       "      <td>(San Pedro de Macorís,)</td>\n",
       "      <td>True</td>\n",
       "      <td>0.100520</td>\n",
       "    </tr>\n",
       "    <tr>\n",
       "      <th>44</th>\n",
       "      <td>(Mbale District,)</td>\n",
       "      <td>True</td>\n",
       "      <td>0.100649</td>\n",
       "    </tr>\n",
       "    <tr>\n",
       "      <th>...</th>\n",
       "      <td>...</td>\n",
       "      <td>...</td>\n",
       "      <td>...</td>\n",
       "    </tr>\n",
       "    <tr>\n",
       "      <th>18</th>\n",
       "      <td>(Lubāna Municipality,)</td>\n",
       "      <td>True</td>\n",
       "      <td>0.622831</td>\n",
       "    </tr>\n",
       "    <tr>\n",
       "      <th>9</th>\n",
       "      <td>(Mat Municipality,)</td>\n",
       "      <td>True</td>\n",
       "      <td>0.645609</td>\n",
       "    </tr>\n",
       "    <tr>\n",
       "      <th>20</th>\n",
       "      <td>(Dzun-Khemchiksky District,)</td>\n",
       "      <td>True</td>\n",
       "      <td>0.658852</td>\n",
       "    </tr>\n",
       "    <tr>\n",
       "      <th>33</th>\n",
       "      <td>(Maloyaroslavetsky District,)</td>\n",
       "      <td>True</td>\n",
       "      <td>0.661093</td>\n",
       "    </tr>\n",
       "    <tr>\n",
       "      <th>30</th>\n",
       "      <td>(Kaynardzha Municipality,)</td>\n",
       "      <td>True</td>\n",
       "      <td>0.849402</td>\n",
       "    </tr>\n",
       "  </tbody>\n",
       "</table>\n",
       "<p>90 rows × 3 columns</p>\n",
       "</div>"
      ],
      "text/plain": [
       "                              entity  is_real  susceptibility_score\n",
       "36             (Dominican Republic,)     True              0.057850\n",
       "29          (Kingdom of Yugoslavia,)     True              0.073470\n",
       "25  (Socialist Republic of Romania,)     True              0.085187\n",
       "28           (San Pedro de Macorís,)     True              0.100520\n",
       "44                 (Mbale District,)     True              0.100649\n",
       "..                               ...      ...                   ...\n",
       "18            (Lubāna Municipality,)     True              0.622831\n",
       "9                (Mat Municipality,)     True              0.645609\n",
       "20      (Dzun-Khemchiksky District,)     True              0.658852\n",
       "33     (Maloyaroslavetsky District,)     True              0.661093\n",
       "30        (Kaynardzha Municipality,)     True              0.849402\n",
       "\n",
       "[90 rows x 3 columns]"
      ]
     },
     "execution_count": 37,
     "metadata": {},
     "output_type": "execute_result"
    }
   ],
   "source": [
    "val_df_per_qe[val_df_per_qe[\"query_form\"] == \"Q: What is the capital of {}?\\nA:\"][\n",
    "    [\"entity\", \"is_real\", \"susceptibility_score\"]\n",
    "].sort_values(\n",
    "    by=\"susceptibility_score\"\n",
    ")  # [val_df_per_qe[\"entity\"] == \"Albania\"]"
   ]
  },
  {
   "cell_type": "code",
   "execution_count": 38,
   "metadata": {},
   "outputs": [],
   "source": [
    "# anchor on countries that have changed names? e.g. Jerusalem/Israel, Leningrad/Russia? pick things that are narrowly true\n",
    "# fictional countries/capitals\n",
    "# find ordinal groups of countries and capitals, where we have an intuition on which ones should be more/less sensitive and then see whether the results fit that\n",
    "# https://en.wikipedia.org/wiki/List_of_city_name_changes\n",
    "# https://en.wikipedia.org/wiki/List_of_former_national_capitals\n",
    "# many factors (e.g. geography? etc?) - we can look for effects\n",
    "\n",
    "# Side question: does a LM anchor on word choices and take it into account going forward?"
   ]
  },
  {
   "cell_type": "code",
   "execution_count": 42,
   "metadata": {},
   "outputs": [
    {
     "data": {
      "text/plain": [
       "<AxesSubplot:xlabel='query_form', ylabel='susceptibility_score'>"
      ]
     },
     "execution_count": 42,
     "metadata": {},
     "output_type": "execute_result"
    },
    {
     "data": {
      "image/png": "[encoded data removed]",
      "text/plain": [
       "<Figure size 432x288 with 1 Axes>"
      ]
     },
     "metadata": {
      "needs_background": "light"
     },
     "output_type": "display_data"
    }
   ],
   "source": [
    "sns.swarmplot(\n",
    "    data=val_df_per_qe,\n",
    "    x=\"query_form\",\n",
    "    y=\"susceptibility_score\",\n",
    "    hue=\"type\",\n",
    "    # hue=\"is_real\",\n",
    "    dodge=True,\n",
    "    # jitter=0.1,\n",
    "    # legend=\"full\",\n",
    ")"
   ]
  },
  {
   "cell_type": "code",
   "execution_count": 40,
   "metadata": {},
   "outputs": [
    {
     "data": {
      "image/png": "[encoded data removed]",
      "text/plain": [
       "<Figure size 432x288 with 1 Axes>"
      ]
     },
     "metadata": {
      "needs_background": "light"
     },
     "output_type": "display_data"
    }
   ],
   "source": [
    "fig, ax = plt.subplots()\n",
    "plot = sns.stripplot(\n",
    "    data=val_df_per_qe[\n",
    "        val_df_per_qe[\"type\"].isin(\n",
    "            [\n",
    "                \"countryCapital\",\n",
    "                # \"famousFictionalCountryCapital\",\n",
    "                \"historicalCountryCapital\",\n",
    "                \"dreamfictionalCountryCapital\",\n",
    "                # \"fakeCountryCapital\",\n",
    "            ]\n",
    "        )\n",
    "    ],\n",
    "    x=\"query_form\",\n",
    "    y=\"susceptibility_score\",\n",
    "    hue=\"type\",\n",
    "    ax=ax,\n",
    "    # hue=\"is_real\",\n",
    "    # dodge=True\n",
    "    # jitter=0.1,\n",
    "    # legend=\"full\",\n",
    ")\n",
    "plot_name = \"plot_susscore_vs_queryform_real_historical_dreamfic\"\n",
    "save_path = os.path.join(analysis_dir, f\"{plot_name}.png\")\n",
    "fig.savefig(save_path)\n",
    "wandb.log({plot_name: wandb.Image(fig)})"
   ]
  },
  {
   "cell_type": "code",
   "execution_count": null,
   "metadata": {},
   "outputs": [],
   "source": [
    "fig"
   ]
  },
  {
   "cell_type": "markdown",
   "metadata": {},
   "source": [
    "### Examining model outputs"
   ]
  },
  {
   "cell_type": "code",
   "execution_count": 24,
   "metadata": {},
   "outputs": [],
   "source": [
    "from measuring.estimate_probs import (\n",
    "    # estimate_prob_y_given_context_and_entity,\n",
    "    # estimate_prob_x_given_e,\n",
    "    # estimate_prob_next_word_given_x_and_entity,\n",
    "    estimate_cmi,\n",
    "    get_prob_next_word,\n",
    "    #     score_model_for_next_word_prob,\n",
    "    #     create_position_ids_from_input_ids,\n",
    "    #     sharded_score_model,\n",
    "    #     estimate_entity_score,\n",
    "    #     kl_div,\n",
    "    #     difference,\n",
    "    #     difference_p_good_only,\n",
    "    #     difference_abs_val,\n",
    ")\n",
    "from preprocessing.utils import format_query\n",
    "import pprint"
   ]
  },
  {
   "cell_type": "code",
   "execution_count": null,
   "metadata": {
    "tags": []
   },
   "outputs": [],
   "source": [
    "try:\n",
    "    model = GPTNeoXForCausalLM.from_pretrained(\n",
    "        MODEL_ID, load_in_8bit=LOAD_IN_8BIT, device_map=\"auto\"\n",
    "    )\n",
    "except:\n",
    "    print(f\"Failed to load model {MODEL_ID} in 8-bit. Attempting to load normally.\")\n",
    "    model = GPTNeoXForCausalLM.from_pretrained(\n",
    "        MODEL_ID,\n",
    "        load_in_8bit=False,\n",
    "    ).to(device)\n",
    "\n",
    "tokenizer = AutoTokenizer.from_pretrained(\n",
    "    MODEL_ID,\n",
    "    padding_side=\"left\",\n",
    ")"
   ]
  },
  {
   "cell_type": "code",
   "execution_count": null,
   "metadata": {},
   "outputs": [],
   "source": [
    "val_df_contexts_per_qe.sort_values(by=\"susceptibility_score\").iloc[0]"
   ]
  },
  {
   "cell_type": "code",
   "execution_count": 25,
   "metadata": {},
   "outputs": [],
   "source": [
    "def print_top_k_next_token_probs(model, tokenizer, query, entity, context, k=50):\n",
    "    logits, inds = torch.topk(\n",
    "        get_prob_next_word(\n",
    "            model,\n",
    "            tokenizer(\n",
    "                format_query(query=query, entity=entity, context=context),\n",
    "                padding=True,\n",
    "                return_tensors=\"pt\",\n",
    "            ).to(model.device),\n",
    "        ),\n",
    "        k=k,\n",
    "    )\n",
    "    print(\n",
    "        list(\n",
    "            zip(\n",
    "                torch.nn.functional.softmax(logits[0]).detach().cpu().numpy(),\n",
    "                tokenizer.convert_ids_to_tokens(inds[0]),\n",
    "                inds[0].detach().cpu().numpy(),\n",
    "            )\n",
    "        )\n",
    "    )"
   ]
  },
  {
   "cell_type": "code",
   "execution_count": 25,
   "metadata": {},
   "outputs": [
    {
     "data": {
      "text/html": [
       "<div>\n",
       "<style scoped>\n",
       "    .dataframe tbody tr th:only-of-type {\n",
       "        vertical-align: middle;\n",
       "    }\n",
       "\n",
       "    .dataframe tbody tr th {\n",
       "        vertical-align: top;\n",
       "    }\n",
       "\n",
       "    .dataframe thead th {\n",
       "        text-align: right;\n",
       "    }\n",
       "</style>\n",
       "<table border=\"1\" class=\"dataframe\">\n",
       "  <thead>\n",
       "    <tr style=\"text-align: right;\">\n",
       "      <th></th>\n",
       "      <th>q_id</th>\n",
       "      <th>query_form</th>\n",
       "      <th>entity</th>\n",
       "      <th>contexts</th>\n",
       "      <th>susceptibility_score</th>\n",
       "    </tr>\n",
       "  </thead>\n",
       "  <tbody>\n",
       "    <tr>\n",
       "      <th>94</th>\n",
       "      <td>capital_of</td>\n",
       "      <td>The capital of {} is</td>\n",
       "      <td>(Nagorno-Karabakh Republic,)</td>\n",
       "      <td>[The capital of Royal Hungary is Riyadh.\\n, Th...</td>\n",
       "      <td>0.015117</td>\n",
       "    </tr>\n",
       "    <tr>\n",
       "      <th>103</th>\n",
       "      <td>capital_of</td>\n",
       "      <td>The capital of {} is</td>\n",
       "      <td>(Republic of China (Taiwan),)</td>\n",
       "      <td>[The capital of Royal Hungary is Riyadh.\\n, Th...</td>\n",
       "      <td>0.027095</td>\n",
       "    </tr>\n",
       "    <tr>\n",
       "      <th>91</th>\n",
       "      <td>capital_of</td>\n",
       "      <td>The capital of {} is</td>\n",
       "      <td>(Paraguay,)</td>\n",
       "      <td>[The capital of Royal Hungary is Riyadh.\\n, Th...</td>\n",
       "      <td>0.035673</td>\n",
       "    </tr>\n",
       "    <tr>\n",
       "      <th>107</th>\n",
       "      <td>capital_of</td>\n",
       "      <td>The capital of {} is</td>\n",
       "      <td>(Kyrgyzstan,)</td>\n",
       "      <td>[The capital of Royal Hungary is Riyadh.\\n, Th...</td>\n",
       "      <td>0.048575</td>\n",
       "    </tr>\n",
       "    <tr>\n",
       "      <th>101</th>\n",
       "      <td>capital_of</td>\n",
       "      <td>The capital of {} is</td>\n",
       "      <td>(Somalia,)</td>\n",
       "      <td>[The capital of Royal Hungary is Riyadh.\\n, Th...</td>\n",
       "      <td>0.062413</td>\n",
       "    </tr>\n",
       "    <tr>\n",
       "      <th>...</th>\n",
       "      <td>...</td>\n",
       "      <td>...</td>\n",
       "      <td>...</td>\n",
       "      <td>...</td>\n",
       "      <td>...</td>\n",
       "    </tr>\n",
       "    <tr>\n",
       "      <th>141</th>\n",
       "      <td>capital_of</td>\n",
       "      <td>The capital of {} is</td>\n",
       "      <td>(Consuleo,)</td>\n",
       "      <td>[The capital of Royal Hungary is Riyadh.\\n, Th...</td>\n",
       "      <td>0.751852</td>\n",
       "    </tr>\n",
       "    <tr>\n",
       "      <th>136</th>\n",
       "      <td>capital_of</td>\n",
       "      <td>The capital of {} is</td>\n",
       "      <td>(Wula,)</td>\n",
       "      <td>[The capital of Royal Hungary is Riyadh.\\n, Th...</td>\n",
       "      <td>0.760516</td>\n",
       "    </tr>\n",
       "    <tr>\n",
       "      <th>148</th>\n",
       "      <td>capital_of</td>\n",
       "      <td>The capital of {} is</td>\n",
       "      <td>(Fictional Country,)</td>\n",
       "      <td>[The capital of Royal Hungary is Riyadh.\\n, Th...</td>\n",
       "      <td>0.796028</td>\n",
       "    </tr>\n",
       "    <tr>\n",
       "      <th>120</th>\n",
       "      <td>capital_of</td>\n",
       "      <td>The capital of {} is</td>\n",
       "      <td>(Cadasa,)</td>\n",
       "      <td>[The capital of Royal Hungary is Riyadh.\\n, Th...</td>\n",
       "      <td>0.831525</td>\n",
       "    </tr>\n",
       "    <tr>\n",
       "      <th>112</th>\n",
       "      <td>capital_of</td>\n",
       "      <td>The capital of {} is</td>\n",
       "      <td>(Neon District,)</td>\n",
       "      <td>[The capital of Royal Hungary is Riyadh.\\n, Th...</td>\n",
       "      <td>0.999514</td>\n",
       "    </tr>\n",
       "  </tbody>\n",
       "</table>\n",
       "<p>90 rows × 5 columns</p>\n",
       "</div>"
      ],
      "text/plain": [
       "           q_id            query_form                         entity  \\\n",
       "94   capital_of  The capital of {} is   (Nagorno-Karabakh Republic,)   \n",
       "103  capital_of  The capital of {} is  (Republic of China (Taiwan),)   \n",
       "91   capital_of  The capital of {} is                    (Paraguay,)   \n",
       "107  capital_of  The capital of {} is                  (Kyrgyzstan,)   \n",
       "101  capital_of  The capital of {} is                     (Somalia,)   \n",
       "..          ...                   ...                            ...   \n",
       "141  capital_of  The capital of {} is                    (Consuleo,)   \n",
       "136  capital_of  The capital of {} is                        (Wula,)   \n",
       "148  capital_of  The capital of {} is           (Fictional Country,)   \n",
       "120  capital_of  The capital of {} is                      (Cadasa,)   \n",
       "112  capital_of  The capital of {} is               (Neon District,)   \n",
       "\n",
       "                                              contexts  susceptibility_score  \n",
       "94   [The capital of Royal Hungary is Riyadh.\\n, Th...              0.015117  \n",
       "103  [The capital of Royal Hungary is Riyadh.\\n, Th...              0.027095  \n",
       "91   [The capital of Royal Hungary is Riyadh.\\n, Th...              0.035673  \n",
       "107  [The capital of Royal Hungary is Riyadh.\\n, Th...              0.048575  \n",
       "101  [The capital of Royal Hungary is Riyadh.\\n, Th...              0.062413  \n",
       "..                                                 ...                   ...  \n",
       "141  [The capital of Royal Hungary is Riyadh.\\n, Th...              0.751852  \n",
       "136  [The capital of Royal Hungary is Riyadh.\\n, Th...              0.760516  \n",
       "148  [The capital of Royal Hungary is Riyadh.\\n, Th...              0.796028  \n",
       "120  [The capital of Royal Hungary is Riyadh.\\n, Th...              0.831525  \n",
       "112  [The capital of Royal Hungary is Riyadh.\\n, Th...              0.999514  \n",
       "\n",
       "[90 rows x 5 columns]"
      ]
     },
     "execution_count": 25,
     "metadata": {},
     "output_type": "execute_result"
    }
   ],
   "source": [
    "query_forms = val_df_per_qe[\"query_form\"].unique()\n",
    "val_df_contexts_per_qe[\n",
    "    val_df_contexts_per_qe[\"query_form\"] == query_forms[1]\n",
    "].sort_values(by=\"susceptibility_score\")"
   ]
  },
  {
   "cell_type": "code",
   "execution_count": 64,
   "metadata": {
    "tags": []
   },
   "outputs": [
    {
     "name": "stdout",
     "output_type": "stream",
     "text": [
      "***Investigating the following query for entity ('Nagorno-Karabakh Republic',):***\n",
      "The capital of Nagorno-Karabakh Republic is\n",
      "CMI: 0.017251218948326867\n",
      "***Top-k next token probs WITHOUT any context:***\n"
     ]
    },
    {
     "name": "stderr",
     "output_type": "stream",
     "text": [
      "/scratch/tmp.41099897.kevidu/ipykernel_27225/2345229264.py:16: UserWarning: Implicit dimension choice for softmax has been deprecated. Change the call to include dim=X as an argument.\n",
      "  torch.nn.functional.softmax(logits[0]).detach().cpu().numpy(),\n"
     ]
    },
    {
     "name": "stdout",
     "output_type": "stream",
     "text": [
      "[(0.898, 'ĠSte', 2951), (0.0291, 'ĠY', 714), (0.01984, 'Ġthe', 253), (0.01865, 'ĠB', 378), (0.005775, 'ĠT', 308), (0.00436, 'Ġa', 247), (0.002972, 'Ġoccupied', 13598), (0.002262, 'Ġalso', 671), (0.001789, 'Ċ', 187), (0.001747, 'ĠSh', 1608), (0.000935, 'Ġits', 697), (0.000832, 'Ġcapital', 5347), (0.000769, 'Ġcurrently', 4390), (0.0007343, 'Ġnot', 417), (0.000717, 'ĠM', 353), (0.000706, 'ĠN', 427), (0.000576, 'ĠArts', 15118), (0.0005083, 'Ġin', 275), (0.0004778, 'ĠNK', 18156), (0.0004704, 'ĠGy', 20925), (0.000463, 'Ġconsidered', 2783), (0.0004385, 'Ġan', 271), (0.0004249, 'Ġcity', 2846), (0.0004249, 'Ġlocated', 4441), (0.0004022, 'Ġnamed', 4907), (0.000396, 'ĠS', 322), (0.000396, 'Ġrepublic', 23822), (0.0003662, 'Ġwithin', 1561), (0.0003579, ',', 13), (0.0003467, 'Ġ\"', 346), (0.0003335, 'ĠE', 444), (0.0003037, 'ĠA', 329), (0.0002897, ':', 27), (0.0002897, 'Ġcalled', 1925), (0.0002875, 'ĠAl', 1219), (0.0002556, 'ĠEl', 3599), (0.0002365, 'ĠArt', 3975), (0.000231, 'ĠAst', 15123), (0.0002292, 'Ġnone', 5293), (0.0002275, 'Ġunder', 762), (0.0002204, 'Ġno', 642), (0.0002187, 'Ġde', 372), (0.0002187, 'ĠAs', 1284), (0.000212, 'Ġdivided', 4272), (0.0002071, 'Ġon', 327), (0.0001945, 'Ġcommonly', 7744), (0.0001813, 'Ġby', 407), (0.0001813, 'Ġstill', 1335), (0.0001799, 'Ġof', 273), (0.0001799, 'Ġas', 347)]\n",
      "\n",
      "\n",
      "\n",
      "*The capital of Austria is Clara.\n",
      "The capital of Nagorno-Karabakh Republic is*\n",
      "[(0.969, 'ĠSte', 2951), (0.006428, 'Ċ', 187), (0.00563, 'ĠY', 714), (0.00533, 'ĠB', 378), (0.002346, 'Ġthe', 253), (0.002329, 'ĠSh', 1608), (0.000986, 'ĠArts', 15118), (0.000926, 'ĠT', 308), (0.0009046, 'ĠN', 427), (0.000877, 'ĠM', 353), (0.0005236, 'ĠGy', 20925), (0.0003152, 'ĠArt', 3975), (0.0002801, 'ĠAs', 1284), (0.0002716, '...', 1051), (0.0002166, 'Ġa', 247), (0.0002066, 'ĠMart', 5794), (0.0001956, 'ĠAl', 1219), (0.0001867, 'Ġcapital', 5347), (0.0001838, 'Ġun', 440), (0.0001713, 'ĠE', 444), (0.0001634, 'ĠS', 322), (0.0001535, ':', 27), (0.00015, 'Ġ...', 3346), (0.0001454, 'ĠV', 657), (0.0001409, 'ĠNK', 18156), (0.0001177, 'Ġnone', 5293), (0.00011593, 'Ġalso', 671), (0.0001015, 'Ġits', 697), (9.537e-05, 'ĠEl', 3599), (9.03e-05, 'ĠKar', 12604), (8.89e-05, 'Ste', 6812), (8.75e-05, 'ĠO', 473), (8.416e-05, 'âĢ¦', 2866), (8.285e-05, 'ĠVan', 10049), (7.904e-05, 'ĠâĢ¦', 8139), (7.57e-05, 'ĠK', 611), (7.486e-05, ',', 13), (7.34e-05, 'Ġcity', 2846), (6.974e-05, 'ĠG', 443), (6.48e-05, 'Ġas', 347), (6.276e-05, 'Ġin', 275), (6.18e-05, 'ĠA', 329), (5.895e-05, 'Ġ(', 313), (5.76e-05, 'ĠDe', 1605), (5.41e-05, 'Ġ', 209), (5.16e-05, 'Ġoccupied', 13598), (5.126e-05, 'ĠQ', 1165), (5.066e-05, 'ĠAst', 15123), (4.87e-05, 'Ġnot', 417), (4.7e-05, 'ĠAr', 1780)]\n",
      "\n",
      "\n",
      "\n",
      "*The capital of Spain is El Aaiún.\n",
      "The capital of Nagorno-Karabakh Republic is*\n",
      "[(0.951, 'ĠSte', 2951), (0.01624, 'ĠY', 714), (0.00732, 'Ċ', 187), (0.00661, 'Ġthe', 253), (0.003798, 'ĠB', 378), (0.003027, 'ĠSh', 1608), (0.00103, 'ĠM', 353), (0.001006, 'ĠGy', 20925), (0.0009675, 'ĠArts', 15118), (0.000938, 'ĠT', 308), (0.0005426, 'ĠN', 427), (0.0004065, 'ĠArt', 3975), (0.000382, 'ĠE', 444), (0.0003731, 'Ġun', 440), (0.000356, 'ĠMart', 5794), (0.0003424, 'Ġcapital', 5347), (0.000324, 'ĠS', 322), (0.0003166, '...', 1051), (0.0003045, 'ĠAs', 1284), (0.0002465, 'ĠKar', 12604), (0.0002408, 'Ġa', 247), (0.0002176, 'Ġ...', 3346), (0.0002092, 'Ġits', 697), (0.0001981, 'ĠâĢ¦', 8139), (0.000195, 'ĠV', 657), (0.0001891, 'ĠEl', 3599), (0.0001832, 'ĠK', 611), (0.0001818, 'Ġalso', 671), (0.000179, 'ĠNK', 18156), (0.0001721, 'Ġcentral', 4275), (0.0001695, 'Ġcity', 2846), (0.0001682, 'âĢ¦', 2866), (0.0001543, 'Ġin', 275), (0.0001496, 'Ġ', 209), (0.0001299, 'ĠAl', 1219), (0.0001289, 'Ġde', 372), (0.0001279, ':', 27), (0.0001211, 'ĠG', 443), (0.00010985, 'Ġas', 347), (0.00010276, '  ', 50276), (0.0001008, 'ĠGand', 28257), (0.0001, 'Ġ(', 313), (9.77e-05, 'ĠA', 329), (9.62e-05, 'Ġwithin', 1561), (9.62e-05, 'ĠDe', 1605), (9.507e-05, 'Ġoccupied', 13598), (9.18e-05, 'Ġ.', 964), (9.036e-05, 'Ste', 6812), (9e-05, 'ĠLenin', 49444), (8.726e-05, 'ĠQ', 1165)]\n",
      "\n",
      "\n",
      "\n",
      "*The capital of Bengal Sultanate is Zurich.\n",
      "The capital of Nagorno-Karabakh Republic is*\n",
      "[(0.8726, 'ĠSte', 2951), (0.0652, 'ĠY', 714), (0.01883, 'ĠB', 378), (0.010475, 'ĠM', 353), (0.007145, 'Ġthe', 253), (0.00465, 'ĠT', 308), (0.004135, 'Ċ', 187), (0.002956, 'ĠGy', 20925), (0.001793, 'Ġcapital', 5347), (0.001711, 'ĠSh', 1608), (0.0008874, 'ĠAl', 1219), (0.0007358, 'ĠZur', 41397), (0.00073, 'ĠArt', 3975), (0.00073, 'ĠArts', 15118), (0.0007243, 'ĠE', 444), (0.0004826, 'Ġoccupied', 13598), (0.000475, 'ĠS', 322), (0.0004258, 'ĠZ', 1503), (0.0003846, 'Ġde', 372), (0.0003343, 'ĠAst', 15123), (0.0003264, 'ĠN', 427), (0.0003116, 'ĠMart', 5794), (0.0003018, 'Ġa', 247), (0.0002261, 'ĠG', 443), (0.0002192, 'Ġits', 697), (0.0001996, 'ĠAsh', 12521), (0.0001904, 'ĠA', 329), (0.0001845, 'ĠEl', 3599), (0.0001647, 'Ġun', 440), (0.0001628, 'ĠV', 657), (0.0001616, 'ĠVienna', 26229), (0.0001572, 'ĠGro', 14038), (0.0001507, 'ĠMoscow', 16496), (0.0001501, 'ĠL', 418), (0.0001377, 'Ġcity', 2846), (0.0001366, 'Ġ...', 3346), (0.0001361, ',', 13), (0.0001335, 'ĠQ', 1165), (0.0001329, 'Ġby', 407), (0.0001309, 'ĠClark', 15319), (0.0001249, 'ĠAs', 1284), (0.00012153, 'Ġas', 347), (0.0001206, 'ĠDer', 12658), (0.0001196, ':', 27), (0.00011414, 'ĠK', 611), (0.00011194, 'ĠRepublic', 4687), (0.00011104, 'ĠBat', 15103), (0.0001102, 'Ġalso', 671), (0.0001089, 'ĠJerusalem', 17913), (0.0001085, 'ĠLondon', 4693)]\n",
      "\n",
      "\n",
      "\n",
      "*The capital of Republic of Ragusa is Skadar (Shkoder).\n",
      "The capital of Nagorno-Karabakh Republic is*\n",
      "[(0.985, 'ĠSte', 2951), (0.00474, 'ĠY', 714), (0.001946, 'Ġthe', 253), (0.001828, 'Ċ', 187), (0.001276, 'ĠB', 378), (0.0006995, 'ĠM', 353), (0.000694, 'ĠSh', 1608), (0.0005116, 'ĠArts', 15118), (0.0003953, 'ĠGy', 20925), (0.000274, 'ĠT', 308), (0.000274, 'Ġcapital', 5347), (0.0002325, 'ĠArt', 3975), (0.0002289, 'ĠMart', 5794), (0.000156, 'ĠNK', 18156), (0.0001345, 'Ġoccupied', 13598), (0.0001224, 'ĠN', 427), (0.00010395, 'Ġa', 247), (0.00010395, 'Ġalso', 671), (9.92e-05, 'Ġun', 440), (9.316e-05, 'ĠAl', 1219), (7.313e-05, 'ĠAg', 3419), (7.26e-05, 'ĠG', 443), (6.455e-05, 'ĠS', 322), (6.455e-05, 'Ġits', 697), (5.97e-05, 'Ġwithin', 1561), (5.877e-05, 'Ġcity', 2846), (5.5e-05, '...', 1051), (5.37e-05, 'ĠKar', 12604), (5.126e-05, 'Ġcentral', 4275), (5.007e-05, 'Ste', 6812), (4.54e-05, 'ĠK', 611), (4.315e-05, 'ĠAst', 15123), (4.286e-05, 'Ġ(', 313), (4.09e-05, 'ĠShah', 24919), (4.023e-05, 'ĠE', 444), (3.69e-05, ',', 13), (3.69e-05, 'Ġ', 209), (3.69e-05, 'Ġof', 273), (3.564e-05, 'ĠRepublic', 4687), (3.47e-05, 'ĠGab', 17422), (3.23e-05, 'ĠBat', 15103), (3.16e-05, 'ĠQ', 1165), (3.09e-05, ':', 27), (3.076e-05, 'Ġin', 275), (3.03e-05, 'Ġtotal', 2264), (3.016e-05, 'Ġ...', 3346), (2.93e-05, 'ĠLenin', 49444), (2.843e-05, 'ĠAs', 1284), (2.82e-05, 'Ġboth', 1097), (2.754e-05, 'ĠBu', 11262)]\n",
      "\n",
      "\n",
      "\n",
      "*The capital of First Bulgarian Empire is Phu Xuan (Hue).\n",
      "The capital of Nagorno-Karabakh Republic is*\n",
      "[(0.9785, 'ĠSte', 2951), (0.00691, 'ĠY', 714), (0.003937, 'ĠB', 378), (0.00186, 'Ġthe', 253), (0.001329, 'ĠGy', 20925), (0.000988, 'ĠT', 308), (0.000892, 'ĠSh', 1608), (0.0008063, 'Ċ', 187), (0.000497, 'ĠM', 353), (0.000355, 'Ġcapital', 5347), (0.000311, 'ĠS', 322), (0.0003085, 'ĠArts', 15118), (0.0002723, 'ĠMart', 5794), (0.0002658, 'ĠArt', 3975), (0.0002023, 'Ġoccupied', 13598), (0.0001677, 'Ġun', 440), (0.0001651, 'ĠG', 443), (0.0001276, 'ĠN', 427), (0.0001152, 'ĠK', 611), (0.0001126, 'ĠAl', 1219), (0.00010574, 'ĠEl', 3599), (0.0001017, 'ĠTs', 20613), (0.00010014, 'Ġa', 247), (8.434e-05, 'ĠV', 657), (8.3e-05, 'Ġ(', 313), (8.17e-05, 'ĠGab', 17422), (7.385e-05, 'Ste', 6812), (7.266e-05, 'Ġits', 697), (7.15e-05, 'Ġalso', 671), (7.15e-05, 'Ġcity', 2846), (6.366e-05, 'ĠShah', 24919), (6.026e-05, 'ĠKar', 12604), (5.84e-05, 'ĠBat', 15103), (5.44e-05, 'Ġde', 372), (5.34e-05, 'ĠAg', 3419), (5.275e-05, 'Ġcentral', 4275), (5.215e-05, 'ĠAnt', 9422), (5.114e-05, 'ĠKy', 18009), (5.096e-05, 'ĠE', 444), (4.92e-05, 'Ġin', 275), (4.29e-05, 'Ġnone', 5293), (4.19e-05, '  ', 50276), (3.934e-05, 'Ġwithin', 1561), (3.844e-05, ',', 13), (3.815e-05, ':', 27), (3.695e-05, 'ĠAs', 1284), (3.684e-05, 'Ġ', 209), (3.624e-05, 'ĠAst', 15123), (3.356e-05, 'ĠIv', 34784), (3.3e-05, '...', 1051)]\n",
      "\n",
      "\n",
      "\n",
      "***Sampled next 5 generated tokens WITHOUT any context:***\n",
      "Prompt length:11\n",
      "[('The capital of Nagorno-Karabakh Republic is Stepanakert which',\n",
      "  tensor([2951, 4029,  518,  797,  534], device='cuda:0')),\n",
      " ('The capital of Nagorno-Karabakh Republic is Stepanakert,',\n",
      "  tensor([2951, 4029,  518,  797,   13], device='cuda:0')),\n",
      " ('The capital of Nagorno-Karabakh Republic is Stepanakert.',\n",
      "  tensor([2951, 4029,  518,  797,   15], device='cuda:0')),\n",
      " ('The capital of Nagorno-Karabakh Republic is Stepanakert where',\n",
      "  tensor([2951, 4029,  518,  797,  835], device='cuda:0')),\n",
      " ('The capital of Nagorno-Karabakh Republic is Stepanakert,',\n",
      "  tensor([2951, 4029,  518,  797,   13], device='cuda:0')),\n",
      " ('The capital of Nagorno-Karabakh Republic is in Stepanakert',\n",
      "  tensor([ 275, 2951, 4029,  518,  797], device='cuda:0')),\n",
      " ('The capital of Nagorno-Karabakh Republic is Stepanakert.',\n",
      "  tensor([2951, 4029,  518,  797,   15], device='cuda:0')),\n",
      " ('The capital of Nagorno-Karabakh Republic is Stepanakert.',\n",
      "  tensor([2951, 4029,  518,  797,   15], device='cuda:0')),\n",
      " ('The capital of Nagorno-Karabakh Republic is Stepanakert.',\n",
      "  tensor([2951, 4029,  518,  797,   15], device='cuda:0')),\n",
      " ('The capital of Nagorno-Karabakh Republic is Stepanakert.',\n",
      "  tensor([2951, 4029,  518,  797,   15], device='cuda:0'))]\n"
     ]
    }
   ],
   "source": [
    "pp = pprint.PrettyPrinter()\n",
    "row = (\n",
    "    val_df_contexts_per_qe[val_df_contexts_per_qe[\"query_form\"] == query_forms[1]]\n",
    "    .sort_values(by=\"susceptibility_score\")\n",
    "    .iloc[0]\n",
    ")\n",
    "entity = row[\"entity\"]\n",
    "contexts = row[\"contexts\"][430:440]\n",
    "query = row[\"query_form\"]\n",
    "print(f\"***Investigating the following query for entity {entity}:***\")\n",
    "print(format_query(query=query, entity=entity, context=\"\"))\n",
    "print(\"CMI:\", estimate_cmi(query, entity, contexts, model, tokenizer))\n",
    "\n",
    "print(\"***Top-k next token probs WITHOUT any context:***\")\n",
    "print_top_k_next_token_probs(model, tokenizer, query, entity, context=\"\", k=50)\n",
    "print(\"\\n\\n\")\n",
    "for context in contexts[:5]:\n",
    "    print(f\"*{format_query(query=query, entity=entity, context=context)}*\")\n",
    "    print_top_k_next_token_probs(model, tokenizer, query, entity, context, k=50)\n",
    "    print(\"\\n\\n\")\n",
    "\n",
    "\n",
    "print(\"***Sampled next 5 generated tokens WITHOUT any context:***\")\n",
    "tokens = tokenizer(\n",
    "    format_query(query=query, entity=entity, context=\"\"),\n",
    "    padding=True,\n",
    "    return_tensors=\"pt\",\n",
    ").to(model.device)\n",
    "print(f\"Prompt length:{len(tokens['input_ids'][0])}\")\n",
    "samples = model.generate(\n",
    "    **tokens,\n",
    "    num_return_sequences=10,\n",
    "    do_sample=True,\n",
    "    max_length=len(tokens[\"input_ids\"][0]) + 5,\n",
    ")\n",
    "pp.pprint(list(zip(tokenizer.batch_decode(samples), [s[-5:] for s in samples])))"
   ]
  },
  {
   "cell_type": "markdown",
   "metadata": {},
   "source": [
    "### Correlation with Pile frequency"
   ]
  },
  {
   "cell_type": "code",
   "execution_count": 26,
   "metadata": {},
   "outputs": [],
   "source": [
    "unigram_frequencies = np.memmap(\n",
    "    \"/cluster/work/cotterell/shared_datasets/pile_deduped/pythia-unigrams.bin\",\n",
    "    dtype=np.int64,\n",
    "    mode=\"r\",\n",
    "    shape=(50277,),\n",
    ")\n",
    "view = np.memmap(\n",
    "    \"/cluster/work/cotterell/shared_datasets/pile_deduped/pythia_pile_idxmaps/pile_0.87_deduped_text_document.bin\",\n",
    "    dtype=np.uint16,\n",
    "    mode=\"r\",\n",
    ")"
   ]
  },
  {
   "cell_type": "code",
   "execution_count": 34,
   "metadata": {},
   "outputs": [
    {
     "ename": "AttributeError",
     "evalue": "Can't get attribute 'csr_array' on <module 'scipy.sparse._csr' from '/cluster/home/kevidu/.local/lib/python3.10/site-packages/scipy/sparse/_csr.py'>",
     "output_type": "error",
     "traceback": [
      "\u001b[0;31m---------------------------------------------------------------------------\u001b[0m",
      "\u001b[0;31mAttributeError\u001b[0m                            Traceback (most recent call last)",
      "Input \u001b[0;32mIn [34]\u001b[0m, in \u001b[0;36m<cell line: 23>\u001b[0;34m()\u001b[0m\n\u001b[1;32m     21\u001b[0m dctx \u001b[38;5;241m=\u001b[39m zstd\u001b[38;5;241m.\u001b[39mZstdDecompressor()\n\u001b[1;32m     22\u001b[0m decompressed \u001b[38;5;241m=\u001b[39m dctx\u001b[38;5;241m.\u001b[39mdecompress(data)\n\u001b[0;32m---> 23\u001b[0m pickled_scipy \u001b[38;5;241m=\u001b[39m \u001b[43mpickle\u001b[49m\u001b[38;5;241;43m.\u001b[39;49m\u001b[43mloads\u001b[49m\u001b[43m(\u001b[49m\u001b[43mdecompressed\u001b[49m\u001b[43m)\u001b[49m\n",
      "\u001b[0;31mAttributeError\u001b[0m: Can't get attribute 'csr_array' on <module 'scipy.sparse._csr' from '/cluster/home/kevidu/.local/lib/python3.10/site-packages/scipy/sparse/_csr.py'>"
     ]
    }
   ],
   "source": [
    "import zstandard as zstd\n",
    "import pickle\n",
    "from scipy.sparse import load_npz\n",
    "\n",
    "file_path = (\n",
    "    \"/cluster/work/cotterell/shared_datasets/pile_deduped/pythia-deduped-bigrams.zst\"\n",
    ")\n",
    "# # Open the zstd file for reading in binary mode\n",
    "# with open(file_path, 'rb') as compressed_file:\n",
    "#     dctx = zstd.ZstdDecompressor()\n",
    "#     with dctx.stream_reader(compressed_file) as reader:\n",
    "#         # Decompress the zstd file and load the pickled data\n",
    "#         pickled_data = pickle.loads(reader.read())\n",
    "\n",
    "# Reconstruct the SciPy sparse array\n",
    "# sparse_array = load_npz(pickled_data)\n",
    "\n",
    "with open(file_path, \"rb\") as f:\n",
    "    data = f.read()\n",
    "\n",
    "dctx = zstd.ZstdDecompressor()\n",
    "decompressed = dctx.decompress(data)\n",
    "pickled_scipy = pickle.loads(decompressed)"
   ]
  },
  {
   "cell_type": "code",
   "execution_count": null,
   "metadata": {},
   "outputs": [],
   "source": [
    "len(decompressed), type(decompressed), decompressed[:5]"
   ]
  },
  {
   "cell_type": "code",
   "execution_count": 25,
   "metadata": {},
   "outputs": [],
   "source": [
    "entities = val_df_contexts_per_qe[\"entity\"].apply(lambda x: x[0]).unique().tolist()"
   ]
  },
  {
   "cell_type": "code",
   "execution_count": 26,
   "metadata": {},
   "outputs": [
    {
     "data": {
      "text/plain": [
       "{(59, 35976): 0, (38581,): 0}"
      ]
     },
     "execution_count": 26,
     "metadata": {},
     "output_type": "execute_result"
    }
   ],
   "source": [
    "tokenizer = AutoTokenizer.from_pretrained(\n",
    "    MODEL_ID,\n",
    "    padding_side=\"left\",\n",
    ")\n",
    "tokenized_entities = [tuple(e) for e in tokenizer(entities)[\"input_ids\"]]\n",
    "tokenized_entities_prespace = [\n",
    "    tuple(e) for e in tokenizer([\" \" + e for e in entities])[\"input_ids\"]\n",
    "]\n",
    "tokenized_entities\n",
    "tokenized_entities_prespace\n",
    "entities_to_freqs = {\n",
    "    e: {tokenized_entities[i]: 0, tokenized_entities_prespace[i]: 0}\n",
    "    for i, e in enumerate(entities)\n",
    "}\n",
    "entities_to_freqs[\"Zimbabwe\"]\n",
    "\n",
    "# tokenized_entities\n",
    "# {\n",
    "#     entity:\n",
    "#         {\n",
    "#             tokens_without_space: count,\n",
    "#             tokens_with_space: count\n",
    "#         }\n",
    "# }"
   ]
  },
  {
   "cell_type": "code",
   "execution_count": 43,
   "metadata": {},
   "outputs": [
    {
     "data": {
      "text/plain": [
       "{(330, 15333, 66),\n",
       " (353, 636, 263),\n",
       " (367, 12043, 11491),\n",
       " (380, 47708, 6056),\n",
       " (399, 29420, 273, 41813),\n",
       " (401, 15835, 17241),\n",
       " (411, 3627),\n",
       " (416, 321, 10157, 571),\n",
       " (416, 1595, 266, 255, 723, 66),\n",
       " (416, 11318),\n",
       " (418, 408, 532, 307),\n",
       " (427, 351, 6736),\n",
       " (427, 1596, 571),\n",
       " (443, 5945),\n",
       " (444, 1274, 66),\n",
       " (473, 33205, 5741),\n",
       " (500, 1441, 316),\n",
       " (611, 6147, 4233, 91, 18549),\n",
       " (611, 16208, 552, 1758),\n",
       " (659, 1377, 91, 518),\n",
       " (1023, 445, 262, 8125),\n",
       " (1457, 2263, 264, 9409),\n",
       " (1457, 40868, 90),\n",
       " (1780, 21720, 261),\n",
       " (1986, 11491, 11442, 11011),\n",
       " (2263, 261, 5503),\n",
       " (2903, 90, 5182),\n",
       " (2956, 19438, 333),\n",
       " (3083, 11825),\n",
       " (3189, 2131),\n",
       " (3512, 19257),\n",
       " (3532, 251, 4412),\n",
       " (3660, 38148),\n",
       " (4031, 4448, 301, 34526),\n",
       " (4135,),\n",
       " (4563, 1657, 80),\n",
       " (4687, 273, 329, 719),\n",
       " (4687, 273, 4135, 313, 53, 2284, 10320, 10),\n",
       " (4687, 273, 7511, 18442),\n",
       " (4782, 8170, 7531, 8694, 1870, 366),\n",
       " (4952, 8125),\n",
       " (5003, 50190),\n",
       " (5769, 25183),\n",
       " (6176,),\n",
       " (6984, 2320),\n",
       " (7949, 5410, 66),\n",
       " (8229, 15354),\n",
       " (8502,),\n",
       " (8969, 321, 301, 13958),\n",
       " (9251, 358),\n",
       " (10351, 3703, 18708),\n",
       " (11086, 1441, 5173),\n",
       " (11491, 273, 39319, 17369),\n",
       " (11491, 273, 44489),\n",
       " (11877, 21088),\n",
       " (12705, 460, 2719, 15),\n",
       " (13209, 274, 434, 11491),\n",
       " (13545, 532, 1319, 273, 15420),\n",
       " (14029, 4687, 84),\n",
       " (15292, 10186),\n",
       " (16842,),\n",
       " (17358,),\n",
       " (17698, 36843),\n",
       " (18797, 4113),\n",
       " (19997, 1373, 571),\n",
       " (20341,),\n",
       " (20840, 74),\n",
       " (21987, 41530, 14, 40016, 357, 18980, 4687),\n",
       " (23392, 273, 9893, 587),\n",
       " (25270,),\n",
       " (28139, 66),\n",
       " (28805, 71, 40836),\n",
       " (28848, 13958),\n",
       " (31351, 37642),\n",
       " (31683,),\n",
       " (31874, 300, 395),\n",
       " (32319, 3230),\n",
       " (33377, 266),\n",
       " (38581,),\n",
       " (38713, 16642),\n",
       " (40936, 1240, 1032, 248),\n",
       " (41158, 1368, 376, 8432),\n",
       " (41558, 34526),\n",
       " (43433, 366, 273, 1503, 11670, 487, 274),\n",
       " (44509, 27356),\n",
       " (44637,),\n",
       " (45914,),\n",
       " (46311, 1171, 1808),\n",
       " (46699,),\n",
       " (47154, 13958)}"
      ]
     },
     "execution_count": 43,
     "metadata": {},
     "output_type": "execute_result"
    }
   ],
   "source": [
    "# relevant_token_seqs = set(tokenized_entities + tokenized_entities_prespace)\n",
    "relevant_token_seqs = set(tokenized_entities_prespace)\n",
    "relevant_token_seqs"
   ]
  },
  {
   "cell_type": "code",
   "execution_count": 44,
   "metadata": {},
   "outputs": [
    {
     "data": {
      "text/plain": [
       "{(44637,): 250587,\n",
       " (25270,): 548240,\n",
       " (46699,): 224094,\n",
       " (16842,): 1059489,\n",
       " (31683,): 431605,\n",
       " (17358,): 1093472,\n",
       " (45914,): 226142,\n",
       " (4135,): 8029900,\n",
       " (20341,): 729429,\n",
       " (38581,): 301247,\n",
       " (6176,): 4613886,\n",
       " (8502,): 1698202}"
      ]
     },
     "execution_count": 44,
     "metadata": {},
     "output_type": "execute_result"
    }
   ],
   "source": [
    "from collections import Counter\n",
    "\n",
    "unigram_tokens = {\n",
    "    t: unigram_frequencies[t[0]] for t in relevant_token_seqs if len(t) == 1\n",
    "}\n",
    "unigram_tokens"
   ]
  },
  {
   "cell_type": "code",
   "execution_count": null,
   "metadata": {},
   "outputs": [],
   "source": [
    "bigram_tokens = {\n",
    "    t: bigram_frequencies[t[0]] for t in relevant_token_seqs if len(t) == 2\n",
    "}"
   ]
  },
  {
   "cell_type": "code",
   "execution_count": 45,
   "metadata": {},
   "outputs": [
    {
     "name": "stdout",
     "output_type": "stream",
     "text": [
      "38581 301247\n",
      "25270 548240\n",
      "22800 749642\n",
      "4135 8029900\n",
      "45914 226142\n",
      "16842 1059489\n",
      "46699 224094\n",
      "37796 329569\n",
      "6176 4613886\n",
      "20341 729429\n",
      "44637 250587\n",
      "24900 626526\n",
      "8502 1698202\n",
      "45901 135822\n",
      "31683 431605\n",
      "39312 289723\n",
      "17358 1093472\n"
     ]
    }
   ],
   "source": [
    "for e, freq_dicts in entities_to_freqs.items():\n",
    "    total = 0\n",
    "    for token_seqs in freq_dicts.keys():\n",
    "        if len(token_seqs) == 1:\n",
    "            freq_dicts[token_seqs] = unigram_frequencies[token_seqs[0]]\n",
    "        if len(token_seqs) == 2:\n",
    "            freq_dicts[token_seqs] = bigram_frequencies[token_seqs]\n",
    "        total += freq_dicts[token_seqs]\n",
    "    freq_dicts[\"total\"] = total"
   ]
  },
  {
   "cell_type": "code",
   "execution_count": 46,
   "metadata": {},
   "outputs": [
    {
     "data": {
      "text/plain": [
       "{'Zimbabwe': {(59, 35976): 0, (38581,): 301247, 'total': 903741},\n",
       " 'Paraguay': {(4221, 19438, 333): 0, (2956, 19438, 333): 0, 'total': 0},\n",
       " 'Finland': {(17398, 1373): 0, (25270,): 548240, 'total': 1644720},\n",
       " 'New Caledonia': {(4257, 2263, 264, 9409): 0,\n",
       "  (1457, 2263, 264, 9409): 0,\n",
       "  'total': 0},\n",
       " 'Nagorno-Karabakh Republic': {(47,\n",
       "   356,\n",
       "   41530,\n",
       "   14,\n",
       "   40016,\n",
       "   357,\n",
       "   18980,\n",
       "   4687): 0,\n",
       "  (21987, 41530, 14, 40016, 357, 18980, 4687): 0,\n",
       "  'total': 0},\n",
       " 'Faroe Islands': {(24234, 3703, 18708): 0,\n",
       "  (10351, 3703, 18708): 0,\n",
       "  'total': 0},\n",
       " 'China': {(22800,): 749642, (4135,): 8029900, 'total': 26338626},\n",
       " 'United Kingdom Northern Ireland': {(11586, 11491, 11442, 11011): 0,\n",
       "  (1986, 11491, 11442, 11011): 0,\n",
       "  'total': 0},\n",
       " 'Tanzania': {(53, 11670, 16642): 0, (45914,): 226142, 'total': 678426},\n",
       " 'Sweden': {(42589, 257): 0, (16842,): 1059489, 'total': 3178467},\n",
       " 'Honduras': {(41, 857, 27356): 0, (44509, 27356): 0, 'total': 0},\n",
       " 'Somalia': {(52, 7838, 571): 0, (46699,): 224094, 'total': 672282},\n",
       " 'Germany': {(37796,): 329569, (6176,): 4613886, 'total': 14830365},\n",
       " 'Republic of China (Taiwan)': {(32050,\n",
       "   273,\n",
       "   4135,\n",
       "   313,\n",
       "   53,\n",
       "   2284,\n",
       "   10320,\n",
       "   10): 0,\n",
       "  (4687, 273, 4135, 313, 53, 2284, 10320, 10): 0,\n",
       "  'total': 0},\n",
       " 'Norway': {(22427, 1106): 0, (20341,): 729429, 'total': 2188287},\n",
       " 'Somaliland': {(52, 7838, 300, 395): 0, (31874, 300, 395): 0, 'total': 0},\n",
       " 'Cyprus': {(25385, 41423): 0, (44637,): 250587, 'total': 751761},\n",
       " 'Kyrgyzstan': {(44, 6147, 4233, 91, 18549): 0,\n",
       "  (611, 6147, 4233, 91, 18549): 0,\n",
       "  'total': 0},\n",
       " 'The Sticklands': {(510, 47708, 6056): 0, (380, 47708, 6056): 0, 'total': 0},\n",
       " 'Raland': {(51, 11318): 0, (416, 11318): 0, 'total': 0},\n",
       " 'Kadersaryina': {(44, 16208, 552, 1758): 0,\n",
       "  (611, 16208, 552, 1758): 0,\n",
       "  'total': 0},\n",
       " 'Euro Republics': {(47678, 4687, 84): 0, (14029, 4687, 84): 0, 'total': 0},\n",
       " 'Neon District': {(6560, 251, 4412): 0, (3532, 251, 4412): 0, 'total': 0},\n",
       " 'Evenaria': {(9586, 8125): 0, (4952, 8125): 0, 'total': 0},\n",
       " 'Jekus': {(43, 1441, 316): 0, (500, 1441, 316): 0, 'total': 0},\n",
       " 'Baglandia': {(36524, 1373, 571): 0, (19997, 1373, 571): 0, 'total': 0},\n",
       " 'Pelui': {(49, 293, 4113): 0, (18797, 4113): 0, 'total': 0},\n",
       " 'Ocraita': {(48, 33205, 5741): 0, (473, 33205, 5741): 0, 'total': 0},\n",
       " 'Serenitaria': {(3251, 445, 262, 8125): 0,\n",
       "  (1023, 445, 262, 8125): 0,\n",
       "  'total': 0},\n",
       " 'Parthesia': {(7834, 19257): 0, (3512, 19257): 0, 'total': 0},\n",
       " 'Cadasa': {(36, 15333, 66): 0, (330, 15333, 66): 0, 'total': 0},\n",
       " 'Clyohraira': {(36, 314, 1368, 376, 8432): 0,\n",
       "  (41158, 1368, 376, 8432): 0,\n",
       "  'total': 0},\n",
       " 'Wolfyland': {(46691, 36843): 0, (17698, 36843): 0, 'total': 0},\n",
       " 'Vilaharshe': {(55, 300, 1240, 1032, 248): 0,\n",
       "  (40936, 1240, 1032, 248): 0,\n",
       "  'total': 0},\n",
       " 'Silvesta': {(18074, 5410, 66): 0, (7949, 5410, 66): 0, 'total': 0},\n",
       " 'Antonine Rep.': {(38741, 460, 2719, 15): 0,\n",
       "  (12705, 460, 2719, 15): 0,\n",
       "  'total': 0},\n",
       " 'Jakana': {(43, 518, 3230): 0, (32319, 3230): 0, 'total': 0},\n",
       " 'Manika': {(4779, 11825): 0, (3083, 11825): 0, 'total': 0},\n",
       " 'Nodena': {(47, 351, 6736): 0, (427, 351, 6736): 0, 'total': 0},\n",
       " 'Elefta': {(38, 1274, 66): 0, (444, 1274, 66): 0, 'total': 0},\n",
       " 'Gander': {(40, 5945): 0, (443, 5945): 0, 'total': 0},\n",
       " 'Floofern': {(39, 4213, 1171, 1808): 0, (46311, 1171, 1808): 0, 'total': 0},\n",
       " 'New Pompey': {(4257, 40868, 90): 0, (1457, 40868, 90): 0, 'total': 0},\n",
       " 'Meister': {(5072, 2131): 0, (3189, 2131): 0, 'total': 0},\n",
       " 'Stanczak': {(998, 1377, 91, 518): 0, (659, 1377, 91, 518): 0, 'total': 0},\n",
       " 'Madaf': {(19008, 2320): 0, (6984, 2320): 0, 'total': 0},\n",
       " 'Wula': {(56, 3627): 0, (411, 3627): 0, 'total': 0},\n",
       " 'Winga': {(56, 272, 66): 0, (28139, 66): 0, 'total': 0},\n",
       " 'Du': {(24900,): 626526, (8502,): 1698202, 'total': 6974184},\n",
       " 'Pasti': {(49, 41376): 0, (20840, 74): 0, 'total': 0},\n",
       " 'Sachan': {(52, 607, 266): 0, (33377, 266): 0, 'total': 0},\n",
       " 'Consuleo': {(9323, 1657, 80): 0, (4563, 1657, 80): 0, 'total': 0},\n",
       " 'Ravfogel': {(51, 580, 71, 40836): 0, (28805, 71, 40836): 0, 'total': 0},\n",
       " 'Warstadt': {(21082, 38148): 0, (3660, 38148): 0, 'total': 0},\n",
       " 'Mordor': {(46, 636, 263): 0, (353, 636, 263): 0, 'total': 0},\n",
       " \"Babar's Kingdom\": {(35, 47718, 434, 11491): 0,\n",
       "  (13209, 274, 434, 11491): 0,\n",
       "  'total': 0},\n",
       " 'Skaro': {(15992, 15354): 0, (8229, 15354): 0, 'total': 0},\n",
       " 'Galactic Empire': {(19393, 9994, 13958): 0, (28848, 13958): 0, 'total': 0},\n",
       " 'Fictional Country': {(39, 15835, 17241): 0,\n",
       "  (401, 15835, 17241): 0,\n",
       "  'total': 0},\n",
       " 'Laurania': {(45, 4411, 16642): 0, (38713, 16642): 0, 'total': 0},\n",
       " 'Ruritania': {(51, 321, 10157, 571): 0,\n",
       "  (416, 321, 10157, 571): 0,\n",
       "  'total': 0},\n",
       " 'Samavia': {(17232, 25183): 0, (5769, 25183): 0, 'total': 0},\n",
       " 'Narnia': {(47, 1596, 571): 0, (427, 1596, 571): 0, 'total': 0},\n",
       " 'Panem': {(12309, 358): 0, (9251, 358): 0, 'total': 0},\n",
       " 'Arrakis': {(2906, 21720, 261): 0, (1780, 21720, 261): 0, 'total': 0},\n",
       " 'Saint Marie': {(41676, 21088): 0, (11877, 21088): 0, 'total': 0},\n",
       " 'Lilliput': {(45, 408, 532, 307): 0, (418, 408, 532, 307): 0, 'total': 0},\n",
       " 'Calisota': {(4218, 261, 5503): 0, (2263, 261, 5503): 0, 'total': 0},\n",
       " 'Oz': {(45901,): 135822, (31683,): 431605, 'total': 1702281},\n",
       " 'San Lorenzo': {(19346, 50190): 0, (5003, 50190): 0, 'total': 0},\n",
       " 'Discworld': {(21831, 10186): 0, (15292, 10186): 0, 'total': 0},\n",
       " 'Hell': {(39312,): 289723, (17358,): 1093472, 'total': 4149585},\n",
       " 'Baekje': {(24348, 1441, 5173): 0, (11086, 1441, 5173): 0, 'total': 0},\n",
       " 'Republic of Lucca': {(32050, 273, 7511, 18442): 0,\n",
       "  (4687, 273, 7511, 18442): 0,\n",
       "  'total': 0},\n",
       " 'British Central Africa Protectorate': {(22832,\n",
       "   8170,\n",
       "   7531,\n",
       "   8694,\n",
       "   1870,\n",
       "   366): 0,\n",
       "  (4782, 8170, 7531, 8694, 1870, 366): 0,\n",
       "  'total': 0},\n",
       " 'Crown of Castile': {(36, 2924, 273, 9893, 587): 0,\n",
       "  (23392, 273, 9893, 587): 0,\n",
       "  'total': 0},\n",
       " 'Byzantine Empire': {(3463, 91, 31404, 13958): 0,\n",
       "  (47154, 13958): 0,\n",
       "  'total': 0},\n",
       " 'Timurid Empire': {(16910, 321, 301, 13958): 0,\n",
       "  (8969, 321, 301, 13958): 0,\n",
       "  'total': 0},\n",
       " 'Kingdom of Naples': {(21958, 3335, 273, 44489): 0,\n",
       "  (11491, 273, 44489): 0,\n",
       "  'total': 0},\n",
       " 'Principality of Wales': {(29361, 532, 1319, 273, 15420): 0,\n",
       "  (13545, 532, 1319, 273, 15420): 0,\n",
       "  'total': 0},\n",
       " 'Pagan Kingdom': {(49, 12043, 11491): 0, (367, 12043, 11491): 0, 'total': 0},\n",
       " 'Assyria': {(6717, 90, 5182): 0, (2903, 90, 5182): 0, 'total': 0},\n",
       " 'Belgian Congo': {(15343, 15287, 37642): 0, (31351, 37642): 0, 'total': 0},\n",
       " 'Republic of Acre': {(32050, 273, 329, 719): 0,\n",
       "  (4687, 273, 329, 719): 0,\n",
       "  'total': 0},\n",
       " 'Duchy of Brunswick': {(37, 29420, 273, 41813): 0,\n",
       "  (399, 29420, 273, 41813): 0,\n",
       "  'total': 0},\n",
       " 'Sultanate of Zanzibar': {(52, 34049, 366, 273, 1503, 11670, 487, 274): 0,\n",
       "  (43433, 366, 273, 1503, 11670, 487, 274): 0,\n",
       "  'total': 0},\n",
       " 'Rattanatingsa': {(51, 1595, 266, 255, 723, 66): 0,\n",
       "  (416, 1595, 266, 255, 723, 66): 0,\n",
       "  'total': 0},\n",
       " 'Kingdom of Arakan': {(21958, 3335, 273, 39319, 17369): 0,\n",
       "  (11491, 273, 39319, 17369): 0,\n",
       "  'total': 0},\n",
       " 'Idrisid dynasty': {(2618, 4448, 301, 34526): 0,\n",
       "  (4031, 4448, 301, 34526): 0,\n",
       "  'total': 0},\n",
       " 'Zhou dynasty': {(59, 14451, 34526): 0, (41558, 34526): 0, 'total': 0}}"
      ]
     },
     "execution_count": 46,
     "metadata": {},
     "output_type": "execute_result"
    }
   ],
   "source": [
    "entities_to_freqs"
   ]
  },
  {
   "cell_type": "code",
   "execution_count": 68,
   "metadata": {},
   "outputs": [],
   "source": [
    "entity_counts = dict(\n",
    "    sorted(\n",
    "        {\n",
    "            (k,): v[\"total\"] for k, v in entities_to_freqs.items() if v[\"total\"] != 0\n",
    "        }.items(),\n",
    "        key=lambda x: x[1],\n",
    "    )\n",
    ")\n",
    "ent_freq_df = pd.DataFrame(\n",
    "    list(entity_counts.items()), columns=[\"entity\", \"ent_frequency\"]\n",
    ")\n",
    "ent_freq_df"
   ]
  },
  {
   "cell_type": "code",
   "execution_count": 81,
   "metadata": {},
   "outputs": [
    {
     "data": {
      "text/html": [
       "<div>\n",
       "<style scoped>\n",
       "    .dataframe tbody tr th:only-of-type {\n",
       "        vertical-align: middle;\n",
       "    }\n",
       "\n",
       "    .dataframe tbody tr th {\n",
       "        vertical-align: top;\n",
       "    }\n",
       "\n",
       "    .dataframe thead th {\n",
       "        text-align: right;\n",
       "    }\n",
       "</style>\n",
       "<table border=\"1\" class=\"dataframe\">\n",
       "  <thead>\n",
       "    <tr style=\"text-align: right;\">\n",
       "      <th></th>\n",
       "      <th>q_id</th>\n",
       "      <th>query_form</th>\n",
       "      <th>entity</th>\n",
       "      <th>type</th>\n",
       "      <th>is_real</th>\n",
       "      <th>susceptibility_score</th>\n",
       "      <th>ent_frequency</th>\n",
       "      <th>log_ent_frequency</th>\n",
       "    </tr>\n",
       "  </thead>\n",
       "  <tbody>\n",
       "    <tr>\n",
       "      <th>0</th>\n",
       "      <td>capital_of</td>\n",
       "      <td>Q: What is the capital of {}?\\nA:</td>\n",
       "      <td>(Zimbabwe,)</td>\n",
       "      <td>countryCapital</td>\n",
       "      <td>True</td>\n",
       "      <td>0.055717</td>\n",
       "      <td>903741</td>\n",
       "      <td>13.714298</td>\n",
       "    </tr>\n",
       "    <tr>\n",
       "      <th>1</th>\n",
       "      <td>capital_of</td>\n",
       "      <td>The capital of {} is</td>\n",
       "      <td>(Zimbabwe,)</td>\n",
       "      <td>countryCapital</td>\n",
       "      <td>True</td>\n",
       "      <td>0.083346</td>\n",
       "      <td>903741</td>\n",
       "      <td>13.714298</td>\n",
       "    </tr>\n",
       "    <tr>\n",
       "      <th>2</th>\n",
       "      <td>capital_of</td>\n",
       "      <td>Q: What is the capital of {}?\\nA:</td>\n",
       "      <td>(Finland,)</td>\n",
       "      <td>countryCapital</td>\n",
       "      <td>True</td>\n",
       "      <td>0.038184</td>\n",
       "      <td>1644720</td>\n",
       "      <td>14.313081</td>\n",
       "    </tr>\n",
       "    <tr>\n",
       "      <th>3</th>\n",
       "      <td>capital_of</td>\n",
       "      <td>The capital of {} is</td>\n",
       "      <td>(Finland,)</td>\n",
       "      <td>countryCapital</td>\n",
       "      <td>True</td>\n",
       "      <td>0.070862</td>\n",
       "      <td>1644720</td>\n",
       "      <td>14.313081</td>\n",
       "    </tr>\n",
       "    <tr>\n",
       "      <th>4</th>\n",
       "      <td>capital_of</td>\n",
       "      <td>Q: What is the capital of {}?\\nA:</td>\n",
       "      <td>(China,)</td>\n",
       "      <td>countryCapital</td>\n",
       "      <td>True</td>\n",
       "      <td>0.074832</td>\n",
       "      <td>26338626</td>\n",
       "      <td>17.086547</td>\n",
       "    </tr>\n",
       "    <tr>\n",
       "      <th>5</th>\n",
       "      <td>capital_of</td>\n",
       "      <td>The capital of {} is</td>\n",
       "      <td>(China,)</td>\n",
       "      <td>countryCapital</td>\n",
       "      <td>True</td>\n",
       "      <td>0.248528</td>\n",
       "      <td>26338626</td>\n",
       "      <td>17.086547</td>\n",
       "    </tr>\n",
       "    <tr>\n",
       "      <th>6</th>\n",
       "      <td>capital_of</td>\n",
       "      <td>Q: What is the capital of {}?\\nA:</td>\n",
       "      <td>(Tanzania,)</td>\n",
       "      <td>countryCapital</td>\n",
       "      <td>True</td>\n",
       "      <td>0.072143</td>\n",
       "      <td>678426</td>\n",
       "      <td>13.427531</td>\n",
       "    </tr>\n",
       "    <tr>\n",
       "      <th>7</th>\n",
       "      <td>capital_of</td>\n",
       "      <td>The capital of {} is</td>\n",
       "      <td>(Tanzania,)</td>\n",
       "      <td>countryCapital</td>\n",
       "      <td>True</td>\n",
       "      <td>0.086598</td>\n",
       "      <td>678426</td>\n",
       "      <td>13.427531</td>\n",
       "    </tr>\n",
       "    <tr>\n",
       "      <th>8</th>\n",
       "      <td>capital_of</td>\n",
       "      <td>Q: What is the capital of {}?\\nA:</td>\n",
       "      <td>(Sweden,)</td>\n",
       "      <td>countryCapital</td>\n",
       "      <td>True</td>\n",
       "      <td>0.039669</td>\n",
       "      <td>3178467</td>\n",
       "      <td>14.971910</td>\n",
       "    </tr>\n",
       "    <tr>\n",
       "      <th>9</th>\n",
       "      <td>capital_of</td>\n",
       "      <td>The capital of {} is</td>\n",
       "      <td>(Sweden,)</td>\n",
       "      <td>countryCapital</td>\n",
       "      <td>True</td>\n",
       "      <td>0.066374</td>\n",
       "      <td>3178467</td>\n",
       "      <td>14.971910</td>\n",
       "    </tr>\n",
       "    <tr>\n",
       "      <th>10</th>\n",
       "      <td>capital_of</td>\n",
       "      <td>Q: What is the capital of {}?\\nA:</td>\n",
       "      <td>(Somalia,)</td>\n",
       "      <td>countryCapital</td>\n",
       "      <td>True</td>\n",
       "      <td>0.049198</td>\n",
       "      <td>672282</td>\n",
       "      <td>13.418433</td>\n",
       "    </tr>\n",
       "    <tr>\n",
       "      <th>11</th>\n",
       "      <td>capital_of</td>\n",
       "      <td>The capital of {} is</td>\n",
       "      <td>(Somalia,)</td>\n",
       "      <td>countryCapital</td>\n",
       "      <td>True</td>\n",
       "      <td>0.062413</td>\n",
       "      <td>672282</td>\n",
       "      <td>13.418433</td>\n",
       "    </tr>\n",
       "    <tr>\n",
       "      <th>12</th>\n",
       "      <td>capital_of</td>\n",
       "      <td>Q: What is the capital of {}?\\nA:</td>\n",
       "      <td>(Germany,)</td>\n",
       "      <td>countryCapital</td>\n",
       "      <td>True</td>\n",
       "      <td>0.053102</td>\n",
       "      <td>14830365</td>\n",
       "      <td>16.512187</td>\n",
       "    </tr>\n",
       "    <tr>\n",
       "      <th>13</th>\n",
       "      <td>capital_of</td>\n",
       "      <td>The capital of {} is</td>\n",
       "      <td>(Germany,)</td>\n",
       "      <td>countryCapital</td>\n",
       "      <td>True</td>\n",
       "      <td>0.173991</td>\n",
       "      <td>14830365</td>\n",
       "      <td>16.512187</td>\n",
       "    </tr>\n",
       "    <tr>\n",
       "      <th>14</th>\n",
       "      <td>capital_of</td>\n",
       "      <td>Q: What is the capital of {}?\\nA:</td>\n",
       "      <td>(Norway,)</td>\n",
       "      <td>countryCapital</td>\n",
       "      <td>True</td>\n",
       "      <td>0.049887</td>\n",
       "      <td>2188287</td>\n",
       "      <td>14.598630</td>\n",
       "    </tr>\n",
       "    <tr>\n",
       "      <th>15</th>\n",
       "      <td>capital_of</td>\n",
       "      <td>The capital of {} is</td>\n",
       "      <td>(Norway,)</td>\n",
       "      <td>countryCapital</td>\n",
       "      <td>True</td>\n",
       "      <td>0.103115</td>\n",
       "      <td>2188287</td>\n",
       "      <td>14.598630</td>\n",
       "    </tr>\n",
       "    <tr>\n",
       "      <th>16</th>\n",
       "      <td>capital_of</td>\n",
       "      <td>Q: What is the capital of {}?\\nA:</td>\n",
       "      <td>(Cyprus,)</td>\n",
       "      <td>countryCapital</td>\n",
       "      <td>True</td>\n",
       "      <td>0.060902</td>\n",
       "      <td>751761</td>\n",
       "      <td>13.530174</td>\n",
       "    </tr>\n",
       "    <tr>\n",
       "      <th>17</th>\n",
       "      <td>capital_of</td>\n",
       "      <td>The capital of {} is</td>\n",
       "      <td>(Cyprus,)</td>\n",
       "      <td>countryCapital</td>\n",
       "      <td>True</td>\n",
       "      <td>0.096139</td>\n",
       "      <td>751761</td>\n",
       "      <td>13.530174</td>\n",
       "    </tr>\n",
       "    <tr>\n",
       "      <th>18</th>\n",
       "      <td>capital_of</td>\n",
       "      <td>Q: What is the capital of {}?\\nA:</td>\n",
       "      <td>(Du,)</td>\n",
       "      <td>fakeCountryCapital</td>\n",
       "      <td>False</td>\n",
       "      <td>0.323033</td>\n",
       "      <td>6974184</td>\n",
       "      <td>15.757726</td>\n",
       "    </tr>\n",
       "    <tr>\n",
       "      <th>19</th>\n",
       "      <td>capital_of</td>\n",
       "      <td>The capital of {} is</td>\n",
       "      <td>(Du,)</td>\n",
       "      <td>fakeCountryCapital</td>\n",
       "      <td>False</td>\n",
       "      <td>0.423549</td>\n",
       "      <td>6974184</td>\n",
       "      <td>15.757726</td>\n",
       "    </tr>\n",
       "    <tr>\n",
       "      <th>20</th>\n",
       "      <td>capital_of</td>\n",
       "      <td>Q: What is the capital of {}?\\nA:</td>\n",
       "      <td>(Oz,)</td>\n",
       "      <td>famousFictionalCountryCapital</td>\n",
       "      <td>NaN</td>\n",
       "      <td>0.098957</td>\n",
       "      <td>1702281</td>\n",
       "      <td>14.347480</td>\n",
       "    </tr>\n",
       "    <tr>\n",
       "      <th>21</th>\n",
       "      <td>capital_of</td>\n",
       "      <td>The capital of {} is</td>\n",
       "      <td>(Oz,)</td>\n",
       "      <td>famousFictionalCountryCapital</td>\n",
       "      <td>NaN</td>\n",
       "      <td>0.315838</td>\n",
       "      <td>1702281</td>\n",
       "      <td>14.347480</td>\n",
       "    </tr>\n",
       "    <tr>\n",
       "      <th>22</th>\n",
       "      <td>capital_of</td>\n",
       "      <td>Q: What is the capital of {}?\\nA:</td>\n",
       "      <td>(Hell,)</td>\n",
       "      <td>famousFictionalCountryCapital</td>\n",
       "      <td>NaN</td>\n",
       "      <td>0.264256</td>\n",
       "      <td>4149585</td>\n",
       "      <td>15.238519</td>\n",
       "    </tr>\n",
       "    <tr>\n",
       "      <th>23</th>\n",
       "      <td>capital_of</td>\n",
       "      <td>The capital of {} is</td>\n",
       "      <td>(Hell,)</td>\n",
       "      <td>famousFictionalCountryCapital</td>\n",
       "      <td>NaN</td>\n",
       "      <td>0.556189</td>\n",
       "      <td>4149585</td>\n",
       "      <td>15.238519</td>\n",
       "    </tr>\n",
       "  </tbody>\n",
       "</table>\n",
       "</div>"
      ],
      "text/plain": [
       "          q_id                         query_form       entity  \\\n",
       "0   capital_of  Q: What is the capital of {}?\\nA:  (Zimbabwe,)   \n",
       "1   capital_of               The capital of {} is  (Zimbabwe,)   \n",
       "2   capital_of  Q: What is the capital of {}?\\nA:   (Finland,)   \n",
       "3   capital_of               The capital of {} is   (Finland,)   \n",
       "4   capital_of  Q: What is the capital of {}?\\nA:     (China,)   \n",
       "5   capital_of               The capital of {} is     (China,)   \n",
       "6   capital_of  Q: What is the capital of {}?\\nA:  (Tanzania,)   \n",
       "7   capital_of               The capital of {} is  (Tanzania,)   \n",
       "8   capital_of  Q: What is the capital of {}?\\nA:    (Sweden,)   \n",
       "9   capital_of               The capital of {} is    (Sweden,)   \n",
       "10  capital_of  Q: What is the capital of {}?\\nA:   (Somalia,)   \n",
       "11  capital_of               The capital of {} is   (Somalia,)   \n",
       "12  capital_of  Q: What is the capital of {}?\\nA:   (Germany,)   \n",
       "13  capital_of               The capital of {} is   (Germany,)   \n",
       "14  capital_of  Q: What is the capital of {}?\\nA:    (Norway,)   \n",
       "15  capital_of               The capital of {} is    (Norway,)   \n",
       "16  capital_of  Q: What is the capital of {}?\\nA:    (Cyprus,)   \n",
       "17  capital_of               The capital of {} is    (Cyprus,)   \n",
       "18  capital_of  Q: What is the capital of {}?\\nA:        (Du,)   \n",
       "19  capital_of               The capital of {} is        (Du,)   \n",
       "20  capital_of  Q: What is the capital of {}?\\nA:        (Oz,)   \n",
       "21  capital_of               The capital of {} is        (Oz,)   \n",
       "22  capital_of  Q: What is the capital of {}?\\nA:      (Hell,)   \n",
       "23  capital_of               The capital of {} is      (Hell,)   \n",
       "\n",
       "                             type is_real  susceptibility_score  \\\n",
       "0                  countryCapital    True              0.055717   \n",
       "1                  countryCapital    True              0.083346   \n",
       "2                  countryCapital    True              0.038184   \n",
       "3                  countryCapital    True              0.070862   \n",
       "4                  countryCapital    True              0.074832   \n",
       "5                  countryCapital    True              0.248528   \n",
       "6                  countryCapital    True              0.072143   \n",
       "7                  countryCapital    True              0.086598   \n",
       "8                  countryCapital    True              0.039669   \n",
       "9                  countryCapital    True              0.066374   \n",
       "10                 countryCapital    True              0.049198   \n",
       "11                 countryCapital    True              0.062413   \n",
       "12                 countryCapital    True              0.053102   \n",
       "13                 countryCapital    True              0.173991   \n",
       "14                 countryCapital    True              0.049887   \n",
       "15                 countryCapital    True              0.103115   \n",
       "16                 countryCapital    True              0.060902   \n",
       "17                 countryCapital    True              0.096139   \n",
       "18             fakeCountryCapital   False              0.323033   \n",
       "19             fakeCountryCapital   False              0.423549   \n",
       "20  famousFictionalCountryCapital     NaN              0.098957   \n",
       "21  famousFictionalCountryCapital     NaN              0.315838   \n",
       "22  famousFictionalCountryCapital     NaN              0.264256   \n",
       "23  famousFictionalCountryCapital     NaN              0.556189   \n",
       "\n",
       "    ent_frequency  log_ent_frequency  \n",
       "0          903741          13.714298  \n",
       "1          903741          13.714298  \n",
       "2         1644720          14.313081  \n",
       "3         1644720          14.313081  \n",
       "4        26338626          17.086547  \n",
       "5        26338626          17.086547  \n",
       "6          678426          13.427531  \n",
       "7          678426          13.427531  \n",
       "8         3178467          14.971910  \n",
       "9         3178467          14.971910  \n",
       "10         672282          13.418433  \n",
       "11         672282          13.418433  \n",
       "12       14830365          16.512187  \n",
       "13       14830365          16.512187  \n",
       "14        2188287          14.598630  \n",
       "15        2188287          14.598630  \n",
       "16         751761          13.530174  \n",
       "17         751761          13.530174  \n",
       "18        6974184          15.757726  \n",
       "19        6974184          15.757726  \n",
       "20        1702281          14.347480  \n",
       "21        1702281          14.347480  \n",
       "22        4149585          15.238519  \n",
       "23        4149585          15.238519  "
      ]
     },
     "execution_count": 81,
     "metadata": {},
     "output_type": "execute_result"
    }
   ],
   "source": [
    "val_df_per_qe_with_freq = val_df_per_qe.merge(ent_freq_df)\n",
    "val_df_per_qe_with_freq[\"log_ent_frequency\"] = val_df_per_qe_with_freq[\n",
    "    \"ent_frequency\"\n",
    "].apply(np.log)\n",
    "val_df_per_qe_with_freq"
   ]
  },
  {
   "cell_type": "code",
   "execution_count": 94,
   "metadata": {},
   "outputs": [
    {
     "data": {
      "image/png": "[encoded data removed]",
      "text/plain": [
       "<Figure size 720x576 with 1 Axes>"
      ]
     },
     "metadata": {
      "needs_background": "light"
     },
     "output_type": "display_data"
    }
   ],
   "source": [
    "fig, ax = plt.subplots(figsize=(10, 8))\n",
    "df = val_df_per_qe_with_freq[val_df_per_qe_with_freq[\"query_form\"] == query_forms[0]]\n",
    "plot = sns.regplot(\n",
    "    data=df,\n",
    "    x=\"log_ent_frequency\",\n",
    "    y=\"susceptibility_score\",\n",
    "    # logx=True,\n",
    "    # hue=\"query_form\",\n",
    "    ax=ax,\n",
    "    label=True,\n",
    "    # hue=\"is_real\",\n",
    "    # dodge=True\n",
    "    # jitter=0.1,\n",
    "    # legend=\"full\",\n",
    ")\n",
    "\n",
    "for i, row in df.iterrows():\n",
    "    ax.text(\n",
    "        row[\"log_ent_frequency\"],\n",
    "        row[\"susceptibility_score\"],\n",
    "        row[\"entity\"],\n",
    "        ha=\"right\",\n",
    "        va=\"bottom\",\n",
    "    )\n",
    "\n",
    "plot_name = \"plot_susscore_vs_queryform_real_historical_dreamfic_ent_frequency\"\n",
    "save_path = os.path.join(analysis_dir, f\"{plot_name}.png\")\n",
    "fig.savefig(save_path)\n",
    "wandb.log({plot_name: wandb.Image(fig)})"
   ]
  },
  {
   "cell_type": "code",
   "execution_count": null,
   "metadata": {},
   "outputs": [
    {
     "data": {
      "application/vnd.jupyter.widget-view+json": {
       "model_id": "7b6401ddd7264220b0bf977ae7da1c3c",
       "version_major": 2,
       "version_minor": 0
      },
      "text/plain": [
       "  0%|          | 0/4144 [00:00<?, ?it/s]"
      ]
     },
     "metadata": {},
     "output_type": "display_data"
    },
    {
     "data": {
      "application/vnd.jupyter.widget-view+json": {
       "model_id": "fb2e09780b354833a5060fc9a916f3e6",
       "version_major": 2,
       "version_minor": 0
      },
      "text/plain": [
       "  0%|          | 0/50000000 [00:00<?, ?it/s]"
      ]
     },
     "metadata": {},
     "output_type": "display_data"
    },
    {
     "data": {
      "application/vnd.jupyter.widget-view+json": {
       "model_id": "458489ba490a4dd9924e59cfda2d14b6",
       "version_major": 2,
       "version_minor": 0
      },
      "text/plain": [
       "  0%|          | 0/50000000 [00:00<?, ?it/s]"
      ]
     },
     "metadata": {},
     "output_type": "display_data"
    },
    {
     "data": {
      "application/vnd.jupyter.widget-view+json": {
       "model_id": "6d5c5f08e1814a23bc1981bc648701dd",
       "version_major": 2,
       "version_minor": 0
      },
      "text/plain": [
       "  0%|          | 0/50000000 [00:00<?, ?it/s]"
      ]
     },
     "metadata": {},
     "output_type": "display_data"
    }
   ],
   "source": [
    "# 24000 min = 2+ weeks of CPU hours to finish lmao\n",
    "from tqdm.auto import trange\n",
    "CHUNK_SIZE = 50_000_000\n",
    "VOCAB_SIZE = 50_277\n",
    "window_size = 1\n",
    "for i in trange(0, len(view), CHUNK_SIZE):\n",
    "    chunk = view[i : i + CHUNK_SIZE]\n",
    "    for j in trange(len(chunk) - (window_size - 1)):\n",
    "        ngram = tuple(chunk[j: j+window_size])\n",
    "        if ngram in unigram_tokens:\n",
    "            unigram_tokens[ngram] += 1        \n",
    "    # counts += np.bincount(chunk, minlength=len(counts))"
   ]
  },
  {
   "cell_type": "code",
   "execution_count": null,
   "metadata": {},
   "outputs": [],
   "source": [
    "unigram_frequencies"
   ]
  },
  {
   "cell_type": "code",
   "execution_count": 31,
   "metadata": {},
   "outputs": [
    {
     "data": {
      "text/plain": [
       "['ĠZimbabwe']"
      ]
     },
     "execution_count": 31,
     "metadata": {},
     "output_type": "execute_result"
    }
   ],
   "source": [
    "tokenizer.convert_ids_to_tokens([38581])"
   ]
  },
  {
   "cell_type": "code",
   "execution_count": null,
   "metadata": {},
   "outputs": [],
   "source": [
    "wandb.finish()"
   ]
  }
 ],
 "metadata": {
  "kernelspec": {
   "display_name": "Python 3 (ipykernel)",
   "language": "python",
   "name": "python3"
  },
  "language_info": {
   "codemirror_mode": {
    "name": "ipython",
    "version": 3
   },
   "file_extension": ".py",
   "mimetype": "text/x-python",
   "name": "python",
   "nbconvert_exporter": "python",
   "pygments_lexer": "ipython3",
   "version": "3.10.4"
  }
 },
 "nbformat": 4,
 "nbformat_minor": 4
}
