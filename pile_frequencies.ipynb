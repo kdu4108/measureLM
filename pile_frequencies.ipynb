{
 "cells": [
  {
   "cell_type": "code",
   "execution_count": 1,
   "id": "e88b6bf2-144a-45c8-beb0-8d09f7d1bac5",
   "metadata": {},
   "outputs": [
    {
     "data": {
      "text/plain": [
       "'1.11.1'"
      ]
     },
     "execution_count": 1,
     "metadata": {},
     "output_type": "execute_result"
    }
   ],
   "source": [
    "import scipy\n",
    "scipy.__version__"
   ]
  },
  {
   "cell_type": "code",
   "execution_count": 2,
   "id": "0d235361-3996-4255-a838-5102e1556806",
   "metadata": {},
   "outputs": [],
   "source": [
    "import pickle\n",
    "with open(\"/cluster/work/cotterell/shared_datasets/pile_deduped/pythia-deduped-bigrams\", \"rb\") as f:\n",
    "    x = pickle.load(f)\n"
   ]
  },
  {
   "cell_type": "code",
   "execution_count": 3,
   "id": "55374f22-fbcb-4c39-8ca0-d79f79cf10bf",
   "metadata": {},
   "outputs": [
    {
     "data": {
      "text/plain": [
       "<50277x50277 sparse array of type '<class 'numpy.uint32'>'\n",
       "\twith 486734660 stored elements in Compressed Sparse Row format>"
      ]
     },
     "execution_count": 3,
     "metadata": {},
     "output_type": "execute_result"
    }
   ],
   "source": [
    "x"
   ]
  },
  {
   "cell_type": "code",
   "execution_count": 12,
   "id": "788bce7e-9875-4bc3-ba90-2dffdc01b6d5",
   "metadata": {},
   "outputs": [
    {
     "data": {
      "text/plain": [
       "53"
      ]
     },
     "execution_count": 12,
     "metadata": {},
     "output_type": "execute_result"
    }
   ],
   "source": [
    "# %%timeit\n",
    "x[1320, 44205]"
   ]
  },
  {
   "cell_type": "code",
   "execution_count": 6,
   "id": "f44ac538-8d2a-48d2-9b71-57e56f48c411",
   "metadata": {},
   "outputs": [
    {
     "data": {
      "application/vnd.jupyter.widget-view+json": {
       "model_id": "3ee68b732f9c47dda07c9ec33f14538e",
       "version_major": 2,
       "version_minor": 0
      },
      "text/plain": [
       "  0%|          | 0/4144 [00:00<?, ?it/s]"
      ]
     },
     "metadata": {},
     "output_type": "display_data"
    }
   ],
   "source": [
    "from tqdm.auto import trange\n",
    "import numpy as np\n",
    "\n",
    "\n",
    "CHUNK_SIZE = 50_000_000\n",
    "VOCAB_SIZE = 50_277\n",
    "\n",
    "counts = np.memmap(\n",
    "    \"/cluster/work/cotterell/shared_datasets/pile_deduped/pythia-unigrams.bin\",\n",
    "    dtype=np.int64,\n",
    "    mode=\"w+\",\n",
    "    shape=(VOCAB_SIZE,),\n",
    ")\n",
    "counts[:] = 0\n",
    "\n",
    "view = np.memmap(\n",
    "    \"/cluster/work/cotterell/shared_datasets/pile_deduped/pythia_pile_idxmaps/pile_0.87_deduped_text_document.bin\",\n",
    "    dtype=np.uint16, \n",
    "    mode=\"r\"\n",
    ")\n",
    "\n",
    "for i in trange(0, len(view), CHUNK_SIZE):\n",
    "    chunk = view[i : i + CHUNK_SIZE]\n",
    "    counts += np.bincount(chunk, minlength=len(counts))"
   ]
  },
  {
   "cell_type": "code",
   "execution_count": 43,
   "id": "0e7b5e96-8392-48b9-975d-32d439d78df4",
   "metadata": {},
   "outputs": [
    {
     "ename": "TypeError",
     "evalue": "expected str, bytes or os.PathLike object, not memmap",
     "output_type": "error",
     "traceback": [
      "\u001b[0;31m---------------------------------------------------------------------------\u001b[0m",
      "\u001b[0;31mTypeError\u001b[0m                                 Traceback (most recent call last)",
      "Input \u001b[0;32mIn [43]\u001b[0m, in \u001b[0;36m<cell line: 1>\u001b[0;34m()\u001b[0m\n\u001b[0;32m----> 1\u001b[0m \u001b[43mnp\u001b[49m\u001b[38;5;241;43m.\u001b[39;49m\u001b[43msave\u001b[49m\u001b[43m(\u001b[49m\u001b[43mcounts\u001b[49m\u001b[43m,\u001b[49m\u001b[43m \u001b[49m\u001b[38;5;124;43m\"\u001b[39;49m\u001b[38;5;124;43m/cluster/work/cotterell/shared_datasets/pile_deduped/my-pythia-deduped-unigrams.npy\u001b[39;49m\u001b[38;5;124;43m\"\u001b[39;49m\u001b[43m)\u001b[49m\n",
      "File \u001b[0;32m<__array_function__ internals>:180\u001b[0m, in \u001b[0;36msave\u001b[0;34m(*args, **kwargs)\u001b[0m\n",
      "File \u001b[0;32m~/.local/lib/python3.10/site-packages/numpy/lib/npyio.py:515\u001b[0m, in \u001b[0;36msave\u001b[0;34m(file, arr, allow_pickle, fix_imports)\u001b[0m\n\u001b[1;32m    513\u001b[0m     file_ctx \u001b[38;5;241m=\u001b[39m contextlib\u001b[38;5;241m.\u001b[39mnullcontext(file)\n\u001b[1;32m    514\u001b[0m \u001b[38;5;28;01melse\u001b[39;00m:\n\u001b[0;32m--> 515\u001b[0m     file \u001b[38;5;241m=\u001b[39m \u001b[43mos_fspath\u001b[49m\u001b[43m(\u001b[49m\u001b[43mfile\u001b[49m\u001b[43m)\u001b[49m\n\u001b[1;32m    516\u001b[0m     \u001b[38;5;28;01mif\u001b[39;00m \u001b[38;5;129;01mnot\u001b[39;00m file\u001b[38;5;241m.\u001b[39mendswith(\u001b[38;5;124m'\u001b[39m\u001b[38;5;124m.npy\u001b[39m\u001b[38;5;124m'\u001b[39m):\n\u001b[1;32m    517\u001b[0m         file \u001b[38;5;241m=\u001b[39m file \u001b[38;5;241m+\u001b[39m \u001b[38;5;124m'\u001b[39m\u001b[38;5;124m.npy\u001b[39m\u001b[38;5;124m'\u001b[39m\n",
      "\u001b[0;31mTypeError\u001b[0m: expected str, bytes or os.PathLike object, not memmap"
     ]
    }
   ],
   "source": [
    "np.save(counts, \"/cluster/work/cotterell/shared_datasets/pile_deduped/my-pythia-deduped-unigrams.npy\")"
   ]
  },
  {
   "cell_type": "code",
   "execution_count": 16,
   "id": "3a0c660b-c482-47e1-8ce6-1faf82d6c2fc",
   "metadata": {},
   "outputs": [
    {
     "data": {
      "text/plain": [
       "143820414058"
      ]
     },
     "execution_count": 16,
     "metadata": {},
     "output_type": "execute_result"
    }
   ],
   "source": [
    "sum(counts)"
   ]
  },
  {
   "cell_type": "code",
   "execution_count": 11,
   "id": "712a756d-2443-4cd1-a9fb-64e9235950f0",
   "metadata": {},
   "outputs": [],
   "source": [
    "counts_pre = np.load(\"/cluster/work/cotterell/shared_datasets/pile_deduped/pythia-deduped-unigrams.npy\")"
   ]
  },
  {
   "cell_type": "code",
   "execution_count": 14,
   "id": "40feb049-04e0-4979-ae18-e831cac3c2d8",
   "metadata": {},
   "outputs": [
    {
     "data": {
      "text/plain": [
       "300039168000"
      ]
     },
     "execution_count": 14,
     "metadata": {},
     "output_type": "execute_result"
    }
   ],
   "source": [
    "sum(counts_pre)"
   ]
  },
  {
   "cell_type": "code",
   "execution_count": 5,
   "id": "cb09c84f-baa5-4084-9b6d-b2bc14787a8d",
   "metadata": {},
   "outputs": [
    {
     "data": {
      "text/plain": [
       "50000000"
      ]
     },
     "execution_count": 5,
     "metadata": {},
     "output_type": "execute_result"
    }
   ],
   "source": [
    "CHUNK_SIZE"
   ]
  },
  {
   "cell_type": "code",
   "execution_count": 17,
   "id": "a8b7d0cb-11be-44bf-9441-1fcf57d1ce1d",
   "metadata": {},
   "outputs": [],
   "source": [
    "counts_nondeduped = np.load(\"/cluster/work/cotterell/shared_datasets/pile_deduped/pythia-unigrams.npy\")"
   ]
  },
  {
   "cell_type": "code",
   "execution_count": 25,
   "id": "5e82332f-a221-485c-bfb6-0f84a83d5ac1",
   "metadata": {},
   "outputs": [],
   "source": [
    "from transformers import AutoTokenizer\n",
    "MODEL_ID = \"EleutherAI/pythia-6.9b-deduped\"\n",
    "tokenizer = AutoTokenizer.from_pretrained(\n",
    "    MODEL_ID,\n",
    "    padding_side=\"left\",\n",
    ")"
   ]
  },
  {
   "cell_type": "code",
   "execution_count": 41,
   "id": "e34cad87-868d-4fcd-938f-0db77fb2a07c",
   "metadata": {},
   "outputs": [
    {
     "data": {
      "text/plain": [
       "{'input_ids': [23666, 3642], 'attention_mask': [1, 1]}"
      ]
     },
     "execution_count": 41,
     "metadata": {},
     "output_type": "execute_result"
    }
   ],
   "source": [
    "tokenizer(\"Berlin\")"
   ]
  },
  {
   "cell_type": "code",
   "execution_count": null,
   "id": "cd190b52-e78a-4092-8656-6c2a03157711",
   "metadata": {},
   "outputs": [],
   "source": []
  }
 ],
 "metadata": {
  "kernelspec": {
   "display_name": "MeasureLM",
   "language": "python",
   "name": "measurelm"
  },
  "language_info": {
   "codemirror_mode": {
    "name": "ipython",
    "version": 3
   },
   "file_extension": ".py",
   "mimetype": "text/x-python",
   "name": "python",
   "nbconvert_exporter": "python",
   "pygments_lexer": "ipython3",
   "version": "3.10.13"
  }
 },
 "nbformat": 4,
 "nbformat_minor": 5
}
